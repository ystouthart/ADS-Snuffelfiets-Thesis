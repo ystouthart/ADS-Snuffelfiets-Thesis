{
 "metadata": {
  "language_info": {
   "codemirror_mode": {
    "name": "ipython",
    "version": 3
   },
   "file_extension": ".py",
   "mimetype": "text/x-python",
   "name": "python",
   "nbconvert_exporter": "python",
   "pygments_lexer": "ipython3",
   "version": "3.8.8"
  },
  "orig_nbformat": 2,
  "kernelspec": {
   "name": "python388jvsc74a57bd06bfa853000390083a35d112b16e638a8e978943b5cf163568e56c68c8f4a453e",
   "display_name": "Python 3.8.8 64-bit ('thesis': conda)"
  }
 },
 "nbformat": 4,
 "nbformat_minor": 2,
 "cells": [
  {
   "cell_type": "code",
   "execution_count": 1,
   "metadata": {},
   "outputs": [],
   "source": [
    "# Import packages\n",
    "import pandas as pd \n",
    "import numpy as np \n",
    "import geopandas as gpd\n",
    "\n",
    "from tqdm import tqdm\n",
    "import requests\n",
    "import io\n",
    "import json\n",
    "import plotly.express as px\n"
   ]
  },
  {
   "source": [
    "## Step 1: Select all 'wijken' (neighborhoods) of Utrecht City"
   ],
   "cell_type": "markdown",
   "metadata": {}
  },
  {
   "cell_type": "code",
   "execution_count": 2,
   "metadata": {},
   "outputs": [
    {
     "output_type": "execute_result",
     "data": {
      "text/plain": [
       "                        BU_NAAM  GM_NAAM  BEV_DICHTH  AANT_INW  AANT_MAN  \\\n",
       "3777     Welgelegen, Den Hommel  Utrecht        4078      1465       705   \n",
       "3778                  Oog in Al  Utrecht        9859      4345      2165   \n",
       "3779            Halve Maan-Zuid  Utrecht        8148      1575       830   \n",
       "3780           Halve Maan-Noord  Utrecht        9336      1735       830   \n",
       "3781                Lombok-Oost  Utrecht       17630      2285      1110   \n",
       "...                         ...      ...         ...       ...       ...   \n",
       "3883                 Veldhuizen  Utrecht        5631      9330      4635   \n",
       "3884             De Meern-Noord  Utrecht        3925      5735      2875   \n",
       "3885              De Meern-Zuid  Utrecht        1671      6425      3160   \n",
       "3886  Bedrijvengebied Oudenrijn  Utrecht         170       265       125   \n",
       "3887                 Rijnenburg  Utrecht          24       245       135   \n",
       "\n",
       "      AANT_VROUW  AANTAL_HH  OPP_TOT  OPP_LAND  OPP_WATER  \\\n",
       "3777         760        885       39        36          3   \n",
       "3778        2175       1535       47        44          3   \n",
       "3779         745        555       23        19          4   \n",
       "3780         900        870       25        19          6   \n",
       "3781        1175       1470       13        13          0   \n",
       "...          ...        ...      ...       ...        ...   \n",
       "3883        4690       3460      189       166         23   \n",
       "3884        2860       2080      148       146          2   \n",
       "3885        3260       2715      389       385          5   \n",
       "3886         140        115      163       158          5   \n",
       "3887         110        110     1078      1030         48   \n",
       "\n",
       "                                               geometry  \n",
       "3777  POLYGON ((135006.339 455419.888, 135197.876 45...  \n",
       "3778  POLYGON ((134605.713 455754.201, 134652.927 45...  \n",
       "3779  POLYGON ((134072.101 455635.056, 134074.419 45...  \n",
       "3780  POLYGON ((133770.466 456647.956, 133786.743 45...  \n",
       "3781  POLYGON ((135822.953 456037.558, 135715.534 45...  \n",
       "...                                                 ...  \n",
       "3883  POLYGON ((129692.900 455386.278, 129786.270 45...  \n",
       "3884  POLYGON ((130301.248 456100.621, 130314.591 45...  \n",
       "3885  POLYGON ((130607.044 455121.579, 130987.916 45...  \n",
       "3886  POLYGON ((132114.247 455104.252, 132112.341 45...  \n",
       "3887  POLYGON ((133474.440 454019.594, 133541.053 45...  \n",
       "\n",
       "[111 rows x 11 columns]"
      ],
      "text/html": "<div>\n<style scoped>\n    .dataframe tbody tr th:only-of-type {\n        vertical-align: middle;\n    }\n\n    .dataframe tbody tr th {\n        vertical-align: top;\n    }\n\n    .dataframe thead th {\n        text-align: right;\n    }\n</style>\n<table border=\"1\" class=\"dataframe\">\n  <thead>\n    <tr style=\"text-align: right;\">\n      <th></th>\n      <th>BU_NAAM</th>\n      <th>GM_NAAM</th>\n      <th>BEV_DICHTH</th>\n      <th>AANT_INW</th>\n      <th>AANT_MAN</th>\n      <th>AANT_VROUW</th>\n      <th>AANTAL_HH</th>\n      <th>OPP_TOT</th>\n      <th>OPP_LAND</th>\n      <th>OPP_WATER</th>\n      <th>geometry</th>\n    </tr>\n  </thead>\n  <tbody>\n    <tr>\n      <th>3777</th>\n      <td>Welgelegen, Den Hommel</td>\n      <td>Utrecht</td>\n      <td>4078</td>\n      <td>1465</td>\n      <td>705</td>\n      <td>760</td>\n      <td>885</td>\n      <td>39</td>\n      <td>36</td>\n      <td>3</td>\n      <td>POLYGON ((135006.339 455419.888, 135197.876 45...</td>\n    </tr>\n    <tr>\n      <th>3778</th>\n      <td>Oog in Al</td>\n      <td>Utrecht</td>\n      <td>9859</td>\n      <td>4345</td>\n      <td>2165</td>\n      <td>2175</td>\n      <td>1535</td>\n      <td>47</td>\n      <td>44</td>\n      <td>3</td>\n      <td>POLYGON ((134605.713 455754.201, 134652.927 45...</td>\n    </tr>\n    <tr>\n      <th>3779</th>\n      <td>Halve Maan-Zuid</td>\n      <td>Utrecht</td>\n      <td>8148</td>\n      <td>1575</td>\n      <td>830</td>\n      <td>745</td>\n      <td>555</td>\n      <td>23</td>\n      <td>19</td>\n      <td>4</td>\n      <td>POLYGON ((134072.101 455635.056, 134074.419 45...</td>\n    </tr>\n    <tr>\n      <th>3780</th>\n      <td>Halve Maan-Noord</td>\n      <td>Utrecht</td>\n      <td>9336</td>\n      <td>1735</td>\n      <td>830</td>\n      <td>900</td>\n      <td>870</td>\n      <td>25</td>\n      <td>19</td>\n      <td>6</td>\n      <td>POLYGON ((133770.466 456647.956, 133786.743 45...</td>\n    </tr>\n    <tr>\n      <th>3781</th>\n      <td>Lombok-Oost</td>\n      <td>Utrecht</td>\n      <td>17630</td>\n      <td>2285</td>\n      <td>1110</td>\n      <td>1175</td>\n      <td>1470</td>\n      <td>13</td>\n      <td>13</td>\n      <td>0</td>\n      <td>POLYGON ((135822.953 456037.558, 135715.534 45...</td>\n    </tr>\n    <tr>\n      <th>...</th>\n      <td>...</td>\n      <td>...</td>\n      <td>...</td>\n      <td>...</td>\n      <td>...</td>\n      <td>...</td>\n      <td>...</td>\n      <td>...</td>\n      <td>...</td>\n      <td>...</td>\n      <td>...</td>\n    </tr>\n    <tr>\n      <th>3883</th>\n      <td>Veldhuizen</td>\n      <td>Utrecht</td>\n      <td>5631</td>\n      <td>9330</td>\n      <td>4635</td>\n      <td>4690</td>\n      <td>3460</td>\n      <td>189</td>\n      <td>166</td>\n      <td>23</td>\n      <td>POLYGON ((129692.900 455386.278, 129786.270 45...</td>\n    </tr>\n    <tr>\n      <th>3884</th>\n      <td>De Meern-Noord</td>\n      <td>Utrecht</td>\n      <td>3925</td>\n      <td>5735</td>\n      <td>2875</td>\n      <td>2860</td>\n      <td>2080</td>\n      <td>148</td>\n      <td>146</td>\n      <td>2</td>\n      <td>POLYGON ((130301.248 456100.621, 130314.591 45...</td>\n    </tr>\n    <tr>\n      <th>3885</th>\n      <td>De Meern-Zuid</td>\n      <td>Utrecht</td>\n      <td>1671</td>\n      <td>6425</td>\n      <td>3160</td>\n      <td>3260</td>\n      <td>2715</td>\n      <td>389</td>\n      <td>385</td>\n      <td>5</td>\n      <td>POLYGON ((130607.044 455121.579, 130987.916 45...</td>\n    </tr>\n    <tr>\n      <th>3886</th>\n      <td>Bedrijvengebied Oudenrijn</td>\n      <td>Utrecht</td>\n      <td>170</td>\n      <td>265</td>\n      <td>125</td>\n      <td>140</td>\n      <td>115</td>\n      <td>163</td>\n      <td>158</td>\n      <td>5</td>\n      <td>POLYGON ((132114.247 455104.252, 132112.341 45...</td>\n    </tr>\n    <tr>\n      <th>3887</th>\n      <td>Rijnenburg</td>\n      <td>Utrecht</td>\n      <td>24</td>\n      <td>245</td>\n      <td>135</td>\n      <td>110</td>\n      <td>110</td>\n      <td>1078</td>\n      <td>1030</td>\n      <td>48</td>\n      <td>POLYGON ((133474.440 454019.594, 133541.053 45...</td>\n    </tr>\n  </tbody>\n</table>\n<p>111 rows × 11 columns</p>\n</div>"
     },
     "metadata": {},
     "execution_count": 2
    }
   ],
   "source": [
    "neighborhoods = gpd.read_file(\"../data/external/WijkBuurtkaart_2020_v1/buurt_2020_v1.shp\")\n",
    "utrecht_neigh = neighborhoods[['BU_NAAM','GM_NAAM','BEV_DICHTH','AANT_INW', 'AANT_MAN', 'AANT_VROUW','AANTAL_HH','OPP_TOT', 'OPP_LAND', 'OPP_WATER','geometry']][neighborhoods[\"GM_NAAM\"]==\"Utrecht\"]\n",
    "utrecht_neigh"
   ]
  },
  {
   "source": [
    "## Step 2: Add \"centroid\" as a measurement station to each neighborhood"
   ],
   "cell_type": "markdown",
   "metadata": {}
  },
  {
   "cell_type": "code",
   "execution_count": 3,
   "metadata": {},
   "outputs": [],
   "source": [
    "utrecht_neigh[\"measurement_station\"] = utrecht_neigh.representative_point()"
   ]
  },
  {
   "cell_type": "code",
   "execution_count": 4,
   "metadata": {},
   "outputs": [
    {
     "output_type": "execute_result",
     "data": {
      "text/plain": [
       "                        BU_NAAM  GM_NAAM  BEV_DICHTH  AANT_INW  AANT_MAN  \\\n",
       "3777     Welgelegen, Den Hommel  Utrecht        4078      1465       705   \n",
       "3778                  Oog in Al  Utrecht        9859      4345      2165   \n",
       "3779            Halve Maan-Zuid  Utrecht        8148      1575       830   \n",
       "3780           Halve Maan-Noord  Utrecht        9336      1735       830   \n",
       "3781                Lombok-Oost  Utrecht       17630      2285      1110   \n",
       "...                         ...      ...         ...       ...       ...   \n",
       "3883                 Veldhuizen  Utrecht        5631      9330      4635   \n",
       "3884             De Meern-Noord  Utrecht        3925      5735      2875   \n",
       "3885              De Meern-Zuid  Utrecht        1671      6425      3160   \n",
       "3886  Bedrijvengebied Oudenrijn  Utrecht         170       265       125   \n",
       "3887                 Rijnenburg  Utrecht          24       245       135   \n",
       "\n",
       "      AANT_VROUW  AANTAL_HH  OPP_TOT  OPP_LAND  OPP_WATER  \\\n",
       "3777         760        885       39        36          3   \n",
       "3778        2175       1535       47        44          3   \n",
       "3779         745        555       23        19          4   \n",
       "3780         900        870       25        19          6   \n",
       "3781        1175       1470       13        13          0   \n",
       "...          ...        ...      ...       ...        ...   \n",
       "3883        4690       3460      189       166         23   \n",
       "3884        2860       2080      148       146          2   \n",
       "3885        3260       2715      389       385          5   \n",
       "3886         140        115      163       158          5   \n",
       "3887         110        110     1078      1030         48   \n",
       "\n",
       "                                               geometry  \\\n",
       "3777  POLYGON ((135006.339 455419.888, 135197.876 45...   \n",
       "3778  POLYGON ((134605.713 455754.201, 134652.927 45...   \n",
       "3779  POLYGON ((134072.101 455635.056, 134074.419 45...   \n",
       "3780  POLYGON ((133770.466 456647.956, 133786.743 45...   \n",
       "3781  POLYGON ((135822.953 456037.558, 135715.534 45...   \n",
       "...                                                 ...   \n",
       "3883  POLYGON ((129692.900 455386.278, 129786.270 45...   \n",
       "3884  POLYGON ((130301.248 456100.621, 130314.591 45...   \n",
       "3885  POLYGON ((130607.044 455121.579, 130987.916 45...   \n",
       "3886  POLYGON ((132114.247 455104.252, 132112.341 45...   \n",
       "3887  POLYGON ((133474.440 454019.594, 133541.053 45...   \n",
       "\n",
       "                measurement_station  \n",
       "3777  POINT (134783.298 455066.413)  \n",
       "3778  POINT (134526.708 455515.178)  \n",
       "3779  POINT (134062.946 455226.891)  \n",
       "3780  POINT (134019.414 456085.584)  \n",
       "3781  POINT (135529.769 455965.237)  \n",
       "...                             ...  \n",
       "3883  POINT (129497.100 454808.760)  \n",
       "3884  POINT (130805.664 455491.330)  \n",
       "3885  POINT (129878.296 453978.297)  \n",
       "3886  POINT (131857.283 454254.670)  \n",
       "3887  POINT (131637.326 451377.698)  \n",
       "\n",
       "[111 rows x 12 columns]"
      ],
      "text/html": "<div>\n<style scoped>\n    .dataframe tbody tr th:only-of-type {\n        vertical-align: middle;\n    }\n\n    .dataframe tbody tr th {\n        vertical-align: top;\n    }\n\n    .dataframe thead th {\n        text-align: right;\n    }\n</style>\n<table border=\"1\" class=\"dataframe\">\n  <thead>\n    <tr style=\"text-align: right;\">\n      <th></th>\n      <th>BU_NAAM</th>\n      <th>GM_NAAM</th>\n      <th>BEV_DICHTH</th>\n      <th>AANT_INW</th>\n      <th>AANT_MAN</th>\n      <th>AANT_VROUW</th>\n      <th>AANTAL_HH</th>\n      <th>OPP_TOT</th>\n      <th>OPP_LAND</th>\n      <th>OPP_WATER</th>\n      <th>geometry</th>\n      <th>measurement_station</th>\n    </tr>\n  </thead>\n  <tbody>\n    <tr>\n      <th>3777</th>\n      <td>Welgelegen, Den Hommel</td>\n      <td>Utrecht</td>\n      <td>4078</td>\n      <td>1465</td>\n      <td>705</td>\n      <td>760</td>\n      <td>885</td>\n      <td>39</td>\n      <td>36</td>\n      <td>3</td>\n      <td>POLYGON ((135006.339 455419.888, 135197.876 45...</td>\n      <td>POINT (134783.298 455066.413)</td>\n    </tr>\n    <tr>\n      <th>3778</th>\n      <td>Oog in Al</td>\n      <td>Utrecht</td>\n      <td>9859</td>\n      <td>4345</td>\n      <td>2165</td>\n      <td>2175</td>\n      <td>1535</td>\n      <td>47</td>\n      <td>44</td>\n      <td>3</td>\n      <td>POLYGON ((134605.713 455754.201, 134652.927 45...</td>\n      <td>POINT (134526.708 455515.178)</td>\n    </tr>\n    <tr>\n      <th>3779</th>\n      <td>Halve Maan-Zuid</td>\n      <td>Utrecht</td>\n      <td>8148</td>\n      <td>1575</td>\n      <td>830</td>\n      <td>745</td>\n      <td>555</td>\n      <td>23</td>\n      <td>19</td>\n      <td>4</td>\n      <td>POLYGON ((134072.101 455635.056, 134074.419 45...</td>\n      <td>POINT (134062.946 455226.891)</td>\n    </tr>\n    <tr>\n      <th>3780</th>\n      <td>Halve Maan-Noord</td>\n      <td>Utrecht</td>\n      <td>9336</td>\n      <td>1735</td>\n      <td>830</td>\n      <td>900</td>\n      <td>870</td>\n      <td>25</td>\n      <td>19</td>\n      <td>6</td>\n      <td>POLYGON ((133770.466 456647.956, 133786.743 45...</td>\n      <td>POINT (134019.414 456085.584)</td>\n    </tr>\n    <tr>\n      <th>3781</th>\n      <td>Lombok-Oost</td>\n      <td>Utrecht</td>\n      <td>17630</td>\n      <td>2285</td>\n      <td>1110</td>\n      <td>1175</td>\n      <td>1470</td>\n      <td>13</td>\n      <td>13</td>\n      <td>0</td>\n      <td>POLYGON ((135822.953 456037.558, 135715.534 45...</td>\n      <td>POINT (135529.769 455965.237)</td>\n    </tr>\n    <tr>\n      <th>...</th>\n      <td>...</td>\n      <td>...</td>\n      <td>...</td>\n      <td>...</td>\n      <td>...</td>\n      <td>...</td>\n      <td>...</td>\n      <td>...</td>\n      <td>...</td>\n      <td>...</td>\n      <td>...</td>\n      <td>...</td>\n    </tr>\n    <tr>\n      <th>3883</th>\n      <td>Veldhuizen</td>\n      <td>Utrecht</td>\n      <td>5631</td>\n      <td>9330</td>\n      <td>4635</td>\n      <td>4690</td>\n      <td>3460</td>\n      <td>189</td>\n      <td>166</td>\n      <td>23</td>\n      <td>POLYGON ((129692.900 455386.278, 129786.270 45...</td>\n      <td>POINT (129497.100 454808.760)</td>\n    </tr>\n    <tr>\n      <th>3884</th>\n      <td>De Meern-Noord</td>\n      <td>Utrecht</td>\n      <td>3925</td>\n      <td>5735</td>\n      <td>2875</td>\n      <td>2860</td>\n      <td>2080</td>\n      <td>148</td>\n      <td>146</td>\n      <td>2</td>\n      <td>POLYGON ((130301.248 456100.621, 130314.591 45...</td>\n      <td>POINT (130805.664 455491.330)</td>\n    </tr>\n    <tr>\n      <th>3885</th>\n      <td>De Meern-Zuid</td>\n      <td>Utrecht</td>\n      <td>1671</td>\n      <td>6425</td>\n      <td>3160</td>\n      <td>3260</td>\n      <td>2715</td>\n      <td>389</td>\n      <td>385</td>\n      <td>5</td>\n      <td>POLYGON ((130607.044 455121.579, 130987.916 45...</td>\n      <td>POINT (129878.296 453978.297)</td>\n    </tr>\n    <tr>\n      <th>3886</th>\n      <td>Bedrijvengebied Oudenrijn</td>\n      <td>Utrecht</td>\n      <td>170</td>\n      <td>265</td>\n      <td>125</td>\n      <td>140</td>\n      <td>115</td>\n      <td>163</td>\n      <td>158</td>\n      <td>5</td>\n      <td>POLYGON ((132114.247 455104.252, 132112.341 45...</td>\n      <td>POINT (131857.283 454254.670)</td>\n    </tr>\n    <tr>\n      <th>3887</th>\n      <td>Rijnenburg</td>\n      <td>Utrecht</td>\n      <td>24</td>\n      <td>245</td>\n      <td>135</td>\n      <td>110</td>\n      <td>110</td>\n      <td>1078</td>\n      <td>1030</td>\n      <td>48</td>\n      <td>POLYGON ((133474.440 454019.594, 133541.053 45...</td>\n      <td>POINT (131637.326 451377.698)</td>\n    </tr>\n  </tbody>\n</table>\n<p>111 rows × 12 columns</p>\n</div>"
     },
     "metadata": {},
     "execution_count": 4
    }
   ],
   "source": [
    "utrecht_neigh"
   ]
  },
  {
   "source": [
    "## Step 3: Spatial Join met Snuffelfiets datapunten"
   ],
   "cell_type": "markdown",
   "metadata": {}
  },
  {
   "cell_type": "code",
   "execution_count": 6,
   "metadata": {},
   "outputs": [
    {
     "output_type": "error",
     "ename": "ValueError",
     "evalue": "'index_left' and 'index_right' cannot be names in the frames being joined",
     "traceback": [
      "\u001b[1;31m---------------------------------------------------------------------------\u001b[0m",
      "\u001b[1;31mValueError\u001b[0m                                Traceback (most recent call last)",
      "\u001b[1;32m<ipython-input-6-fd3021837b4f>\u001b[0m in \u001b[0;36m<module>\u001b[1;34m\u001b[0m\n\u001b[0;32m      3\u001b[0m \u001b[0mgeo_df\u001b[0m \u001b[1;33m=\u001b[0m \u001b[0mgeo_df\u001b[0m\u001b[1;33m.\u001b[0m\u001b[0mto_crs\u001b[0m\u001b[1;33m(\u001b[0m\u001b[1;34m\"EPSG:28992\"\u001b[0m\u001b[1;33m)\u001b[0m\u001b[1;33m\u001b[0m\u001b[1;33m\u001b[0m\u001b[0m\n\u001b[0;32m      4\u001b[0m \u001b[1;33m\u001b[0m\u001b[0m\n\u001b[1;32m----> 5\u001b[1;33m \u001b[0mgeo_df\u001b[0m \u001b[1;33m=\u001b[0m \u001b[0mgpd\u001b[0m\u001b[1;33m.\u001b[0m\u001b[0msjoin\u001b[0m\u001b[1;33m(\u001b[0m\u001b[0mgeo_df\u001b[0m\u001b[1;33m,\u001b[0m \u001b[0mutrecht_neigh\u001b[0m\u001b[1;33m,\u001b[0m \u001b[0mhow\u001b[0m\u001b[1;33m=\u001b[0m\u001b[1;34m\"inner\"\u001b[0m\u001b[1;33m,\u001b[0m \u001b[0mop\u001b[0m\u001b[1;33m=\u001b[0m\u001b[1;34m'within'\u001b[0m\u001b[1;33m)\u001b[0m\u001b[1;33m\u001b[0m\u001b[1;33m\u001b[0m\u001b[0m\n\u001b[0m\u001b[0;32m      6\u001b[0m \u001b[1;33m\u001b[0m\u001b[0m\n\u001b[0;32m      7\u001b[0m \u001b[0mgeo_df\u001b[0m\u001b[1;33m\u001b[0m\u001b[1;33m\u001b[0m\u001b[0m\n",
      "\u001b[1;32m~\\anaconda3\\envs\\thesis\\lib\\site-packages\\geopandas\\tools\\sjoin.py\u001b[0m in \u001b[0;36msjoin\u001b[1;34m(left_df, right_df, how, op, lsuffix, rsuffix)\u001b[0m\n\u001b[0;32m     85\u001b[0m     \u001b[0mdimension\u001b[0m \u001b[1;32mis\u001b[0m \u001b[1;32mnot\u001b[0m \u001b[0mtaken\u001b[0m \u001b[0minto\u001b[0m \u001b[0maccount\u001b[0m\u001b[1;33m.\u001b[0m\u001b[1;33m\u001b[0m\u001b[1;33m\u001b[0m\u001b[0m\n\u001b[0;32m     86\u001b[0m     \"\"\"\n\u001b[1;32m---> 87\u001b[1;33m     \u001b[0m_basic_checks\u001b[0m\u001b[1;33m(\u001b[0m\u001b[0mleft_df\u001b[0m\u001b[1;33m,\u001b[0m \u001b[0mright_df\u001b[0m\u001b[1;33m,\u001b[0m \u001b[0mhow\u001b[0m\u001b[1;33m,\u001b[0m \u001b[0mlsuffix\u001b[0m\u001b[1;33m,\u001b[0m \u001b[0mrsuffix\u001b[0m\u001b[1;33m)\u001b[0m\u001b[1;33m\u001b[0m\u001b[1;33m\u001b[0m\u001b[0m\n\u001b[0m\u001b[0;32m     88\u001b[0m \u001b[1;33m\u001b[0m\u001b[0m\n\u001b[0;32m     89\u001b[0m     \u001b[0mindices\u001b[0m \u001b[1;33m=\u001b[0m \u001b[0m_geom_predicate_query\u001b[0m\u001b[1;33m(\u001b[0m\u001b[0mleft_df\u001b[0m\u001b[1;33m,\u001b[0m \u001b[0mright_df\u001b[0m\u001b[1;33m,\u001b[0m \u001b[0mop\u001b[0m\u001b[1;33m)\u001b[0m\u001b[1;33m\u001b[0m\u001b[1;33m\u001b[0m\u001b[0m\n",
      "\u001b[1;32m~\\anaconda3\\envs\\thesis\\lib\\site-packages\\geopandas\\tools\\sjoin.py\u001b[0m in \u001b[0;36m_basic_checks\u001b[1;34m(left_df, right_df, how, lsuffix, rsuffix)\u001b[0m\n\u001b[0;32m    138\u001b[0m         \u001b[0mright_df\u001b[0m\u001b[1;33m.\u001b[0m\u001b[0mcolumns\u001b[0m\u001b[1;33m.\u001b[0m\u001b[0misin\u001b[0m\u001b[1;33m(\u001b[0m\u001b[1;33m[\u001b[0m\u001b[0mindex_left\u001b[0m\u001b[1;33m,\u001b[0m \u001b[0mindex_right\u001b[0m\u001b[1;33m]\u001b[0m\u001b[1;33m)\u001b[0m\u001b[1;33m\u001b[0m\u001b[1;33m\u001b[0m\u001b[0m\n\u001b[0;32m    139\u001b[0m     ):\n\u001b[1;32m--> 140\u001b[1;33m         raise ValueError(\n\u001b[0m\u001b[0;32m    141\u001b[0m             \u001b[1;34m\"'{0}' and '{1}' cannot be names in the frames being\"\u001b[0m\u001b[1;33m\u001b[0m\u001b[1;33m\u001b[0m\u001b[0m\n\u001b[0;32m    142\u001b[0m             \u001b[1;34m\" joined\"\u001b[0m\u001b[1;33m.\u001b[0m\u001b[0mformat\u001b[0m\u001b[1;33m(\u001b[0m\u001b[0mindex_left\u001b[0m\u001b[1;33m,\u001b[0m \u001b[0mindex_right\u001b[0m\u001b[1;33m)\u001b[0m\u001b[1;33m\u001b[0m\u001b[1;33m\u001b[0m\u001b[0m\n",
      "\u001b[1;31mValueError\u001b[0m: 'index_left' and 'index_right' cannot be names in the frames being joined"
     ]
    }
   ],
   "source": [
    "df = pd.read_csv(\"../data/external/city/resource_2020_06_15_2020_06_22.csv\")\n",
    "geo_df = gpd.GeoDataFrame(df, geometry=gpd.points_from_xy(df['lon'],df['lat'], crs=\"EPSG:4326\"))\n",
    "geo_df = geo_df.to_crs(\"EPSG:28992\")\n",
    "\n",
    "geo_df = gpd.sjoin(geo_df, utrecht_neigh, how=\"inner\", op='within')\n",
    "\n",
    "geo_df"
   ]
  },
  {
   "source": [
    "## Step 4: Median PM2.5 value per neighborhood, per day, per hour = timeseries per neighborhood"
   ],
   "cell_type": "markdown",
   "metadata": {}
  },
  {
   "cell_type": "code",
   "execution_count": 128,
   "metadata": {},
   "outputs": [],
   "source": [
    "geo_df['recording_time'] = pd.to_datetime(df['recording_time'], format=\"%Y-%m-%d %H:%M:%S\")\n",
    "geo_df['date'] = geo_df['recording_time'].dt.date\n",
    "geo_df['hour'] = geo_df['recording_time'].dt.hour"
   ]
  },
  {
   "cell_type": "code",
   "execution_count": 129,
   "metadata": {},
   "outputs": [],
   "source": [
    "test = geo_df[[\"BU_NAAM\", \"date\", \"hour\", \"pm2_5\"]].groupby([\"BU_NAAM\", \"date\", \"hour\"]).median().reset_index()"
   ]
  },
  {
   "cell_type": "code",
   "execution_count": 82,
   "metadata": {},
   "outputs": [
    {
     "output_type": "display_data",
     "data": {
      "application/vnd.plotly.v1+json": {
       "config": {
        "plotlyServerURL": "https://plot.ly"
       },
       "data": [
        {
         "alignmentgroup": "True",
         "hovertemplate": "BU_NAAM=%{x}<br>pm2_5=%{y}<extra></extra>",
         "legendgroup": "",
         "marker": {
          "color": "#636efa"
         },
         "name": "",
         "offsetgroup": "",
         "orientation": "v",
         "showlegend": false,
         "textposition": "auto",
         "type": "bar",
         "x": [
          "Voordorp en Voorveldsepolder",
          "Tuinwijk-Oost",
          "Hoog-Catharijne NS en Jaarbeurs",
          "Maarschalkerweerd en Mereveld",
          "Rijnsweerd",
          "Zeeheldenbuurt, Hengeveldstraat en omgeving",
          "Huizingalaan, K. Doormanlaan en omgeving",
          "Lunetten-Noord",
          "Buiten Wittevrouwen",
          "Utrecht Science Park",
          "Bedrijvengebied Kanaleneiland",
          "Tolsteeg en Rotsoord",
          "Watervogelbuurt",
          "Wilhelminapark en omgeving",
          "Domplein, Neude, Janskerkhof",
          "Oudwijk",
          "Lunetten-Zuid",
          "Leeuwesteyn",
          "De Meern-Zuid",
          "Rivierenwijk",
          "Schildersbuurt",
          "Bedrijvengebied Papendorp",
          "Vogelenbuurt",
          "Wijk C",
          "Tuindorp-Oost",
          "Nieuw Engeland, Th. a. Kempisplantsoen en omgeving",
          "Nieuw Hoograven-Zuid",
          "Leidseweg en omgeving",
          "Hoge Weide",
          "Pijlsweerd-Zuid",
          "Rijnenburg",
          "Poldergebied Overvecht",
          "Welgelegen, Den Hommel",
          "Lauwerecht",
          "Oog in Al",
          "Wittevrouwen",
          "Lange Nieuwstraat en omgeving",
          "Galgenwaard en omgeving",
          "Breedstraat en Plompetorengracht en omgeving",
          "Lombok-West",
          "Leidsche Rijn-Centrum",
          "Nobelstraat en omgeving",
          "Zamenhofdreef en omgeving",
          "De Meern-Noord",
          "L. Napoleonplantsoen en omgeving",
          "Rubenslaan en omgeving",
          "Abstede, Tolsteegsingel e.o.",
          "Lange Elisabethstraat, Mariaplaats en omgeving",
          "Máximapark",
          "Ondiep",
          "Schepenbuurt, Cartesiusweg e.o.",
          "Grauwaart",
          "Wolga- en Donaudreef en omgeving",
          "Lombok-Oost",
          "Taag- en Rubicondreef en omgeving",
          "Halve Maan-Zuid",
          "Laan van Nieuw-Guinea, Spinozaweg e.o.",
          "Langerak",
          "Oud Hoograven-Noord",
          "Julianapark en omgeving",
          "Vleuterweide-Noord/Oost/Centrum",
          "Egelantierstraat, Mariëndaalstraat e.o.",
          "Bleekstraat en omgeving",
          "Bokkenbuurt",
          "Dichterswijk",
          "Geuzenwijk",
          "Prins Bernhardplein en omgeving",
          "Pijlsweerd-Noord",
          "Neckardreef en omgeving",
          "Halve Maan-Noord",
          "Oud Hoograven-Zuid",
          "Sterrenwijk",
          "Nijenoord, Hoogstraat en omgeving",
          "Nieuwegracht-Oost",
          "Nieuw Hoograven-Noord",
          "Het Zand-Oost",
          "Hooch Boulandt",
          "Bedrijvengebied Oudenrijn",
          "Tuindorp en Van Lieflandlaan-West",
          "Transwijk-Noord",
          "2e Daalsebuurt en omgeving",
          "Haarzuilens en omgeving",
          "Bedrijventerrein en omgeving",
          "Kanaleneiland-Zuid",
          "Vleuterweide-West",
          "Staatsliedenbuurt",
          "Het Zand-West",
          "Tigrisdreef en omgeving",
          "Elinkwijk en omgeving",
          "Zuilen-Noord",
          "Springweg en omgeving Geertebuurt",
          "Transwijk-Zuid",
          "Bedrijventerrein Lageweide",
          "Rijnvliet",
          "Zambesidreef en omgeving",
          "Vechtzoom-zuid",
          "Vleuten",
          "Kanaleneiland-Noord",
          "Terwijde-West",
          "Vleuterweide-Zuid",
          "Vechtzoom-noord, Klopvaart",
          "Tuinwijk-West",
          "Parkwijk-Zuid",
          "Schaakbuurt en omgeving",
          "Haarrijn",
          "Terwijde-Oost",
          "Parkwijk-Noord",
          "Bedrijvengebied Strijkviertel",
          "Veldhuizen",
          "Queeckhovenplein en omgeving"
         ],
         "xaxis": "x",
         "y": [
          49,
          48,
          47,
          46,
          44,
          43,
          42,
          41,
          40,
          40,
          39,
          38,
          38,
          36,
          36,
          36,
          35,
          35,
          32,
          31,
          31,
          31,
          31,
          30,
          30,
          30,
          29,
          29,
          29,
          29,
          29,
          28,
          28,
          27,
          26,
          26,
          26,
          26,
          25,
          25,
          24,
          24,
          24,
          24,
          23,
          23,
          22,
          21,
          21,
          21,
          20,
          19,
          19,
          19,
          19,
          18,
          18,
          17,
          17,
          17,
          17,
          16,
          16,
          16,
          16,
          15,
          15,
          15,
          15,
          15,
          15,
          15,
          15,
          14,
          14,
          14,
          14,
          14,
          14,
          13,
          13,
          13,
          12,
          12,
          12,
          12,
          12,
          11,
          11,
          11,
          11,
          11,
          11,
          10,
          10,
          10,
          10,
          10,
          9,
          9,
          9,
          9,
          8,
          7,
          6,
          6,
          5,
          5,
          4,
          3
         ],
         "yaxis": "y"
        }
       ],
       "layout": {
        "barmode": "relative",
        "legend": {
         "tracegroupgap": 0
        },
        "template": {
         "data": {
          "bar": [
           {
            "error_x": {
             "color": "#2a3f5f"
            },
            "error_y": {
             "color": "#2a3f5f"
            },
            "marker": {
             "line": {
              "color": "#E5ECF6",
              "width": 0.5
             }
            },
            "type": "bar"
           }
          ],
          "barpolar": [
           {
            "marker": {
             "line": {
              "color": "#E5ECF6",
              "width": 0.5
             }
            },
            "type": "barpolar"
           }
          ],
          "carpet": [
           {
            "aaxis": {
             "endlinecolor": "#2a3f5f",
             "gridcolor": "white",
             "linecolor": "white",
             "minorgridcolor": "white",
             "startlinecolor": "#2a3f5f"
            },
            "baxis": {
             "endlinecolor": "#2a3f5f",
             "gridcolor": "white",
             "linecolor": "white",
             "minorgridcolor": "white",
             "startlinecolor": "#2a3f5f"
            },
            "type": "carpet"
           }
          ],
          "choropleth": [
           {
            "colorbar": {
             "outlinewidth": 0,
             "ticks": ""
            },
            "type": "choropleth"
           }
          ],
          "contour": [
           {
            "colorbar": {
             "outlinewidth": 0,
             "ticks": ""
            },
            "colorscale": [
             [
              0,
              "#0d0887"
             ],
             [
              0.1111111111111111,
              "#46039f"
             ],
             [
              0.2222222222222222,
              "#7201a8"
             ],
             [
              0.3333333333333333,
              "#9c179e"
             ],
             [
              0.4444444444444444,
              "#bd3786"
             ],
             [
              0.5555555555555556,
              "#d8576b"
             ],
             [
              0.6666666666666666,
              "#ed7953"
             ],
             [
              0.7777777777777778,
              "#fb9f3a"
             ],
             [
              0.8888888888888888,
              "#fdca26"
             ],
             [
              1,
              "#f0f921"
             ]
            ],
            "type": "contour"
           }
          ],
          "contourcarpet": [
           {
            "colorbar": {
             "outlinewidth": 0,
             "ticks": ""
            },
            "type": "contourcarpet"
           }
          ],
          "heatmap": [
           {
            "colorbar": {
             "outlinewidth": 0,
             "ticks": ""
            },
            "colorscale": [
             [
              0,
              "#0d0887"
             ],
             [
              0.1111111111111111,
              "#46039f"
             ],
             [
              0.2222222222222222,
              "#7201a8"
             ],
             [
              0.3333333333333333,
              "#9c179e"
             ],
             [
              0.4444444444444444,
              "#bd3786"
             ],
             [
              0.5555555555555556,
              "#d8576b"
             ],
             [
              0.6666666666666666,
              "#ed7953"
             ],
             [
              0.7777777777777778,
              "#fb9f3a"
             ],
             [
              0.8888888888888888,
              "#fdca26"
             ],
             [
              1,
              "#f0f921"
             ]
            ],
            "type": "heatmap"
           }
          ],
          "heatmapgl": [
           {
            "colorbar": {
             "outlinewidth": 0,
             "ticks": ""
            },
            "colorscale": [
             [
              0,
              "#0d0887"
             ],
             [
              0.1111111111111111,
              "#46039f"
             ],
             [
              0.2222222222222222,
              "#7201a8"
             ],
             [
              0.3333333333333333,
              "#9c179e"
             ],
             [
              0.4444444444444444,
              "#bd3786"
             ],
             [
              0.5555555555555556,
              "#d8576b"
             ],
             [
              0.6666666666666666,
              "#ed7953"
             ],
             [
              0.7777777777777778,
              "#fb9f3a"
             ],
             [
              0.8888888888888888,
              "#fdca26"
             ],
             [
              1,
              "#f0f921"
             ]
            ],
            "type": "heatmapgl"
           }
          ],
          "histogram": [
           {
            "marker": {
             "colorbar": {
              "outlinewidth": 0,
              "ticks": ""
             }
            },
            "type": "histogram"
           }
          ],
          "histogram2d": [
           {
            "colorbar": {
             "outlinewidth": 0,
             "ticks": ""
            },
            "colorscale": [
             [
              0,
              "#0d0887"
             ],
             [
              0.1111111111111111,
              "#46039f"
             ],
             [
              0.2222222222222222,
              "#7201a8"
             ],
             [
              0.3333333333333333,
              "#9c179e"
             ],
             [
              0.4444444444444444,
              "#bd3786"
             ],
             [
              0.5555555555555556,
              "#d8576b"
             ],
             [
              0.6666666666666666,
              "#ed7953"
             ],
             [
              0.7777777777777778,
              "#fb9f3a"
             ],
             [
              0.8888888888888888,
              "#fdca26"
             ],
             [
              1,
              "#f0f921"
             ]
            ],
            "type": "histogram2d"
           }
          ],
          "histogram2dcontour": [
           {
            "colorbar": {
             "outlinewidth": 0,
             "ticks": ""
            },
            "colorscale": [
             [
              0,
              "#0d0887"
             ],
             [
              0.1111111111111111,
              "#46039f"
             ],
             [
              0.2222222222222222,
              "#7201a8"
             ],
             [
              0.3333333333333333,
              "#9c179e"
             ],
             [
              0.4444444444444444,
              "#bd3786"
             ],
             [
              0.5555555555555556,
              "#d8576b"
             ],
             [
              0.6666666666666666,
              "#ed7953"
             ],
             [
              0.7777777777777778,
              "#fb9f3a"
             ],
             [
              0.8888888888888888,
              "#fdca26"
             ],
             [
              1,
              "#f0f921"
             ]
            ],
            "type": "histogram2dcontour"
           }
          ],
          "mesh3d": [
           {
            "colorbar": {
             "outlinewidth": 0,
             "ticks": ""
            },
            "type": "mesh3d"
           }
          ],
          "parcoords": [
           {
            "line": {
             "colorbar": {
              "outlinewidth": 0,
              "ticks": ""
             }
            },
            "type": "parcoords"
           }
          ],
          "pie": [
           {
            "automargin": true,
            "type": "pie"
           }
          ],
          "scatter": [
           {
            "marker": {
             "colorbar": {
              "outlinewidth": 0,
              "ticks": ""
             }
            },
            "type": "scatter"
           }
          ],
          "scatter3d": [
           {
            "line": {
             "colorbar": {
              "outlinewidth": 0,
              "ticks": ""
             }
            },
            "marker": {
             "colorbar": {
              "outlinewidth": 0,
              "ticks": ""
             }
            },
            "type": "scatter3d"
           }
          ],
          "scattercarpet": [
           {
            "marker": {
             "colorbar": {
              "outlinewidth": 0,
              "ticks": ""
             }
            },
            "type": "scattercarpet"
           }
          ],
          "scattergeo": [
           {
            "marker": {
             "colorbar": {
              "outlinewidth": 0,
              "ticks": ""
             }
            },
            "type": "scattergeo"
           }
          ],
          "scattergl": [
           {
            "marker": {
             "colorbar": {
              "outlinewidth": 0,
              "ticks": ""
             }
            },
            "type": "scattergl"
           }
          ],
          "scattermapbox": [
           {
            "marker": {
             "colorbar": {
              "outlinewidth": 0,
              "ticks": ""
             }
            },
            "type": "scattermapbox"
           }
          ],
          "scatterpolar": [
           {
            "marker": {
             "colorbar": {
              "outlinewidth": 0,
              "ticks": ""
             }
            },
            "type": "scatterpolar"
           }
          ],
          "scatterpolargl": [
           {
            "marker": {
             "colorbar": {
              "outlinewidth": 0,
              "ticks": ""
             }
            },
            "type": "scatterpolargl"
           }
          ],
          "scatterternary": [
           {
            "marker": {
             "colorbar": {
              "outlinewidth": 0,
              "ticks": ""
             }
            },
            "type": "scatterternary"
           }
          ],
          "surface": [
           {
            "colorbar": {
             "outlinewidth": 0,
             "ticks": ""
            },
            "colorscale": [
             [
              0,
              "#0d0887"
             ],
             [
              0.1111111111111111,
              "#46039f"
             ],
             [
              0.2222222222222222,
              "#7201a8"
             ],
             [
              0.3333333333333333,
              "#9c179e"
             ],
             [
              0.4444444444444444,
              "#bd3786"
             ],
             [
              0.5555555555555556,
              "#d8576b"
             ],
             [
              0.6666666666666666,
              "#ed7953"
             ],
             [
              0.7777777777777778,
              "#fb9f3a"
             ],
             [
              0.8888888888888888,
              "#fdca26"
             ],
             [
              1,
              "#f0f921"
             ]
            ],
            "type": "surface"
           }
          ],
          "table": [
           {
            "cells": {
             "fill": {
              "color": "#EBF0F8"
             },
             "line": {
              "color": "white"
             }
            },
            "header": {
             "fill": {
              "color": "#C8D4E3"
             },
             "line": {
              "color": "white"
             }
            },
            "type": "table"
           }
          ]
         },
         "layout": {
          "annotationdefaults": {
           "arrowcolor": "#2a3f5f",
           "arrowhead": 0,
           "arrowwidth": 1
          },
          "autotypenumbers": "strict",
          "coloraxis": {
           "colorbar": {
            "outlinewidth": 0,
            "ticks": ""
           }
          },
          "colorscale": {
           "diverging": [
            [
             0,
             "#8e0152"
            ],
            [
             0.1,
             "#c51b7d"
            ],
            [
             0.2,
             "#de77ae"
            ],
            [
             0.3,
             "#f1b6da"
            ],
            [
             0.4,
             "#fde0ef"
            ],
            [
             0.5,
             "#f7f7f7"
            ],
            [
             0.6,
             "#e6f5d0"
            ],
            [
             0.7,
             "#b8e186"
            ],
            [
             0.8,
             "#7fbc41"
            ],
            [
             0.9,
             "#4d9221"
            ],
            [
             1,
             "#276419"
            ]
           ],
           "sequential": [
            [
             0,
             "#0d0887"
            ],
            [
             0.1111111111111111,
             "#46039f"
            ],
            [
             0.2222222222222222,
             "#7201a8"
            ],
            [
             0.3333333333333333,
             "#9c179e"
            ],
            [
             0.4444444444444444,
             "#bd3786"
            ],
            [
             0.5555555555555556,
             "#d8576b"
            ],
            [
             0.6666666666666666,
             "#ed7953"
            ],
            [
             0.7777777777777778,
             "#fb9f3a"
            ],
            [
             0.8888888888888888,
             "#fdca26"
            ],
            [
             1,
             "#f0f921"
            ]
           ],
           "sequentialminus": [
            [
             0,
             "#0d0887"
            ],
            [
             0.1111111111111111,
             "#46039f"
            ],
            [
             0.2222222222222222,
             "#7201a8"
            ],
            [
             0.3333333333333333,
             "#9c179e"
            ],
            [
             0.4444444444444444,
             "#bd3786"
            ],
            [
             0.5555555555555556,
             "#d8576b"
            ],
            [
             0.6666666666666666,
             "#ed7953"
            ],
            [
             0.7777777777777778,
             "#fb9f3a"
            ],
            [
             0.8888888888888888,
             "#fdca26"
            ],
            [
             1,
             "#f0f921"
            ]
           ]
          },
          "colorway": [
           "#636efa",
           "#EF553B",
           "#00cc96",
           "#ab63fa",
           "#FFA15A",
           "#19d3f3",
           "#FF6692",
           "#B6E880",
           "#FF97FF",
           "#FECB52"
          ],
          "font": {
           "color": "#2a3f5f"
          },
          "geo": {
           "bgcolor": "white",
           "lakecolor": "white",
           "landcolor": "#E5ECF6",
           "showlakes": true,
           "showland": true,
           "subunitcolor": "white"
          },
          "hoverlabel": {
           "align": "left"
          },
          "hovermode": "closest",
          "mapbox": {
           "style": "light"
          },
          "paper_bgcolor": "white",
          "plot_bgcolor": "#E5ECF6",
          "polar": {
           "angularaxis": {
            "gridcolor": "white",
            "linecolor": "white",
            "ticks": ""
           },
           "bgcolor": "#E5ECF6",
           "radialaxis": {
            "gridcolor": "white",
            "linecolor": "white",
            "ticks": ""
           }
          },
          "scene": {
           "xaxis": {
            "backgroundcolor": "#E5ECF6",
            "gridcolor": "white",
            "gridwidth": 2,
            "linecolor": "white",
            "showbackground": true,
            "ticks": "",
            "zerolinecolor": "white"
           },
           "yaxis": {
            "backgroundcolor": "#E5ECF6",
            "gridcolor": "white",
            "gridwidth": 2,
            "linecolor": "white",
            "showbackground": true,
            "ticks": "",
            "zerolinecolor": "white"
           },
           "zaxis": {
            "backgroundcolor": "#E5ECF6",
            "gridcolor": "white",
            "gridwidth": 2,
            "linecolor": "white",
            "showbackground": true,
            "ticks": "",
            "zerolinecolor": "white"
           }
          },
          "shapedefaults": {
           "line": {
            "color": "#2a3f5f"
           }
          },
          "ternary": {
           "aaxis": {
            "gridcolor": "white",
            "linecolor": "white",
            "ticks": ""
           },
           "baxis": {
            "gridcolor": "white",
            "linecolor": "white",
            "ticks": ""
           },
           "bgcolor": "#E5ECF6",
           "caxis": {
            "gridcolor": "white",
            "linecolor": "white",
            "ticks": ""
           }
          },
          "title": {
           "x": 0.05
          },
          "xaxis": {
           "automargin": true,
           "gridcolor": "white",
           "linecolor": "white",
           "ticks": "",
           "title": {
            "standoff": 15
           },
           "zerolinecolor": "white",
           "zerolinewidth": 2
          },
          "yaxis": {
           "automargin": true,
           "gridcolor": "white",
           "linecolor": "white",
           "ticks": "",
           "title": {
            "standoff": 15
           },
           "zerolinecolor": "white",
           "zerolinewidth": 2
          }
         }
        },
        "title": {
         "text": "Total recorded activity per neighborhood"
        },
        "xaxis": {
         "anchor": "y",
         "domain": [
          0,
          1
         ],
         "title": {
          "text": "BU_NAAM"
         }
        },
        "yaxis": {
         "anchor": "x",
         "domain": [
          0,
          1
         ],
         "title": {
          "text": "pm2_5"
         }
        }
       }
      }
     },
     "metadata": {}
    }
   ],
   "source": [
    "df = test[[\"BU_NAAM\", \"date\", \"pm2_5\"]].groupby([\"BU_NAAM\"]).count().reset_index().sort_values(by=['pm2_5'], ascending=False)\n",
    "\n",
    "fig = px.bar(df, x=\"BU_NAAM\", y=\"pm2_5\", title=\"Total recorded activity per neighborhood\", )\n",
    "fig.show()"
   ]
  },
  {
   "cell_type": "code",
   "execution_count": 78,
   "metadata": {},
   "outputs": [
    {
     "output_type": "display_data",
     "data": {
      "application/vnd.plotly.v1+json": {
       "config": {
        "plotlyServerURL": "https://plot.ly"
       },
       "data": [
        {
         "alignmentgroup": "True",
         "hovertemplate": "BU_NAAM=2e Daalsebuurt en omgeving<br>date=%{x}<br>pm2_5=%{y}<extra></extra>",
         "legendgroup": "2e Daalsebuurt en omgeving",
         "marker": {
          "color": "#636efa"
         },
         "name": "2e Daalsebuurt en omgeving",
         "offsetgroup": "2e Daalsebuurt en omgeving",
         "orientation": "v",
         "showlegend": true,
         "textposition": "auto",
         "type": "bar",
         "x": [
          "2020-06-15",
          "2020-06-17",
          "2020-06-18",
          "2020-06-19",
          "2020-06-20",
          "2020-06-21"
         ],
         "xaxis": "x",
         "y": [
          3,
          2,
          2,
          3,
          1,
          2
         ],
         "yaxis": "y"
        },
        {
         "alignmentgroup": "True",
         "hovertemplate": "BU_NAAM=Abstede, Tolsteegsingel e.o.<br>date=%{x}<br>pm2_5=%{y}<extra></extra>",
         "legendgroup": "Abstede, Tolsteegsingel e.o.",
         "marker": {
          "color": "#EF553B"
         },
         "name": "Abstede, Tolsteegsingel e.o.",
         "offsetgroup": "Abstede, Tolsteegsingel e.o.",
         "orientation": "v",
         "showlegend": true,
         "textposition": "auto",
         "type": "bar",
         "x": [
          "2020-06-15",
          "2020-06-16",
          "2020-06-17",
          "2020-06-18",
          "2020-06-19",
          "2020-06-20",
          "2020-06-21"
         ],
         "xaxis": "x",
         "y": [
          2,
          2,
          4,
          4,
          6,
          3,
          1
         ],
         "yaxis": "y"
        },
        {
         "alignmentgroup": "True",
         "hovertemplate": "BU_NAAM=Bedrijvengebied Kanaleneiland<br>date=%{x}<br>pm2_5=%{y}<extra></extra>",
         "legendgroup": "Bedrijvengebied Kanaleneiland",
         "marker": {
          "color": "#00cc96"
         },
         "name": "Bedrijvengebied Kanaleneiland",
         "offsetgroup": "Bedrijvengebied Kanaleneiland",
         "orientation": "v",
         "showlegend": true,
         "textposition": "auto",
         "type": "bar",
         "x": [
          "2020-06-15",
          "2020-06-16",
          "2020-06-17",
          "2020-06-18",
          "2020-06-19",
          "2020-06-20",
          "2020-06-21"
         ],
         "xaxis": "x",
         "y": [
          5,
          7,
          8,
          7,
          4,
          3,
          5
         ],
         "yaxis": "y"
        },
        {
         "alignmentgroup": "True",
         "hovertemplate": "BU_NAAM=Bedrijvengebied Oudenrijn<br>date=%{x}<br>pm2_5=%{y}<extra></extra>",
         "legendgroup": "Bedrijvengebied Oudenrijn",
         "marker": {
          "color": "#ab63fa"
         },
         "name": "Bedrijvengebied Oudenrijn",
         "offsetgroup": "Bedrijvengebied Oudenrijn",
         "orientation": "v",
         "showlegend": true,
         "textposition": "auto",
         "type": "bar",
         "x": [
          "2020-06-15",
          "2020-06-17",
          "2020-06-18",
          "2020-06-19",
          "2020-06-20",
          "2020-06-21"
         ],
         "xaxis": "x",
         "y": [
          1,
          3,
          6,
          1,
          1,
          2
         ],
         "yaxis": "y"
        },
        {
         "alignmentgroup": "True",
         "hovertemplate": "BU_NAAM=Bedrijvengebied Papendorp<br>date=%{x}<br>pm2_5=%{y}<extra></extra>",
         "legendgroup": "Bedrijvengebied Papendorp",
         "marker": {
          "color": "#FFA15A"
         },
         "name": "Bedrijvengebied Papendorp",
         "offsetgroup": "Bedrijvengebied Papendorp",
         "orientation": "v",
         "showlegend": true,
         "textposition": "auto",
         "type": "bar",
         "x": [
          "2020-06-15",
          "2020-06-16",
          "2020-06-17",
          "2020-06-18",
          "2020-06-19",
          "2020-06-20",
          "2020-06-21"
         ],
         "xaxis": "x",
         "y": [
          2,
          3,
          7,
          8,
          5,
          2,
          4
         ],
         "yaxis": "y"
        },
        {
         "alignmentgroup": "True",
         "hovertemplate": "BU_NAAM=Bedrijvengebied Strijkviertel<br>date=%{x}<br>pm2_5=%{y}<extra></extra>",
         "legendgroup": "Bedrijvengebied Strijkviertel",
         "marker": {
          "color": "#19d3f3"
         },
         "name": "Bedrijvengebied Strijkviertel",
         "offsetgroup": "Bedrijvengebied Strijkviertel",
         "orientation": "v",
         "showlegend": true,
         "textposition": "auto",
         "type": "bar",
         "x": [
          "2020-06-17",
          "2020-06-18",
          "2020-06-19",
          "2020-06-20"
         ],
         "xaxis": "x",
         "y": [
          2,
          1,
          1,
          1
         ],
         "yaxis": "y"
        },
        {
         "alignmentgroup": "True",
         "hovertemplate": "BU_NAAM=Bedrijventerrein Lageweide<br>date=%{x}<br>pm2_5=%{y}<extra></extra>",
         "legendgroup": "Bedrijventerrein Lageweide",
         "marker": {
          "color": "#FF6692"
         },
         "name": "Bedrijventerrein Lageweide",
         "offsetgroup": "Bedrijventerrein Lageweide",
         "orientation": "v",
         "showlegend": true,
         "textposition": "auto",
         "type": "bar",
         "x": [
          "2020-06-15",
          "2020-06-17",
          "2020-06-19",
          "2020-06-21"
         ],
         "xaxis": "x",
         "y": [
          3,
          3,
          2,
          3
         ],
         "yaxis": "y"
        },
        {
         "alignmentgroup": "True",
         "hovertemplate": "BU_NAAM=Bedrijventerrein en omgeving<br>date=%{x}<br>pm2_5=%{y}<extra></extra>",
         "legendgroup": "Bedrijventerrein en omgeving",
         "marker": {
          "color": "#B6E880"
         },
         "name": "Bedrijventerrein en omgeving",
         "offsetgroup": "Bedrijventerrein en omgeving",
         "orientation": "v",
         "showlegend": true,
         "textposition": "auto",
         "type": "bar",
         "x": [
          "2020-06-15",
          "2020-06-16",
          "2020-06-17",
          "2020-06-18",
          "2020-06-20"
         ],
         "xaxis": "x",
         "y": [
          1,
          2,
          5,
          3,
          1
         ],
         "yaxis": "y"
        },
        {
         "alignmentgroup": "True",
         "hovertemplate": "BU_NAAM=Bleekstraat en omgeving<br>date=%{x}<br>pm2_5=%{y}<extra></extra>",
         "legendgroup": "Bleekstraat en omgeving",
         "marker": {
          "color": "#FF97FF"
         },
         "name": "Bleekstraat en omgeving",
         "offsetgroup": "Bleekstraat en omgeving",
         "orientation": "v",
         "showlegend": true,
         "textposition": "auto",
         "type": "bar",
         "x": [
          "2020-06-16",
          "2020-06-17",
          "2020-06-18",
          "2020-06-19",
          "2020-06-21"
         ],
         "xaxis": "x",
         "y": [
          1,
          6,
          3,
          4,
          2
         ],
         "yaxis": "y"
        },
        {
         "alignmentgroup": "True",
         "hovertemplate": "BU_NAAM=Bokkenbuurt<br>date=%{x}<br>pm2_5=%{y}<extra></extra>",
         "legendgroup": "Bokkenbuurt",
         "marker": {
          "color": "#FECB52"
         },
         "name": "Bokkenbuurt",
         "offsetgroup": "Bokkenbuurt",
         "orientation": "v",
         "showlegend": true,
         "textposition": "auto",
         "type": "bar",
         "x": [
          "2020-06-15",
          "2020-06-16",
          "2020-06-17",
          "2020-06-18",
          "2020-06-19",
          "2020-06-20",
          "2020-06-21"
         ],
         "xaxis": "x",
         "y": [
          1,
          3,
          3,
          3,
          3,
          2,
          1
         ],
         "yaxis": "y"
        },
        {
         "alignmentgroup": "True",
         "hovertemplate": "BU_NAAM=Breedstraat en Plompetorengracht en omgeving<br>date=%{x}<br>pm2_5=%{y}<extra></extra>",
         "legendgroup": "Breedstraat en Plompetorengracht en omgeving",
         "marker": {
          "color": "#636efa"
         },
         "name": "Breedstraat en Plompetorengracht en omgeving",
         "offsetgroup": "Breedstraat en Plompetorengracht en omgeving",
         "orientation": "v",
         "showlegend": true,
         "textposition": "auto",
         "type": "bar",
         "x": [
          "2020-06-15",
          "2020-06-16",
          "2020-06-17",
          "2020-06-18",
          "2020-06-19",
          "2020-06-20",
          "2020-06-21"
         ],
         "xaxis": "x",
         "y": [
          4,
          6,
          1,
          5,
          4,
          2,
          3
         ],
         "yaxis": "y"
        },
        {
         "alignmentgroup": "True",
         "hovertemplate": "BU_NAAM=Buiten Wittevrouwen<br>date=%{x}<br>pm2_5=%{y}<extra></extra>",
         "legendgroup": "Buiten Wittevrouwen",
         "marker": {
          "color": "#EF553B"
         },
         "name": "Buiten Wittevrouwen",
         "offsetgroup": "Buiten Wittevrouwen",
         "orientation": "v",
         "showlegend": true,
         "textposition": "auto",
         "type": "bar",
         "x": [
          "2020-06-15",
          "2020-06-16",
          "2020-06-17",
          "2020-06-18",
          "2020-06-19",
          "2020-06-20",
          "2020-06-21"
         ],
         "xaxis": "x",
         "y": [
          3,
          4,
          7,
          8,
          9,
          6,
          3
         ],
         "yaxis": "y"
        },
        {
         "alignmentgroup": "True",
         "hovertemplate": "BU_NAAM=De Meern-Noord<br>date=%{x}<br>pm2_5=%{y}<extra></extra>",
         "legendgroup": "De Meern-Noord",
         "marker": {
          "color": "#00cc96"
         },
         "name": "De Meern-Noord",
         "offsetgroup": "De Meern-Noord",
         "orientation": "v",
         "showlegend": true,
         "textposition": "auto",
         "type": "bar",
         "x": [
          "2020-06-15",
          "2020-06-16",
          "2020-06-17",
          "2020-06-18",
          "2020-06-19",
          "2020-06-20",
          "2020-06-21"
         ],
         "xaxis": "x",
         "y": [
          2,
          5,
          4,
          5,
          2,
          2,
          4
         ],
         "yaxis": "y"
        },
        {
         "alignmentgroup": "True",
         "hovertemplate": "BU_NAAM=De Meern-Zuid<br>date=%{x}<br>pm2_5=%{y}<extra></extra>",
         "legendgroup": "De Meern-Zuid",
         "marker": {
          "color": "#ab63fa"
         },
         "name": "De Meern-Zuid",
         "offsetgroup": "De Meern-Zuid",
         "orientation": "v",
         "showlegend": true,
         "textposition": "auto",
         "type": "bar",
         "x": [
          "2020-06-15",
          "2020-06-16",
          "2020-06-17",
          "2020-06-18",
          "2020-06-19",
          "2020-06-20",
          "2020-06-21"
         ],
         "xaxis": "x",
         "y": [
          2,
          4,
          9,
          5,
          3,
          3,
          6
         ],
         "yaxis": "y"
        },
        {
         "alignmentgroup": "True",
         "hovertemplate": "BU_NAAM=Dichterswijk<br>date=%{x}<br>pm2_5=%{y}<extra></extra>",
         "legendgroup": "Dichterswijk",
         "marker": {
          "color": "#FFA15A"
         },
         "name": "Dichterswijk",
         "offsetgroup": "Dichterswijk",
         "orientation": "v",
         "showlegend": true,
         "textposition": "auto",
         "type": "bar",
         "x": [
          "2020-06-15",
          "2020-06-16",
          "2020-06-17",
          "2020-06-18",
          "2020-06-19",
          "2020-06-21"
         ],
         "xaxis": "x",
         "y": [
          1,
          2,
          4,
          4,
          4,
          1
         ],
         "yaxis": "y"
        },
        {
         "alignmentgroup": "True",
         "hovertemplate": "BU_NAAM=Domplein, Neude, Janskerkhof<br>date=%{x}<br>pm2_5=%{y}<extra></extra>",
         "legendgroup": "Domplein, Neude, Janskerkhof",
         "marker": {
          "color": "#19d3f3"
         },
         "name": "Domplein, Neude, Janskerkhof",
         "offsetgroup": "Domplein, Neude, Janskerkhof",
         "orientation": "v",
         "showlegend": true,
         "textposition": "auto",
         "type": "bar",
         "x": [
          "2020-06-15",
          "2020-06-16",
          "2020-06-17",
          "2020-06-18",
          "2020-06-19",
          "2020-06-20",
          "2020-06-21"
         ],
         "xaxis": "x",
         "y": [
          8,
          4,
          5,
          8,
          5,
          2,
          4
         ],
         "yaxis": "y"
        },
        {
         "alignmentgroup": "True",
         "hovertemplate": "BU_NAAM=Egelantierstraat, Mariëndaalstraat e.o.<br>date=%{x}<br>pm2_5=%{y}<extra></extra>",
         "legendgroup": "Egelantierstraat, Mariëndaalstraat e.o.",
         "marker": {
          "color": "#FF6692"
         },
         "name": "Egelantierstraat, Mariëndaalstraat e.o.",
         "offsetgroup": "Egelantierstraat, Mariëndaalstraat e.o.",
         "orientation": "v",
         "showlegend": true,
         "textposition": "auto",
         "type": "bar",
         "x": [
          "2020-06-15",
          "2020-06-16",
          "2020-06-17",
          "2020-06-18",
          "2020-06-19",
          "2020-06-20",
          "2020-06-21"
         ],
         "xaxis": "x",
         "y": [
          3,
          2,
          2,
          3,
          3,
          1,
          2
         ],
         "yaxis": "y"
        },
        {
         "alignmentgroup": "True",
         "hovertemplate": "BU_NAAM=Elinkwijk en omgeving<br>date=%{x}<br>pm2_5=%{y}<extra></extra>",
         "legendgroup": "Elinkwijk en omgeving",
         "marker": {
          "color": "#B6E880"
         },
         "name": "Elinkwijk en omgeving",
         "offsetgroup": "Elinkwijk en omgeving",
         "orientation": "v",
         "showlegend": true,
         "textposition": "auto",
         "type": "bar",
         "x": [
          "2020-06-15",
          "2020-06-17",
          "2020-06-18",
          "2020-06-19",
          "2020-06-20",
          "2020-06-21"
         ],
         "xaxis": "x",
         "y": [
          2,
          1,
          3,
          1,
          1,
          3
         ],
         "yaxis": "y"
        },
        {
         "alignmentgroup": "True",
         "hovertemplate": "BU_NAAM=Galgenwaard en omgeving<br>date=%{x}<br>pm2_5=%{y}<extra></extra>",
         "legendgroup": "Galgenwaard en omgeving",
         "marker": {
          "color": "#FF97FF"
         },
         "name": "Galgenwaard en omgeving",
         "offsetgroup": "Galgenwaard en omgeving",
         "orientation": "v",
         "showlegend": true,
         "textposition": "auto",
         "type": "bar",
         "x": [
          "2020-06-15",
          "2020-06-16",
          "2020-06-17",
          "2020-06-18",
          "2020-06-19",
          "2020-06-20",
          "2020-06-21"
         ],
         "xaxis": "x",
         "y": [
          4,
          2,
          8,
          4,
          3,
          2,
          3
         ],
         "yaxis": "y"
        },
        {
         "alignmentgroup": "True",
         "hovertemplate": "BU_NAAM=Geuzenwijk<br>date=%{x}<br>pm2_5=%{y}<extra></extra>",
         "legendgroup": "Geuzenwijk",
         "marker": {
          "color": "#FECB52"
         },
         "name": "Geuzenwijk",
         "offsetgroup": "Geuzenwijk",
         "orientation": "v",
         "showlegend": true,
         "textposition": "auto",
         "type": "bar",
         "x": [
          "2020-06-15",
          "2020-06-16",
          "2020-06-17",
          "2020-06-18",
          "2020-06-19",
          "2020-06-20",
          "2020-06-21"
         ],
         "xaxis": "x",
         "y": [
          3,
          1,
          3,
          1,
          1,
          3,
          3
         ],
         "yaxis": "y"
        },
        {
         "alignmentgroup": "True",
         "hovertemplate": "BU_NAAM=Grauwaart<br>date=%{x}<br>pm2_5=%{y}<extra></extra>",
         "legendgroup": "Grauwaart",
         "marker": {
          "color": "#636efa"
         },
         "name": "Grauwaart",
         "offsetgroup": "Grauwaart",
         "orientation": "v",
         "showlegend": true,
         "textposition": "auto",
         "type": "bar",
         "x": [
          "2020-06-15",
          "2020-06-16",
          "2020-06-17",
          "2020-06-18",
          "2020-06-19",
          "2020-06-20"
         ],
         "xaxis": "x",
         "y": [
          3,
          1,
          6,
          3,
          4,
          2
         ],
         "yaxis": "y"
        },
        {
         "alignmentgroup": "True",
         "hovertemplate": "BU_NAAM=Haarrijn<br>date=%{x}<br>pm2_5=%{y}<extra></extra>",
         "legendgroup": "Haarrijn",
         "marker": {
          "color": "#EF553B"
         },
         "name": "Haarrijn",
         "offsetgroup": "Haarrijn",
         "orientation": "v",
         "showlegend": true,
         "textposition": "auto",
         "type": "bar",
         "x": [
          "2020-06-15",
          "2020-06-16",
          "2020-06-18",
          "2020-06-20",
          "2020-06-21"
         ],
         "xaxis": "x",
         "y": [
          1,
          1,
          1,
          2,
          1
         ],
         "yaxis": "y"
        },
        {
         "alignmentgroup": "True",
         "hovertemplate": "BU_NAAM=Haarzuilens en omgeving<br>date=%{x}<br>pm2_5=%{y}<extra></extra>",
         "legendgroup": "Haarzuilens en omgeving",
         "marker": {
          "color": "#00cc96"
         },
         "name": "Haarzuilens en omgeving",
         "offsetgroup": "Haarzuilens en omgeving",
         "orientation": "v",
         "showlegend": true,
         "textposition": "auto",
         "type": "bar",
         "x": [
          "2020-06-15",
          "2020-06-16",
          "2020-06-18",
          "2020-06-20",
          "2020-06-21"
         ],
         "xaxis": "x",
         "y": [
          4,
          2,
          1,
          2,
          4
         ],
         "yaxis": "y"
        },
        {
         "alignmentgroup": "True",
         "hovertemplate": "BU_NAAM=Halve Maan-Noord<br>date=%{x}<br>pm2_5=%{y}<extra></extra>",
         "legendgroup": "Halve Maan-Noord",
         "marker": {
          "color": "#ab63fa"
         },
         "name": "Halve Maan-Noord",
         "offsetgroup": "Halve Maan-Noord",
         "orientation": "v",
         "showlegend": true,
         "textposition": "auto",
         "type": "bar",
         "x": [
          "2020-06-15",
          "2020-06-16",
          "2020-06-17",
          "2020-06-18",
          "2020-06-19",
          "2020-06-20",
          "2020-06-21"
         ],
         "xaxis": "x",
         "y": [
          1,
          1,
          1,
          3,
          4,
          2,
          3
         ],
         "yaxis": "y"
        },
        {
         "alignmentgroup": "True",
         "hovertemplate": "BU_NAAM=Halve Maan-Zuid<br>date=%{x}<br>pm2_5=%{y}<extra></extra>",
         "legendgroup": "Halve Maan-Zuid",
         "marker": {
          "color": "#FFA15A"
         },
         "name": "Halve Maan-Zuid",
         "offsetgroup": "Halve Maan-Zuid",
         "orientation": "v",
         "showlegend": true,
         "textposition": "auto",
         "type": "bar",
         "x": [
          "2020-06-15",
          "2020-06-16",
          "2020-06-18",
          "2020-06-19",
          "2020-06-20",
          "2020-06-21"
         ],
         "xaxis": "x",
         "y": [
          2,
          2,
          4,
          3,
          2,
          5
         ],
         "yaxis": "y"
        },
        {
         "alignmentgroup": "True",
         "hovertemplate": "BU_NAAM=Het Zand-Oost<br>date=%{x}<br>pm2_5=%{y}<extra></extra>",
         "legendgroup": "Het Zand-Oost",
         "marker": {
          "color": "#19d3f3"
         },
         "name": "Het Zand-Oost",
         "offsetgroup": "Het Zand-Oost",
         "orientation": "v",
         "showlegend": true,
         "textposition": "auto",
         "type": "bar",
         "x": [
          "2020-06-15",
          "2020-06-16",
          "2020-06-17",
          "2020-06-18",
          "2020-06-19",
          "2020-06-20"
         ],
         "xaxis": "x",
         "y": [
          1,
          3,
          4,
          1,
          3,
          2
         ],
         "yaxis": "y"
        },
        {
         "alignmentgroup": "True",
         "hovertemplate": "BU_NAAM=Het Zand-West<br>date=%{x}<br>pm2_5=%{y}<extra></extra>",
         "legendgroup": "Het Zand-West",
         "marker": {
          "color": "#FF6692"
         },
         "name": "Het Zand-West",
         "offsetgroup": "Het Zand-West",
         "orientation": "v",
         "showlegend": true,
         "textposition": "auto",
         "type": "bar",
         "x": [
          "2020-06-15",
          "2020-06-16",
          "2020-06-17",
          "2020-06-19"
         ],
         "xaxis": "x",
         "y": [
          1,
          2,
          7,
          2
         ],
         "yaxis": "y"
        },
        {
         "alignmentgroup": "True",
         "hovertemplate": "BU_NAAM=Hoge Weide<br>date=%{x}<br>pm2_5=%{y}<extra></extra>",
         "legendgroup": "Hoge Weide",
         "marker": {
          "color": "#B6E880"
         },
         "name": "Hoge Weide",
         "offsetgroup": "Hoge Weide",
         "orientation": "v",
         "showlegend": true,
         "textposition": "auto",
         "type": "bar",
         "x": [
          "2020-06-15",
          "2020-06-16",
          "2020-06-17",
          "2020-06-18",
          "2020-06-19",
          "2020-06-20",
          "2020-06-21"
         ],
         "xaxis": "x",
         "y": [
          5,
          3,
          3,
          5,
          6,
          3,
          4
         ],
         "yaxis": "y"
        },
        {
         "alignmentgroup": "True",
         "hovertemplate": "BU_NAAM=Hooch Boulandt<br>date=%{x}<br>pm2_5=%{y}<extra></extra>",
         "legendgroup": "Hooch Boulandt",
         "marker": {
          "color": "#FF97FF"
         },
         "name": "Hooch Boulandt",
         "offsetgroup": "Hooch Boulandt",
         "orientation": "v",
         "showlegend": true,
         "textposition": "auto",
         "type": "bar",
         "x": [
          "2020-06-15",
          "2020-06-16",
          "2020-06-17",
          "2020-06-18",
          "2020-06-19",
          "2020-06-20",
          "2020-06-21"
         ],
         "xaxis": "x",
         "y": [
          1,
          1,
          4,
          3,
          2,
          1,
          2
         ],
         "yaxis": "y"
        },
        {
         "alignmentgroup": "True",
         "hovertemplate": "BU_NAAM=Hoog-Catharijne NS en Jaarbeurs<br>date=%{x}<br>pm2_5=%{y}<extra></extra>",
         "legendgroup": "Hoog-Catharijne NS en Jaarbeurs",
         "marker": {
          "color": "#FECB52"
         },
         "name": "Hoog-Catharijne NS en Jaarbeurs",
         "offsetgroup": "Hoog-Catharijne NS en Jaarbeurs",
         "orientation": "v",
         "showlegend": true,
         "textposition": "auto",
         "type": "bar",
         "x": [
          "2020-06-15",
          "2020-06-16",
          "2020-06-17",
          "2020-06-18",
          "2020-06-19",
          "2020-06-20",
          "2020-06-21"
         ],
         "xaxis": "x",
         "y": [
          5,
          6,
          10,
          9,
          9,
          2,
          6
         ],
         "yaxis": "y"
        },
        {
         "alignmentgroup": "True",
         "hovertemplate": "BU_NAAM=Huizingalaan, K. Doormanlaan en omgeving<br>date=%{x}<br>pm2_5=%{y}<extra></extra>",
         "legendgroup": "Huizingalaan, K. Doormanlaan en omgeving",
         "marker": {
          "color": "#636efa"
         },
         "name": "Huizingalaan, K. Doormanlaan en omgeving",
         "offsetgroup": "Huizingalaan, K. Doormanlaan en omgeving",
         "orientation": "v",
         "showlegend": true,
         "textposition": "auto",
         "type": "bar",
         "x": [
          "2020-06-15",
          "2020-06-16",
          "2020-06-17",
          "2020-06-18",
          "2020-06-19",
          "2020-06-20",
          "2020-06-21"
         ],
         "xaxis": "x",
         "y": [
          5,
          6,
          8,
          8,
          5,
          4,
          6
         ],
         "yaxis": "y"
        },
        {
         "alignmentgroup": "True",
         "hovertemplate": "BU_NAAM=Julianapark en omgeving<br>date=%{x}<br>pm2_5=%{y}<extra></extra>",
         "legendgroup": "Julianapark en omgeving",
         "marker": {
          "color": "#EF553B"
         },
         "name": "Julianapark en omgeving",
         "offsetgroup": "Julianapark en omgeving",
         "orientation": "v",
         "showlegend": true,
         "textposition": "auto",
         "type": "bar",
         "x": [
          "2020-06-15",
          "2020-06-16",
          "2020-06-17",
          "2020-06-18",
          "2020-06-19",
          "2020-06-20",
          "2020-06-21"
         ],
         "xaxis": "x",
         "y": [
          4,
          1,
          2,
          4,
          1,
          2,
          3
         ],
         "yaxis": "y"
        },
        {
         "alignmentgroup": "True",
         "hovertemplate": "BU_NAAM=Kanaleneiland-Noord<br>date=%{x}<br>pm2_5=%{y}<extra></extra>",
         "legendgroup": "Kanaleneiland-Noord",
         "marker": {
          "color": "#00cc96"
         },
         "name": "Kanaleneiland-Noord",
         "offsetgroup": "Kanaleneiland-Noord",
         "orientation": "v",
         "showlegend": true,
         "textposition": "auto",
         "type": "bar",
         "x": [
          "2020-06-17",
          "2020-06-18",
          "2020-06-19",
          "2020-06-20"
         ],
         "xaxis": "x",
         "y": [
          4,
          4,
          1,
          1
         ],
         "yaxis": "y"
        },
        {
         "alignmentgroup": "True",
         "hovertemplate": "BU_NAAM=Kanaleneiland-Zuid<br>date=%{x}<br>pm2_5=%{y}<extra></extra>",
         "legendgroup": "Kanaleneiland-Zuid",
         "marker": {
          "color": "#ab63fa"
         },
         "name": "Kanaleneiland-Zuid",
         "offsetgroup": "Kanaleneiland-Zuid",
         "orientation": "v",
         "showlegend": true,
         "textposition": "auto",
         "type": "bar",
         "x": [
          "2020-06-16",
          "2020-06-17",
          "2020-06-18",
          "2020-06-19",
          "2020-06-20"
         ],
         "xaxis": "x",
         "y": [
          1,
          6,
          3,
          1,
          1
         ],
         "yaxis": "y"
        },
        {
         "alignmentgroup": "True",
         "hovertemplate": "BU_NAAM=L. Napoleonplantsoen en omgeving<br>date=%{x}<br>pm2_5=%{y}<extra></extra>",
         "legendgroup": "L. Napoleonplantsoen en omgeving",
         "marker": {
          "color": "#FFA15A"
         },
         "name": "L. Napoleonplantsoen en omgeving",
         "offsetgroup": "L. Napoleonplantsoen en omgeving",
         "orientation": "v",
         "showlegend": true,
         "textposition": "auto",
         "type": "bar",
         "x": [
          "2020-06-15",
          "2020-06-16",
          "2020-06-17",
          "2020-06-18",
          "2020-06-19",
          "2020-06-20",
          "2020-06-21"
         ],
         "xaxis": "x",
         "y": [
          1,
          1,
          4,
          4,
          3,
          7,
          3
         ],
         "yaxis": "y"
        },
        {
         "alignmentgroup": "True",
         "hovertemplate": "BU_NAAM=Laan van Nieuw-Guinea, Spinozaweg e.o.<br>date=%{x}<br>pm2_5=%{y}<extra></extra>",
         "legendgroup": "Laan van Nieuw-Guinea, Spinozaweg e.o.",
         "marker": {
          "color": "#19d3f3"
         },
         "name": "Laan van Nieuw-Guinea, Spinozaweg e.o.",
         "offsetgroup": "Laan van Nieuw-Guinea, Spinozaweg e.o.",
         "orientation": "v",
         "showlegend": true,
         "textposition": "auto",
         "type": "bar",
         "x": [
          "2020-06-15",
          "2020-06-16",
          "2020-06-17",
          "2020-06-18",
          "2020-06-19",
          "2020-06-20",
          "2020-06-21"
         ],
         "xaxis": "x",
         "y": [
          2,
          1,
          4,
          2,
          5,
          3,
          1
         ],
         "yaxis": "y"
        },
        {
         "alignmentgroup": "True",
         "hovertemplate": "BU_NAAM=Lange Elisabethstraat, Mariaplaats en omgeving<br>date=%{x}<br>pm2_5=%{y}<extra></extra>",
         "legendgroup": "Lange Elisabethstraat, Mariaplaats en omgeving",
         "marker": {
          "color": "#FF6692"
         },
         "name": "Lange Elisabethstraat, Mariaplaats en omgeving",
         "offsetgroup": "Lange Elisabethstraat, Mariaplaats en omgeving",
         "orientation": "v",
         "showlegend": true,
         "textposition": "auto",
         "type": "bar",
         "x": [
          "2020-06-15",
          "2020-06-16",
          "2020-06-17",
          "2020-06-18",
          "2020-06-19",
          "2020-06-20",
          "2020-06-21"
         ],
         "xaxis": "x",
         "y": [
          4,
          2,
          5,
          6,
          1,
          1,
          2
         ],
         "yaxis": "y"
        },
        {
         "alignmentgroup": "True",
         "hovertemplate": "BU_NAAM=Lange Nieuwstraat en omgeving<br>date=%{x}<br>pm2_5=%{y}<extra></extra>",
         "legendgroup": "Lange Nieuwstraat en omgeving",
         "marker": {
          "color": "#B6E880"
         },
         "name": "Lange Nieuwstraat en omgeving",
         "offsetgroup": "Lange Nieuwstraat en omgeving",
         "orientation": "v",
         "showlegend": true,
         "textposition": "auto",
         "type": "bar",
         "x": [
          "2020-06-15",
          "2020-06-16",
          "2020-06-17",
          "2020-06-18",
          "2020-06-19",
          "2020-06-20",
          "2020-06-21"
         ],
         "xaxis": "x",
         "y": [
          4,
          2,
          5,
          9,
          2,
          3,
          1
         ],
         "yaxis": "y"
        },
        {
         "alignmentgroup": "True",
         "hovertemplate": "BU_NAAM=Langerak<br>date=%{x}<br>pm2_5=%{y}<extra></extra>",
         "legendgroup": "Langerak",
         "marker": {
          "color": "#FF97FF"
         },
         "name": "Langerak",
         "offsetgroup": "Langerak",
         "orientation": "v",
         "showlegend": true,
         "textposition": "auto",
         "type": "bar",
         "x": [
          "2020-06-15",
          "2020-06-16",
          "2020-06-17",
          "2020-06-18",
          "2020-06-19",
          "2020-06-20"
         ],
         "xaxis": "x",
         "y": [
          2,
          4,
          3,
          5,
          2,
          1
         ],
         "yaxis": "y"
        },
        {
         "alignmentgroup": "True",
         "hovertemplate": "BU_NAAM=Lauwerecht<br>date=%{x}<br>pm2_5=%{y}<extra></extra>",
         "legendgroup": "Lauwerecht",
         "marker": {
          "color": "#FECB52"
         },
         "name": "Lauwerecht",
         "offsetgroup": "Lauwerecht",
         "orientation": "v",
         "showlegend": true,
         "textposition": "auto",
         "type": "bar",
         "x": [
          "2020-06-15",
          "2020-06-16",
          "2020-06-17",
          "2020-06-18",
          "2020-06-19",
          "2020-06-20",
          "2020-06-21"
         ],
         "xaxis": "x",
         "y": [
          3,
          3,
          7,
          3,
          3,
          2,
          6
         ],
         "yaxis": "y"
        },
        {
         "alignmentgroup": "True",
         "hovertemplate": "BU_NAAM=Leeuwesteyn<br>date=%{x}<br>pm2_5=%{y}<extra></extra>",
         "legendgroup": "Leeuwesteyn",
         "marker": {
          "color": "#636efa"
         },
         "name": "Leeuwesteyn",
         "offsetgroup": "Leeuwesteyn",
         "orientation": "v",
         "showlegend": true,
         "textposition": "auto",
         "type": "bar",
         "x": [
          "2020-06-15",
          "2020-06-16",
          "2020-06-17",
          "2020-06-18",
          "2020-06-19",
          "2020-06-20",
          "2020-06-21"
         ],
         "xaxis": "x",
         "y": [
          6,
          4,
          5,
          5,
          8,
          3,
          4
         ],
         "yaxis": "y"
        },
        {
         "alignmentgroup": "True",
         "hovertemplate": "BU_NAAM=Leidsche Rijn-Centrum<br>date=%{x}<br>pm2_5=%{y}<extra></extra>",
         "legendgroup": "Leidsche Rijn-Centrum",
         "marker": {
          "color": "#EF553B"
         },
         "name": "Leidsche Rijn-Centrum",
         "offsetgroup": "Leidsche Rijn-Centrum",
         "orientation": "v",
         "showlegend": true,
         "textposition": "auto",
         "type": "bar",
         "x": [
          "2020-06-15",
          "2020-06-16",
          "2020-06-17",
          "2020-06-18",
          "2020-06-19",
          "2020-06-20",
          "2020-06-21"
         ],
         "xaxis": "x",
         "y": [
          5,
          2,
          5,
          4,
          6,
          1,
          1
         ],
         "yaxis": "y"
        },
        {
         "alignmentgroup": "True",
         "hovertemplate": "BU_NAAM=Leidseweg en omgeving<br>date=%{x}<br>pm2_5=%{y}<extra></extra>",
         "legendgroup": "Leidseweg en omgeving",
         "marker": {
          "color": "#00cc96"
         },
         "name": "Leidseweg en omgeving",
         "offsetgroup": "Leidseweg en omgeving",
         "orientation": "v",
         "showlegend": true,
         "textposition": "auto",
         "type": "bar",
         "x": [
          "2020-06-15",
          "2020-06-16",
          "2020-06-17",
          "2020-06-18",
          "2020-06-19",
          "2020-06-20",
          "2020-06-21"
         ],
         "xaxis": "x",
         "y": [
          3,
          5,
          5,
          8,
          2,
          2,
          4
         ],
         "yaxis": "y"
        },
        {
         "alignmentgroup": "True",
         "hovertemplate": "BU_NAAM=Lombok-Oost<br>date=%{x}<br>pm2_5=%{y}<extra></extra>",
         "legendgroup": "Lombok-Oost",
         "marker": {
          "color": "#ab63fa"
         },
         "name": "Lombok-Oost",
         "offsetgroup": "Lombok-Oost",
         "orientation": "v",
         "showlegend": true,
         "textposition": "auto",
         "type": "bar",
         "x": [
          "2020-06-15",
          "2020-06-16",
          "2020-06-17",
          "2020-06-18",
          "2020-06-19",
          "2020-06-20",
          "2020-06-21"
         ],
         "xaxis": "x",
         "y": [
          3,
          2,
          2,
          4,
          4,
          2,
          2
         ],
         "yaxis": "y"
        },
        {
         "alignmentgroup": "True",
         "hovertemplate": "BU_NAAM=Lombok-West<br>date=%{x}<br>pm2_5=%{y}<extra></extra>",
         "legendgroup": "Lombok-West",
         "marker": {
          "color": "#FFA15A"
         },
         "name": "Lombok-West",
         "offsetgroup": "Lombok-West",
         "orientation": "v",
         "showlegend": true,
         "textposition": "auto",
         "type": "bar",
         "x": [
          "2020-06-15",
          "2020-06-16",
          "2020-06-17",
          "2020-06-18",
          "2020-06-19",
          "2020-06-20",
          "2020-06-21"
         ],
         "xaxis": "x",
         "y": [
          4,
          3,
          2,
          5,
          6,
          2,
          3
         ],
         "yaxis": "y"
        },
        {
         "alignmentgroup": "True",
         "hovertemplate": "BU_NAAM=Lunetten-Noord<br>date=%{x}<br>pm2_5=%{y}<extra></extra>",
         "legendgroup": "Lunetten-Noord",
         "marker": {
          "color": "#19d3f3"
         },
         "name": "Lunetten-Noord",
         "offsetgroup": "Lunetten-Noord",
         "orientation": "v",
         "showlegend": true,
         "textposition": "auto",
         "type": "bar",
         "x": [
          "2020-06-15",
          "2020-06-16",
          "2020-06-17",
          "2020-06-18",
          "2020-06-19",
          "2020-06-20",
          "2020-06-21"
         ],
         "xaxis": "x",
         "y": [
          4,
          6,
          9,
          7,
          4,
          6,
          5
         ],
         "yaxis": "y"
        },
        {
         "alignmentgroup": "True",
         "hovertemplate": "BU_NAAM=Lunetten-Zuid<br>date=%{x}<br>pm2_5=%{y}<extra></extra>",
         "legendgroup": "Lunetten-Zuid",
         "marker": {
          "color": "#FF6692"
         },
         "name": "Lunetten-Zuid",
         "offsetgroup": "Lunetten-Zuid",
         "orientation": "v",
         "showlegend": true,
         "textposition": "auto",
         "type": "bar",
         "x": [
          "2020-06-15",
          "2020-06-16",
          "2020-06-17",
          "2020-06-18",
          "2020-06-19",
          "2020-06-20",
          "2020-06-21"
         ],
         "xaxis": "x",
         "y": [
          5,
          4,
          9,
          6,
          3,
          6,
          2
         ],
         "yaxis": "y"
        },
        {
         "alignmentgroup": "True",
         "hovertemplate": "BU_NAAM=Maarschalkerweerd en Mereveld<br>date=%{x}<br>pm2_5=%{y}<extra></extra>",
         "legendgroup": "Maarschalkerweerd en Mereveld",
         "marker": {
          "color": "#B6E880"
         },
         "name": "Maarschalkerweerd en Mereveld",
         "offsetgroup": "Maarschalkerweerd en Mereveld",
         "orientation": "v",
         "showlegend": true,
         "textposition": "auto",
         "type": "bar",
         "x": [
          "2020-06-15",
          "2020-06-16",
          "2020-06-17",
          "2020-06-18",
          "2020-06-19",
          "2020-06-20",
          "2020-06-21"
         ],
         "xaxis": "x",
         "y": [
          4,
          3,
          9,
          11,
          4,
          7,
          8
         ],
         "yaxis": "y"
        },
        {
         "alignmentgroup": "True",
         "hovertemplate": "BU_NAAM=Máximapark<br>date=%{x}<br>pm2_5=%{y}<extra></extra>",
         "legendgroup": "Máximapark",
         "marker": {
          "color": "#FF97FF"
         },
         "name": "Máximapark",
         "offsetgroup": "Máximapark",
         "orientation": "v",
         "showlegend": true,
         "textposition": "auto",
         "type": "bar",
         "x": [
          "2020-06-15",
          "2020-06-16",
          "2020-06-17",
          "2020-06-18",
          "2020-06-19",
          "2020-06-20",
          "2020-06-21"
         ],
         "xaxis": "x",
         "y": [
          2,
          2,
          7,
          1,
          3,
          1,
          5
         ],
         "yaxis": "y"
        },
        {
         "alignmentgroup": "True",
         "hovertemplate": "BU_NAAM=Neckardreef en omgeving<br>date=%{x}<br>pm2_5=%{y}<extra></extra>",
         "legendgroup": "Neckardreef en omgeving",
         "marker": {
          "color": "#FECB52"
         },
         "name": "Neckardreef en omgeving",
         "offsetgroup": "Neckardreef en omgeving",
         "orientation": "v",
         "showlegend": true,
         "textposition": "auto",
         "type": "bar",
         "x": [
          "2020-06-16",
          "2020-06-17",
          "2020-06-18",
          "2020-06-19",
          "2020-06-20",
          "2020-06-21"
         ],
         "xaxis": "x",
         "y": [
          3,
          3,
          2,
          2,
          3,
          2
         ],
         "yaxis": "y"
        },
        {
         "alignmentgroup": "True",
         "hovertemplate": "BU_NAAM=Nieuw Engeland, Th. a. Kempisplantsoen en omgeving<br>date=%{x}<br>pm2_5=%{y}<extra></extra>",
         "legendgroup": "Nieuw Engeland, Th. a. Kempisplantsoen en omgeving",
         "marker": {
          "color": "#636efa"
         },
         "name": "Nieuw Engeland, Th. a. Kempisplantsoen en omgeving",
         "offsetgroup": "Nieuw Engeland, Th. a. Kempisplantsoen en omgeving",
         "orientation": "v",
         "showlegend": true,
         "textposition": "auto",
         "type": "bar",
         "x": [
          "2020-06-15",
          "2020-06-16",
          "2020-06-17",
          "2020-06-18",
          "2020-06-19",
          "2020-06-20",
          "2020-06-21"
         ],
         "xaxis": "x",
         "y": [
          4,
          4,
          6,
          4,
          5,
          4,
          3
         ],
         "yaxis": "y"
        },
        {
         "alignmentgroup": "True",
         "hovertemplate": "BU_NAAM=Nieuw Hoograven-Noord<br>date=%{x}<br>pm2_5=%{y}<extra></extra>",
         "legendgroup": "Nieuw Hoograven-Noord",
         "marker": {
          "color": "#EF553B"
         },
         "name": "Nieuw Hoograven-Noord",
         "offsetgroup": "Nieuw Hoograven-Noord",
         "orientation": "v",
         "showlegend": true,
         "textposition": "auto",
         "type": "bar",
         "x": [
          "2020-06-16",
          "2020-06-17",
          "2020-06-18",
          "2020-06-19",
          "2020-06-20",
          "2020-06-21"
         ],
         "xaxis": "x",
         "y": [
          4,
          4,
          1,
          2,
          2,
          1
         ],
         "yaxis": "y"
        },
        {
         "alignmentgroup": "True",
         "hovertemplate": "BU_NAAM=Nieuw Hoograven-Zuid<br>date=%{x}<br>pm2_5=%{y}<extra></extra>",
         "legendgroup": "Nieuw Hoograven-Zuid",
         "marker": {
          "color": "#00cc96"
         },
         "name": "Nieuw Hoograven-Zuid",
         "offsetgroup": "Nieuw Hoograven-Zuid",
         "orientation": "v",
         "showlegend": true,
         "textposition": "auto",
         "type": "bar",
         "x": [
          "2020-06-15",
          "2020-06-16",
          "2020-06-17",
          "2020-06-18",
          "2020-06-19",
          "2020-06-20",
          "2020-06-21"
         ],
         "xaxis": "x",
         "y": [
          5,
          4,
          8,
          2,
          4,
          1,
          5
         ],
         "yaxis": "y"
        },
        {
         "alignmentgroup": "True",
         "hovertemplate": "BU_NAAM=Nieuwegracht-Oost<br>date=%{x}<br>pm2_5=%{y}<extra></extra>",
         "legendgroup": "Nieuwegracht-Oost",
         "marker": {
          "color": "#ab63fa"
         },
         "name": "Nieuwegracht-Oost",
         "offsetgroup": "Nieuwegracht-Oost",
         "orientation": "v",
         "showlegend": true,
         "textposition": "auto",
         "type": "bar",
         "x": [
          "2020-06-15",
          "2020-06-17",
          "2020-06-18",
          "2020-06-19",
          "2020-06-20"
         ],
         "xaxis": "x",
         "y": [
          4,
          2,
          3,
          3,
          2
         ],
         "yaxis": "y"
        },
        {
         "alignmentgroup": "True",
         "hovertemplate": "BU_NAAM=Nijenoord, Hoogstraat en omgeving<br>date=%{x}<br>pm2_5=%{y}<extra></extra>",
         "legendgroup": "Nijenoord, Hoogstraat en omgeving",
         "marker": {
          "color": "#FFA15A"
         },
         "name": "Nijenoord, Hoogstraat en omgeving",
         "offsetgroup": "Nijenoord, Hoogstraat en omgeving",
         "orientation": "v",
         "showlegend": true,
         "textposition": "auto",
         "type": "bar",
         "x": [
          "2020-06-15",
          "2020-06-16",
          "2020-06-17",
          "2020-06-18",
          "2020-06-19",
          "2020-06-20",
          "2020-06-21"
         ],
         "xaxis": "x",
         "y": [
          3,
          1,
          4,
          2,
          1,
          2,
          2
         ],
         "yaxis": "y"
        },
        {
         "alignmentgroup": "True",
         "hovertemplate": "BU_NAAM=Nobelstraat en omgeving<br>date=%{x}<br>pm2_5=%{y}<extra></extra>",
         "legendgroup": "Nobelstraat en omgeving",
         "marker": {
          "color": "#19d3f3"
         },
         "name": "Nobelstraat en omgeving",
         "offsetgroup": "Nobelstraat en omgeving",
         "orientation": "v",
         "showlegend": true,
         "textposition": "auto",
         "type": "bar",
         "x": [
          "2020-06-15",
          "2020-06-16",
          "2020-06-17",
          "2020-06-18",
          "2020-06-19",
          "2020-06-20",
          "2020-06-21"
         ],
         "xaxis": "x",
         "y": [
          4,
          4,
          2,
          5,
          4,
          3,
          2
         ],
         "yaxis": "y"
        },
        {
         "alignmentgroup": "True",
         "hovertemplate": "BU_NAAM=Ondiep<br>date=%{x}<br>pm2_5=%{y}<extra></extra>",
         "legendgroup": "Ondiep",
         "marker": {
          "color": "#FF6692"
         },
         "name": "Ondiep",
         "offsetgroup": "Ondiep",
         "orientation": "v",
         "showlegend": true,
         "textposition": "auto",
         "type": "bar",
         "x": [
          "2020-06-15",
          "2020-06-16",
          "2020-06-17",
          "2020-06-18",
          "2020-06-19",
          "2020-06-20",
          "2020-06-21"
         ],
         "xaxis": "x",
         "y": [
          4,
          3,
          4,
          3,
          1,
          3,
          3
         ],
         "yaxis": "y"
        },
        {
         "alignmentgroup": "True",
         "hovertemplate": "BU_NAAM=Oog in Al<br>date=%{x}<br>pm2_5=%{y}<extra></extra>",
         "legendgroup": "Oog in Al",
         "marker": {
          "color": "#B6E880"
         },
         "name": "Oog in Al",
         "offsetgroup": "Oog in Al",
         "orientation": "v",
         "showlegend": true,
         "textposition": "auto",
         "type": "bar",
         "x": [
          "2020-06-15",
          "2020-06-16",
          "2020-06-17",
          "2020-06-18",
          "2020-06-19",
          "2020-06-20",
          "2020-06-21"
         ],
         "xaxis": "x",
         "y": [
          2,
          4,
          4,
          6,
          2,
          3,
          5
         ],
         "yaxis": "y"
        },
        {
         "alignmentgroup": "True",
         "hovertemplate": "BU_NAAM=Oud Hoograven-Noord<br>date=%{x}<br>pm2_5=%{y}<extra></extra>",
         "legendgroup": "Oud Hoograven-Noord",
         "marker": {
          "color": "#FF97FF"
         },
         "name": "Oud Hoograven-Noord",
         "offsetgroup": "Oud Hoograven-Noord",
         "orientation": "v",
         "showlegend": true,
         "textposition": "auto",
         "type": "bar",
         "x": [
          "2020-06-15",
          "2020-06-16",
          "2020-06-17",
          "2020-06-18",
          "2020-06-19",
          "2020-06-20",
          "2020-06-21"
         ],
         "xaxis": "x",
         "y": [
          1,
          3,
          2,
          3,
          2,
          4,
          2
         ],
         "yaxis": "y"
        },
        {
         "alignmentgroup": "True",
         "hovertemplate": "BU_NAAM=Oud Hoograven-Zuid<br>date=%{x}<br>pm2_5=%{y}<extra></extra>",
         "legendgroup": "Oud Hoograven-Zuid",
         "marker": {
          "color": "#FECB52"
         },
         "name": "Oud Hoograven-Zuid",
         "offsetgroup": "Oud Hoograven-Zuid",
         "orientation": "v",
         "showlegend": true,
         "textposition": "auto",
         "type": "bar",
         "x": [
          "2020-06-15",
          "2020-06-16",
          "2020-06-17",
          "2020-06-18",
          "2020-06-19",
          "2020-06-20",
          "2020-06-21"
         ],
         "xaxis": "x",
         "y": [
          1,
          2,
          5,
          2,
          3,
          1,
          1
         ],
         "yaxis": "y"
        },
        {
         "alignmentgroup": "True",
         "hovertemplate": "BU_NAAM=Oudwijk<br>date=%{x}<br>pm2_5=%{y}<extra></extra>",
         "legendgroup": "Oudwijk",
         "marker": {
          "color": "#636efa"
         },
         "name": "Oudwijk",
         "offsetgroup": "Oudwijk",
         "orientation": "v",
         "showlegend": true,
         "textposition": "auto",
         "type": "bar",
         "x": [
          "2020-06-15",
          "2020-06-16",
          "2020-06-17",
          "2020-06-18",
          "2020-06-19",
          "2020-06-20",
          "2020-06-21"
         ],
         "xaxis": "x",
         "y": [
          5,
          6,
          7,
          7,
          6,
          3,
          2
         ],
         "yaxis": "y"
        },
        {
         "alignmentgroup": "True",
         "hovertemplate": "BU_NAAM=Parkwijk-Noord<br>date=%{x}<br>pm2_5=%{y}<extra></extra>",
         "legendgroup": "Parkwijk-Noord",
         "marker": {
          "color": "#EF553B"
         },
         "name": "Parkwijk-Noord",
         "offsetgroup": "Parkwijk-Noord",
         "orientation": "v",
         "showlegend": true,
         "textposition": "auto",
         "type": "bar",
         "x": [
          "2020-06-16",
          "2020-06-19",
          "2020-06-20"
         ],
         "xaxis": "x",
         "y": [
          2,
          2,
          1
         ],
         "yaxis": "y"
        },
        {
         "alignmentgroup": "True",
         "hovertemplate": "BU_NAAM=Parkwijk-Zuid<br>date=%{x}<br>pm2_5=%{y}<extra></extra>",
         "legendgroup": "Parkwijk-Zuid",
         "marker": {
          "color": "#00cc96"
         },
         "name": "Parkwijk-Zuid",
         "offsetgroup": "Parkwijk-Zuid",
         "orientation": "v",
         "showlegend": true,
         "textposition": "auto",
         "type": "bar",
         "x": [
          "2020-06-16",
          "2020-06-17",
          "2020-06-18",
          "2020-06-19",
          "2020-06-20"
         ],
         "xaxis": "x",
         "y": [
          2,
          1,
          2,
          2,
          1
         ],
         "yaxis": "y"
        },
        {
         "alignmentgroup": "True",
         "hovertemplate": "BU_NAAM=Pijlsweerd-Noord<br>date=%{x}<br>pm2_5=%{y}<extra></extra>",
         "legendgroup": "Pijlsweerd-Noord",
         "marker": {
          "color": "#ab63fa"
         },
         "name": "Pijlsweerd-Noord",
         "offsetgroup": "Pijlsweerd-Noord",
         "orientation": "v",
         "showlegend": true,
         "textposition": "auto",
         "type": "bar",
         "x": [
          "2020-06-15",
          "2020-06-17",
          "2020-06-18",
          "2020-06-19",
          "2020-06-20",
          "2020-06-21"
         ],
         "xaxis": "x",
         "y": [
          3,
          3,
          2,
          3,
          2,
          2
         ],
         "yaxis": "y"
        },
        {
         "alignmentgroup": "True",
         "hovertemplate": "BU_NAAM=Pijlsweerd-Zuid<br>date=%{x}<br>pm2_5=%{y}<extra></extra>",
         "legendgroup": "Pijlsweerd-Zuid",
         "marker": {
          "color": "#FFA15A"
         },
         "name": "Pijlsweerd-Zuid",
         "offsetgroup": "Pijlsweerd-Zuid",
         "orientation": "v",
         "showlegend": true,
         "textposition": "auto",
         "type": "bar",
         "x": [
          "2020-06-15",
          "2020-06-17",
          "2020-06-18",
          "2020-06-19",
          "2020-06-20",
          "2020-06-21"
         ],
         "xaxis": "x",
         "y": [
          5,
          8,
          3,
          5,
          2,
          6
         ],
         "yaxis": "y"
        },
        {
         "alignmentgroup": "True",
         "hovertemplate": "BU_NAAM=Poldergebied Overvecht<br>date=%{x}<br>pm2_5=%{y}<extra></extra>",
         "legendgroup": "Poldergebied Overvecht",
         "marker": {
          "color": "#19d3f3"
         },
         "name": "Poldergebied Overvecht",
         "offsetgroup": "Poldergebied Overvecht",
         "orientation": "v",
         "showlegend": true,
         "textposition": "auto",
         "type": "bar",
         "x": [
          "2020-06-16",
          "2020-06-17",
          "2020-06-18",
          "2020-06-19",
          "2020-06-20",
          "2020-06-21"
         ],
         "xaxis": "x",
         "y": [
          2,
          10,
          5,
          2,
          5,
          4
         ],
         "yaxis": "y"
        },
        {
         "alignmentgroup": "True",
         "hovertemplate": "BU_NAAM=Prins Bernhardplein en omgeving<br>date=%{x}<br>pm2_5=%{y}<extra></extra>",
         "legendgroup": "Prins Bernhardplein en omgeving",
         "marker": {
          "color": "#FF6692"
         },
         "name": "Prins Bernhardplein en omgeving",
         "offsetgroup": "Prins Bernhardplein en omgeving",
         "orientation": "v",
         "showlegend": true,
         "textposition": "auto",
         "type": "bar",
         "x": [
          "2020-06-17",
          "2020-06-18",
          "2020-06-19",
          "2020-06-20",
          "2020-06-21"
         ],
         "xaxis": "x",
         "y": [
          2,
          3,
          2,
          4,
          4
         ],
         "yaxis": "y"
        },
        {
         "alignmentgroup": "True",
         "hovertemplate": "BU_NAAM=Queeckhovenplein en omgeving<br>date=%{x}<br>pm2_5=%{y}<extra></extra>",
         "legendgroup": "Queeckhovenplein en omgeving",
         "marker": {
          "color": "#B6E880"
         },
         "name": "Queeckhovenplein en omgeving",
         "offsetgroup": "Queeckhovenplein en omgeving",
         "orientation": "v",
         "showlegend": true,
         "textposition": "auto",
         "type": "bar",
         "x": [
          "2020-06-18",
          "2020-06-20",
          "2020-06-21"
         ],
         "xaxis": "x",
         "y": [
          1,
          1,
          1
         ],
         "yaxis": "y"
        },
        {
         "alignmentgroup": "True",
         "hovertemplate": "BU_NAAM=Rijnenburg<br>date=%{x}<br>pm2_5=%{y}<extra></extra>",
         "legendgroup": "Rijnenburg",
         "marker": {
          "color": "#FF97FF"
         },
         "name": "Rijnenburg",
         "offsetgroup": "Rijnenburg",
         "orientation": "v",
         "showlegend": true,
         "textposition": "auto",
         "type": "bar",
         "x": [
          "2020-06-15",
          "2020-06-16",
          "2020-06-17",
          "2020-06-18",
          "2020-06-19",
          "2020-06-20",
          "2020-06-21"
         ],
         "xaxis": "x",
         "y": [
          4,
          3,
          7,
          4,
          4,
          2,
          5
         ],
         "yaxis": "y"
        },
        {
         "alignmentgroup": "True",
         "hovertemplate": "BU_NAAM=Rijnsweerd<br>date=%{x}<br>pm2_5=%{y}<extra></extra>",
         "legendgroup": "Rijnsweerd",
         "marker": {
          "color": "#FECB52"
         },
         "name": "Rijnsweerd",
         "offsetgroup": "Rijnsweerd",
         "orientation": "v",
         "showlegend": true,
         "textposition": "auto",
         "type": "bar",
         "x": [
          "2020-06-15",
          "2020-06-16",
          "2020-06-17",
          "2020-06-18",
          "2020-06-19",
          "2020-06-20",
          "2020-06-21"
         ],
         "xaxis": "x",
         "y": [
          7,
          5,
          10,
          6,
          7,
          3,
          6
         ],
         "yaxis": "y"
        },
        {
         "alignmentgroup": "True",
         "hovertemplate": "BU_NAAM=Rijnvliet<br>date=%{x}<br>pm2_5=%{y}<extra></extra>",
         "legendgroup": "Rijnvliet",
         "marker": {
          "color": "#636efa"
         },
         "name": "Rijnvliet",
         "offsetgroup": "Rijnvliet",
         "orientation": "v",
         "showlegend": true,
         "textposition": "auto",
         "type": "bar",
         "x": [
          "2020-06-15",
          "2020-06-17",
          "2020-06-18",
          "2020-06-20"
         ],
         "xaxis": "x",
         "y": [
          2,
          2,
          5,
          1
         ],
         "yaxis": "y"
        },
        {
         "alignmentgroup": "True",
         "hovertemplate": "BU_NAAM=Rivierenwijk<br>date=%{x}<br>pm2_5=%{y}<extra></extra>",
         "legendgroup": "Rivierenwijk",
         "marker": {
          "color": "#EF553B"
         },
         "name": "Rivierenwijk",
         "offsetgroup": "Rivierenwijk",
         "orientation": "v",
         "showlegend": true,
         "textposition": "auto",
         "type": "bar",
         "x": [
          "2020-06-15",
          "2020-06-16",
          "2020-06-17",
          "2020-06-18",
          "2020-06-19",
          "2020-06-20",
          "2020-06-21"
         ],
         "xaxis": "x",
         "y": [
          1,
          6,
          9,
          4,
          6,
          3,
          2
         ],
         "yaxis": "y"
        },
        {
         "alignmentgroup": "True",
         "hovertemplate": "BU_NAAM=Rubenslaan en omgeving<br>date=%{x}<br>pm2_5=%{y}<extra></extra>",
         "legendgroup": "Rubenslaan en omgeving",
         "marker": {
          "color": "#00cc96"
         },
         "name": "Rubenslaan en omgeving",
         "offsetgroup": "Rubenslaan en omgeving",
         "orientation": "v",
         "showlegend": true,
         "textposition": "auto",
         "type": "bar",
         "x": [
          "2020-06-16",
          "2020-06-17",
          "2020-06-18",
          "2020-06-19",
          "2020-06-20",
          "2020-06-21"
         ],
         "xaxis": "x",
         "y": [
          2,
          4,
          2,
          9,
          5,
          1
         ],
         "yaxis": "y"
        },
        {
         "alignmentgroup": "True",
         "hovertemplate": "BU_NAAM=Schaakbuurt en omgeving<br>date=%{x}<br>pm2_5=%{y}<extra></extra>",
         "legendgroup": "Schaakbuurt en omgeving",
         "marker": {
          "color": "#ab63fa"
         },
         "name": "Schaakbuurt en omgeving",
         "offsetgroup": "Schaakbuurt en omgeving",
         "orientation": "v",
         "showlegend": true,
         "textposition": "auto",
         "type": "bar",
         "x": [
          "2020-06-15",
          "2020-06-17",
          "2020-06-18",
          "2020-06-20",
          "2020-06-21"
         ],
         "xaxis": "x",
         "y": [
          2,
          2,
          1,
          1,
          1
         ],
         "yaxis": "y"
        },
        {
         "alignmentgroup": "True",
         "hovertemplate": "BU_NAAM=Schepenbuurt, Cartesiusweg e.o.<br>date=%{x}<br>pm2_5=%{y}<extra></extra>",
         "legendgroup": "Schepenbuurt, Cartesiusweg e.o.",
         "marker": {
          "color": "#FFA15A"
         },
         "name": "Schepenbuurt, Cartesiusweg e.o.",
         "offsetgroup": "Schepenbuurt, Cartesiusweg e.o.",
         "orientation": "v",
         "showlegend": true,
         "textposition": "auto",
         "type": "bar",
         "x": [
          "2020-06-15",
          "2020-06-16",
          "2020-06-17",
          "2020-06-18",
          "2020-06-19",
          "2020-06-20",
          "2020-06-21"
         ],
         "xaxis": "x",
         "y": [
          3,
          2,
          3,
          2,
          3,
          4,
          3
         ],
         "yaxis": "y"
        },
        {
         "alignmentgroup": "True",
         "hovertemplate": "BU_NAAM=Schildersbuurt<br>date=%{x}<br>pm2_5=%{y}<extra></extra>",
         "legendgroup": "Schildersbuurt",
         "marker": {
          "color": "#19d3f3"
         },
         "name": "Schildersbuurt",
         "offsetgroup": "Schildersbuurt",
         "orientation": "v",
         "showlegend": true,
         "textposition": "auto",
         "type": "bar",
         "x": [
          "2020-06-15",
          "2020-06-16",
          "2020-06-17",
          "2020-06-18",
          "2020-06-19",
          "2020-06-20",
          "2020-06-21"
         ],
         "xaxis": "x",
         "y": [
          3,
          2,
          5,
          5,
          6,
          6,
          4
         ],
         "yaxis": "y"
        },
        {
         "alignmentgroup": "True",
         "hovertemplate": "BU_NAAM=Springweg en omgeving Geertebuurt<br>date=%{x}<br>pm2_5=%{y}<extra></extra>",
         "legendgroup": "Springweg en omgeving Geertebuurt",
         "marker": {
          "color": "#FF6692"
         },
         "name": "Springweg en omgeving Geertebuurt",
         "offsetgroup": "Springweg en omgeving Geertebuurt",
         "orientation": "v",
         "showlegend": true,
         "textposition": "auto",
         "type": "bar",
         "x": [
          "2020-06-15",
          "2020-06-16",
          "2020-06-17",
          "2020-06-18",
          "2020-06-20"
         ],
         "xaxis": "x",
         "y": [
          1,
          1,
          1,
          6,
          2
         ],
         "yaxis": "y"
        },
        {
         "alignmentgroup": "True",
         "hovertemplate": "BU_NAAM=Staatsliedenbuurt<br>date=%{x}<br>pm2_5=%{y}<extra></extra>",
         "legendgroup": "Staatsliedenbuurt",
         "marker": {
          "color": "#B6E880"
         },
         "name": "Staatsliedenbuurt",
         "offsetgroup": "Staatsliedenbuurt",
         "orientation": "v",
         "showlegend": true,
         "textposition": "auto",
         "type": "bar",
         "x": [
          "2020-06-15",
          "2020-06-16",
          "2020-06-17",
          "2020-06-19",
          "2020-06-21"
         ],
         "xaxis": "x",
         "y": [
          3,
          3,
          2,
          1,
          3
         ],
         "yaxis": "y"
        },
        {
         "alignmentgroup": "True",
         "hovertemplate": "BU_NAAM=Sterrenwijk<br>date=%{x}<br>pm2_5=%{y}<extra></extra>",
         "legendgroup": "Sterrenwijk",
         "marker": {
          "color": "#FF97FF"
         },
         "name": "Sterrenwijk",
         "offsetgroup": "Sterrenwijk",
         "orientation": "v",
         "showlegend": true,
         "textposition": "auto",
         "type": "bar",
         "x": [
          "2020-06-16",
          "2020-06-17",
          "2020-06-18",
          "2020-06-19",
          "2020-06-20"
         ],
         "xaxis": "x",
         "y": [
          1,
          4,
          3,
          4,
          3
         ],
         "yaxis": "y"
        },
        {
         "alignmentgroup": "True",
         "hovertemplate": "BU_NAAM=Taag- en Rubicondreef en omgeving<br>date=%{x}<br>pm2_5=%{y}<extra></extra>",
         "legendgroup": "Taag- en Rubicondreef en omgeving",
         "marker": {
          "color": "#FECB52"
         },
         "name": "Taag- en Rubicondreef en omgeving",
         "offsetgroup": "Taag- en Rubicondreef en omgeving",
         "orientation": "v",
         "showlegend": true,
         "textposition": "auto",
         "type": "bar",
         "x": [
          "2020-06-15",
          "2020-06-16",
          "2020-06-17",
          "2020-06-18",
          "2020-06-19",
          "2020-06-20"
         ],
         "xaxis": "x",
         "y": [
          1,
          2,
          6,
          7,
          1,
          2
         ],
         "yaxis": "y"
        },
        {
         "alignmentgroup": "True",
         "hovertemplate": "BU_NAAM=Terwijde-Oost<br>date=%{x}<br>pm2_5=%{y}<extra></extra>",
         "legendgroup": "Terwijde-Oost",
         "marker": {
          "color": "#636efa"
         },
         "name": "Terwijde-Oost",
         "offsetgroup": "Terwijde-Oost",
         "orientation": "v",
         "showlegend": true,
         "textposition": "auto",
         "type": "bar",
         "x": [
          "2020-06-15",
          "2020-06-18",
          "2020-06-19",
          "2020-06-20"
         ],
         "xaxis": "x",
         "y": [
          1,
          2,
          2,
          1
         ],
         "yaxis": "y"
        },
        {
         "alignmentgroup": "True",
         "hovertemplate": "BU_NAAM=Terwijde-West<br>date=%{x}<br>pm2_5=%{y}<extra></extra>",
         "legendgroup": "Terwijde-West",
         "marker": {
          "color": "#EF553B"
         },
         "name": "Terwijde-West",
         "offsetgroup": "Terwijde-West",
         "orientation": "v",
         "showlegend": true,
         "textposition": "auto",
         "type": "bar",
         "x": [
          "2020-06-15",
          "2020-06-17",
          "2020-06-18",
          "2020-06-19",
          "2020-06-20"
         ],
         "xaxis": "x",
         "y": [
          1,
          3,
          1,
          3,
          1
         ],
         "yaxis": "y"
        },
        {
         "alignmentgroup": "True",
         "hovertemplate": "BU_NAAM=Tigrisdreef en omgeving<br>date=%{x}<br>pm2_5=%{y}<extra></extra>",
         "legendgroup": "Tigrisdreef en omgeving",
         "marker": {
          "color": "#00cc96"
         },
         "name": "Tigrisdreef en omgeving",
         "offsetgroup": "Tigrisdreef en omgeving",
         "orientation": "v",
         "showlegend": true,
         "textposition": "auto",
         "type": "bar",
         "x": [
          "2020-06-15",
          "2020-06-16",
          "2020-06-17",
          "2020-06-18",
          "2020-06-20",
          "2020-06-21"
         ],
         "xaxis": "x",
         "y": [
          4,
          2,
          1,
          2,
          1,
          1
         ],
         "yaxis": "y"
        },
        {
         "alignmentgroup": "True",
         "hovertemplate": "BU_NAAM=Tolsteeg en Rotsoord<br>date=%{x}<br>pm2_5=%{y}<extra></extra>",
         "legendgroup": "Tolsteeg en Rotsoord",
         "marker": {
          "color": "#ab63fa"
         },
         "name": "Tolsteeg en Rotsoord",
         "offsetgroup": "Tolsteeg en Rotsoord",
         "orientation": "v",
         "showlegend": true,
         "textposition": "auto",
         "type": "bar",
         "x": [
          "2020-06-15",
          "2020-06-16",
          "2020-06-17",
          "2020-06-18",
          "2020-06-19",
          "2020-06-20",
          "2020-06-21"
         ],
         "xaxis": "x",
         "y": [
          1,
          6,
          7,
          10,
          6,
          3,
          5
         ],
         "yaxis": "y"
        },
        {
         "alignmentgroup": "True",
         "hovertemplate": "BU_NAAM=Transwijk-Noord<br>date=%{x}<br>pm2_5=%{y}<extra></extra>",
         "legendgroup": "Transwijk-Noord",
         "marker": {
          "color": "#FFA15A"
         },
         "name": "Transwijk-Noord",
         "offsetgroup": "Transwijk-Noord",
         "orientation": "v",
         "showlegend": true,
         "textposition": "auto",
         "type": "bar",
         "x": [
          "2020-06-15",
          "2020-06-16",
          "2020-06-17",
          "2020-06-18",
          "2020-06-19",
          "2020-06-21"
         ],
         "xaxis": "x",
         "y": [
          1,
          2,
          4,
          4,
          1,
          1
         ],
         "yaxis": "y"
        },
        {
         "alignmentgroup": "True",
         "hovertemplate": "BU_NAAM=Transwijk-Zuid<br>date=%{x}<br>pm2_5=%{y}<extra></extra>",
         "legendgroup": "Transwijk-Zuid",
         "marker": {
          "color": "#19d3f3"
         },
         "name": "Transwijk-Zuid",
         "offsetgroup": "Transwijk-Zuid",
         "orientation": "v",
         "showlegend": true,
         "textposition": "auto",
         "type": "bar",
         "x": [
          "2020-06-15",
          "2020-06-16",
          "2020-06-17",
          "2020-06-18",
          "2020-06-20"
         ],
         "xaxis": "x",
         "y": [
          2,
          3,
          4,
          1,
          1
         ],
         "yaxis": "y"
        },
        {
         "alignmentgroup": "True",
         "hovertemplate": "BU_NAAM=Tuindorp en Van Lieflandlaan-West<br>date=%{x}<br>pm2_5=%{y}<extra></extra>",
         "legendgroup": "Tuindorp en Van Lieflandlaan-West",
         "marker": {
          "color": "#FF6692"
         },
         "name": "Tuindorp en Van Lieflandlaan-West",
         "offsetgroup": "Tuindorp en Van Lieflandlaan-West",
         "orientation": "v",
         "showlegend": true,
         "textposition": "auto",
         "type": "bar",
         "x": [
          "2020-06-15",
          "2020-06-16",
          "2020-06-17",
          "2020-06-18",
          "2020-06-19",
          "2020-06-20",
          "2020-06-21"
         ],
         "xaxis": "x",
         "y": [
          2,
          3,
          3,
          2,
          1,
          2,
          1
         ],
         "yaxis": "y"
        },
        {
         "alignmentgroup": "True",
         "hovertemplate": "BU_NAAM=Tuindorp-Oost<br>date=%{x}<br>pm2_5=%{y}<extra></extra>",
         "legendgroup": "Tuindorp-Oost",
         "marker": {
          "color": "#B6E880"
         },
         "name": "Tuindorp-Oost",
         "offsetgroup": "Tuindorp-Oost",
         "orientation": "v",
         "showlegend": true,
         "textposition": "auto",
         "type": "bar",
         "x": [
          "2020-06-15",
          "2020-06-16",
          "2020-06-17",
          "2020-06-18",
          "2020-06-19",
          "2020-06-20",
          "2020-06-21"
         ],
         "xaxis": "x",
         "y": [
          3,
          3,
          6,
          4,
          3,
          5,
          6
         ],
         "yaxis": "y"
        },
        {
         "alignmentgroup": "True",
         "hovertemplate": "BU_NAAM=Tuinwijk-Oost<br>date=%{x}<br>pm2_5=%{y}<extra></extra>",
         "legendgroup": "Tuinwijk-Oost",
         "marker": {
          "color": "#FF97FF"
         },
         "name": "Tuinwijk-Oost",
         "offsetgroup": "Tuinwijk-Oost",
         "orientation": "v",
         "showlegend": true,
         "textposition": "auto",
         "type": "bar",
         "x": [
          "2020-06-15",
          "2020-06-16",
          "2020-06-17",
          "2020-06-18",
          "2020-06-19",
          "2020-06-20",
          "2020-06-21"
         ],
         "xaxis": "x",
         "y": [
          6,
          5,
          11,
          5,
          7,
          6,
          8
         ],
         "yaxis": "y"
        },
        {
         "alignmentgroup": "True",
         "hovertemplate": "BU_NAAM=Tuinwijk-West<br>date=%{x}<br>pm2_5=%{y}<extra></extra>",
         "legendgroup": "Tuinwijk-West",
         "marker": {
          "color": "#FECB52"
         },
         "name": "Tuinwijk-West",
         "offsetgroup": "Tuinwijk-West",
         "orientation": "v",
         "showlegend": true,
         "textposition": "auto",
         "type": "bar",
         "x": [
          "2020-06-15",
          "2020-06-16",
          "2020-06-17",
          "2020-06-19",
          "2020-06-21"
         ],
         "xaxis": "x",
         "y": [
          2,
          2,
          3,
          1,
          1
         ],
         "yaxis": "y"
        },
        {
         "alignmentgroup": "True",
         "hovertemplate": "BU_NAAM=Utrecht Science Park<br>date=%{x}<br>pm2_5=%{y}<extra></extra>",
         "legendgroup": "Utrecht Science Park",
         "marker": {
          "color": "#636efa"
         },
         "name": "Utrecht Science Park",
         "offsetgroup": "Utrecht Science Park",
         "orientation": "v",
         "showlegend": true,
         "textposition": "auto",
         "type": "bar",
         "x": [
          "2020-06-15",
          "2020-06-16",
          "2020-06-17",
          "2020-06-18",
          "2020-06-19",
          "2020-06-20",
          "2020-06-21"
         ],
         "xaxis": "x",
         "y": [
          6,
          4,
          8,
          7,
          7,
          3,
          5
         ],
         "yaxis": "y"
        },
        {
         "alignmentgroup": "True",
         "hovertemplate": "BU_NAAM=Vechtzoom-noord, Klopvaart<br>date=%{x}<br>pm2_5=%{y}<extra></extra>",
         "legendgroup": "Vechtzoom-noord, Klopvaart",
         "marker": {
          "color": "#EF553B"
         },
         "name": "Vechtzoom-noord, Klopvaart",
         "offsetgroup": "Vechtzoom-noord, Klopvaart",
         "orientation": "v",
         "showlegend": true,
         "textposition": "auto",
         "type": "bar",
         "x": [
          "2020-06-15",
          "2020-06-16",
          "2020-06-17",
          "2020-06-18",
          "2020-06-20",
          "2020-06-21"
         ],
         "xaxis": "x",
         "y": [
          1,
          2,
          1,
          2,
          2,
          1
         ],
         "yaxis": "y"
        },
        {
         "alignmentgroup": "True",
         "hovertemplate": "BU_NAAM=Vechtzoom-zuid<br>date=%{x}<br>pm2_5=%{y}<extra></extra>",
         "legendgroup": "Vechtzoom-zuid",
         "marker": {
          "color": "#00cc96"
         },
         "name": "Vechtzoom-zuid",
         "offsetgroup": "Vechtzoom-zuid",
         "orientation": "v",
         "showlegend": true,
         "textposition": "auto",
         "type": "bar",
         "x": [
          "2020-06-15",
          "2020-06-16",
          "2020-06-18",
          "2020-06-19",
          "2020-06-20"
         ],
         "xaxis": "x",
         "y": [
          1,
          4,
          2,
          1,
          2
         ],
         "yaxis": "y"
        },
        {
         "alignmentgroup": "True",
         "hovertemplate": "BU_NAAM=Veldhuizen<br>date=%{x}<br>pm2_5=%{y}<extra></extra>",
         "legendgroup": "Veldhuizen",
         "marker": {
          "color": "#ab63fa"
         },
         "name": "Veldhuizen",
         "offsetgroup": "Veldhuizen",
         "orientation": "v",
         "showlegend": true,
         "textposition": "auto",
         "type": "bar",
         "x": [
          "2020-06-18",
          "2020-06-20",
          "2020-06-21"
         ],
         "xaxis": "x",
         "y": [
          1,
          2,
          1
         ],
         "yaxis": "y"
        },
        {
         "alignmentgroup": "True",
         "hovertemplate": "BU_NAAM=Vleuten<br>date=%{x}<br>pm2_5=%{y}<extra></extra>",
         "legendgroup": "Vleuten",
         "marker": {
          "color": "#FFA15A"
         },
         "name": "Vleuten",
         "offsetgroup": "Vleuten",
         "orientation": "v",
         "showlegend": true,
         "textposition": "auto",
         "type": "bar",
         "x": [
          "2020-06-15",
          "2020-06-19",
          "2020-06-20",
          "2020-06-21"
         ],
         "xaxis": "x",
         "y": [
          2,
          2,
          1,
          5
         ],
         "yaxis": "y"
        },
        {
         "alignmentgroup": "True",
         "hovertemplate": "BU_NAAM=Vleuterweide-Noord/Oost/Centrum<br>date=%{x}<br>pm2_5=%{y}<extra></extra>",
         "legendgroup": "Vleuterweide-Noord/Oost/Centrum",
         "marker": {
          "color": "#19d3f3"
         },
         "name": "Vleuterweide-Noord/Oost/Centrum",
         "offsetgroup": "Vleuterweide-Noord/Oost/Centrum",
         "orientation": "v",
         "showlegend": true,
         "textposition": "auto",
         "type": "bar",
         "x": [
          "2020-06-15",
          "2020-06-16",
          "2020-06-17",
          "2020-06-18",
          "2020-06-19",
          "2020-06-20",
          "2020-06-21"
         ],
         "xaxis": "x",
         "y": [
          1,
          2,
          2,
          2,
          3,
          2,
          5
         ],
         "yaxis": "y"
        },
        {
         "alignmentgroup": "True",
         "hovertemplate": "BU_NAAM=Vleuterweide-West<br>date=%{x}<br>pm2_5=%{y}<extra></extra>",
         "legendgroup": "Vleuterweide-West",
         "marker": {
          "color": "#FF6692"
         },
         "name": "Vleuterweide-West",
         "offsetgroup": "Vleuterweide-West",
         "orientation": "v",
         "showlegend": true,
         "textposition": "auto",
         "type": "bar",
         "x": [
          "2020-06-15",
          "2020-06-16",
          "2020-06-17",
          "2020-06-18",
          "2020-06-19",
          "2020-06-20",
          "2020-06-21"
         ],
         "xaxis": "x",
         "y": [
          1,
          3,
          1,
          2,
          1,
          1,
          3
         ],
         "yaxis": "y"
        },
        {
         "alignmentgroup": "True",
         "hovertemplate": "BU_NAAM=Vleuterweide-Zuid<br>date=%{x}<br>pm2_5=%{y}<extra></extra>",
         "legendgroup": "Vleuterweide-Zuid",
         "marker": {
          "color": "#B6E880"
         },
         "name": "Vleuterweide-Zuid",
         "offsetgroup": "Vleuterweide-Zuid",
         "orientation": "v",
         "showlegend": true,
         "textposition": "auto",
         "type": "bar",
         "x": [
          "2020-06-15",
          "2020-06-17",
          "2020-06-18",
          "2020-06-19",
          "2020-06-20",
          "2020-06-21"
         ],
         "xaxis": "x",
         "y": [
          1,
          2,
          2,
          1,
          2,
          1
         ],
         "yaxis": "y"
        },
        {
         "alignmentgroup": "True",
         "hovertemplate": "BU_NAAM=Vogelenbuurt<br>date=%{x}<br>pm2_5=%{y}<extra></extra>",
         "legendgroup": "Vogelenbuurt",
         "marker": {
          "color": "#FF97FF"
         },
         "name": "Vogelenbuurt",
         "offsetgroup": "Vogelenbuurt",
         "orientation": "v",
         "showlegend": true,
         "textposition": "auto",
         "type": "bar",
         "x": [
          "2020-06-15",
          "2020-06-16",
          "2020-06-17",
          "2020-06-18",
          "2020-06-19",
          "2020-06-20",
          "2020-06-21"
         ],
         "xaxis": "x",
         "y": [
          4,
          4,
          8,
          4,
          3,
          4,
          4
         ],
         "yaxis": "y"
        },
        {
         "alignmentgroup": "True",
         "hovertemplate": "BU_NAAM=Voordorp en Voorveldsepolder<br>date=%{x}<br>pm2_5=%{y}<extra></extra>",
         "legendgroup": "Voordorp en Voorveldsepolder",
         "marker": {
          "color": "#FECB52"
         },
         "name": "Voordorp en Voorveldsepolder",
         "offsetgroup": "Voordorp en Voorveldsepolder",
         "orientation": "v",
         "showlegend": true,
         "textposition": "auto",
         "type": "bar",
         "x": [
          "2020-06-15",
          "2020-06-16",
          "2020-06-17",
          "2020-06-18",
          "2020-06-19",
          "2020-06-20",
          "2020-06-21"
         ],
         "xaxis": "x",
         "y": [
          5,
          5,
          12,
          8,
          6,
          6,
          7
         ],
         "yaxis": "y"
        },
        {
         "alignmentgroup": "True",
         "hovertemplate": "BU_NAAM=Watervogelbuurt<br>date=%{x}<br>pm2_5=%{y}<extra></extra>",
         "legendgroup": "Watervogelbuurt",
         "marker": {
          "color": "#636efa"
         },
         "name": "Watervogelbuurt",
         "offsetgroup": "Watervogelbuurt",
         "orientation": "v",
         "showlegend": true,
         "textposition": "auto",
         "type": "bar",
         "x": [
          "2020-06-15",
          "2020-06-16",
          "2020-06-17",
          "2020-06-18",
          "2020-06-19",
          "2020-06-20",
          "2020-06-21"
         ],
         "xaxis": "x",
         "y": [
          1,
          3,
          7,
          8,
          9,
          6,
          4
         ],
         "yaxis": "y"
        },
        {
         "alignmentgroup": "True",
         "hovertemplate": "BU_NAAM=Welgelegen, Den Hommel<br>date=%{x}<br>pm2_5=%{y}<extra></extra>",
         "legendgroup": "Welgelegen, Den Hommel",
         "marker": {
          "color": "#EF553B"
         },
         "name": "Welgelegen, Den Hommel",
         "offsetgroup": "Welgelegen, Den Hommel",
         "orientation": "v",
         "showlegend": true,
         "textposition": "auto",
         "type": "bar",
         "x": [
          "2020-06-15",
          "2020-06-16",
          "2020-06-17",
          "2020-06-18",
          "2020-06-19",
          "2020-06-20",
          "2020-06-21"
         ],
         "xaxis": "x",
         "y": [
          3,
          3,
          4,
          8,
          1,
          4,
          5
         ],
         "yaxis": "y"
        },
        {
         "alignmentgroup": "True",
         "hovertemplate": "BU_NAAM=Wijk C<br>date=%{x}<br>pm2_5=%{y}<extra></extra>",
         "legendgroup": "Wijk C",
         "marker": {
          "color": "#00cc96"
         },
         "name": "Wijk C",
         "offsetgroup": "Wijk C",
         "orientation": "v",
         "showlegend": true,
         "textposition": "auto",
         "type": "bar",
         "x": [
          "2020-06-15",
          "2020-06-16",
          "2020-06-17",
          "2020-06-18",
          "2020-06-19",
          "2020-06-20",
          "2020-06-21"
         ],
         "xaxis": "x",
         "y": [
          5,
          5,
          3,
          5,
          7,
          2,
          3
         ],
         "yaxis": "y"
        },
        {
         "alignmentgroup": "True",
         "hovertemplate": "BU_NAAM=Wilhelminapark en omgeving<br>date=%{x}<br>pm2_5=%{y}<extra></extra>",
         "legendgroup": "Wilhelminapark en omgeving",
         "marker": {
          "color": "#ab63fa"
         },
         "name": "Wilhelminapark en omgeving",
         "offsetgroup": "Wilhelminapark en omgeving",
         "orientation": "v",
         "showlegend": true,
         "textposition": "auto",
         "type": "bar",
         "x": [
          "2020-06-15",
          "2020-06-16",
          "2020-06-17",
          "2020-06-18",
          "2020-06-19",
          "2020-06-20",
          "2020-06-21"
         ],
         "xaxis": "x",
         "y": [
          5,
          4,
          5,
          5,
          8,
          5,
          4
         ],
         "yaxis": "y"
        },
        {
         "alignmentgroup": "True",
         "hovertemplate": "BU_NAAM=Wittevrouwen<br>date=%{x}<br>pm2_5=%{y}<extra></extra>",
         "legendgroup": "Wittevrouwen",
         "marker": {
          "color": "#FFA15A"
         },
         "name": "Wittevrouwen",
         "offsetgroup": "Wittevrouwen",
         "orientation": "v",
         "showlegend": true,
         "textposition": "auto",
         "type": "bar",
         "x": [
          "2020-06-15",
          "2020-06-16",
          "2020-06-17",
          "2020-06-18",
          "2020-06-19",
          "2020-06-20",
          "2020-06-21"
         ],
         "xaxis": "x",
         "y": [
          3,
          6,
          3,
          2,
          7,
          2,
          3
         ],
         "yaxis": "y"
        },
        {
         "alignmentgroup": "True",
         "hovertemplate": "BU_NAAM=Wolga- en Donaudreef en omgeving<br>date=%{x}<br>pm2_5=%{y}<extra></extra>",
         "legendgroup": "Wolga- en Donaudreef en omgeving",
         "marker": {
          "color": "#19d3f3"
         },
         "name": "Wolga- en Donaudreef en omgeving",
         "offsetgroup": "Wolga- en Donaudreef en omgeving",
         "orientation": "v",
         "showlegend": true,
         "textposition": "auto",
         "type": "bar",
         "x": [
          "2020-06-17",
          "2020-06-18",
          "2020-06-19",
          "2020-06-20",
          "2020-06-21"
         ],
         "xaxis": "x",
         "y": [
          9,
          2,
          2,
          3,
          3
         ],
         "yaxis": "y"
        },
        {
         "alignmentgroup": "True",
         "hovertemplate": "BU_NAAM=Zambesidreef en omgeving<br>date=%{x}<br>pm2_5=%{y}<extra></extra>",
         "legendgroup": "Zambesidreef en omgeving",
         "marker": {
          "color": "#FF6692"
         },
         "name": "Zambesidreef en omgeving",
         "offsetgroup": "Zambesidreef en omgeving",
         "orientation": "v",
         "showlegend": true,
         "textposition": "auto",
         "type": "bar",
         "x": [
          "2020-06-15",
          "2020-06-16",
          "2020-06-17",
          "2020-06-18",
          "2020-06-20",
          "2020-06-21"
         ],
         "xaxis": "x",
         "y": [
          3,
          1,
          1,
          3,
          1,
          1
         ],
         "yaxis": "y"
        },
        {
         "alignmentgroup": "True",
         "hovertemplate": "BU_NAAM=Zamenhofdreef en omgeving<br>date=%{x}<br>pm2_5=%{y}<extra></extra>",
         "legendgroup": "Zamenhofdreef en omgeving",
         "marker": {
          "color": "#B6E880"
         },
         "name": "Zamenhofdreef en omgeving",
         "offsetgroup": "Zamenhofdreef en omgeving",
         "orientation": "v",
         "showlegend": true,
         "textposition": "auto",
         "type": "bar",
         "x": [
          "2020-06-15",
          "2020-06-16",
          "2020-06-17",
          "2020-06-18",
          "2020-06-19",
          "2020-06-20",
          "2020-06-21"
         ],
         "xaxis": "x",
         "y": [
          3,
          4,
          4,
          6,
          2,
          4,
          1
         ],
         "yaxis": "y"
        },
        {
         "alignmentgroup": "True",
         "hovertemplate": "BU_NAAM=Zeeheldenbuurt, Hengeveldstraat en omgeving<br>date=%{x}<br>pm2_5=%{y}<extra></extra>",
         "legendgroup": "Zeeheldenbuurt, Hengeveldstraat en omgeving",
         "marker": {
          "color": "#FF97FF"
         },
         "name": "Zeeheldenbuurt, Hengeveldstraat en omgeving",
         "offsetgroup": "Zeeheldenbuurt, Hengeveldstraat en omgeving",
         "orientation": "v",
         "showlegend": true,
         "textposition": "auto",
         "type": "bar",
         "x": [
          "2020-06-15",
          "2020-06-16",
          "2020-06-17",
          "2020-06-18",
          "2020-06-19",
          "2020-06-20",
          "2020-06-21"
         ],
         "xaxis": "x",
         "y": [
          6,
          6,
          6,
          7,
          5,
          6,
          7
         ],
         "yaxis": "y"
        },
        {
         "alignmentgroup": "True",
         "hovertemplate": "BU_NAAM=Zuilen-Noord<br>date=%{x}<br>pm2_5=%{y}<extra></extra>",
         "legendgroup": "Zuilen-Noord",
         "marker": {
          "color": "#FECB52"
         },
         "name": "Zuilen-Noord",
         "offsetgroup": "Zuilen-Noord",
         "orientation": "v",
         "showlegend": true,
         "textposition": "auto",
         "type": "bar",
         "x": [
          "2020-06-17",
          "2020-06-18",
          "2020-06-19",
          "2020-06-20",
          "2020-06-21"
         ],
         "xaxis": "x",
         "y": [
          2,
          2,
          2,
          3,
          2
         ],
         "yaxis": "y"
        }
       ],
       "layout": {
        "barmode": "relative",
        "legend": {
         "title": {
          "text": "BU_NAAM"
         },
         "tracegroupgap": 0
        },
        "margin": {
         "t": 60
        },
        "template": {
         "data": {
          "bar": [
           {
            "error_x": {
             "color": "#2a3f5f"
            },
            "error_y": {
             "color": "#2a3f5f"
            },
            "marker": {
             "line": {
              "color": "#E5ECF6",
              "width": 0.5
             }
            },
            "type": "bar"
           }
          ],
          "barpolar": [
           {
            "marker": {
             "line": {
              "color": "#E5ECF6",
              "width": 0.5
             }
            },
            "type": "barpolar"
           }
          ],
          "carpet": [
           {
            "aaxis": {
             "endlinecolor": "#2a3f5f",
             "gridcolor": "white",
             "linecolor": "white",
             "minorgridcolor": "white",
             "startlinecolor": "#2a3f5f"
            },
            "baxis": {
             "endlinecolor": "#2a3f5f",
             "gridcolor": "white",
             "linecolor": "white",
             "minorgridcolor": "white",
             "startlinecolor": "#2a3f5f"
            },
            "type": "carpet"
           }
          ],
          "choropleth": [
           {
            "colorbar": {
             "outlinewidth": 0,
             "ticks": ""
            },
            "type": "choropleth"
           }
          ],
          "contour": [
           {
            "colorbar": {
             "outlinewidth": 0,
             "ticks": ""
            },
            "colorscale": [
             [
              0,
              "#0d0887"
             ],
             [
              0.1111111111111111,
              "#46039f"
             ],
             [
              0.2222222222222222,
              "#7201a8"
             ],
             [
              0.3333333333333333,
              "#9c179e"
             ],
             [
              0.4444444444444444,
              "#bd3786"
             ],
             [
              0.5555555555555556,
              "#d8576b"
             ],
             [
              0.6666666666666666,
              "#ed7953"
             ],
             [
              0.7777777777777778,
              "#fb9f3a"
             ],
             [
              0.8888888888888888,
              "#fdca26"
             ],
             [
              1,
              "#f0f921"
             ]
            ],
            "type": "contour"
           }
          ],
          "contourcarpet": [
           {
            "colorbar": {
             "outlinewidth": 0,
             "ticks": ""
            },
            "type": "contourcarpet"
           }
          ],
          "heatmap": [
           {
            "colorbar": {
             "outlinewidth": 0,
             "ticks": ""
            },
            "colorscale": [
             [
              0,
              "#0d0887"
             ],
             [
              0.1111111111111111,
              "#46039f"
             ],
             [
              0.2222222222222222,
              "#7201a8"
             ],
             [
              0.3333333333333333,
              "#9c179e"
             ],
             [
              0.4444444444444444,
              "#bd3786"
             ],
             [
              0.5555555555555556,
              "#d8576b"
             ],
             [
              0.6666666666666666,
              "#ed7953"
             ],
             [
              0.7777777777777778,
              "#fb9f3a"
             ],
             [
              0.8888888888888888,
              "#fdca26"
             ],
             [
              1,
              "#f0f921"
             ]
            ],
            "type": "heatmap"
           }
          ],
          "heatmapgl": [
           {
            "colorbar": {
             "outlinewidth": 0,
             "ticks": ""
            },
            "colorscale": [
             [
              0,
              "#0d0887"
             ],
             [
              0.1111111111111111,
              "#46039f"
             ],
             [
              0.2222222222222222,
              "#7201a8"
             ],
             [
              0.3333333333333333,
              "#9c179e"
             ],
             [
              0.4444444444444444,
              "#bd3786"
             ],
             [
              0.5555555555555556,
              "#d8576b"
             ],
             [
              0.6666666666666666,
              "#ed7953"
             ],
             [
              0.7777777777777778,
              "#fb9f3a"
             ],
             [
              0.8888888888888888,
              "#fdca26"
             ],
             [
              1,
              "#f0f921"
             ]
            ],
            "type": "heatmapgl"
           }
          ],
          "histogram": [
           {
            "marker": {
             "colorbar": {
              "outlinewidth": 0,
              "ticks": ""
             }
            },
            "type": "histogram"
           }
          ],
          "histogram2d": [
           {
            "colorbar": {
             "outlinewidth": 0,
             "ticks": ""
            },
            "colorscale": [
             [
              0,
              "#0d0887"
             ],
             [
              0.1111111111111111,
              "#46039f"
             ],
             [
              0.2222222222222222,
              "#7201a8"
             ],
             [
              0.3333333333333333,
              "#9c179e"
             ],
             [
              0.4444444444444444,
              "#bd3786"
             ],
             [
              0.5555555555555556,
              "#d8576b"
             ],
             [
              0.6666666666666666,
              "#ed7953"
             ],
             [
              0.7777777777777778,
              "#fb9f3a"
             ],
             [
              0.8888888888888888,
              "#fdca26"
             ],
             [
              1,
              "#f0f921"
             ]
            ],
            "type": "histogram2d"
           }
          ],
          "histogram2dcontour": [
           {
            "colorbar": {
             "outlinewidth": 0,
             "ticks": ""
            },
            "colorscale": [
             [
              0,
              "#0d0887"
             ],
             [
              0.1111111111111111,
              "#46039f"
             ],
             [
              0.2222222222222222,
              "#7201a8"
             ],
             [
              0.3333333333333333,
              "#9c179e"
             ],
             [
              0.4444444444444444,
              "#bd3786"
             ],
             [
              0.5555555555555556,
              "#d8576b"
             ],
             [
              0.6666666666666666,
              "#ed7953"
             ],
             [
              0.7777777777777778,
              "#fb9f3a"
             ],
             [
              0.8888888888888888,
              "#fdca26"
             ],
             [
              1,
              "#f0f921"
             ]
            ],
            "type": "histogram2dcontour"
           }
          ],
          "mesh3d": [
           {
            "colorbar": {
             "outlinewidth": 0,
             "ticks": ""
            },
            "type": "mesh3d"
           }
          ],
          "parcoords": [
           {
            "line": {
             "colorbar": {
              "outlinewidth": 0,
              "ticks": ""
             }
            },
            "type": "parcoords"
           }
          ],
          "pie": [
           {
            "automargin": true,
            "type": "pie"
           }
          ],
          "scatter": [
           {
            "marker": {
             "colorbar": {
              "outlinewidth": 0,
              "ticks": ""
             }
            },
            "type": "scatter"
           }
          ],
          "scatter3d": [
           {
            "line": {
             "colorbar": {
              "outlinewidth": 0,
              "ticks": ""
             }
            },
            "marker": {
             "colorbar": {
              "outlinewidth": 0,
              "ticks": ""
             }
            },
            "type": "scatter3d"
           }
          ],
          "scattercarpet": [
           {
            "marker": {
             "colorbar": {
              "outlinewidth": 0,
              "ticks": ""
             }
            },
            "type": "scattercarpet"
           }
          ],
          "scattergeo": [
           {
            "marker": {
             "colorbar": {
              "outlinewidth": 0,
              "ticks": ""
             }
            },
            "type": "scattergeo"
           }
          ],
          "scattergl": [
           {
            "marker": {
             "colorbar": {
              "outlinewidth": 0,
              "ticks": ""
             }
            },
            "type": "scattergl"
           }
          ],
          "scattermapbox": [
           {
            "marker": {
             "colorbar": {
              "outlinewidth": 0,
              "ticks": ""
             }
            },
            "type": "scattermapbox"
           }
          ],
          "scatterpolar": [
           {
            "marker": {
             "colorbar": {
              "outlinewidth": 0,
              "ticks": ""
             }
            },
            "type": "scatterpolar"
           }
          ],
          "scatterpolargl": [
           {
            "marker": {
             "colorbar": {
              "outlinewidth": 0,
              "ticks": ""
             }
            },
            "type": "scatterpolargl"
           }
          ],
          "scatterternary": [
           {
            "marker": {
             "colorbar": {
              "outlinewidth": 0,
              "ticks": ""
             }
            },
            "type": "scatterternary"
           }
          ],
          "surface": [
           {
            "colorbar": {
             "outlinewidth": 0,
             "ticks": ""
            },
            "colorscale": [
             [
              0,
              "#0d0887"
             ],
             [
              0.1111111111111111,
              "#46039f"
             ],
             [
              0.2222222222222222,
              "#7201a8"
             ],
             [
              0.3333333333333333,
              "#9c179e"
             ],
             [
              0.4444444444444444,
              "#bd3786"
             ],
             [
              0.5555555555555556,
              "#d8576b"
             ],
             [
              0.6666666666666666,
              "#ed7953"
             ],
             [
              0.7777777777777778,
              "#fb9f3a"
             ],
             [
              0.8888888888888888,
              "#fdca26"
             ],
             [
              1,
              "#f0f921"
             ]
            ],
            "type": "surface"
           }
          ],
          "table": [
           {
            "cells": {
             "fill": {
              "color": "#EBF0F8"
             },
             "line": {
              "color": "white"
             }
            },
            "header": {
             "fill": {
              "color": "#C8D4E3"
             },
             "line": {
              "color": "white"
             }
            },
            "type": "table"
           }
          ]
         },
         "layout": {
          "annotationdefaults": {
           "arrowcolor": "#2a3f5f",
           "arrowhead": 0,
           "arrowwidth": 1
          },
          "autotypenumbers": "strict",
          "coloraxis": {
           "colorbar": {
            "outlinewidth": 0,
            "ticks": ""
           }
          },
          "colorscale": {
           "diverging": [
            [
             0,
             "#8e0152"
            ],
            [
             0.1,
             "#c51b7d"
            ],
            [
             0.2,
             "#de77ae"
            ],
            [
             0.3,
             "#f1b6da"
            ],
            [
             0.4,
             "#fde0ef"
            ],
            [
             0.5,
             "#f7f7f7"
            ],
            [
             0.6,
             "#e6f5d0"
            ],
            [
             0.7,
             "#b8e186"
            ],
            [
             0.8,
             "#7fbc41"
            ],
            [
             0.9,
             "#4d9221"
            ],
            [
             1,
             "#276419"
            ]
           ],
           "sequential": [
            [
             0,
             "#0d0887"
            ],
            [
             0.1111111111111111,
             "#46039f"
            ],
            [
             0.2222222222222222,
             "#7201a8"
            ],
            [
             0.3333333333333333,
             "#9c179e"
            ],
            [
             0.4444444444444444,
             "#bd3786"
            ],
            [
             0.5555555555555556,
             "#d8576b"
            ],
            [
             0.6666666666666666,
             "#ed7953"
            ],
            [
             0.7777777777777778,
             "#fb9f3a"
            ],
            [
             0.8888888888888888,
             "#fdca26"
            ],
            [
             1,
             "#f0f921"
            ]
           ],
           "sequentialminus": [
            [
             0,
             "#0d0887"
            ],
            [
             0.1111111111111111,
             "#46039f"
            ],
            [
             0.2222222222222222,
             "#7201a8"
            ],
            [
             0.3333333333333333,
             "#9c179e"
            ],
            [
             0.4444444444444444,
             "#bd3786"
            ],
            [
             0.5555555555555556,
             "#d8576b"
            ],
            [
             0.6666666666666666,
             "#ed7953"
            ],
            [
             0.7777777777777778,
             "#fb9f3a"
            ],
            [
             0.8888888888888888,
             "#fdca26"
            ],
            [
             1,
             "#f0f921"
            ]
           ]
          },
          "colorway": [
           "#636efa",
           "#EF553B",
           "#00cc96",
           "#ab63fa",
           "#FFA15A",
           "#19d3f3",
           "#FF6692",
           "#B6E880",
           "#FF97FF",
           "#FECB52"
          ],
          "font": {
           "color": "#2a3f5f"
          },
          "geo": {
           "bgcolor": "white",
           "lakecolor": "white",
           "landcolor": "#E5ECF6",
           "showlakes": true,
           "showland": true,
           "subunitcolor": "white"
          },
          "hoverlabel": {
           "align": "left"
          },
          "hovermode": "closest",
          "mapbox": {
           "style": "light"
          },
          "paper_bgcolor": "white",
          "plot_bgcolor": "#E5ECF6",
          "polar": {
           "angularaxis": {
            "gridcolor": "white",
            "linecolor": "white",
            "ticks": ""
           },
           "bgcolor": "#E5ECF6",
           "radialaxis": {
            "gridcolor": "white",
            "linecolor": "white",
            "ticks": ""
           }
          },
          "scene": {
           "xaxis": {
            "backgroundcolor": "#E5ECF6",
            "gridcolor": "white",
            "gridwidth": 2,
            "linecolor": "white",
            "showbackground": true,
            "ticks": "",
            "zerolinecolor": "white"
           },
           "yaxis": {
            "backgroundcolor": "#E5ECF6",
            "gridcolor": "white",
            "gridwidth": 2,
            "linecolor": "white",
            "showbackground": true,
            "ticks": "",
            "zerolinecolor": "white"
           },
           "zaxis": {
            "backgroundcolor": "#E5ECF6",
            "gridcolor": "white",
            "gridwidth": 2,
            "linecolor": "white",
            "showbackground": true,
            "ticks": "",
            "zerolinecolor": "white"
           }
          },
          "shapedefaults": {
           "line": {
            "color": "#2a3f5f"
           }
          },
          "ternary": {
           "aaxis": {
            "gridcolor": "white",
            "linecolor": "white",
            "ticks": ""
           },
           "baxis": {
            "gridcolor": "white",
            "linecolor": "white",
            "ticks": ""
           },
           "bgcolor": "#E5ECF6",
           "caxis": {
            "gridcolor": "white",
            "linecolor": "white",
            "ticks": ""
           }
          },
          "title": {
           "x": 0.05
          },
          "xaxis": {
           "automargin": true,
           "gridcolor": "white",
           "linecolor": "white",
           "ticks": "",
           "title": {
            "standoff": 15
           },
           "zerolinecolor": "white",
           "zerolinewidth": 2
          },
          "yaxis": {
           "automargin": true,
           "gridcolor": "white",
           "linecolor": "white",
           "ticks": "",
           "title": {
            "standoff": 15
           },
           "zerolinecolor": "white",
           "zerolinewidth": 2
          }
         }
        },
        "xaxis": {
         "anchor": "y",
         "domain": [
          0,
          1
         ],
         "title": {
          "text": "date"
         }
        },
        "yaxis": {
         "anchor": "x",
         "domain": [
          0,
          1
         ],
         "title": {
          "text": "pm2_5"
         }
        }
       }
      }
     },
     "metadata": {}
    }
   ],
   "source": [
    "df = test[[\"BU_NAAM\", \"date\", \"pm2_5\"]].groupby([\"BU_NAAM\", \"date\"]).count().reset_index()\n",
    "\n",
    "fig = px.bar(df, x='date', y='pm2_5', color=\"BU_NAAM\")\n",
    "fig.show()"
   ]
  },
  {
   "cell_type": "code",
   "execution_count": 85,
   "metadata": {},
   "outputs": [],
   "source": [
    "test[\"datetime\"] = pd.to_datetime(test.date) + test.hour.astype('timedelta64[h]')"
   ]
  },
  {
   "cell_type": "code",
   "execution_count": 86,
   "metadata": {},
   "outputs": [
    {
     "output_type": "execute_result",
     "data": {
      "text/plain": [
       "                         BU_NAAM        date  hour  pm2_5            datetime\n",
       "0     2e Daalsebuurt en omgeving  2020-06-15    15    4.0 2020-06-15 15:00:00\n",
       "1     2e Daalsebuurt en omgeving  2020-06-15    16    2.0 2020-06-15 16:00:00\n",
       "2     2e Daalsebuurt en omgeving  2020-06-15    17    3.0 2020-06-15 17:00:00\n",
       "3     2e Daalsebuurt en omgeving  2020-06-17    13    3.0 2020-06-17 13:00:00\n",
       "4     2e Daalsebuurt en omgeving  2020-06-17    18    6.0 2020-06-17 18:00:00\n",
       "...                          ...         ...   ...    ...                 ...\n",
       "2346                Zuilen-Noord  2020-06-20    16    3.0 2020-06-20 16:00:00\n",
       "2347                Zuilen-Noord  2020-06-20    17    3.0 2020-06-20 17:00:00\n",
       "2348                Zuilen-Noord  2020-06-20    20    1.0 2020-06-20 20:00:00\n",
       "2349                Zuilen-Noord  2020-06-21    12    2.0 2020-06-21 12:00:00\n",
       "2350                Zuilen-Noord  2020-06-21    16    2.0 2020-06-21 16:00:00\n",
       "\n",
       "[2351 rows x 5 columns]"
      ],
      "text/html": "<div>\n<style scoped>\n    .dataframe tbody tr th:only-of-type {\n        vertical-align: middle;\n    }\n\n    .dataframe tbody tr th {\n        vertical-align: top;\n    }\n\n    .dataframe thead th {\n        text-align: right;\n    }\n</style>\n<table border=\"1\" class=\"dataframe\">\n  <thead>\n    <tr style=\"text-align: right;\">\n      <th></th>\n      <th>BU_NAAM</th>\n      <th>date</th>\n      <th>hour</th>\n      <th>pm2_5</th>\n      <th>datetime</th>\n    </tr>\n  </thead>\n  <tbody>\n    <tr>\n      <th>0</th>\n      <td>2e Daalsebuurt en omgeving</td>\n      <td>2020-06-15</td>\n      <td>15</td>\n      <td>4.0</td>\n      <td>2020-06-15 15:00:00</td>\n    </tr>\n    <tr>\n      <th>1</th>\n      <td>2e Daalsebuurt en omgeving</td>\n      <td>2020-06-15</td>\n      <td>16</td>\n      <td>2.0</td>\n      <td>2020-06-15 16:00:00</td>\n    </tr>\n    <tr>\n      <th>2</th>\n      <td>2e Daalsebuurt en omgeving</td>\n      <td>2020-06-15</td>\n      <td>17</td>\n      <td>3.0</td>\n      <td>2020-06-15 17:00:00</td>\n    </tr>\n    <tr>\n      <th>3</th>\n      <td>2e Daalsebuurt en omgeving</td>\n      <td>2020-06-17</td>\n      <td>13</td>\n      <td>3.0</td>\n      <td>2020-06-17 13:00:00</td>\n    </tr>\n    <tr>\n      <th>4</th>\n      <td>2e Daalsebuurt en omgeving</td>\n      <td>2020-06-17</td>\n      <td>18</td>\n      <td>6.0</td>\n      <td>2020-06-17 18:00:00</td>\n    </tr>\n    <tr>\n      <th>...</th>\n      <td>...</td>\n      <td>...</td>\n      <td>...</td>\n      <td>...</td>\n      <td>...</td>\n    </tr>\n    <tr>\n      <th>2346</th>\n      <td>Zuilen-Noord</td>\n      <td>2020-06-20</td>\n      <td>16</td>\n      <td>3.0</td>\n      <td>2020-06-20 16:00:00</td>\n    </tr>\n    <tr>\n      <th>2347</th>\n      <td>Zuilen-Noord</td>\n      <td>2020-06-20</td>\n      <td>17</td>\n      <td>3.0</td>\n      <td>2020-06-20 17:00:00</td>\n    </tr>\n    <tr>\n      <th>2348</th>\n      <td>Zuilen-Noord</td>\n      <td>2020-06-20</td>\n      <td>20</td>\n      <td>1.0</td>\n      <td>2020-06-20 20:00:00</td>\n    </tr>\n    <tr>\n      <th>2349</th>\n      <td>Zuilen-Noord</td>\n      <td>2020-06-21</td>\n      <td>12</td>\n      <td>2.0</td>\n      <td>2020-06-21 12:00:00</td>\n    </tr>\n    <tr>\n      <th>2350</th>\n      <td>Zuilen-Noord</td>\n      <td>2020-06-21</td>\n      <td>16</td>\n      <td>2.0</td>\n      <td>2020-06-21 16:00:00</td>\n    </tr>\n  </tbody>\n</table>\n<p>2351 rows × 5 columns</p>\n</div>"
     },
     "metadata": {},
     "execution_count": 86
    }
   ],
   "source": [
    "test.info()"
   ]
  },
  {
   "cell_type": "code",
   "execution_count": 95,
   "metadata": {},
   "outputs": [
    {
     "output_type": "execute_result",
     "data": {
      "text/plain": [
       "                                         BU_NAAM  date  hour  pm2_5  datetime\n",
       "0                     2e Daalsebuurt en omgeving    13    13     13        13\n",
       "1                   Abstede, Tolsteegsingel e.o.    22    22     22        22\n",
       "2                  Bedrijvengebied Kanaleneiland    39    39     39        39\n",
       "3                      Bedrijvengebied Oudenrijn    14    14     14        14\n",
       "4                      Bedrijvengebied Papendorp    31    31     31        31\n",
       "..                                           ...   ...   ...    ...       ...\n",
       "105             Wolga- en Donaudreef en omgeving    19    19     19        19\n",
       "106                     Zambesidreef en omgeving    10    10     10        10\n",
       "107                    Zamenhofdreef en omgeving    24    24     24        24\n",
       "108  Zeeheldenbuurt, Hengeveldstraat en omgeving    43    43     43        43\n",
       "109                                 Zuilen-Noord    11    11     11        11\n",
       "\n",
       "[110 rows x 5 columns]"
      ],
      "text/html": "<div>\n<style scoped>\n    .dataframe tbody tr th:only-of-type {\n        vertical-align: middle;\n    }\n\n    .dataframe tbody tr th {\n        vertical-align: top;\n    }\n\n    .dataframe thead th {\n        text-align: right;\n    }\n</style>\n<table border=\"1\" class=\"dataframe\">\n  <thead>\n    <tr style=\"text-align: right;\">\n      <th></th>\n      <th>BU_NAAM</th>\n      <th>date</th>\n      <th>hour</th>\n      <th>pm2_5</th>\n      <th>datetime</th>\n    </tr>\n  </thead>\n  <tbody>\n    <tr>\n      <th>0</th>\n      <td>2e Daalsebuurt en omgeving</td>\n      <td>13</td>\n      <td>13</td>\n      <td>13</td>\n      <td>13</td>\n    </tr>\n    <tr>\n      <th>1</th>\n      <td>Abstede, Tolsteegsingel e.o.</td>\n      <td>22</td>\n      <td>22</td>\n      <td>22</td>\n      <td>22</td>\n    </tr>\n    <tr>\n      <th>2</th>\n      <td>Bedrijvengebied Kanaleneiland</td>\n      <td>39</td>\n      <td>39</td>\n      <td>39</td>\n      <td>39</td>\n    </tr>\n    <tr>\n      <th>3</th>\n      <td>Bedrijvengebied Oudenrijn</td>\n      <td>14</td>\n      <td>14</td>\n      <td>14</td>\n      <td>14</td>\n    </tr>\n    <tr>\n      <th>4</th>\n      <td>Bedrijvengebied Papendorp</td>\n      <td>31</td>\n      <td>31</td>\n      <td>31</td>\n      <td>31</td>\n    </tr>\n    <tr>\n      <th>...</th>\n      <td>...</td>\n      <td>...</td>\n      <td>...</td>\n      <td>...</td>\n      <td>...</td>\n    </tr>\n    <tr>\n      <th>105</th>\n      <td>Wolga- en Donaudreef en omgeving</td>\n      <td>19</td>\n      <td>19</td>\n      <td>19</td>\n      <td>19</td>\n    </tr>\n    <tr>\n      <th>106</th>\n      <td>Zambesidreef en omgeving</td>\n      <td>10</td>\n      <td>10</td>\n      <td>10</td>\n      <td>10</td>\n    </tr>\n    <tr>\n      <th>107</th>\n      <td>Zamenhofdreef en omgeving</td>\n      <td>24</td>\n      <td>24</td>\n      <td>24</td>\n      <td>24</td>\n    </tr>\n    <tr>\n      <th>108</th>\n      <td>Zeeheldenbuurt, Hengeveldstraat en omgeving</td>\n      <td>43</td>\n      <td>43</td>\n      <td>43</td>\n      <td>43</td>\n    </tr>\n    <tr>\n      <th>109</th>\n      <td>Zuilen-Noord</td>\n      <td>11</td>\n      <td>11</td>\n      <td>11</td>\n      <td>11</td>\n    </tr>\n  </tbody>\n</table>\n<p>110 rows × 5 columns</p>\n</div>"
     },
     "metadata": {},
     "execution_count": 95
    }
   ],
   "source": [
    "test.groupby([\"BU_NAAM\"]).count().reset_index()"
   ]
  },
  {
   "cell_type": "code",
   "execution_count": 98,
   "metadata": {},
   "outputs": [
    {
     "output_type": "display_data",
     "data": {
      "application/vnd.plotly.v1+json": {
       "config": {
        "plotlyServerURL": "https://plot.ly"
       },
       "data": [
        {
         "alignmentgroup": "True",
         "hovertemplate": "datetime=%{x}<br>pm2_5=%{y}<extra></extra>",
         "legendgroup": "",
         "marker": {
          "color": "#636efa"
         },
         "name": "",
         "offsetgroup": "",
         "orientation": "v",
         "showlegend": false,
         "textposition": "auto",
         "type": "bar",
         "x": [
          "2020-06-15T12:00:00",
          "2020-06-15T13:00:00",
          "2020-06-15T14:00:00",
          "2020-06-15T15:00:00",
          "2020-06-15T16:00:00",
          "2020-06-15T17:00:00",
          "2020-06-15T18:00:00",
          "2020-06-15T19:00:00",
          "2020-06-15T20:00:00",
          "2020-06-15T21:00:00",
          "2020-06-15T22:00:00",
          "2020-06-15T23:00:00",
          "2020-06-16T00:00:00",
          "2020-06-16T07:00:00",
          "2020-06-16T08:00:00",
          "2020-06-16T09:00:00",
          "2020-06-16T10:00:00",
          "2020-06-16T11:00:00",
          "2020-06-16T12:00:00",
          "2020-06-16T13:00:00",
          "2020-06-16T14:00:00",
          "2020-06-16T15:00:00",
          "2020-06-16T16:00:00",
          "2020-06-16T17:00:00",
          "2020-06-16T18:00:00",
          "2020-06-16T19:00:00",
          "2020-06-16T20:00:00",
          "2020-06-17T00:00:00",
          "2020-06-17T06:00:00",
          "2020-06-17T07:00:00",
          "2020-06-17T08:00:00",
          "2020-06-17T09:00:00",
          "2020-06-17T10:00:00",
          "2020-06-17T11:00:00",
          "2020-06-17T12:00:00",
          "2020-06-17T13:00:00",
          "2020-06-17T14:00:00",
          "2020-06-17T15:00:00",
          "2020-06-17T16:00:00",
          "2020-06-17T17:00:00",
          "2020-06-17T18:00:00",
          "2020-06-17T19:00:00",
          "2020-06-17T20:00:00",
          "2020-06-17T21:00:00",
          "2020-06-17T22:00:00",
          "2020-06-18T07:00:00",
          "2020-06-18T08:00:00",
          "2020-06-18T09:00:00",
          "2020-06-18T10:00:00",
          "2020-06-18T11:00:00",
          "2020-06-18T12:00:00",
          "2020-06-18T13:00:00",
          "2020-06-18T14:00:00",
          "2020-06-18T15:00:00",
          "2020-06-18T16:00:00",
          "2020-06-18T17:00:00",
          "2020-06-18T18:00:00",
          "2020-06-18T19:00:00",
          "2020-06-18T20:00:00",
          "2020-06-18T21:00:00",
          "2020-06-18T22:00:00",
          "2020-06-18T23:00:00",
          "2020-06-19T06:00:00",
          "2020-06-19T07:00:00",
          "2020-06-19T08:00:00",
          "2020-06-19T09:00:00",
          "2020-06-19T10:00:00",
          "2020-06-19T11:00:00",
          "2020-06-19T12:00:00",
          "2020-06-19T13:00:00",
          "2020-06-19T14:00:00",
          "2020-06-19T15:00:00",
          "2020-06-19T16:00:00",
          "2020-06-19T17:00:00",
          "2020-06-19T18:00:00",
          "2020-06-19T19:00:00",
          "2020-06-19T20:00:00",
          "2020-06-19T21:00:00",
          "2020-06-19T22:00:00",
          "2020-06-19T23:00:00",
          "2020-06-20T07:00:00",
          "2020-06-20T08:00:00",
          "2020-06-20T09:00:00",
          "2020-06-20T10:00:00",
          "2020-06-20T11:00:00",
          "2020-06-20T12:00:00",
          "2020-06-20T13:00:00",
          "2020-06-20T14:00:00",
          "2020-06-20T15:00:00",
          "2020-06-20T16:00:00",
          "2020-06-20T17:00:00",
          "2020-06-20T18:00:00",
          "2020-06-20T19:00:00",
          "2020-06-20T20:00:00",
          "2020-06-20T21:00:00",
          "2020-06-21T00:00:00",
          "2020-06-21T01:00:00",
          "2020-06-21T08:00:00",
          "2020-06-21T09:00:00",
          "2020-06-21T10:00:00",
          "2020-06-21T11:00:00",
          "2020-06-21T12:00:00",
          "2020-06-21T13:00:00",
          "2020-06-21T14:00:00",
          "2020-06-21T15:00:00",
          "2020-06-21T16:00:00",
          "2020-06-21T17:00:00",
          "2020-06-21T18:00:00",
          "2020-06-21T19:00:00",
          "2020-06-21T20:00:00",
          "2020-06-21T21:00:00"
         ],
         "xaxis": "x",
         "y": [
          2,
          22,
          38,
          32,
          38,
          42,
          30,
          15,
          22,
          23,
          9,
          4,
          2,
          33,
          32,
          18,
          10,
          3,
          18,
          13,
          13,
          31,
          39,
          38,
          9,
          11,
          5,
          3,
          1,
          17,
          54,
          26,
          28,
          11,
          41,
          19,
          29,
          28,
          34,
          52,
          52,
          30,
          16,
          20,
          12,
          45,
          49,
          15,
          19,
          29,
          8,
          11,
          30,
          18,
          54,
          32,
          27,
          39,
          22,
          12,
          8,
          4,
          1,
          15,
          14,
          27,
          28,
          36,
          27,
          29,
          17,
          40,
          29,
          3,
          18,
          34,
          1,
          16,
          6,
          3,
          1,
          13,
          15,
          56,
          30,
          2,
          23,
          19,
          15,
          31,
          7,
          7,
          12,
          26,
          12,
          6,
          8,
          2,
          21,
          16,
          6,
          38,
          23,
          24,
          28,
          21,
          38,
          12,
          12,
          27,
          9
         ],
         "yaxis": "y"
        }
       ],
       "layout": {
        "barmode": "relative",
        "legend": {
         "tracegroupgap": 0
        },
        "template": {
         "data": {
          "bar": [
           {
            "error_x": {
             "color": "#2a3f5f"
            },
            "error_y": {
             "color": "#2a3f5f"
            },
            "marker": {
             "line": {
              "color": "#E5ECF6",
              "width": 0.5
             }
            },
            "type": "bar"
           }
          ],
          "barpolar": [
           {
            "marker": {
             "line": {
              "color": "#E5ECF6",
              "width": 0.5
             }
            },
            "type": "barpolar"
           }
          ],
          "carpet": [
           {
            "aaxis": {
             "endlinecolor": "#2a3f5f",
             "gridcolor": "white",
             "linecolor": "white",
             "minorgridcolor": "white",
             "startlinecolor": "#2a3f5f"
            },
            "baxis": {
             "endlinecolor": "#2a3f5f",
             "gridcolor": "white",
             "linecolor": "white",
             "minorgridcolor": "white",
             "startlinecolor": "#2a3f5f"
            },
            "type": "carpet"
           }
          ],
          "choropleth": [
           {
            "colorbar": {
             "outlinewidth": 0,
             "ticks": ""
            },
            "type": "choropleth"
           }
          ],
          "contour": [
           {
            "colorbar": {
             "outlinewidth": 0,
             "ticks": ""
            },
            "colorscale": [
             [
              0,
              "#0d0887"
             ],
             [
              0.1111111111111111,
              "#46039f"
             ],
             [
              0.2222222222222222,
              "#7201a8"
             ],
             [
              0.3333333333333333,
              "#9c179e"
             ],
             [
              0.4444444444444444,
              "#bd3786"
             ],
             [
              0.5555555555555556,
              "#d8576b"
             ],
             [
              0.6666666666666666,
              "#ed7953"
             ],
             [
              0.7777777777777778,
              "#fb9f3a"
             ],
             [
              0.8888888888888888,
              "#fdca26"
             ],
             [
              1,
              "#f0f921"
             ]
            ],
            "type": "contour"
           }
          ],
          "contourcarpet": [
           {
            "colorbar": {
             "outlinewidth": 0,
             "ticks": ""
            },
            "type": "contourcarpet"
           }
          ],
          "heatmap": [
           {
            "colorbar": {
             "outlinewidth": 0,
             "ticks": ""
            },
            "colorscale": [
             [
              0,
              "#0d0887"
             ],
             [
              0.1111111111111111,
              "#46039f"
             ],
             [
              0.2222222222222222,
              "#7201a8"
             ],
             [
              0.3333333333333333,
              "#9c179e"
             ],
             [
              0.4444444444444444,
              "#bd3786"
             ],
             [
              0.5555555555555556,
              "#d8576b"
             ],
             [
              0.6666666666666666,
              "#ed7953"
             ],
             [
              0.7777777777777778,
              "#fb9f3a"
             ],
             [
              0.8888888888888888,
              "#fdca26"
             ],
             [
              1,
              "#f0f921"
             ]
            ],
            "type": "heatmap"
           }
          ],
          "heatmapgl": [
           {
            "colorbar": {
             "outlinewidth": 0,
             "ticks": ""
            },
            "colorscale": [
             [
              0,
              "#0d0887"
             ],
             [
              0.1111111111111111,
              "#46039f"
             ],
             [
              0.2222222222222222,
              "#7201a8"
             ],
             [
              0.3333333333333333,
              "#9c179e"
             ],
             [
              0.4444444444444444,
              "#bd3786"
             ],
             [
              0.5555555555555556,
              "#d8576b"
             ],
             [
              0.6666666666666666,
              "#ed7953"
             ],
             [
              0.7777777777777778,
              "#fb9f3a"
             ],
             [
              0.8888888888888888,
              "#fdca26"
             ],
             [
              1,
              "#f0f921"
             ]
            ],
            "type": "heatmapgl"
           }
          ],
          "histogram": [
           {
            "marker": {
             "colorbar": {
              "outlinewidth": 0,
              "ticks": ""
             }
            },
            "type": "histogram"
           }
          ],
          "histogram2d": [
           {
            "colorbar": {
             "outlinewidth": 0,
             "ticks": ""
            },
            "colorscale": [
             [
              0,
              "#0d0887"
             ],
             [
              0.1111111111111111,
              "#46039f"
             ],
             [
              0.2222222222222222,
              "#7201a8"
             ],
             [
              0.3333333333333333,
              "#9c179e"
             ],
             [
              0.4444444444444444,
              "#bd3786"
             ],
             [
              0.5555555555555556,
              "#d8576b"
             ],
             [
              0.6666666666666666,
              "#ed7953"
             ],
             [
              0.7777777777777778,
              "#fb9f3a"
             ],
             [
              0.8888888888888888,
              "#fdca26"
             ],
             [
              1,
              "#f0f921"
             ]
            ],
            "type": "histogram2d"
           }
          ],
          "histogram2dcontour": [
           {
            "colorbar": {
             "outlinewidth": 0,
             "ticks": ""
            },
            "colorscale": [
             [
              0,
              "#0d0887"
             ],
             [
              0.1111111111111111,
              "#46039f"
             ],
             [
              0.2222222222222222,
              "#7201a8"
             ],
             [
              0.3333333333333333,
              "#9c179e"
             ],
             [
              0.4444444444444444,
              "#bd3786"
             ],
             [
              0.5555555555555556,
              "#d8576b"
             ],
             [
              0.6666666666666666,
              "#ed7953"
             ],
             [
              0.7777777777777778,
              "#fb9f3a"
             ],
             [
              0.8888888888888888,
              "#fdca26"
             ],
             [
              1,
              "#f0f921"
             ]
            ],
            "type": "histogram2dcontour"
           }
          ],
          "mesh3d": [
           {
            "colorbar": {
             "outlinewidth": 0,
             "ticks": ""
            },
            "type": "mesh3d"
           }
          ],
          "parcoords": [
           {
            "line": {
             "colorbar": {
              "outlinewidth": 0,
              "ticks": ""
             }
            },
            "type": "parcoords"
           }
          ],
          "pie": [
           {
            "automargin": true,
            "type": "pie"
           }
          ],
          "scatter": [
           {
            "marker": {
             "colorbar": {
              "outlinewidth": 0,
              "ticks": ""
             }
            },
            "type": "scatter"
           }
          ],
          "scatter3d": [
           {
            "line": {
             "colorbar": {
              "outlinewidth": 0,
              "ticks": ""
             }
            },
            "marker": {
             "colorbar": {
              "outlinewidth": 0,
              "ticks": ""
             }
            },
            "type": "scatter3d"
           }
          ],
          "scattercarpet": [
           {
            "marker": {
             "colorbar": {
              "outlinewidth": 0,
              "ticks": ""
             }
            },
            "type": "scattercarpet"
           }
          ],
          "scattergeo": [
           {
            "marker": {
             "colorbar": {
              "outlinewidth": 0,
              "ticks": ""
             }
            },
            "type": "scattergeo"
           }
          ],
          "scattergl": [
           {
            "marker": {
             "colorbar": {
              "outlinewidth": 0,
              "ticks": ""
             }
            },
            "type": "scattergl"
           }
          ],
          "scattermapbox": [
           {
            "marker": {
             "colorbar": {
              "outlinewidth": 0,
              "ticks": ""
             }
            },
            "type": "scattermapbox"
           }
          ],
          "scatterpolar": [
           {
            "marker": {
             "colorbar": {
              "outlinewidth": 0,
              "ticks": ""
             }
            },
            "type": "scatterpolar"
           }
          ],
          "scatterpolargl": [
           {
            "marker": {
             "colorbar": {
              "outlinewidth": 0,
              "ticks": ""
             }
            },
            "type": "scatterpolargl"
           }
          ],
          "scatterternary": [
           {
            "marker": {
             "colorbar": {
              "outlinewidth": 0,
              "ticks": ""
             }
            },
            "type": "scatterternary"
           }
          ],
          "surface": [
           {
            "colorbar": {
             "outlinewidth": 0,
             "ticks": ""
            },
            "colorscale": [
             [
              0,
              "#0d0887"
             ],
             [
              0.1111111111111111,
              "#46039f"
             ],
             [
              0.2222222222222222,
              "#7201a8"
             ],
             [
              0.3333333333333333,
              "#9c179e"
             ],
             [
              0.4444444444444444,
              "#bd3786"
             ],
             [
              0.5555555555555556,
              "#d8576b"
             ],
             [
              0.6666666666666666,
              "#ed7953"
             ],
             [
              0.7777777777777778,
              "#fb9f3a"
             ],
             [
              0.8888888888888888,
              "#fdca26"
             ],
             [
              1,
              "#f0f921"
             ]
            ],
            "type": "surface"
           }
          ],
          "table": [
           {
            "cells": {
             "fill": {
              "color": "#EBF0F8"
             },
             "line": {
              "color": "white"
             }
            },
            "header": {
             "fill": {
              "color": "#C8D4E3"
             },
             "line": {
              "color": "white"
             }
            },
            "type": "table"
           }
          ]
         },
         "layout": {
          "annotationdefaults": {
           "arrowcolor": "#2a3f5f",
           "arrowhead": 0,
           "arrowwidth": 1
          },
          "autotypenumbers": "strict",
          "coloraxis": {
           "colorbar": {
            "outlinewidth": 0,
            "ticks": ""
           }
          },
          "colorscale": {
           "diverging": [
            [
             0,
             "#8e0152"
            ],
            [
             0.1,
             "#c51b7d"
            ],
            [
             0.2,
             "#de77ae"
            ],
            [
             0.3,
             "#f1b6da"
            ],
            [
             0.4,
             "#fde0ef"
            ],
            [
             0.5,
             "#f7f7f7"
            ],
            [
             0.6,
             "#e6f5d0"
            ],
            [
             0.7,
             "#b8e186"
            ],
            [
             0.8,
             "#7fbc41"
            ],
            [
             0.9,
             "#4d9221"
            ],
            [
             1,
             "#276419"
            ]
           ],
           "sequential": [
            [
             0,
             "#0d0887"
            ],
            [
             0.1111111111111111,
             "#46039f"
            ],
            [
             0.2222222222222222,
             "#7201a8"
            ],
            [
             0.3333333333333333,
             "#9c179e"
            ],
            [
             0.4444444444444444,
             "#bd3786"
            ],
            [
             0.5555555555555556,
             "#d8576b"
            ],
            [
             0.6666666666666666,
             "#ed7953"
            ],
            [
             0.7777777777777778,
             "#fb9f3a"
            ],
            [
             0.8888888888888888,
             "#fdca26"
            ],
            [
             1,
             "#f0f921"
            ]
           ],
           "sequentialminus": [
            [
             0,
             "#0d0887"
            ],
            [
             0.1111111111111111,
             "#46039f"
            ],
            [
             0.2222222222222222,
             "#7201a8"
            ],
            [
             0.3333333333333333,
             "#9c179e"
            ],
            [
             0.4444444444444444,
             "#bd3786"
            ],
            [
             0.5555555555555556,
             "#d8576b"
            ],
            [
             0.6666666666666666,
             "#ed7953"
            ],
            [
             0.7777777777777778,
             "#fb9f3a"
            ],
            [
             0.8888888888888888,
             "#fdca26"
            ],
            [
             1,
             "#f0f921"
            ]
           ]
          },
          "colorway": [
           "#636efa",
           "#EF553B",
           "#00cc96",
           "#ab63fa",
           "#FFA15A",
           "#19d3f3",
           "#FF6692",
           "#B6E880",
           "#FF97FF",
           "#FECB52"
          ],
          "font": {
           "color": "#2a3f5f"
          },
          "geo": {
           "bgcolor": "white",
           "lakecolor": "white",
           "landcolor": "#E5ECF6",
           "showlakes": true,
           "showland": true,
           "subunitcolor": "white"
          },
          "hoverlabel": {
           "align": "left"
          },
          "hovermode": "closest",
          "mapbox": {
           "style": "light"
          },
          "paper_bgcolor": "white",
          "plot_bgcolor": "#E5ECF6",
          "polar": {
           "angularaxis": {
            "gridcolor": "white",
            "linecolor": "white",
            "ticks": ""
           },
           "bgcolor": "#E5ECF6",
           "radialaxis": {
            "gridcolor": "white",
            "linecolor": "white",
            "ticks": ""
           }
          },
          "scene": {
           "xaxis": {
            "backgroundcolor": "#E5ECF6",
            "gridcolor": "white",
            "gridwidth": 2,
            "linecolor": "white",
            "showbackground": true,
            "ticks": "",
            "zerolinecolor": "white"
           },
           "yaxis": {
            "backgroundcolor": "#E5ECF6",
            "gridcolor": "white",
            "gridwidth": 2,
            "linecolor": "white",
            "showbackground": true,
            "ticks": "",
            "zerolinecolor": "white"
           },
           "zaxis": {
            "backgroundcolor": "#E5ECF6",
            "gridcolor": "white",
            "gridwidth": 2,
            "linecolor": "white",
            "showbackground": true,
            "ticks": "",
            "zerolinecolor": "white"
           }
          },
          "shapedefaults": {
           "line": {
            "color": "#2a3f5f"
           }
          },
          "ternary": {
           "aaxis": {
            "gridcolor": "white",
            "linecolor": "white",
            "ticks": ""
           },
           "baxis": {
            "gridcolor": "white",
            "linecolor": "white",
            "ticks": ""
           },
           "bgcolor": "#E5ECF6",
           "caxis": {
            "gridcolor": "white",
            "linecolor": "white",
            "ticks": ""
           }
          },
          "title": {
           "x": 0.05
          },
          "xaxis": {
           "automargin": true,
           "gridcolor": "white",
           "linecolor": "white",
           "ticks": "",
           "title": {
            "standoff": 15
           },
           "zerolinecolor": "white",
           "zerolinewidth": 2
          },
          "yaxis": {
           "automargin": true,
           "gridcolor": "white",
           "linecolor": "white",
           "ticks": "",
           "title": {
            "standoff": 15
           },
           "zerolinecolor": "white",
           "zerolinewidth": 2
          }
         }
        },
        "title": {
         "text": "Measurements per hour"
        },
        "xaxis": {
         "anchor": "y",
         "domain": [
          0,
          1
         ],
         "title": {
          "text": "datetime"
         }
        },
        "yaxis": {
         "anchor": "x",
         "domain": [
          0,
          1
         ],
         "title": {
          "text": "pm2_5"
         }
        }
       }
      }
     },
     "metadata": {}
    }
   ],
   "source": [
    "fig = px.bar(test.groupby([\"datetime\"]).count().reset_index(), x='datetime', y='pm2_5', title='Measurements per hour', )\n",
    "fig.show()"
   ]
  },
  {
   "cell_type": "code",
   "execution_count": 122,
   "metadata": {},
   "outputs": [
    {
     "output_type": "display_data",
     "data": {
      "application/vnd.plotly.v1+json": {
       "config": {
        "plotlyServerURL": "https://plot.ly"
       },
       "data": [
        {
         "alignmentgroup": "True",
         "hovertemplate": "BU_NAAM=2e Daalsebuurt en omgeving<br>datetime=%{x}<br>pm2_5=%{y}<extra></extra>",
         "legendgroup": "2e Daalsebuurt en omgeving",
         "marker": {
          "color": "#636efa"
         },
         "name": "2e Daalsebuurt en omgeving",
         "offsetgroup": "2e Daalsebuurt en omgeving",
         "orientation": "v",
         "showlegend": true,
         "textposition": "auto",
         "type": "bar",
         "x": [
          "2020-06-15T15:00:00",
          "2020-06-15T16:00:00",
          "2020-06-15T17:00:00",
          "2020-06-17T13:00:00",
          "2020-06-17T18:00:00",
          "2020-06-18T07:00:00",
          "2020-06-18T16:00:00",
          "2020-06-19T12:00:00",
          "2020-06-19T13:00:00",
          "2020-06-19T15:00:00",
          "2020-06-20T10:00:00",
          "2020-06-21T12:00:00",
          "2020-06-21T14:00:00"
         ],
         "xaxis": "x",
         "y": [
          1,
          1,
          1,
          1,
          1,
          1,
          1,
          1,
          1,
          1,
          1,
          1,
          1
         ],
         "yaxis": "y"
        },
        {
         "alignmentgroup": "True",
         "hovertemplate": "BU_NAAM=Abstede, Tolsteegsingel e.o.<br>datetime=%{x}<br>pm2_5=%{y}<extra></extra>",
         "legendgroup": "Abstede, Tolsteegsingel e.o.",
         "marker": {
          "color": "#EF553B"
         },
         "name": "Abstede, Tolsteegsingel e.o.",
         "offsetgroup": "Abstede, Tolsteegsingel e.o.",
         "orientation": "v",
         "showlegend": true,
         "textposition": "auto",
         "type": "bar",
         "x": [
          "2020-06-15T17:00:00",
          "2020-06-15T21:00:00",
          "2020-06-16T07:00:00",
          "2020-06-16T15:00:00",
          "2020-06-17T10:00:00",
          "2020-06-17T12:00:00",
          "2020-06-17T14:00:00",
          "2020-06-17T15:00:00",
          "2020-06-18T10:00:00",
          "2020-06-18T12:00:00",
          "2020-06-18T15:00:00",
          "2020-06-18T18:00:00",
          "2020-06-19T10:00:00",
          "2020-06-19T11:00:00",
          "2020-06-19T14:00:00",
          "2020-06-19T15:00:00",
          "2020-06-19T16:00:00",
          "2020-06-19T21:00:00",
          "2020-06-20T11:00:00",
          "2020-06-20T19:00:00",
          "2020-06-20T20:00:00",
          "2020-06-21T17:00:00"
         ],
         "xaxis": "x",
         "y": [
          1,
          1,
          1,
          1,
          1,
          1,
          1,
          1,
          1,
          1,
          1,
          1,
          1,
          1,
          1,
          1,
          1,
          1,
          1,
          1,
          1,
          1
         ],
         "yaxis": "y"
        },
        {
         "alignmentgroup": "True",
         "hovertemplate": "BU_NAAM=Bedrijvengebied Kanaleneiland<br>datetime=%{x}<br>pm2_5=%{y}<extra></extra>",
         "legendgroup": "Bedrijvengebied Kanaleneiland",
         "marker": {
          "color": "#00cc96"
         },
         "name": "Bedrijvengebied Kanaleneiland",
         "offsetgroup": "Bedrijvengebied Kanaleneiland",
         "orientation": "v",
         "showlegend": true,
         "textposition": "auto",
         "type": "bar",
         "x": [
          "2020-06-15T14:00:00",
          "2020-06-15T16:00:00",
          "2020-06-15T17:00:00",
          "2020-06-15T18:00:00",
          "2020-06-15T21:00:00",
          "2020-06-16T07:00:00",
          "2020-06-16T08:00:00",
          "2020-06-16T12:00:00",
          "2020-06-16T15:00:00",
          "2020-06-16T16:00:00",
          "2020-06-16T17:00:00",
          "2020-06-16T19:00:00",
          "2020-06-17T07:00:00",
          "2020-06-17T12:00:00",
          "2020-06-17T14:00:00",
          "2020-06-17T16:00:00",
          "2020-06-17T17:00:00",
          "2020-06-17T18:00:00",
          "2020-06-17T19:00:00",
          "2020-06-17T22:00:00",
          "2020-06-18T07:00:00",
          "2020-06-18T08:00:00",
          "2020-06-18T15:00:00",
          "2020-06-18T16:00:00",
          "2020-06-18T17:00:00",
          "2020-06-18T18:00:00",
          "2020-06-18T19:00:00",
          "2020-06-19T07:00:00",
          "2020-06-19T08:00:00",
          "2020-06-19T16:00:00",
          "2020-06-19T18:00:00",
          "2020-06-20T10:00:00",
          "2020-06-20T15:00:00",
          "2020-06-20T16:00:00",
          "2020-06-21T01:00:00",
          "2020-06-21T08:00:00",
          "2020-06-21T09:00:00",
          "2020-06-21T10:00:00",
          "2020-06-21T13:00:00"
         ],
         "xaxis": "x",
         "y": [
          1,
          1,
          1,
          1,
          1,
          1,
          1,
          1,
          1,
          1,
          1,
          1,
          1,
          1,
          1,
          1,
          1,
          1,
          1,
          1,
          1,
          1,
          1,
          1,
          1,
          1,
          1,
          1,
          1,
          1,
          1,
          1,
          1,
          1,
          1,
          1,
          1,
          1,
          1
         ],
         "yaxis": "y"
        },
        {
         "alignmentgroup": "True",
         "hovertemplate": "BU_NAAM=Bedrijvengebied Oudenrijn<br>datetime=%{x}<br>pm2_5=%{y}<extra></extra>",
         "legendgroup": "Bedrijvengebied Oudenrijn",
         "marker": {
          "color": "#ab63fa"
         },
         "name": "Bedrijvengebied Oudenrijn",
         "offsetgroup": "Bedrijvengebied Oudenrijn",
         "orientation": "v",
         "showlegend": true,
         "textposition": "auto",
         "type": "bar",
         "x": [
          "2020-06-15T22:00:00",
          "2020-06-17T12:00:00",
          "2020-06-17T18:00:00",
          "2020-06-17T21:00:00",
          "2020-06-18T07:00:00",
          "2020-06-18T08:00:00",
          "2020-06-18T13:00:00",
          "2020-06-18T14:00:00",
          "2020-06-18T17:00:00",
          "2020-06-18T18:00:00",
          "2020-06-19T15:00:00",
          "2020-06-20T08:00:00",
          "2020-06-21T13:00:00",
          "2020-06-21T14:00:00"
         ],
         "xaxis": "x",
         "y": [
          1,
          1,
          1,
          1,
          1,
          1,
          1,
          1,
          1,
          1,
          1,
          1,
          1,
          1
         ],
         "yaxis": "y"
        },
        {
         "alignmentgroup": "True",
         "hovertemplate": "BU_NAAM=Bedrijvengebied Papendorp<br>datetime=%{x}<br>pm2_5=%{y}<extra></extra>",
         "legendgroup": "Bedrijvengebied Papendorp",
         "marker": {
          "color": "#FFA15A"
         },
         "name": "Bedrijvengebied Papendorp",
         "offsetgroup": "Bedrijvengebied Papendorp",
         "orientation": "v",
         "showlegend": true,
         "textposition": "auto",
         "type": "bar",
         "x": [
          "2020-06-15T17:00:00",
          "2020-06-15T18:00:00",
          "2020-06-16T08:00:00",
          "2020-06-16T17:00:00",
          "2020-06-16T19:00:00",
          "2020-06-17T07:00:00",
          "2020-06-17T08:00:00",
          "2020-06-17T12:00:00",
          "2020-06-17T17:00:00",
          "2020-06-17T18:00:00",
          "2020-06-17T21:00:00",
          "2020-06-17T22:00:00",
          "2020-06-18T07:00:00",
          "2020-06-18T08:00:00",
          "2020-06-18T09:00:00",
          "2020-06-18T13:00:00",
          "2020-06-18T14:00:00",
          "2020-06-18T16:00:00",
          "2020-06-18T17:00:00",
          "2020-06-18T18:00:00",
          "2020-06-19T08:00:00",
          "2020-06-19T13:00:00",
          "2020-06-19T18:00:00",
          "2020-06-19T21:00:00",
          "2020-06-19T22:00:00",
          "2020-06-20T08:00:00",
          "2020-06-20T10:00:00",
          "2020-06-21T01:00:00",
          "2020-06-21T09:00:00",
          "2020-06-21T10:00:00",
          "2020-06-21T13:00:00"
         ],
         "xaxis": "x",
         "y": [
          1,
          1,
          1,
          1,
          1,
          1,
          1,
          1,
          1,
          1,
          1,
          1,
          1,
          1,
          1,
          1,
          1,
          1,
          1,
          1,
          1,
          1,
          1,
          1,
          1,
          1,
          1,
          1,
          1,
          1,
          1
         ],
         "yaxis": "y"
        },
        {
         "alignmentgroup": "True",
         "hovertemplate": "BU_NAAM=Bedrijvengebied Strijkviertel<br>datetime=%{x}<br>pm2_5=%{y}<extra></extra>",
         "legendgroup": "Bedrijvengebied Strijkviertel",
         "marker": {
          "color": "#19d3f3"
         },
         "name": "Bedrijvengebied Strijkviertel",
         "offsetgroup": "Bedrijvengebied Strijkviertel",
         "orientation": "v",
         "showlegend": true,
         "textposition": "auto",
         "type": "bar",
         "x": [
          "2020-06-17T18:00:00",
          "2020-06-17T21:00:00",
          "2020-06-18T14:00:00",
          "2020-06-19T15:00:00",
          "2020-06-20T08:00:00"
         ],
         "xaxis": "x",
         "y": [
          1,
          1,
          1,
          1,
          1
         ],
         "yaxis": "y"
        },
        {
         "alignmentgroup": "True",
         "hovertemplate": "BU_NAAM=Bedrijventerrein Lageweide<br>datetime=%{x}<br>pm2_5=%{y}<extra></extra>",
         "legendgroup": "Bedrijventerrein Lageweide",
         "marker": {
          "color": "#FF6692"
         },
         "name": "Bedrijventerrein Lageweide",
         "offsetgroup": "Bedrijventerrein Lageweide",
         "orientation": "v",
         "showlegend": true,
         "textposition": "auto",
         "type": "bar",
         "x": [
          "2020-06-15T15:00:00",
          "2020-06-15T19:00:00",
          "2020-06-15T23:00:00",
          "2020-06-17T06:00:00",
          "2020-06-17T16:00:00",
          "2020-06-17T18:00:00",
          "2020-06-19T06:00:00",
          "2020-06-19T15:00:00",
          "2020-06-21T01:00:00",
          "2020-06-21T13:00:00",
          "2020-06-21T17:00:00"
         ],
         "xaxis": "x",
         "y": [
          1,
          1,
          1,
          1,
          1,
          1,
          1,
          1,
          1,
          1,
          1
         ],
         "yaxis": "y"
        },
        {
         "alignmentgroup": "True",
         "hovertemplate": "BU_NAAM=Bedrijventerrein en omgeving<br>datetime=%{x}<br>pm2_5=%{y}<extra></extra>",
         "legendgroup": "Bedrijventerrein en omgeving",
         "marker": {
          "color": "#B6E880"
         },
         "name": "Bedrijventerrein en omgeving",
         "offsetgroup": "Bedrijventerrein en omgeving",
         "orientation": "v",
         "showlegend": true,
         "textposition": "auto",
         "type": "bar",
         "x": [
          "2020-06-15T17:00:00",
          "2020-06-16T13:00:00",
          "2020-06-16T16:00:00",
          "2020-06-17T10:00:00",
          "2020-06-17T11:00:00",
          "2020-06-17T14:00:00",
          "2020-06-17T17:00:00",
          "2020-06-17T18:00:00",
          "2020-06-18T19:00:00",
          "2020-06-18T20:00:00",
          "2020-06-18T21:00:00",
          "2020-06-20T09:00:00"
         ],
         "xaxis": "x",
         "y": [
          1,
          1,
          1,
          1,
          1,
          1,
          1,
          1,
          1,
          1,
          1,
          1
         ],
         "yaxis": "y"
        },
        {
         "alignmentgroup": "True",
         "hovertemplate": "BU_NAAM=Bleekstraat en omgeving<br>datetime=%{x}<br>pm2_5=%{y}<extra></extra>",
         "legendgroup": "Bleekstraat en omgeving",
         "marker": {
          "color": "#FF97FF"
         },
         "name": "Bleekstraat en omgeving",
         "offsetgroup": "Bleekstraat en omgeving",
         "orientation": "v",
         "showlegend": true,
         "textposition": "auto",
         "type": "bar",
         "x": [
          "2020-06-16T09:00:00",
          "2020-06-17T08:00:00",
          "2020-06-17T13:00:00",
          "2020-06-17T14:00:00",
          "2020-06-17T16:00:00",
          "2020-06-17T17:00:00",
          "2020-06-17T18:00:00",
          "2020-06-18T09:00:00",
          "2020-06-18T16:00:00",
          "2020-06-18T18:00:00",
          "2020-06-19T10:00:00",
          "2020-06-19T15:00:00",
          "2020-06-19T18:00:00",
          "2020-06-19T21:00:00",
          "2020-06-21T15:00:00",
          "2020-06-21T17:00:00"
         ],
         "xaxis": "x",
         "y": [
          1,
          1,
          1,
          1,
          1,
          1,
          1,
          1,
          1,
          1,
          1,
          1,
          1,
          1,
          1,
          1
         ],
         "yaxis": "y"
        },
        {
         "alignmentgroup": "True",
         "hovertemplate": "BU_NAAM=Bokkenbuurt<br>datetime=%{x}<br>pm2_5=%{y}<extra></extra>",
         "legendgroup": "Bokkenbuurt",
         "marker": {
          "color": "#FECB52"
         },
         "name": "Bokkenbuurt",
         "offsetgroup": "Bokkenbuurt",
         "orientation": "v",
         "showlegend": true,
         "textposition": "auto",
         "type": "bar",
         "x": [
          "2020-06-15T14:00:00",
          "2020-06-16T08:00:00",
          "2020-06-16T09:00:00",
          "2020-06-16T16:00:00",
          "2020-06-17T13:00:00",
          "2020-06-17T14:00:00",
          "2020-06-17T19:00:00",
          "2020-06-18T09:00:00",
          "2020-06-18T10:00:00",
          "2020-06-18T20:00:00",
          "2020-06-19T10:00:00",
          "2020-06-19T11:00:00",
          "2020-06-19T14:00:00",
          "2020-06-20T10:00:00",
          "2020-06-20T11:00:00",
          "2020-06-21T16:00:00"
         ],
         "xaxis": "x",
         "y": [
          1,
          1,
          1,
          1,
          1,
          1,
          1,
          1,
          1,
          1,
          1,
          1,
          1,
          1,
          1,
          1
         ],
         "yaxis": "y"
        },
        {
         "alignmentgroup": "True",
         "hovertemplate": "BU_NAAM=Breedstraat en Plompetorengracht en omgeving<br>datetime=%{x}<br>pm2_5=%{y}<extra></extra>",
         "legendgroup": "Breedstraat en Plompetorengracht en omgeving",
         "marker": {
          "color": "#636efa"
         },
         "name": "Breedstraat en Plompetorengracht en omgeving",
         "offsetgroup": "Breedstraat en Plompetorengracht en omgeving",
         "orientation": "v",
         "showlegend": true,
         "textposition": "auto",
         "type": "bar",
         "x": [
          "2020-06-15T13:00:00",
          "2020-06-15T14:00:00",
          "2020-06-15T17:00:00",
          "2020-06-15T19:00:00",
          "2020-06-16T07:00:00",
          "2020-06-16T09:00:00",
          "2020-06-16T12:00:00",
          "2020-06-16T13:00:00",
          "2020-06-16T14:00:00",
          "2020-06-16T17:00:00",
          "2020-06-17T19:00:00",
          "2020-06-18T07:00:00",
          "2020-06-18T08:00:00",
          "2020-06-18T11:00:00",
          "2020-06-18T16:00:00",
          "2020-06-18T17:00:00",
          "2020-06-19T09:00:00",
          "2020-06-19T11:00:00",
          "2020-06-19T12:00:00",
          "2020-06-19T15:00:00",
          "2020-06-20T13:00:00",
          "2020-06-20T16:00:00",
          "2020-06-21T14:00:00",
          "2020-06-21T15:00:00",
          "2020-06-21T20:00:00"
         ],
         "xaxis": "x",
         "y": [
          1,
          1,
          1,
          1,
          1,
          1,
          1,
          1,
          1,
          1,
          1,
          1,
          1,
          1,
          1,
          1,
          1,
          1,
          1,
          1,
          1,
          1,
          1,
          1,
          1
         ],
         "yaxis": "y"
        },
        {
         "alignmentgroup": "True",
         "hovertemplate": "BU_NAAM=Buiten Wittevrouwen<br>datetime=%{x}<br>pm2_5=%{y}<extra></extra>",
         "legendgroup": "Buiten Wittevrouwen",
         "marker": {
          "color": "#EF553B"
         },
         "name": "Buiten Wittevrouwen",
         "offsetgroup": "Buiten Wittevrouwen",
         "orientation": "v",
         "showlegend": true,
         "textposition": "auto",
         "type": "bar",
         "x": [
          "2020-06-15T13:00:00",
          "2020-06-15T15:00:00",
          "2020-06-15T16:00:00",
          "2020-06-16T07:00:00",
          "2020-06-16T13:00:00",
          "2020-06-16T15:00:00",
          "2020-06-16T16:00:00",
          "2020-06-17T08:00:00",
          "2020-06-17T12:00:00",
          "2020-06-17T14:00:00",
          "2020-06-17T15:00:00",
          "2020-06-17T17:00:00",
          "2020-06-17T19:00:00",
          "2020-06-17T21:00:00",
          "2020-06-18T07:00:00",
          "2020-06-18T08:00:00",
          "2020-06-18T11:00:00",
          "2020-06-18T12:00:00",
          "2020-06-18T16:00:00",
          "2020-06-18T18:00:00",
          "2020-06-18T19:00:00",
          "2020-06-18T21:00:00",
          "2020-06-19T09:00:00",
          "2020-06-19T10:00:00",
          "2020-06-19T11:00:00",
          "2020-06-19T12:00:00",
          "2020-06-19T14:00:00",
          "2020-06-19T15:00:00",
          "2020-06-19T16:00:00",
          "2020-06-19T18:00:00",
          "2020-06-19T21:00:00",
          "2020-06-20T10:00:00",
          "2020-06-20T11:00:00",
          "2020-06-20T15:00:00",
          "2020-06-20T16:00:00",
          "2020-06-20T19:00:00",
          "2020-06-20T20:00:00",
          "2020-06-21T12:00:00",
          "2020-06-21T17:00:00",
          "2020-06-21T20:00:00"
         ],
         "xaxis": "x",
         "y": [
          1,
          1,
          1,
          1,
          1,
          1,
          1,
          1,
          1,
          1,
          1,
          1,
          1,
          1,
          1,
          1,
          1,
          1,
          1,
          1,
          1,
          1,
          1,
          1,
          1,
          1,
          1,
          1,
          1,
          1,
          1,
          1,
          1,
          1,
          1,
          1,
          1,
          1,
          1,
          1
         ],
         "yaxis": "y"
        },
        {
         "alignmentgroup": "True",
         "hovertemplate": "BU_NAAM=De Meern-Noord<br>datetime=%{x}<br>pm2_5=%{y}<extra></extra>",
         "legendgroup": "De Meern-Noord",
         "marker": {
          "color": "#00cc96"
         },
         "name": "De Meern-Noord",
         "offsetgroup": "De Meern-Noord",
         "orientation": "v",
         "showlegend": true,
         "textposition": "auto",
         "type": "bar",
         "x": [
          "2020-06-15T20:00:00",
          "2020-06-15T22:00:00",
          "2020-06-16T16:00:00",
          "2020-06-16T17:00:00",
          "2020-06-16T18:00:00",
          "2020-06-16T19:00:00",
          "2020-06-16T20:00:00",
          "2020-06-17T12:00:00",
          "2020-06-17T15:00:00",
          "2020-06-17T18:00:00",
          "2020-06-17T21:00:00",
          "2020-06-18T08:00:00",
          "2020-06-18T17:00:00",
          "2020-06-18T18:00:00",
          "2020-06-18T19:00:00",
          "2020-06-18T23:00:00",
          "2020-06-19T12:00:00",
          "2020-06-19T13:00:00",
          "2020-06-20T09:00:00",
          "2020-06-20T14:00:00",
          "2020-06-21T14:00:00",
          "2020-06-21T17:00:00",
          "2020-06-21T19:00:00",
          "2020-06-21T21:00:00"
         ],
         "xaxis": "x",
         "y": [
          1,
          1,
          1,
          1,
          1,
          1,
          1,
          1,
          1,
          1,
          1,
          1,
          1,
          1,
          1,
          1,
          1,
          1,
          1,
          1,
          1,
          1,
          1,
          1
         ],
         "yaxis": "y"
        },
        {
         "alignmentgroup": "True",
         "hovertemplate": "BU_NAAM=De Meern-Zuid<br>datetime=%{x}<br>pm2_5=%{y}<extra></extra>",
         "legendgroup": "De Meern-Zuid",
         "marker": {
          "color": "#ab63fa"
         },
         "name": "De Meern-Zuid",
         "offsetgroup": "De Meern-Zuid",
         "orientation": "v",
         "showlegend": true,
         "textposition": "auto",
         "type": "bar",
         "x": [
          "2020-06-15T20:00:00",
          "2020-06-15T22:00:00",
          "2020-06-16T08:00:00",
          "2020-06-16T18:00:00",
          "2020-06-16T19:00:00",
          "2020-06-16T20:00:00",
          "2020-06-17T08:00:00",
          "2020-06-17T09:00:00",
          "2020-06-17T12:00:00",
          "2020-06-17T13:00:00",
          "2020-06-17T14:00:00",
          "2020-06-17T15:00:00",
          "2020-06-17T16:00:00",
          "2020-06-17T18:00:00",
          "2020-06-17T21:00:00",
          "2020-06-18T07:00:00",
          "2020-06-18T13:00:00",
          "2020-06-18T14:00:00",
          "2020-06-18T17:00:00",
          "2020-06-18T18:00:00",
          "2020-06-19T13:00:00",
          "2020-06-19T15:00:00",
          "2020-06-19T16:00:00",
          "2020-06-20T08:00:00",
          "2020-06-20T12:00:00",
          "2020-06-20T18:00:00",
          "2020-06-21T13:00:00",
          "2020-06-21T14:00:00",
          "2020-06-21T17:00:00",
          "2020-06-21T19:00:00",
          "2020-06-21T20:00:00",
          "2020-06-21T21:00:00"
         ],
         "xaxis": "x",
         "y": [
          1,
          1,
          1,
          1,
          1,
          1,
          1,
          1,
          1,
          1,
          1,
          1,
          1,
          1,
          1,
          1,
          1,
          1,
          1,
          1,
          1,
          1,
          1,
          1,
          1,
          1,
          1,
          1,
          1,
          1,
          1,
          1
         ],
         "yaxis": "y"
        },
        {
         "alignmentgroup": "True",
         "hovertemplate": "BU_NAAM=Dichterswijk<br>datetime=%{x}<br>pm2_5=%{y}<extra></extra>",
         "legendgroup": "Dichterswijk",
         "marker": {
          "color": "#FFA15A"
         },
         "name": "Dichterswijk",
         "offsetgroup": "Dichterswijk",
         "orientation": "v",
         "showlegend": true,
         "textposition": "auto",
         "type": "bar",
         "x": [
          "2020-06-15T23:00:00",
          "2020-06-16T10:00:00",
          "2020-06-16T15:00:00",
          "2020-06-17T10:00:00",
          "2020-06-17T16:00:00",
          "2020-06-17T19:00:00",
          "2020-06-17T20:00:00",
          "2020-06-18T07:00:00",
          "2020-06-18T14:00:00",
          "2020-06-18T17:00:00",
          "2020-06-18T18:00:00",
          "2020-06-19T07:00:00",
          "2020-06-19T15:00:00",
          "2020-06-19T18:00:00",
          "2020-06-19T21:00:00",
          "2020-06-21T09:00:00"
         ],
         "xaxis": "x",
         "y": [
          1,
          1,
          1,
          1,
          1,
          1,
          1,
          1,
          1,
          1,
          1,
          1,
          1,
          1,
          1,
          1
         ],
         "yaxis": "y"
        },
        {
         "alignmentgroup": "True",
         "hovertemplate": "BU_NAAM=Domplein, Neude, Janskerkhof<br>datetime=%{x}<br>pm2_5=%{y}<extra></extra>",
         "legendgroup": "Domplein, Neude, Janskerkhof",
         "marker": {
          "color": "#19d3f3"
         },
         "name": "Domplein, Neude, Janskerkhof",
         "offsetgroup": "Domplein, Neude, Janskerkhof",
         "orientation": "v",
         "showlegend": true,
         "textposition": "auto",
         "type": "bar",
         "x": [
          "2020-06-15T13:00:00",
          "2020-06-15T14:00:00",
          "2020-06-15T15:00:00",
          "2020-06-15T16:00:00",
          "2020-06-15T17:00:00",
          "2020-06-15T18:00:00",
          "2020-06-15T19:00:00",
          "2020-06-15T21:00:00",
          "2020-06-16T07:00:00",
          "2020-06-16T13:00:00",
          "2020-06-16T15:00:00",
          "2020-06-16T16:00:00",
          "2020-06-17T08:00:00",
          "2020-06-17T12:00:00",
          "2020-06-17T16:00:00",
          "2020-06-17T17:00:00",
          "2020-06-17T19:00:00",
          "2020-06-18T07:00:00",
          "2020-06-18T08:00:00",
          "2020-06-18T11:00:00",
          "2020-06-18T14:00:00",
          "2020-06-18T15:00:00",
          "2020-06-18T16:00:00",
          "2020-06-18T17:00:00",
          "2020-06-18T19:00:00",
          "2020-06-19T07:00:00",
          "2020-06-19T08:00:00",
          "2020-06-19T09:00:00",
          "2020-06-19T11:00:00",
          "2020-06-19T12:00:00",
          "2020-06-20T10:00:00",
          "2020-06-20T15:00:00",
          "2020-06-21T12:00:00",
          "2020-06-21T14:00:00",
          "2020-06-21T15:00:00",
          "2020-06-21T20:00:00"
         ],
         "xaxis": "x",
         "y": [
          1,
          1,
          1,
          1,
          1,
          1,
          1,
          1,
          1,
          1,
          1,
          1,
          1,
          1,
          1,
          1,
          1,
          1,
          1,
          1,
          1,
          1,
          1,
          1,
          1,
          1,
          1,
          1,
          1,
          1,
          1,
          1,
          1,
          1,
          1,
          1
         ],
         "yaxis": "y"
        },
        {
         "alignmentgroup": "True",
         "hovertemplate": "BU_NAAM=Egelantierstraat, Mariëndaalstraat e.o.<br>datetime=%{x}<br>pm2_5=%{y}<extra></extra>",
         "legendgroup": "Egelantierstraat, Mariëndaalstraat e.o.",
         "marker": {
          "color": "#FF6692"
         },
         "name": "Egelantierstraat, Mariëndaalstraat e.o.",
         "offsetgroup": "Egelantierstraat, Mariëndaalstraat e.o.",
         "orientation": "v",
         "showlegend": true,
         "textposition": "auto",
         "type": "bar",
         "x": [
          "2020-06-15T15:00:00",
          "2020-06-15T16:00:00",
          "2020-06-15T17:00:00",
          "2020-06-16T08:00:00",
          "2020-06-16T12:00:00",
          "2020-06-17T13:00:00",
          "2020-06-17T18:00:00",
          "2020-06-18T07:00:00",
          "2020-06-18T16:00:00",
          "2020-06-18T17:00:00",
          "2020-06-19T12:00:00",
          "2020-06-19T13:00:00",
          "2020-06-19T15:00:00",
          "2020-06-20T10:00:00",
          "2020-06-21T17:00:00",
          "2020-06-21T21:00:00"
         ],
         "xaxis": "x",
         "y": [
          1,
          1,
          1,
          1,
          1,
          1,
          1,
          1,
          1,
          1,
          1,
          1,
          1,
          1,
          1,
          1
         ],
         "yaxis": "y"
        },
        {
         "alignmentgroup": "True",
         "hovertemplate": "BU_NAAM=Elinkwijk en omgeving<br>datetime=%{x}<br>pm2_5=%{y}<extra></extra>",
         "legendgroup": "Elinkwijk en omgeving",
         "marker": {
          "color": "#B6E880"
         },
         "name": "Elinkwijk en omgeving",
         "offsetgroup": "Elinkwijk en omgeving",
         "orientation": "v",
         "showlegend": true,
         "textposition": "auto",
         "type": "bar",
         "x": [
          "2020-06-15T15:00:00",
          "2020-06-15T16:00:00",
          "2020-06-17T18:00:00",
          "2020-06-18T07:00:00",
          "2020-06-18T16:00:00",
          "2020-06-18T20:00:00",
          "2020-06-19T15:00:00",
          "2020-06-20T21:00:00",
          "2020-06-21T12:00:00",
          "2020-06-21T13:00:00",
          "2020-06-21T17:00:00"
         ],
         "xaxis": "x",
         "y": [
          1,
          1,
          1,
          1,
          1,
          1,
          1,
          1,
          1,
          1,
          1
         ],
         "yaxis": "y"
        },
        {
         "alignmentgroup": "True",
         "hovertemplate": "BU_NAAM=Galgenwaard en omgeving<br>datetime=%{x}<br>pm2_5=%{y}<extra></extra>",
         "legendgroup": "Galgenwaard en omgeving",
         "marker": {
          "color": "#FF97FF"
         },
         "name": "Galgenwaard en omgeving",
         "offsetgroup": "Galgenwaard en omgeving",
         "orientation": "v",
         "showlegend": true,
         "textposition": "auto",
         "type": "bar",
         "x": [
          "2020-06-15T14:00:00",
          "2020-06-15T15:00:00",
          "2020-06-15T19:00:00",
          "2020-06-15T21:00:00",
          "2020-06-16T08:00:00",
          "2020-06-16T17:00:00",
          "2020-06-17T08:00:00",
          "2020-06-17T09:00:00",
          "2020-06-17T13:00:00",
          "2020-06-17T16:00:00",
          "2020-06-17T17:00:00",
          "2020-06-17T18:00:00",
          "2020-06-17T19:00:00",
          "2020-06-17T20:00:00",
          "2020-06-18T07:00:00",
          "2020-06-18T08:00:00",
          "2020-06-18T19:00:00",
          "2020-06-18T22:00:00",
          "2020-06-19T12:00:00",
          "2020-06-19T15:00:00",
          "2020-06-19T19:00:00",
          "2020-06-20T11:00:00",
          "2020-06-20T14:00:00",
          "2020-06-21T12:00:00",
          "2020-06-21T13:00:00",
          "2020-06-21T14:00:00"
         ],
         "xaxis": "x",
         "y": [
          1,
          1,
          1,
          1,
          1,
          1,
          1,
          1,
          1,
          1,
          1,
          1,
          1,
          1,
          1,
          1,
          1,
          1,
          1,
          1,
          1,
          1,
          1,
          1,
          1,
          1
         ],
         "yaxis": "y"
        },
        {
         "alignmentgroup": "True",
         "hovertemplate": "BU_NAAM=Geuzenwijk<br>datetime=%{x}<br>pm2_5=%{y}<extra></extra>",
         "legendgroup": "Geuzenwijk",
         "marker": {
          "color": "#FECB52"
         },
         "name": "Geuzenwijk",
         "offsetgroup": "Geuzenwijk",
         "orientation": "v",
         "showlegend": true,
         "textposition": "auto",
         "type": "bar",
         "x": [
          "2020-06-15T14:00:00",
          "2020-06-15T15:00:00",
          "2020-06-15T16:00:00",
          "2020-06-16T12:00:00",
          "2020-06-17T12:00:00",
          "2020-06-17T15:00:00",
          "2020-06-17T16:00:00",
          "2020-06-18T11:00:00",
          "2020-06-19T14:00:00",
          "2020-06-20T13:00:00",
          "2020-06-20T20:00:00",
          "2020-06-20T21:00:00",
          "2020-06-21T12:00:00",
          "2020-06-21T13:00:00",
          "2020-06-21T17:00:00"
         ],
         "xaxis": "x",
         "y": [
          1,
          1,
          1,
          1,
          1,
          1,
          1,
          1,
          1,
          1,
          1,
          1,
          1,
          1,
          1
         ],
         "yaxis": "y"
        },
        {
         "alignmentgroup": "True",
         "hovertemplate": "BU_NAAM=Grauwaart<br>datetime=%{x}<br>pm2_5=%{y}<extra></extra>",
         "legendgroup": "Grauwaart",
         "marker": {
          "color": "#636efa"
         },
         "name": "Grauwaart",
         "offsetgroup": "Grauwaart",
         "orientation": "v",
         "showlegend": true,
         "textposition": "auto",
         "type": "bar",
         "x": [
          "2020-06-15T13:00:00",
          "2020-06-15T14:00:00",
          "2020-06-15T21:00:00",
          "2020-06-16T17:00:00",
          "2020-06-17T08:00:00",
          "2020-06-17T09:00:00",
          "2020-06-17T12:00:00",
          "2020-06-17T15:00:00",
          "2020-06-17T16:00:00",
          "2020-06-17T17:00:00",
          "2020-06-18T11:00:00",
          "2020-06-18T14:00:00",
          "2020-06-18T21:00:00",
          "2020-06-19T11:00:00",
          "2020-06-19T12:00:00",
          "2020-06-19T13:00:00",
          "2020-06-19T19:00:00",
          "2020-06-20T10:00:00",
          "2020-06-20T11:00:00"
         ],
         "xaxis": "x",
         "y": [
          1,
          1,
          1,
          1,
          1,
          1,
          1,
          1,
          1,
          1,
          1,
          1,
          1,
          1,
          1,
          1,
          1,
          1,
          1
         ],
         "yaxis": "y"
        },
        {
         "alignmentgroup": "True",
         "hovertemplate": "BU_NAAM=Haarrijn<br>datetime=%{x}<br>pm2_5=%{y}<extra></extra>",
         "legendgroup": "Haarrijn",
         "marker": {
          "color": "#EF553B"
         },
         "name": "Haarrijn",
         "offsetgroup": "Haarrijn",
         "orientation": "v",
         "showlegend": true,
         "textposition": "auto",
         "type": "bar",
         "x": [
          "2020-06-15T21:00:00",
          "2020-06-16T14:00:00",
          "2020-06-18T19:00:00",
          "2020-06-20T11:00:00",
          "2020-06-20T14:00:00",
          "2020-06-21T13:00:00"
         ],
         "xaxis": "x",
         "y": [
          1,
          1,
          1,
          1,
          1,
          1
         ],
         "yaxis": "y"
        },
        {
         "alignmentgroup": "True",
         "hovertemplate": "BU_NAAM=Haarzuilens en omgeving<br>datetime=%{x}<br>pm2_5=%{y}<extra></extra>",
         "legendgroup": "Haarzuilens en omgeving",
         "marker": {
          "color": "#00cc96"
         },
         "name": "Haarzuilens en omgeving",
         "offsetgroup": "Haarzuilens en omgeving",
         "orientation": "v",
         "showlegend": true,
         "textposition": "auto",
         "type": "bar",
         "x": [
          "2020-06-15T17:00:00",
          "2020-06-15T18:00:00",
          "2020-06-15T20:00:00",
          "2020-06-15T21:00:00",
          "2020-06-16T14:00:00",
          "2020-06-16T15:00:00",
          "2020-06-18T19:00:00",
          "2020-06-20T11:00:00",
          "2020-06-20T14:00:00",
          "2020-06-21T13:00:00",
          "2020-06-21T18:00:00",
          "2020-06-21T19:00:00",
          "2020-06-21T20:00:00"
         ],
         "xaxis": "x",
         "y": [
          1,
          1,
          1,
          1,
          1,
          1,
          1,
          1,
          1,
          1,
          1,
          1,
          1
         ],
         "yaxis": "y"
        },
        {
         "alignmentgroup": "True",
         "hovertemplate": "BU_NAAM=Halve Maan-Noord<br>datetime=%{x}<br>pm2_5=%{y}<extra></extra>",
         "legendgroup": "Halve Maan-Noord",
         "marker": {
          "color": "#ab63fa"
         },
         "name": "Halve Maan-Noord",
         "offsetgroup": "Halve Maan-Noord",
         "orientation": "v",
         "showlegend": true,
         "textposition": "auto",
         "type": "bar",
         "x": [
          "2020-06-15T17:00:00",
          "2020-06-16T17:00:00",
          "2020-06-17T08:00:00",
          "2020-06-18T11:00:00",
          "2020-06-18T16:00:00",
          "2020-06-18T19:00:00",
          "2020-06-19T09:00:00",
          "2020-06-19T11:00:00",
          "2020-06-19T13:00:00",
          "2020-06-19T16:00:00",
          "2020-06-20T09:00:00",
          "2020-06-20T16:00:00",
          "2020-06-21T01:00:00",
          "2020-06-21T09:00:00",
          "2020-06-21T20:00:00"
         ],
         "xaxis": "x",
         "y": [
          1,
          1,
          1,
          1,
          1,
          1,
          1,
          1,
          1,
          1,
          1,
          1,
          1,
          1,
          1
         ],
         "yaxis": "y"
        },
        {
         "alignmentgroup": "True",
         "hovertemplate": "BU_NAAM=Halve Maan-Zuid<br>datetime=%{x}<br>pm2_5=%{y}<extra></extra>",
         "legendgroup": "Halve Maan-Zuid",
         "marker": {
          "color": "#FFA15A"
         },
         "name": "Halve Maan-Zuid",
         "offsetgroup": "Halve Maan-Zuid",
         "orientation": "v",
         "showlegend": true,
         "textposition": "auto",
         "type": "bar",
         "x": [
          "2020-06-15T13:00:00",
          "2020-06-15T17:00:00",
          "2020-06-16T07:00:00",
          "2020-06-16T17:00:00",
          "2020-06-18T07:00:00",
          "2020-06-18T14:00:00",
          "2020-06-18T16:00:00",
          "2020-06-18T19:00:00",
          "2020-06-19T09:00:00",
          "2020-06-19T13:00:00",
          "2020-06-19T16:00:00",
          "2020-06-20T10:00:00",
          "2020-06-20T16:00:00",
          "2020-06-21T01:00:00",
          "2020-06-21T09:00:00",
          "2020-06-21T10:00:00",
          "2020-06-21T12:00:00",
          "2020-06-21T20:00:00"
         ],
         "xaxis": "x",
         "y": [
          1,
          1,
          1,
          1,
          1,
          1,
          1,
          1,
          1,
          1,
          1,
          1,
          1,
          1,
          1,
          1,
          1,
          1
         ],
         "yaxis": "y"
        },
        {
         "alignmentgroup": "True",
         "hovertemplate": "BU_NAAM=Het Zand-Oost<br>datetime=%{x}<br>pm2_5=%{y}<extra></extra>",
         "legendgroup": "Het Zand-Oost",
         "marker": {
          "color": "#19d3f3"
         },
         "name": "Het Zand-Oost",
         "offsetgroup": "Het Zand-Oost",
         "orientation": "v",
         "showlegend": true,
         "textposition": "auto",
         "type": "bar",
         "x": [
          "2020-06-15T21:00:00",
          "2020-06-16T08:00:00",
          "2020-06-16T16:00:00",
          "2020-06-16T17:00:00",
          "2020-06-17T08:00:00",
          "2020-06-17T09:00:00",
          "2020-06-17T12:00:00",
          "2020-06-17T17:00:00",
          "2020-06-18T21:00:00",
          "2020-06-19T12:00:00",
          "2020-06-19T13:00:00",
          "2020-06-19T19:00:00",
          "2020-06-20T10:00:00",
          "2020-06-20T11:00:00"
         ],
         "xaxis": "x",
         "y": [
          1,
          1,
          1,
          1,
          1,
          1,
          1,
          1,
          1,
          1,
          1,
          1,
          1,
          1
         ],
         "yaxis": "y"
        },
        {
         "alignmentgroup": "True",
         "hovertemplate": "BU_NAAM=Het Zand-West<br>datetime=%{x}<br>pm2_5=%{y}<extra></extra>",
         "legendgroup": "Het Zand-West",
         "marker": {
          "color": "#FF6692"
         },
         "name": "Het Zand-West",
         "offsetgroup": "Het Zand-West",
         "orientation": "v",
         "showlegend": true,
         "textposition": "auto",
         "type": "bar",
         "x": [
          "2020-06-15T21:00:00",
          "2020-06-16T16:00:00",
          "2020-06-16T17:00:00",
          "2020-06-17T08:00:00",
          "2020-06-17T09:00:00",
          "2020-06-17T12:00:00",
          "2020-06-17T15:00:00",
          "2020-06-17T17:00:00",
          "2020-06-17T18:00:00",
          "2020-06-17T21:00:00",
          "2020-06-19T12:00:00",
          "2020-06-19T13:00:00"
         ],
         "xaxis": "x",
         "y": [
          1,
          1,
          1,
          1,
          1,
          1,
          1,
          1,
          1,
          1,
          1,
          1
         ],
         "yaxis": "y"
        },
        {
         "alignmentgroup": "True",
         "hovertemplate": "BU_NAAM=Hoge Weide<br>datetime=%{x}<br>pm2_5=%{y}<extra></extra>",
         "legendgroup": "Hoge Weide",
         "marker": {
          "color": "#B6E880"
         },
         "name": "Hoge Weide",
         "offsetgroup": "Hoge Weide",
         "orientation": "v",
         "showlegend": true,
         "textposition": "auto",
         "type": "bar",
         "x": [
          "2020-06-15T13:00:00",
          "2020-06-15T14:00:00",
          "2020-06-15T17:00:00",
          "2020-06-15T19:00:00",
          "2020-06-15T22:00:00",
          "2020-06-16T07:00:00",
          "2020-06-16T16:00:00",
          "2020-06-16T17:00:00",
          "2020-06-17T15:00:00",
          "2020-06-17T16:00:00",
          "2020-06-17T17:00:00",
          "2020-06-18T07:00:00",
          "2020-06-18T12:00:00",
          "2020-06-18T14:00:00",
          "2020-06-18T16:00:00",
          "2020-06-18T17:00:00",
          "2020-06-19T09:00:00",
          "2020-06-19T12:00:00",
          "2020-06-19T13:00:00",
          "2020-06-19T16:00:00",
          "2020-06-19T19:00:00",
          "2020-06-19T23:00:00",
          "2020-06-20T09:00:00",
          "2020-06-20T10:00:00",
          "2020-06-20T16:00:00",
          "2020-06-21T12:00:00",
          "2020-06-21T14:00:00",
          "2020-06-21T15:00:00",
          "2020-06-21T20:00:00"
         ],
         "xaxis": "x",
         "y": [
          1,
          1,
          1,
          1,
          1,
          1,
          1,
          1,
          1,
          1,
          1,
          1,
          1,
          1,
          1,
          1,
          1,
          1,
          1,
          1,
          1,
          1,
          1,
          1,
          1,
          1,
          1,
          1,
          1
         ],
         "yaxis": "y"
        },
        {
         "alignmentgroup": "True",
         "hovertemplate": "BU_NAAM=Hooch Boulandt<br>datetime=%{x}<br>pm2_5=%{y}<extra></extra>",
         "legendgroup": "Hooch Boulandt",
         "marker": {
          "color": "#FF97FF"
         },
         "name": "Hooch Boulandt",
         "offsetgroup": "Hooch Boulandt",
         "orientation": "v",
         "showlegend": true,
         "textposition": "auto",
         "type": "bar",
         "x": [
          "2020-06-15T14:00:00",
          "2020-06-16T09:00:00",
          "2020-06-17T08:00:00",
          "2020-06-17T13:00:00",
          "2020-06-17T14:00:00",
          "2020-06-17T18:00:00",
          "2020-06-18T08:00:00",
          "2020-06-18T09:00:00",
          "2020-06-18T10:00:00",
          "2020-06-19T10:00:00",
          "2020-06-19T15:00:00",
          "2020-06-20T16:00:00",
          "2020-06-21T15:00:00",
          "2020-06-21T17:00:00"
         ],
         "xaxis": "x",
         "y": [
          1,
          1,
          1,
          1,
          1,
          1,
          1,
          1,
          1,
          1,
          1,
          1,
          1,
          1
         ],
         "yaxis": "y"
        },
        {
         "alignmentgroup": "True",
         "hovertemplate": "BU_NAAM=Hoog-Catharijne NS en Jaarbeurs<br>datetime=%{x}<br>pm2_5=%{y}<extra></extra>",
         "legendgroup": "Hoog-Catharijne NS en Jaarbeurs",
         "marker": {
          "color": "#FECB52"
         },
         "name": "Hoog-Catharijne NS en Jaarbeurs",
         "offsetgroup": "Hoog-Catharijne NS en Jaarbeurs",
         "orientation": "v",
         "showlegend": true,
         "textposition": "auto",
         "type": "bar",
         "x": [
          "2020-06-15T13:00:00",
          "2020-06-15T14:00:00",
          "2020-06-15T16:00:00",
          "2020-06-15T17:00:00",
          "2020-06-15T23:00:00",
          "2020-06-16T07:00:00",
          "2020-06-16T09:00:00",
          "2020-06-16T10:00:00",
          "2020-06-16T13:00:00",
          "2020-06-16T15:00:00",
          "2020-06-16T17:00:00",
          "2020-06-17T08:00:00",
          "2020-06-17T09:00:00",
          "2020-06-17T10:00:00",
          "2020-06-17T12:00:00",
          "2020-06-17T13:00:00",
          "2020-06-17T16:00:00",
          "2020-06-17T17:00:00",
          "2020-06-17T18:00:00",
          "2020-06-17T19:00:00",
          "2020-06-17T20:00:00",
          "2020-06-18T07:00:00",
          "2020-06-18T08:00:00",
          "2020-06-18T09:00:00",
          "2020-06-18T10:00:00",
          "2020-06-18T11:00:00",
          "2020-06-18T13:00:00",
          "2020-06-18T14:00:00",
          "2020-06-18T16:00:00",
          "2020-06-18T19:00:00",
          "2020-06-19T07:00:00",
          "2020-06-19T09:00:00",
          "2020-06-19T10:00:00",
          "2020-06-19T11:00:00",
          "2020-06-19T12:00:00",
          "2020-06-19T13:00:00",
          "2020-06-19T15:00:00",
          "2020-06-19T16:00:00",
          "2020-06-19T19:00:00",
          "2020-06-20T10:00:00",
          "2020-06-20T16:00:00",
          "2020-06-21T09:00:00",
          "2020-06-21T12:00:00",
          "2020-06-21T15:00:00",
          "2020-06-21T16:00:00",
          "2020-06-21T17:00:00",
          "2020-06-21T20:00:00"
         ],
         "xaxis": "x",
         "y": [
          1,
          1,
          1,
          1,
          1,
          1,
          1,
          1,
          1,
          1,
          1,
          1,
          1,
          1,
          1,
          1,
          1,
          1,
          1,
          1,
          1,
          1,
          1,
          1,
          1,
          1,
          1,
          1,
          1,
          1,
          1,
          1,
          1,
          1,
          1,
          1,
          1,
          1,
          1,
          1,
          1,
          1,
          1,
          1,
          1,
          1,
          1
         ],
         "yaxis": "y"
        },
        {
         "alignmentgroup": "True",
         "hovertemplate": "BU_NAAM=Huizingalaan, K. Doormanlaan en omgeving<br>datetime=%{x}<br>pm2_5=%{y}<extra></extra>",
         "legendgroup": "Huizingalaan, K. Doormanlaan en omgeving",
         "marker": {
          "color": "#636efa"
         },
         "name": "Huizingalaan, K. Doormanlaan en omgeving",
         "offsetgroup": "Huizingalaan, K. Doormanlaan en omgeving",
         "orientation": "v",
         "showlegend": true,
         "textposition": "auto",
         "type": "bar",
         "x": [
          "2020-06-15T15:00:00",
          "2020-06-15T16:00:00",
          "2020-06-15T17:00:00",
          "2020-06-15T18:00:00",
          "2020-06-15T20:00:00",
          "2020-06-16T07:00:00",
          "2020-06-16T09:00:00",
          "2020-06-16T11:00:00",
          "2020-06-16T12:00:00",
          "2020-06-16T16:00:00",
          "2020-06-16T17:00:00",
          "2020-06-17T07:00:00",
          "2020-06-17T08:00:00",
          "2020-06-17T09:00:00",
          "2020-06-17T11:00:00",
          "2020-06-17T12:00:00",
          "2020-06-17T17:00:00",
          "2020-06-17T18:00:00",
          "2020-06-17T21:00:00",
          "2020-06-18T07:00:00",
          "2020-06-18T08:00:00",
          "2020-06-18T14:00:00",
          "2020-06-18T16:00:00",
          "2020-06-18T17:00:00",
          "2020-06-18T18:00:00",
          "2020-06-18T19:00:00",
          "2020-06-18T22:00:00",
          "2020-06-19T11:00:00",
          "2020-06-19T14:00:00",
          "2020-06-19T15:00:00",
          "2020-06-19T19:00:00",
          "2020-06-19T21:00:00",
          "2020-06-20T10:00:00",
          "2020-06-20T13:00:00",
          "2020-06-20T15:00:00",
          "2020-06-20T19:00:00",
          "2020-06-21T00:00:00",
          "2020-06-21T10:00:00",
          "2020-06-21T13:00:00",
          "2020-06-21T14:00:00",
          "2020-06-21T15:00:00",
          "2020-06-21T17:00:00"
         ],
         "xaxis": "x",
         "y": [
          1,
          1,
          1,
          1,
          1,
          1,
          1,
          1,
          1,
          1,
          1,
          1,
          1,
          1,
          1,
          1,
          1,
          1,
          1,
          1,
          1,
          1,
          1,
          1,
          1,
          1,
          1,
          1,
          1,
          1,
          1,
          1,
          1,
          1,
          1,
          1,
          1,
          1,
          1,
          1,
          1,
          1
         ],
         "yaxis": "y"
        },
        {
         "alignmentgroup": "True",
         "hovertemplate": "BU_NAAM=Julianapark en omgeving<br>datetime=%{x}<br>pm2_5=%{y}<extra></extra>",
         "legendgroup": "Julianapark en omgeving",
         "marker": {
          "color": "#EF553B"
         },
         "name": "Julianapark en omgeving",
         "offsetgroup": "Julianapark en omgeving",
         "orientation": "v",
         "showlegend": true,
         "textposition": "auto",
         "type": "bar",
         "x": [
          "2020-06-15T14:00:00",
          "2020-06-15T15:00:00",
          "2020-06-15T16:00:00",
          "2020-06-15T17:00:00",
          "2020-06-16T12:00:00",
          "2020-06-17T13:00:00",
          "2020-06-17T18:00:00",
          "2020-06-18T07:00:00",
          "2020-06-18T11:00:00",
          "2020-06-18T16:00:00",
          "2020-06-18T20:00:00",
          "2020-06-19T15:00:00",
          "2020-06-20T13:00:00",
          "2020-06-20T21:00:00",
          "2020-06-21T12:00:00",
          "2020-06-21T13:00:00",
          "2020-06-21T17:00:00"
         ],
         "xaxis": "x",
         "y": [
          1,
          1,
          1,
          1,
          1,
          1,
          1,
          1,
          1,
          1,
          1,
          1,
          1,
          1,
          1,
          1,
          1
         ],
         "yaxis": "y"
        },
        {
         "alignmentgroup": "True",
         "hovertemplate": "BU_NAAM=Kanaleneiland-Noord<br>datetime=%{x}<br>pm2_5=%{y}<extra></extra>",
         "legendgroup": "Kanaleneiland-Noord",
         "marker": {
          "color": "#00cc96"
         },
         "name": "Kanaleneiland-Noord",
         "offsetgroup": "Kanaleneiland-Noord",
         "orientation": "v",
         "showlegend": true,
         "textposition": "auto",
         "type": "bar",
         "x": [
          "2020-06-17T10:00:00",
          "2020-06-17T12:00:00",
          "2020-06-17T18:00:00",
          "2020-06-17T22:00:00",
          "2020-06-18T08:00:00",
          "2020-06-18T14:00:00",
          "2020-06-18T16:00:00",
          "2020-06-18T19:00:00",
          "2020-06-19T21:00:00",
          "2020-06-20T10:00:00"
         ],
         "xaxis": "x",
         "y": [
          1,
          1,
          1,
          1,
          1,
          1,
          1,
          1,
          1,
          1
         ],
         "yaxis": "y"
        },
        {
         "alignmentgroup": "True",
         "hovertemplate": "BU_NAAM=Kanaleneiland-Zuid<br>datetime=%{x}<br>pm2_5=%{y}<extra></extra>",
         "legendgroup": "Kanaleneiland-Zuid",
         "marker": {
          "color": "#ab63fa"
         },
         "name": "Kanaleneiland-Zuid",
         "offsetgroup": "Kanaleneiland-Zuid",
         "orientation": "v",
         "showlegend": true,
         "textposition": "auto",
         "type": "bar",
         "x": [
          "2020-06-16T00:00:00",
          "2020-06-17T08:00:00",
          "2020-06-17T09:00:00",
          "2020-06-17T10:00:00",
          "2020-06-17T12:00:00",
          "2020-06-17T18:00:00",
          "2020-06-17T22:00:00",
          "2020-06-18T08:00:00",
          "2020-06-18T09:00:00",
          "2020-06-18T19:00:00",
          "2020-06-19T21:00:00",
          "2020-06-20T10:00:00"
         ],
         "xaxis": "x",
         "y": [
          1,
          1,
          1,
          1,
          1,
          1,
          1,
          1,
          1,
          1,
          1,
          1
         ],
         "yaxis": "y"
        },
        {
         "alignmentgroup": "True",
         "hovertemplate": "BU_NAAM=L. Napoleonplantsoen en omgeving<br>datetime=%{x}<br>pm2_5=%{y}<extra></extra>",
         "legendgroup": "L. Napoleonplantsoen en omgeving",
         "marker": {
          "color": "#FFA15A"
         },
         "name": "L. Napoleonplantsoen en omgeving",
         "offsetgroup": "L. Napoleonplantsoen en omgeving",
         "orientation": "v",
         "showlegend": true,
         "textposition": "auto",
         "type": "bar",
         "x": [
          "2020-06-15T14:00:00",
          "2020-06-16T08:00:00",
          "2020-06-17T10:00:00",
          "2020-06-17T12:00:00",
          "2020-06-17T14:00:00",
          "2020-06-17T20:00:00",
          "2020-06-18T07:00:00",
          "2020-06-18T15:00:00",
          "2020-06-18T17:00:00",
          "2020-06-18T20:00:00",
          "2020-06-19T07:00:00",
          "2020-06-19T10:00:00",
          "2020-06-19T22:00:00",
          "2020-06-20T10:00:00",
          "2020-06-20T11:00:00",
          "2020-06-20T13:00:00",
          "2020-06-20T14:00:00",
          "2020-06-20T16:00:00",
          "2020-06-20T19:00:00",
          "2020-06-20T20:00:00",
          "2020-06-21T09:00:00",
          "2020-06-21T16:00:00",
          "2020-06-21T18:00:00"
         ],
         "xaxis": "x",
         "y": [
          1,
          1,
          1,
          1,
          1,
          1,
          1,
          1,
          1,
          1,
          1,
          1,
          1,
          1,
          1,
          1,
          1,
          1,
          1,
          1,
          1,
          1,
          1
         ],
         "yaxis": "y"
        },
        {
         "alignmentgroup": "True",
         "hovertemplate": "BU_NAAM=Laan van Nieuw-Guinea, Spinozaweg e.o.<br>datetime=%{x}<br>pm2_5=%{y}<extra></extra>",
         "legendgroup": "Laan van Nieuw-Guinea, Spinozaweg e.o.",
         "marker": {
          "color": "#19d3f3"
         },
         "name": "Laan van Nieuw-Guinea, Spinozaweg e.o.",
         "offsetgroup": "Laan van Nieuw-Guinea, Spinozaweg e.o.",
         "orientation": "v",
         "showlegend": true,
         "textposition": "auto",
         "type": "bar",
         "x": [
          "2020-06-15T13:00:00",
          "2020-06-15T15:00:00",
          "2020-06-16T15:00:00",
          "2020-06-17T08:00:00",
          "2020-06-17T10:00:00",
          "2020-06-17T17:00:00",
          "2020-06-17T18:00:00",
          "2020-06-18T08:00:00",
          "2020-06-18T14:00:00",
          "2020-06-19T09:00:00",
          "2020-06-19T12:00:00",
          "2020-06-19T13:00:00",
          "2020-06-19T16:00:00",
          "2020-06-19T19:00:00",
          "2020-06-20T10:00:00",
          "2020-06-20T16:00:00",
          "2020-06-20T20:00:00",
          "2020-06-21T16:00:00"
         ],
         "xaxis": "x",
         "y": [
          1,
          1,
          1,
          1,
          1,
          1,
          1,
          1,
          1,
          1,
          1,
          1,
          1,
          1,
          1,
          1,
          1,
          1
         ],
         "yaxis": "y"
        },
        {
         "alignmentgroup": "True",
         "hovertemplate": "BU_NAAM=Lange Elisabethstraat, Mariaplaats en omgeving<br>datetime=%{x}<br>pm2_5=%{y}<extra></extra>",
         "legendgroup": "Lange Elisabethstraat, Mariaplaats en omgeving",
         "marker": {
          "color": "#FF6692"
         },
         "name": "Lange Elisabethstraat, Mariaplaats en omgeving",
         "offsetgroup": "Lange Elisabethstraat, Mariaplaats en omgeving",
         "orientation": "v",
         "showlegend": true,
         "textposition": "auto",
         "type": "bar",
         "x": [
          "2020-06-15T16:00:00",
          "2020-06-15T18:00:00",
          "2020-06-15T19:00:00",
          "2020-06-15T20:00:00",
          "2020-06-16T13:00:00",
          "2020-06-16T15:00:00",
          "2020-06-17T08:00:00",
          "2020-06-17T12:00:00",
          "2020-06-17T16:00:00",
          "2020-06-17T17:00:00",
          "2020-06-17T19:00:00",
          "2020-06-18T07:00:00",
          "2020-06-18T11:00:00",
          "2020-06-18T14:00:00",
          "2020-06-18T15:00:00",
          "2020-06-18T16:00:00",
          "2020-06-18T19:00:00",
          "2020-06-19T09:00:00",
          "2020-06-20T10:00:00",
          "2020-06-21T12:00:00",
          "2020-06-21T20:00:00"
         ],
         "xaxis": "x",
         "y": [
          1,
          1,
          1,
          1,
          1,
          1,
          1,
          1,
          1,
          1,
          1,
          1,
          1,
          1,
          1,
          1,
          1,
          1,
          1,
          1,
          1
         ],
         "yaxis": "y"
        },
        {
         "alignmentgroup": "True",
         "hovertemplate": "BU_NAAM=Lange Nieuwstraat en omgeving<br>datetime=%{x}<br>pm2_5=%{y}<extra></extra>",
         "legendgroup": "Lange Nieuwstraat en omgeving",
         "marker": {
          "color": "#B6E880"
         },
         "name": "Lange Nieuwstraat en omgeving",
         "offsetgroup": "Lange Nieuwstraat en omgeving",
         "orientation": "v",
         "showlegend": true,
         "textposition": "auto",
         "type": "bar",
         "x": [
          "2020-06-15T14:00:00",
          "2020-06-15T16:00:00",
          "2020-06-15T17:00:00",
          "2020-06-15T21:00:00",
          "2020-06-16T07:00:00",
          "2020-06-16T15:00:00",
          "2020-06-17T08:00:00",
          "2020-06-17T10:00:00",
          "2020-06-17T11:00:00",
          "2020-06-17T12:00:00",
          "2020-06-17T16:00:00",
          "2020-06-18T07:00:00",
          "2020-06-18T08:00:00",
          "2020-06-18T10:00:00",
          "2020-06-18T12:00:00",
          "2020-06-18T15:00:00",
          "2020-06-18T17:00:00",
          "2020-06-18T18:00:00",
          "2020-06-18T19:00:00",
          "2020-06-18T20:00:00",
          "2020-06-19T07:00:00",
          "2020-06-19T18:00:00",
          "2020-06-20T10:00:00",
          "2020-06-20T14:00:00",
          "2020-06-20T16:00:00",
          "2020-06-21T15:00:00"
         ],
         "xaxis": "x",
         "y": [
          1,
          1,
          1,
          1,
          1,
          1,
          1,
          1,
          1,
          1,
          1,
          1,
          1,
          1,
          1,
          1,
          1,
          1,
          1,
          1,
          1,
          1,
          1,
          1,
          1,
          1
         ],
         "yaxis": "y"
        },
        {
         "alignmentgroup": "True",
         "hovertemplate": "BU_NAAM=Langerak<br>datetime=%{x}<br>pm2_5=%{y}<extra></extra>",
         "legendgroup": "Langerak",
         "marker": {
          "color": "#FF97FF"
         },
         "name": "Langerak",
         "offsetgroup": "Langerak",
         "orientation": "v",
         "showlegend": true,
         "textposition": "auto",
         "type": "bar",
         "x": [
          "2020-06-15T17:00:00",
          "2020-06-15T22:00:00",
          "2020-06-16T16:00:00",
          "2020-06-16T17:00:00",
          "2020-06-16T19:00:00",
          "2020-06-16T20:00:00",
          "2020-06-17T12:00:00",
          "2020-06-17T17:00:00",
          "2020-06-17T21:00:00",
          "2020-06-18T08:00:00",
          "2020-06-18T14:00:00",
          "2020-06-18T16:00:00",
          "2020-06-18T17:00:00",
          "2020-06-18T18:00:00",
          "2020-06-19T19:00:00",
          "2020-06-19T23:00:00",
          "2020-06-20T08:00:00"
         ],
         "xaxis": "x",
         "y": [
          1,
          1,
          1,
          1,
          1,
          1,
          1,
          1,
          1,
          1,
          1,
          1,
          1,
          1,
          1,
          1,
          1
         ],
         "yaxis": "y"
        },
        {
         "alignmentgroup": "True",
         "hovertemplate": "BU_NAAM=Lauwerecht<br>datetime=%{x}<br>pm2_5=%{y}<extra></extra>",
         "legendgroup": "Lauwerecht",
         "marker": {
          "color": "#FECB52"
         },
         "name": "Lauwerecht",
         "offsetgroup": "Lauwerecht",
         "orientation": "v",
         "showlegend": true,
         "textposition": "auto",
         "type": "bar",
         "x": [
          "2020-06-15T15:00:00",
          "2020-06-15T16:00:00",
          "2020-06-15T20:00:00",
          "2020-06-16T07:00:00",
          "2020-06-16T14:00:00",
          "2020-06-16T15:00:00",
          "2020-06-17T07:00:00",
          "2020-06-17T08:00:00",
          "2020-06-17T09:00:00",
          "2020-06-17T10:00:00",
          "2020-06-17T15:00:00",
          "2020-06-17T16:00:00",
          "2020-06-17T18:00:00",
          "2020-06-18T07:00:00",
          "2020-06-18T14:00:00",
          "2020-06-18T16:00:00",
          "2020-06-19T11:00:00",
          "2020-06-19T15:00:00",
          "2020-06-19T19:00:00",
          "2020-06-20T20:00:00",
          "2020-06-20T21:00:00",
          "2020-06-21T10:00:00",
          "2020-06-21T12:00:00",
          "2020-06-21T13:00:00",
          "2020-06-21T15:00:00",
          "2020-06-21T16:00:00",
          "2020-06-21T17:00:00"
         ],
         "xaxis": "x",
         "y": [
          1,
          1,
          1,
          1,
          1,
          1,
          1,
          1,
          1,
          1,
          1,
          1,
          1,
          1,
          1,
          1,
          1,
          1,
          1,
          1,
          1,
          1,
          1,
          1,
          1,
          1,
          1
         ],
         "yaxis": "y"
        },
        {
         "alignmentgroup": "True",
         "hovertemplate": "BU_NAAM=Leeuwesteyn<br>datetime=%{x}<br>pm2_5=%{y}<extra></extra>",
         "legendgroup": "Leeuwesteyn",
         "marker": {
          "color": "#636efa"
         },
         "name": "Leeuwesteyn",
         "offsetgroup": "Leeuwesteyn",
         "orientation": "v",
         "showlegend": true,
         "textposition": "auto",
         "type": "bar",
         "x": [
          "2020-06-15T13:00:00",
          "2020-06-15T15:00:00",
          "2020-06-15T17:00:00",
          "2020-06-15T18:00:00",
          "2020-06-15T21:00:00",
          "2020-06-15T22:00:00",
          "2020-06-16T07:00:00",
          "2020-06-16T08:00:00",
          "2020-06-16T17:00:00",
          "2020-06-16T19:00:00",
          "2020-06-17T08:00:00",
          "2020-06-17T09:00:00",
          "2020-06-17T12:00:00",
          "2020-06-17T17:00:00",
          "2020-06-17T18:00:00",
          "2020-06-18T07:00:00",
          "2020-06-18T11:00:00",
          "2020-06-18T14:00:00",
          "2020-06-18T16:00:00",
          "2020-06-18T21:00:00",
          "2020-06-19T08:00:00",
          "2020-06-19T09:00:00",
          "2020-06-19T11:00:00",
          "2020-06-19T12:00:00",
          "2020-06-19T13:00:00",
          "2020-06-19T16:00:00",
          "2020-06-19T18:00:00",
          "2020-06-19T19:00:00",
          "2020-06-20T09:00:00",
          "2020-06-20T10:00:00",
          "2020-06-20T16:00:00",
          "2020-06-21T01:00:00",
          "2020-06-21T10:00:00",
          "2020-06-21T12:00:00",
          "2020-06-21T20:00:00"
         ],
         "xaxis": "x",
         "y": [
          1,
          1,
          1,
          1,
          1,
          1,
          1,
          1,
          1,
          1,
          1,
          1,
          1,
          1,
          1,
          1,
          1,
          1,
          1,
          1,
          1,
          1,
          1,
          1,
          1,
          1,
          1,
          1,
          1,
          1,
          1,
          1,
          1,
          1,
          1
         ],
         "yaxis": "y"
        },
        {
         "alignmentgroup": "True",
         "hovertemplate": "BU_NAAM=Leidsche Rijn-Centrum<br>datetime=%{x}<br>pm2_5=%{y}<extra></extra>",
         "legendgroup": "Leidsche Rijn-Centrum",
         "marker": {
          "color": "#EF553B"
         },
         "name": "Leidsche Rijn-Centrum",
         "offsetgroup": "Leidsche Rijn-Centrum",
         "orientation": "v",
         "showlegend": true,
         "textposition": "auto",
         "type": "bar",
         "x": [
          "2020-06-15T13:00:00",
          "2020-06-15T14:00:00",
          "2020-06-15T15:00:00",
          "2020-06-15T18:00:00",
          "2020-06-15T21:00:00",
          "2020-06-16T08:00:00",
          "2020-06-16T19:00:00",
          "2020-06-17T08:00:00",
          "2020-06-17T09:00:00",
          "2020-06-17T12:00:00",
          "2020-06-17T15:00:00",
          "2020-06-17T17:00:00",
          "2020-06-18T11:00:00",
          "2020-06-18T12:00:00",
          "2020-06-18T14:00:00",
          "2020-06-18T21:00:00",
          "2020-06-19T09:00:00",
          "2020-06-19T11:00:00",
          "2020-06-19T12:00:00",
          "2020-06-19T16:00:00",
          "2020-06-19T18:00:00",
          "2020-06-19T19:00:00",
          "2020-06-20T09:00:00",
          "2020-06-21T01:00:00"
         ],
         "xaxis": "x",
         "y": [
          1,
          1,
          1,
          1,
          1,
          1,
          1,
          1,
          1,
          1,
          1,
          1,
          1,
          1,
          1,
          1,
          1,
          1,
          1,
          1,
          1,
          1,
          1,
          1
         ],
         "yaxis": "y"
        },
        {
         "alignmentgroup": "True",
         "hovertemplate": "BU_NAAM=Leidseweg en omgeving<br>datetime=%{x}<br>pm2_5=%{y}<extra></extra>",
         "legendgroup": "Leidseweg en omgeving",
         "marker": {
          "color": "#00cc96"
         },
         "name": "Leidseweg en omgeving",
         "offsetgroup": "Leidseweg en omgeving",
         "orientation": "v",
         "showlegend": true,
         "textposition": "auto",
         "type": "bar",
         "x": [
          "2020-06-15T13:00:00",
          "2020-06-15T17:00:00",
          "2020-06-15T18:00:00",
          "2020-06-16T07:00:00",
          "2020-06-16T08:00:00",
          "2020-06-16T10:00:00",
          "2020-06-16T15:00:00",
          "2020-06-16T17:00:00",
          "2020-06-17T08:00:00",
          "2020-06-17T17:00:00",
          "2020-06-17T18:00:00",
          "2020-06-17T19:00:00",
          "2020-06-17T20:00:00",
          "2020-06-18T07:00:00",
          "2020-06-18T08:00:00",
          "2020-06-18T09:00:00",
          "2020-06-18T11:00:00",
          "2020-06-18T13:00:00",
          "2020-06-18T16:00:00",
          "2020-06-18T18:00:00",
          "2020-06-18T19:00:00",
          "2020-06-19T07:00:00",
          "2020-06-19T16:00:00",
          "2020-06-20T16:00:00",
          "2020-06-20T20:00:00",
          "2020-06-21T09:00:00",
          "2020-06-21T12:00:00",
          "2020-06-21T16:00:00",
          "2020-06-21T20:00:00"
         ],
         "xaxis": "x",
         "y": [
          1,
          1,
          1,
          1,
          1,
          1,
          1,
          1,
          1,
          1,
          1,
          1,
          1,
          1,
          1,
          1,
          1,
          1,
          1,
          1,
          1,
          1,
          1,
          1,
          1,
          1,
          1,
          1,
          1
         ],
         "yaxis": "y"
        },
        {
         "alignmentgroup": "True",
         "hovertemplate": "BU_NAAM=Lombok-Oost<br>datetime=%{x}<br>pm2_5=%{y}<extra></extra>",
         "legendgroup": "Lombok-Oost",
         "marker": {
          "color": "#ab63fa"
         },
         "name": "Lombok-Oost",
         "offsetgroup": "Lombok-Oost",
         "orientation": "v",
         "showlegend": true,
         "textposition": "auto",
         "type": "bar",
         "x": [
          "2020-06-15T13:00:00",
          "2020-06-15T16:00:00",
          "2020-06-15T17:00:00",
          "2020-06-16T09:00:00",
          "2020-06-16T15:00:00",
          "2020-06-17T08:00:00",
          "2020-06-17T17:00:00",
          "2020-06-18T08:00:00",
          "2020-06-18T09:00:00",
          "2020-06-18T14:00:00",
          "2020-06-18T19:00:00",
          "2020-06-19T09:00:00",
          "2020-06-19T13:00:00",
          "2020-06-19T16:00:00",
          "2020-06-19T19:00:00",
          "2020-06-20T10:00:00",
          "2020-06-20T16:00:00",
          "2020-06-21T12:00:00",
          "2020-06-21T20:00:00"
         ],
         "xaxis": "x",
         "y": [
          1,
          1,
          1,
          1,
          1,
          1,
          1,
          1,
          1,
          1,
          1,
          1,
          1,
          1,
          1,
          1,
          1,
          1,
          1
         ],
         "yaxis": "y"
        },
        {
         "alignmentgroup": "True",
         "hovertemplate": "BU_NAAM=Lombok-West<br>datetime=%{x}<br>pm2_5=%{y}<extra></extra>",
         "legendgroup": "Lombok-West",
         "marker": {
          "color": "#FFA15A"
         },
         "name": "Lombok-West",
         "offsetgroup": "Lombok-West",
         "orientation": "v",
         "showlegend": true,
         "textposition": "auto",
         "type": "bar",
         "x": [
          "2020-06-15T13:00:00",
          "2020-06-15T15:00:00",
          "2020-06-15T16:00:00",
          "2020-06-15T18:00:00",
          "2020-06-16T09:00:00",
          "2020-06-16T10:00:00",
          "2020-06-16T15:00:00",
          "2020-06-17T08:00:00",
          "2020-06-17T18:00:00",
          "2020-06-18T07:00:00",
          "2020-06-18T08:00:00",
          "2020-06-18T14:00:00",
          "2020-06-18T18:00:00",
          "2020-06-18T19:00:00",
          "2020-06-19T07:00:00",
          "2020-06-19T09:00:00",
          "2020-06-19T12:00:00",
          "2020-06-19T13:00:00",
          "2020-06-19T16:00:00",
          "2020-06-19T19:00:00",
          "2020-06-20T10:00:00",
          "2020-06-20T16:00:00",
          "2020-06-21T16:00:00",
          "2020-06-21T17:00:00",
          "2020-06-21T21:00:00"
         ],
         "xaxis": "x",
         "y": [
          1,
          1,
          1,
          1,
          1,
          1,
          1,
          1,
          1,
          1,
          1,
          1,
          1,
          1,
          1,
          1,
          1,
          1,
          1,
          1,
          1,
          1,
          1,
          1,
          1
         ],
         "yaxis": "y"
        },
        {
         "alignmentgroup": "True",
         "hovertemplate": "BU_NAAM=Lunetten-Noord<br>datetime=%{x}<br>pm2_5=%{y}<extra></extra>",
         "legendgroup": "Lunetten-Noord",
         "marker": {
          "color": "#19d3f3"
         },
         "name": "Lunetten-Noord",
         "offsetgroup": "Lunetten-Noord",
         "orientation": "v",
         "showlegend": true,
         "textposition": "auto",
         "type": "bar",
         "x": [
          "2020-06-15T14:00:00",
          "2020-06-15T16:00:00",
          "2020-06-15T18:00:00",
          "2020-06-15T20:00:00",
          "2020-06-16T08:00:00",
          "2020-06-16T09:00:00",
          "2020-06-16T10:00:00",
          "2020-06-16T15:00:00",
          "2020-06-16T16:00:00",
          "2020-06-16T17:00:00",
          "2020-06-17T12:00:00",
          "2020-06-17T13:00:00",
          "2020-06-17T14:00:00",
          "2020-06-17T15:00:00",
          "2020-06-17T16:00:00",
          "2020-06-17T18:00:00",
          "2020-06-17T19:00:00",
          "2020-06-17T20:00:00",
          "2020-06-17T22:00:00",
          "2020-06-18T09:00:00",
          "2020-06-18T10:00:00",
          "2020-06-18T17:00:00",
          "2020-06-18T18:00:00",
          "2020-06-18T19:00:00",
          "2020-06-18T20:00:00",
          "2020-06-18T21:00:00",
          "2020-06-19T10:00:00",
          "2020-06-19T11:00:00",
          "2020-06-19T14:00:00",
          "2020-06-19T17:00:00",
          "2020-06-20T09:00:00",
          "2020-06-20T10:00:00",
          "2020-06-20T11:00:00",
          "2020-06-20T14:00:00",
          "2020-06-20T15:00:00",
          "2020-06-20T18:00:00",
          "2020-06-21T09:00:00",
          "2020-06-21T12:00:00",
          "2020-06-21T14:00:00",
          "2020-06-21T16:00:00",
          "2020-06-21T17:00:00"
         ],
         "xaxis": "x",
         "y": [
          1,
          1,
          1,
          1,
          1,
          1,
          1,
          1,
          1,
          1,
          1,
          1,
          1,
          1,
          1,
          1,
          1,
          1,
          1,
          1,
          1,
          1,
          1,
          1,
          1,
          1,
          1,
          1,
          1,
          1,
          1,
          1,
          1,
          1,
          1,
          1,
          1,
          1,
          1,
          1,
          1
         ],
         "yaxis": "y"
        },
        {
         "alignmentgroup": "True",
         "hovertemplate": "BU_NAAM=Lunetten-Zuid<br>datetime=%{x}<br>pm2_5=%{y}<extra></extra>",
         "legendgroup": "Lunetten-Zuid",
         "marker": {
          "color": "#FF6692"
         },
         "name": "Lunetten-Zuid",
         "offsetgroup": "Lunetten-Zuid",
         "orientation": "v",
         "showlegend": true,
         "textposition": "auto",
         "type": "bar",
         "x": [
          "2020-06-15T14:00:00",
          "2020-06-15T16:00:00",
          "2020-06-15T17:00:00",
          "2020-06-15T18:00:00",
          "2020-06-15T20:00:00",
          "2020-06-16T08:00:00",
          "2020-06-16T10:00:00",
          "2020-06-16T15:00:00",
          "2020-06-16T16:00:00",
          "2020-06-17T10:00:00",
          "2020-06-17T12:00:00",
          "2020-06-17T13:00:00",
          "2020-06-17T14:00:00",
          "2020-06-17T15:00:00",
          "2020-06-17T16:00:00",
          "2020-06-17T18:00:00",
          "2020-06-17T19:00:00",
          "2020-06-17T20:00:00",
          "2020-06-18T07:00:00",
          "2020-06-18T10:00:00",
          "2020-06-18T18:00:00",
          "2020-06-18T19:00:00",
          "2020-06-18T20:00:00",
          "2020-06-18T21:00:00",
          "2020-06-19T11:00:00",
          "2020-06-19T12:00:00",
          "2020-06-19T17:00:00",
          "2020-06-20T07:00:00",
          "2020-06-20T09:00:00",
          "2020-06-20T10:00:00",
          "2020-06-20T11:00:00",
          "2020-06-20T14:00:00",
          "2020-06-20T15:00:00",
          "2020-06-21T09:00:00",
          "2020-06-21T12:00:00"
         ],
         "xaxis": "x",
         "y": [
          1,
          1,
          1,
          1,
          1,
          1,
          1,
          1,
          1,
          1,
          1,
          1,
          1,
          1,
          1,
          1,
          1,
          1,
          1,
          1,
          1,
          1,
          1,
          1,
          1,
          1,
          1,
          1,
          1,
          1,
          1,
          1,
          1,
          1,
          1
         ],
         "yaxis": "y"
        },
        {
         "alignmentgroup": "True",
         "hovertemplate": "BU_NAAM=Maarschalkerweerd en Mereveld<br>datetime=%{x}<br>pm2_5=%{y}<extra></extra>",
         "legendgroup": "Maarschalkerweerd en Mereveld",
         "marker": {
          "color": "#B6E880"
         },
         "name": "Maarschalkerweerd en Mereveld",
         "offsetgroup": "Maarschalkerweerd en Mereveld",
         "orientation": "v",
         "showlegend": true,
         "textposition": "auto",
         "type": "bar",
         "x": [
          "2020-06-15T14:00:00",
          "2020-06-15T18:00:00",
          "2020-06-15T19:00:00",
          "2020-06-15T20:00:00",
          "2020-06-16T07:00:00",
          "2020-06-16T08:00:00",
          "2020-06-16T17:00:00",
          "2020-06-17T10:00:00",
          "2020-06-17T12:00:00",
          "2020-06-17T13:00:00",
          "2020-06-17T14:00:00",
          "2020-06-17T15:00:00",
          "2020-06-17T16:00:00",
          "2020-06-17T18:00:00",
          "2020-06-17T20:00:00",
          "2020-06-17T22:00:00",
          "2020-06-18T07:00:00",
          "2020-06-18T08:00:00",
          "2020-06-18T09:00:00",
          "2020-06-18T10:00:00",
          "2020-06-18T15:00:00",
          "2020-06-18T17:00:00",
          "2020-06-18T18:00:00",
          "2020-06-18T19:00:00",
          "2020-06-18T20:00:00",
          "2020-06-18T21:00:00",
          "2020-06-18T22:00:00",
          "2020-06-19T07:00:00",
          "2020-06-19T09:00:00",
          "2020-06-19T10:00:00",
          "2020-06-19T22:00:00",
          "2020-06-20T10:00:00",
          "2020-06-20T11:00:00",
          "2020-06-20T13:00:00",
          "2020-06-20T14:00:00",
          "2020-06-20T16:00:00",
          "2020-06-20T19:00:00",
          "2020-06-20T20:00:00",
          "2020-06-21T09:00:00",
          "2020-06-21T10:00:00",
          "2020-06-21T11:00:00",
          "2020-06-21T12:00:00",
          "2020-06-21T13:00:00",
          "2020-06-21T14:00:00",
          "2020-06-21T18:00:00",
          "2020-06-21T19:00:00"
         ],
         "xaxis": "x",
         "y": [
          1,
          1,
          1,
          1,
          1,
          1,
          1,
          1,
          1,
          1,
          1,
          1,
          1,
          1,
          1,
          1,
          1,
          1,
          1,
          1,
          1,
          1,
          1,
          1,
          1,
          1,
          1,
          1,
          1,
          1,
          1,
          1,
          1,
          1,
          1,
          1,
          1,
          1,
          1,
          1,
          1,
          1,
          1,
          1,
          1,
          1
         ],
         "yaxis": "y"
        },
        {
         "alignmentgroup": "True",
         "hovertemplate": "BU_NAAM=Máximapark<br>datetime=%{x}<br>pm2_5=%{y}<extra></extra>",
         "legendgroup": "Máximapark",
         "marker": {
          "color": "#FF97FF"
         },
         "name": "Máximapark",
         "offsetgroup": "Máximapark",
         "orientation": "v",
         "showlegend": true,
         "textposition": "auto",
         "type": "bar",
         "x": [
          "2020-06-15T18:00:00",
          "2020-06-15T21:00:00",
          "2020-06-16T16:00:00",
          "2020-06-16T17:00:00",
          "2020-06-17T08:00:00",
          "2020-06-17T09:00:00",
          "2020-06-17T12:00:00",
          "2020-06-17T15:00:00",
          "2020-06-17T17:00:00",
          "2020-06-17T18:00:00",
          "2020-06-17T21:00:00",
          "2020-06-18T23:00:00",
          "2020-06-19T11:00:00",
          "2020-06-19T12:00:00",
          "2020-06-19T13:00:00",
          "2020-06-20T11:00:00",
          "2020-06-21T14:00:00",
          "2020-06-21T15:00:00",
          "2020-06-21T17:00:00",
          "2020-06-21T19:00:00",
          "2020-06-21T21:00:00"
         ],
         "xaxis": "x",
         "y": [
          1,
          1,
          1,
          1,
          1,
          1,
          1,
          1,
          1,
          1,
          1,
          1,
          1,
          1,
          1,
          1,
          1,
          1,
          1,
          1,
          1
         ],
         "yaxis": "y"
        },
        {
         "alignmentgroup": "True",
         "hovertemplate": "BU_NAAM=Neckardreef en omgeving<br>datetime=%{x}<br>pm2_5=%{y}<extra></extra>",
         "legendgroup": "Neckardreef en omgeving",
         "marker": {
          "color": "#FECB52"
         },
         "name": "Neckardreef en omgeving",
         "offsetgroup": "Neckardreef en omgeving",
         "orientation": "v",
         "showlegend": true,
         "textposition": "auto",
         "type": "bar",
         "x": [
          "2020-06-16T12:00:00",
          "2020-06-16T13:00:00",
          "2020-06-16T14:00:00",
          "2020-06-17T19:00:00",
          "2020-06-17T21:00:00",
          "2020-06-17T22:00:00",
          "2020-06-18T11:00:00",
          "2020-06-18T16:00:00",
          "2020-06-19T09:00:00",
          "2020-06-19T10:00:00",
          "2020-06-20T10:00:00",
          "2020-06-20T11:00:00",
          "2020-06-20T13:00:00",
          "2020-06-21T09:00:00",
          "2020-06-21T11:00:00"
         ],
         "xaxis": "x",
         "y": [
          1,
          1,
          1,
          1,
          1,
          1,
          1,
          1,
          1,
          1,
          1,
          1,
          1,
          1,
          1
         ],
         "yaxis": "y"
        },
        {
         "alignmentgroup": "True",
         "hovertemplate": "BU_NAAM=Nieuw Engeland, Th. a. Kempisplantsoen en omgeving<br>datetime=%{x}<br>pm2_5=%{y}<extra></extra>",
         "legendgroup": "Nieuw Engeland, Th. a. Kempisplantsoen en omgeving",
         "marker": {
          "color": "#636efa"
         },
         "name": "Nieuw Engeland, Th. a. Kempisplantsoen en omgeving",
         "offsetgroup": "Nieuw Engeland, Th. a. Kempisplantsoen en omgeving",
         "orientation": "v",
         "showlegend": true,
         "textposition": "auto",
         "type": "bar",
         "x": [
          "2020-06-15T13:00:00",
          "2020-06-15T15:00:00",
          "2020-06-15T17:00:00",
          "2020-06-15T18:00:00",
          "2020-06-16T08:00:00",
          "2020-06-16T09:00:00",
          "2020-06-16T18:00:00",
          "2020-06-16T19:00:00",
          "2020-06-17T08:00:00",
          "2020-06-17T09:00:00",
          "2020-06-17T10:00:00",
          "2020-06-17T12:00:00",
          "2020-06-17T17:00:00",
          "2020-06-17T18:00:00",
          "2020-06-18T11:00:00",
          "2020-06-18T14:00:00",
          "2020-06-18T20:00:00",
          "2020-06-18T21:00:00",
          "2020-06-19T09:00:00",
          "2020-06-19T11:00:00",
          "2020-06-19T13:00:00",
          "2020-06-19T18:00:00",
          "2020-06-19T19:00:00",
          "2020-06-20T09:00:00",
          "2020-06-20T10:00:00",
          "2020-06-20T13:00:00",
          "2020-06-20T20:00:00",
          "2020-06-21T16:00:00",
          "2020-06-21T17:00:00",
          "2020-06-21T21:00:00"
         ],
         "xaxis": "x",
         "y": [
          1,
          1,
          1,
          1,
          1,
          1,
          1,
          1,
          1,
          1,
          1,
          1,
          1,
          1,
          1,
          1,
          1,
          1,
          1,
          1,
          1,
          1,
          1,
          1,
          1,
          1,
          1,
          1,
          1,
          1
         ],
         "yaxis": "y"
        },
        {
         "alignmentgroup": "True",
         "hovertemplate": "BU_NAAM=Nieuw Hoograven-Noord<br>datetime=%{x}<br>pm2_5=%{y}<extra></extra>",
         "legendgroup": "Nieuw Hoograven-Noord",
         "marker": {
          "color": "#EF553B"
         },
         "name": "Nieuw Hoograven-Noord",
         "offsetgroup": "Nieuw Hoograven-Noord",
         "orientation": "v",
         "showlegend": true,
         "textposition": "auto",
         "type": "bar",
         "x": [
          "2020-06-16T08:00:00",
          "2020-06-16T10:00:00",
          "2020-06-16T15:00:00",
          "2020-06-16T16:00:00",
          "2020-06-17T08:00:00",
          "2020-06-17T12:00:00",
          "2020-06-17T13:00:00",
          "2020-06-17T22:00:00",
          "2020-06-18T17:00:00",
          "2020-06-19T08:00:00",
          "2020-06-19T16:00:00",
          "2020-06-20T17:00:00",
          "2020-06-20T18:00:00",
          "2020-06-21T15:00:00"
         ],
         "xaxis": "x",
         "y": [
          1,
          1,
          1,
          1,
          1,
          1,
          1,
          1,
          1,
          1,
          1,
          1,
          1,
          1
         ],
         "yaxis": "y"
        },
        {
         "alignmentgroup": "True",
         "hovertemplate": "BU_NAAM=Nieuw Hoograven-Zuid<br>datetime=%{x}<br>pm2_5=%{y}<extra></extra>",
         "legendgroup": "Nieuw Hoograven-Zuid",
         "marker": {
          "color": "#00cc96"
         },
         "name": "Nieuw Hoograven-Zuid",
         "offsetgroup": "Nieuw Hoograven-Zuid",
         "orientation": "v",
         "showlegend": true,
         "textposition": "auto",
         "type": "bar",
         "x": [
          "2020-06-15T14:00:00",
          "2020-06-15T16:00:00",
          "2020-06-15T17:00:00",
          "2020-06-15T18:00:00",
          "2020-06-15T20:00:00",
          "2020-06-16T08:00:00",
          "2020-06-16T15:00:00",
          "2020-06-16T16:00:00",
          "2020-06-16T17:00:00",
          "2020-06-17T07:00:00",
          "2020-06-17T14:00:00",
          "2020-06-17T15:00:00",
          "2020-06-17T17:00:00",
          "2020-06-17T18:00:00",
          "2020-06-17T19:00:00",
          "2020-06-17T20:00:00",
          "2020-06-17T22:00:00",
          "2020-06-18T08:00:00",
          "2020-06-18T15:00:00",
          "2020-06-19T07:00:00",
          "2020-06-19T08:00:00",
          "2020-06-19T13:00:00",
          "2020-06-19T16:00:00",
          "2020-06-20T16:00:00",
          "2020-06-21T08:00:00",
          "2020-06-21T09:00:00",
          "2020-06-21T12:00:00",
          "2020-06-21T15:00:00",
          "2020-06-21T17:00:00"
         ],
         "xaxis": "x",
         "y": [
          1,
          1,
          1,
          1,
          1,
          1,
          1,
          1,
          1,
          1,
          1,
          1,
          1,
          1,
          1,
          1,
          1,
          1,
          1,
          1,
          1,
          1,
          1,
          1,
          1,
          1,
          1,
          1,
          1
         ],
         "yaxis": "y"
        },
        {
         "alignmentgroup": "True",
         "hovertemplate": "BU_NAAM=Nieuwegracht-Oost<br>datetime=%{x}<br>pm2_5=%{y}<extra></extra>",
         "legendgroup": "Nieuwegracht-Oost",
         "marker": {
          "color": "#ab63fa"
         },
         "name": "Nieuwegracht-Oost",
         "offsetgroup": "Nieuwegracht-Oost",
         "orientation": "v",
         "showlegend": true,
         "textposition": "auto",
         "type": "bar",
         "x": [
          "2020-06-15T16:00:00",
          "2020-06-15T17:00:00",
          "2020-06-15T18:00:00",
          "2020-06-15T21:00:00",
          "2020-06-17T10:00:00",
          "2020-06-17T15:00:00",
          "2020-06-18T08:00:00",
          "2020-06-18T12:00:00",
          "2020-06-18T18:00:00",
          "2020-06-19T10:00:00",
          "2020-06-19T14:00:00",
          "2020-06-19T18:00:00",
          "2020-06-20T16:00:00",
          "2020-06-20T20:00:00"
         ],
         "xaxis": "x",
         "y": [
          1,
          1,
          1,
          1,
          1,
          1,
          1,
          1,
          1,
          1,
          1,
          1,
          1,
          1
         ],
         "yaxis": "y"
        },
        {
         "alignmentgroup": "True",
         "hovertemplate": "BU_NAAM=Nijenoord, Hoogstraat en omgeving<br>datetime=%{x}<br>pm2_5=%{y}<extra></extra>",
         "legendgroup": "Nijenoord, Hoogstraat en omgeving",
         "marker": {
          "color": "#FFA15A"
         },
         "name": "Nijenoord, Hoogstraat en omgeving",
         "offsetgroup": "Nijenoord, Hoogstraat en omgeving",
         "orientation": "v",
         "showlegend": true,
         "textposition": "auto",
         "type": "bar",
         "x": [
          "2020-06-15T14:00:00",
          "2020-06-15T15:00:00",
          "2020-06-15T16:00:00",
          "2020-06-16T14:00:00",
          "2020-06-17T08:00:00",
          "2020-06-17T13:00:00",
          "2020-06-17T15:00:00",
          "2020-06-17T16:00:00",
          "2020-06-18T08:00:00",
          "2020-06-18T11:00:00",
          "2020-06-19T19:00:00",
          "2020-06-20T20:00:00",
          "2020-06-20T21:00:00",
          "2020-06-21T12:00:00",
          "2020-06-21T13:00:00"
         ],
         "xaxis": "x",
         "y": [
          1,
          1,
          1,
          1,
          1,
          1,
          1,
          1,
          1,
          1,
          1,
          1,
          1,
          1,
          1
         ],
         "yaxis": "y"
        },
        {
         "alignmentgroup": "True",
         "hovertemplate": "BU_NAAM=Nobelstraat en omgeving<br>datetime=%{x}<br>pm2_5=%{y}<extra></extra>",
         "legendgroup": "Nobelstraat en omgeving",
         "marker": {
          "color": "#19d3f3"
         },
         "name": "Nobelstraat en omgeving",
         "offsetgroup": "Nobelstraat en omgeving",
         "orientation": "v",
         "showlegend": true,
         "textposition": "auto",
         "type": "bar",
         "x": [
          "2020-06-15T13:00:00",
          "2020-06-15T15:00:00",
          "2020-06-15T16:00:00",
          "2020-06-15T18:00:00",
          "2020-06-16T07:00:00",
          "2020-06-16T09:00:00",
          "2020-06-16T13:00:00",
          "2020-06-16T16:00:00",
          "2020-06-17T17:00:00",
          "2020-06-17T19:00:00",
          "2020-06-18T07:00:00",
          "2020-06-18T08:00:00",
          "2020-06-18T11:00:00",
          "2020-06-18T16:00:00",
          "2020-06-18T19:00:00",
          "2020-06-19T09:00:00",
          "2020-06-19T11:00:00",
          "2020-06-19T12:00:00",
          "2020-06-19T15:00:00",
          "2020-06-20T10:00:00",
          "2020-06-20T11:00:00",
          "2020-06-20T15:00:00",
          "2020-06-21T12:00:00",
          "2020-06-21T20:00:00"
         ],
         "xaxis": "x",
         "y": [
          1,
          1,
          1,
          1,
          1,
          1,
          1,
          1,
          1,
          1,
          1,
          1,
          1,
          1,
          1,
          1,
          1,
          1,
          1,
          1,
          1,
          1,
          1,
          1
         ],
         "yaxis": "y"
        },
        {
         "alignmentgroup": "True",
         "hovertemplate": "BU_NAAM=Ondiep<br>datetime=%{x}<br>pm2_5=%{y}<extra></extra>",
         "legendgroup": "Ondiep",
         "marker": {
          "color": "#FF6692"
         },
         "name": "Ondiep",
         "offsetgroup": "Ondiep",
         "orientation": "v",
         "showlegend": true,
         "textposition": "auto",
         "type": "bar",
         "x": [
          "2020-06-15T13:00:00",
          "2020-06-15T14:00:00",
          "2020-06-15T15:00:00",
          "2020-06-15T16:00:00",
          "2020-06-16T12:00:00",
          "2020-06-16T14:00:00",
          "2020-06-16T16:00:00",
          "2020-06-17T08:00:00",
          "2020-06-17T15:00:00",
          "2020-06-17T16:00:00",
          "2020-06-17T18:00:00",
          "2020-06-18T11:00:00",
          "2020-06-18T16:00:00",
          "2020-06-18T17:00:00",
          "2020-06-19T14:00:00",
          "2020-06-20T10:00:00",
          "2020-06-20T20:00:00",
          "2020-06-20T21:00:00",
          "2020-06-21T12:00:00",
          "2020-06-21T13:00:00",
          "2020-06-21T17:00:00"
         ],
         "xaxis": "x",
         "y": [
          1,
          1,
          1,
          1,
          1,
          1,
          1,
          1,
          1,
          1,
          1,
          1,
          1,
          1,
          1,
          1,
          1,
          1,
          1,
          1,
          1
         ],
         "yaxis": "y"
        },
        {
         "alignmentgroup": "True",
         "hovertemplate": "BU_NAAM=Oog in Al<br>datetime=%{x}<br>pm2_5=%{y}<extra></extra>",
         "legendgroup": "Oog in Al",
         "marker": {
          "color": "#B6E880"
         },
         "name": "Oog in Al",
         "offsetgroup": "Oog in Al",
         "orientation": "v",
         "showlegend": true,
         "textposition": "auto",
         "type": "bar",
         "x": [
          "2020-06-15T13:00:00",
          "2020-06-15T17:00:00",
          "2020-06-16T07:00:00",
          "2020-06-16T17:00:00",
          "2020-06-16T18:00:00",
          "2020-06-16T19:00:00",
          "2020-06-17T08:00:00",
          "2020-06-17T10:00:00",
          "2020-06-17T17:00:00",
          "2020-06-17T18:00:00",
          "2020-06-18T07:00:00",
          "2020-06-18T08:00:00",
          "2020-06-18T11:00:00",
          "2020-06-18T14:00:00",
          "2020-06-18T16:00:00",
          "2020-06-18T19:00:00",
          "2020-06-19T09:00:00",
          "2020-06-19T16:00:00",
          "2020-06-20T10:00:00",
          "2020-06-20T16:00:00",
          "2020-06-20T20:00:00",
          "2020-06-21T09:00:00",
          "2020-06-21T12:00:00",
          "2020-06-21T16:00:00",
          "2020-06-21T17:00:00",
          "2020-06-21T20:00:00"
         ],
         "xaxis": "x",
         "y": [
          1,
          1,
          1,
          1,
          1,
          1,
          1,
          1,
          1,
          1,
          1,
          1,
          1,
          1,
          1,
          1,
          1,
          1,
          1,
          1,
          1,
          1,
          1,
          1,
          1,
          1
         ],
         "yaxis": "y"
        },
        {
         "alignmentgroup": "True",
         "hovertemplate": "BU_NAAM=Oud Hoograven-Noord<br>datetime=%{x}<br>pm2_5=%{y}<extra></extra>",
         "legendgroup": "Oud Hoograven-Noord",
         "marker": {
          "color": "#FF97FF"
         },
         "name": "Oud Hoograven-Noord",
         "offsetgroup": "Oud Hoograven-Noord",
         "orientation": "v",
         "showlegend": true,
         "textposition": "auto",
         "type": "bar",
         "x": [
          "2020-06-15T14:00:00",
          "2020-06-16T08:00:00",
          "2020-06-16T10:00:00",
          "2020-06-16T15:00:00",
          "2020-06-17T08:00:00",
          "2020-06-17T14:00:00",
          "2020-06-18T08:00:00",
          "2020-06-18T15:00:00",
          "2020-06-18T17:00:00",
          "2020-06-19T08:00:00",
          "2020-06-19T16:00:00",
          "2020-06-20T15:00:00",
          "2020-06-20T16:00:00",
          "2020-06-20T17:00:00",
          "2020-06-20T18:00:00",
          "2020-06-21T15:00:00",
          "2020-06-21T17:00:00"
         ],
         "xaxis": "x",
         "y": [
          1,
          1,
          1,
          1,
          1,
          1,
          1,
          1,
          1,
          1,
          1,
          1,
          1,
          1,
          1,
          1,
          1
         ],
         "yaxis": "y"
        },
        {
         "alignmentgroup": "True",
         "hovertemplate": "BU_NAAM=Oud Hoograven-Zuid<br>datetime=%{x}<br>pm2_5=%{y}<extra></extra>",
         "legendgroup": "Oud Hoograven-Zuid",
         "marker": {
          "color": "#FECB52"
         },
         "name": "Oud Hoograven-Zuid",
         "offsetgroup": "Oud Hoograven-Zuid",
         "orientation": "v",
         "showlegend": true,
         "textposition": "auto",
         "type": "bar",
         "x": [
          "2020-06-15T14:00:00",
          "2020-06-16T08:00:00",
          "2020-06-16T15:00:00",
          "2020-06-17T07:00:00",
          "2020-06-17T08:00:00",
          "2020-06-17T12:00:00",
          "2020-06-17T14:00:00",
          "2020-06-17T22:00:00",
          "2020-06-18T08:00:00",
          "2020-06-18T15:00:00",
          "2020-06-19T08:00:00",
          "2020-06-19T13:00:00",
          "2020-06-19T16:00:00",
          "2020-06-20T16:00:00",
          "2020-06-21T17:00:00"
         ],
         "xaxis": "x",
         "y": [
          1,
          1,
          1,
          1,
          1,
          1,
          1,
          1,
          1,
          1,
          1,
          1,
          1,
          1,
          1
         ],
         "yaxis": "y"
        },
        {
         "alignmentgroup": "True",
         "hovertemplate": "BU_NAAM=Oudwijk<br>datetime=%{x}<br>pm2_5=%{y}<extra></extra>",
         "legendgroup": "Oudwijk",
         "marker": {
          "color": "#636efa"
         },
         "name": "Oudwijk",
         "offsetgroup": "Oudwijk",
         "orientation": "v",
         "showlegend": true,
         "textposition": "auto",
         "type": "bar",
         "x": [
          "2020-06-15T13:00:00",
          "2020-06-15T14:00:00",
          "2020-06-15T16:00:00",
          "2020-06-15T17:00:00",
          "2020-06-15T21:00:00",
          "2020-06-16T07:00:00",
          "2020-06-16T13:00:00",
          "2020-06-16T15:00:00",
          "2020-06-16T16:00:00",
          "2020-06-16T18:00:00",
          "2020-06-16T20:00:00",
          "2020-06-17T08:00:00",
          "2020-06-17T09:00:00",
          "2020-06-17T12:00:00",
          "2020-06-17T14:00:00",
          "2020-06-17T15:00:00",
          "2020-06-17T19:00:00",
          "2020-06-17T21:00:00",
          "2020-06-18T07:00:00",
          "2020-06-18T08:00:00",
          "2020-06-18T10:00:00",
          "2020-06-18T11:00:00",
          "2020-06-18T12:00:00",
          "2020-06-18T16:00:00",
          "2020-06-18T19:00:00",
          "2020-06-19T09:00:00",
          "2020-06-19T10:00:00",
          "2020-06-19T11:00:00",
          "2020-06-19T12:00:00",
          "2020-06-19T15:00:00",
          "2020-06-19T18:00:00",
          "2020-06-20T10:00:00",
          "2020-06-20T11:00:00",
          "2020-06-20T13:00:00",
          "2020-06-21T12:00:00",
          "2020-06-21T20:00:00"
         ],
         "xaxis": "x",
         "y": [
          1,
          1,
          1,
          1,
          1,
          1,
          1,
          1,
          1,
          1,
          1,
          1,
          1,
          1,
          1,
          1,
          1,
          1,
          1,
          1,
          1,
          1,
          1,
          1,
          1,
          1,
          1,
          1,
          1,
          1,
          1,
          1,
          1,
          1,
          1,
          1
         ],
         "yaxis": "y"
        },
        {
         "alignmentgroup": "True",
         "hovertemplate": "BU_NAAM=Parkwijk-Noord<br>datetime=%{x}<br>pm2_5=%{y}<extra></extra>",
         "legendgroup": "Parkwijk-Noord",
         "marker": {
          "color": "#EF553B"
         },
         "name": "Parkwijk-Noord",
         "offsetgroup": "Parkwijk-Noord",
         "orientation": "v",
         "showlegend": true,
         "textposition": "auto",
         "type": "bar",
         "x": [
          "2020-06-16T08:00:00",
          "2020-06-16T17:00:00",
          "2020-06-19T12:00:00",
          "2020-06-19T19:00:00",
          "2020-06-20T10:00:00"
         ],
         "xaxis": "x",
         "y": [
          1,
          1,
          1,
          1,
          1
         ],
         "yaxis": "y"
        },
        {
         "alignmentgroup": "True",
         "hovertemplate": "BU_NAAM=Parkwijk-Zuid<br>datetime=%{x}<br>pm2_5=%{y}<extra></extra>",
         "legendgroup": "Parkwijk-Zuid",
         "marker": {
          "color": "#00cc96"
         },
         "name": "Parkwijk-Zuid",
         "offsetgroup": "Parkwijk-Zuid",
         "orientation": "v",
         "showlegend": true,
         "textposition": "auto",
         "type": "bar",
         "x": [
          "2020-06-16T08:00:00",
          "2020-06-16T16:00:00",
          "2020-06-17T17:00:00",
          "2020-06-18T16:00:00",
          "2020-06-18T17:00:00",
          "2020-06-19T19:00:00",
          "2020-06-19T23:00:00",
          "2020-06-20T09:00:00"
         ],
         "xaxis": "x",
         "y": [
          1,
          1,
          1,
          1,
          1,
          1,
          1,
          1
         ],
         "yaxis": "y"
        },
        {
         "alignmentgroup": "True",
         "hovertemplate": "BU_NAAM=Pijlsweerd-Noord<br>datetime=%{x}<br>pm2_5=%{y}<extra></extra>",
         "legendgroup": "Pijlsweerd-Noord",
         "marker": {
          "color": "#ab63fa"
         },
         "name": "Pijlsweerd-Noord",
         "offsetgroup": "Pijlsweerd-Noord",
         "orientation": "v",
         "showlegend": true,
         "textposition": "auto",
         "type": "bar",
         "x": [
          "2020-06-15T14:00:00",
          "2020-06-15T15:00:00",
          "2020-06-15T16:00:00",
          "2020-06-17T13:00:00",
          "2020-06-17T16:00:00",
          "2020-06-17T18:00:00",
          "2020-06-18T07:00:00",
          "2020-06-18T16:00:00",
          "2020-06-19T13:00:00",
          "2020-06-19T15:00:00",
          "2020-06-19T19:00:00",
          "2020-06-20T10:00:00",
          "2020-06-20T21:00:00",
          "2020-06-21T12:00:00",
          "2020-06-21T14:00:00"
         ],
         "xaxis": "x",
         "y": [
          1,
          1,
          1,
          1,
          1,
          1,
          1,
          1,
          1,
          1,
          1,
          1,
          1,
          1,
          1
         ],
         "yaxis": "y"
        },
        {
         "alignmentgroup": "True",
         "hovertemplate": "BU_NAAM=Pijlsweerd-Zuid<br>datetime=%{x}<br>pm2_5=%{y}<extra></extra>",
         "legendgroup": "Pijlsweerd-Zuid",
         "marker": {
          "color": "#FFA15A"
         },
         "name": "Pijlsweerd-Zuid",
         "offsetgroup": "Pijlsweerd-Zuid",
         "orientation": "v",
         "showlegend": true,
         "textposition": "auto",
         "type": "bar",
         "x": [
          "2020-06-15T14:00:00",
          "2020-06-15T15:00:00",
          "2020-06-15T16:00:00",
          "2020-06-15T17:00:00",
          "2020-06-15T20:00:00",
          "2020-06-17T07:00:00",
          "2020-06-17T08:00:00",
          "2020-06-17T09:00:00",
          "2020-06-17T10:00:00",
          "2020-06-17T12:00:00",
          "2020-06-17T16:00:00",
          "2020-06-17T17:00:00",
          "2020-06-17T18:00:00",
          "2020-06-18T07:00:00",
          "2020-06-18T14:00:00",
          "2020-06-18T16:00:00",
          "2020-06-19T11:00:00",
          "2020-06-19T12:00:00",
          "2020-06-19T13:00:00",
          "2020-06-19T15:00:00",
          "2020-06-19T19:00:00",
          "2020-06-20T10:00:00",
          "2020-06-20T21:00:00",
          "2020-06-21T10:00:00",
          "2020-06-21T12:00:00",
          "2020-06-21T14:00:00",
          "2020-06-21T15:00:00",
          "2020-06-21T16:00:00",
          "2020-06-21T17:00:00"
         ],
         "xaxis": "x",
         "y": [
          1,
          1,
          1,
          1,
          1,
          1,
          1,
          1,
          1,
          1,
          1,
          1,
          1,
          1,
          1,
          1,
          1,
          1,
          1,
          1,
          1,
          1,
          1,
          1,
          1,
          1,
          1,
          1,
          1
         ],
         "yaxis": "y"
        },
        {
         "alignmentgroup": "True",
         "hovertemplate": "BU_NAAM=Poldergebied Overvecht<br>datetime=%{x}<br>pm2_5=%{y}<extra></extra>",
         "legendgroup": "Poldergebied Overvecht",
         "marker": {
          "color": "#19d3f3"
         },
         "name": "Poldergebied Overvecht",
         "offsetgroup": "Poldergebied Overvecht",
         "orientation": "v",
         "showlegend": true,
         "textposition": "auto",
         "type": "bar",
         "x": [
          "2020-06-16T12:00:00",
          "2020-06-16T17:00:00",
          "2020-06-17T00:00:00",
          "2020-06-17T08:00:00",
          "2020-06-17T09:00:00",
          "2020-06-17T10:00:00",
          "2020-06-17T11:00:00",
          "2020-06-17T16:00:00",
          "2020-06-17T17:00:00",
          "2020-06-17T18:00:00",
          "2020-06-17T19:00:00",
          "2020-06-17T22:00:00",
          "2020-06-18T08:00:00",
          "2020-06-18T10:00:00",
          "2020-06-18T11:00:00",
          "2020-06-18T16:00:00",
          "2020-06-18T20:00:00",
          "2020-06-19T09:00:00",
          "2020-06-19T10:00:00",
          "2020-06-20T08:00:00",
          "2020-06-20T09:00:00",
          "2020-06-20T10:00:00",
          "2020-06-20T11:00:00",
          "2020-06-20T20:00:00",
          "2020-06-21T09:00:00",
          "2020-06-21T12:00:00",
          "2020-06-21T14:00:00",
          "2020-06-21T15:00:00"
         ],
         "xaxis": "x",
         "y": [
          1,
          1,
          1,
          1,
          1,
          1,
          1,
          1,
          1,
          1,
          1,
          1,
          1,
          1,
          1,
          1,
          1,
          1,
          1,
          1,
          1,
          1,
          1,
          1,
          1,
          1,
          1,
          1
         ],
         "yaxis": "y"
        },
        {
         "alignmentgroup": "True",
         "hovertemplate": "BU_NAAM=Prins Bernhardplein en omgeving<br>datetime=%{x}<br>pm2_5=%{y}<extra></extra>",
         "legendgroup": "Prins Bernhardplein en omgeving",
         "marker": {
          "color": "#FF6692"
         },
         "name": "Prins Bernhardplein en omgeving",
         "offsetgroup": "Prins Bernhardplein en omgeving",
         "orientation": "v",
         "showlegend": true,
         "textposition": "auto",
         "type": "bar",
         "x": [
          "2020-06-17T17:00:00",
          "2020-06-17T18:00:00",
          "2020-06-18T07:00:00",
          "2020-06-18T16:00:00",
          "2020-06-18T20:00:00",
          "2020-06-19T13:00:00",
          "2020-06-19T15:00:00",
          "2020-06-20T16:00:00",
          "2020-06-20T17:00:00",
          "2020-06-20T20:00:00",
          "2020-06-20T21:00:00",
          "2020-06-21T12:00:00",
          "2020-06-21T13:00:00",
          "2020-06-21T16:00:00",
          "2020-06-21T17:00:00"
         ],
         "xaxis": "x",
         "y": [
          1,
          1,
          1,
          1,
          1,
          1,
          1,
          1,
          1,
          1,
          1,
          1,
          1,
          1,
          1
         ],
         "yaxis": "y"
        },
        {
         "alignmentgroup": "True",
         "hovertemplate": "BU_NAAM=Queeckhovenplein en omgeving<br>datetime=%{x}<br>pm2_5=%{y}<extra></extra>",
         "legendgroup": "Queeckhovenplein en omgeving",
         "marker": {
          "color": "#B6E880"
         },
         "name": "Queeckhovenplein en omgeving",
         "offsetgroup": "Queeckhovenplein en omgeving",
         "orientation": "v",
         "showlegend": true,
         "textposition": "auto",
         "type": "bar",
         "x": [
          "2020-06-18T20:00:00",
          "2020-06-20T20:00:00",
          "2020-06-21T12:00:00"
         ],
         "xaxis": "x",
         "y": [
          1,
          1,
          1
         ],
         "yaxis": "y"
        },
        {
         "alignmentgroup": "True",
         "hovertemplate": "BU_NAAM=Rijnenburg<br>datetime=%{x}<br>pm2_5=%{y}<extra></extra>",
         "legendgroup": "Rijnenburg",
         "marker": {
          "color": "#FF97FF"
         },
         "name": "Rijnenburg",
         "offsetgroup": "Rijnenburg",
         "orientation": "v",
         "showlegend": true,
         "textposition": "auto",
         "type": "bar",
         "x": [
          "2020-06-15T12:00:00",
          "2020-06-15T17:00:00",
          "2020-06-15T18:00:00",
          "2020-06-15T21:00:00",
          "2020-06-16T08:00:00",
          "2020-06-16T17:00:00",
          "2020-06-16T19:00:00",
          "2020-06-17T07:00:00",
          "2020-06-17T11:00:00",
          "2020-06-17T16:00:00",
          "2020-06-17T17:00:00",
          "2020-06-17T18:00:00",
          "2020-06-17T19:00:00",
          "2020-06-17T21:00:00",
          "2020-06-18T08:00:00",
          "2020-06-18T16:00:00",
          "2020-06-18T17:00:00",
          "2020-06-18T18:00:00",
          "2020-06-19T08:00:00",
          "2020-06-19T15:00:00",
          "2020-06-19T18:00:00",
          "2020-06-19T22:00:00",
          "2020-06-20T08:00:00",
          "2020-06-20T18:00:00",
          "2020-06-21T01:00:00",
          "2020-06-21T09:00:00",
          "2020-06-21T10:00:00",
          "2020-06-21T13:00:00",
          "2020-06-21T14:00:00"
         ],
         "xaxis": "x",
         "y": [
          1,
          1,
          1,
          1,
          1,
          1,
          1,
          1,
          1,
          1,
          1,
          1,
          1,
          1,
          1,
          1,
          1,
          1,
          1,
          1,
          1,
          1,
          1,
          1,
          1,
          1,
          1,
          1,
          1
         ],
         "yaxis": "y"
        },
        {
         "alignmentgroup": "True",
         "hovertemplate": "BU_NAAM=Rijnsweerd<br>datetime=%{x}<br>pm2_5=%{y}<extra></extra>",
         "legendgroup": "Rijnsweerd",
         "marker": {
          "color": "#FECB52"
         },
         "name": "Rijnsweerd",
         "offsetgroup": "Rijnsweerd",
         "orientation": "v",
         "showlegend": true,
         "textposition": "auto",
         "type": "bar",
         "x": [
          "2020-06-15T14:00:00",
          "2020-06-15T15:00:00",
          "2020-06-15T17:00:00",
          "2020-06-15T18:00:00",
          "2020-06-15T19:00:00",
          "2020-06-15T20:00:00",
          "2020-06-15T21:00:00",
          "2020-06-16T07:00:00",
          "2020-06-16T08:00:00",
          "2020-06-16T16:00:00",
          "2020-06-16T17:00:00",
          "2020-06-16T18:00:00",
          "2020-06-17T09:00:00",
          "2020-06-17T11:00:00",
          "2020-06-17T13:00:00",
          "2020-06-17T14:00:00",
          "2020-06-17T15:00:00",
          "2020-06-17T16:00:00",
          "2020-06-17T17:00:00",
          "2020-06-17T19:00:00",
          "2020-06-17T20:00:00",
          "2020-06-17T21:00:00",
          "2020-06-18T07:00:00",
          "2020-06-18T08:00:00",
          "2020-06-18T16:00:00",
          "2020-06-18T17:00:00",
          "2020-06-18T19:00:00",
          "2020-06-18T22:00:00",
          "2020-06-19T07:00:00",
          "2020-06-19T08:00:00",
          "2020-06-19T10:00:00",
          "2020-06-19T11:00:00",
          "2020-06-19T12:00:00",
          "2020-06-19T15:00:00",
          "2020-06-19T19:00:00",
          "2020-06-20T10:00:00",
          "2020-06-20T11:00:00",
          "2020-06-20T14:00:00",
          "2020-06-21T12:00:00",
          "2020-06-21T13:00:00",
          "2020-06-21T14:00:00",
          "2020-06-21T15:00:00",
          "2020-06-21T19:00:00",
          "2020-06-21T20:00:00"
         ],
         "xaxis": "x",
         "y": [
          1,
          1,
          1,
          1,
          1,
          1,
          1,
          1,
          1,
          1,
          1,
          1,
          1,
          1,
          1,
          1,
          1,
          1,
          1,
          1,
          1,
          1,
          1,
          1,
          1,
          1,
          1,
          1,
          1,
          1,
          1,
          1,
          1,
          1,
          1,
          1,
          1,
          1,
          1,
          1,
          1,
          1,
          1,
          1
         ],
         "yaxis": "y"
        },
        {
         "alignmentgroup": "True",
         "hovertemplate": "BU_NAAM=Rijnvliet<br>datetime=%{x}<br>pm2_5=%{y}<extra></extra>",
         "legendgroup": "Rijnvliet",
         "marker": {
          "color": "#636efa"
         },
         "name": "Rijnvliet",
         "offsetgroup": "Rijnvliet",
         "orientation": "v",
         "showlegend": true,
         "textposition": "auto",
         "type": "bar",
         "x": [
          "2020-06-15T17:00:00",
          "2020-06-15T22:00:00",
          "2020-06-17T12:00:00",
          "2020-06-17T21:00:00",
          "2020-06-18T07:00:00",
          "2020-06-18T08:00:00",
          "2020-06-18T13:00:00",
          "2020-06-18T14:00:00",
          "2020-06-18T17:00:00",
          "2020-06-20T08:00:00"
         ],
         "xaxis": "x",
         "y": [
          1,
          1,
          1,
          1,
          1,
          1,
          1,
          1,
          1,
          1
         ],
         "yaxis": "y"
        },
        {
         "alignmentgroup": "True",
         "hovertemplate": "BU_NAAM=Rivierenwijk<br>datetime=%{x}<br>pm2_5=%{y}<extra></extra>",
         "legendgroup": "Rivierenwijk",
         "marker": {
          "color": "#EF553B"
         },
         "name": "Rivierenwijk",
         "offsetgroup": "Rivierenwijk",
         "orientation": "v",
         "showlegend": true,
         "textposition": "auto",
         "type": "bar",
         "x": [
          "2020-06-15T16:00:00",
          "2020-06-16T07:00:00",
          "2020-06-16T08:00:00",
          "2020-06-16T09:00:00",
          "2020-06-16T10:00:00",
          "2020-06-16T15:00:00",
          "2020-06-16T16:00:00",
          "2020-06-17T07:00:00",
          "2020-06-17T08:00:00",
          "2020-06-17T10:00:00",
          "2020-06-17T13:00:00",
          "2020-06-17T16:00:00",
          "2020-06-17T17:00:00",
          "2020-06-17T19:00:00",
          "2020-06-17T20:00:00",
          "2020-06-17T22:00:00",
          "2020-06-18T07:00:00",
          "2020-06-18T09:00:00",
          "2020-06-18T16:00:00",
          "2020-06-18T18:00:00",
          "2020-06-19T07:00:00",
          "2020-06-19T10:00:00",
          "2020-06-19T15:00:00",
          "2020-06-19T16:00:00",
          "2020-06-19T18:00:00",
          "2020-06-19T21:00:00",
          "2020-06-20T15:00:00",
          "2020-06-20T17:00:00",
          "2020-06-20T18:00:00",
          "2020-06-21T09:00:00",
          "2020-06-21T17:00:00"
         ],
         "xaxis": "x",
         "y": [
          1,
          1,
          1,
          1,
          1,
          1,
          1,
          1,
          1,
          1,
          1,
          1,
          1,
          1,
          1,
          1,
          1,
          1,
          1,
          1,
          1,
          1,
          1,
          1,
          1,
          1,
          1,
          1,
          1,
          1,
          1
         ],
         "yaxis": "y"
        },
        {
         "alignmentgroup": "True",
         "hovertemplate": "BU_NAAM=Rubenslaan en omgeving<br>datetime=%{x}<br>pm2_5=%{y}<extra></extra>",
         "legendgroup": "Rubenslaan en omgeving",
         "marker": {
          "color": "#00cc96"
         },
         "name": "Rubenslaan en omgeving",
         "offsetgroup": "Rubenslaan en omgeving",
         "orientation": "v",
         "showlegend": true,
         "textposition": "auto",
         "type": "bar",
         "x": [
          "2020-06-16T07:00:00",
          "2020-06-16T08:00:00",
          "2020-06-17T08:00:00",
          "2020-06-17T10:00:00",
          "2020-06-17T14:00:00",
          "2020-06-17T17:00:00",
          "2020-06-18T08:00:00",
          "2020-06-18T15:00:00",
          "2020-06-19T08:00:00",
          "2020-06-19T09:00:00",
          "2020-06-19T10:00:00",
          "2020-06-19T14:00:00",
          "2020-06-19T15:00:00",
          "2020-06-19T16:00:00",
          "2020-06-19T17:00:00",
          "2020-06-19T21:00:00",
          "2020-06-19T22:00:00",
          "2020-06-20T10:00:00",
          "2020-06-20T11:00:00",
          "2020-06-20T13:00:00",
          "2020-06-20T19:00:00",
          "2020-06-20T20:00:00",
          "2020-06-21T16:00:00"
         ],
         "xaxis": "x",
         "y": [
          1,
          1,
          1,
          1,
          1,
          1,
          1,
          1,
          1,
          1,
          1,
          1,
          1,
          1,
          1,
          1,
          1,
          1,
          1,
          1,
          1,
          1,
          1
         ],
         "yaxis": "y"
        },
        {
         "alignmentgroup": "True",
         "hovertemplate": "BU_NAAM=Schaakbuurt en omgeving<br>datetime=%{x}<br>pm2_5=%{y}<extra></extra>",
         "legendgroup": "Schaakbuurt en omgeving",
         "marker": {
          "color": "#ab63fa"
         },
         "name": "Schaakbuurt en omgeving",
         "offsetgroup": "Schaakbuurt en omgeving",
         "orientation": "v",
         "showlegend": true,
         "textposition": "auto",
         "type": "bar",
         "x": [
          "2020-06-15T15:00:00",
          "2020-06-15T16:00:00",
          "2020-06-17T15:00:00",
          "2020-06-17T16:00:00",
          "2020-06-18T20:00:00",
          "2020-06-20T20:00:00",
          "2020-06-21T12:00:00"
         ],
         "xaxis": "x",
         "y": [
          1,
          1,
          1,
          1,
          1,
          1,
          1
         ],
         "yaxis": "y"
        },
        {
         "alignmentgroup": "True",
         "hovertemplate": "BU_NAAM=Schepenbuurt, Cartesiusweg e.o.<br>datetime=%{x}<br>pm2_5=%{y}<extra></extra>",
         "legendgroup": "Schepenbuurt, Cartesiusweg e.o.",
         "marker": {
          "color": "#FFA15A"
         },
         "name": "Schepenbuurt, Cartesiusweg e.o.",
         "offsetgroup": "Schepenbuurt, Cartesiusweg e.o.",
         "orientation": "v",
         "showlegend": true,
         "textposition": "auto",
         "type": "bar",
         "x": [
          "2020-06-15T13:00:00",
          "2020-06-15T17:00:00",
          "2020-06-15T18:00:00",
          "2020-06-16T09:00:00",
          "2020-06-16T18:00:00",
          "2020-06-17T10:00:00",
          "2020-06-17T11:00:00",
          "2020-06-17T17:00:00",
          "2020-06-18T11:00:00",
          "2020-06-18T20:00:00",
          "2020-06-19T09:00:00",
          "2020-06-19T13:00:00",
          "2020-06-19T18:00:00",
          "2020-06-20T09:00:00",
          "2020-06-20T10:00:00",
          "2020-06-20T13:00:00",
          "2020-06-20T20:00:00",
          "2020-06-21T16:00:00",
          "2020-06-21T17:00:00",
          "2020-06-21T21:00:00"
         ],
         "xaxis": "x",
         "y": [
          1,
          1,
          1,
          1,
          1,
          1,
          1,
          1,
          1,
          1,
          1,
          1,
          1,
          1,
          1,
          1,
          1,
          1,
          1,
          1
         ],
         "yaxis": "y"
        },
        {
         "alignmentgroup": "True",
         "hovertemplate": "BU_NAAM=Schildersbuurt<br>datetime=%{x}<br>pm2_5=%{y}<extra></extra>",
         "legendgroup": "Schildersbuurt",
         "marker": {
          "color": "#19d3f3"
         },
         "name": "Schildersbuurt",
         "offsetgroup": "Schildersbuurt",
         "orientation": "v",
         "showlegend": true,
         "textposition": "auto",
         "type": "bar",
         "x": [
          "2020-06-15T14:00:00",
          "2020-06-15T17:00:00",
          "2020-06-15T21:00:00",
          "2020-06-16T07:00:00",
          "2020-06-16T16:00:00",
          "2020-06-17T08:00:00",
          "2020-06-17T09:00:00",
          "2020-06-17T14:00:00",
          "2020-06-17T17:00:00",
          "2020-06-17T19:00:00",
          "2020-06-18T07:00:00",
          "2020-06-18T08:00:00",
          "2020-06-18T15:00:00",
          "2020-06-18T16:00:00",
          "2020-06-18T19:00:00",
          "2020-06-19T09:00:00",
          "2020-06-19T10:00:00",
          "2020-06-19T11:00:00",
          "2020-06-19T12:00:00",
          "2020-06-19T15:00:00",
          "2020-06-19T19:00:00",
          "2020-06-20T10:00:00",
          "2020-06-20T11:00:00",
          "2020-06-20T13:00:00",
          "2020-06-20T14:00:00",
          "2020-06-20T15:00:00",
          "2020-06-20T19:00:00",
          "2020-06-21T12:00:00",
          "2020-06-21T14:00:00",
          "2020-06-21T15:00:00",
          "2020-06-21T20:00:00"
         ],
         "xaxis": "x",
         "y": [
          1,
          1,
          1,
          1,
          1,
          1,
          1,
          1,
          1,
          1,
          1,
          1,
          1,
          1,
          1,
          1,
          1,
          1,
          1,
          1,
          1,
          1,
          1,
          1,
          1,
          1,
          1,
          1,
          1,
          1,
          1
         ],
         "yaxis": "y"
        },
        {
         "alignmentgroup": "True",
         "hovertemplate": "BU_NAAM=Springweg en omgeving Geertebuurt<br>datetime=%{x}<br>pm2_5=%{y}<extra></extra>",
         "legendgroup": "Springweg en omgeving Geertebuurt",
         "marker": {
          "color": "#FF6692"
         },
         "name": "Springweg en omgeving Geertebuurt",
         "offsetgroup": "Springweg en omgeving Geertebuurt",
         "orientation": "v",
         "showlegend": true,
         "textposition": "auto",
         "type": "bar",
         "x": [
          "2020-06-15T14:00:00",
          "2020-06-16T15:00:00",
          "2020-06-17T08:00:00",
          "2020-06-18T07:00:00",
          "2020-06-18T08:00:00",
          "2020-06-18T15:00:00",
          "2020-06-18T18:00:00",
          "2020-06-18T19:00:00",
          "2020-06-18T20:00:00",
          "2020-06-20T10:00:00",
          "2020-06-20T16:00:00"
         ],
         "xaxis": "x",
         "y": [
          1,
          1,
          1,
          1,
          1,
          1,
          1,
          1,
          1,
          1,
          1
         ],
         "yaxis": "y"
        },
        {
         "alignmentgroup": "True",
         "hovertemplate": "BU_NAAM=Staatsliedenbuurt<br>datetime=%{x}<br>pm2_5=%{y}<extra></extra>",
         "legendgroup": "Staatsliedenbuurt",
         "marker": {
          "color": "#B6E880"
         },
         "name": "Staatsliedenbuurt",
         "offsetgroup": "Staatsliedenbuurt",
         "orientation": "v",
         "showlegend": true,
         "textposition": "auto",
         "type": "bar",
         "x": [
          "2020-06-15T14:00:00",
          "2020-06-15T15:00:00",
          "2020-06-15T16:00:00",
          "2020-06-16T07:00:00",
          "2020-06-16T14:00:00",
          "2020-06-16T15:00:00",
          "2020-06-17T15:00:00",
          "2020-06-17T16:00:00",
          "2020-06-19T19:00:00",
          "2020-06-21T15:00:00",
          "2020-06-21T16:00:00",
          "2020-06-21T17:00:00"
         ],
         "xaxis": "x",
         "y": [
          1,
          1,
          1,
          1,
          1,
          1,
          1,
          1,
          1,
          1,
          1,
          1
         ],
         "yaxis": "y"
        },
        {
         "alignmentgroup": "True",
         "hovertemplate": "BU_NAAM=Sterrenwijk<br>datetime=%{x}<br>pm2_5=%{y}<extra></extra>",
         "legendgroup": "Sterrenwijk",
         "marker": {
          "color": "#FF97FF"
         },
         "name": "Sterrenwijk",
         "offsetgroup": "Sterrenwijk",
         "orientation": "v",
         "showlegend": true,
         "textposition": "auto",
         "type": "bar",
         "x": [
          "2020-06-16T08:00:00",
          "2020-06-17T08:00:00",
          "2020-06-17T10:00:00",
          "2020-06-17T14:00:00",
          "2020-06-17T17:00:00",
          "2020-06-18T08:00:00",
          "2020-06-18T10:00:00",
          "2020-06-18T15:00:00",
          "2020-06-19T08:00:00",
          "2020-06-19T10:00:00",
          "2020-06-19T15:00:00",
          "2020-06-19T16:00:00",
          "2020-06-20T11:00:00",
          "2020-06-20T19:00:00",
          "2020-06-20T20:00:00"
         ],
         "xaxis": "x",
         "y": [
          1,
          1,
          1,
          1,
          1,
          1,
          1,
          1,
          1,
          1,
          1,
          1,
          1,
          1,
          1
         ],
         "yaxis": "y"
        },
        {
         "alignmentgroup": "True",
         "hovertemplate": "BU_NAAM=Taag- en Rubicondreef en omgeving<br>datetime=%{x}<br>pm2_5=%{y}<extra></extra>",
         "legendgroup": "Taag- en Rubicondreef en omgeving",
         "marker": {
          "color": "#FECB52"
         },
         "name": "Taag- en Rubicondreef en omgeving",
         "offsetgroup": "Taag- en Rubicondreef en omgeving",
         "orientation": "v",
         "showlegend": true,
         "textposition": "auto",
         "type": "bar",
         "x": [
          "2020-06-15T18:00:00",
          "2020-06-16T15:00:00",
          "2020-06-16T16:00:00",
          "2020-06-17T00:00:00",
          "2020-06-17T08:00:00",
          "2020-06-17T14:00:00",
          "2020-06-17T16:00:00",
          "2020-06-17T17:00:00",
          "2020-06-17T18:00:00",
          "2020-06-18T08:00:00",
          "2020-06-18T11:00:00",
          "2020-06-18T13:00:00",
          "2020-06-18T14:00:00",
          "2020-06-18T15:00:00",
          "2020-06-18T16:00:00",
          "2020-06-18T22:00:00",
          "2020-06-19T10:00:00",
          "2020-06-20T11:00:00",
          "2020-06-20T13:00:00"
         ],
         "xaxis": "x",
         "y": [
          1,
          1,
          1,
          1,
          1,
          1,
          1,
          1,
          1,
          1,
          1,
          1,
          1,
          1,
          1,
          1,
          1,
          1,
          1
         ],
         "yaxis": "y"
        },
        {
         "alignmentgroup": "True",
         "hovertemplate": "BU_NAAM=Terwijde-Oost<br>datetime=%{x}<br>pm2_5=%{y}<extra></extra>",
         "legendgroup": "Terwijde-Oost",
         "marker": {
          "color": "#636efa"
         },
         "name": "Terwijde-Oost",
         "offsetgroup": "Terwijde-Oost",
         "orientation": "v",
         "showlegend": true,
         "textposition": "auto",
         "type": "bar",
         "x": [
          "2020-06-15T21:00:00",
          "2020-06-18T11:00:00",
          "2020-06-18T21:00:00",
          "2020-06-19T11:00:00",
          "2020-06-19T13:00:00",
          "2020-06-20T11:00:00"
         ],
         "xaxis": "x",
         "y": [
          1,
          1,
          1,
          1,
          1,
          1
         ],
         "yaxis": "y"
        },
        {
         "alignmentgroup": "True",
         "hovertemplate": "BU_NAAM=Terwijde-West<br>datetime=%{x}<br>pm2_5=%{y}<extra></extra>",
         "legendgroup": "Terwijde-West",
         "marker": {
          "color": "#EF553B"
         },
         "name": "Terwijde-West",
         "offsetgroup": "Terwijde-West",
         "orientation": "v",
         "showlegend": true,
         "textposition": "auto",
         "type": "bar",
         "x": [
          "2020-06-15T21:00:00",
          "2020-06-17T08:00:00",
          "2020-06-17T18:00:00",
          "2020-06-17T21:00:00",
          "2020-06-18T21:00:00",
          "2020-06-19T11:00:00",
          "2020-06-19T13:00:00",
          "2020-06-19T19:00:00",
          "2020-06-20T11:00:00"
         ],
         "xaxis": "x",
         "y": [
          1,
          1,
          1,
          1,
          1,
          1,
          1,
          1,
          1
         ],
         "yaxis": "y"
        },
        {
         "alignmentgroup": "True",
         "hovertemplate": "BU_NAAM=Tigrisdreef en omgeving<br>datetime=%{x}<br>pm2_5=%{y}<extra></extra>",
         "legendgroup": "Tigrisdreef en omgeving",
         "marker": {
          "color": "#00cc96"
         },
         "name": "Tigrisdreef en omgeving",
         "offsetgroup": "Tigrisdreef en omgeving",
         "orientation": "v",
         "showlegend": true,
         "textposition": "auto",
         "type": "bar",
         "x": [
          "2020-06-15T14:00:00",
          "2020-06-15T15:00:00",
          "2020-06-15T16:00:00",
          "2020-06-15T17:00:00",
          "2020-06-16T12:00:00",
          "2020-06-16T16:00:00",
          "2020-06-17T14:00:00",
          "2020-06-18T10:00:00",
          "2020-06-18T16:00:00",
          "2020-06-20T10:00:00",
          "2020-06-21T11:00:00"
         ],
         "xaxis": "x",
         "y": [
          1,
          1,
          1,
          1,
          1,
          1,
          1,
          1,
          1,
          1,
          1
         ],
         "yaxis": "y"
        },
        {
         "alignmentgroup": "True",
         "hovertemplate": "BU_NAAM=Tolsteeg en Rotsoord<br>datetime=%{x}<br>pm2_5=%{y}<extra></extra>",
         "legendgroup": "Tolsteeg en Rotsoord",
         "marker": {
          "color": "#ab63fa"
         },
         "name": "Tolsteeg en Rotsoord",
         "offsetgroup": "Tolsteeg en Rotsoord",
         "orientation": "v",
         "showlegend": true,
         "textposition": "auto",
         "type": "bar",
         "x": [
          "2020-06-15T14:00:00",
          "2020-06-16T07:00:00",
          "2020-06-16T08:00:00",
          "2020-06-16T09:00:00",
          "2020-06-16T10:00:00",
          "2020-06-16T15:00:00",
          "2020-06-16T16:00:00",
          "2020-06-17T07:00:00",
          "2020-06-17T08:00:00",
          "2020-06-17T13:00:00",
          "2020-06-17T14:00:00",
          "2020-06-17T17:00:00",
          "2020-06-17T19:00:00",
          "2020-06-17T20:00:00",
          "2020-06-18T07:00:00",
          "2020-06-18T08:00:00",
          "2020-06-18T09:00:00",
          "2020-06-18T10:00:00",
          "2020-06-18T15:00:00",
          "2020-06-18T16:00:00",
          "2020-06-18T17:00:00",
          "2020-06-18T18:00:00",
          "2020-06-18T19:00:00",
          "2020-06-18T20:00:00",
          "2020-06-19T07:00:00",
          "2020-06-19T08:00:00",
          "2020-06-19T10:00:00",
          "2020-06-19T11:00:00",
          "2020-06-19T14:00:00",
          "2020-06-19T16:00:00",
          "2020-06-20T11:00:00",
          "2020-06-20T17:00:00",
          "2020-06-20T18:00:00",
          "2020-06-21T09:00:00",
          "2020-06-21T15:00:00",
          "2020-06-21T16:00:00",
          "2020-06-21T17:00:00",
          "2020-06-21T18:00:00"
         ],
         "xaxis": "x",
         "y": [
          1,
          1,
          1,
          1,
          1,
          1,
          1,
          1,
          1,
          1,
          1,
          1,
          1,
          1,
          1,
          1,
          1,
          1,
          1,
          1,
          1,
          1,
          1,
          1,
          1,
          1,
          1,
          1,
          1,
          1,
          1,
          1,
          1,
          1,
          1,
          1,
          1,
          1
         ],
         "yaxis": "y"
        },
        {
         "alignmentgroup": "True",
         "hovertemplate": "BU_NAAM=Transwijk-Noord<br>datetime=%{x}<br>pm2_5=%{y}<extra></extra>",
         "legendgroup": "Transwijk-Noord",
         "marker": {
          "color": "#FFA15A"
         },
         "name": "Transwijk-Noord",
         "offsetgroup": "Transwijk-Noord",
         "orientation": "v",
         "showlegend": true,
         "textposition": "auto",
         "type": "bar",
         "x": [
          "2020-06-15T17:00:00",
          "2020-06-16T08:00:00",
          "2020-06-16T12:00:00",
          "2020-06-17T07:00:00",
          "2020-06-17T08:00:00",
          "2020-06-17T17:00:00",
          "2020-06-17T18:00:00",
          "2020-06-18T08:00:00",
          "2020-06-18T09:00:00",
          "2020-06-18T14:00:00",
          "2020-06-18T16:00:00",
          "2020-06-19T21:00:00",
          "2020-06-21T17:00:00"
         ],
         "xaxis": "x",
         "y": [
          1,
          1,
          1,
          1,
          1,
          1,
          1,
          1,
          1,
          1,
          1,
          1,
          1
         ],
         "yaxis": "y"
        },
        {
         "alignmentgroup": "True",
         "hovertemplate": "BU_NAAM=Transwijk-Zuid<br>datetime=%{x}<br>pm2_5=%{y}<extra></extra>",
         "legendgroup": "Transwijk-Zuid",
         "marker": {
          "color": "#19d3f3"
         },
         "name": "Transwijk-Zuid",
         "offsetgroup": "Transwijk-Zuid",
         "orientation": "v",
         "showlegend": true,
         "textposition": "auto",
         "type": "bar",
         "x": [
          "2020-06-15T17:00:00",
          "2020-06-15T23:00:00",
          "2020-06-16T00:00:00",
          "2020-06-16T08:00:00",
          "2020-06-16T12:00:00",
          "2020-06-17T07:00:00",
          "2020-06-17T08:00:00",
          "2020-06-17T17:00:00",
          "2020-06-17T18:00:00",
          "2020-06-18T09:00:00",
          "2020-06-20T15:00:00"
         ],
         "xaxis": "x",
         "y": [
          1,
          1,
          1,
          1,
          1,
          1,
          1,
          1,
          1,
          1,
          1
         ],
         "yaxis": "y"
        },
        {
         "alignmentgroup": "True",
         "hovertemplate": "BU_NAAM=Tuindorp en Van Lieflandlaan-West<br>datetime=%{x}<br>pm2_5=%{y}<extra></extra>",
         "legendgroup": "Tuindorp en Van Lieflandlaan-West",
         "marker": {
          "color": "#FF6692"
         },
         "name": "Tuindorp en Van Lieflandlaan-West",
         "offsetgroup": "Tuindorp en Van Lieflandlaan-West",
         "orientation": "v",
         "showlegend": true,
         "textposition": "auto",
         "type": "bar",
         "x": [
          "2020-06-15T18:00:00",
          "2020-06-15T19:00:00",
          "2020-06-16T15:00:00",
          "2020-06-16T16:00:00",
          "2020-06-16T17:00:00",
          "2020-06-17T10:00:00",
          "2020-06-17T17:00:00",
          "2020-06-17T18:00:00",
          "2020-06-18T11:00:00",
          "2020-06-18T22:00:00",
          "2020-06-19T19:00:00",
          "2020-06-20T08:00:00",
          "2020-06-20T14:00:00",
          "2020-06-21T00:00:00"
         ],
         "xaxis": "x",
         "y": [
          1,
          1,
          1,
          1,
          1,
          1,
          1,
          1,
          1,
          1,
          1,
          1,
          1,
          1
         ],
         "yaxis": "y"
        },
        {
         "alignmentgroup": "True",
         "hovertemplate": "BU_NAAM=Tuindorp-Oost<br>datetime=%{x}<br>pm2_5=%{y}<extra></extra>",
         "legendgroup": "Tuindorp-Oost",
         "marker": {
          "color": "#B6E880"
         },
         "name": "Tuindorp-Oost",
         "offsetgroup": "Tuindorp-Oost",
         "orientation": "v",
         "showlegend": true,
         "textposition": "auto",
         "type": "bar",
         "x": [
          "2020-06-15T18:00:00",
          "2020-06-15T19:00:00",
          "2020-06-15T20:00:00",
          "2020-06-16T12:00:00",
          "2020-06-16T16:00:00",
          "2020-06-16T17:00:00",
          "2020-06-17T09:00:00",
          "2020-06-17T10:00:00",
          "2020-06-17T11:00:00",
          "2020-06-17T17:00:00",
          "2020-06-17T18:00:00",
          "2020-06-17T19:00:00",
          "2020-06-18T11:00:00",
          "2020-06-18T19:00:00",
          "2020-06-18T20:00:00",
          "2020-06-18T22:00:00",
          "2020-06-19T14:00:00",
          "2020-06-19T15:00:00",
          "2020-06-19T19:00:00",
          "2020-06-20T08:00:00",
          "2020-06-20T10:00:00",
          "2020-06-20T13:00:00",
          "2020-06-20T14:00:00",
          "2020-06-20T20:00:00",
          "2020-06-21T00:00:00",
          "2020-06-21T10:00:00",
          "2020-06-21T15:00:00",
          "2020-06-21T17:00:00",
          "2020-06-21T18:00:00",
          "2020-06-21T19:00:00"
         ],
         "xaxis": "x",
         "y": [
          1,
          1,
          1,
          1,
          1,
          1,
          1,
          1,
          1,
          1,
          1,
          1,
          1,
          1,
          1,
          1,
          1,
          1,
          1,
          1,
          1,
          1,
          1,
          1,
          1,
          1,
          1,
          1,
          1,
          1
         ],
         "yaxis": "y"
        },
        {
         "alignmentgroup": "True",
         "hovertemplate": "BU_NAAM=Tuinwijk-Oost<br>datetime=%{x}<br>pm2_5=%{y}<extra></extra>",
         "legendgroup": "Tuinwijk-Oost",
         "marker": {
          "color": "#FF97FF"
         },
         "name": "Tuinwijk-Oost",
         "offsetgroup": "Tuinwijk-Oost",
         "orientation": "v",
         "showlegend": true,
         "textposition": "auto",
         "type": "bar",
         "x": [
          "2020-06-15T14:00:00",
          "2020-06-15T15:00:00",
          "2020-06-15T16:00:00",
          "2020-06-15T18:00:00",
          "2020-06-15T19:00:00",
          "2020-06-15T20:00:00",
          "2020-06-16T07:00:00",
          "2020-06-16T13:00:00",
          "2020-06-16T14:00:00",
          "2020-06-16T16:00:00",
          "2020-06-16T17:00:00",
          "2020-06-17T07:00:00",
          "2020-06-17T08:00:00",
          "2020-06-17T09:00:00",
          "2020-06-17T10:00:00",
          "2020-06-17T12:00:00",
          "2020-06-17T15:00:00",
          "2020-06-17T16:00:00",
          "2020-06-17T17:00:00",
          "2020-06-17T18:00:00",
          "2020-06-17T19:00:00",
          "2020-06-17T20:00:00",
          "2020-06-18T10:00:00",
          "2020-06-18T14:00:00",
          "2020-06-18T16:00:00",
          "2020-06-18T17:00:00",
          "2020-06-18T19:00:00",
          "2020-06-19T11:00:00",
          "2020-06-19T14:00:00",
          "2020-06-19T15:00:00",
          "2020-06-19T16:00:00",
          "2020-06-19T18:00:00",
          "2020-06-19T19:00:00",
          "2020-06-19T22:00:00",
          "2020-06-20T08:00:00",
          "2020-06-20T09:00:00",
          "2020-06-20T10:00:00",
          "2020-06-20T13:00:00",
          "2020-06-20T16:00:00",
          "2020-06-20T21:00:00",
          "2020-06-21T10:00:00",
          "2020-06-21T13:00:00",
          "2020-06-21T14:00:00",
          "2020-06-21T15:00:00",
          "2020-06-21T16:00:00",
          "2020-06-21T17:00:00",
          "2020-06-21T18:00:00",
          "2020-06-21T20:00:00"
         ],
         "xaxis": "x",
         "y": [
          1,
          1,
          1,
          1,
          1,
          1,
          1,
          1,
          1,
          1,
          1,
          1,
          1,
          1,
          1,
          1,
          1,
          1,
          1,
          1,
          1,
          1,
          1,
          1,
          1,
          1,
          1,
          1,
          1,
          1,
          1,
          1,
          1,
          1,
          1,
          1,
          1,
          1,
          1,
          1,
          1,
          1,
          1,
          1,
          1,
          1,
          1,
          1
         ],
         "yaxis": "y"
        },
        {
         "alignmentgroup": "True",
         "hovertemplate": "BU_NAAM=Tuinwijk-West<br>datetime=%{x}<br>pm2_5=%{y}<extra></extra>",
         "legendgroup": "Tuinwijk-West",
         "marker": {
          "color": "#FECB52"
         },
         "name": "Tuinwijk-West",
         "offsetgroup": "Tuinwijk-West",
         "orientation": "v",
         "showlegend": true,
         "textposition": "auto",
         "type": "bar",
         "x": [
          "2020-06-15T15:00:00",
          "2020-06-15T16:00:00",
          "2020-06-16T07:00:00",
          "2020-06-16T14:00:00",
          "2020-06-17T10:00:00",
          "2020-06-17T15:00:00",
          "2020-06-17T16:00:00",
          "2020-06-19T19:00:00",
          "2020-06-21T15:00:00"
         ],
         "xaxis": "x",
         "y": [
          1,
          1,
          1,
          1,
          1,
          1,
          1,
          1,
          1
         ],
         "yaxis": "y"
        },
        {
         "alignmentgroup": "True",
         "hovertemplate": "BU_NAAM=Utrecht Science Park<br>datetime=%{x}<br>pm2_5=%{y}<extra></extra>",
         "legendgroup": "Utrecht Science Park",
         "marker": {
          "color": "#636efa"
         },
         "name": "Utrecht Science Park",
         "offsetgroup": "Utrecht Science Park",
         "orientation": "v",
         "showlegend": true,
         "textposition": "auto",
         "type": "bar",
         "x": [
          "2020-06-15T12:00:00",
          "2020-06-15T15:00:00",
          "2020-06-15T16:00:00",
          "2020-06-15T17:00:00",
          "2020-06-15T18:00:00",
          "2020-06-15T21:00:00",
          "2020-06-16T07:00:00",
          "2020-06-16T08:00:00",
          "2020-06-16T17:00:00",
          "2020-06-16T18:00:00",
          "2020-06-17T09:00:00",
          "2020-06-17T11:00:00",
          "2020-06-17T13:00:00",
          "2020-06-17T15:00:00",
          "2020-06-17T16:00:00",
          "2020-06-17T17:00:00",
          "2020-06-17T19:00:00",
          "2020-06-17T20:00:00",
          "2020-06-18T07:00:00",
          "2020-06-18T08:00:00",
          "2020-06-18T16:00:00",
          "2020-06-18T17:00:00",
          "2020-06-18T19:00:00",
          "2020-06-18T20:00:00",
          "2020-06-18T22:00:00",
          "2020-06-19T07:00:00",
          "2020-06-19T10:00:00",
          "2020-06-19T11:00:00",
          "2020-06-19T13:00:00",
          "2020-06-19T15:00:00",
          "2020-06-19T19:00:00",
          "2020-06-19T20:00:00",
          "2020-06-20T12:00:00",
          "2020-06-20T14:00:00",
          "2020-06-20T15:00:00",
          "2020-06-21T13:00:00",
          "2020-06-21T14:00:00",
          "2020-06-21T16:00:00",
          "2020-06-21T19:00:00",
          "2020-06-21T20:00:00"
         ],
         "xaxis": "x",
         "y": [
          1,
          1,
          1,
          1,
          1,
          1,
          1,
          1,
          1,
          1,
          1,
          1,
          1,
          1,
          1,
          1,
          1,
          1,
          1,
          1,
          1,
          1,
          1,
          1,
          1,
          1,
          1,
          1,
          1,
          1,
          1,
          1,
          1,
          1,
          1,
          1,
          1,
          1,
          1,
          1
         ],
         "yaxis": "y"
        },
        {
         "alignmentgroup": "True",
         "hovertemplate": "BU_NAAM=Vechtzoom-noord, Klopvaart<br>datetime=%{x}<br>pm2_5=%{y}<extra></extra>",
         "legendgroup": "Vechtzoom-noord, Klopvaart",
         "marker": {
          "color": "#EF553B"
         },
         "name": "Vechtzoom-noord, Klopvaart",
         "offsetgroup": "Vechtzoom-noord, Klopvaart",
         "orientation": "v",
         "showlegend": true,
         "textposition": "auto",
         "type": "bar",
         "x": [
          "2020-06-15T17:00:00",
          "2020-06-16T16:00:00",
          "2020-06-16T17:00:00",
          "2020-06-17T14:00:00",
          "2020-06-18T16:00:00",
          "2020-06-18T20:00:00",
          "2020-06-20T09:00:00",
          "2020-06-20T10:00:00",
          "2020-06-21T11:00:00"
         ],
         "xaxis": "x",
         "y": [
          1,
          1,
          1,
          1,
          1,
          1,
          1,
          1,
          1
         ],
         "yaxis": "y"
        },
        {
         "alignmentgroup": "True",
         "hovertemplate": "BU_NAAM=Vechtzoom-zuid<br>datetime=%{x}<br>pm2_5=%{y}<extra></extra>",
         "legendgroup": "Vechtzoom-zuid",
         "marker": {
          "color": "#00cc96"
         },
         "name": "Vechtzoom-zuid",
         "offsetgroup": "Vechtzoom-zuid",
         "orientation": "v",
         "showlegend": true,
         "textposition": "auto",
         "type": "bar",
         "x": [
          "2020-06-15T14:00:00",
          "2020-06-16T12:00:00",
          "2020-06-16T14:00:00",
          "2020-06-16T16:00:00",
          "2020-06-16T17:00:00",
          "2020-06-18T10:00:00",
          "2020-06-18T13:00:00",
          "2020-06-19T14:00:00",
          "2020-06-20T10:00:00",
          "2020-06-20T13:00:00"
         ],
         "xaxis": "x",
         "y": [
          1,
          1,
          1,
          1,
          1,
          1,
          1,
          1,
          1,
          1
         ],
         "yaxis": "y"
        },
        {
         "alignmentgroup": "True",
         "hovertemplate": "BU_NAAM=Veldhuizen<br>datetime=%{x}<br>pm2_5=%{y}<extra></extra>",
         "legendgroup": "Veldhuizen",
         "marker": {
          "color": "#ab63fa"
         },
         "name": "Veldhuizen",
         "offsetgroup": "Veldhuizen",
         "orientation": "v",
         "showlegend": true,
         "textposition": "auto",
         "type": "bar",
         "x": [
          "2020-06-18T18:00:00",
          "2020-06-20T10:00:00",
          "2020-06-20T11:00:00",
          "2020-06-21T19:00:00"
         ],
         "xaxis": "x",
         "y": [
          1,
          1,
          1,
          1
         ],
         "yaxis": "y"
        },
        {
         "alignmentgroup": "True",
         "hovertemplate": "BU_NAAM=Vleuten<br>datetime=%{x}<br>pm2_5=%{y}<extra></extra>",
         "legendgroup": "Vleuten",
         "marker": {
          "color": "#FFA15A"
         },
         "name": "Vleuten",
         "offsetgroup": "Vleuten",
         "orientation": "v",
         "showlegend": true,
         "textposition": "auto",
         "type": "bar",
         "x": [
          "2020-06-15T20:00:00",
          "2020-06-15T21:00:00",
          "2020-06-19T10:00:00",
          "2020-06-19T11:00:00",
          "2020-06-20T11:00:00",
          "2020-06-21T13:00:00",
          "2020-06-21T17:00:00",
          "2020-06-21T18:00:00",
          "2020-06-21T19:00:00",
          "2020-06-21T20:00:00"
         ],
         "xaxis": "x",
         "y": [
          1,
          1,
          1,
          1,
          1,
          1,
          1,
          1,
          1,
          1
         ],
         "yaxis": "y"
        },
        {
         "alignmentgroup": "True",
         "hovertemplate": "BU_NAAM=Vleuterweide-Noord/Oost/Centrum<br>datetime=%{x}<br>pm2_5=%{y}<extra></extra>",
         "legendgroup": "Vleuterweide-Noord/Oost/Centrum",
         "marker": {
          "color": "#19d3f3"
         },
         "name": "Vleuterweide-Noord/Oost/Centrum",
         "offsetgroup": "Vleuterweide-Noord/Oost/Centrum",
         "orientation": "v",
         "showlegend": true,
         "textposition": "auto",
         "type": "bar",
         "x": [
          "2020-06-15T20:00:00",
          "2020-06-16T16:00:00",
          "2020-06-16T17:00:00",
          "2020-06-17T08:00:00",
          "2020-06-17T12:00:00",
          "2020-06-18T16:00:00",
          "2020-06-18T23:00:00",
          "2020-06-19T10:00:00",
          "2020-06-19T11:00:00",
          "2020-06-19T12:00:00",
          "2020-06-20T10:00:00",
          "2020-06-20T14:00:00",
          "2020-06-21T12:00:00",
          "2020-06-21T18:00:00",
          "2020-06-21T19:00:00",
          "2020-06-21T20:00:00",
          "2020-06-21T21:00:00"
         ],
         "xaxis": "x",
         "y": [
          1,
          1,
          1,
          1,
          1,
          1,
          1,
          1,
          1,
          1,
          1,
          1,
          1,
          1,
          1,
          1,
          1
         ],
         "yaxis": "y"
        },
        {
         "alignmentgroup": "True",
         "hovertemplate": "BU_NAAM=Vleuterweide-West<br>datetime=%{x}<br>pm2_5=%{y}<extra></extra>",
         "legendgroup": "Vleuterweide-West",
         "marker": {
          "color": "#FF6692"
         },
         "name": "Vleuterweide-West",
         "offsetgroup": "Vleuterweide-West",
         "orientation": "v",
         "showlegend": true,
         "textposition": "auto",
         "type": "bar",
         "x": [
          "2020-06-15T20:00:00",
          "2020-06-16T16:00:00",
          "2020-06-16T17:00:00",
          "2020-06-16T19:00:00",
          "2020-06-17T12:00:00",
          "2020-06-18T16:00:00",
          "2020-06-18T23:00:00",
          "2020-06-19T10:00:00",
          "2020-06-20T14:00:00",
          "2020-06-21T18:00:00",
          "2020-06-21T20:00:00",
          "2020-06-21T21:00:00"
         ],
         "xaxis": "x",
         "y": [
          1,
          1,
          1,
          1,
          1,
          1,
          1,
          1,
          1,
          1,
          1,
          1
         ],
         "yaxis": "y"
        },
        {
         "alignmentgroup": "True",
         "hovertemplate": "BU_NAAM=Vleuterweide-Zuid<br>datetime=%{x}<br>pm2_5=%{y}<extra></extra>",
         "legendgroup": "Vleuterweide-Zuid",
         "marker": {
          "color": "#B6E880"
         },
         "name": "Vleuterweide-Zuid",
         "offsetgroup": "Vleuterweide-Zuid",
         "orientation": "v",
         "showlegend": true,
         "textposition": "auto",
         "type": "bar",
         "x": [
          "2020-06-15T20:00:00",
          "2020-06-17T12:00:00",
          "2020-06-17T21:00:00",
          "2020-06-18T08:00:00",
          "2020-06-18T17:00:00",
          "2020-06-19T11:00:00",
          "2020-06-20T09:00:00",
          "2020-06-20T14:00:00",
          "2020-06-21T12:00:00"
         ],
         "xaxis": "x",
         "y": [
          1,
          1,
          1,
          1,
          1,
          1,
          1,
          1,
          1
         ],
         "yaxis": "y"
        },
        {
         "alignmentgroup": "True",
         "hovertemplate": "BU_NAAM=Vogelenbuurt<br>datetime=%{x}<br>pm2_5=%{y}<extra></extra>",
         "legendgroup": "Vogelenbuurt",
         "marker": {
          "color": "#FF97FF"
         },
         "name": "Vogelenbuurt",
         "offsetgroup": "Vogelenbuurt",
         "orientation": "v",
         "showlegend": true,
         "textposition": "auto",
         "type": "bar",
         "x": [
          "2020-06-15T14:00:00",
          "2020-06-15T16:00:00",
          "2020-06-15T19:00:00",
          "2020-06-15T20:00:00",
          "2020-06-16T07:00:00",
          "2020-06-16T12:00:00",
          "2020-06-16T13:00:00",
          "2020-06-16T14:00:00",
          "2020-06-17T07:00:00",
          "2020-06-17T08:00:00",
          "2020-06-17T09:00:00",
          "2020-06-17T10:00:00",
          "2020-06-17T16:00:00",
          "2020-06-17T18:00:00",
          "2020-06-17T19:00:00",
          "2020-06-17T20:00:00",
          "2020-06-18T10:00:00",
          "2020-06-18T14:00:00",
          "2020-06-18T16:00:00",
          "2020-06-18T17:00:00",
          "2020-06-19T11:00:00",
          "2020-06-19T15:00:00",
          "2020-06-19T19:00:00",
          "2020-06-20T10:00:00",
          "2020-06-20T13:00:00",
          "2020-06-20T16:00:00",
          "2020-06-20T21:00:00",
          "2020-06-21T10:00:00",
          "2020-06-21T15:00:00",
          "2020-06-21T16:00:00",
          "2020-06-21T17:00:00"
         ],
         "xaxis": "x",
         "y": [
          1,
          1,
          1,
          1,
          1,
          1,
          1,
          1,
          1,
          1,
          1,
          1,
          1,
          1,
          1,
          1,
          1,
          1,
          1,
          1,
          1,
          1,
          1,
          1,
          1,
          1,
          1,
          1,
          1,
          1,
          1
         ],
         "yaxis": "y"
        },
        {
         "alignmentgroup": "True",
         "hovertemplate": "BU_NAAM=Voordorp en Voorveldsepolder<br>datetime=%{x}<br>pm2_5=%{y}<extra></extra>",
         "legendgroup": "Voordorp en Voorveldsepolder",
         "marker": {
          "color": "#FECB52"
         },
         "name": "Voordorp en Voorveldsepolder",
         "offsetgroup": "Voordorp en Voorveldsepolder",
         "orientation": "v",
         "showlegend": true,
         "textposition": "auto",
         "type": "bar",
         "x": [
          "2020-06-15T16:00:00",
          "2020-06-15T18:00:00",
          "2020-06-15T19:00:00",
          "2020-06-15T20:00:00",
          "2020-06-15T22:00:00",
          "2020-06-16T09:00:00",
          "2020-06-16T11:00:00",
          "2020-06-16T12:00:00",
          "2020-06-16T16:00:00",
          "2020-06-16T17:00:00",
          "2020-06-17T07:00:00",
          "2020-06-17T08:00:00",
          "2020-06-17T09:00:00",
          "2020-06-17T11:00:00",
          "2020-06-17T12:00:00",
          "2020-06-17T14:00:00",
          "2020-06-17T15:00:00",
          "2020-06-17T16:00:00",
          "2020-06-17T17:00:00",
          "2020-06-17T18:00:00",
          "2020-06-17T19:00:00",
          "2020-06-17T21:00:00",
          "2020-06-18T08:00:00",
          "2020-06-18T11:00:00",
          "2020-06-18T14:00:00",
          "2020-06-18T16:00:00",
          "2020-06-18T17:00:00",
          "2020-06-18T18:00:00",
          "2020-06-18T19:00:00",
          "2020-06-18T20:00:00",
          "2020-06-19T10:00:00",
          "2020-06-19T11:00:00",
          "2020-06-19T15:00:00",
          "2020-06-19T16:00:00",
          "2020-06-19T19:00:00",
          "2020-06-19T21:00:00",
          "2020-06-20T13:00:00",
          "2020-06-20T15:00:00",
          "2020-06-20T17:00:00",
          "2020-06-20T19:00:00",
          "2020-06-20T20:00:00",
          "2020-06-20T21:00:00",
          "2020-06-21T00:00:00",
          "2020-06-21T10:00:00",
          "2020-06-21T14:00:00",
          "2020-06-21T15:00:00",
          "2020-06-21T17:00:00",
          "2020-06-21T18:00:00",
          "2020-06-21T19:00:00"
         ],
         "xaxis": "x",
         "y": [
          1,
          1,
          1,
          1,
          1,
          1,
          1,
          1,
          1,
          1,
          1,
          1,
          1,
          1,
          1,
          1,
          1,
          1,
          1,
          1,
          1,
          1,
          1,
          1,
          1,
          1,
          1,
          1,
          1,
          1,
          1,
          1,
          1,
          1,
          1,
          1,
          1,
          1,
          1,
          1,
          1,
          1,
          1,
          1,
          1,
          1,
          1,
          1,
          1
         ],
         "yaxis": "y"
        },
        {
         "alignmentgroup": "True",
         "hovertemplate": "BU_NAAM=Watervogelbuurt<br>datetime=%{x}<br>pm2_5=%{y}<extra></extra>",
         "legendgroup": "Watervogelbuurt",
         "marker": {
          "color": "#636efa"
         },
         "name": "Watervogelbuurt",
         "offsetgroup": "Watervogelbuurt",
         "orientation": "v",
         "showlegend": true,
         "textposition": "auto",
         "type": "bar",
         "x": [
          "2020-06-15T14:00:00",
          "2020-06-16T07:00:00",
          "2020-06-16T08:00:00",
          "2020-06-16T15:00:00",
          "2020-06-17T07:00:00",
          "2020-06-17T08:00:00",
          "2020-06-17T10:00:00",
          "2020-06-17T12:00:00",
          "2020-06-17T14:00:00",
          "2020-06-17T17:00:00",
          "2020-06-17T20:00:00",
          "2020-06-18T07:00:00",
          "2020-06-18T08:00:00",
          "2020-06-18T10:00:00",
          "2020-06-18T15:00:00",
          "2020-06-18T17:00:00",
          "2020-06-18T18:00:00",
          "2020-06-18T19:00:00",
          "2020-06-18T20:00:00",
          "2020-06-19T07:00:00",
          "2020-06-19T08:00:00",
          "2020-06-19T10:00:00",
          "2020-06-19T11:00:00",
          "2020-06-19T14:00:00",
          "2020-06-19T15:00:00",
          "2020-06-19T16:00:00",
          "2020-06-19T18:00:00",
          "2020-06-19T21:00:00",
          "2020-06-20T10:00:00",
          "2020-06-20T11:00:00",
          "2020-06-20T14:00:00",
          "2020-06-20T16:00:00",
          "2020-06-20T19:00:00",
          "2020-06-20T20:00:00",
          "2020-06-21T09:00:00",
          "2020-06-21T15:00:00",
          "2020-06-21T17:00:00",
          "2020-06-21T18:00:00"
         ],
         "xaxis": "x",
         "y": [
          1,
          1,
          1,
          1,
          1,
          1,
          1,
          1,
          1,
          1,
          1,
          1,
          1,
          1,
          1,
          1,
          1,
          1,
          1,
          1,
          1,
          1,
          1,
          1,
          1,
          1,
          1,
          1,
          1,
          1,
          1,
          1,
          1,
          1,
          1,
          1,
          1,
          1
         ],
         "yaxis": "y"
        },
        {
         "alignmentgroup": "True",
         "hovertemplate": "BU_NAAM=Welgelegen, Den Hommel<br>datetime=%{x}<br>pm2_5=%{y}<extra></extra>",
         "legendgroup": "Welgelegen, Den Hommel",
         "marker": {
          "color": "#EF553B"
         },
         "name": "Welgelegen, Den Hommel",
         "offsetgroup": "Welgelegen, Den Hommel",
         "orientation": "v",
         "showlegend": true,
         "textposition": "auto",
         "type": "bar",
         "x": [
          "2020-06-15T13:00:00",
          "2020-06-15T17:00:00",
          "2020-06-15T18:00:00",
          "2020-06-16T07:00:00",
          "2020-06-16T08:00:00",
          "2020-06-16T17:00:00",
          "2020-06-17T08:00:00",
          "2020-06-17T10:00:00",
          "2020-06-17T17:00:00",
          "2020-06-17T18:00:00",
          "2020-06-18T07:00:00",
          "2020-06-18T08:00:00",
          "2020-06-18T09:00:00",
          "2020-06-18T11:00:00",
          "2020-06-18T13:00:00",
          "2020-06-18T16:00:00",
          "2020-06-18T18:00:00",
          "2020-06-18T19:00:00",
          "2020-06-19T16:00:00",
          "2020-06-20T08:00:00",
          "2020-06-20T10:00:00",
          "2020-06-20T16:00:00",
          "2020-06-20T20:00:00",
          "2020-06-21T09:00:00",
          "2020-06-21T12:00:00",
          "2020-06-21T16:00:00",
          "2020-06-21T17:00:00",
          "2020-06-21T20:00:00"
         ],
         "xaxis": "x",
         "y": [
          1,
          1,
          1,
          1,
          1,
          1,
          1,
          1,
          1,
          1,
          1,
          1,
          1,
          1,
          1,
          1,
          1,
          1,
          1,
          1,
          1,
          1,
          1,
          1,
          1,
          1,
          1,
          1
         ],
         "yaxis": "y"
        },
        {
         "alignmentgroup": "True",
         "hovertemplate": "BU_NAAM=Wijk C<br>datetime=%{x}<br>pm2_5=%{y}<extra></extra>",
         "legendgroup": "Wijk C",
         "marker": {
          "color": "#00cc96"
         },
         "name": "Wijk C",
         "offsetgroup": "Wijk C",
         "orientation": "v",
         "showlegend": true,
         "textposition": "auto",
         "type": "bar",
         "x": [
          "2020-06-15T13:00:00",
          "2020-06-15T16:00:00",
          "2020-06-15T17:00:00",
          "2020-06-15T19:00:00",
          "2020-06-15T20:00:00",
          "2020-06-16T07:00:00",
          "2020-06-16T09:00:00",
          "2020-06-16T13:00:00",
          "2020-06-16T15:00:00",
          "2020-06-16T17:00:00",
          "2020-06-17T12:00:00",
          "2020-06-17T17:00:00",
          "2020-06-17T19:00:00",
          "2020-06-18T07:00:00",
          "2020-06-18T08:00:00",
          "2020-06-18T11:00:00",
          "2020-06-18T16:00:00",
          "2020-06-18T19:00:00",
          "2020-06-19T09:00:00",
          "2020-06-19T11:00:00",
          "2020-06-19T12:00:00",
          "2020-06-19T13:00:00",
          "2020-06-19T15:00:00",
          "2020-06-19T16:00:00",
          "2020-06-19T19:00:00",
          "2020-06-20T10:00:00",
          "2020-06-20T16:00:00",
          "2020-06-21T14:00:00",
          "2020-06-21T15:00:00",
          "2020-06-21T20:00:00"
         ],
         "xaxis": "x",
         "y": [
          1,
          1,
          1,
          1,
          1,
          1,
          1,
          1,
          1,
          1,
          1,
          1,
          1,
          1,
          1,
          1,
          1,
          1,
          1,
          1,
          1,
          1,
          1,
          1,
          1,
          1,
          1,
          1,
          1,
          1
         ],
         "yaxis": "y"
        },
        {
         "alignmentgroup": "True",
         "hovertemplate": "BU_NAAM=Wilhelminapark en omgeving<br>datetime=%{x}<br>pm2_5=%{y}<extra></extra>",
         "legendgroup": "Wilhelminapark en omgeving",
         "marker": {
          "color": "#ab63fa"
         },
         "name": "Wilhelminapark en omgeving",
         "offsetgroup": "Wilhelminapark en omgeving",
         "orientation": "v",
         "showlegend": true,
         "textposition": "auto",
         "type": "bar",
         "x": [
          "2020-06-15T14:00:00",
          "2020-06-15T15:00:00",
          "2020-06-15T16:00:00",
          "2020-06-15T17:00:00",
          "2020-06-15T21:00:00",
          "2020-06-16T07:00:00",
          "2020-06-16T16:00:00",
          "2020-06-16T18:00:00",
          "2020-06-16T20:00:00",
          "2020-06-17T08:00:00",
          "2020-06-17T09:00:00",
          "2020-06-17T14:00:00",
          "2020-06-17T19:00:00",
          "2020-06-17T21:00:00",
          "2020-06-18T07:00:00",
          "2020-06-18T08:00:00",
          "2020-06-18T16:00:00",
          "2020-06-18T17:00:00",
          "2020-06-18T19:00:00",
          "2020-06-19T09:00:00",
          "2020-06-19T10:00:00",
          "2020-06-19T11:00:00",
          "2020-06-19T12:00:00",
          "2020-06-19T15:00:00",
          "2020-06-19T18:00:00",
          "2020-06-19T19:00:00",
          "2020-06-19T21:00:00",
          "2020-06-20T10:00:00",
          "2020-06-20T11:00:00",
          "2020-06-20T13:00:00",
          "2020-06-20T15:00:00",
          "2020-06-20T19:00:00",
          "2020-06-21T12:00:00",
          "2020-06-21T14:00:00",
          "2020-06-21T15:00:00",
          "2020-06-21T20:00:00"
         ],
         "xaxis": "x",
         "y": [
          1,
          1,
          1,
          1,
          1,
          1,
          1,
          1,
          1,
          1,
          1,
          1,
          1,
          1,
          1,
          1,
          1,
          1,
          1,
          1,
          1,
          1,
          1,
          1,
          1,
          1,
          1,
          1,
          1,
          1,
          1,
          1,
          1,
          1,
          1,
          1
         ],
         "yaxis": "y"
        },
        {
         "alignmentgroup": "True",
         "hovertemplate": "BU_NAAM=Wittevrouwen<br>datetime=%{x}<br>pm2_5=%{y}<extra></extra>",
         "legendgroup": "Wittevrouwen",
         "marker": {
          "color": "#FFA15A"
         },
         "name": "Wittevrouwen",
         "offsetgroup": "Wittevrouwen",
         "orientation": "v",
         "showlegend": true,
         "textposition": "auto",
         "type": "bar",
         "x": [
          "2020-06-15T16:00:00",
          "2020-06-15T17:00:00",
          "2020-06-15T18:00:00",
          "2020-06-16T07:00:00",
          "2020-06-16T09:00:00",
          "2020-06-16T12:00:00",
          "2020-06-16T15:00:00",
          "2020-06-16T16:00:00",
          "2020-06-16T17:00:00",
          "2020-06-17T12:00:00",
          "2020-06-17T15:00:00",
          "2020-06-17T17:00:00",
          "2020-06-18T12:00:00",
          "2020-06-18T19:00:00",
          "2020-06-19T09:00:00",
          "2020-06-19T11:00:00",
          "2020-06-19T14:00:00",
          "2020-06-19T15:00:00",
          "2020-06-19T16:00:00",
          "2020-06-19T18:00:00",
          "2020-06-19T21:00:00",
          "2020-06-20T10:00:00",
          "2020-06-20T16:00:00",
          "2020-06-21T00:00:00",
          "2020-06-21T10:00:00",
          "2020-06-21T18:00:00"
         ],
         "xaxis": "x",
         "y": [
          1,
          1,
          1,
          1,
          1,
          1,
          1,
          1,
          1,
          1,
          1,
          1,
          1,
          1,
          1,
          1,
          1,
          1,
          1,
          1,
          1,
          1,
          1,
          1,
          1,
          1
         ],
         "yaxis": "y"
        },
        {
         "alignmentgroup": "True",
         "hovertemplate": "BU_NAAM=Wolga- en Donaudreef en omgeving<br>datetime=%{x}<br>pm2_5=%{y}<extra></extra>",
         "legendgroup": "Wolga- en Donaudreef en omgeving",
         "marker": {
          "color": "#19d3f3"
         },
         "name": "Wolga- en Donaudreef en omgeving",
         "offsetgroup": "Wolga- en Donaudreef en omgeving",
         "orientation": "v",
         "showlegend": true,
         "textposition": "auto",
         "type": "bar",
         "x": [
          "2020-06-17T00:00:00",
          "2020-06-17T08:00:00",
          "2020-06-17T09:00:00",
          "2020-06-17T11:00:00",
          "2020-06-17T16:00:00",
          "2020-06-17T17:00:00",
          "2020-06-17T18:00:00",
          "2020-06-17T19:00:00",
          "2020-06-17T21:00:00",
          "2020-06-18T08:00:00",
          "2020-06-18T16:00:00",
          "2020-06-19T09:00:00",
          "2020-06-19T10:00:00",
          "2020-06-20T08:00:00",
          "2020-06-20T10:00:00",
          "2020-06-20T13:00:00",
          "2020-06-21T09:00:00",
          "2020-06-21T10:00:00",
          "2020-06-21T11:00:00"
         ],
         "xaxis": "x",
         "y": [
          1,
          1,
          1,
          1,
          1,
          1,
          1,
          1,
          1,
          1,
          1,
          1,
          1,
          1,
          1,
          1,
          1,
          1,
          1
         ],
         "yaxis": "y"
        },
        {
         "alignmentgroup": "True",
         "hovertemplate": "BU_NAAM=Zambesidreef en omgeving<br>datetime=%{x}<br>pm2_5=%{y}<extra></extra>",
         "legendgroup": "Zambesidreef en omgeving",
         "marker": {
          "color": "#FF6692"
         },
         "name": "Zambesidreef en omgeving",
         "offsetgroup": "Zambesidreef en omgeving",
         "orientation": "v",
         "showlegend": true,
         "textposition": "auto",
         "type": "bar",
         "x": [
          "2020-06-15T14:00:00",
          "2020-06-15T15:00:00",
          "2020-06-15T16:00:00",
          "2020-06-16T16:00:00",
          "2020-06-17T14:00:00",
          "2020-06-18T10:00:00",
          "2020-06-18T13:00:00",
          "2020-06-18T16:00:00",
          "2020-06-20T13:00:00",
          "2020-06-21T11:00:00"
         ],
         "xaxis": "x",
         "y": [
          1,
          1,
          1,
          1,
          1,
          1,
          1,
          1,
          1,
          1
         ],
         "yaxis": "y"
        },
        {
         "alignmentgroup": "True",
         "hovertemplate": "BU_NAAM=Zamenhofdreef en omgeving<br>datetime=%{x}<br>pm2_5=%{y}<extra></extra>",
         "legendgroup": "Zamenhofdreef en omgeving",
         "marker": {
          "color": "#B6E880"
         },
         "name": "Zamenhofdreef en omgeving",
         "offsetgroup": "Zamenhofdreef en omgeving",
         "orientation": "v",
         "showlegend": true,
         "textposition": "auto",
         "type": "bar",
         "x": [
          "2020-06-15T13:00:00",
          "2020-06-15T14:00:00",
          "2020-06-15T15:00:00",
          "2020-06-16T13:00:00",
          "2020-06-16T14:00:00",
          "2020-06-16T15:00:00",
          "2020-06-16T16:00:00",
          "2020-06-17T08:00:00",
          "2020-06-17T14:00:00",
          "2020-06-17T15:00:00",
          "2020-06-17T18:00:00",
          "2020-06-18T08:00:00",
          "2020-06-18T10:00:00",
          "2020-06-18T11:00:00",
          "2020-06-18T13:00:00",
          "2020-06-18T15:00:00",
          "2020-06-18T16:00:00",
          "2020-06-19T14:00:00",
          "2020-06-19T19:00:00",
          "2020-06-20T10:00:00",
          "2020-06-20T11:00:00",
          "2020-06-20T13:00:00",
          "2020-06-20T20:00:00",
          "2020-06-21T12:00:00"
         ],
         "xaxis": "x",
         "y": [
          1,
          1,
          1,
          1,
          1,
          1,
          1,
          1,
          1,
          1,
          1,
          1,
          1,
          1,
          1,
          1,
          1,
          1,
          1,
          1,
          1,
          1,
          1,
          1
         ],
         "yaxis": "y"
        },
        {
         "alignmentgroup": "True",
         "hovertemplate": "BU_NAAM=Zeeheldenbuurt, Hengeveldstraat en omgeving<br>datetime=%{x}<br>pm2_5=%{y}<extra></extra>",
         "legendgroup": "Zeeheldenbuurt, Hengeveldstraat en omgeving",
         "marker": {
          "color": "#FF97FF"
         },
         "name": "Zeeheldenbuurt, Hengeveldstraat en omgeving",
         "offsetgroup": "Zeeheldenbuurt, Hengeveldstraat en omgeving",
         "orientation": "v",
         "showlegend": true,
         "textposition": "auto",
         "type": "bar",
         "x": [
          "2020-06-15T15:00:00",
          "2020-06-15T17:00:00",
          "2020-06-15T18:00:00",
          "2020-06-15T19:00:00",
          "2020-06-15T20:00:00",
          "2020-06-15T22:00:00",
          "2020-06-16T07:00:00",
          "2020-06-16T09:00:00",
          "2020-06-16T11:00:00",
          "2020-06-16T12:00:00",
          "2020-06-16T16:00:00",
          "2020-06-16T17:00:00",
          "2020-06-17T07:00:00",
          "2020-06-17T08:00:00",
          "2020-06-17T09:00:00",
          "2020-06-17T12:00:00",
          "2020-06-17T17:00:00",
          "2020-06-17T18:00:00",
          "2020-06-18T07:00:00",
          "2020-06-18T08:00:00",
          "2020-06-18T14:00:00",
          "2020-06-18T16:00:00",
          "2020-06-18T17:00:00",
          "2020-06-18T18:00:00",
          "2020-06-18T19:00:00",
          "2020-06-19T11:00:00",
          "2020-06-19T14:00:00",
          "2020-06-19T15:00:00",
          "2020-06-19T19:00:00",
          "2020-06-19T21:00:00",
          "2020-06-20T10:00:00",
          "2020-06-20T13:00:00",
          "2020-06-20T14:00:00",
          "2020-06-20T15:00:00",
          "2020-06-20T16:00:00",
          "2020-06-20T19:00:00",
          "2020-06-21T00:00:00",
          "2020-06-21T10:00:00",
          "2020-06-21T13:00:00",
          "2020-06-21T14:00:00",
          "2020-06-21T15:00:00",
          "2020-06-21T17:00:00",
          "2020-06-21T20:00:00"
         ],
         "xaxis": "x",
         "y": [
          1,
          1,
          1,
          1,
          1,
          1,
          1,
          1,
          1,
          1,
          1,
          1,
          1,
          1,
          1,
          1,
          1,
          1,
          1,
          1,
          1,
          1,
          1,
          1,
          1,
          1,
          1,
          1,
          1,
          1,
          1,
          1,
          1,
          1,
          1,
          1,
          1,
          1,
          1,
          1,
          1,
          1,
          1
         ],
         "yaxis": "y"
        },
        {
         "alignmentgroup": "True",
         "hovertemplate": "BU_NAAM=Zuilen-Noord<br>datetime=%{x}<br>pm2_5=%{y}<extra></extra>",
         "legendgroup": "Zuilen-Noord",
         "marker": {
          "color": "#FECB52"
         },
         "name": "Zuilen-Noord",
         "offsetgroup": "Zuilen-Noord",
         "orientation": "v",
         "showlegend": true,
         "textposition": "auto",
         "type": "bar",
         "x": [
          "2020-06-17T17:00:00",
          "2020-06-17T18:00:00",
          "2020-06-18T07:00:00",
          "2020-06-18T16:00:00",
          "2020-06-19T13:00:00",
          "2020-06-19T15:00:00",
          "2020-06-20T16:00:00",
          "2020-06-20T17:00:00",
          "2020-06-20T20:00:00",
          "2020-06-21T12:00:00",
          "2020-06-21T16:00:00"
         ],
         "xaxis": "x",
         "y": [
          1,
          1,
          1,
          1,
          1,
          1,
          1,
          1,
          1,
          1,
          1
         ],
         "yaxis": "y"
        }
       ],
       "layout": {
        "barmode": "relative",
        "legend": {
         "title": {
          "text": "BU_NAAM"
         },
         "tracegroupgap": 0
        },
        "template": {
         "data": {
          "bar": [
           {
            "error_x": {
             "color": "#2a3f5f"
            },
            "error_y": {
             "color": "#2a3f5f"
            },
            "marker": {
             "line": {
              "color": "#E5ECF6",
              "width": 0.5
             }
            },
            "type": "bar"
           }
          ],
          "barpolar": [
           {
            "marker": {
             "line": {
              "color": "#E5ECF6",
              "width": 0.5
             }
            },
            "type": "barpolar"
           }
          ],
          "carpet": [
           {
            "aaxis": {
             "endlinecolor": "#2a3f5f",
             "gridcolor": "white",
             "linecolor": "white",
             "minorgridcolor": "white",
             "startlinecolor": "#2a3f5f"
            },
            "baxis": {
             "endlinecolor": "#2a3f5f",
             "gridcolor": "white",
             "linecolor": "white",
             "minorgridcolor": "white",
             "startlinecolor": "#2a3f5f"
            },
            "type": "carpet"
           }
          ],
          "choropleth": [
           {
            "colorbar": {
             "outlinewidth": 0,
             "ticks": ""
            },
            "type": "choropleth"
           }
          ],
          "contour": [
           {
            "colorbar": {
             "outlinewidth": 0,
             "ticks": ""
            },
            "colorscale": [
             [
              0,
              "#0d0887"
             ],
             [
              0.1111111111111111,
              "#46039f"
             ],
             [
              0.2222222222222222,
              "#7201a8"
             ],
             [
              0.3333333333333333,
              "#9c179e"
             ],
             [
              0.4444444444444444,
              "#bd3786"
             ],
             [
              0.5555555555555556,
              "#d8576b"
             ],
             [
              0.6666666666666666,
              "#ed7953"
             ],
             [
              0.7777777777777778,
              "#fb9f3a"
             ],
             [
              0.8888888888888888,
              "#fdca26"
             ],
             [
              1,
              "#f0f921"
             ]
            ],
            "type": "contour"
           }
          ],
          "contourcarpet": [
           {
            "colorbar": {
             "outlinewidth": 0,
             "ticks": ""
            },
            "type": "contourcarpet"
           }
          ],
          "heatmap": [
           {
            "colorbar": {
             "outlinewidth": 0,
             "ticks": ""
            },
            "colorscale": [
             [
              0,
              "#0d0887"
             ],
             [
              0.1111111111111111,
              "#46039f"
             ],
             [
              0.2222222222222222,
              "#7201a8"
             ],
             [
              0.3333333333333333,
              "#9c179e"
             ],
             [
              0.4444444444444444,
              "#bd3786"
             ],
             [
              0.5555555555555556,
              "#d8576b"
             ],
             [
              0.6666666666666666,
              "#ed7953"
             ],
             [
              0.7777777777777778,
              "#fb9f3a"
             ],
             [
              0.8888888888888888,
              "#fdca26"
             ],
             [
              1,
              "#f0f921"
             ]
            ],
            "type": "heatmap"
           }
          ],
          "heatmapgl": [
           {
            "colorbar": {
             "outlinewidth": 0,
             "ticks": ""
            },
            "colorscale": [
             [
              0,
              "#0d0887"
             ],
             [
              0.1111111111111111,
              "#46039f"
             ],
             [
              0.2222222222222222,
              "#7201a8"
             ],
             [
              0.3333333333333333,
              "#9c179e"
             ],
             [
              0.4444444444444444,
              "#bd3786"
             ],
             [
              0.5555555555555556,
              "#d8576b"
             ],
             [
              0.6666666666666666,
              "#ed7953"
             ],
             [
              0.7777777777777778,
              "#fb9f3a"
             ],
             [
              0.8888888888888888,
              "#fdca26"
             ],
             [
              1,
              "#f0f921"
             ]
            ],
            "type": "heatmapgl"
           }
          ],
          "histogram": [
           {
            "marker": {
             "colorbar": {
              "outlinewidth": 0,
              "ticks": ""
             }
            },
            "type": "histogram"
           }
          ],
          "histogram2d": [
           {
            "colorbar": {
             "outlinewidth": 0,
             "ticks": ""
            },
            "colorscale": [
             [
              0,
              "#0d0887"
             ],
             [
              0.1111111111111111,
              "#46039f"
             ],
             [
              0.2222222222222222,
              "#7201a8"
             ],
             [
              0.3333333333333333,
              "#9c179e"
             ],
             [
              0.4444444444444444,
              "#bd3786"
             ],
             [
              0.5555555555555556,
              "#d8576b"
             ],
             [
              0.6666666666666666,
              "#ed7953"
             ],
             [
              0.7777777777777778,
              "#fb9f3a"
             ],
             [
              0.8888888888888888,
              "#fdca26"
             ],
             [
              1,
              "#f0f921"
             ]
            ],
            "type": "histogram2d"
           }
          ],
          "histogram2dcontour": [
           {
            "colorbar": {
             "outlinewidth": 0,
             "ticks": ""
            },
            "colorscale": [
             [
              0,
              "#0d0887"
             ],
             [
              0.1111111111111111,
              "#46039f"
             ],
             [
              0.2222222222222222,
              "#7201a8"
             ],
             [
              0.3333333333333333,
              "#9c179e"
             ],
             [
              0.4444444444444444,
              "#bd3786"
             ],
             [
              0.5555555555555556,
              "#d8576b"
             ],
             [
              0.6666666666666666,
              "#ed7953"
             ],
             [
              0.7777777777777778,
              "#fb9f3a"
             ],
             [
              0.8888888888888888,
              "#fdca26"
             ],
             [
              1,
              "#f0f921"
             ]
            ],
            "type": "histogram2dcontour"
           }
          ],
          "mesh3d": [
           {
            "colorbar": {
             "outlinewidth": 0,
             "ticks": ""
            },
            "type": "mesh3d"
           }
          ],
          "parcoords": [
           {
            "line": {
             "colorbar": {
              "outlinewidth": 0,
              "ticks": ""
             }
            },
            "type": "parcoords"
           }
          ],
          "pie": [
           {
            "automargin": true,
            "type": "pie"
           }
          ],
          "scatter": [
           {
            "marker": {
             "colorbar": {
              "outlinewidth": 0,
              "ticks": ""
             }
            },
            "type": "scatter"
           }
          ],
          "scatter3d": [
           {
            "line": {
             "colorbar": {
              "outlinewidth": 0,
              "ticks": ""
             }
            },
            "marker": {
             "colorbar": {
              "outlinewidth": 0,
              "ticks": ""
             }
            },
            "type": "scatter3d"
           }
          ],
          "scattercarpet": [
           {
            "marker": {
             "colorbar": {
              "outlinewidth": 0,
              "ticks": ""
             }
            },
            "type": "scattercarpet"
           }
          ],
          "scattergeo": [
           {
            "marker": {
             "colorbar": {
              "outlinewidth": 0,
              "ticks": ""
             }
            },
            "type": "scattergeo"
           }
          ],
          "scattergl": [
           {
            "marker": {
             "colorbar": {
              "outlinewidth": 0,
              "ticks": ""
             }
            },
            "type": "scattergl"
           }
          ],
          "scattermapbox": [
           {
            "marker": {
             "colorbar": {
              "outlinewidth": 0,
              "ticks": ""
             }
            },
            "type": "scattermapbox"
           }
          ],
          "scatterpolar": [
           {
            "marker": {
             "colorbar": {
              "outlinewidth": 0,
              "ticks": ""
             }
            },
            "type": "scatterpolar"
           }
          ],
          "scatterpolargl": [
           {
            "marker": {
             "colorbar": {
              "outlinewidth": 0,
              "ticks": ""
             }
            },
            "type": "scatterpolargl"
           }
          ],
          "scatterternary": [
           {
            "marker": {
             "colorbar": {
              "outlinewidth": 0,
              "ticks": ""
             }
            },
            "type": "scatterternary"
           }
          ],
          "surface": [
           {
            "colorbar": {
             "outlinewidth": 0,
             "ticks": ""
            },
            "colorscale": [
             [
              0,
              "#0d0887"
             ],
             [
              0.1111111111111111,
              "#46039f"
             ],
             [
              0.2222222222222222,
              "#7201a8"
             ],
             [
              0.3333333333333333,
              "#9c179e"
             ],
             [
              0.4444444444444444,
              "#bd3786"
             ],
             [
              0.5555555555555556,
              "#d8576b"
             ],
             [
              0.6666666666666666,
              "#ed7953"
             ],
             [
              0.7777777777777778,
              "#fb9f3a"
             ],
             [
              0.8888888888888888,
              "#fdca26"
             ],
             [
              1,
              "#f0f921"
             ]
            ],
            "type": "surface"
           }
          ],
          "table": [
           {
            "cells": {
             "fill": {
              "color": "#EBF0F8"
             },
             "line": {
              "color": "white"
             }
            },
            "header": {
             "fill": {
              "color": "#C8D4E3"
             },
             "line": {
              "color": "white"
             }
            },
            "type": "table"
           }
          ]
         },
         "layout": {
          "annotationdefaults": {
           "arrowcolor": "#2a3f5f",
           "arrowhead": 0,
           "arrowwidth": 1
          },
          "autotypenumbers": "strict",
          "coloraxis": {
           "colorbar": {
            "outlinewidth": 0,
            "ticks": ""
           }
          },
          "colorscale": {
           "diverging": [
            [
             0,
             "#8e0152"
            ],
            [
             0.1,
             "#c51b7d"
            ],
            [
             0.2,
             "#de77ae"
            ],
            [
             0.3,
             "#f1b6da"
            ],
            [
             0.4,
             "#fde0ef"
            ],
            [
             0.5,
             "#f7f7f7"
            ],
            [
             0.6,
             "#e6f5d0"
            ],
            [
             0.7,
             "#b8e186"
            ],
            [
             0.8,
             "#7fbc41"
            ],
            [
             0.9,
             "#4d9221"
            ],
            [
             1,
             "#276419"
            ]
           ],
           "sequential": [
            [
             0,
             "#0d0887"
            ],
            [
             0.1111111111111111,
             "#46039f"
            ],
            [
             0.2222222222222222,
             "#7201a8"
            ],
            [
             0.3333333333333333,
             "#9c179e"
            ],
            [
             0.4444444444444444,
             "#bd3786"
            ],
            [
             0.5555555555555556,
             "#d8576b"
            ],
            [
             0.6666666666666666,
             "#ed7953"
            ],
            [
             0.7777777777777778,
             "#fb9f3a"
            ],
            [
             0.8888888888888888,
             "#fdca26"
            ],
            [
             1,
             "#f0f921"
            ]
           ],
           "sequentialminus": [
            [
             0,
             "#0d0887"
            ],
            [
             0.1111111111111111,
             "#46039f"
            ],
            [
             0.2222222222222222,
             "#7201a8"
            ],
            [
             0.3333333333333333,
             "#9c179e"
            ],
            [
             0.4444444444444444,
             "#bd3786"
            ],
            [
             0.5555555555555556,
             "#d8576b"
            ],
            [
             0.6666666666666666,
             "#ed7953"
            ],
            [
             0.7777777777777778,
             "#fb9f3a"
            ],
            [
             0.8888888888888888,
             "#fdca26"
            ],
            [
             1,
             "#f0f921"
            ]
           ]
          },
          "colorway": [
           "#636efa",
           "#EF553B",
           "#00cc96",
           "#ab63fa",
           "#FFA15A",
           "#19d3f3",
           "#FF6692",
           "#B6E880",
           "#FF97FF",
           "#FECB52"
          ],
          "font": {
           "color": "#2a3f5f"
          },
          "geo": {
           "bgcolor": "white",
           "lakecolor": "white",
           "landcolor": "#E5ECF6",
           "showlakes": true,
           "showland": true,
           "subunitcolor": "white"
          },
          "hoverlabel": {
           "align": "left"
          },
          "hovermode": "closest",
          "mapbox": {
           "style": "light"
          },
          "paper_bgcolor": "white",
          "plot_bgcolor": "#E5ECF6",
          "polar": {
           "angularaxis": {
            "gridcolor": "white",
            "linecolor": "white",
            "ticks": ""
           },
           "bgcolor": "#E5ECF6",
           "radialaxis": {
            "gridcolor": "white",
            "linecolor": "white",
            "ticks": ""
           }
          },
          "scene": {
           "xaxis": {
            "backgroundcolor": "#E5ECF6",
            "gridcolor": "white",
            "gridwidth": 2,
            "linecolor": "white",
            "showbackground": true,
            "ticks": "",
            "zerolinecolor": "white"
           },
           "yaxis": {
            "backgroundcolor": "#E5ECF6",
            "gridcolor": "white",
            "gridwidth": 2,
            "linecolor": "white",
            "showbackground": true,
            "ticks": "",
            "zerolinecolor": "white"
           },
           "zaxis": {
            "backgroundcolor": "#E5ECF6",
            "gridcolor": "white",
            "gridwidth": 2,
            "linecolor": "white",
            "showbackground": true,
            "ticks": "",
            "zerolinecolor": "white"
           }
          },
          "shapedefaults": {
           "line": {
            "color": "#2a3f5f"
           }
          },
          "ternary": {
           "aaxis": {
            "gridcolor": "white",
            "linecolor": "white",
            "ticks": ""
           },
           "baxis": {
            "gridcolor": "white",
            "linecolor": "white",
            "ticks": ""
           },
           "bgcolor": "#E5ECF6",
           "caxis": {
            "gridcolor": "white",
            "linecolor": "white",
            "ticks": ""
           }
          },
          "title": {
           "x": 0.05
          },
          "xaxis": {
           "automargin": true,
           "gridcolor": "white",
           "linecolor": "white",
           "ticks": "",
           "title": {
            "standoff": 15
           },
           "zerolinecolor": "white",
           "zerolinewidth": 2
          },
          "yaxis": {
           "automargin": true,
           "gridcolor": "white",
           "linecolor": "white",
           "ticks": "",
           "title": {
            "standoff": 15
           },
           "zerolinecolor": "white",
           "zerolinewidth": 2
          }
         }
        },
        "title": {
         "text": "Measurements per hour"
        },
        "xaxis": {
         "anchor": "y",
         "domain": [
          0,
          1
         ],
         "title": {
          "text": "datetime"
         }
        },
        "yaxis": {
         "anchor": "x",
         "domain": [
          0,
          1
         ],
         "title": {
          "text": "pm2_5"
         }
        }
       }
      }
     },
     "metadata": {}
    }
   ],
   "source": [
    "fig = px.bar(test.groupby([\"BU_NAAM\", \"datetime\"]).count().reset_index(), x='datetime', y='pm2_5', title='Measurements per hour', color=\"BU_NAAM\")\n",
    "fig.show()"
   ]
  },
  {
   "cell_type": "code",
   "execution_count": 108,
   "metadata": {},
   "outputs": [],
   "source": [
    "export = test.merge(utrecht_neigh[[\"BU_NAAM\", \"geometry\", \"measurement_station\"]], on=\"BU_NAAM\")"
   ]
  },
  {
   "cell_type": "code",
   "execution_count": 109,
   "metadata": {},
   "outputs": [
    {
     "output_type": "execute_result",
     "data": {
      "text/plain": [
       "                         BU_NAAM        date  hour  pm2_5            datetime  \\\n",
       "0     2e Daalsebuurt en omgeving  2020-06-15    15    4.0 2020-06-15 15:00:00   \n",
       "1     2e Daalsebuurt en omgeving  2020-06-15    16    2.0 2020-06-15 16:00:00   \n",
       "2     2e Daalsebuurt en omgeving  2020-06-15    17    3.0 2020-06-15 17:00:00   \n",
       "3     2e Daalsebuurt en omgeving  2020-06-17    13    3.0 2020-06-17 13:00:00   \n",
       "4     2e Daalsebuurt en omgeving  2020-06-17    18    6.0 2020-06-17 18:00:00   \n",
       "...                          ...         ...   ...    ...                 ...   \n",
       "2346                Zuilen-Noord  2020-06-20    16    3.0 2020-06-20 16:00:00   \n",
       "2347                Zuilen-Noord  2020-06-20    17    3.0 2020-06-20 17:00:00   \n",
       "2348                Zuilen-Noord  2020-06-20    20    1.0 2020-06-20 20:00:00   \n",
       "2349                Zuilen-Noord  2020-06-21    12    2.0 2020-06-21 12:00:00   \n",
       "2350                Zuilen-Noord  2020-06-21    16    2.0 2020-06-21 16:00:00   \n",
       "\n",
       "                                               geometry  \\\n",
       "0     POLYGON ((135456.341 457158.281, 135469.700 45...   \n",
       "1     POLYGON ((135456.341 457158.281, 135469.700 45...   \n",
       "2     POLYGON ((135456.341 457158.281, 135469.700 45...   \n",
       "3     POLYGON ((135456.341 457158.281, 135469.700 45...   \n",
       "4     POLYGON ((135456.341 457158.281, 135469.700 45...   \n",
       "...                                                 ...   \n",
       "2346  POLYGON ((133293.957 459931.701, 133319.133 45...   \n",
       "2347  POLYGON ((133293.957 459931.701, 133319.133 45...   \n",
       "2348  POLYGON ((133293.957 459931.701, 133319.133 45...   \n",
       "2349  POLYGON ((133293.957 459931.701, 133319.133 45...   \n",
       "2350  POLYGON ((133293.957 459931.701, 133319.133 45...   \n",
       "\n",
       "                measurement_station  \n",
       "0     POINT (135343.785 456782.720)  \n",
       "1     POINT (135343.785 456782.720)  \n",
       "2     POINT (135343.785 456782.720)  \n",
       "3     POINT (135343.785 456782.720)  \n",
       "4     POINT (135343.785 456782.720)  \n",
       "...                             ...  \n",
       "2346  POINT (133259.666 459263.855)  \n",
       "2347  POINT (133259.666 459263.855)  \n",
       "2348  POINT (133259.666 459263.855)  \n",
       "2349  POINT (133259.666 459263.855)  \n",
       "2350  POINT (133259.666 459263.855)  \n",
       "\n",
       "[2351 rows x 7 columns]"
      ],
      "text/html": "<div>\n<style scoped>\n    .dataframe tbody tr th:only-of-type {\n        vertical-align: middle;\n    }\n\n    .dataframe tbody tr th {\n        vertical-align: top;\n    }\n\n    .dataframe thead th {\n        text-align: right;\n    }\n</style>\n<table border=\"1\" class=\"dataframe\">\n  <thead>\n    <tr style=\"text-align: right;\">\n      <th></th>\n      <th>BU_NAAM</th>\n      <th>date</th>\n      <th>hour</th>\n      <th>pm2_5</th>\n      <th>datetime</th>\n      <th>geometry</th>\n      <th>measurement_station</th>\n    </tr>\n  </thead>\n  <tbody>\n    <tr>\n      <th>0</th>\n      <td>2e Daalsebuurt en omgeving</td>\n      <td>2020-06-15</td>\n      <td>15</td>\n      <td>4.0</td>\n      <td>2020-06-15 15:00:00</td>\n      <td>POLYGON ((135456.341 457158.281, 135469.700 45...</td>\n      <td>POINT (135343.785 456782.720)</td>\n    </tr>\n    <tr>\n      <th>1</th>\n      <td>2e Daalsebuurt en omgeving</td>\n      <td>2020-06-15</td>\n      <td>16</td>\n      <td>2.0</td>\n      <td>2020-06-15 16:00:00</td>\n      <td>POLYGON ((135456.341 457158.281, 135469.700 45...</td>\n      <td>POINT (135343.785 456782.720)</td>\n    </tr>\n    <tr>\n      <th>2</th>\n      <td>2e Daalsebuurt en omgeving</td>\n      <td>2020-06-15</td>\n      <td>17</td>\n      <td>3.0</td>\n      <td>2020-06-15 17:00:00</td>\n      <td>POLYGON ((135456.341 457158.281, 135469.700 45...</td>\n      <td>POINT (135343.785 456782.720)</td>\n    </tr>\n    <tr>\n      <th>3</th>\n      <td>2e Daalsebuurt en omgeving</td>\n      <td>2020-06-17</td>\n      <td>13</td>\n      <td>3.0</td>\n      <td>2020-06-17 13:00:00</td>\n      <td>POLYGON ((135456.341 457158.281, 135469.700 45...</td>\n      <td>POINT (135343.785 456782.720)</td>\n    </tr>\n    <tr>\n      <th>4</th>\n      <td>2e Daalsebuurt en omgeving</td>\n      <td>2020-06-17</td>\n      <td>18</td>\n      <td>6.0</td>\n      <td>2020-06-17 18:00:00</td>\n      <td>POLYGON ((135456.341 457158.281, 135469.700 45...</td>\n      <td>POINT (135343.785 456782.720)</td>\n    </tr>\n    <tr>\n      <th>...</th>\n      <td>...</td>\n      <td>...</td>\n      <td>...</td>\n      <td>...</td>\n      <td>...</td>\n      <td>...</td>\n      <td>...</td>\n    </tr>\n    <tr>\n      <th>2346</th>\n      <td>Zuilen-Noord</td>\n      <td>2020-06-20</td>\n      <td>16</td>\n      <td>3.0</td>\n      <td>2020-06-20 16:00:00</td>\n      <td>POLYGON ((133293.957 459931.701, 133319.133 45...</td>\n      <td>POINT (133259.666 459263.855)</td>\n    </tr>\n    <tr>\n      <th>2347</th>\n      <td>Zuilen-Noord</td>\n      <td>2020-06-20</td>\n      <td>17</td>\n      <td>3.0</td>\n      <td>2020-06-20 17:00:00</td>\n      <td>POLYGON ((133293.957 459931.701, 133319.133 45...</td>\n      <td>POINT (133259.666 459263.855)</td>\n    </tr>\n    <tr>\n      <th>2348</th>\n      <td>Zuilen-Noord</td>\n      <td>2020-06-20</td>\n      <td>20</td>\n      <td>1.0</td>\n      <td>2020-06-20 20:00:00</td>\n      <td>POLYGON ((133293.957 459931.701, 133319.133 45...</td>\n      <td>POINT (133259.666 459263.855)</td>\n    </tr>\n    <tr>\n      <th>2349</th>\n      <td>Zuilen-Noord</td>\n      <td>2020-06-21</td>\n      <td>12</td>\n      <td>2.0</td>\n      <td>2020-06-21 12:00:00</td>\n      <td>POLYGON ((133293.957 459931.701, 133319.133 45...</td>\n      <td>POINT (133259.666 459263.855)</td>\n    </tr>\n    <tr>\n      <th>2350</th>\n      <td>Zuilen-Noord</td>\n      <td>2020-06-21</td>\n      <td>16</td>\n      <td>2.0</td>\n      <td>2020-06-21 16:00:00</td>\n      <td>POLYGON ((133293.957 459931.701, 133319.133 45...</td>\n      <td>POINT (133259.666 459263.855)</td>\n    </tr>\n  </tbody>\n</table>\n<p>2351 rows × 7 columns</p>\n</div>"
     },
     "metadata": {},
     "execution_count": 109
    }
   ],
   "source": [
    "export"
   ]
  },
  {
   "cell_type": "code",
   "execution_count": 123,
   "metadata": {},
   "outputs": [],
   "source": [
    "export['lon'] = export.measurement_station.apply(lambda p: p.x)\n",
    "export['lat'] = export.measurement_station.apply(lambda p: p.y)\n",
    "\n",
    "export.to_csv(\"../data/interim/export_2020_06_15_2020_06_22_hourly.csv\",index=False)"
   ]
  },
  {
   "cell_type": "code",
   "execution_count": 120,
   "metadata": {},
   "outputs": [
    {
     "output_type": "execute_result",
     "data": {
      "text/plain": [
       "                         BU_NAAM        date  hour  pm2_5            datetime  \\\n",
       "0     2e Daalsebuurt en omgeving  2020-06-15    15    4.0 2020-06-15 15:00:00   \n",
       "1     2e Daalsebuurt en omgeving  2020-06-15    16    2.0 2020-06-15 16:00:00   \n",
       "2     2e Daalsebuurt en omgeving  2020-06-15    17    3.0 2020-06-15 17:00:00   \n",
       "3     2e Daalsebuurt en omgeving  2020-06-17    13    3.0 2020-06-17 13:00:00   \n",
       "4     2e Daalsebuurt en omgeving  2020-06-17    18    6.0 2020-06-17 18:00:00   \n",
       "...                          ...         ...   ...    ...                 ...   \n",
       "2346                Zuilen-Noord  2020-06-20    16    3.0 2020-06-20 16:00:00   \n",
       "2347                Zuilen-Noord  2020-06-20    17    3.0 2020-06-20 17:00:00   \n",
       "2348                Zuilen-Noord  2020-06-20    20    1.0 2020-06-20 20:00:00   \n",
       "2349                Zuilen-Noord  2020-06-21    12    2.0 2020-06-21 12:00:00   \n",
       "2350                Zuilen-Noord  2020-06-21    16    2.0 2020-06-21 16:00:00   \n",
       "\n",
       "                                               geometry  \\\n",
       "0     POLYGON ((135456.341 457158.281, 135469.700 45...   \n",
       "1     POLYGON ((135456.341 457158.281, 135469.700 45...   \n",
       "2     POLYGON ((135456.341 457158.281, 135469.700 45...   \n",
       "3     POLYGON ((135456.341 457158.281, 135469.700 45...   \n",
       "4     POLYGON ((135456.341 457158.281, 135469.700 45...   \n",
       "...                                                 ...   \n",
       "2346  POLYGON ((133293.957 459931.701, 133319.133 45...   \n",
       "2347  POLYGON ((133293.957 459931.701, 133319.133 45...   \n",
       "2348  POLYGON ((133293.957 459931.701, 133319.133 45...   \n",
       "2349  POLYGON ((133293.957 459931.701, 133319.133 45...   \n",
       "2350  POLYGON ((133293.957 459931.701, 133319.133 45...   \n",
       "\n",
       "                measurement_station            lon          lat  \n",
       "0     POINT (135343.785 456782.720)  135343.784673  456782.7200  \n",
       "1     POINT (135343.785 456782.720)  135343.784673  456782.7200  \n",
       "2     POINT (135343.785 456782.720)  135343.784673  456782.7200  \n",
       "3     POINT (135343.785 456782.720)  135343.784673  456782.7200  \n",
       "4     POINT (135343.785 456782.720)  135343.784673  456782.7200  \n",
       "...                             ...            ...          ...  \n",
       "2346  POINT (133259.666 459263.855)  133259.665771  459263.8551  \n",
       "2347  POINT (133259.666 459263.855)  133259.665771  459263.8551  \n",
       "2348  POINT (133259.666 459263.855)  133259.665771  459263.8551  \n",
       "2349  POINT (133259.666 459263.855)  133259.665771  459263.8551  \n",
       "2350  POINT (133259.666 459263.855)  133259.665771  459263.8551  \n",
       "\n",
       "[2351 rows x 9 columns]"
      ],
      "text/html": "<div>\n<style scoped>\n    .dataframe tbody tr th:only-of-type {\n        vertical-align: middle;\n    }\n\n    .dataframe tbody tr th {\n        vertical-align: top;\n    }\n\n    .dataframe thead th {\n        text-align: right;\n    }\n</style>\n<table border=\"1\" class=\"dataframe\">\n  <thead>\n    <tr style=\"text-align: right;\">\n      <th></th>\n      <th>BU_NAAM</th>\n      <th>date</th>\n      <th>hour</th>\n      <th>pm2_5</th>\n      <th>datetime</th>\n      <th>geometry</th>\n      <th>measurement_station</th>\n      <th>lon</th>\n      <th>lat</th>\n    </tr>\n  </thead>\n  <tbody>\n    <tr>\n      <th>0</th>\n      <td>2e Daalsebuurt en omgeving</td>\n      <td>2020-06-15</td>\n      <td>15</td>\n      <td>4.0</td>\n      <td>2020-06-15 15:00:00</td>\n      <td>POLYGON ((135456.341 457158.281, 135469.700 45...</td>\n      <td>POINT (135343.785 456782.720)</td>\n      <td>135343.784673</td>\n      <td>456782.7200</td>\n    </tr>\n    <tr>\n      <th>1</th>\n      <td>2e Daalsebuurt en omgeving</td>\n      <td>2020-06-15</td>\n      <td>16</td>\n      <td>2.0</td>\n      <td>2020-06-15 16:00:00</td>\n      <td>POLYGON ((135456.341 457158.281, 135469.700 45...</td>\n      <td>POINT (135343.785 456782.720)</td>\n      <td>135343.784673</td>\n      <td>456782.7200</td>\n    </tr>\n    <tr>\n      <th>2</th>\n      <td>2e Daalsebuurt en omgeving</td>\n      <td>2020-06-15</td>\n      <td>17</td>\n      <td>3.0</td>\n      <td>2020-06-15 17:00:00</td>\n      <td>POLYGON ((135456.341 457158.281, 135469.700 45...</td>\n      <td>POINT (135343.785 456782.720)</td>\n      <td>135343.784673</td>\n      <td>456782.7200</td>\n    </tr>\n    <tr>\n      <th>3</th>\n      <td>2e Daalsebuurt en omgeving</td>\n      <td>2020-06-17</td>\n      <td>13</td>\n      <td>3.0</td>\n      <td>2020-06-17 13:00:00</td>\n      <td>POLYGON ((135456.341 457158.281, 135469.700 45...</td>\n      <td>POINT (135343.785 456782.720)</td>\n      <td>135343.784673</td>\n      <td>456782.7200</td>\n    </tr>\n    <tr>\n      <th>4</th>\n      <td>2e Daalsebuurt en omgeving</td>\n      <td>2020-06-17</td>\n      <td>18</td>\n      <td>6.0</td>\n      <td>2020-06-17 18:00:00</td>\n      <td>POLYGON ((135456.341 457158.281, 135469.700 45...</td>\n      <td>POINT (135343.785 456782.720)</td>\n      <td>135343.784673</td>\n      <td>456782.7200</td>\n    </tr>\n    <tr>\n      <th>...</th>\n      <td>...</td>\n      <td>...</td>\n      <td>...</td>\n      <td>...</td>\n      <td>...</td>\n      <td>...</td>\n      <td>...</td>\n      <td>...</td>\n      <td>...</td>\n    </tr>\n    <tr>\n      <th>2346</th>\n      <td>Zuilen-Noord</td>\n      <td>2020-06-20</td>\n      <td>16</td>\n      <td>3.0</td>\n      <td>2020-06-20 16:00:00</td>\n      <td>POLYGON ((133293.957 459931.701, 133319.133 45...</td>\n      <td>POINT (133259.666 459263.855)</td>\n      <td>133259.665771</td>\n      <td>459263.8551</td>\n    </tr>\n    <tr>\n      <th>2347</th>\n      <td>Zuilen-Noord</td>\n      <td>2020-06-20</td>\n      <td>17</td>\n      <td>3.0</td>\n      <td>2020-06-20 17:00:00</td>\n      <td>POLYGON ((133293.957 459931.701, 133319.133 45...</td>\n      <td>POINT (133259.666 459263.855)</td>\n      <td>133259.665771</td>\n      <td>459263.8551</td>\n    </tr>\n    <tr>\n      <th>2348</th>\n      <td>Zuilen-Noord</td>\n      <td>2020-06-20</td>\n      <td>20</td>\n      <td>1.0</td>\n      <td>2020-06-20 20:00:00</td>\n      <td>POLYGON ((133293.957 459931.701, 133319.133 45...</td>\n      <td>POINT (133259.666 459263.855)</td>\n      <td>133259.665771</td>\n      <td>459263.8551</td>\n    </tr>\n    <tr>\n      <th>2349</th>\n      <td>Zuilen-Noord</td>\n      <td>2020-06-21</td>\n      <td>12</td>\n      <td>2.0</td>\n      <td>2020-06-21 12:00:00</td>\n      <td>POLYGON ((133293.957 459931.701, 133319.133 45...</td>\n      <td>POINT (133259.666 459263.855)</td>\n      <td>133259.665771</td>\n      <td>459263.8551</td>\n    </tr>\n    <tr>\n      <th>2350</th>\n      <td>Zuilen-Noord</td>\n      <td>2020-06-21</td>\n      <td>16</td>\n      <td>2.0</td>\n      <td>2020-06-21 16:00:00</td>\n      <td>POLYGON ((133293.957 459931.701, 133319.133 45...</td>\n      <td>POINT (133259.666 459263.855)</td>\n      <td>133259.665771</td>\n      <td>459263.8551</td>\n    </tr>\n  </tbody>\n</table>\n<p>2351 rows × 9 columns</p>\n</div>"
     },
     "metadata": {},
     "execution_count": 120
    }
   ],
   "source": [
    "export"
   ]
  },
  {
   "source": [
    "## Same, but daily"
   ],
   "cell_type": "markdown",
   "metadata": {}
  },
  {
   "cell_type": "code",
   "execution_count": 132,
   "metadata": {},
   "outputs": [],
   "source": [
    "test2 = geo_df[[\"BU_NAAM\", \"date\", \"hour\", \"pm2_5\"]].groupby([\"BU_NAAM\", \"date\"]).median().reset_index()\n",
    "export = test2.merge(utrecht_neigh[[\"BU_NAAM\", \"geometry\", \"measurement_station\"]], on=\"BU_NAAM\")\n",
    "\n",
    "export['lon'] = export.measurement_station.apply(lambda p: p.x)\n",
    "export['lat'] = export.measurement_station.apply(lambda p: p.y)\n",
    "\n",
    "export.to_csv(\"../data/interim/export_2020_06_15_2020_06_22_daily.csv\",index=False)"
   ]
  },
  {
   "cell_type": "code",
   "execution_count": null,
   "metadata": {},
   "outputs": [],
   "source": []
  }
 ]
}