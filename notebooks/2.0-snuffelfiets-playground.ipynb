{
 "metadata": {
  "language_info": {
   "codemirror_mode": {
    "name": "ipython",
    "version": 3
   },
   "file_extension": ".py",
   "mimetype": "text/x-python",
   "name": "python",
   "nbconvert_exporter": "python",
   "pygments_lexer": "ipython3",
   "version": "3.8.8"
  },
  "orig_nbformat": 2,
  "kernelspec": {
   "name": "python388jvsc74a57bd06bfa853000390083a35d112b16e638a8e978943b5cf163568e56c68c8f4a453e",
   "display_name": "Python 3.8.8 64-bit ('thesis': conda)"
  }
 },
 "nbformat": 4,
 "nbformat_minor": 2,
 "cells": [
  {
   "cell_type": "code",
   "execution_count": 71,
   "metadata": {},
   "outputs": [],
   "source": [
    "# Import packages\n",
    "import pandas as pd \n",
    "import numpy as np \n",
    "import geopandas as gpd \n",
    "import matplotlib.pyplot as plt\n",
    "\n",
    "from tqdm import tqdm\n",
    "import requests\n",
    "from bs4 import BeautifulSoup\n",
    "import io\n",
    "import json\n",
    "\n",
    "import plotly.express as px\n",
    "from collections import Counter\n",
    "import glob\n"
   ]
  },
  {
   "cell_type": "code",
   "execution_count": 69,
   "metadata": {},
   "outputs": [],
   "source": [
    "df = pd.read_csv(\"../data/external/city_jan_2020/january_2020_city.csv\")\n",
    "df['recording_time'] = pd.to_datetime(df['recording_time'], format=\"%Y-%m-%d %H:%M:%S\")\n",
    "\n",
    "gdf = gpd.GeoDataFrame(df, geometry=gpd.points_from_xy(df['lon'],df['lat'], crs=\"EPSG:4326\"))\n",
    "gdf = gdf.to_crs(\"EPSG:28992\")\n"
   ]
  },
  {
   "cell_type": "code",
   "execution_count": 82,
   "metadata": {},
   "outputs": [
    {
     "output_type": "display_data",
     "data": {
      "application/vnd.plotly.v1+json": {
       "config": {
        "plotlyServerURL": "https://plot.ly"
       },
       "data": [
        {
         "hovertemplate": "index=%{x}<br>activity=%{y}<extra></extra>",
         "legendgroup": "",
         "line": {
          "color": "#636efa",
          "dash": "solid"
         },
         "mode": "lines",
         "name": "",
         "orientation": "v",
         "showlegend": false,
         "type": "scatter",
         "x": [
          "2020-01-01",
          "2020-01-02",
          "2020-01-03",
          "2020-01-04",
          "2020-01-05",
          "2020-01-06",
          "2020-01-07",
          "2020-01-08",
          "2020-01-09",
          "2020-01-10",
          "2020-01-11",
          "2020-01-12",
          "2020-01-13",
          "2020-01-14",
          "2020-01-15",
          "2020-01-16",
          "2020-01-17",
          "2020-01-18",
          "2020-01-19",
          "2020-01-20",
          "2020-01-21",
          "2020-01-22",
          "2020-01-23",
          "2020-01-24",
          "2020-01-25",
          "2020-01-26",
          "2020-01-27",
          "2020-01-28",
          "2020-01-29",
          "2020-01-30"
         ],
         "xaxis": "x",
         "y": [
          2290,
          5375,
          2671,
          3180,
          1492,
          13809,
          15220,
          9148,
          7573,
          7246,
          2834,
          2670,
          10782,
          7577,
          7741,
          10714,
          6253,
          3763,
          2500,
          9249,
          13866,
          8146,
          11032,
          7334,
          3635,
          3070,
          9139,
          10728,
          6648,
          10554
         ],
         "yaxis": "y"
        }
       ],
       "layout": {
        "legend": {
         "tracegroupgap": 0
        },
        "template": {
         "data": {
          "bar": [
           {
            "error_x": {
             "color": "#2a3f5f"
            },
            "error_y": {
             "color": "#2a3f5f"
            },
            "marker": {
             "line": {
              "color": "#E5ECF6",
              "width": 0.5
             }
            },
            "type": "bar"
           }
          ],
          "barpolar": [
           {
            "marker": {
             "line": {
              "color": "#E5ECF6",
              "width": 0.5
             }
            },
            "type": "barpolar"
           }
          ],
          "carpet": [
           {
            "aaxis": {
             "endlinecolor": "#2a3f5f",
             "gridcolor": "white",
             "linecolor": "white",
             "minorgridcolor": "white",
             "startlinecolor": "#2a3f5f"
            },
            "baxis": {
             "endlinecolor": "#2a3f5f",
             "gridcolor": "white",
             "linecolor": "white",
             "minorgridcolor": "white",
             "startlinecolor": "#2a3f5f"
            },
            "type": "carpet"
           }
          ],
          "choropleth": [
           {
            "colorbar": {
             "outlinewidth": 0,
             "ticks": ""
            },
            "type": "choropleth"
           }
          ],
          "contour": [
           {
            "colorbar": {
             "outlinewidth": 0,
             "ticks": ""
            },
            "colorscale": [
             [
              0,
              "#0d0887"
             ],
             [
              0.1111111111111111,
              "#46039f"
             ],
             [
              0.2222222222222222,
              "#7201a8"
             ],
             [
              0.3333333333333333,
              "#9c179e"
             ],
             [
              0.4444444444444444,
              "#bd3786"
             ],
             [
              0.5555555555555556,
              "#d8576b"
             ],
             [
              0.6666666666666666,
              "#ed7953"
             ],
             [
              0.7777777777777778,
              "#fb9f3a"
             ],
             [
              0.8888888888888888,
              "#fdca26"
             ],
             [
              1,
              "#f0f921"
             ]
            ],
            "type": "contour"
           }
          ],
          "contourcarpet": [
           {
            "colorbar": {
             "outlinewidth": 0,
             "ticks": ""
            },
            "type": "contourcarpet"
           }
          ],
          "heatmap": [
           {
            "colorbar": {
             "outlinewidth": 0,
             "ticks": ""
            },
            "colorscale": [
             [
              0,
              "#0d0887"
             ],
             [
              0.1111111111111111,
              "#46039f"
             ],
             [
              0.2222222222222222,
              "#7201a8"
             ],
             [
              0.3333333333333333,
              "#9c179e"
             ],
             [
              0.4444444444444444,
              "#bd3786"
             ],
             [
              0.5555555555555556,
              "#d8576b"
             ],
             [
              0.6666666666666666,
              "#ed7953"
             ],
             [
              0.7777777777777778,
              "#fb9f3a"
             ],
             [
              0.8888888888888888,
              "#fdca26"
             ],
             [
              1,
              "#f0f921"
             ]
            ],
            "type": "heatmap"
           }
          ],
          "heatmapgl": [
           {
            "colorbar": {
             "outlinewidth": 0,
             "ticks": ""
            },
            "colorscale": [
             [
              0,
              "#0d0887"
             ],
             [
              0.1111111111111111,
              "#46039f"
             ],
             [
              0.2222222222222222,
              "#7201a8"
             ],
             [
              0.3333333333333333,
              "#9c179e"
             ],
             [
              0.4444444444444444,
              "#bd3786"
             ],
             [
              0.5555555555555556,
              "#d8576b"
             ],
             [
              0.6666666666666666,
              "#ed7953"
             ],
             [
              0.7777777777777778,
              "#fb9f3a"
             ],
             [
              0.8888888888888888,
              "#fdca26"
             ],
             [
              1,
              "#f0f921"
             ]
            ],
            "type": "heatmapgl"
           }
          ],
          "histogram": [
           {
            "marker": {
             "colorbar": {
              "outlinewidth": 0,
              "ticks": ""
             }
            },
            "type": "histogram"
           }
          ],
          "histogram2d": [
           {
            "colorbar": {
             "outlinewidth": 0,
             "ticks": ""
            },
            "colorscale": [
             [
              0,
              "#0d0887"
             ],
             [
              0.1111111111111111,
              "#46039f"
             ],
             [
              0.2222222222222222,
              "#7201a8"
             ],
             [
              0.3333333333333333,
              "#9c179e"
             ],
             [
              0.4444444444444444,
              "#bd3786"
             ],
             [
              0.5555555555555556,
              "#d8576b"
             ],
             [
              0.6666666666666666,
              "#ed7953"
             ],
             [
              0.7777777777777778,
              "#fb9f3a"
             ],
             [
              0.8888888888888888,
              "#fdca26"
             ],
             [
              1,
              "#f0f921"
             ]
            ],
            "type": "histogram2d"
           }
          ],
          "histogram2dcontour": [
           {
            "colorbar": {
             "outlinewidth": 0,
             "ticks": ""
            },
            "colorscale": [
             [
              0,
              "#0d0887"
             ],
             [
              0.1111111111111111,
              "#46039f"
             ],
             [
              0.2222222222222222,
              "#7201a8"
             ],
             [
              0.3333333333333333,
              "#9c179e"
             ],
             [
              0.4444444444444444,
              "#bd3786"
             ],
             [
              0.5555555555555556,
              "#d8576b"
             ],
             [
              0.6666666666666666,
              "#ed7953"
             ],
             [
              0.7777777777777778,
              "#fb9f3a"
             ],
             [
              0.8888888888888888,
              "#fdca26"
             ],
             [
              1,
              "#f0f921"
             ]
            ],
            "type": "histogram2dcontour"
           }
          ],
          "mesh3d": [
           {
            "colorbar": {
             "outlinewidth": 0,
             "ticks": ""
            },
            "type": "mesh3d"
           }
          ],
          "parcoords": [
           {
            "line": {
             "colorbar": {
              "outlinewidth": 0,
              "ticks": ""
             }
            },
            "type": "parcoords"
           }
          ],
          "pie": [
           {
            "automargin": true,
            "type": "pie"
           }
          ],
          "scatter": [
           {
            "marker": {
             "colorbar": {
              "outlinewidth": 0,
              "ticks": ""
             }
            },
            "type": "scatter"
           }
          ],
          "scatter3d": [
           {
            "line": {
             "colorbar": {
              "outlinewidth": 0,
              "ticks": ""
             }
            },
            "marker": {
             "colorbar": {
              "outlinewidth": 0,
              "ticks": ""
             }
            },
            "type": "scatter3d"
           }
          ],
          "scattercarpet": [
           {
            "marker": {
             "colorbar": {
              "outlinewidth": 0,
              "ticks": ""
             }
            },
            "type": "scattercarpet"
           }
          ],
          "scattergeo": [
           {
            "marker": {
             "colorbar": {
              "outlinewidth": 0,
              "ticks": ""
             }
            },
            "type": "scattergeo"
           }
          ],
          "scattergl": [
           {
            "marker": {
             "colorbar": {
              "outlinewidth": 0,
              "ticks": ""
             }
            },
            "type": "scattergl"
           }
          ],
          "scattermapbox": [
           {
            "marker": {
             "colorbar": {
              "outlinewidth": 0,
              "ticks": ""
             }
            },
            "type": "scattermapbox"
           }
          ],
          "scatterpolar": [
           {
            "marker": {
             "colorbar": {
              "outlinewidth": 0,
              "ticks": ""
             }
            },
            "type": "scatterpolar"
           }
          ],
          "scatterpolargl": [
           {
            "marker": {
             "colorbar": {
              "outlinewidth": 0,
              "ticks": ""
             }
            },
            "type": "scatterpolargl"
           }
          ],
          "scatterternary": [
           {
            "marker": {
             "colorbar": {
              "outlinewidth": 0,
              "ticks": ""
             }
            },
            "type": "scatterternary"
           }
          ],
          "surface": [
           {
            "colorbar": {
             "outlinewidth": 0,
             "ticks": ""
            },
            "colorscale": [
             [
              0,
              "#0d0887"
             ],
             [
              0.1111111111111111,
              "#46039f"
             ],
             [
              0.2222222222222222,
              "#7201a8"
             ],
             [
              0.3333333333333333,
              "#9c179e"
             ],
             [
              0.4444444444444444,
              "#bd3786"
             ],
             [
              0.5555555555555556,
              "#d8576b"
             ],
             [
              0.6666666666666666,
              "#ed7953"
             ],
             [
              0.7777777777777778,
              "#fb9f3a"
             ],
             [
              0.8888888888888888,
              "#fdca26"
             ],
             [
              1,
              "#f0f921"
             ]
            ],
            "type": "surface"
           }
          ],
          "table": [
           {
            "cells": {
             "fill": {
              "color": "#EBF0F8"
             },
             "line": {
              "color": "white"
             }
            },
            "header": {
             "fill": {
              "color": "#C8D4E3"
             },
             "line": {
              "color": "white"
             }
            },
            "type": "table"
           }
          ]
         },
         "layout": {
          "annotationdefaults": {
           "arrowcolor": "#2a3f5f",
           "arrowhead": 0,
           "arrowwidth": 1
          },
          "autotypenumbers": "strict",
          "coloraxis": {
           "colorbar": {
            "outlinewidth": 0,
            "ticks": ""
           }
          },
          "colorscale": {
           "diverging": [
            [
             0,
             "#8e0152"
            ],
            [
             0.1,
             "#c51b7d"
            ],
            [
             0.2,
             "#de77ae"
            ],
            [
             0.3,
             "#f1b6da"
            ],
            [
             0.4,
             "#fde0ef"
            ],
            [
             0.5,
             "#f7f7f7"
            ],
            [
             0.6,
             "#e6f5d0"
            ],
            [
             0.7,
             "#b8e186"
            ],
            [
             0.8,
             "#7fbc41"
            ],
            [
             0.9,
             "#4d9221"
            ],
            [
             1,
             "#276419"
            ]
           ],
           "sequential": [
            [
             0,
             "#0d0887"
            ],
            [
             0.1111111111111111,
             "#46039f"
            ],
            [
             0.2222222222222222,
             "#7201a8"
            ],
            [
             0.3333333333333333,
             "#9c179e"
            ],
            [
             0.4444444444444444,
             "#bd3786"
            ],
            [
             0.5555555555555556,
             "#d8576b"
            ],
            [
             0.6666666666666666,
             "#ed7953"
            ],
            [
             0.7777777777777778,
             "#fb9f3a"
            ],
            [
             0.8888888888888888,
             "#fdca26"
            ],
            [
             1,
             "#f0f921"
            ]
           ],
           "sequentialminus": [
            [
             0,
             "#0d0887"
            ],
            [
             0.1111111111111111,
             "#46039f"
            ],
            [
             0.2222222222222222,
             "#7201a8"
            ],
            [
             0.3333333333333333,
             "#9c179e"
            ],
            [
             0.4444444444444444,
             "#bd3786"
            ],
            [
             0.5555555555555556,
             "#d8576b"
            ],
            [
             0.6666666666666666,
             "#ed7953"
            ],
            [
             0.7777777777777778,
             "#fb9f3a"
            ],
            [
             0.8888888888888888,
             "#fdca26"
            ],
            [
             1,
             "#f0f921"
            ]
           ]
          },
          "colorway": [
           "#636efa",
           "#EF553B",
           "#00cc96",
           "#ab63fa",
           "#FFA15A",
           "#19d3f3",
           "#FF6692",
           "#B6E880",
           "#FF97FF",
           "#FECB52"
          ],
          "font": {
           "color": "#2a3f5f"
          },
          "geo": {
           "bgcolor": "white",
           "lakecolor": "white",
           "landcolor": "#E5ECF6",
           "showlakes": true,
           "showland": true,
           "subunitcolor": "white"
          },
          "hoverlabel": {
           "align": "left"
          },
          "hovermode": "closest",
          "mapbox": {
           "style": "light"
          },
          "paper_bgcolor": "white",
          "plot_bgcolor": "#E5ECF6",
          "polar": {
           "angularaxis": {
            "gridcolor": "white",
            "linecolor": "white",
            "ticks": ""
           },
           "bgcolor": "#E5ECF6",
           "radialaxis": {
            "gridcolor": "white",
            "linecolor": "white",
            "ticks": ""
           }
          },
          "scene": {
           "xaxis": {
            "backgroundcolor": "#E5ECF6",
            "gridcolor": "white",
            "gridwidth": 2,
            "linecolor": "white",
            "showbackground": true,
            "ticks": "",
            "zerolinecolor": "white"
           },
           "yaxis": {
            "backgroundcolor": "#E5ECF6",
            "gridcolor": "white",
            "gridwidth": 2,
            "linecolor": "white",
            "showbackground": true,
            "ticks": "",
            "zerolinecolor": "white"
           },
           "zaxis": {
            "backgroundcolor": "#E5ECF6",
            "gridcolor": "white",
            "gridwidth": 2,
            "linecolor": "white",
            "showbackground": true,
            "ticks": "",
            "zerolinecolor": "white"
           }
          },
          "shapedefaults": {
           "line": {
            "color": "#2a3f5f"
           }
          },
          "ternary": {
           "aaxis": {
            "gridcolor": "white",
            "linecolor": "white",
            "ticks": ""
           },
           "baxis": {
            "gridcolor": "white",
            "linecolor": "white",
            "ticks": ""
           },
           "bgcolor": "#E5ECF6",
           "caxis": {
            "gridcolor": "white",
            "linecolor": "white",
            "ticks": ""
           }
          },
          "title": {
           "x": 0.05
          },
          "xaxis": {
           "automargin": true,
           "gridcolor": "white",
           "linecolor": "white",
           "ticks": "",
           "title": {
            "standoff": 15
           },
           "zerolinecolor": "white",
           "zerolinewidth": 2
          },
          "yaxis": {
           "automargin": true,
           "gridcolor": "white",
           "linecolor": "white",
           "ticks": "",
           "title": {
            "standoff": 15
           },
           "zerolinecolor": "white",
           "zerolinewidth": 2
          }
         }
        },
        "title": {
         "text": "Snuffelfiets activity per day in January 2020"
        },
        "xaxis": {
         "anchor": "y",
         "domain": [
          0,
          1
         ],
         "title": {
          "text": "index"
         }
        },
        "yaxis": {
         "anchor": "x",
         "domain": [
          0,
          1
         ],
         "title": {
          "text": "activity"
         }
        }
       }
      }
     },
     "metadata": {}
    }
   ],
   "source": [
    "gdf[\"date\"] = gdf['recording_time'].dt.date\n",
    "\n",
    "\n",
    "count = Counter([date for date in gdf[\"date\"]])\n",
    "\n",
    "df = pd.DataFrame.from_dict(count, orient='index', columns=[\"activity\"]).reset_index().sort_values(by=['index'])\n",
    "\n",
    "fig = px.line(df, x='index', y='activity', title='Snuffelfiets activity per day in January 2020')\n",
    "fig.show()"
   ]
  },
  {
   "cell_type": "code",
   "execution_count": 79,
   "metadata": {},
   "outputs": [
    {
     "output_type": "display_data",
     "data": {
      "application/vnd.plotly.v1+json": {
       "config": {
        "plotlyServerURL": "https://plot.ly"
       },
       "data": [
        {
         "hovertemplate": "date=%{x}<br>pm2_5=%{y}<extra></extra>",
         "legendgroup": "",
         "marker": {
          "color": "#636efa",
          "symbol": "circle"
         },
         "mode": "markers",
         "name": "",
         "orientation": "v",
         "showlegend": false,
         "type": "scatter",
         "x": [
          "2020-01-01",
          "2020-01-02",
          "2020-01-03",
          "2020-01-04",
          "2020-01-05",
          "2020-01-06",
          "2020-01-07",
          "2020-01-08",
          "2020-01-09",
          "2020-01-10",
          "2020-01-11",
          "2020-01-12",
          "2020-01-13",
          "2020-01-14",
          "2020-01-15",
          "2020-01-16",
          "2020-01-17",
          "2020-01-18",
          "2020-01-19",
          "2020-01-20",
          "2020-01-21",
          "2020-01-22",
          "2020-01-23",
          "2020-01-24",
          "2020-01-25",
          "2020-01-26",
          "2020-01-27",
          "2020-01-28",
          "2020-01-29",
          "2020-01-30"
         ],
         "xaxis": "x",
         "y": [
          32,
          16,
          7,
          3,
          7,
          9,
          10,
          7,
          10,
          2,
          6,
          5,
          7,
          3,
          3,
          8,
          4,
          3,
          6,
          7,
          21,
          28,
          20,
          29,
          26,
          21,
          10,
          1,
          3,
          5
         ],
         "yaxis": "y"
        }
       ],
       "layout": {
        "legend": {
         "tracegroupgap": 0
        },
        "template": {
         "data": {
          "bar": [
           {
            "error_x": {
             "color": "#2a3f5f"
            },
            "error_y": {
             "color": "#2a3f5f"
            },
            "marker": {
             "line": {
              "color": "#E5ECF6",
              "width": 0.5
             }
            },
            "type": "bar"
           }
          ],
          "barpolar": [
           {
            "marker": {
             "line": {
              "color": "#E5ECF6",
              "width": 0.5
             }
            },
            "type": "barpolar"
           }
          ],
          "carpet": [
           {
            "aaxis": {
             "endlinecolor": "#2a3f5f",
             "gridcolor": "white",
             "linecolor": "white",
             "minorgridcolor": "white",
             "startlinecolor": "#2a3f5f"
            },
            "baxis": {
             "endlinecolor": "#2a3f5f",
             "gridcolor": "white",
             "linecolor": "white",
             "minorgridcolor": "white",
             "startlinecolor": "#2a3f5f"
            },
            "type": "carpet"
           }
          ],
          "choropleth": [
           {
            "colorbar": {
             "outlinewidth": 0,
             "ticks": ""
            },
            "type": "choropleth"
           }
          ],
          "contour": [
           {
            "colorbar": {
             "outlinewidth": 0,
             "ticks": ""
            },
            "colorscale": [
             [
              0,
              "#0d0887"
             ],
             [
              0.1111111111111111,
              "#46039f"
             ],
             [
              0.2222222222222222,
              "#7201a8"
             ],
             [
              0.3333333333333333,
              "#9c179e"
             ],
             [
              0.4444444444444444,
              "#bd3786"
             ],
             [
              0.5555555555555556,
              "#d8576b"
             ],
             [
              0.6666666666666666,
              "#ed7953"
             ],
             [
              0.7777777777777778,
              "#fb9f3a"
             ],
             [
              0.8888888888888888,
              "#fdca26"
             ],
             [
              1,
              "#f0f921"
             ]
            ],
            "type": "contour"
           }
          ],
          "contourcarpet": [
           {
            "colorbar": {
             "outlinewidth": 0,
             "ticks": ""
            },
            "type": "contourcarpet"
           }
          ],
          "heatmap": [
           {
            "colorbar": {
             "outlinewidth": 0,
             "ticks": ""
            },
            "colorscale": [
             [
              0,
              "#0d0887"
             ],
             [
              0.1111111111111111,
              "#46039f"
             ],
             [
              0.2222222222222222,
              "#7201a8"
             ],
             [
              0.3333333333333333,
              "#9c179e"
             ],
             [
              0.4444444444444444,
              "#bd3786"
             ],
             [
              0.5555555555555556,
              "#d8576b"
             ],
             [
              0.6666666666666666,
              "#ed7953"
             ],
             [
              0.7777777777777778,
              "#fb9f3a"
             ],
             [
              0.8888888888888888,
              "#fdca26"
             ],
             [
              1,
              "#f0f921"
             ]
            ],
            "type": "heatmap"
           }
          ],
          "heatmapgl": [
           {
            "colorbar": {
             "outlinewidth": 0,
             "ticks": ""
            },
            "colorscale": [
             [
              0,
              "#0d0887"
             ],
             [
              0.1111111111111111,
              "#46039f"
             ],
             [
              0.2222222222222222,
              "#7201a8"
             ],
             [
              0.3333333333333333,
              "#9c179e"
             ],
             [
              0.4444444444444444,
              "#bd3786"
             ],
             [
              0.5555555555555556,
              "#d8576b"
             ],
             [
              0.6666666666666666,
              "#ed7953"
             ],
             [
              0.7777777777777778,
              "#fb9f3a"
             ],
             [
              0.8888888888888888,
              "#fdca26"
             ],
             [
              1,
              "#f0f921"
             ]
            ],
            "type": "heatmapgl"
           }
          ],
          "histogram": [
           {
            "marker": {
             "colorbar": {
              "outlinewidth": 0,
              "ticks": ""
             }
            },
            "type": "histogram"
           }
          ],
          "histogram2d": [
           {
            "colorbar": {
             "outlinewidth": 0,
             "ticks": ""
            },
            "colorscale": [
             [
              0,
              "#0d0887"
             ],
             [
              0.1111111111111111,
              "#46039f"
             ],
             [
              0.2222222222222222,
              "#7201a8"
             ],
             [
              0.3333333333333333,
              "#9c179e"
             ],
             [
              0.4444444444444444,
              "#bd3786"
             ],
             [
              0.5555555555555556,
              "#d8576b"
             ],
             [
              0.6666666666666666,
              "#ed7953"
             ],
             [
              0.7777777777777778,
              "#fb9f3a"
             ],
             [
              0.8888888888888888,
              "#fdca26"
             ],
             [
              1,
              "#f0f921"
             ]
            ],
            "type": "histogram2d"
           }
          ],
          "histogram2dcontour": [
           {
            "colorbar": {
             "outlinewidth": 0,
             "ticks": ""
            },
            "colorscale": [
             [
              0,
              "#0d0887"
             ],
             [
              0.1111111111111111,
              "#46039f"
             ],
             [
              0.2222222222222222,
              "#7201a8"
             ],
             [
              0.3333333333333333,
              "#9c179e"
             ],
             [
              0.4444444444444444,
              "#bd3786"
             ],
             [
              0.5555555555555556,
              "#d8576b"
             ],
             [
              0.6666666666666666,
              "#ed7953"
             ],
             [
              0.7777777777777778,
              "#fb9f3a"
             ],
             [
              0.8888888888888888,
              "#fdca26"
             ],
             [
              1,
              "#f0f921"
             ]
            ],
            "type": "histogram2dcontour"
           }
          ],
          "mesh3d": [
           {
            "colorbar": {
             "outlinewidth": 0,
             "ticks": ""
            },
            "type": "mesh3d"
           }
          ],
          "parcoords": [
           {
            "line": {
             "colorbar": {
              "outlinewidth": 0,
              "ticks": ""
             }
            },
            "type": "parcoords"
           }
          ],
          "pie": [
           {
            "automargin": true,
            "type": "pie"
           }
          ],
          "scatter": [
           {
            "marker": {
             "colorbar": {
              "outlinewidth": 0,
              "ticks": ""
             }
            },
            "type": "scatter"
           }
          ],
          "scatter3d": [
           {
            "line": {
             "colorbar": {
              "outlinewidth": 0,
              "ticks": ""
             }
            },
            "marker": {
             "colorbar": {
              "outlinewidth": 0,
              "ticks": ""
             }
            },
            "type": "scatter3d"
           }
          ],
          "scattercarpet": [
           {
            "marker": {
             "colorbar": {
              "outlinewidth": 0,
              "ticks": ""
             }
            },
            "type": "scattercarpet"
           }
          ],
          "scattergeo": [
           {
            "marker": {
             "colorbar": {
              "outlinewidth": 0,
              "ticks": ""
             }
            },
            "type": "scattergeo"
           }
          ],
          "scattergl": [
           {
            "marker": {
             "colorbar": {
              "outlinewidth": 0,
              "ticks": ""
             }
            },
            "type": "scattergl"
           }
          ],
          "scattermapbox": [
           {
            "marker": {
             "colorbar": {
              "outlinewidth": 0,
              "ticks": ""
             }
            },
            "type": "scattermapbox"
           }
          ],
          "scatterpolar": [
           {
            "marker": {
             "colorbar": {
              "outlinewidth": 0,
              "ticks": ""
             }
            },
            "type": "scatterpolar"
           }
          ],
          "scatterpolargl": [
           {
            "marker": {
             "colorbar": {
              "outlinewidth": 0,
              "ticks": ""
             }
            },
            "type": "scatterpolargl"
           }
          ],
          "scatterternary": [
           {
            "marker": {
             "colorbar": {
              "outlinewidth": 0,
              "ticks": ""
             }
            },
            "type": "scatterternary"
           }
          ],
          "surface": [
           {
            "colorbar": {
             "outlinewidth": 0,
             "ticks": ""
            },
            "colorscale": [
             [
              0,
              "#0d0887"
             ],
             [
              0.1111111111111111,
              "#46039f"
             ],
             [
              0.2222222222222222,
              "#7201a8"
             ],
             [
              0.3333333333333333,
              "#9c179e"
             ],
             [
              0.4444444444444444,
              "#bd3786"
             ],
             [
              0.5555555555555556,
              "#d8576b"
             ],
             [
              0.6666666666666666,
              "#ed7953"
             ],
             [
              0.7777777777777778,
              "#fb9f3a"
             ],
             [
              0.8888888888888888,
              "#fdca26"
             ],
             [
              1,
              "#f0f921"
             ]
            ],
            "type": "surface"
           }
          ],
          "table": [
           {
            "cells": {
             "fill": {
              "color": "#EBF0F8"
             },
             "line": {
              "color": "white"
             }
            },
            "header": {
             "fill": {
              "color": "#C8D4E3"
             },
             "line": {
              "color": "white"
             }
            },
            "type": "table"
           }
          ]
         },
         "layout": {
          "annotationdefaults": {
           "arrowcolor": "#2a3f5f",
           "arrowhead": 0,
           "arrowwidth": 1
          },
          "autotypenumbers": "strict",
          "coloraxis": {
           "colorbar": {
            "outlinewidth": 0,
            "ticks": ""
           }
          },
          "colorscale": {
           "diverging": [
            [
             0,
             "#8e0152"
            ],
            [
             0.1,
             "#c51b7d"
            ],
            [
             0.2,
             "#de77ae"
            ],
            [
             0.3,
             "#f1b6da"
            ],
            [
             0.4,
             "#fde0ef"
            ],
            [
             0.5,
             "#f7f7f7"
            ],
            [
             0.6,
             "#e6f5d0"
            ],
            [
             0.7,
             "#b8e186"
            ],
            [
             0.8,
             "#7fbc41"
            ],
            [
             0.9,
             "#4d9221"
            ],
            [
             1,
             "#276419"
            ]
           ],
           "sequential": [
            [
             0,
             "#0d0887"
            ],
            [
             0.1111111111111111,
             "#46039f"
            ],
            [
             0.2222222222222222,
             "#7201a8"
            ],
            [
             0.3333333333333333,
             "#9c179e"
            ],
            [
             0.4444444444444444,
             "#bd3786"
            ],
            [
             0.5555555555555556,
             "#d8576b"
            ],
            [
             0.6666666666666666,
             "#ed7953"
            ],
            [
             0.7777777777777778,
             "#fb9f3a"
            ],
            [
             0.8888888888888888,
             "#fdca26"
            ],
            [
             1,
             "#f0f921"
            ]
           ],
           "sequentialminus": [
            [
             0,
             "#0d0887"
            ],
            [
             0.1111111111111111,
             "#46039f"
            ],
            [
             0.2222222222222222,
             "#7201a8"
            ],
            [
             0.3333333333333333,
             "#9c179e"
            ],
            [
             0.4444444444444444,
             "#bd3786"
            ],
            [
             0.5555555555555556,
             "#d8576b"
            ],
            [
             0.6666666666666666,
             "#ed7953"
            ],
            [
             0.7777777777777778,
             "#fb9f3a"
            ],
            [
             0.8888888888888888,
             "#fdca26"
            ],
            [
             1,
             "#f0f921"
            ]
           ]
          },
          "colorway": [
           "#636efa",
           "#EF553B",
           "#00cc96",
           "#ab63fa",
           "#FFA15A",
           "#19d3f3",
           "#FF6692",
           "#B6E880",
           "#FF97FF",
           "#FECB52"
          ],
          "font": {
           "color": "#2a3f5f"
          },
          "geo": {
           "bgcolor": "white",
           "lakecolor": "white",
           "landcolor": "#E5ECF6",
           "showlakes": true,
           "showland": true,
           "subunitcolor": "white"
          },
          "hoverlabel": {
           "align": "left"
          },
          "hovermode": "closest",
          "mapbox": {
           "style": "light"
          },
          "paper_bgcolor": "white",
          "plot_bgcolor": "#E5ECF6",
          "polar": {
           "angularaxis": {
            "gridcolor": "white",
            "linecolor": "white",
            "ticks": ""
           },
           "bgcolor": "#E5ECF6",
           "radialaxis": {
            "gridcolor": "white",
            "linecolor": "white",
            "ticks": ""
           }
          },
          "scene": {
           "xaxis": {
            "backgroundcolor": "#E5ECF6",
            "gridcolor": "white",
            "gridwidth": 2,
            "linecolor": "white",
            "showbackground": true,
            "ticks": "",
            "zerolinecolor": "white"
           },
           "yaxis": {
            "backgroundcolor": "#E5ECF6",
            "gridcolor": "white",
            "gridwidth": 2,
            "linecolor": "white",
            "showbackground": true,
            "ticks": "",
            "zerolinecolor": "white"
           },
           "zaxis": {
            "backgroundcolor": "#E5ECF6",
            "gridcolor": "white",
            "gridwidth": 2,
            "linecolor": "white",
            "showbackground": true,
            "ticks": "",
            "zerolinecolor": "white"
           }
          },
          "shapedefaults": {
           "line": {
            "color": "#2a3f5f"
           }
          },
          "ternary": {
           "aaxis": {
            "gridcolor": "white",
            "linecolor": "white",
            "ticks": ""
           },
           "baxis": {
            "gridcolor": "white",
            "linecolor": "white",
            "ticks": ""
           },
           "bgcolor": "#E5ECF6",
           "caxis": {
            "gridcolor": "white",
            "linecolor": "white",
            "ticks": ""
           }
          },
          "title": {
           "x": 0.05
          },
          "xaxis": {
           "automargin": true,
           "gridcolor": "white",
           "linecolor": "white",
           "ticks": "",
           "title": {
            "standoff": 15
           },
           "zerolinecolor": "white",
           "zerolinewidth": 2
          },
          "yaxis": {
           "automargin": true,
           "gridcolor": "white",
           "linecolor": "white",
           "ticks": "",
           "title": {
            "standoff": 15
           },
           "zerolinecolor": "white",
           "zerolinewidth": 2
          }
         }
        },
        "title": {
         "text": "Median PM2.5 concentration per day (ug/m3)"
        },
        "xaxis": {
         "anchor": "y",
         "domain": [
          0,
          1
         ],
         "title": {
          "text": "date"
         }
        },
        "yaxis": {
         "anchor": "x",
         "domain": [
          0,
          1
         ],
         "title": {
          "text": "pm2_5"
         }
        }
       }
      }
     },
     "metadata": {}
    }
   ],
   "source": [
    "mean_pm25_date = gdf[[\"date\", \"pm2_5\"]].groupby(\"date\").median()\n",
    "\n",
    "fig = px.scatter(mean_pm25_date, x=mean_pm25_date.index, y='pm2_5', title='Median PM2.5 concentration per day (ug/m3)')\n",
    "fig.show()"
   ]
  },
  {
   "cell_type": "code",
   "execution_count": 78,
   "metadata": {},
   "outputs": [
    {
     "output_type": "display_data",
     "data": {
      "application/vnd.plotly.v1+json": {
       "config": {
        "plotlyServerURL": "https://plot.ly"
       },
       "data": [
        {
         "hovertemplate": "datetime=%{x}<br>pm2_5=%{y}<extra></extra>",
         "legendgroup": "",
         "marker": {
          "color": "#636efa",
          "symbol": "circle"
         },
         "mode": "markers",
         "name": "",
         "orientation": "v",
         "showlegend": false,
         "type": "scatter",
         "x": [
          "2020-01-01T00:00:00",
          "2020-01-01T01:00:00",
          "2020-01-01T02:00:00",
          "2020-01-01T07:00:00",
          "2020-01-01T08:00:00",
          "2020-01-01T09:00:00",
          "2020-01-01T10:00:00",
          "2020-01-01T11:00:00",
          "2020-01-01T12:00:00",
          "2020-01-01T13:00:00",
          "2020-01-01T14:00:00",
          "2020-01-01T15:00:00",
          "2020-01-01T16:00:00",
          "2020-01-01T17:00:00",
          "2020-01-01T18:00:00",
          "2020-01-01T22:00:00",
          "2020-01-01T23:00:00",
          "2020-01-02T05:00:00",
          "2020-01-02T06:00:00",
          "2020-01-02T07:00:00",
          "2020-01-02T08:00:00",
          "2020-01-02T09:00:00",
          "2020-01-02T10:00:00",
          "2020-01-02T11:00:00",
          "2020-01-02T12:00:00",
          "2020-01-02T13:00:00",
          "2020-01-02T14:00:00",
          "2020-01-02T15:00:00",
          "2020-01-02T16:00:00",
          "2020-01-02T17:00:00",
          "2020-01-02T18:00:00",
          "2020-01-02T19:00:00",
          "2020-01-02T20:00:00",
          "2020-01-02T21:00:00",
          "2020-01-02T22:00:00",
          "2020-01-02T23:00:00",
          "2020-01-03T05:00:00",
          "2020-01-03T06:00:00",
          "2020-01-03T07:00:00",
          "2020-01-03T08:00:00",
          "2020-01-03T09:00:00",
          "2020-01-03T10:00:00",
          "2020-01-03T11:00:00",
          "2020-01-03T12:00:00",
          "2020-01-03T13:00:00",
          "2020-01-03T14:00:00",
          "2020-01-03T15:00:00",
          "2020-01-03T16:00:00",
          "2020-01-03T17:00:00",
          "2020-01-03T18:00:00",
          "2020-01-03T19:00:00",
          "2020-01-03T20:00:00",
          "2020-01-03T21:00:00",
          "2020-01-03T22:00:00",
          "2020-01-03T23:00:00",
          "2020-01-04T05:00:00",
          "2020-01-04T06:00:00",
          "2020-01-04T07:00:00",
          "2020-01-04T08:00:00",
          "2020-01-04T09:00:00",
          "2020-01-04T10:00:00",
          "2020-01-04T11:00:00",
          "2020-01-04T12:00:00",
          "2020-01-04T13:00:00",
          "2020-01-04T14:00:00",
          "2020-01-04T15:00:00",
          "2020-01-04T16:00:00",
          "2020-01-04T17:00:00",
          "2020-01-04T18:00:00",
          "2020-01-04T19:00:00",
          "2020-01-04T20:00:00",
          "2020-01-04T21:00:00",
          "2020-01-04T22:00:00",
          "2020-01-05T06:00:00",
          "2020-01-05T07:00:00",
          "2020-01-05T08:00:00",
          "2020-01-05T09:00:00",
          "2020-01-05T10:00:00",
          "2020-01-05T11:00:00",
          "2020-01-05T12:00:00",
          "2020-01-05T13:00:00",
          "2020-01-05T14:00:00",
          "2020-01-05T15:00:00",
          "2020-01-05T16:00:00",
          "2020-01-05T17:00:00",
          "2020-01-05T18:00:00",
          "2020-01-05T19:00:00",
          "2020-01-05T22:00:00",
          "2020-01-05T23:00:00",
          "2020-01-06T05:00:00",
          "2020-01-06T06:00:00",
          "2020-01-06T07:00:00",
          "2020-01-06T08:00:00",
          "2020-01-06T09:00:00",
          "2020-01-06T10:00:00",
          "2020-01-06T11:00:00",
          "2020-01-06T12:00:00",
          "2020-01-06T13:00:00",
          "2020-01-06T14:00:00",
          "2020-01-06T15:00:00",
          "2020-01-06T16:00:00",
          "2020-01-06T17:00:00",
          "2020-01-06T18:00:00",
          "2020-01-06T19:00:00",
          "2020-01-06T20:00:00",
          "2020-01-06T21:00:00",
          "2020-01-06T22:00:00",
          "2020-01-07T05:00:00",
          "2020-01-07T06:00:00",
          "2020-01-07T07:00:00",
          "2020-01-07T08:00:00",
          "2020-01-07T09:00:00",
          "2020-01-07T10:00:00",
          "2020-01-07T11:00:00",
          "2020-01-07T12:00:00",
          "2020-01-07T13:00:00",
          "2020-01-07T14:00:00",
          "2020-01-07T15:00:00",
          "2020-01-07T16:00:00",
          "2020-01-07T17:00:00",
          "2020-01-07T18:00:00",
          "2020-01-07T19:00:00",
          "2020-01-07T20:00:00",
          "2020-01-07T21:00:00",
          "2020-01-07T22:00:00",
          "2020-01-07T23:00:00",
          "2020-01-08T00:00:00",
          "2020-01-08T06:00:00",
          "2020-01-08T07:00:00",
          "2020-01-08T08:00:00",
          "2020-01-08T09:00:00",
          "2020-01-08T10:00:00",
          "2020-01-08T11:00:00",
          "2020-01-08T12:00:00",
          "2020-01-08T13:00:00",
          "2020-01-08T14:00:00",
          "2020-01-08T15:00:00",
          "2020-01-08T16:00:00",
          "2020-01-08T17:00:00",
          "2020-01-08T18:00:00",
          "2020-01-08T19:00:00",
          "2020-01-08T20:00:00",
          "2020-01-08T21:00:00",
          "2020-01-08T22:00:00",
          "2020-01-08T23:00:00",
          "2020-01-09T06:00:00",
          "2020-01-09T07:00:00",
          "2020-01-09T08:00:00",
          "2020-01-09T09:00:00",
          "2020-01-09T10:00:00",
          "2020-01-09T11:00:00",
          "2020-01-09T12:00:00",
          "2020-01-09T13:00:00",
          "2020-01-09T14:00:00",
          "2020-01-09T15:00:00",
          "2020-01-09T16:00:00",
          "2020-01-09T17:00:00",
          "2020-01-09T18:00:00",
          "2020-01-09T19:00:00",
          "2020-01-09T20:00:00",
          "2020-01-09T21:00:00",
          "2020-01-09T22:00:00",
          "2020-01-10T06:00:00",
          "2020-01-10T07:00:00",
          "2020-01-10T08:00:00",
          "2020-01-10T09:00:00",
          "2020-01-10T10:00:00",
          "2020-01-10T11:00:00",
          "2020-01-10T12:00:00",
          "2020-01-10T13:00:00",
          "2020-01-10T14:00:00",
          "2020-01-10T15:00:00",
          "2020-01-10T16:00:00",
          "2020-01-10T17:00:00",
          "2020-01-10T18:00:00",
          "2020-01-10T19:00:00",
          "2020-01-10T21:00:00",
          "2020-01-10T22:00:00",
          "2020-01-10T23:00:00",
          "2020-01-11T07:00:00",
          "2020-01-11T08:00:00",
          "2020-01-11T09:00:00",
          "2020-01-11T10:00:00",
          "2020-01-11T11:00:00",
          "2020-01-11T12:00:00",
          "2020-01-11T13:00:00",
          "2020-01-11T14:00:00",
          "2020-01-11T15:00:00",
          "2020-01-11T16:00:00",
          "2020-01-11T17:00:00",
          "2020-01-11T18:00:00",
          "2020-01-11T19:00:00",
          "2020-01-11T20:00:00",
          "2020-01-11T21:00:00",
          "2020-01-11T22:00:00",
          "2020-01-12T00:00:00",
          "2020-01-12T08:00:00",
          "2020-01-12T09:00:00",
          "2020-01-12T10:00:00",
          "2020-01-12T11:00:00",
          "2020-01-12T12:00:00",
          "2020-01-12T13:00:00",
          "2020-01-12T14:00:00",
          "2020-01-12T15:00:00",
          "2020-01-12T16:00:00",
          "2020-01-12T17:00:00",
          "2020-01-12T18:00:00",
          "2020-01-12T19:00:00",
          "2020-01-12T20:00:00",
          "2020-01-12T21:00:00",
          "2020-01-12T22:00:00",
          "2020-01-12T23:00:00",
          "2020-01-13T06:00:00",
          "2020-01-13T07:00:00",
          "2020-01-13T08:00:00",
          "2020-01-13T09:00:00",
          "2020-01-13T10:00:00",
          "2020-01-13T11:00:00",
          "2020-01-13T12:00:00",
          "2020-01-13T13:00:00",
          "2020-01-13T14:00:00",
          "2020-01-13T15:00:00",
          "2020-01-13T16:00:00",
          "2020-01-13T17:00:00",
          "2020-01-13T18:00:00",
          "2020-01-13T19:00:00",
          "2020-01-13T20:00:00",
          "2020-01-13T21:00:00",
          "2020-01-13T22:00:00",
          "2020-01-13T23:00:00",
          "2020-01-14T06:00:00",
          "2020-01-14T07:00:00",
          "2020-01-14T08:00:00",
          "2020-01-14T09:00:00",
          "2020-01-14T10:00:00",
          "2020-01-14T11:00:00",
          "2020-01-14T12:00:00",
          "2020-01-14T13:00:00",
          "2020-01-14T14:00:00",
          "2020-01-14T15:00:00",
          "2020-01-14T16:00:00",
          "2020-01-14T17:00:00",
          "2020-01-14T18:00:00",
          "2020-01-14T19:00:00",
          "2020-01-14T20:00:00",
          "2020-01-14T21:00:00",
          "2020-01-14T23:00:00",
          "2020-01-15T06:00:00",
          "2020-01-15T07:00:00",
          "2020-01-15T08:00:00",
          "2020-01-15T09:00:00",
          "2020-01-15T10:00:00",
          "2020-01-15T11:00:00",
          "2020-01-15T12:00:00",
          "2020-01-15T13:00:00",
          "2020-01-15T14:00:00",
          "2020-01-15T15:00:00",
          "2020-01-15T16:00:00",
          "2020-01-15T17:00:00",
          "2020-01-15T18:00:00",
          "2020-01-15T19:00:00",
          "2020-01-15T20:00:00",
          "2020-01-15T21:00:00",
          "2020-01-15T22:00:00",
          "2020-01-15T23:00:00",
          "2020-01-16T06:00:00",
          "2020-01-16T07:00:00",
          "2020-01-16T08:00:00",
          "2020-01-16T09:00:00",
          "2020-01-16T10:00:00",
          "2020-01-16T11:00:00",
          "2020-01-16T12:00:00",
          "2020-01-16T13:00:00",
          "2020-01-16T14:00:00",
          "2020-01-16T15:00:00",
          "2020-01-16T16:00:00",
          "2020-01-16T17:00:00",
          "2020-01-16T18:00:00",
          "2020-01-16T19:00:00",
          "2020-01-16T20:00:00",
          "2020-01-16T21:00:00",
          "2020-01-16T22:00:00",
          "2020-01-16T23:00:00",
          "2020-01-17T00:00:00",
          "2020-01-17T06:00:00",
          "2020-01-17T07:00:00",
          "2020-01-17T08:00:00",
          "2020-01-17T09:00:00",
          "2020-01-17T10:00:00",
          "2020-01-17T11:00:00",
          "2020-01-17T12:00:00",
          "2020-01-17T13:00:00",
          "2020-01-17T14:00:00",
          "2020-01-17T15:00:00",
          "2020-01-17T16:00:00",
          "2020-01-17T17:00:00",
          "2020-01-17T18:00:00",
          "2020-01-17T19:00:00",
          "2020-01-17T20:00:00",
          "2020-01-17T21:00:00",
          "2020-01-17T22:00:00",
          "2020-01-17T23:00:00",
          "2020-01-18T00:00:00",
          "2020-01-18T01:00:00",
          "2020-01-18T07:00:00",
          "2020-01-18T08:00:00",
          "2020-01-18T09:00:00",
          "2020-01-18T10:00:00",
          "2020-01-18T11:00:00",
          "2020-01-18T12:00:00",
          "2020-01-18T13:00:00",
          "2020-01-18T14:00:00",
          "2020-01-18T15:00:00",
          "2020-01-18T16:00:00",
          "2020-01-18T17:00:00",
          "2020-01-18T18:00:00",
          "2020-01-18T19:00:00",
          "2020-01-18T20:00:00",
          "2020-01-18T21:00:00",
          "2020-01-18T22:00:00",
          "2020-01-18T23:00:00",
          "2020-01-19T08:00:00",
          "2020-01-19T09:00:00",
          "2020-01-19T10:00:00",
          "2020-01-19T11:00:00",
          "2020-01-19T12:00:00",
          "2020-01-19T13:00:00",
          "2020-01-19T14:00:00",
          "2020-01-19T15:00:00",
          "2020-01-19T16:00:00",
          "2020-01-19T17:00:00",
          "2020-01-19T18:00:00",
          "2020-01-19T19:00:00",
          "2020-01-19T21:00:00",
          "2020-01-20T06:00:00",
          "2020-01-20T07:00:00",
          "2020-01-20T08:00:00",
          "2020-01-20T09:00:00",
          "2020-01-20T10:00:00",
          "2020-01-20T11:00:00",
          "2020-01-20T12:00:00",
          "2020-01-20T13:00:00",
          "2020-01-20T14:00:00",
          "2020-01-20T15:00:00",
          "2020-01-20T16:00:00",
          "2020-01-20T17:00:00",
          "2020-01-20T18:00:00",
          "2020-01-20T19:00:00",
          "2020-01-20T20:00:00",
          "2020-01-20T21:00:00",
          "2020-01-20T22:00:00",
          "2020-01-21T00:00:00",
          "2020-01-21T01:00:00",
          "2020-01-21T06:00:00",
          "2020-01-21T07:00:00",
          "2020-01-21T08:00:00",
          "2020-01-21T09:00:00",
          "2020-01-21T10:00:00",
          "2020-01-21T11:00:00",
          "2020-01-21T12:00:00",
          "2020-01-21T13:00:00",
          "2020-01-21T14:00:00",
          "2020-01-21T15:00:00",
          "2020-01-21T16:00:00",
          "2020-01-21T17:00:00",
          "2020-01-21T18:00:00",
          "2020-01-21T19:00:00",
          "2020-01-21T20:00:00",
          "2020-01-21T21:00:00",
          "2020-01-21T22:00:00",
          "2020-01-22T06:00:00",
          "2020-01-22T07:00:00",
          "2020-01-22T08:00:00",
          "2020-01-22T09:00:00",
          "2020-01-22T10:00:00",
          "2020-01-22T11:00:00",
          "2020-01-22T12:00:00",
          "2020-01-22T13:00:00",
          "2020-01-22T14:00:00",
          "2020-01-22T15:00:00",
          "2020-01-22T16:00:00",
          "2020-01-22T17:00:00",
          "2020-01-22T18:00:00",
          "2020-01-22T19:00:00",
          "2020-01-22T20:00:00",
          "2020-01-22T21:00:00",
          "2020-01-22T22:00:00",
          "2020-01-22T23:00:00",
          "2020-01-23T05:00:00",
          "2020-01-23T06:00:00",
          "2020-01-23T07:00:00",
          "2020-01-23T08:00:00",
          "2020-01-23T09:00:00",
          "2020-01-23T10:00:00",
          "2020-01-23T11:00:00",
          "2020-01-23T12:00:00",
          "2020-01-23T13:00:00",
          "2020-01-23T14:00:00",
          "2020-01-23T15:00:00",
          "2020-01-23T16:00:00",
          "2020-01-23T17:00:00",
          "2020-01-23T18:00:00",
          "2020-01-23T19:00:00",
          "2020-01-23T20:00:00",
          "2020-01-23T21:00:00",
          "2020-01-23T22:00:00",
          "2020-01-23T23:00:00",
          "2020-01-24T00:00:00",
          "2020-01-24T06:00:00",
          "2020-01-24T07:00:00",
          "2020-01-24T08:00:00",
          "2020-01-24T09:00:00",
          "2020-01-24T10:00:00",
          "2020-01-24T11:00:00",
          "2020-01-24T12:00:00",
          "2020-01-24T13:00:00",
          "2020-01-24T14:00:00",
          "2020-01-24T15:00:00",
          "2020-01-24T16:00:00",
          "2020-01-24T17:00:00",
          "2020-01-24T18:00:00",
          "2020-01-24T19:00:00",
          "2020-01-24T20:00:00",
          "2020-01-24T21:00:00",
          "2020-01-24T22:00:00",
          "2020-01-24T23:00:00",
          "2020-01-25T00:00:00",
          "2020-01-25T07:00:00",
          "2020-01-25T08:00:00",
          "2020-01-25T09:00:00",
          "2020-01-25T10:00:00",
          "2020-01-25T11:00:00",
          "2020-01-25T12:00:00",
          "2020-01-25T13:00:00",
          "2020-01-25T14:00:00",
          "2020-01-25T15:00:00",
          "2020-01-25T16:00:00",
          "2020-01-25T17:00:00",
          "2020-01-25T18:00:00",
          "2020-01-25T19:00:00",
          "2020-01-25T20:00:00",
          "2020-01-25T21:00:00",
          "2020-01-25T22:00:00",
          "2020-01-26T00:00:00",
          "2020-01-26T01:00:00",
          "2020-01-26T09:00:00",
          "2020-01-26T10:00:00",
          "2020-01-26T11:00:00",
          "2020-01-26T12:00:00",
          "2020-01-26T13:00:00",
          "2020-01-26T14:00:00",
          "2020-01-26T15:00:00",
          "2020-01-26T16:00:00",
          "2020-01-26T17:00:00",
          "2020-01-26T18:00:00",
          "2020-01-26T19:00:00",
          "2020-01-26T20:00:00",
          "2020-01-26T21:00:00",
          "2020-01-26T23:00:00",
          "2020-01-27T06:00:00",
          "2020-01-27T07:00:00",
          "2020-01-27T08:00:00",
          "2020-01-27T09:00:00",
          "2020-01-27T10:00:00",
          "2020-01-27T11:00:00",
          "2020-01-27T12:00:00",
          "2020-01-27T13:00:00",
          "2020-01-27T14:00:00",
          "2020-01-27T15:00:00",
          "2020-01-27T16:00:00",
          "2020-01-27T17:00:00",
          "2020-01-27T18:00:00",
          "2020-01-27T19:00:00",
          "2020-01-27T20:00:00",
          "2020-01-27T21:00:00",
          "2020-01-27T22:00:00",
          "2020-01-28T06:00:00",
          "2020-01-28T07:00:00",
          "2020-01-28T08:00:00",
          "2020-01-28T09:00:00",
          "2020-01-28T10:00:00",
          "2020-01-28T11:00:00",
          "2020-01-28T12:00:00",
          "2020-01-28T13:00:00",
          "2020-01-28T14:00:00",
          "2020-01-28T15:00:00",
          "2020-01-28T16:00:00",
          "2020-01-28T17:00:00",
          "2020-01-28T18:00:00",
          "2020-01-28T19:00:00",
          "2020-01-28T20:00:00",
          "2020-01-28T21:00:00",
          "2020-01-28T22:00:00",
          "2020-01-28T23:00:00",
          "2020-01-29T05:00:00",
          "2020-01-29T06:00:00",
          "2020-01-29T07:00:00",
          "2020-01-29T08:00:00",
          "2020-01-29T09:00:00",
          "2020-01-29T10:00:00",
          "2020-01-29T11:00:00",
          "2020-01-29T12:00:00",
          "2020-01-29T13:00:00",
          "2020-01-29T14:00:00",
          "2020-01-29T15:00:00",
          "2020-01-29T16:00:00",
          "2020-01-29T17:00:00",
          "2020-01-29T18:00:00",
          "2020-01-29T19:00:00",
          "2020-01-29T20:00:00",
          "2020-01-29T21:00:00",
          "2020-01-29T22:00:00",
          "2020-01-30T00:00:00",
          "2020-01-30T06:00:00",
          "2020-01-30T07:00:00",
          "2020-01-30T08:00:00",
          "2020-01-30T09:00:00",
          "2020-01-30T10:00:00",
          "2020-01-30T11:00:00",
          "2020-01-30T12:00:00",
          "2020-01-30T13:00:00",
          "2020-01-30T14:00:00",
          "2020-01-30T15:00:00",
          "2020-01-30T16:00:00",
          "2020-01-30T17:00:00",
          "2020-01-30T18:00:00",
          "2020-01-30T19:00:00",
          "2020-01-30T20:00:00",
          "2020-01-30T21:00:00",
          "2020-01-30T22:00:00",
          "2020-01-30T23:00:00"
         ],
         "xaxis": "x",
         "y": [
          131,
          129,
          82,
          45,
          45,
          28,
          25,
          34,
          33,
          26,
          26,
          26,
          27,
          22,
          21,
          46,
          46,
          14,
          16,
          19,
          21,
          20,
          17,
          19,
          21,
          20,
          19,
          15,
          13,
          14,
          14,
          11,
          9,
          9,
          11.5,
          12,
          13,
          10,
          10,
          8,
          7,
          9,
          6,
          6,
          2,
          2,
          1,
          4,
          5,
          6,
          7,
          6,
          6,
          1,
          1,
          3,
          4,
          5,
          4,
          3,
          3,
          3,
          3,
          3,
          3,
          3,
          4,
          4,
          4,
          4,
          4,
          4,
          5,
          7,
          7,
          18,
          16,
          16,
          14,
          9,
          4,
          8,
          8,
          2,
          3,
          3,
          2,
          5.5,
          7,
          16,
          18,
          17,
          14,
          11,
          6,
          6,
          5,
          5,
          5,
          7,
          7,
          7,
          8,
          8,
          6,
          9,
          9,
          14,
          12,
          9,
          9,
          7,
          7,
          11,
          12,
          31,
          24,
          20,
          14,
          9,
          8,
          8,
          7,
          7,
          7,
          13,
          13,
          10,
          12,
          6,
          10,
          7,
          6,
          7,
          6,
          6,
          7,
          6,
          6,
          7,
          8,
          11,
          16,
          15,
          8,
          15,
          17,
          14,
          11,
          9,
          8,
          7,
          6,
          6,
          5,
          7,
          8,
          7,
          8,
          12,
          14,
          8,
          4,
          5,
          6,
          4,
          1,
          1,
          1,
          1,
          1,
          1,
          1,
          2,
          2,
          2,
          6,
          7,
          5,
          12,
          9,
          7,
          9,
          8,
          6,
          6,
          6,
          6,
          6,
          6,
          5,
          5,
          7,
          5,
          5,
          8,
          4,
          4,
          6,
          9,
          9,
          9,
          8,
          6,
          4,
          4,
          4,
          2,
          1,
          3,
          2,
          5,
          7,
          8,
          16,
          22,
          17,
          11,
          10,
          11,
          11,
          6,
          4,
          3,
          2,
          5,
          5,
          4,
          3,
          3,
          3,
          3,
          4,
          3,
          2,
          8,
          9,
          4,
          4,
          3,
          2,
          2,
          2,
          3,
          2,
          3,
          4,
          2,
          3,
          3,
          3,
          3,
          3,
          3,
          3,
          3,
          4,
          1,
          1,
          2,
          2,
          2,
          7,
          9,
          8,
          14,
          13,
          11,
          10,
          9,
          9,
          7,
          8,
          9,
          7,
          6,
          5,
          4,
          5,
          5,
          6,
          8,
          7,
          6,
          3,
          4,
          5,
          5,
          5,
          6,
          7,
          9,
          11,
          7,
          2,
          2,
          2,
          1,
          1,
          1,
          1,
          1,
          1,
          2,
          1,
          2,
          5,
          4,
          4,
          3,
          3,
          3,
          3,
          1,
          1,
          3,
          1,
          3,
          3,
          5.5,
          4,
          3,
          5,
          6,
          4,
          6,
          6,
          5,
          6,
          6,
          6,
          6,
          6,
          7,
          6,
          8,
          8,
          8.5,
          5,
          4,
          4,
          5,
          7,
          7,
          6,
          6,
          6,
          7,
          16,
          25,
          15,
          25,
          23,
          15,
          14,
          14,
          15,
          16,
          13,
          15,
          18,
          29,
          35,
          33,
          30,
          26,
          30,
          23,
          27,
          14,
          19,
          27,
          22,
          25,
          21,
          25,
          28,
          26,
          32,
          42,
          44,
          34,
          33,
          33,
          31,
          15,
          29,
          26,
          20.5,
          12,
          17,
          16,
          18,
          16,
          22,
          15,
          12,
          12,
          17,
          21,
          28,
          33,
          29,
          30,
          28,
          35,
          27,
          38,
          37,
          47,
          28,
          23,
          26,
          26,
          31,
          27,
          32,
          32,
          31,
          30,
          25,
          24,
          41,
          24,
          21.5,
          37,
          36,
          13,
          13,
          13,
          17,
          17,
          18,
          16,
          31,
          38,
          39,
          36,
          44,
          48,
          54,
          53,
          37,
          42,
          21,
          15.5,
          20,
          20,
          22,
          23,
          21,
          18,
          20,
          17,
          19,
          22,
          21,
          21,
          24,
          13,
          14,
          14,
          13,
          8,
          9,
          7,
          10,
          9,
          8,
          6,
          7,
          7,
          6,
          5,
          11,
          9,
          4,
          3,
          1,
          1,
          1,
          2,
          1,
          2,
          1,
          1,
          2,
          2,
          2,
          2,
          2,
          2,
          1,
          2,
          2,
          3,
          2,
          2,
          3,
          4,
          4,
          4,
          3,
          3,
          3,
          3,
          3,
          3,
          4,
          4,
          4,
          3,
          3,
          3,
          4,
          4,
          4,
          5,
          4,
          4,
          6,
          8,
          4,
          4,
          7,
          9,
          11,
          7,
          6,
          5,
          7
         ],
         "yaxis": "y"
        }
       ],
       "layout": {
        "legend": {
         "tracegroupgap": 0
        },
        "template": {
         "data": {
          "bar": [
           {
            "error_x": {
             "color": "#2a3f5f"
            },
            "error_y": {
             "color": "#2a3f5f"
            },
            "marker": {
             "line": {
              "color": "#E5ECF6",
              "width": 0.5
             }
            },
            "type": "bar"
           }
          ],
          "barpolar": [
           {
            "marker": {
             "line": {
              "color": "#E5ECF6",
              "width": 0.5
             }
            },
            "type": "barpolar"
           }
          ],
          "carpet": [
           {
            "aaxis": {
             "endlinecolor": "#2a3f5f",
             "gridcolor": "white",
             "linecolor": "white",
             "minorgridcolor": "white",
             "startlinecolor": "#2a3f5f"
            },
            "baxis": {
             "endlinecolor": "#2a3f5f",
             "gridcolor": "white",
             "linecolor": "white",
             "minorgridcolor": "white",
             "startlinecolor": "#2a3f5f"
            },
            "type": "carpet"
           }
          ],
          "choropleth": [
           {
            "colorbar": {
             "outlinewidth": 0,
             "ticks": ""
            },
            "type": "choropleth"
           }
          ],
          "contour": [
           {
            "colorbar": {
             "outlinewidth": 0,
             "ticks": ""
            },
            "colorscale": [
             [
              0,
              "#0d0887"
             ],
             [
              0.1111111111111111,
              "#46039f"
             ],
             [
              0.2222222222222222,
              "#7201a8"
             ],
             [
              0.3333333333333333,
              "#9c179e"
             ],
             [
              0.4444444444444444,
              "#bd3786"
             ],
             [
              0.5555555555555556,
              "#d8576b"
             ],
             [
              0.6666666666666666,
              "#ed7953"
             ],
             [
              0.7777777777777778,
              "#fb9f3a"
             ],
             [
              0.8888888888888888,
              "#fdca26"
             ],
             [
              1,
              "#f0f921"
             ]
            ],
            "type": "contour"
           }
          ],
          "contourcarpet": [
           {
            "colorbar": {
             "outlinewidth": 0,
             "ticks": ""
            },
            "type": "contourcarpet"
           }
          ],
          "heatmap": [
           {
            "colorbar": {
             "outlinewidth": 0,
             "ticks": ""
            },
            "colorscale": [
             [
              0,
              "#0d0887"
             ],
             [
              0.1111111111111111,
              "#46039f"
             ],
             [
              0.2222222222222222,
              "#7201a8"
             ],
             [
              0.3333333333333333,
              "#9c179e"
             ],
             [
              0.4444444444444444,
              "#bd3786"
             ],
             [
              0.5555555555555556,
              "#d8576b"
             ],
             [
              0.6666666666666666,
              "#ed7953"
             ],
             [
              0.7777777777777778,
              "#fb9f3a"
             ],
             [
              0.8888888888888888,
              "#fdca26"
             ],
             [
              1,
              "#f0f921"
             ]
            ],
            "type": "heatmap"
           }
          ],
          "heatmapgl": [
           {
            "colorbar": {
             "outlinewidth": 0,
             "ticks": ""
            },
            "colorscale": [
             [
              0,
              "#0d0887"
             ],
             [
              0.1111111111111111,
              "#46039f"
             ],
             [
              0.2222222222222222,
              "#7201a8"
             ],
             [
              0.3333333333333333,
              "#9c179e"
             ],
             [
              0.4444444444444444,
              "#bd3786"
             ],
             [
              0.5555555555555556,
              "#d8576b"
             ],
             [
              0.6666666666666666,
              "#ed7953"
             ],
             [
              0.7777777777777778,
              "#fb9f3a"
             ],
             [
              0.8888888888888888,
              "#fdca26"
             ],
             [
              1,
              "#f0f921"
             ]
            ],
            "type": "heatmapgl"
           }
          ],
          "histogram": [
           {
            "marker": {
             "colorbar": {
              "outlinewidth": 0,
              "ticks": ""
             }
            },
            "type": "histogram"
           }
          ],
          "histogram2d": [
           {
            "colorbar": {
             "outlinewidth": 0,
             "ticks": ""
            },
            "colorscale": [
             [
              0,
              "#0d0887"
             ],
             [
              0.1111111111111111,
              "#46039f"
             ],
             [
              0.2222222222222222,
              "#7201a8"
             ],
             [
              0.3333333333333333,
              "#9c179e"
             ],
             [
              0.4444444444444444,
              "#bd3786"
             ],
             [
              0.5555555555555556,
              "#d8576b"
             ],
             [
              0.6666666666666666,
              "#ed7953"
             ],
             [
              0.7777777777777778,
              "#fb9f3a"
             ],
             [
              0.8888888888888888,
              "#fdca26"
             ],
             [
              1,
              "#f0f921"
             ]
            ],
            "type": "histogram2d"
           }
          ],
          "histogram2dcontour": [
           {
            "colorbar": {
             "outlinewidth": 0,
             "ticks": ""
            },
            "colorscale": [
             [
              0,
              "#0d0887"
             ],
             [
              0.1111111111111111,
              "#46039f"
             ],
             [
              0.2222222222222222,
              "#7201a8"
             ],
             [
              0.3333333333333333,
              "#9c179e"
             ],
             [
              0.4444444444444444,
              "#bd3786"
             ],
             [
              0.5555555555555556,
              "#d8576b"
             ],
             [
              0.6666666666666666,
              "#ed7953"
             ],
             [
              0.7777777777777778,
              "#fb9f3a"
             ],
             [
              0.8888888888888888,
              "#fdca26"
             ],
             [
              1,
              "#f0f921"
             ]
            ],
            "type": "histogram2dcontour"
           }
          ],
          "mesh3d": [
           {
            "colorbar": {
             "outlinewidth": 0,
             "ticks": ""
            },
            "type": "mesh3d"
           }
          ],
          "parcoords": [
           {
            "line": {
             "colorbar": {
              "outlinewidth": 0,
              "ticks": ""
             }
            },
            "type": "parcoords"
           }
          ],
          "pie": [
           {
            "automargin": true,
            "type": "pie"
           }
          ],
          "scatter": [
           {
            "marker": {
             "colorbar": {
              "outlinewidth": 0,
              "ticks": ""
             }
            },
            "type": "scatter"
           }
          ],
          "scatter3d": [
           {
            "line": {
             "colorbar": {
              "outlinewidth": 0,
              "ticks": ""
             }
            },
            "marker": {
             "colorbar": {
              "outlinewidth": 0,
              "ticks": ""
             }
            },
            "type": "scatter3d"
           }
          ],
          "scattercarpet": [
           {
            "marker": {
             "colorbar": {
              "outlinewidth": 0,
              "ticks": ""
             }
            },
            "type": "scattercarpet"
           }
          ],
          "scattergeo": [
           {
            "marker": {
             "colorbar": {
              "outlinewidth": 0,
              "ticks": ""
             }
            },
            "type": "scattergeo"
           }
          ],
          "scattergl": [
           {
            "marker": {
             "colorbar": {
              "outlinewidth": 0,
              "ticks": ""
             }
            },
            "type": "scattergl"
           }
          ],
          "scattermapbox": [
           {
            "marker": {
             "colorbar": {
              "outlinewidth": 0,
              "ticks": ""
             }
            },
            "type": "scattermapbox"
           }
          ],
          "scatterpolar": [
           {
            "marker": {
             "colorbar": {
              "outlinewidth": 0,
              "ticks": ""
             }
            },
            "type": "scatterpolar"
           }
          ],
          "scatterpolargl": [
           {
            "marker": {
             "colorbar": {
              "outlinewidth": 0,
              "ticks": ""
             }
            },
            "type": "scatterpolargl"
           }
          ],
          "scatterternary": [
           {
            "marker": {
             "colorbar": {
              "outlinewidth": 0,
              "ticks": ""
             }
            },
            "type": "scatterternary"
           }
          ],
          "surface": [
           {
            "colorbar": {
             "outlinewidth": 0,
             "ticks": ""
            },
            "colorscale": [
             [
              0,
              "#0d0887"
             ],
             [
              0.1111111111111111,
              "#46039f"
             ],
             [
              0.2222222222222222,
              "#7201a8"
             ],
             [
              0.3333333333333333,
              "#9c179e"
             ],
             [
              0.4444444444444444,
              "#bd3786"
             ],
             [
              0.5555555555555556,
              "#d8576b"
             ],
             [
              0.6666666666666666,
              "#ed7953"
             ],
             [
              0.7777777777777778,
              "#fb9f3a"
             ],
             [
              0.8888888888888888,
              "#fdca26"
             ],
             [
              1,
              "#f0f921"
             ]
            ],
            "type": "surface"
           }
          ],
          "table": [
           {
            "cells": {
             "fill": {
              "color": "#EBF0F8"
             },
             "line": {
              "color": "white"
             }
            },
            "header": {
             "fill": {
              "color": "#C8D4E3"
             },
             "line": {
              "color": "white"
             }
            },
            "type": "table"
           }
          ]
         },
         "layout": {
          "annotationdefaults": {
           "arrowcolor": "#2a3f5f",
           "arrowhead": 0,
           "arrowwidth": 1
          },
          "autotypenumbers": "strict",
          "coloraxis": {
           "colorbar": {
            "outlinewidth": 0,
            "ticks": ""
           }
          },
          "colorscale": {
           "diverging": [
            [
             0,
             "#8e0152"
            ],
            [
             0.1,
             "#c51b7d"
            ],
            [
             0.2,
             "#de77ae"
            ],
            [
             0.3,
             "#f1b6da"
            ],
            [
             0.4,
             "#fde0ef"
            ],
            [
             0.5,
             "#f7f7f7"
            ],
            [
             0.6,
             "#e6f5d0"
            ],
            [
             0.7,
             "#b8e186"
            ],
            [
             0.8,
             "#7fbc41"
            ],
            [
             0.9,
             "#4d9221"
            ],
            [
             1,
             "#276419"
            ]
           ],
           "sequential": [
            [
             0,
             "#0d0887"
            ],
            [
             0.1111111111111111,
             "#46039f"
            ],
            [
             0.2222222222222222,
             "#7201a8"
            ],
            [
             0.3333333333333333,
             "#9c179e"
            ],
            [
             0.4444444444444444,
             "#bd3786"
            ],
            [
             0.5555555555555556,
             "#d8576b"
            ],
            [
             0.6666666666666666,
             "#ed7953"
            ],
            [
             0.7777777777777778,
             "#fb9f3a"
            ],
            [
             0.8888888888888888,
             "#fdca26"
            ],
            [
             1,
             "#f0f921"
            ]
           ],
           "sequentialminus": [
            [
             0,
             "#0d0887"
            ],
            [
             0.1111111111111111,
             "#46039f"
            ],
            [
             0.2222222222222222,
             "#7201a8"
            ],
            [
             0.3333333333333333,
             "#9c179e"
            ],
            [
             0.4444444444444444,
             "#bd3786"
            ],
            [
             0.5555555555555556,
             "#d8576b"
            ],
            [
             0.6666666666666666,
             "#ed7953"
            ],
            [
             0.7777777777777778,
             "#fb9f3a"
            ],
            [
             0.8888888888888888,
             "#fdca26"
            ],
            [
             1,
             "#f0f921"
            ]
           ]
          },
          "colorway": [
           "#636efa",
           "#EF553B",
           "#00cc96",
           "#ab63fa",
           "#FFA15A",
           "#19d3f3",
           "#FF6692",
           "#B6E880",
           "#FF97FF",
           "#FECB52"
          ],
          "font": {
           "color": "#2a3f5f"
          },
          "geo": {
           "bgcolor": "white",
           "lakecolor": "white",
           "landcolor": "#E5ECF6",
           "showlakes": true,
           "showland": true,
           "subunitcolor": "white"
          },
          "hoverlabel": {
           "align": "left"
          },
          "hovermode": "closest",
          "mapbox": {
           "style": "light"
          },
          "paper_bgcolor": "white",
          "plot_bgcolor": "#E5ECF6",
          "polar": {
           "angularaxis": {
            "gridcolor": "white",
            "linecolor": "white",
            "ticks": ""
           },
           "bgcolor": "#E5ECF6",
           "radialaxis": {
            "gridcolor": "white",
            "linecolor": "white",
            "ticks": ""
           }
          },
          "scene": {
           "xaxis": {
            "backgroundcolor": "#E5ECF6",
            "gridcolor": "white",
            "gridwidth": 2,
            "linecolor": "white",
            "showbackground": true,
            "ticks": "",
            "zerolinecolor": "white"
           },
           "yaxis": {
            "backgroundcolor": "#E5ECF6",
            "gridcolor": "white",
            "gridwidth": 2,
            "linecolor": "white",
            "showbackground": true,
            "ticks": "",
            "zerolinecolor": "white"
           },
           "zaxis": {
            "backgroundcolor": "#E5ECF6",
            "gridcolor": "white",
            "gridwidth": 2,
            "linecolor": "white",
            "showbackground": true,
            "ticks": "",
            "zerolinecolor": "white"
           }
          },
          "shapedefaults": {
           "line": {
            "color": "#2a3f5f"
           }
          },
          "ternary": {
           "aaxis": {
            "gridcolor": "white",
            "linecolor": "white",
            "ticks": ""
           },
           "baxis": {
            "gridcolor": "white",
            "linecolor": "white",
            "ticks": ""
           },
           "bgcolor": "#E5ECF6",
           "caxis": {
            "gridcolor": "white",
            "linecolor": "white",
            "ticks": ""
           }
          },
          "title": {
           "x": 0.05
          },
          "xaxis": {
           "automargin": true,
           "gridcolor": "white",
           "linecolor": "white",
           "ticks": "",
           "title": {
            "standoff": 15
           },
           "zerolinecolor": "white",
           "zerolinewidth": 2
          },
          "yaxis": {
           "automargin": true,
           "gridcolor": "white",
           "linecolor": "white",
           "ticks": "",
           "title": {
            "standoff": 15
           },
           "zerolinecolor": "white",
           "zerolinewidth": 2
          }
         }
        },
        "title": {
         "text": "Median PM2.5 concentration per hour in January (ug/m3)"
        },
        "xaxis": {
         "anchor": "y",
         "domain": [
          0,
          1
         ],
         "title": {
          "text": "datetime"
         }
        },
        "yaxis": {
         "anchor": "x",
         "domain": [
          0,
          1
         ],
         "title": {
          "text": "pm2_5"
         }
        }
       }
      }
     },
     "metadata": {}
    }
   ],
   "source": [
    "gdf['hour'] = gdf['recording_time'].dt.hour\n",
    "\n",
    "mean_pm25_date = gdf[[\"date\", \"hour\", \"pm2_5\"]].groupby([\"date\", \"hour\"]).median().reset_index()\n",
    "\n",
    "mean_pm25_date[\"datetime\"] = pd.to_datetime(mean_pm25_date[\"date\"]) + mean_pm25_date[\"hour\"].astype('timedelta64[h]')\n",
    "\n",
    "\n",
    "\n",
    "fig = px.scatter(mean_pm25_date, x=\"datetime\", y='pm2_5', title='Median PM2.5 concentration per hour in January (ug/m3)')\n",
    "fig.show()"
   ]
  },
  {
   "cell_type": "code",
   "execution_count": 80,
   "metadata": {},
   "outputs": [
    {
     "output_type": "execute_result",
     "data": {
      "text/plain": [
       "       air_quality_observed_id            lon            lat  trip_sequence  \\\n",
       "count             2.162390e+05  216239.000000  216239.000000  216239.000000   \n",
       "mean              1.845164e+07       5.104288      52.088833       8.008518   \n",
       "std               7.543336e+06       0.037193       0.016843       7.342861   \n",
       "min               1.385415e+06       4.974094      52.028873       0.000000   \n",
       "25%               1.103031e+07       5.084321      52.078094       3.000000   \n",
       "50%               2.284533e+07       5.109617      52.089329       6.000000   \n",
       "75%               2.351275e+07       5.129708      52.099194      11.000000   \n",
       "max               2.420261e+07       5.195133      52.137924      59.000000   \n",
       "\n",
       "            humidity          pm2_5      pressure    temperature  \\\n",
       "count  216239.000000  216239.000000  2.162390e+05  216239.000000   \n",
       "mean       68.808379      11.594139  5.363640e+04      11.246530   \n",
       "std        13.689889      11.236791  1.502583e+06      45.138878   \n",
       "min         0.000000       1.000000  4.310000e+02       0.000000   \n",
       "25%        58.000000       4.000000  9.880000e+02       7.900000   \n",
       "50%        71.000000       8.000000  1.004000e+03      10.200000   \n",
       "75%        80.000000      16.000000  1.021000e+03      13.000000   \n",
       "max       100.000000     150.000000  4.294950e+07    6553.500000   \n",
       "\n",
       "            distance     delta_time   avg_speed_ms           hour  \n",
       "count  216239.000000  216239.000000  216239.000000  216239.000000  \n",
       "mean       95.060762      19.787309       5.148740      12.951244  \n",
       "std      1367.935385     354.682894       1.392429       4.585497  \n",
       "min         8.188689       2.000000       2.000223       0.000000  \n",
       "25%        55.776372      13.000000       4.200075       8.000000  \n",
       "50%        68.249257      13.000000       5.119263      13.000000  \n",
       "75%        82.233590      14.000000       6.144976      17.000000  \n",
       "max    134791.032089   62375.000000      12.493945      23.000000  "
      ],
      "text/html": "<div>\n<style scoped>\n    .dataframe tbody tr th:only-of-type {\n        vertical-align: middle;\n    }\n\n    .dataframe tbody tr th {\n        vertical-align: top;\n    }\n\n    .dataframe thead th {\n        text-align: right;\n    }\n</style>\n<table border=\"1\" class=\"dataframe\">\n  <thead>\n    <tr style=\"text-align: right;\">\n      <th></th>\n      <th>air_quality_observed_id</th>\n      <th>lon</th>\n      <th>lat</th>\n      <th>trip_sequence</th>\n      <th>humidity</th>\n      <th>pm2_5</th>\n      <th>pressure</th>\n      <th>temperature</th>\n      <th>distance</th>\n      <th>delta_time</th>\n      <th>avg_speed_ms</th>\n      <th>hour</th>\n    </tr>\n  </thead>\n  <tbody>\n    <tr>\n      <th>count</th>\n      <td>2.162390e+05</td>\n      <td>216239.000000</td>\n      <td>216239.000000</td>\n      <td>216239.000000</td>\n      <td>216239.000000</td>\n      <td>216239.000000</td>\n      <td>2.162390e+05</td>\n      <td>216239.000000</td>\n      <td>216239.000000</td>\n      <td>216239.000000</td>\n      <td>216239.000000</td>\n      <td>216239.000000</td>\n    </tr>\n    <tr>\n      <th>mean</th>\n      <td>1.845164e+07</td>\n      <td>5.104288</td>\n      <td>52.088833</td>\n      <td>8.008518</td>\n      <td>68.808379</td>\n      <td>11.594139</td>\n      <td>5.363640e+04</td>\n      <td>11.246530</td>\n      <td>95.060762</td>\n      <td>19.787309</td>\n      <td>5.148740</td>\n      <td>12.951244</td>\n    </tr>\n    <tr>\n      <th>std</th>\n      <td>7.543336e+06</td>\n      <td>0.037193</td>\n      <td>0.016843</td>\n      <td>7.342861</td>\n      <td>13.689889</td>\n      <td>11.236791</td>\n      <td>1.502583e+06</td>\n      <td>45.138878</td>\n      <td>1367.935385</td>\n      <td>354.682894</td>\n      <td>1.392429</td>\n      <td>4.585497</td>\n    </tr>\n    <tr>\n      <th>min</th>\n      <td>1.385415e+06</td>\n      <td>4.974094</td>\n      <td>52.028873</td>\n      <td>0.000000</td>\n      <td>0.000000</td>\n      <td>1.000000</td>\n      <td>4.310000e+02</td>\n      <td>0.000000</td>\n      <td>8.188689</td>\n      <td>2.000000</td>\n      <td>2.000223</td>\n      <td>0.000000</td>\n    </tr>\n    <tr>\n      <th>25%</th>\n      <td>1.103031e+07</td>\n      <td>5.084321</td>\n      <td>52.078094</td>\n      <td>3.000000</td>\n      <td>58.000000</td>\n      <td>4.000000</td>\n      <td>9.880000e+02</td>\n      <td>7.900000</td>\n      <td>55.776372</td>\n      <td>13.000000</td>\n      <td>4.200075</td>\n      <td>8.000000</td>\n    </tr>\n    <tr>\n      <th>50%</th>\n      <td>2.284533e+07</td>\n      <td>5.109617</td>\n      <td>52.089329</td>\n      <td>6.000000</td>\n      <td>71.000000</td>\n      <td>8.000000</td>\n      <td>1.004000e+03</td>\n      <td>10.200000</td>\n      <td>68.249257</td>\n      <td>13.000000</td>\n      <td>5.119263</td>\n      <td>13.000000</td>\n    </tr>\n    <tr>\n      <th>75%</th>\n      <td>2.351275e+07</td>\n      <td>5.129708</td>\n      <td>52.099194</td>\n      <td>11.000000</td>\n      <td>80.000000</td>\n      <td>16.000000</td>\n      <td>1.021000e+03</td>\n      <td>13.000000</td>\n      <td>82.233590</td>\n      <td>14.000000</td>\n      <td>6.144976</td>\n      <td>17.000000</td>\n    </tr>\n    <tr>\n      <th>max</th>\n      <td>2.420261e+07</td>\n      <td>5.195133</td>\n      <td>52.137924</td>\n      <td>59.000000</td>\n      <td>100.000000</td>\n      <td>150.000000</td>\n      <td>4.294950e+07</td>\n      <td>6553.500000</td>\n      <td>134791.032089</td>\n      <td>62375.000000</td>\n      <td>12.493945</td>\n      <td>23.000000</td>\n    </tr>\n  </tbody>\n</table>\n</div>"
     },
     "metadata": {},
     "execution_count": 80
    }
   ],
   "source": [
    "gdf.describe()"
   ]
  },
  {
   "source": [
    "## \"Weighted\" K-means clustering of the PM2.5 data\n",
    "\n",
    "### 1. Full data\n",
    "### 2. Aggregated day/month medians"
   ],
   "cell_type": "markdown",
   "metadata": {}
  },
  {
   "cell_type": "code",
   "execution_count": 81,
   "metadata": {},
   "outputs": [],
   "source": [
    "# Clustering\n",
    "from sklearn import cluster\n",
    "# Scaling\n",
    "from sklearn.preprocessing import MinMaxScaler"
   ]
  },
  {
   "cell_type": "code",
   "execution_count": 90,
   "metadata": {},
   "outputs": [
    {
     "output_type": "stream",
     "name": "stderr",
     "text": [
      "C:\\Users\\Klant\\anaconda3\\envs\\thesis\\lib\\site-packages\\geopandas\\geodataframe.py:1322: SettingWithCopyWarning:\n",
      "\n",
      "\n",
      "A value is trying to be set on a copy of a slice from a DataFrame.\n",
      "Try using .loc[row_indexer,col_indexer] = value instead\n",
      "\n",
      "See the caveats in the documentation: https://pandas.pydata.org/pandas-docs/stable/user_guide/indexing.html#returning-a-view-versus-a-copy\n",
      "\n",
      "C:\\Users\\Klant\\anaconda3\\envs\\thesis\\lib\\site-packages\\geopandas\\geodataframe.py:1322: SettingWithCopyWarning:\n",
      "\n",
      "\n",
      "A value is trying to be set on a copy of a slice from a DataFrame.\n",
      "Try using .loc[row_indexer,col_indexer] = value instead\n",
      "\n",
      "See the caveats in the documentation: https://pandas.pydata.org/pandas-docs/stable/user_guide/indexing.html#returning-a-view-versus-a-copy\n",
      "\n"
     ]
    },
    {
     "output_type": "execute_result",
     "data": {
      "text/plain": [
       "        lon        lat  pm2_5                       geometry              x  \\\n",
       "0  5.118134  52.111160     22  POINT (136568.331 458137.319)  136568.331468   \n",
       "1  5.119091  52.110570     23  POINT (136633.645 458071.434)  136633.644900   \n",
       "2  5.119953  52.110460     21  POINT (136692.649 458058.978)  136692.648797   \n",
       "3  5.120988  52.109900     20  POINT (136763.320 457996.412)  136763.320401   \n",
       "4  5.121899  52.109608     22  POINT (136825.608 457963.696)  136825.608202   \n",
       "\n",
       "               y  \n",
       "0  458137.319000  \n",
       "1  458071.433727  \n",
       "2  458058.977584  \n",
       "3  457996.412136  \n",
       "4  457963.696134  "
      ],
      "text/html": "<div>\n<style scoped>\n    .dataframe tbody tr th:only-of-type {\n        vertical-align: middle;\n    }\n\n    .dataframe tbody tr th {\n        vertical-align: top;\n    }\n\n    .dataframe thead th {\n        text-align: right;\n    }\n</style>\n<table border=\"1\" class=\"dataframe\">\n  <thead>\n    <tr style=\"text-align: right;\">\n      <th></th>\n      <th>lon</th>\n      <th>lat</th>\n      <th>pm2_5</th>\n      <th>geometry</th>\n      <th>x</th>\n      <th>y</th>\n    </tr>\n  </thead>\n  <tbody>\n    <tr>\n      <th>0</th>\n      <td>5.118134</td>\n      <td>52.111160</td>\n      <td>22</td>\n      <td>POINT (136568.331 458137.319)</td>\n      <td>136568.331468</td>\n      <td>458137.319000</td>\n    </tr>\n    <tr>\n      <th>1</th>\n      <td>5.119091</td>\n      <td>52.110570</td>\n      <td>23</td>\n      <td>POINT (136633.645 458071.434)</td>\n      <td>136633.644900</td>\n      <td>458071.433727</td>\n    </tr>\n    <tr>\n      <th>2</th>\n      <td>5.119953</td>\n      <td>52.110460</td>\n      <td>21</td>\n      <td>POINT (136692.649 458058.978)</td>\n      <td>136692.648797</td>\n      <td>458058.977584</td>\n    </tr>\n    <tr>\n      <th>3</th>\n      <td>5.120988</td>\n      <td>52.109900</td>\n      <td>20</td>\n      <td>POINT (136763.320 457996.412)</td>\n      <td>136763.320401</td>\n      <td>457996.412136</td>\n    </tr>\n    <tr>\n      <th>4</th>\n      <td>5.121899</td>\n      <td>52.109608</td>\n      <td>22</td>\n      <td>POINT (136825.608 457963.696)</td>\n      <td>136825.608202</td>\n      <td>457963.696134</td>\n    </tr>\n  </tbody>\n</table>\n</div>"
     },
     "metadata": {},
     "execution_count": 90
    }
   ],
   "source": [
    "full_data = gdf[[\"lon\", \"lat\", \"pm2_5\", \"geometry\"]]\n",
    "\n",
    "full_data['x'] = full_data[\"geometry\"].apply(lambda p: p.x)\n",
    "full_data['y'] = full_data[\"geometry\"].apply(lambda p: p.y)\n",
    "\n",
    "full_data.head()"
   ]
  },
  {
   "cell_type": "code",
   "execution_count": 97,
   "metadata": {},
   "outputs": [
    {
     "output_type": "stream",
     "name": "stderr",
     "text": [
      "C:\\Users\\Klant\\anaconda3\\envs\\thesis\\lib\\site-packages\\geopandas\\geodataframe.py:1322: SettingWithCopyWarning:\n\n\nA value is trying to be set on a copy of a slice from a DataFrame.\nTry using .loc[row_indexer,col_indexer] = value instead\n\nSee the caveats in the documentation: https://pandas.pydata.org/pandas-docs/stable/user_guide/indexing.html#returning-a-view-versus-a-copy\n\n"
     ]
    }
   ],
   "source": [
    "k_means = cluster.KMeans(n_clusters=20, random_state=42)\n",
    "k_means.fit(full_data[[\"x\",\"y\",\"pm2_5\"]])\n",
    "\n",
    "X_cluster = k_means.labels_\n",
    "full_data[\"cluster\"] = X_cluster"
   ]
  },
  {
   "cell_type": "code",
   "execution_count": 95,
   "metadata": {},
   "outputs": [
    {
     "output_type": "execute_result",
     "data": {
      "text/plain": [
       "        lon        lat  pm2_5                       geometry              x  \\\n",
       "0  5.118134  52.111160     22  POINT (136568.331 458137.319)  136568.331468   \n",
       "1  5.119091  52.110570     23  POINT (136633.645 458071.434)  136633.644900   \n",
       "2  5.119953  52.110460     21  POINT (136692.649 458058.978)  136692.648797   \n",
       "3  5.120988  52.109900     20  POINT (136763.320 457996.412)  136763.320401   \n",
       "4  5.121899  52.109608     22  POINT (136825.608 457963.696)  136825.608202   \n",
       "5  5.123208  52.109820     22  POINT (136915.338 457986.956)  136915.337921   \n",
       "6  5.123628  52.110344     23  POINT (136944.348 458045.151)  136944.348344   \n",
       "7  5.123058  52.109630     24  POINT (136905.033 457965.854)  136905.033474   \n",
       "8  5.122562  52.108715     23  POINT (136870.664 457864.176)  136870.664119   \n",
       "9  5.123335  52.108700     22  POINT (136923.640 457862.314)  136923.639897   \n",
       "\n",
       "               y  cluster  \n",
       "0  458137.319000        4  \n",
       "1  458071.433727        4  \n",
       "2  458058.977584        4  \n",
       "3  457996.412136        4  \n",
       "4  457963.696134        4  \n",
       "5  457986.956362        4  \n",
       "6  458045.151477        4  \n",
       "7  457965.854342        4  \n",
       "8  457864.176145        4  \n",
       "9  457862.314474        4  "
      ],
      "text/html": "<div>\n<style scoped>\n    .dataframe tbody tr th:only-of-type {\n        vertical-align: middle;\n    }\n\n    .dataframe tbody tr th {\n        vertical-align: top;\n    }\n\n    .dataframe thead th {\n        text-align: right;\n    }\n</style>\n<table border=\"1\" class=\"dataframe\">\n  <thead>\n    <tr style=\"text-align: right;\">\n      <th></th>\n      <th>lon</th>\n      <th>lat</th>\n      <th>pm2_5</th>\n      <th>geometry</th>\n      <th>x</th>\n      <th>y</th>\n      <th>cluster</th>\n    </tr>\n  </thead>\n  <tbody>\n    <tr>\n      <th>0</th>\n      <td>5.118134</td>\n      <td>52.111160</td>\n      <td>22</td>\n      <td>POINT (136568.331 458137.319)</td>\n      <td>136568.331468</td>\n      <td>458137.319000</td>\n      <td>4</td>\n    </tr>\n    <tr>\n      <th>1</th>\n      <td>5.119091</td>\n      <td>52.110570</td>\n      <td>23</td>\n      <td>POINT (136633.645 458071.434)</td>\n      <td>136633.644900</td>\n      <td>458071.433727</td>\n      <td>4</td>\n    </tr>\n    <tr>\n      <th>2</th>\n      <td>5.119953</td>\n      <td>52.110460</td>\n      <td>21</td>\n      <td>POINT (136692.649 458058.978)</td>\n      <td>136692.648797</td>\n      <td>458058.977584</td>\n      <td>4</td>\n    </tr>\n    <tr>\n      <th>3</th>\n      <td>5.120988</td>\n      <td>52.109900</td>\n      <td>20</td>\n      <td>POINT (136763.320 457996.412)</td>\n      <td>136763.320401</td>\n      <td>457996.412136</td>\n      <td>4</td>\n    </tr>\n    <tr>\n      <th>4</th>\n      <td>5.121899</td>\n      <td>52.109608</td>\n      <td>22</td>\n      <td>POINT (136825.608 457963.696)</td>\n      <td>136825.608202</td>\n      <td>457963.696134</td>\n      <td>4</td>\n    </tr>\n    <tr>\n      <th>5</th>\n      <td>5.123208</td>\n      <td>52.109820</td>\n      <td>22</td>\n      <td>POINT (136915.338 457986.956)</td>\n      <td>136915.337921</td>\n      <td>457986.956362</td>\n      <td>4</td>\n    </tr>\n    <tr>\n      <th>6</th>\n      <td>5.123628</td>\n      <td>52.110344</td>\n      <td>23</td>\n      <td>POINT (136944.348 458045.151)</td>\n      <td>136944.348344</td>\n      <td>458045.151477</td>\n      <td>4</td>\n    </tr>\n    <tr>\n      <th>7</th>\n      <td>5.123058</td>\n      <td>52.109630</td>\n      <td>24</td>\n      <td>POINT (136905.033 457965.854)</td>\n      <td>136905.033474</td>\n      <td>457965.854342</td>\n      <td>4</td>\n    </tr>\n    <tr>\n      <th>8</th>\n      <td>5.122562</td>\n      <td>52.108715</td>\n      <td>23</td>\n      <td>POINT (136870.664 457864.176)</td>\n      <td>136870.664119</td>\n      <td>457864.176145</td>\n      <td>4</td>\n    </tr>\n    <tr>\n      <th>9</th>\n      <td>5.123335</td>\n      <td>52.108700</td>\n      <td>22</td>\n      <td>POINT (136923.640 457862.314)</td>\n      <td>136923.639897</td>\n      <td>457862.314474</td>\n      <td>4</td>\n    </tr>\n  </tbody>\n</table>\n</div>"
     },
     "metadata": {},
     "execution_count": 95
    }
   ],
   "source": [
    "full_data.head(10)"
   ]
  },
  {
   "cell_type": "code",
   "execution_count": 98,
   "metadata": {},
   "outputs": [],
   "source": [
    "full_data.to_csv(\"test.csv\", index=False)"
   ]
  },
  {
   "cell_type": "code",
   "execution_count": 99,
   "metadata": {},
   "outputs": [
    {
     "output_type": "stream",
     "name": "stderr",
     "text": [
      "C:\\Users\\Klant\\anaconda3\\envs\\thesis\\lib\\site-packages\\geopandas\\geodataframe.py:1322: SettingWithCopyWarning:\n\n\nA value is trying to be set on a copy of a slice from a DataFrame.\nTry using .loc[row_indexer,col_indexer] = value instead\n\nSee the caveats in the documentation: https://pandas.pydata.org/pandas-docs/stable/user_guide/indexing.html#returning-a-view-versus-a-copy\n\n"
     ]
    }
   ],
   "source": [
    "k_means = cluster.KMeans(n_clusters=20, random_state=42)\n",
    "k_means.fit(full_data[[\"x\",\"y\"]])\n",
    "\n",
    "X_cluster = k_means.labels_\n",
    "full_data[\"cluster\"] = X_cluster\n",
    "\n",
    "full_data.to_csv(\"test2.csv\", index=False)"
   ]
  },
  {
   "cell_type": "code",
   "execution_count": 113,
   "metadata": {},
   "outputs": [],
   "source": [
    "x = full_data[\"x\"].values.reshape(-1, 1)\n",
    "y = full_data[\"y\"].values.reshape(-1, 1)\n",
    "pm = full_data[\"pm2_5\"].values.reshape(-1, 1)"
   ]
  },
  {
   "cell_type": "code",
   "execution_count": 114,
   "metadata": {},
   "outputs": [
    {
     "output_type": "stream",
     "name": "stderr",
     "text": [
      "C:\\Users\\Klant\\anaconda3\\envs\\thesis\\lib\\site-packages\\geopandas\\geodataframe.py:1322: SettingWithCopyWarning:\n\n\nA value is trying to be set on a copy of a slice from a DataFrame.\nTry using .loc[row_indexer,col_indexer] = value instead\n\nSee the caveats in the documentation: https://pandas.pydata.org/pandas-docs/stable/user_guide/indexing.html#returning-a-view-versus-a-copy\n\nC:\\Users\\Klant\\anaconda3\\envs\\thesis\\lib\\site-packages\\geopandas\\geodataframe.py:1322: SettingWithCopyWarning:\n\n\nA value is trying to be set on a copy of a slice from a DataFrame.\nTry using .loc[row_indexer,col_indexer] = value instead\n\nSee the caveats in the documentation: https://pandas.pydata.org/pandas-docs/stable/user_guide/indexing.html#returning-a-view-versus-a-copy\n\nC:\\Users\\Klant\\anaconda3\\envs\\thesis\\lib\\site-packages\\geopandas\\geodataframe.py:1322: SettingWithCopyWarning:\n\n\nA value is trying to be set on a copy of a slice from a DataFrame.\nTry using .loc[row_indexer,col_indexer] = value instead\n\nSee the caveats in the documentation: https://pandas.pydata.org/pandas-docs/stable/user_guide/indexing.html#returning-a-view-versus-a-copy\n\n"
     ]
    }
   ],
   "source": [
    "scaler = MinMaxScaler()\n",
    "full_data[\"x_mm\"] = scaler.fit_transform(x)\n",
    "full_data[\"y_mm\"] = scaler.fit_transform(y)\n",
    "full_data[\"pm_mm\"] = scaler.fit_transform(pm)"
   ]
  },
  {
   "cell_type": "code",
   "execution_count": 115,
   "metadata": {},
   "outputs": [
    {
     "output_type": "stream",
     "name": "stderr",
     "text": [
      "C:\\Users\\Klant\\anaconda3\\envs\\thesis\\lib\\site-packages\\geopandas\\geodataframe.py:1322: SettingWithCopyWarning:\n\n\nA value is trying to be set on a copy of a slice from a DataFrame.\nTry using .loc[row_indexer,col_indexer] = value instead\n\nSee the caveats in the documentation: https://pandas.pydata.org/pandas-docs/stable/user_guide/indexing.html#returning-a-view-versus-a-copy\n\n"
     ]
    }
   ],
   "source": [
    "k_means = cluster.KMeans(n_clusters=20, random_state=42)\n",
    "k_means.fit(full_data[[\"x_mm\",\"y_mm\",\"pm_mm\"]])\n",
    "\n",
    "X_cluster = k_means.labels_\n",
    "full_data[\"cluster\"] = X_cluster\n",
    "full_data.to_csv(\"test3.csv\", index=False)"
   ]
  },
  {
   "cell_type": "code",
   "execution_count": null,
   "metadata": {},
   "outputs": [],
   "source": []
  }
 ]
}