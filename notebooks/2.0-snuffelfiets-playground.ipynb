{
 "cells": [
  {
   "cell_type": "code",
   "execution_count": 16,
   "metadata": {},
   "outputs": [],
   "source": [
    "# Import packages\n",
    "import pandas as pd \n",
    "import numpy as np \n",
    "import geopandas as gpd \n",
    "import matplotlib.pyplot as plt\n",
    "\n",
    "from tqdm import tqdm\n",
    "import requests\n",
    "from bs4 import BeautifulSoup\n",
    "import io\n",
    "import json\n",
    "\n",
    "import plotly.express as px\n",
    "from collections import Counter\n",
    "import glob\n",
    "import math\n",
    "import re\n"
   ]
  },
  {
   "cell_type": "code",
   "execution_count": null,
   "metadata": {},
   "outputs": [],
   "source": [
    "df = pd.read_csv(\"../data/raw/city_jan_2020/full_city_jan_2020_bbox.csv\")\n",
    "df['recording_time'] = pd.to_datetime(df['recording_time'], format=\"%Y-%m-%d %H:%M:%S\")\n",
    "\n",
    "gdf = gpd.GeoDataFrame(df, geometry=gpd.points_from_xy(df['lon'],df['lat'], crs=\"EPSG:4326\"))\n",
    "gdf = gdf.to_crs(\"EPSG:28992\")\n"
   ]
  },
  {
   "cell_type": "code",
   "execution_count": null,
   "metadata": {},
   "outputs": [],
   "source": [
    "gdf[\"date\"] = gdf['recording_time'].dt.date\n",
    "gdf[\"hour\"] = gdf[\"recording_time\"].dt.hour\n",
    "gdf[\"datehour\"] = pd.to_datetime(gdf[\"date\"]) + gdf[\"hour\"].astype('timedelta64[h]')\n",
    "gdf['day_of_week'] = gdf['recording_time'].dt.day_name()\n",
    "\n",
    "count = Counter([date for date in gdf[\"datehour\"]])\n",
    "\n",
    "df = pd.DataFrame.from_dict(count, orient='index', columns=[\"activity\"]).reset_index().sort_values(by=['index'])\n",
    "\n",
    "fig = px.line(df, x='index', y='activity', title='Snuffelfiets activity per hour in January 2020')\n",
    "fig.show()"
   ]
  },
  {
   "cell_type": "code",
   "execution_count": null,
   "metadata": {},
   "outputs": [],
   "source": [
    "fig = px.histogram(gdf, x='day_of_week', title='Snuffelfiets activity per day of the week')\n",
    "fig.show()"
   ]
  },
  {
   "cell_type": "code",
   "execution_count": null,
   "metadata": {},
   "outputs": [],
   "source": [
    "fig = px.histogram(gdf, x='hour', title='Snuffelfiets activity per hour of the day')\n",
    "fig.show()"
   ]
  },
  {
   "cell_type": "code",
   "execution_count": null,
   "metadata": {},
   "outputs": [],
   "source": [
    "mean_pm25_date = gdf[[\"date\", \"pm2_5\"]].groupby([\"date\"]).median()\n",
    "\n",
    "fig = px.scatter(mean_pm25_date, x=mean_pm25_date.index, y='pm2_5', title='Median PM2.5 concentration per day (ug/m3)')\n",
    "fig.show()"
   ]
  },
  {
   "cell_type": "code",
   "execution_count": null,
   "metadata": {},
   "outputs": [],
   "source": [
    "gdf['hour'] = gdf['recording_time'].dt.hour\n",
    "\n",
    "mean_pm25_date = gdf[[\"date\", \"hour\", \"pm2_5\"]].groupby([\"date\", \"hour\"]).median().reset_index()\n",
    "\n",
    "mean_pm25_date[\"datetime\"] = pd.to_datetime(mean_pm25_date[\"date\"]) + mean_pm25_date[\"hour\"].astype('timedelta64[h]')\n",
    "\n",
    "\n",
    "\n",
    "fig = px.scatter(mean_pm25_date, x=\"datetime\", y='pm2_5', title='Median PM2.5 concentration per hour in January (ug/m3)')\n",
    "fig.show()"
   ]
  },
  {
   "cell_type": "code",
   "execution_count": null,
   "metadata": {},
   "outputs": [],
   "source": [
    "gdf.describe()"
   ]
  },
  {
   "cell_type": "code",
   "execution_count": null,
   "metadata": {},
   "outputs": [],
   "source": []
  },
  {
   "cell_type": "markdown",
   "metadata": {},
   "source": [
    "## Investigating #obs per cell"
   ]
  },
  {
   "cell_type": "code",
   "execution_count": null,
   "metadata": {},
   "outputs": [],
   "source": [
    "path = \"../data/interim/vms_grid/total\" # use your path\n",
    "all_files = glob.glob(path + \"/*.csv\")\n",
    "\n",
    "li = []\n",
    "\n",
    "for filename in tqdm(all_files):\n",
    "    df = pd.read_csv(filename, index_col=None, header=0)\n",
    "    df[\"file\"] = filename.split(\"\\\\\")[1]\n",
    "    li.append(df)\n",
    "\n",
    "frame = pd.concat(li, axis=0, ignore_index=True)"
   ]
  },
  {
   "cell_type": "code",
   "execution_count": null,
   "metadata": {},
   "outputs": [],
   "source": [
    "frame[frame[\"file\"]==\"grid_vms1000.csv\"][\"count\"].value_counts()"
   ]
  },
  {
   "cell_type": "code",
   "execution_count": null,
   "metadata": {},
   "outputs": [],
   "source": [
    "frame[frame['unique']>1].groupby(\"file\").count()"
   ]
  },
  {
   "cell_type": "code",
   "execution_count": null,
   "metadata": {},
   "outputs": [],
   "source": [
    "path = \"../data/interim/vms_grid/hourly/250\" # use your path\n",
    "all_files = glob.glob(path + \"/*.csv\")\n",
    "\n",
    "li = []\n",
    "\n",
    "for filename in tqdm(all_files):\n",
    "    df = pd.read_csv(filename, index_col=None, header=0)\n",
    "    df[\"file\"] = filename.split(\"\\\\\")[1]\n",
    "    li.append(df)\n",
    "\n",
    "frame2 = pd.concat(li, axis=0, ignore_index=True)\n",
    "\n",
    "t=frame2[frame2['unique']>1].groupby(\"file\").count().reset_index()\n",
    "\n",
    "fig = px.line(t, x='file', y='unique', title='Cells (250m) with 1> unique measurements per hour')\n",
    "fig.show()"
   ]
  },
  {
   "cell_type": "code",
   "execution_count": null,
   "metadata": {},
   "outputs": [],
   "source": [
    "path = \"../data/interim/vms_grid/daily\" # use your path\n",
    "all_files = glob.glob(path + \"/*/*.csv\")\n",
    "\n",
    "li = []\n",
    "\n",
    "for filename in tqdm(all_files):\n",
    "    df = pd.read_csv(filename, index_col=None, header=0)\n",
    "    df[\"resolution\"] = filename.split(\"\\\\\")[1]\n",
    "    df[\"date\"] = filename.split(\"_\")[3].split(\".\")[0]\n",
    "    li.append(df)\n",
    "\n",
    "frame2 = pd.concat(li, axis=0, ignore_index=True)"
   ]
  },
  {
   "cell_type": "code",
   "execution_count": null,
   "metadata": {},
   "outputs": [],
   "source": [
    "full = frame2.groupby([\"resolution\", \"date\"]).count().reset_index()\n",
    "g = frame2[frame2[\"unique\"]>1].groupby([\"resolution\", \"date\"]).count().reset_index()"
   ]
  },
  {
   "cell_type": "code",
   "execution_count": null,
   "metadata": {},
   "outputs": [],
   "source": [
    "g[\"percent\"]=g[\"count\"]/full[\"count\"]*100"
   ]
  },
  {
   "cell_type": "code",
   "execution_count": null,
   "metadata": {},
   "outputs": [],
   "source": [
    "fig = px.line(g, x='date', y='percent', color='resolution', title='% of cells with data with 1> unique measurements per day')\n",
    "fig.show()"
   ]
  },
  {
   "cell_type": "code",
   "execution_count": null,
   "metadata": {},
   "outputs": [],
   "source": [
    "path = \"../data/interim/vms_grid/hourly\" # use your path\n",
    "all_files = glob.glob(path + \"/*/*.csv\")\n",
    "\n",
    "li = []\n",
    "\n",
    "for filename in tqdm(all_files):\n",
    "    df = pd.read_csv(filename, index_col=None, header=0)\n",
    "    df[\"resolution\"] = filename.split(\"\\\\\")[1]\n",
    "    df[\"date\"] = filename.split(\"_\")[3].split(\".\")[0]\n",
    "    df = df[df[\"unique\"]>1].groupby([\"resolution\",\"date\"]).count().reset_index()\n",
    "    li.append(df)\n",
    "\n",
    "frame2 = pd.concat(li, axis=0, ignore_index=True)"
   ]
  },
  {
   "cell_type": "code",
   "execution_count": null,
   "metadata": {},
   "outputs": [],
   "source": [
    "path = \"../data/interim/vms_grid/hourly\" # use your path\n",
    "all_files = glob.glob(path + \"/*/*.csv\")\n",
    "\n",
    "li = []\n",
    "\n",
    "for filename in tqdm(all_files):\n",
    "    df = pd.read_csv(filename, index_col=None, header=0)\n",
    "    df[\"resolution\"] = filename.split(\"\\\\\")[1]\n",
    "    df[\"date\"] = filename.split(\"_\")[3].split(\".\")[0]\n",
    "    df = df.groupby([\"resolution\",\"date\"]).count().reset_index()\n",
    "    li.append(df)\n",
    "\n",
    "frame1 = pd.concat(li, axis=0, ignore_index=True)"
   ]
  },
  {
   "cell_type": "code",
   "execution_count": null,
   "metadata": {},
   "outputs": [],
   "source": [
    "fig = px.line(frame2, x='date', y='unique', color='resolution', title='# of cells with data with 1> unique measurements per day')\n",
    "fig.show()"
   ]
  },
  {
   "cell_type": "code",
   "execution_count": null,
   "metadata": {},
   "outputs": [],
   "source": [
    "frame2"
   ]
  },
  {
   "cell_type": "code",
   "execution_count": null,
   "metadata": {},
   "outputs": [],
   "source": [
    "fig = px.histogram(frame2, x='pm2_5', color='resolution', title='# of cells with data with 1> unique measurements per day', log_x=True)\n",
    "fig.show()"
   ]
  },
  {
   "cell_type": "code",
   "execution_count": null,
   "metadata": {},
   "outputs": [],
   "source": [
    "path = \"../data/interim/vms_grid/total\" # use your path\n",
    "all_files = glob.glob(path + \"/*.csv\")\n",
    "\n",
    "li = []\n",
    "\n",
    "for filename in tqdm(all_files):\n",
    "    df = pd.read_csv(filename, index_col=None, header=0)\n",
    "    df[\"resolution\"] = filename.split(\"\\\\\")[1]\n",
    "    li.append(df)\n",
    "\n",
    "frame1 = pd.concat(li, axis=0, ignore_index=True)"
   ]
  },
  {
   "cell_type": "code",
   "execution_count": null,
   "metadata": {},
   "outputs": [],
   "source": [
    "frame1"
   ]
  },
  {
   "cell_type": "code",
   "execution_count": null,
   "metadata": {},
   "outputs": [],
   "source": [
    "total_mean = frame1.groupby(\"resolution\").mean().reset_index()\n",
    "total_mean"
   ]
  },
  {
   "cell_type": "code",
   "execution_count": null,
   "metadata": {},
   "outputs": [],
   "source": [
    "total_mean[\"resolution\"] = total_mean[\"resolution\"].str.split(\"vms\", expand=True)[1]\n",
    "total_mean[\"resolution\"] = total_mean[\"resolution\"].str.split(\".\", expand=True)[0]\n",
    "total_mean[\"resolution\"] = total_mean[\"resolution\"].astype(int)\n",
    "total_mean = total_mean.sort_values(\"resolution\")"
   ]
  },
  {
   "cell_type": "code",
   "execution_count": null,
   "metadata": {},
   "outputs": [],
   "source": [
    "fig = px.line(total_mean, x='resolution', y='se', title='Average standard error (SE) per cell')\n",
    "fig.show()"
   ]
  },
  {
   "cell_type": "code",
   "execution_count": null,
   "metadata": {},
   "outputs": [],
   "source": [
    "## Same, but now daily"
   ]
  },
  {
   "cell_type": "code",
   "execution_count": null,
   "metadata": {},
   "outputs": [],
   "source": [
    "path = \"../data/interim/vms_grid/daily\" # use your path\n",
    "all_files = glob.glob(path + \"/*/*.csv\")\n",
    "\n",
    "li = []\n",
    "\n",
    "for filename in tqdm(all_files):\n",
    "    df = pd.read_csv(filename, index_col=None, header=0)\n",
    "    df[\"resolution\"] = filename.split(\"\\\\\")[1]\n",
    "    df[\"resolution\"] = df[\"resolution\"].astype(int)\n",
    "    df[\"date\"] = filename.split(\"_\")[3].split(\".\")[0]\n",
    "    df = df.groupby([\"resolution\", \"date\"]).mean().reset_index()\n",
    "    li.append(df)\n",
    "\n",
    "frame1 = pd.concat(li, axis=0, ignore_index=True)"
   ]
  },
  {
   "cell_type": "code",
   "execution_count": null,
   "metadata": {},
   "outputs": [],
   "source": [
    "daily_mean = frame1.groupby(\"resolution\").mean().reset_index()"
   ]
  },
  {
   "cell_type": "code",
   "execution_count": null,
   "metadata": {},
   "outputs": [],
   "source": [
    "daily_mean"
   ]
  },
  {
   "cell_type": "code",
   "execution_count": null,
   "metadata": {},
   "outputs": [],
   "source": []
  },
  {
   "cell_type": "code",
   "execution_count": null,
   "metadata": {},
   "outputs": [],
   "source": [
    "## Same, but now hourly"
   ]
  },
  {
   "cell_type": "code",
   "execution_count": null,
   "metadata": {},
   "outputs": [],
   "source": [
    "path = \"../data/interim/vms_grid/hourly\" # use your path\r\n",
    "all_files = glob.glob(path + \"/*/*.csv\")\r\n",
    "\r\n",
    "li = []\r\n",
    "\r\n",
    "for filename in tqdm(all_files):\r\n",
    "    df = pd.read_csv(filename, index_col=None, header=0)\r\n",
    "    df[\"resolution\"] = filename.split(\"\\\\\")[1]\r\n",
    "    df[\"date\"] = filename.split(\"_\")[3].split(\".\")[0]\r\n",
    "    df = df.groupby([\"resolution\",\"date\"]).count().reset_index()\r\n",
    "    li.append(df)\r\n",
    "\r\n",
    "frame1 = pd.concat(li, axis=0, ignore_index=True)"
   ]
  },
  {
   "cell_type": "code",
   "execution_count": null,
   "metadata": {},
   "outputs": [],
   "source": [
    "frame1"
   ]
  },
  {
   "cell_type": "code",
   "execution_count": null,
   "metadata": {},
   "outputs": [],
   "source": [
    "hourly_mean = frame1.groupby(\"resolution\").mean().reset_index()"
   ]
  },
  {
   "cell_type": "code",
   "execution_count": null,
   "metadata": {},
   "outputs": [],
   "source": [
    "hourly_mean[\"time\"] = \"Hourly\"\n",
    "daily_mean[\"time\"] = \"Daily\"\n",
    "total_mean[\"time\"] = \"Full\""
   ]
  },
  {
   "cell_type": "code",
   "execution_count": null,
   "metadata": {},
   "outputs": [],
   "source": [
    "full = pd.concat([total_mean, daily_mean, hourly_mean], axis=0, ignore_index=True)"
   ]
  },
  {
   "cell_type": "code",
   "execution_count": null,
   "metadata": {},
   "outputs": [],
   "source": [
    "full"
   ]
  },
  {
   "cell_type": "code",
   "execution_count": null,
   "metadata": {},
   "outputs": [],
   "source": [
    "fig = px.line(full, x='resolution', y='se', color=\"time\", title='Average standard error (SE) per cell')\n",
    "fig.show()"
   ]
  },
  {
   "cell_type": "code",
   "execution_count": null,
   "metadata": {},
   "outputs": [],
   "source": [
    "fig = px.line(full, x='resolution', y='sd', color=\"time\", title='Average standard deviation (SD) per cell')\n",
    "fig.show()"
   ]
  },
  {
   "cell_type": "code",
   "execution_count": null,
   "metadata": {},
   "outputs": [],
   "source": [
    "fig = px.line(full, x='resolution', y='count', color=\"time\", title='Average number of observations per cell', log_y=True)\n",
    "fig.show()"
   ]
  },
  {
   "cell_type": "code",
   "execution_count": null,
   "metadata": {},
   "outputs": [],
   "source": []
  },
  {
   "cell_type": "code",
   "execution_count": null,
   "metadata": {},
   "outputs": [],
   "source": [
    "path = \"../data/interim/vms_grid/hourly\" # use your path\n",
    "all_files = glob.glob(path + \"/*/*.csv\")\n",
    "\n",
    "vms100_1000 = [url for url in all_files if re.match(\".+vms100.+\", url)]\n",
    "\n",
    "li = []\n",
    "\n",
    "for filename in tqdm(vms100_1000):\n",
    "    df = pd.read_csv(filename, index_col=None, header=0)\n",
    "    df[\"resolution\"] = filename.split(\"\\\\\")[1]\n",
    "    df[\"date\"] = filename.split(\"_\")[3].split(\".\")[0]\n",
    "    df = df.groupby([\"resolution\",\"date\"]).mean().reset_index()\n",
    "    li.append(df)\n",
    "\n",
    "frame1 = pd.concat(li, axis=0, ignore_index=True)"
   ]
  },
  {
   "cell_type": "code",
   "execution_count": null,
   "metadata": {},
   "outputs": [],
   "source": [
    "frame1[\"date\"] = \"2020\" + frame1[\"date\"]\n",
    "frame1['date'] = pd.to_datetime(frame1['date'], format=\"%Y%m%d-%H\")\n"
   ]
  },
  {
   "cell_type": "code",
   "execution_count": null,
   "metadata": {},
   "outputs": [],
   "source": [
    "frame1"
   ]
  },
  {
   "cell_type": "code",
   "execution_count": null,
   "metadata": {},
   "outputs": [],
   "source": [
    "fig = px.line(frame1, x='date', y='pm2_5_mean', color=\"resolution\", title='Mean PM2.5 values per hour')\n",
    "fig.show()"
   ]
  },
  {
   "cell_type": "code",
   "execution_count": null,
   "metadata": {},
   "outputs": [],
   "source": [
    "frame1[\"diff\"]=frame1[\"pm2_5_mean\"][:216].reset_index(drop=True) - frame1[\"pm2_5_mean\"][216:].reset_index(drop=True)"
   ]
  },
  {
   "cell_type": "code",
   "execution_count": null,
   "metadata": {},
   "outputs": [],
   "source": [
    "fig = px.line(frame1, x='date', y='diff', title='Difference in mean PM2.5 values per hour (100m vs. 1000m)')\n",
    "fig.show()"
   ]
  },
  {
   "cell_type": "code",
   "execution_count": null,
   "metadata": {},
   "outputs": [],
   "source": [
    "frame1.groupby('resolution').mean()"
   ]
  },
  {
   "cell_type": "code",
   "execution_count": null,
   "metadata": {},
   "outputs": [],
   "source": [
    "df = pd.read_csv(\"C:/Users/Klant/Documents/GitHub/ADS-Snuffelfiets-Thesis/data/raw/city_jan_2020/data_selection_bbox.csv\")\n",
    "df.head()"
   ]
  },
  {
   "cell_type": "code",
   "execution_count": null,
   "metadata": {},
   "outputs": [],
   "source": [
    "df['recording_time'] = pd.to_datetime(df['recording_time'], format=\"%Y-%m-%d %H:%M:%S\")\n",
    "\n",
    "df['day_of_week'] = df['recording_time'].dt.day_name()"
   ]
  },
  {
   "cell_type": "code",
   "execution_count": null,
   "metadata": {},
   "outputs": [],
   "source": [
    "df.head()"
   ]
  },
  {
   "cell_type": "code",
   "execution_count": null,
   "metadata": {},
   "outputs": [],
   "source": []
  },
  {
   "cell_type": "markdown",
   "metadata": {},
   "source": [
    "## KNMI Features"
   ]
  },
  {
   "cell_type": "code",
   "execution_count": 2,
   "metadata": {},
   "outputs": [],
   "source": [
    "import pandas as pd\n",
    "\n",
    "data = pd.read_csv('../data/external/uurgeg_260_2011-2020/uurgeg_260_2011-2020.txt', skiprows=31, skipinitialspace=True, usecols=['YYYYMMDD', 'HH', 'DD', 'FH', 'T', 'P', 'U'])"
   ]
  },
  {
   "cell_type": "code",
   "execution_count": 3,
   "metadata": {},
   "outputs": [],
   "source": [
    "# DD = Windrichting (in graden) gemiddeld over de laatste 10 minuten van het afgelopen uur (360=noord, 90=oost, 180=zuid, 270=west, 0=windstil 990=veranderlijk.\n",
    "# FH = Uurgemiddelde windsnelheid (in 0.1 m/s). \n",
    "# T = Temperatuur (in 0.1 graden Celsius) op 1.50 m hoogte tijdens de waarneming.\n",
    "# P = Luchtdruk (in 0.1 hPa) herleid naar zeeniveau, tijdens de waarneming.\n",
    "# U = Relatieve vochtigheid (in procenten) op 1.50 m hoogte tijdens de waarneming."
   ]
  },
  {
   "cell_type": "code",
   "execution_count": 4,
   "metadata": {},
   "outputs": [],
   "source": [
    "data[\"YYYYMMDD\"] = data[\"YYYYMMDD\"].astype(str)\n",
    "\n",
    "data[\"hour\"] = data['HH'].astype(str).str.strip()\n",
    "data[\"year\"] = data[\"YYYYMMDD\"].str.slice(start=0, stop=4)\n",
    "data[\"month\"] = data[\"YYYYMMDD\"].str.slice(start=4, stop=6)\n",
    "data[\"day\"] = data[\"YYYYMMDD\"].str.slice(start=6, stop=8)\n",
    "\n",
    "data[\"date\"] = pd.to_datetime(data[['year', 'month', 'day', 'hour']])\n",
    "\n",
    "data.drop(labels=['year', 'month', 'day', 'hour', 'YYYYMMDD', 'HH'], axis=1, inplace=True)"
   ]
  },
  {
   "cell_type": "code",
   "execution_count": 14,
   "metadata": {},
   "outputs": [],
   "source": [
    "# Changing wind direction from degrees to cardinal directions\n",
    "def degToCompass(deg):\n",
    "    deg = math.floor((deg / 45) + 0.5)\n",
    "    dirs = [\"N\",\"NE\",\"E\", \"SE\",\"S\",\"SW\",\"W\",\"NW\"]\n",
    "    return dirs[(deg % 8)]\n",
    "\n",
    "data[\"DD\"] = data[\"DD\"].apply(degToCompass)"
   ]
  },
  {
   "cell_type": "code",
   "execution_count": 15,
   "metadata": {},
   "outputs": [
    {
     "data": {
      "text/html": [
       "<div>\n",
       "<style scoped>\n",
       "    .dataframe tbody tr th:only-of-type {\n",
       "        vertical-align: middle;\n",
       "    }\n",
       "\n",
       "    .dataframe tbody tr th {\n",
       "        vertical-align: top;\n",
       "    }\n",
       "\n",
       "    .dataframe thead th {\n",
       "        text-align: right;\n",
       "    }\n",
       "</style>\n",
       "<table border=\"1\" class=\"dataframe\">\n",
       "  <thead>\n",
       "    <tr style=\"text-align: right;\">\n",
       "      <th></th>\n",
       "      <th>DD</th>\n",
       "      <th>FH</th>\n",
       "      <th>T</th>\n",
       "      <th>P</th>\n",
       "      <th>U</th>\n",
       "      <th>date</th>\n",
       "    </tr>\n",
       "  </thead>\n",
       "  <tbody>\n",
       "    <tr>\n",
       "      <th>0</th>\n",
       "      <td>SW</td>\n",
       "      <td>30</td>\n",
       "      <td>36</td>\n",
       "      <td>10217</td>\n",
       "      <td>99</td>\n",
       "      <td>2011-01-01 01:00:00</td>\n",
       "    </tr>\n",
       "    <tr>\n",
       "      <th>1</th>\n",
       "      <td>W</td>\n",
       "      <td>30</td>\n",
       "      <td>36</td>\n",
       "      <td>10214</td>\n",
       "      <td>99</td>\n",
       "      <td>2011-01-01 02:00:00</td>\n",
       "    </tr>\n",
       "    <tr>\n",
       "      <th>2</th>\n",
       "      <td>W</td>\n",
       "      <td>30</td>\n",
       "      <td>39</td>\n",
       "      <td>10211</td>\n",
       "      <td>99</td>\n",
       "      <td>2011-01-01 03:00:00</td>\n",
       "    </tr>\n",
       "    <tr>\n",
       "      <th>3</th>\n",
       "      <td>W</td>\n",
       "      <td>30</td>\n",
       "      <td>42</td>\n",
       "      <td>10208</td>\n",
       "      <td>97</td>\n",
       "      <td>2011-01-01 04:00:00</td>\n",
       "    </tr>\n",
       "    <tr>\n",
       "      <th>4</th>\n",
       "      <td>W</td>\n",
       "      <td>30</td>\n",
       "      <td>42</td>\n",
       "      <td>10204</td>\n",
       "      <td>97</td>\n",
       "      <td>2011-01-01 05:00:00</td>\n",
       "    </tr>\n",
       "  </tbody>\n",
       "</table>\n",
       "</div>"
      ],
      "text/plain": [
       "   DD  FH   T      P   U                date\n",
       "0  SW  30  36  10217  99 2011-01-01 01:00:00\n",
       "1   W  30  36  10214  99 2011-01-01 02:00:00\n",
       "2   W  30  39  10211  99 2011-01-01 03:00:00\n",
       "3   W  30  42  10208  97 2011-01-01 04:00:00\n",
       "4   W  30  42  10204  97 2011-01-01 05:00:00"
      ]
     },
     "execution_count": 15,
     "metadata": {},
     "output_type": "execute_result"
    }
   ],
   "source": [
    "data.head()"
   ]
  },
  {
   "cell_type": "code",
   "execution_count": 21,
   "metadata": {},
   "outputs": [
    {
     "name": "stderr",
     "output_type": "stream",
     "text": [
      "100%|████████████████████████████████████████████████████████████████████████████████| 432/432 [00:07<00:00, 59.43it/s]\n"
     ]
    }
   ],
   "source": [
    "path = \"../data/interim/vms_grid/hourly\" # use your path\n",
    "all_files = glob.glob(path + \"/*/*.csv\")\n",
    "\n",
    "vms100_1000 = [url for url in all_files if re.match(\".+vms100.+\", url)]\n",
    "\n",
    "li = []\n",
    "\n",
    "for filename in tqdm(vms100_1000):\n",
    "    df = pd.read_csv(filename, index_col=None, header=0)\n",
    "    df[\"resolution\"] = filename.split(\"\\\\\")[1]\n",
    "    #df[\"date\"] = filename.split(\"_\")[3].split(\".\")[0]\n",
    "    #df = df.groupby([\"resolution\",\"date\"]).mean().reset_index()\n",
    "    li.append(df)\n",
    "\n",
    "frame1 = pd.concat(li, axis=0, ignore_index=True)"
   ]
  },
  {
   "cell_type": "code",
   "execution_count": 26,
   "metadata": {},
   "outputs": [],
   "source": [
    "frame1['date'] = pd.to_datetime(frame1['date'], format=\"%Y-%m-%d %H:%M:%S\")"
   ]
  },
  {
   "cell_type": "code",
   "execution_count": 44,
   "metadata": {},
   "outputs": [],
   "source": [
    "merge = frame1.merge(data, on=\"date\")\n",
    "merge['date'] = pd.to_datetime(merge['date'], format=\"%Y-%m-%d %H:%M:%S\")\n",
    "merge['hour'] = merge['date'].dt.hour"
   ]
  },
  {
   "cell_type": "code",
   "execution_count": 52,
   "metadata": {},
   "outputs": [
    {
     "data": {
      "text/html": [
       "<div>\n",
       "<style scoped>\n",
       "    .dataframe tbody tr th:only-of-type {\n",
       "        vertical-align: middle;\n",
       "    }\n",
       "\n",
       "    .dataframe tbody tr th {\n",
       "        vertical-align: top;\n",
       "    }\n",
       "\n",
       "    .dataframe thead th {\n",
       "        text-align: right;\n",
       "    }\n",
       "</style>\n",
       "<table border=\"1\" class=\"dataframe\">\n",
       "  <thead>\n",
       "    <tr style=\"text-align: right;\">\n",
       "      <th></th>\n",
       "      <th>x</th>\n",
       "      <th>y</th>\n",
       "      <th>pm2_5_med</th>\n",
       "      <th>pm2_5_mean</th>\n",
       "      <th>count</th>\n",
       "      <th>unique</th>\n",
       "      <th>se</th>\n",
       "      <th>sd</th>\n",
       "      <th>date</th>\n",
       "      <th>resolution</th>\n",
       "      <th>DD</th>\n",
       "      <th>FH</th>\n",
       "      <th>T</th>\n",
       "      <th>P</th>\n",
       "      <th>U</th>\n",
       "      <th>hour</th>\n",
       "    </tr>\n",
       "  </thead>\n",
       "  <tbody>\n",
       "    <tr>\n",
       "      <th>0</th>\n",
       "      <td>126484.772</td>\n",
       "      <td>461559.608</td>\n",
       "      <td>NaN</td>\n",
       "      <td>NaN</td>\n",
       "      <td>NaN</td>\n",
       "      <td>NaN</td>\n",
       "      <td>NaN</td>\n",
       "      <td>NaN</td>\n",
       "      <td>2020-01-06 06:00:00</td>\n",
       "      <td>100</td>\n",
       "      <td>SW</td>\n",
       "      <td>40</td>\n",
       "      <td>65</td>\n",
       "      <td>10278</td>\n",
       "      <td>92</td>\n",
       "      <td>6</td>\n",
       "    </tr>\n",
       "    <tr>\n",
       "      <th>1</th>\n",
       "      <td>126584.772</td>\n",
       "      <td>461559.608</td>\n",
       "      <td>NaN</td>\n",
       "      <td>NaN</td>\n",
       "      <td>NaN</td>\n",
       "      <td>NaN</td>\n",
       "      <td>NaN</td>\n",
       "      <td>NaN</td>\n",
       "      <td>2020-01-06 06:00:00</td>\n",
       "      <td>100</td>\n",
       "      <td>SW</td>\n",
       "      <td>40</td>\n",
       "      <td>65</td>\n",
       "      <td>10278</td>\n",
       "      <td>92</td>\n",
       "      <td>6</td>\n",
       "    </tr>\n",
       "    <tr>\n",
       "      <th>2</th>\n",
       "      <td>126684.772</td>\n",
       "      <td>461559.608</td>\n",
       "      <td>NaN</td>\n",
       "      <td>NaN</td>\n",
       "      <td>NaN</td>\n",
       "      <td>NaN</td>\n",
       "      <td>NaN</td>\n",
       "      <td>NaN</td>\n",
       "      <td>2020-01-06 06:00:00</td>\n",
       "      <td>100</td>\n",
       "      <td>SW</td>\n",
       "      <td>40</td>\n",
       "      <td>65</td>\n",
       "      <td>10278</td>\n",
       "      <td>92</td>\n",
       "      <td>6</td>\n",
       "    </tr>\n",
       "    <tr>\n",
       "      <th>3</th>\n",
       "      <td>126784.772</td>\n",
       "      <td>461559.608</td>\n",
       "      <td>NaN</td>\n",
       "      <td>NaN</td>\n",
       "      <td>NaN</td>\n",
       "      <td>NaN</td>\n",
       "      <td>NaN</td>\n",
       "      <td>NaN</td>\n",
       "      <td>2020-01-06 06:00:00</td>\n",
       "      <td>100</td>\n",
       "      <td>SW</td>\n",
       "      <td>40</td>\n",
       "      <td>65</td>\n",
       "      <td>10278</td>\n",
       "      <td>92</td>\n",
       "      <td>6</td>\n",
       "    </tr>\n",
       "    <tr>\n",
       "      <th>4</th>\n",
       "      <td>126884.772</td>\n",
       "      <td>461559.608</td>\n",
       "      <td>NaN</td>\n",
       "      <td>NaN</td>\n",
       "      <td>NaN</td>\n",
       "      <td>NaN</td>\n",
       "      <td>NaN</td>\n",
       "      <td>NaN</td>\n",
       "      <td>2020-01-06 06:00:00</td>\n",
       "      <td>100</td>\n",
       "      <td>SW</td>\n",
       "      <td>40</td>\n",
       "      <td>65</td>\n",
       "      <td>10278</td>\n",
       "      <td>92</td>\n",
       "      <td>6</td>\n",
       "    </tr>\n",
       "  </tbody>\n",
       "</table>\n",
       "</div>"
      ],
      "text/plain": [
       "            x           y  pm2_5_med  pm2_5_mean  count  unique  se  sd  \\\n",
       "0  126484.772  461559.608        NaN         NaN    NaN     NaN NaN NaN   \n",
       "1  126584.772  461559.608        NaN         NaN    NaN     NaN NaN NaN   \n",
       "2  126684.772  461559.608        NaN         NaN    NaN     NaN NaN NaN   \n",
       "3  126784.772  461559.608        NaN         NaN    NaN     NaN NaN NaN   \n",
       "4  126884.772  461559.608        NaN         NaN    NaN     NaN NaN NaN   \n",
       "\n",
       "                 date resolution  DD  FH   T      P   U  hour  \n",
       "0 2020-01-06 06:00:00        100  SW  40  65  10278  92     6  \n",
       "1 2020-01-06 06:00:00        100  SW  40  65  10278  92     6  \n",
       "2 2020-01-06 06:00:00        100  SW  40  65  10278  92     6  \n",
       "3 2020-01-06 06:00:00        100  SW  40  65  10278  92     6  \n",
       "4 2020-01-06 06:00:00        100  SW  40  65  10278  92     6  "
      ]
     },
     "execution_count": 52,
     "metadata": {},
     "output_type": "execute_result"
    }
   ],
   "source": [
    "merge.head()"
   ]
  },
  {
   "cell_type": "code",
   "execution_count": 51,
   "metadata": {},
   "outputs": [],
   "source": [
    "merge.to_csv(\"test.csv\", index=False)"
   ]
  },
  {
   "cell_type": "code",
   "execution_count": null,
   "metadata": {},
   "outputs": [],
   "source": []
  }
 ],
 "metadata": {
  "kernelspec": {
   "display_name": "thesis",
   "language": "python",
   "name": "thesis"
  },
  "language_info": {
   "codemirror_mode": {
    "name": "ipython",
    "version": 3
   },
   "file_extension": ".py",
   "mimetype": "text/x-python",
   "name": "python",
   "nbconvert_exporter": "python",
   "pygments_lexer": "ipython3",
   "version": "3.8.8"
  }
 },
 "nbformat": 4,
 "nbformat_minor": 4
}
