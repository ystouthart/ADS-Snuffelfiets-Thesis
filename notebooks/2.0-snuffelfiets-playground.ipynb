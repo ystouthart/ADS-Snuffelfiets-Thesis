{
 "metadata": {
  "language_info": {
   "codemirror_mode": {
    "name": "ipython",
    "version": 3
   },
   "file_extension": ".py",
   "mimetype": "text/x-python",
   "name": "python",
   "nbconvert_exporter": "python",
   "pygments_lexer": "ipython3",
   "version": "3.8.8"
  },
  "orig_nbformat": 2,
  "kernelspec": {
   "name": "python388jvsc74a57bd06bfa853000390083a35d112b16e638a8e978943b5cf163568e56c68c8f4a453e",
   "display_name": "Python 3.8.8 64-bit ('thesis': conda)"
  }
 },
 "nbformat": 4,
 "nbformat_minor": 2,
 "cells": [
  {
   "cell_type": "code",
   "execution_count": 1,
   "metadata": {},
   "outputs": [],
   "source": [
    "# Import packages\n",
    "import pandas as pd \n",
    "import numpy as np \n",
    "import geopandas as gpd\n",
    "\n",
    "from tqdm import tqdm\n",
    "import requests\n",
    "import io\n",
    "import json"
   ]
  },
  {
   "cell_type": "code",
   "execution_count": 2,
   "metadata": {},
   "outputs": [],
   "source": [
    "url = 'https://ckan.dataplatform.nl/api/3/action/package_show?id=9cc4de28-6d03-4b59-8c66-085b3e8b3956&include_tracking=true'\n",
    "r = requests.get(url)\n",
    "data = r.json()\n",
    "\n",
    "csv_urls = [x['url'] for x in data['result']['resources']]\n",
    "test_csv_urls = csv_urls[:3]\n"
   ]
  },
  {
   "cell_type": "code",
   "execution_count": 3,
   "metadata": {},
   "outputs": [
    {
     "output_type": "execute_result",
     "data": {
      "text/plain": [
       "['https://ckan.dataplatform.nl/dataset/9cc4de28-6d03-4b59-8c66-085b3e8b3956/resource/a12b08b4-d0bf-45f9-b17c-20448369754c/download/resource_2020_05_11_2020_05_18.csv',\n",
       " 'https://ckan.dataplatform.nl/dataset/9cc4de28-6d03-4b59-8c66-085b3e8b3956/resource/df752c8d-a9a6-4f94-b1ee-2d24e623c343/download/resource_2020_05_04_2020_05_11.csv',\n",
       " 'https://ckan.dataplatform.nl/dataset/9cc4de28-6d03-4b59-8c66-085b3e8b3956/resource/b9cf1bc9-d348-4663-9ab1-c4bab32e8bbb/download/resource_2020_04_27_2020_05_04.csv']"
      ]
     },
     "metadata": {},
     "execution_count": 3
    }
   ],
   "source": [
    "test_csv_urls"
   ]
  },
  {
   "cell_type": "code",
   "execution_count": 13,
   "metadata": {},
   "outputs": [],
   "source": [
    "response = requests.get(test_csv_urls[2])\n",
    "file_object = io.StringIO(response.content.decode('utf-8'))\n"
   ]
  },
  {
   "cell_type": "code",
   "execution_count": 14,
   "metadata": {},
   "outputs": [],
   "source": [
    "df = pd.read_csv(file_object, usecols=['sensor', 'air_quality_observed_id', 'lon', 'lat',\n",
    "     'recording_time', 'trip_sequence', 'humidity', 'pm2_5', 'pressure', 'temperature'])\n",
    "df['recording_time'] = pd.to_datetime(df['recording_time'], format=\"%Y-%m-%d %H:%M:%S\")"
   ]
  },
  {
   "cell_type": "code",
   "execution_count": 15,
   "metadata": {},
   "outputs": [
    {
     "output_type": "execute_result",
     "data": {
      "text/plain": [
       "299       0\n",
       "369       0\n",
       "716       0\n",
       "725       0\n",
       "735       0\n",
       "         ..\n",
       "197539    0\n",
       "197902    0\n",
       "199190    0\n",
       "199542    0\n",
       "199670    0\n",
       "Name: pm2_5, Length: 4961, dtype: int64"
      ]
     },
     "metadata": {},
     "execution_count": 15
    }
   ],
   "source": [
    "df['pm2_5'][df['pm2_5'] < 1]"
   ]
  },
  {
   "cell_type": "code",
   "execution_count": 16,
   "metadata": {},
   "outputs": [
    {
     "output_type": "execute_result",
     "data": {
      "text/plain": [
       "8.569077845389227"
      ]
     },
     "metadata": {},
     "execution_count": 16
    }
   ],
   "source": [
    "df['pm2_5'].mean()"
   ]
  },
  {
   "cell_type": "code",
   "execution_count": 22,
   "metadata": {},
   "outputs": [],
   "source": []
  },
  {
   "cell_type": "code",
   "execution_count": 23,
   "metadata": {},
   "outputs": [
    {
     "output_type": "execute_result",
     "data": {
      "text/plain": [
       "8.593882969414848"
      ]
     },
     "metadata": {},
     "execution_count": 23
    }
   ],
   "source": [
    "df['pm2_5'].mean()"
   ]
  },
  {
   "cell_type": "code",
   "execution_count": null,
   "metadata": {},
   "outputs": [],
   "source": [
    "# Download each .csv-file, pre-process, and save.\n",
    "for csv in tqdm(test_csv_urls): \n",
    "    response = requests.get(csv)\n",
    "    file_object = io.StringIO(response.content.decode('utf-8'))\n",
    "    df = pd.read_csv(file_object, usecols=['sensor', 'air_quality_observed_id', 'lon', 'lat',\n",
    "     'recording_time', 'trip_sequence', 'humidity', 'pm2_5', 'pressure', 'temperature'])\n",
    "    df['recording_time'] = pd.to_datetime(df['recording_time'], format=\"%Y-%m-%d %H:%M:%S\")\n",
    "\n",
    "\n",
    "    # Remove all measurements with pm2.5 >150 ug/m3.\n",
    "    df = df[~((df[\"pm2_5\"]<0.5)|(df[\"pm2_5\"]>150))]\n",
    "\n",
    "    # Set all measurements with pm2.5 <1 ug/m3 to 1.\n",
    "    df[df['pm2_5'] < 1] = 1"
   ]
  }
 ]
}