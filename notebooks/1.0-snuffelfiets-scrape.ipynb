{
 "metadata": {
  "language_info": {
   "codemirror_mode": {
    "name": "ipython",
    "version": 3
   },
   "file_extension": ".py",
   "mimetype": "text/x-python",
   "name": "python",
   "nbconvert_exporter": "python",
   "pygments_lexer": "ipython3",
   "version": "3.8.8"
  },
  "orig_nbformat": 2,
  "kernelspec": {
   "name": "python388jvsc74a57bd06bfa853000390083a35d112b16e638a8e978943b5cf163568e56c68c8f4a453e",
   "display_name": "Python 3.8.8 64-bit ('thesis': conda)"
  }
 },
 "nbformat": 4,
 "nbformat_minor": 2,
 "cells": [
  {
   "cell_type": "code",
   "execution_count": 1,
   "metadata": {},
   "outputs": [],
   "source": [
    "# Import packages\n",
    "import pandas as pd \n",
    "import numpy as np \n",
    "import geopandas as gpd \n",
    "\n",
    "from tqdm import tqdm\n",
    "import requests\n",
    "from bs4 import BeautifulSoup\n",
    "import io\n",
    "import json"
   ]
  },
  {
   "source": [
    "## Downloading all Snuffelfiets data"
   ],
   "cell_type": "markdown",
   "metadata": {}
  },
  {
   "cell_type": "code",
   "execution_count": 2,
   "metadata": {},
   "outputs": [],
   "source": [
    "url = 'https://ckan.dataplatform.nl/api/3/action/package_show?id=9cc4de28-6d03-4b59-8c66-085b3e8b3956&include_tracking=true'\n",
    "\n",
    "r = requests.get(url)\n",
    "\n",
    "data = r.json()"
   ]
  },
  {
   "cell_type": "code",
   "execution_count": 3,
   "metadata": {},
   "outputs": [
    {
     "output_type": "execute_result",
     "data": {
      "text/plain": [
       "'https://ckan.dataplatform.nl/dataset/9cc4de28-6d03-4b59-8c66-085b3e8b3956/resource/a12b08b4-d0bf-45f9-b17c-20448369754c/download/resource_2020_05_11_2020_05_18.csv'"
      ]
     },
     "metadata": {},
     "execution_count": 3
    }
   ],
   "source": [
    "csv_urls = [x['url'] for x in data['result']['resources']]\n",
    "csv_urls[0]"
   ]
  },
  {
   "cell_type": "code",
   "execution_count": 4,
   "metadata": {},
   "outputs": [],
   "source": [
    "test_csv_urls = csv_urls[:3]"
   ]
  },
  {
   "source": [
    "### Warning: running the block below will result in downloading ~100 .csv's\n"
   ],
   "cell_type": "markdown",
   "metadata": {}
  },
  {
   "cell_type": "code",
   "execution_count": 118,
   "metadata": {},
   "outputs": [
    {
     "output_type": "stream",
     "name": "stderr",
     "text": [
      "100%|██████████| 5/5 [00:39<00:00,  7.98s/it]\n"
     ]
    }
   ],
   "source": [
    "data = []\n",
    "\n",
    "for csv in tqdm(test_csv_urls): \n",
    "    response = requests.get(csv)\n",
    "    file_object = io.StringIO(response.content.decode('utf-8'))\n",
    "    df = pd.read_csv(file_object)\n",
    "    data.append(df)\n",
    "\n",
    "\n",
    "df = pd.concat(data)    # merge all csv's\n",
    "df.reset_index(drop=True, inplace=True)\n",
    "df.to_csv(\"../data/external/all_snuffelfiets_raw.csv\", index=False)\n",
    "data = []   # clear memory"
   ]
  },
  {
   "cell_type": "code",
   "execution_count": 120,
   "metadata": {},
   "outputs": [],
   "source": [
    "snuffel_all = pd.read_csv(\"../data/external/all_snuffelfiets_raw.csv\")"
   ]
  },
  {
   "cell_type": "code",
   "execution_count": 121,
   "metadata": {},
   "outputs": [
    {
     "output_type": "execute_result",
     "data": {
      "text/plain": [
       "                             sensor  air_quality_observed_id       lon  \\\n",
       "0  c432f4d9cac0cc68e786d054c1ec771f                 31925610  4.830358   \n",
       "1  74678958154e0d1a078e5a6f50b73b73                 31925642  5.057220   \n",
       "2  7d320c4527e25b06c3c2cfc68c917019                 31925576  5.237413   \n",
       "3  c432f4d9cac0cc68e786d054c1ec771f                 31925609  4.829355   \n",
       "4  74678958154e0d1a078e5a6f50b73b73                 31925640  5.056912   \n",
       "\n",
       "         lat       recording_time  trip_sequence  humidity  pm10  pm1_0  \\\n",
       "0  52.017010  2020-05-18 11:59:19             19        57     4      4   \n",
       "1  52.023201  2020-05-18 11:59:19             16        55     6      6   \n",
       "2  52.023979  2020-05-18 11:59:16             39        50     9      8   \n",
       "3  52.017056  2020-05-18 11:59:08             19        57     4      4   \n",
       "4  52.022751  2020-05-18 11:59:07             16        55     7      6   \n",
       "\n",
       "   pm2_5  pressure  temperature  voc  voltage  error_code  version_major  \\\n",
       "0      4      1049         23.4  188     3.81           0              1   \n",
       "1      6      1042         21.5  190     4.06           0              1   \n",
       "2      8      1054         24.2  201     4.02           0              1   \n",
       "3      4      1049         23.3  187     3.81           0              1   \n",
       "4      7      1042         21.5  189     4.06           0              1   \n",
       "\n",
       "   version_minor  acc_max  no2  \n",
       "0              7        0    0  \n",
       "1              7        0    0  \n",
       "2              7        0    0  \n",
       "3              7        0    0  \n",
       "4              7        1    0  "
      ],
      "text/html": "<div>\n<style scoped>\n    .dataframe tbody tr th:only-of-type {\n        vertical-align: middle;\n    }\n\n    .dataframe tbody tr th {\n        vertical-align: top;\n    }\n\n    .dataframe thead th {\n        text-align: right;\n    }\n</style>\n<table border=\"1\" class=\"dataframe\">\n  <thead>\n    <tr style=\"text-align: right;\">\n      <th></th>\n      <th>sensor</th>\n      <th>air_quality_observed_id</th>\n      <th>lon</th>\n      <th>lat</th>\n      <th>recording_time</th>\n      <th>trip_sequence</th>\n      <th>humidity</th>\n      <th>pm10</th>\n      <th>pm1_0</th>\n      <th>pm2_5</th>\n      <th>pressure</th>\n      <th>temperature</th>\n      <th>voc</th>\n      <th>voltage</th>\n      <th>error_code</th>\n      <th>version_major</th>\n      <th>version_minor</th>\n      <th>acc_max</th>\n      <th>no2</th>\n    </tr>\n  </thead>\n  <tbody>\n    <tr>\n      <th>0</th>\n      <td>c432f4d9cac0cc68e786d054c1ec771f</td>\n      <td>31925610</td>\n      <td>4.830358</td>\n      <td>52.017010</td>\n      <td>2020-05-18 11:59:19</td>\n      <td>19</td>\n      <td>57</td>\n      <td>4</td>\n      <td>4</td>\n      <td>4</td>\n      <td>1049</td>\n      <td>23.4</td>\n      <td>188</td>\n      <td>3.81</td>\n      <td>0</td>\n      <td>1</td>\n      <td>7</td>\n      <td>0</td>\n      <td>0</td>\n    </tr>\n    <tr>\n      <th>1</th>\n      <td>74678958154e0d1a078e5a6f50b73b73</td>\n      <td>31925642</td>\n      <td>5.057220</td>\n      <td>52.023201</td>\n      <td>2020-05-18 11:59:19</td>\n      <td>16</td>\n      <td>55</td>\n      <td>6</td>\n      <td>6</td>\n      <td>6</td>\n      <td>1042</td>\n      <td>21.5</td>\n      <td>190</td>\n      <td>4.06</td>\n      <td>0</td>\n      <td>1</td>\n      <td>7</td>\n      <td>0</td>\n      <td>0</td>\n    </tr>\n    <tr>\n      <th>2</th>\n      <td>7d320c4527e25b06c3c2cfc68c917019</td>\n      <td>31925576</td>\n      <td>5.237413</td>\n      <td>52.023979</td>\n      <td>2020-05-18 11:59:16</td>\n      <td>39</td>\n      <td>50</td>\n      <td>9</td>\n      <td>8</td>\n      <td>8</td>\n      <td>1054</td>\n      <td>24.2</td>\n      <td>201</td>\n      <td>4.02</td>\n      <td>0</td>\n      <td>1</td>\n      <td>7</td>\n      <td>0</td>\n      <td>0</td>\n    </tr>\n    <tr>\n      <th>3</th>\n      <td>c432f4d9cac0cc68e786d054c1ec771f</td>\n      <td>31925609</td>\n      <td>4.829355</td>\n      <td>52.017056</td>\n      <td>2020-05-18 11:59:08</td>\n      <td>19</td>\n      <td>57</td>\n      <td>4</td>\n      <td>4</td>\n      <td>4</td>\n      <td>1049</td>\n      <td>23.3</td>\n      <td>187</td>\n      <td>3.81</td>\n      <td>0</td>\n      <td>1</td>\n      <td>7</td>\n      <td>0</td>\n      <td>0</td>\n    </tr>\n    <tr>\n      <th>4</th>\n      <td>74678958154e0d1a078e5a6f50b73b73</td>\n      <td>31925640</td>\n      <td>5.056912</td>\n      <td>52.022751</td>\n      <td>2020-05-18 11:59:07</td>\n      <td>16</td>\n      <td>55</td>\n      <td>7</td>\n      <td>6</td>\n      <td>7</td>\n      <td>1042</td>\n      <td>21.5</td>\n      <td>189</td>\n      <td>4.06</td>\n      <td>0</td>\n      <td>1</td>\n      <td>7</td>\n      <td>1</td>\n      <td>0</td>\n    </tr>\n  </tbody>\n</table>\n</div>"
     },
     "metadata": {},
     "execution_count": 121
    }
   ],
   "source": [
    "snuffel_all.head()"
   ]
  },
  {
   "source": [
    "utrecht = gpd.read_file(\"../data/external/WijkBuurtkaart_2020_v1/gem_utrecht.shp\")\n",
    "\n",
    "\n",
    "for csv in tqdm(test_csv_urls): \n",
    "    response = requests.get(csv)\n",
    "    file_object = io.StringIO(response.content.decode('utf-8'))\n",
    "    df = pd.read_csv(file_object, usecols=['sensor', 'air_quality_observed_id', 'lon', 'lat',\n",
    "     'recording_time', 'trip_sequence', 'humidity', 'pm2_5', 'pressure', 'temperature'])\n",
    "    df['recording_time'] = pd.to_datetime(df['recording_time'], format=\"%Y-%m-%d %H:%M:%S\")\n",
    "\n",
    "\n",
    "    # Remove all measurements with pm2.5 <0.5 or >150 ug/m3.\n",
    "    df = df[~((df[\"pm2_5\"]<0.5)|(df[\"pm2_5\"]>150))]\n",
    "\n",
    "\n",
    "    # Remove all measurements with avg. speed >45 km/h (=12.5 m/s)\n",
    "    geo_df = gpd.GeoDataFrame(df, geometry=gpd.points_from_xy(df['lon'],df['lat'], crs=\"EPSG:4326\"))\n",
    "    geo_df = geo_df.sort_values(by=['sensor', 'recording_time'])\n",
    "    geo_df = geo_df.to_crs(\"EPSG:28992\") # from WGS84 Geographic to Amersfoort / RD New Projected\n",
    "\n",
    "    geo_df['distance'] = geo_df.distance(geo_df.shift(1)) # distance between two consecutive measurements\n",
    "    geo_df['delta_time'] = geo_df['recording_time'] - geo_df['recording_time'].shift(1) # delta_time between two consecutive measurements\n",
    "    geo_df['delta_time'] = geo_df['delta_time'].dt.seconds # convert to seconds\n",
    "    geo_df['avg_speed_ms'] = geo_df['distance'] / geo_df['delta_time'] # avg(v)=x/t\n",
    "\n",
    "    geo_df = geo_df[~(geo_df['avg_speed_ms']>12.5)]\n",
    "\n",
    "\n",
    "    # Remove all measurements outside of Utrecht Province.\n",
    "    geo_df = gpd.sjoin(geo_df, utrecht, how=\"inner\", op='within')\n",
    "\n",
    "\n",
    "    # Save as .csv-file\n",
    "    geo_df.drop(labels=[\"geometry\",'GM_CODE', 'JRSTATCODE', 'GM_NAAM', 'H2O', 'OAD', 'STED', 'BEV_DICHTH',\n",
    "       'AANT_INW', 'AANT_MAN', 'AANT_VROUW', 'P_00_14_JR', 'P_15_24_JR',\n",
    "       'P_25_44_JR', 'P_45_64_JR', 'P_65_EO_JR', 'P_ONGEHUWD', 'P_GEHUWD',\n",
    "       'P_GESCHEID', 'P_VERWEDUW', 'AANTAL_HH', 'P_EENP_HH', 'P_HH_Z_K',\n",
    "       'P_HH_M_K', 'GEM_HH_GR', 'P_WEST_AL', 'P_N_W_AL', 'P_MAROKKO',\n",
    "       'P_ANT_ARU', 'P_SURINAM', 'P_TURKIJE', 'P_OVER_NW', 'OPP_TOT',\n",
    "       'OPP_LAND', 'OPP_WATER', 'Shape_Leng', 'Shape_Area'], inplace=True, axis=1)\n",
    "    geo_df.reset_index(drop=True, inplace=True)\n",
    "    filename = \"../data/external/city/\" + csv.split('/')[-1]\n",
    "    geo_df.to_csv(filename, index=False)\n"
   ],
   "cell_type": "code",
   "metadata": {},
   "execution_count": 10,
   "outputs": [
    {
     "output_type": "stream",
     "name": "stderr",
     "text": [
      "100%|██████████| 3/3 [00:27<00:00,  9.04s/it]\n"
     ]
    }
   ]
  },
  {
   "cell_type": "code",
   "execution_count": 8,
   "metadata": {},
   "outputs": [
    {
     "output_type": "execute_result",
     "data": {
      "text/plain": [
       "Index(['GM_CODE', 'JRSTATCODE', 'GM_NAAM', 'H2O', 'OAD', 'STED', 'BEV_DICHTH',\n",
       "       'AANT_INW', 'AANT_MAN', 'AANT_VROUW', 'P_00_14_JR', 'P_15_24_JR',\n",
       "       'P_25_44_JR', 'P_45_64_JR', 'P_65_EO_JR', 'P_ONGEHUWD', 'P_GEHUWD',\n",
       "       'P_GESCHEID', 'P_VERWEDUW', 'AANTAL_HH', 'P_EENP_HH', 'P_HH_Z_K',\n",
       "       'P_HH_M_K', 'GEM_HH_GR', 'P_WEST_AL', 'P_N_W_AL', 'P_MAROKKO',\n",
       "       'P_ANT_ARU', 'P_SURINAM', 'P_TURKIJE', 'P_OVER_NW', 'OPP_TOT',\n",
       "       'OPP_LAND', 'OPP_WATER', 'Shape_Leng', 'Shape_Area', 'geometry'],\n",
       "      dtype='object')"
      ]
     },
     "metadata": {},
     "execution_count": 8
    }
   ],
   "source": [
    "utrecht.keys()"
   ]
  },
  {
   "cell_type": "code",
   "execution_count": null,
   "metadata": {},
   "outputs": [],
   "source": []
  }
 ]
}