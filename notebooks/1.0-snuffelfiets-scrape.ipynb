{
 "metadata": {
  "language_info": {
   "codemirror_mode": {
    "name": "ipython",
    "version": 3
   },
   "file_extension": ".py",
   "mimetype": "text/x-python",
   "name": "python",
   "nbconvert_exporter": "python",
   "pygments_lexer": "ipython3",
   "version": "3.8.8"
  },
  "orig_nbformat": 2,
  "kernelspec": {
   "name": "python388jvsc74a57bd06bfa853000390083a35d112b16e638a8e978943b5cf163568e56c68c8f4a453e",
   "display_name": "Python 3.8.8 64-bit ('thesis': conda)"
  }
 },
 "nbformat": 4,
 "nbformat_minor": 2,
 "cells": [
  {
   "cell_type": "code",
   "execution_count": 1,
   "metadata": {},
   "outputs": [],
   "source": [
    "# Import packages\r\n",
    "import pandas as pd \r\n",
    "import numpy as np \r\n",
    "import geopandas as gpd \r\n",
    "\r\n",
    "from tqdm import tqdm\r\n",
    "import requests\r\n",
    "from bs4 import BeautifulSoup\r\n",
    "import io\r\n",
    "import json"
   ]
  },
  {
   "source": [
    "## Downloading all Snuffelfiets data"
   ],
   "cell_type": "markdown",
   "metadata": {}
  },
  {
   "cell_type": "code",
   "execution_count": 46,
   "metadata": {},
   "outputs": [],
   "source": [
    "url = 'https://ckan.dataplatform.nl/api/3/action/package_show?id=9cc4de28-6d03-4b59-8c66-085b3e8b3956&include_tracking=true'\n",
    "\n",
    "r = requests.get(url)\n",
    "\n",
    "data = r.json()"
   ]
  },
  {
   "cell_type": "code",
   "execution_count": 112,
   "metadata": {},
   "outputs": [
    {
     "output_type": "execute_result",
     "data": {
      "text/plain": [
       "'https://ckan.dataplatform.nl/dataset/9cc4de28-6d03-4b59-8c66-085b3e8b3956/resource/a12b08b4-d0bf-45f9-b17c-20448369754c/download/resource_2020_05_11_2020_05_18.csv'"
      ]
     },
     "metadata": {},
     "execution_count": 112
    }
   ],
   "source": [
    "csv_urls = [x['url'] for x in data['result']['resources']]\n",
    "csv_urls[0]"
   ]
  },
  {
   "cell_type": "code",
   "execution_count": 119,
   "metadata": {},
   "outputs": [],
   "source": [
    "test_csv_urls = csv_urls[:3]"
   ]
  },
  {
   "source": [
    "### Warning: running the block below will result in downloading ~100 .csv's\n"
   ],
   "cell_type": "markdown",
   "metadata": {}
  },
  {
   "cell_type": "code",
   "execution_count": 118,
   "metadata": {},
   "outputs": [
    {
     "output_type": "stream",
     "name": "stderr",
     "text": [
      "100%|██████████| 5/5 [00:39<00:00,  7.98s/it]\n"
     ]
    }
   ],
   "source": [
    "data = []\n",
    "\n",
    "for csv in tqdm(test_csv_urls): \n",
    "    response = requests.get(csv)\n",
    "    file_object = io.StringIO(response.content.decode('utf-8'))\n",
    "    df = pd.read_csv(file_object)\n",
    "    data.append(df)\n",
    "\n",
    "\n",
    "df = pd.concat(data)    # merge all csv's\n",
    "df.reset_index(drop=True, inplace=True)\n",
    "df.to_csv(\"../data/external/all_snuffelfiets_raw.csv\", index=False)\n",
    "data = []   # clear memory"
   ]
  },
  {
   "cell_type": "code",
   "execution_count": 120,
   "metadata": {},
   "outputs": [],
   "source": [
    "snuffel_all = pd.read_csv(\"../data/external/all_snuffelfiets_raw.csv\")"
   ]
  },
  {
   "cell_type": "code",
   "execution_count": 121,
   "metadata": {},
   "outputs": [
    {
     "output_type": "execute_result",
     "data": {
      "text/plain": [
       "                             sensor  air_quality_observed_id       lon  \\\n",
       "0  c432f4d9cac0cc68e786d054c1ec771f                 31925610  4.830358   \n",
       "1  74678958154e0d1a078e5a6f50b73b73                 31925642  5.057220   \n",
       "2  7d320c4527e25b06c3c2cfc68c917019                 31925576  5.237413   \n",
       "3  c432f4d9cac0cc68e786d054c1ec771f                 31925609  4.829355   \n",
       "4  74678958154e0d1a078e5a6f50b73b73                 31925640  5.056912   \n",
       "\n",
       "         lat       recording_time  trip_sequence  humidity  pm10  pm1_0  \\\n",
       "0  52.017010  2020-05-18 11:59:19             19        57     4      4   \n",
       "1  52.023201  2020-05-18 11:59:19             16        55     6      6   \n",
       "2  52.023979  2020-05-18 11:59:16             39        50     9      8   \n",
       "3  52.017056  2020-05-18 11:59:08             19        57     4      4   \n",
       "4  52.022751  2020-05-18 11:59:07             16        55     7      6   \n",
       "\n",
       "   pm2_5  pressure  temperature  voc  voltage  error_code  version_major  \\\n",
       "0      4      1049         23.4  188     3.81           0              1   \n",
       "1      6      1042         21.5  190     4.06           0              1   \n",
       "2      8      1054         24.2  201     4.02           0              1   \n",
       "3      4      1049         23.3  187     3.81           0              1   \n",
       "4      7      1042         21.5  189     4.06           0              1   \n",
       "\n",
       "   version_minor  acc_max  no2  \n",
       "0              7        0    0  \n",
       "1              7        0    0  \n",
       "2              7        0    0  \n",
       "3              7        0    0  \n",
       "4              7        1    0  "
      ],
      "text/html": "<div>\n<style scoped>\n    .dataframe tbody tr th:only-of-type {\n        vertical-align: middle;\n    }\n\n    .dataframe tbody tr th {\n        vertical-align: top;\n    }\n\n    .dataframe thead th {\n        text-align: right;\n    }\n</style>\n<table border=\"1\" class=\"dataframe\">\n  <thead>\n    <tr style=\"text-align: right;\">\n      <th></th>\n      <th>sensor</th>\n      <th>air_quality_observed_id</th>\n      <th>lon</th>\n      <th>lat</th>\n      <th>recording_time</th>\n      <th>trip_sequence</th>\n      <th>humidity</th>\n      <th>pm10</th>\n      <th>pm1_0</th>\n      <th>pm2_5</th>\n      <th>pressure</th>\n      <th>temperature</th>\n      <th>voc</th>\n      <th>voltage</th>\n      <th>error_code</th>\n      <th>version_major</th>\n      <th>version_minor</th>\n      <th>acc_max</th>\n      <th>no2</th>\n    </tr>\n  </thead>\n  <tbody>\n    <tr>\n      <th>0</th>\n      <td>c432f4d9cac0cc68e786d054c1ec771f</td>\n      <td>31925610</td>\n      <td>4.830358</td>\n      <td>52.017010</td>\n      <td>2020-05-18 11:59:19</td>\n      <td>19</td>\n      <td>57</td>\n      <td>4</td>\n      <td>4</td>\n      <td>4</td>\n      <td>1049</td>\n      <td>23.4</td>\n      <td>188</td>\n      <td>3.81</td>\n      <td>0</td>\n      <td>1</td>\n      <td>7</td>\n      <td>0</td>\n      <td>0</td>\n    </tr>\n    <tr>\n      <th>1</th>\n      <td>74678958154e0d1a078e5a6f50b73b73</td>\n      <td>31925642</td>\n      <td>5.057220</td>\n      <td>52.023201</td>\n      <td>2020-05-18 11:59:19</td>\n      <td>16</td>\n      <td>55</td>\n      <td>6</td>\n      <td>6</td>\n      <td>6</td>\n      <td>1042</td>\n      <td>21.5</td>\n      <td>190</td>\n      <td>4.06</td>\n      <td>0</td>\n      <td>1</td>\n      <td>7</td>\n      <td>0</td>\n      <td>0</td>\n    </tr>\n    <tr>\n      <th>2</th>\n      <td>7d320c4527e25b06c3c2cfc68c917019</td>\n      <td>31925576</td>\n      <td>5.237413</td>\n      <td>52.023979</td>\n      <td>2020-05-18 11:59:16</td>\n      <td>39</td>\n      <td>50</td>\n      <td>9</td>\n      <td>8</td>\n      <td>8</td>\n      <td>1054</td>\n      <td>24.2</td>\n      <td>201</td>\n      <td>4.02</td>\n      <td>0</td>\n      <td>1</td>\n      <td>7</td>\n      <td>0</td>\n      <td>0</td>\n    </tr>\n    <tr>\n      <th>3</th>\n      <td>c432f4d9cac0cc68e786d054c1ec771f</td>\n      <td>31925609</td>\n      <td>4.829355</td>\n      <td>52.017056</td>\n      <td>2020-05-18 11:59:08</td>\n      <td>19</td>\n      <td>57</td>\n      <td>4</td>\n      <td>4</td>\n      <td>4</td>\n      <td>1049</td>\n      <td>23.3</td>\n      <td>187</td>\n      <td>3.81</td>\n      <td>0</td>\n      <td>1</td>\n      <td>7</td>\n      <td>0</td>\n      <td>0</td>\n    </tr>\n    <tr>\n      <th>4</th>\n      <td>74678958154e0d1a078e5a6f50b73b73</td>\n      <td>31925640</td>\n      <td>5.056912</td>\n      <td>52.022751</td>\n      <td>2020-05-18 11:59:07</td>\n      <td>16</td>\n      <td>55</td>\n      <td>7</td>\n      <td>6</td>\n      <td>7</td>\n      <td>1042</td>\n      <td>21.5</td>\n      <td>189</td>\n      <td>4.06</td>\n      <td>0</td>\n      <td>1</td>\n      <td>7</td>\n      <td>1</td>\n      <td>0</td>\n    </tr>\n  </tbody>\n</table>\n</div>"
     },
     "metadata": {},
     "execution_count": 121
    }
   ],
   "source": [
    "snuffel_all.head()"
   ]
  },
  {
   "cell_type": "code",
   "execution_count": 122,
   "metadata": {},
   "outputs": [
    {
     "output_type": "execute_result",
     "data": {
      "text/plain": [
       "['https://ckan.dataplatform.nl/dataset/9cc4de28-6d03-4b59-8c66-085b3e8b3956/resource/a12b08b4-d0bf-45f9-b17c-20448369754c/download/resource_2020_05_11_2020_05_18.csv',\n",
       " 'https://ckan.dataplatform.nl/dataset/9cc4de28-6d03-4b59-8c66-085b3e8b3956/resource/df752c8d-a9a6-4f94-b1ee-2d24e623c343/download/resource_2020_05_04_2020_05_11.csv',\n",
       " 'https://ckan.dataplatform.nl/dataset/9cc4de28-6d03-4b59-8c66-085b3e8b3956/resource/b9cf1bc9-d348-4663-9ab1-c4bab32e8bbb/download/resource_2020_04_27_2020_05_04.csv',\n",
       " 'https://ckan.dataplatform.nl/dataset/9cc4de28-6d03-4b59-8c66-085b3e8b3956/resource/13035a1f-59e0-4499-9fbe-5c7a6dbb15de/download/resource_2020_04_20_2020_04_27.csv',\n",
       " 'https://ckan.dataplatform.nl/dataset/9cc4de28-6d03-4b59-8c66-085b3e8b3956/resource/66571e1a-2567-4a0c-b077-c4a438d309a9/download/resource_2020_04_13_2020_04_20.csv',\n",
       " 'https://ckan.dataplatform.nl/dataset/9cc4de28-6d03-4b59-8c66-085b3e8b3956/resource/91816929-78ab-45a1-8b5e-1a9c46b575e1/download/resource_2020_04_06_2020_04_13.csv',\n",
       " 'https://ckan.dataplatform.nl/dataset/9cc4de28-6d03-4b59-8c66-085b3e8b3956/resource/ee246ab6-852e-4164-a80a-9cb1665e5dd0/download/resource_2020_03_30_2020_04_06.csv',\n",
       " 'https://ckan.dataplatform.nl/dataset/9cc4de28-6d03-4b59-8c66-085b3e8b3956/resource/d6689e40-7df6-46ae-9893-44d626c64a8f/download/resource_2020_03_23_2020_03_30.csv',\n",
       " 'https://ckan.dataplatform.nl/dataset/9cc4de28-6d03-4b59-8c66-085b3e8b3956/resource/f95cab3f-73e6-4907-b5fa-bc611c370eb2/download/resource_2020_03_16_2020_03_23.csv',\n",
       " 'https://ckan.dataplatform.nl/dataset/9cc4de28-6d03-4b59-8c66-085b3e8b3956/resource/74090bdd-cafb-4267-b75e-5f6789e9fb5f/download/resource_2020_03_09_2020_03_16.csv',\n",
       " 'https://ckan.dataplatform.nl/dataset/9cc4de28-6d03-4b59-8c66-085b3e8b3956/resource/c5d47a0a-2143-406f-bfd1-1a4299bdb2fb/download/resource_2020_03_02_2020_03_09.csv',\n",
       " 'https://ckan.dataplatform.nl/dataset/9cc4de28-6d03-4b59-8c66-085b3e8b3956/resource/ca44e9c8-f35a-42c4-8c89-b4303979740a/download/resource_2020_02_24_2020_03_02.csv',\n",
       " 'https://ckan.dataplatform.nl/dataset/9cc4de28-6d03-4b59-8c66-085b3e8b3956/resource/886c4d6a-d92b-433e-b962-7c1bea4a047c/download/resource_2020_02_17_2020_02_24.csv',\n",
       " 'https://ckan.dataplatform.nl/dataset/9cc4de28-6d03-4b59-8c66-085b3e8b3956/resource/d6f6b5c2-7238-4398-84db-1444a3afccce/download/resource_2020_02_10_2020_02_17.csv',\n",
       " 'https://ckan.dataplatform.nl/dataset/9cc4de28-6d03-4b59-8c66-085b3e8b3956/resource/f9a08fb7-e42f-47ed-8373-719c297d58df/download/resource_2020_02_03_2020_02_10.csv',\n",
       " 'https://ckan.dataplatform.nl/dataset/9cc4de28-6d03-4b59-8c66-085b3e8b3956/resource/c8928ab8-aaa0-4210-965e-8ad47003f444/download/resource_2020_01_27_2020_02_03.csv',\n",
       " 'https://ckan.dataplatform.nl/dataset/9cc4de28-6d03-4b59-8c66-085b3e8b3956/resource/76246575-416a-4877-84b8-f980edf09d35/download/resource_2020_01_20_2020_01_27.csv',\n",
       " 'https://ckan.dataplatform.nl/dataset/9cc4de28-6d03-4b59-8c66-085b3e8b3956/resource/f11c6b37-5904-479b-8526-4ab8a5bd86fb/download/resource_2020_01_13_2020_01_20.csv',\n",
       " 'https://ckan.dataplatform.nl/dataset/9cc4de28-6d03-4b59-8c66-085b3e8b3956/resource/abc9bd61-1d7d-4006-b297-5b63a9080338/download/resource_2020_01_06_2020_01_13.csv',\n",
       " 'https://ckan.dataplatform.nl/dataset/9cc4de28-6d03-4b59-8c66-085b3e8b3956/resource/a19fea45-6147-4de6-82e0-4953e6ad1b4f/download/resource_2019_12_30_2020_01_06.csv',\n",
       " 'https://ckan.dataplatform.nl/dataset/9cc4de28-6d03-4b59-8c66-085b3e8b3956/resource/b9039a0e-5bde-4c6e-aee1-1164cd596df7/download/resource_2019_12_23_2019_12_30.csv',\n",
       " 'https://ckan.dataplatform.nl/dataset/9cc4de28-6d03-4b59-8c66-085b3e8b3956/resource/adc4ba23-6581-4e76-9bc5-83d0eb5cd603/download/resource_2019_12_16_2019_12_23.csv',\n",
       " 'https://ckan.dataplatform.nl/dataset/9cc4de28-6d03-4b59-8c66-085b3e8b3956/resource/ee6471cf-2251-4c71-9313-6f89210e07d8/download/resource_2019_12_09_2019_12_16.csv',\n",
       " 'https://ckan.dataplatform.nl/dataset/9cc4de28-6d03-4b59-8c66-085b3e8b3956/resource/59f8f796-02cf-4979-83e6-455732ce4dfd/download/resource_2019_12_02_2019_12_09.csv',\n",
       " 'https://ckan.dataplatform.nl/dataset/9cc4de28-6d03-4b59-8c66-085b3e8b3956/resource/1dc187ad-e80f-44c4-a73c-7228cd8f2d98/download/resource_2019_11_25_2019_12_02.csv',\n",
       " 'https://ckan.dataplatform.nl/dataset/9cc4de28-6d03-4b59-8c66-085b3e8b3956/resource/1cd25721-f701-4c3e-9868-56be2b959ff2/download/resource_2019_11_18_2019_11_25.csv',\n",
       " 'https://ckan.dataplatform.nl/dataset/9cc4de28-6d03-4b59-8c66-085b3e8b3956/resource/d26f3a1e-090a-492c-9974-179a083472c9/download/resource_2019_11_11_2019_11_18.csv',\n",
       " 'https://ckan.dataplatform.nl/dataset/9cc4de28-6d03-4b59-8c66-085b3e8b3956/resource/75a92f89-f6e3-44b3-91ad-843ad396ab86/download/resource_2019_11_04_2019_11_11.csv',\n",
       " 'https://ckan.dataplatform.nl/dataset/9cc4de28-6d03-4b59-8c66-085b3e8b3956/resource/5a8e77fa-231d-4b7b-a0ea-2d35761b28c3/download/resource_2019_10_28_2019_11_04.csv',\n",
       " 'https://ckan.dataplatform.nl/dataset/9cc4de28-6d03-4b59-8c66-085b3e8b3956/resource/bbbdd7ea-b491-4615-98da-c25456b6c49f/download/resource_2019_10_07_2019_10_14.csv',\n",
       " 'https://ckan.dataplatform.nl/dataset/9cc4de28-6d03-4b59-8c66-085b3e8b3956/resource/004fb414-b874-49f6-b27c-ea3f785ffd94/download/resource_2019_09_30_2019_10_07.csv',\n",
       " 'https://ckan.dataplatform.nl/dataset/9cc4de28-6d03-4b59-8c66-085b3e8b3956/resource/dd9d1fdc-0dde-4090-a4cd-888c31807f92/download/resource_2019_09_16_2019_09_23.csv',\n",
       " 'https://ckan.dataplatform.nl/dataset/9cc4de28-6d03-4b59-8c66-085b3e8b3956/resource/fa53bfa5-9e52-4a4c-9d23-f7868a4aeb10/download/resource_2019_09_09_2019_09_16.csv',\n",
       " 'https://ckan.dataplatform.nl/dataset/9cc4de28-6d03-4b59-8c66-085b3e8b3956/resource/0a114d1e-d988-4136-9e74-df6f5087195e/download/resource_2019_09_02_2019_09_09.csv',\n",
       " 'https://ckan.dataplatform.nl/dataset/9cc4de28-6d03-4b59-8c66-085b3e8b3956/resource/59c6bbc3-06e3-4cab-8dee-ca017802af39/download/resource_2019_08_26_2019_09_02.csv',\n",
       " 'https://ckan.dataplatform.nl/dataset/9cc4de28-6d03-4b59-8c66-085b3e8b3956/resource/a3027d8e-86c8-417c-ad04-bd981a965c7b/download/resource_2019_08_12_2019_08_19.csv',\n",
       " 'https://ckan.dataplatform.nl/dataset/9cc4de28-6d03-4b59-8c66-085b3e8b3956/resource/637aecac-cd13-451f-896c-ba691c540a8c/download/resource_2019_08_05_2019_08_12.csv',\n",
       " 'https://ckan.dataplatform.nl/dataset/9cc4de28-6d03-4b59-8c66-085b3e8b3956/resource/9ef0ae4c-69fb-4a4a-8272-47f54122c38e/download/resource_2019_07_29_2019_08_05.csv',\n",
       " 'https://ckan.dataplatform.nl/dataset/9cc4de28-6d03-4b59-8c66-085b3e8b3956/resource/e9451012-ddba-4839-9db5-768542d80b97/download/resource_2019_07_22_2019_07_29.csv',\n",
       " 'https://ckan.dataplatform.nl/dataset/9cc4de28-6d03-4b59-8c66-085b3e8b3956/resource/5ddae398-4a55-41b0-a3c7-8337b3c5042c/download/resource_2019_07_08_2019_07_15.csv',\n",
       " 'https://ckan.dataplatform.nl/dataset/9cc4de28-6d03-4b59-8c66-085b3e8b3956/resource/80dbefdd-fe89-428d-b8cc-111bfcd42d84/download/resource_2019_07_01_2019_07_08.csv',\n",
       " 'https://ckan.dataplatform.nl/dataset/9cc4de28-6d03-4b59-8c66-085b3e8b3956/resource/69c6e010-6719-4640-86d6-ea47a1069ee3/download/resource_2019_06_24_2019_07_01.csv',\n",
       " 'https://ckan.dataplatform.nl/dataset/9cc4de28-6d03-4b59-8c66-085b3e8b3956/resource/56bc0809-785f-4fe0-971e-ef55ed800b32/download/resource_2019_06_17_2019_06_24.csv',\n",
       " 'https://ckan.dataplatform.nl/dataset/9cc4de28-6d03-4b59-8c66-085b3e8b3956/resource/7e6d66ba-a723-4815-900e-f6f5e0335f2e/download/resource_2019_06_10_2019_06_17.csv',\n",
       " 'https://ckan.dataplatform.nl/dataset/9cc4de28-6d03-4b59-8c66-085b3e8b3956/resource/8aec5212-cd52-4c81-80de-513d7d5b33a5/download/resource_2019_06_03_2019_06_10.csv',\n",
       " 'https://ckan.dataplatform.nl/dataset/9cc4de28-6d03-4b59-8c66-085b3e8b3956/resource/30aa6492-8af0-4388-9718-21edfa3eb6dc/download/resource_2019_05_27_2019_06_03.csv',\n",
       " 'https://ckan.dataplatform.nl/dataset/9cc4de28-6d03-4b59-8c66-085b3e8b3956/resource/7c4cee7b-9df1-431c-bb79-fc9db79a99af/download/resource_2019_10_21_2019_10_28.csv',\n",
       " 'https://ckan.dataplatform.nl/dataset/9cc4de28-6d03-4b59-8c66-085b3e8b3956/resource/1f9bc022-c415-40d9-8fec-118c1ce1b6fa/download/resource_2019_10_14_2019_10_21.csv',\n",
       " 'https://ckan.dataplatform.nl/dataset/9cc4de28-6d03-4b59-8c66-085b3e8b3956/resource/79005763-43db-4c6d-a92c-180fc266e9b3/download/resource_2019_09_23_2019_09_30.csv',\n",
       " 'https://ckan.dataplatform.nl/dataset/9cc4de28-6d03-4b59-8c66-085b3e8b3956/resource/2328289d-c2f7-4541-8458-ed50ec984b3d/download/resource_2019_08_19_2019_08_26.csv',\n",
       " 'https://ckan.dataplatform.nl/dataset/9cc4de28-6d03-4b59-8c66-085b3e8b3956/resource/22992435-ca08-4062-9361-25514f8ee6d4/download/resource_2019_07_15_2019_07_22.csv',\n",
       " 'https://ckan.dataplatform.nl/dataset/9cc4de28-6d03-4b59-8c66-085b3e8b3956/resource/4f459a41-ff47-4b1d-86ca-46651fed3dc3/download/resource_2020_05_18_2020_05_25.csv',\n",
       " 'https://ckan.dataplatform.nl/dataset/9cc4de28-6d03-4b59-8c66-085b3e8b3956/resource/a832908f-1d4e-462d-998b-b62e97c01cc9/download/resource_2020_05_25_2020_06_01.csv',\n",
       " 'https://ckan.dataplatform.nl/dataset/9cc4de28-6d03-4b59-8c66-085b3e8b3956/resource/929c4edd-3620-439f-bbc7-5518a1a2bb52/download/resource_2020_06_01_2020_06_08.csv',\n",
       " 'https://ckan.dataplatform.nl/dataset/9cc4de28-6d03-4b59-8c66-085b3e8b3956/resource/d92daeb7-7b7a-458f-a1d3-eb4183d5fb98/download/resource_2020_06_08_2020_06_15.csv',\n",
       " 'https://ckan.dataplatform.nl/dataset/9cc4de28-6d03-4b59-8c66-085b3e8b3956/resource/1c6da9c0-f333-4ecf-bfef-f09e9379a390/download/resource_2020_06_15_2020_06_22.csv',\n",
       " 'https://ckan.dataplatform.nl/dataset/9cc4de28-6d03-4b59-8c66-085b3e8b3956/resource/80337d01-b670-4de8-849f-232cff1e754b/download/resource_2020_01_20_2020_01_27.csv',\n",
       " 'https://ckan.dataplatform.nl/dataset/9cc4de28-6d03-4b59-8c66-085b3e8b3956/resource/d7209369-9b85-4760-9d32-a967f1a2e09f/download/resource_2020_06_22_2020_06_29.csv',\n",
       " 'https://ckan.dataplatform.nl/dataset/9cc4de28-6d03-4b59-8c66-085b3e8b3956/resource/d3fb2b78-fbe9-4df8-a87c-047438595036/download/resource_2020_06_29_2020_07_06.csv',\n",
       " 'https://ckan.dataplatform.nl/dataset/9cc4de28-6d03-4b59-8c66-085b3e8b3956/resource/86e13fa0-e566-4380-8b3b-fcdbdd7dd0ee/download/resource_2020_07_06_2020_07_13.csv',\n",
       " 'https://ckan.dataplatform.nl/dataset/9cc4de28-6d03-4b59-8c66-085b3e8b3956/resource/8bcade81-0da1-46a8-9f11-1988b692e987/download/resource_2020_07_13_2020_07_20.csv',\n",
       " 'https://ckan.dataplatform.nl/dataset/9cc4de28-6d03-4b59-8c66-085b3e8b3956/resource/03b5d208-8549-48a0-8257-0fc3034c05aa/download/resource_2020_07_20_2020_07_27.csv',\n",
       " 'https://ckan.dataplatform.nl/dataset/9cc4de28-6d03-4b59-8c66-085b3e8b3956/resource/0fddf2a2-3c2b-4dee-a47e-dd4b219748d5/download/resource_2020_07_27_2020_08_03.csv',\n",
       " 'https://ckan.dataplatform.nl/dataset/9cc4de28-6d03-4b59-8c66-085b3e8b3956/resource/11d1fb9c-eb14-4df2-b743-ae14f4ff9c07/download/resource_2020_08_03_2020_08_10.csv',\n",
       " 'https://ckan.dataplatform.nl/dataset/9cc4de28-6d03-4b59-8c66-085b3e8b3956/resource/3344f1cd-6aa1-4598-9c84-bd54526969da/download/resource_2020_08_10_2020_08_17.csv',\n",
       " 'https://ckan.dataplatform.nl/dataset/9cc4de28-6d03-4b59-8c66-085b3e8b3956/resource/7271b32d-79df-4fea-b9f3-42b441dbd14c/download/resource_2020_07_20_2020_07_27.csv',\n",
       " 'https://ckan.dataplatform.nl/dataset/9cc4de28-6d03-4b59-8c66-085b3e8b3956/resource/d11ff4ac-2666-4b5e-8718-fb1a98e1e0b0/download/resource_2020_08_17_2020_08_24.csv',\n",
       " 'https://ckan.dataplatform.nl/dataset/9cc4de28-6d03-4b59-8c66-085b3e8b3956/resource/b90fe427-4681-49cd-9533-49b1a3069b25/download/resource_2020_08_24_2020_08_31.csv',\n",
       " 'https://ckan.dataplatform.nl/dataset/9cc4de28-6d03-4b59-8c66-085b3e8b3956/resource/286a8294-43fa-47be-b940-5730f0bf6f81/download/resource_2020_08_31_2020_09_07.csv',\n",
       " 'https://ckan.dataplatform.nl/dataset/9cc4de28-6d03-4b59-8c66-085b3e8b3956/resource/f1284426-ee7a-423d-97a1-b531fc8eb004/download/resource_2020_09_07_2020_09_14.csv',\n",
       " 'https://ckan.dataplatform.nl/dataset/9cc4de28-6d03-4b59-8c66-085b3e8b3956/resource/2b6e5976-6f47-4e01-a2e2-e87d99f1934a/download/resource_2020_09_14_2020_09_21.csv',\n",
       " 'https://ckan.dataplatform.nl/dataset/9cc4de28-6d03-4b59-8c66-085b3e8b3956/resource/c535d283-aa60-4048-9302-ece14aa0d49f/download/resource_2020_09_21_2020_09_28.csv',\n",
       " 'https://ckan.dataplatform.nl/dataset/9cc4de28-6d03-4b59-8c66-085b3e8b3956/resource/c1dcba47-5717-4f9f-8f97-2fd7f96f0778/download/resource_2020_09_28_2020_10_05.csv',\n",
       " 'https://ckan.dataplatform.nl/dataset/9cc4de28-6d03-4b59-8c66-085b3e8b3956/resource/42358fb7-24ec-449b-b69e-46d5645a1b5b/download/resource_2020_10_05_2020_10_12.csv',\n",
       " 'https://ckan.dataplatform.nl/dataset/9cc4de28-6d03-4b59-8c66-085b3e8b3956/resource/0990a5bf-4753-42d3-bca5-988d0a3dec72/download/resource_2020_10_12_2020_10_19.csv',\n",
       " 'https://ckan.dataplatform.nl/dataset/9cc4de28-6d03-4b59-8c66-085b3e8b3956/resource/d6f2b63f-6157-4586-9424-963bedecbf2b/download/resource_2020_10_19_2020_10_26.csv',\n",
       " 'https://ckan.dataplatform.nl/dataset/9cc4de28-6d03-4b59-8c66-085b3e8b3956/resource/75f687c6-0f6f-402c-a29c-c48e4b8c5082/download/resource_2020_10_26_2020_11_02.csv',\n",
       " 'https://ckan.dataplatform.nl/dataset/9cc4de28-6d03-4b59-8c66-085b3e8b3956/resource/90a269bb-cbde-481f-b77e-f8aab5de2fdd/download/resource_2020_11_02_2020_11_09.csv',\n",
       " 'https://ckan.dataplatform.nl/dataset/9cc4de28-6d03-4b59-8c66-085b3e8b3956/resource/8844c74c-e10e-45cf-a7b3-a59faa518f98/download/resource_2020_11_09_2020_11_16.csv',\n",
       " 'https://ckan.dataplatform.nl/dataset/9cc4de28-6d03-4b59-8c66-085b3e8b3956/resource/93145445-06a1-4e9b-988f-3250bf24579d/download/resource_2020_11_16_2020_11_23.csv',\n",
       " 'https://ckan.dataplatform.nl/dataset/9cc4de28-6d03-4b59-8c66-085b3e8b3956/resource/c1f0b94b-126d-477e-89da-9a997d6f7549/download/resource_2020_11_23_2020_11_30.csv',\n",
       " 'https://ckan.dataplatform.nl/dataset/9cc4de28-6d03-4b59-8c66-085b3e8b3956/resource/3ba5d622-5bf0-45be-9656-8856d43a4e18/download/resource_2020_11_30_2020_12_07.csv',\n",
       " 'https://ckan.dataplatform.nl/dataset/9cc4de28-6d03-4b59-8c66-085b3e8b3956/resource/e12ee7a7-8955-42a5-9c26-df95658dfea7/download/resource_2020_12_07_2020_12_14.csv',\n",
       " 'https://ckan.dataplatform.nl/dataset/9cc4de28-6d03-4b59-8c66-085b3e8b3956/resource/baed9afd-c5fa-4a88-8ac2-27aa1965dd72/download/resource_2020_12_14_2020_12_21.csv',\n",
       " 'https://ckan.dataplatform.nl/dataset/9cc4de28-6d03-4b59-8c66-085b3e8b3956/resource/a0233ff5-791f-46fe-a521-69c59fa89003/download/resource_2020_12_21_2020_12_28.csv',\n",
       " 'https://ckan.dataplatform.nl/dataset/9cc4de28-6d03-4b59-8c66-085b3e8b3956/resource/8421a3b0-119e-407d-b5ac-de74427433c1/download/resource_2020_12_28_2021_01_04.csv',\n",
       " 'https://ckan.dataplatform.nl/dataset/9cc4de28-6d03-4b59-8c66-085b3e8b3956/resource/cfcd8d4e-4edf-4ac8-b5dd-8ed7b019e36c/download/resource_2021_01_04_2021_01_11.csv',\n",
       " 'https://ckan.dataplatform.nl/dataset/9cc4de28-6d03-4b59-8c66-085b3e8b3956/resource/e1f3d4b4-36ba-49ef-8ee3-d5256b7d323a/download/resource_2021_01_11_2021_01_18.csv',\n",
       " 'https://ckan.dataplatform.nl/dataset/9cc4de28-6d03-4b59-8c66-085b3e8b3956/resource/ccd53fc6-66f9-4539-8ef7-3f8205abf174/download/resource_2021_01_18_2021_01_25.csv',\n",
       " 'https://ckan.dataplatform.nl/dataset/9cc4de28-6d03-4b59-8c66-085b3e8b3956/resource/b27e0d1b-aefe-4d17-a8c3-ca59a1e4e9e3/download/resource_2021_01_25_2021_02_01.csv',\n",
       " 'https://ckan.dataplatform.nl/dataset/9cc4de28-6d03-4b59-8c66-085b3e8b3956/resource/d446c5b0-9edf-40e0-98ef-711068ddac0c/download/resource_2021_02_01_2021_02_08.csv',\n",
       " 'https://ckan.dataplatform.nl/dataset/9cc4de28-6d03-4b59-8c66-085b3e8b3956/resource/6ab3be7e-ecb0-4b68-b489-b039dc2b12f4/download/resource_2021_02_08_2021_02_15.csv',\n",
       " 'https://ckan.dataplatform.nl/dataset/9cc4de28-6d03-4b59-8c66-085b3e8b3956/resource/9c5f9452-b3e1-4d9f-96cf-0af25f40737f/download/resource_2021_02_15_2021_02_22.csv',\n",
       " 'https://ckan.dataplatform.nl/dataset/9cc4de28-6d03-4b59-8c66-085b3e8b3956/resource/700db099-4367-48fd-9101-afd597f52d72/download/resource_2021_02_22_2021_03_01.csv',\n",
       " 'https://ckan.dataplatform.nl/dataset/9cc4de28-6d03-4b59-8c66-085b3e8b3956/resource/eab86b30-7bc7-409e-8a28-41b3ae89255e/download/resource_2021_03_01_2021_03_08.csv',\n",
       " 'https://ckan.dataplatform.nl/dataset/9cc4de28-6d03-4b59-8c66-085b3e8b3956/resource/68538c9c-9d06-4afd-a4a2-a979cc7f1f93/download/resource_2021_03_08_2021_03_15.csv',\n",
       " 'https://ckan.dataplatform.nl/dataset/9cc4de28-6d03-4b59-8c66-085b3e8b3956/resource/0e87f702-36b4-4736-be98-7630d38bb570/download/resource_2021_03_15_2021_03_22.csv',\n",
       " 'https://ckan.dataplatform.nl/dataset/9cc4de28-6d03-4b59-8c66-085b3e8b3956/resource/0002cd59-02fd-4a2b-802d-dea7d4cafe70/download/resource_2021_03_22_2021_03_29.csv',\n",
       " 'https://ckan.dataplatform.nl/dataset/9cc4de28-6d03-4b59-8c66-085b3e8b3956/resource/4106c3f4-537c-4a04-a64b-c1aab412ced9/download/resource_2021_03_29_2021_04_05.csv',\n",
       " 'https://ckan.dataplatform.nl/dataset/9cc4de28-6d03-4b59-8c66-085b3e8b3956/resource/b20f86a6-7f19-45da-bb8b-0e8ad0b19781/download/resource_2021_04_05_2021_04_12.csv',\n",
       " 'https://ckan.dataplatform.nl/dataset/9cc4de28-6d03-4b59-8c66-085b3e8b3956/resource/4f7a4c0e-f49c-4c76-840a-84e43d0bf642/download/resource_2021_04_12_2021_04_19.csv',\n",
       " 'https://ckan.dataplatform.nl/dataset/9cc4de28-6d03-4b59-8c66-085b3e8b3956/resource/24589b6f-1fea-47ad-b7b5-09079a007e91/download/resource_2021_04_19_2021_04_26.csv']"
      ]
     },
     "metadata": {},
     "execution_count": 122
    }
   ],
   "source": [
    "csv_urls"
   ]
  },
  {
   "source": [],
   "cell_type": "markdown",
   "metadata": {}
  }
 ]
}