{
 "metadata": {
  "language_info": {
   "codemirror_mode": {
    "name": "ipython",
    "version": 3
   },
   "file_extension": ".py",
   "mimetype": "text/x-python",
   "name": "python",
   "nbconvert_exporter": "python",
   "pygments_lexer": "ipython3",
   "version": "3.8.8"
  },
  "orig_nbformat": 2,
  "kernelspec": {
   "name": "python388jvsc74a57bd06bfa853000390083a35d112b16e638a8e978943b5cf163568e56c68c8f4a453e",
   "display_name": "Python 3.8.8 64-bit ('thesis': conda)"
  }
 },
 "nbformat": 4,
 "nbformat_minor": 2,
 "cells": [
  {
   "cell_type": "code",
   "execution_count": 14,
   "metadata": {},
   "outputs": [],
   "source": [
    "# Import packages\n",
    "import pandas as pd \n",
    "import numpy as np \n",
    "import geopandas as gpd\n",
    "\n",
    "from tqdm import tqdm\n",
    "import requests\n",
    "import io\n",
    "import json\n",
    "import plotly.express as px\n"
   ]
  },
  {
   "cell_type": "code",
   "execution_count": 5,
   "metadata": {},
   "outputs": [
    {
     "output_type": "execute_result",
     "data": {
      "text/plain": [
       "                      WK_NAAM  GM_NAAM  BEV_DICHTH  AANT_INW  AANT_MAN  \\\n",
       "839              Wijk 01 West  Utrecht        3614     29270     14210   \n",
       "840         Wijk 02 Noordwest  Utrecht       10294     45255     22060   \n",
       "841         Wijk 03 Overvecht  Utrecht        4193     34295     17200   \n",
       "842         Wijk 04 Noordoost  Utrecht        7966     39680     18780   \n",
       "843              Wijk 05 Oost  Utrecht        2987     32080     14905   \n",
       "844        Wijk 06 Binnenstad  Utrecht        7371     19165      9815   \n",
       "845              Wijk 07 Zuid  Utrecht        6077     27895     13685   \n",
       "846          Wijk 08 Zuidwest  Utrecht        7635     38620     19430   \n",
       "847     Wijk 09 Leidsche Rijn  Utrecht        3944     41290     20685   \n",
       "848  Wijk 10 Vleuten-De Meern  Utrecht        1435     49795     24465   \n",
       "\n",
       "     AANT_VROUW  AANTAL_HH  OPP_TOT  OPP_LAND  OPP_WATER  \\\n",
       "839       15055      15350      898       810         88   \n",
       "840       23195      24655      453       440         14   \n",
       "841       17095      16670      848       818         30   \n",
       "842       20895      21440      507       498          9   \n",
       "843       17170      20820     1104      1074         30   \n",
       "844        9345      12755      271       260         11   \n",
       "845       14210      14890      473       459         14   \n",
       "846       19190      19985      555       506         49   \n",
       "847       20605      16355     1126      1047         79   \n",
       "848       25330      18540     3685      3471        214   \n",
       "\n",
       "                                              geometry  \n",
       "839  POLYGON ((133755.081 456695.605, 133754.085 45...  \n",
       "840  POLYGON ((133828.685 457994.883, 133766.874 45...  \n",
       "841  POLYGON ((134335.839 458999.112, 134250.809 45...  \n",
       "842  POLYGON ((136313.674 457683.622, 136347.644 45...  \n",
       "843  POLYGON ((137357.132 455270.002, 137352.610 45...  \n",
       "844  POLYGON ((135973.382 456367.876, 136051.013 45...  \n",
       "845  POLYGON ((136374.068 453213.248, 136472.663 45...  \n",
       "846  POLYGON ((134487.691 453674.259, 134356.758 45...  \n",
       "847  POLYGON ((131472.956 455779.536, 131472.911 45...  \n",
       "848  POLYGON ((128020.999 456069.697, 128017.276 45...  "
      ],
      "text/html": "<div>\n<style scoped>\n    .dataframe tbody tr th:only-of-type {\n        vertical-align: middle;\n    }\n\n    .dataframe tbody tr th {\n        vertical-align: top;\n    }\n\n    .dataframe thead th {\n        text-align: right;\n    }\n</style>\n<table border=\"1\" class=\"dataframe\">\n  <thead>\n    <tr style=\"text-align: right;\">\n      <th></th>\n      <th>WK_NAAM</th>\n      <th>GM_NAAM</th>\n      <th>BEV_DICHTH</th>\n      <th>AANT_INW</th>\n      <th>AANT_MAN</th>\n      <th>AANT_VROUW</th>\n      <th>AANTAL_HH</th>\n      <th>OPP_TOT</th>\n      <th>OPP_LAND</th>\n      <th>OPP_WATER</th>\n      <th>geometry</th>\n    </tr>\n  </thead>\n  <tbody>\n    <tr>\n      <th>839</th>\n      <td>Wijk 01 West</td>\n      <td>Utrecht</td>\n      <td>3614</td>\n      <td>29270</td>\n      <td>14210</td>\n      <td>15055</td>\n      <td>15350</td>\n      <td>898</td>\n      <td>810</td>\n      <td>88</td>\n      <td>POLYGON ((133755.081 456695.605, 133754.085 45...</td>\n    </tr>\n    <tr>\n      <th>840</th>\n      <td>Wijk 02 Noordwest</td>\n      <td>Utrecht</td>\n      <td>10294</td>\n      <td>45255</td>\n      <td>22060</td>\n      <td>23195</td>\n      <td>24655</td>\n      <td>453</td>\n      <td>440</td>\n      <td>14</td>\n      <td>POLYGON ((133828.685 457994.883, 133766.874 45...</td>\n    </tr>\n    <tr>\n      <th>841</th>\n      <td>Wijk 03 Overvecht</td>\n      <td>Utrecht</td>\n      <td>4193</td>\n      <td>34295</td>\n      <td>17200</td>\n      <td>17095</td>\n      <td>16670</td>\n      <td>848</td>\n      <td>818</td>\n      <td>30</td>\n      <td>POLYGON ((134335.839 458999.112, 134250.809 45...</td>\n    </tr>\n    <tr>\n      <th>842</th>\n      <td>Wijk 04 Noordoost</td>\n      <td>Utrecht</td>\n      <td>7966</td>\n      <td>39680</td>\n      <td>18780</td>\n      <td>20895</td>\n      <td>21440</td>\n      <td>507</td>\n      <td>498</td>\n      <td>9</td>\n      <td>POLYGON ((136313.674 457683.622, 136347.644 45...</td>\n    </tr>\n    <tr>\n      <th>843</th>\n      <td>Wijk 05 Oost</td>\n      <td>Utrecht</td>\n      <td>2987</td>\n      <td>32080</td>\n      <td>14905</td>\n      <td>17170</td>\n      <td>20820</td>\n      <td>1104</td>\n      <td>1074</td>\n      <td>30</td>\n      <td>POLYGON ((137357.132 455270.002, 137352.610 45...</td>\n    </tr>\n    <tr>\n      <th>844</th>\n      <td>Wijk 06 Binnenstad</td>\n      <td>Utrecht</td>\n      <td>7371</td>\n      <td>19165</td>\n      <td>9815</td>\n      <td>9345</td>\n      <td>12755</td>\n      <td>271</td>\n      <td>260</td>\n      <td>11</td>\n      <td>POLYGON ((135973.382 456367.876, 136051.013 45...</td>\n    </tr>\n    <tr>\n      <th>845</th>\n      <td>Wijk 07 Zuid</td>\n      <td>Utrecht</td>\n      <td>6077</td>\n      <td>27895</td>\n      <td>13685</td>\n      <td>14210</td>\n      <td>14890</td>\n      <td>473</td>\n      <td>459</td>\n      <td>14</td>\n      <td>POLYGON ((136374.068 453213.248, 136472.663 45...</td>\n    </tr>\n    <tr>\n      <th>846</th>\n      <td>Wijk 08 Zuidwest</td>\n      <td>Utrecht</td>\n      <td>7635</td>\n      <td>38620</td>\n      <td>19430</td>\n      <td>19190</td>\n      <td>19985</td>\n      <td>555</td>\n      <td>506</td>\n      <td>49</td>\n      <td>POLYGON ((134487.691 453674.259, 134356.758 45...</td>\n    </tr>\n    <tr>\n      <th>847</th>\n      <td>Wijk 09 Leidsche Rijn</td>\n      <td>Utrecht</td>\n      <td>3944</td>\n      <td>41290</td>\n      <td>20685</td>\n      <td>20605</td>\n      <td>16355</td>\n      <td>1126</td>\n      <td>1047</td>\n      <td>79</td>\n      <td>POLYGON ((131472.956 455779.536, 131472.911 45...</td>\n    </tr>\n    <tr>\n      <th>848</th>\n      <td>Wijk 10 Vleuten-De Meern</td>\n      <td>Utrecht</td>\n      <td>1435</td>\n      <td>49795</td>\n      <td>24465</td>\n      <td>25330</td>\n      <td>18540</td>\n      <td>3685</td>\n      <td>3471</td>\n      <td>214</td>\n      <td>POLYGON ((128020.999 456069.697, 128017.276 45...</td>\n    </tr>\n  </tbody>\n</table>\n</div>"
     },
     "metadata": {},
     "execution_count": 5
    }
   ],
   "source": [
    "districts = gpd.read_file(\"../data/external/WijkBuurtkaart_2020_v1/wijk_2020_v1.shp\")\n",
    "utrecht_dist = districts[['WK_NAAM','GM_NAAM','BEV_DICHTH','AANT_INW', 'AANT_MAN', 'AANT_VROUW','AANTAL_HH','OPP_TOT', 'OPP_LAND', 'OPP_WATER','geometry']][districts[\"GM_NAAM\"]==\"Utrecht\"]\n",
    "utrecht_dist"
   ]
  },
  {
   "cell_type": "code",
   "execution_count": 6,
   "metadata": {},
   "outputs": [],
   "source": [
    "utrecht_dist[\"measurement_station\"] = utrecht_dist.representative_point()"
   ]
  },
  {
   "cell_type": "code",
   "execution_count": 10,
   "metadata": {},
   "outputs": [
    {
     "output_type": "execute_result",
     "data": {
      "text/plain": [
       "                                  sensor  air_quality_observed_id       lon  \\\n",
       "870     0256bbbcd69440f79ee1a6bcb061d213                 34786224  5.182125   \n",
       "871     0256bbbcd69440f79ee1a6bcb061d213                 34786225  5.181259   \n",
       "872     0256bbbcd69440f79ee1a6bcb061d213                 34786226  5.180094   \n",
       "873     0256bbbcd69440f79ee1a6bcb061d213                 34786227  5.178892   \n",
       "874     0256bbbcd69440f79ee1a6bcb061d213                 34786228  5.177822   \n",
       "...                                  ...                      ...       ...   \n",
       "153662  e1ff5e6bfd3be8138b1d6513d636f01e                 35396873  5.108903   \n",
       "153663  e1ff5e6bfd3be8138b1d6513d636f01e                 35396874  5.109118   \n",
       "153665  e1ff5e6bfd3be8138b1d6513d636f01e                 35396876  5.107979   \n",
       "153666  e1ff5e6bfd3be8138b1d6513d636f01e                 35396877  5.107298   \n",
       "153667  e1ff5e6bfd3be8138b1d6513d636f01e                 35396878  5.106561   \n",
       "\n",
       "              lat       recording_time  trip_sequence  humidity  pm2_5  \\\n",
       "870     52.088528  2020-06-15 18:29:52              0        54      2   \n",
       "871     52.088402  2020-06-15 18:30:04              0        54      2   \n",
       "872     52.088261  2020-06-15 18:30:16              0        54      2   \n",
       "873     52.088078  2020-06-15 18:30:28              0        54      2   \n",
       "874     52.087891  2020-06-15 18:30:40              0        54      2   \n",
       "...           ...                  ...            ...       ...    ...   \n",
       "153662  52.095333  2020-06-21 16:01:19             22        54      4   \n",
       "153663  52.095066  2020-06-21 16:01:31             22        54      3   \n",
       "153665  52.094696  2020-06-21 16:01:55             22        54      2   \n",
       "153666  52.094353  2020-06-21 16:02:07             22        54      3   \n",
       "153667  52.093922  2020-06-21 16:02:19             22        54      2   \n",
       "\n",
       "        pressure  temperature  ...  GM_NAAM  BEV_DICHTH  AANT_INW AANT_MAN  \\\n",
       "870         1036         24.7  ...  Utrecht        2987     32080    14905   \n",
       "871         1036         24.7  ...  Utrecht        2987     32080    14905   \n",
       "872         1036         24.8  ...  Utrecht        2987     32080    14905   \n",
       "873         1037         24.8  ...  Utrecht        2987     32080    14905   \n",
       "874         1037         24.8  ...  Utrecht        2987     32080    14905   \n",
       "...          ...          ...  ...      ...         ...       ...      ...   \n",
       "153662      1052         26.7  ...  Utrecht       10294     45255    22060   \n",
       "153663      1052         26.7  ...  Utrecht       10294     45255    22060   \n",
       "153665      1052         26.7  ...  Utrecht       10294     45255    22060   \n",
       "153666      1052         26.7  ...  Utrecht       10294     45255    22060   \n",
       "153667      1052         26.8  ...  Utrecht       10294     45255    22060   \n",
       "\n",
       "        AANT_VROUW AANTAL_HH OPP_TOT  OPP_LAND  OPP_WATER  \\\n",
       "870          17170     20820    1104      1074         30   \n",
       "871          17170     20820    1104      1074         30   \n",
       "872          17170     20820    1104      1074         30   \n",
       "873          17170     20820    1104      1074         30   \n",
       "874          17170     20820    1104      1074         30   \n",
       "...            ...       ...     ...       ...        ...   \n",
       "153662       23195     24655     453       440         14   \n",
       "153663       23195     24655     453       440         14   \n",
       "153665       23195     24655     453       440         14   \n",
       "153666       23195     24655     453       440         14   \n",
       "153667       23195     24655     453       440         14   \n",
       "\n",
       "                  measurement_station  \n",
       "870     POINT (138258.202 454388.051)  \n",
       "871     POINT (138258.202 454388.051)  \n",
       "872     POINT (138258.202 454388.051)  \n",
       "873     POINT (138258.202 454388.051)  \n",
       "874     POINT (138258.202 454388.051)  \n",
       "...                               ...  \n",
       "153662  POINT (134646.528 458056.888)  \n",
       "153663  POINT (134646.528 458056.888)  \n",
       "153665  POINT (134646.528 458056.888)  \n",
       "153666  POINT (134646.528 458056.888)  \n",
       "153667  POINT (134646.528 458056.888)  \n",
       "\n",
       "[37648 rows x 26 columns]"
      ],
      "text/html": "<div>\n<style scoped>\n    .dataframe tbody tr th:only-of-type {\n        vertical-align: middle;\n    }\n\n    .dataframe tbody tr th {\n        vertical-align: top;\n    }\n\n    .dataframe thead th {\n        text-align: right;\n    }\n</style>\n<table border=\"1\" class=\"dataframe\">\n  <thead>\n    <tr style=\"text-align: right;\">\n      <th></th>\n      <th>sensor</th>\n      <th>air_quality_observed_id</th>\n      <th>lon</th>\n      <th>lat</th>\n      <th>recording_time</th>\n      <th>trip_sequence</th>\n      <th>humidity</th>\n      <th>pm2_5</th>\n      <th>pressure</th>\n      <th>temperature</th>\n      <th>...</th>\n      <th>GM_NAAM</th>\n      <th>BEV_DICHTH</th>\n      <th>AANT_INW</th>\n      <th>AANT_MAN</th>\n      <th>AANT_VROUW</th>\n      <th>AANTAL_HH</th>\n      <th>OPP_TOT</th>\n      <th>OPP_LAND</th>\n      <th>OPP_WATER</th>\n      <th>measurement_station</th>\n    </tr>\n  </thead>\n  <tbody>\n    <tr>\n      <th>870</th>\n      <td>0256bbbcd69440f79ee1a6bcb061d213</td>\n      <td>34786224</td>\n      <td>5.182125</td>\n      <td>52.088528</td>\n      <td>2020-06-15 18:29:52</td>\n      <td>0</td>\n      <td>54</td>\n      <td>2</td>\n      <td>1036</td>\n      <td>24.7</td>\n      <td>...</td>\n      <td>Utrecht</td>\n      <td>2987</td>\n      <td>32080</td>\n      <td>14905</td>\n      <td>17170</td>\n      <td>20820</td>\n      <td>1104</td>\n      <td>1074</td>\n      <td>30</td>\n      <td>POINT (138258.202 454388.051)</td>\n    </tr>\n    <tr>\n      <th>871</th>\n      <td>0256bbbcd69440f79ee1a6bcb061d213</td>\n      <td>34786225</td>\n      <td>5.181259</td>\n      <td>52.088402</td>\n      <td>2020-06-15 18:30:04</td>\n      <td>0</td>\n      <td>54</td>\n      <td>2</td>\n      <td>1036</td>\n      <td>24.7</td>\n      <td>...</td>\n      <td>Utrecht</td>\n      <td>2987</td>\n      <td>32080</td>\n      <td>14905</td>\n      <td>17170</td>\n      <td>20820</td>\n      <td>1104</td>\n      <td>1074</td>\n      <td>30</td>\n      <td>POINT (138258.202 454388.051)</td>\n    </tr>\n    <tr>\n      <th>872</th>\n      <td>0256bbbcd69440f79ee1a6bcb061d213</td>\n      <td>34786226</td>\n      <td>5.180094</td>\n      <td>52.088261</td>\n      <td>2020-06-15 18:30:16</td>\n      <td>0</td>\n      <td>54</td>\n      <td>2</td>\n      <td>1036</td>\n      <td>24.8</td>\n      <td>...</td>\n      <td>Utrecht</td>\n      <td>2987</td>\n      <td>32080</td>\n      <td>14905</td>\n      <td>17170</td>\n      <td>20820</td>\n      <td>1104</td>\n      <td>1074</td>\n      <td>30</td>\n      <td>POINT (138258.202 454388.051)</td>\n    </tr>\n    <tr>\n      <th>873</th>\n      <td>0256bbbcd69440f79ee1a6bcb061d213</td>\n      <td>34786227</td>\n      <td>5.178892</td>\n      <td>52.088078</td>\n      <td>2020-06-15 18:30:28</td>\n      <td>0</td>\n      <td>54</td>\n      <td>2</td>\n      <td>1037</td>\n      <td>24.8</td>\n      <td>...</td>\n      <td>Utrecht</td>\n      <td>2987</td>\n      <td>32080</td>\n      <td>14905</td>\n      <td>17170</td>\n      <td>20820</td>\n      <td>1104</td>\n      <td>1074</td>\n      <td>30</td>\n      <td>POINT (138258.202 454388.051)</td>\n    </tr>\n    <tr>\n      <th>874</th>\n      <td>0256bbbcd69440f79ee1a6bcb061d213</td>\n      <td>34786228</td>\n      <td>5.177822</td>\n      <td>52.087891</td>\n      <td>2020-06-15 18:30:40</td>\n      <td>0</td>\n      <td>54</td>\n      <td>2</td>\n      <td>1037</td>\n      <td>24.8</td>\n      <td>...</td>\n      <td>Utrecht</td>\n      <td>2987</td>\n      <td>32080</td>\n      <td>14905</td>\n      <td>17170</td>\n      <td>20820</td>\n      <td>1104</td>\n      <td>1074</td>\n      <td>30</td>\n      <td>POINT (138258.202 454388.051)</td>\n    </tr>\n    <tr>\n      <th>...</th>\n      <td>...</td>\n      <td>...</td>\n      <td>...</td>\n      <td>...</td>\n      <td>...</td>\n      <td>...</td>\n      <td>...</td>\n      <td>...</td>\n      <td>...</td>\n      <td>...</td>\n      <td>...</td>\n      <td>...</td>\n      <td>...</td>\n      <td>...</td>\n      <td>...</td>\n      <td>...</td>\n      <td>...</td>\n      <td>...</td>\n      <td>...</td>\n      <td>...</td>\n      <td>...</td>\n    </tr>\n    <tr>\n      <th>153662</th>\n      <td>e1ff5e6bfd3be8138b1d6513d636f01e</td>\n      <td>35396873</td>\n      <td>5.108903</td>\n      <td>52.095333</td>\n      <td>2020-06-21 16:01:19</td>\n      <td>22</td>\n      <td>54</td>\n      <td>4</td>\n      <td>1052</td>\n      <td>26.7</td>\n      <td>...</td>\n      <td>Utrecht</td>\n      <td>10294</td>\n      <td>45255</td>\n      <td>22060</td>\n      <td>23195</td>\n      <td>24655</td>\n      <td>453</td>\n      <td>440</td>\n      <td>14</td>\n      <td>POINT (134646.528 458056.888)</td>\n    </tr>\n    <tr>\n      <th>153663</th>\n      <td>e1ff5e6bfd3be8138b1d6513d636f01e</td>\n      <td>35396874</td>\n      <td>5.109118</td>\n      <td>52.095066</td>\n      <td>2020-06-21 16:01:31</td>\n      <td>22</td>\n      <td>54</td>\n      <td>3</td>\n      <td>1052</td>\n      <td>26.7</td>\n      <td>...</td>\n      <td>Utrecht</td>\n      <td>10294</td>\n      <td>45255</td>\n      <td>22060</td>\n      <td>23195</td>\n      <td>24655</td>\n      <td>453</td>\n      <td>440</td>\n      <td>14</td>\n      <td>POINT (134646.528 458056.888)</td>\n    </tr>\n    <tr>\n      <th>153665</th>\n      <td>e1ff5e6bfd3be8138b1d6513d636f01e</td>\n      <td>35396876</td>\n      <td>5.107979</td>\n      <td>52.094696</td>\n      <td>2020-06-21 16:01:55</td>\n      <td>22</td>\n      <td>54</td>\n      <td>2</td>\n      <td>1052</td>\n      <td>26.7</td>\n      <td>...</td>\n      <td>Utrecht</td>\n      <td>10294</td>\n      <td>45255</td>\n      <td>22060</td>\n      <td>23195</td>\n      <td>24655</td>\n      <td>453</td>\n      <td>440</td>\n      <td>14</td>\n      <td>POINT (134646.528 458056.888)</td>\n    </tr>\n    <tr>\n      <th>153666</th>\n      <td>e1ff5e6bfd3be8138b1d6513d636f01e</td>\n      <td>35396877</td>\n      <td>5.107298</td>\n      <td>52.094353</td>\n      <td>2020-06-21 16:02:07</td>\n      <td>22</td>\n      <td>54</td>\n      <td>3</td>\n      <td>1052</td>\n      <td>26.7</td>\n      <td>...</td>\n      <td>Utrecht</td>\n      <td>10294</td>\n      <td>45255</td>\n      <td>22060</td>\n      <td>23195</td>\n      <td>24655</td>\n      <td>453</td>\n      <td>440</td>\n      <td>14</td>\n      <td>POINT (134646.528 458056.888)</td>\n    </tr>\n    <tr>\n      <th>153667</th>\n      <td>e1ff5e6bfd3be8138b1d6513d636f01e</td>\n      <td>35396878</td>\n      <td>5.106561</td>\n      <td>52.093922</td>\n      <td>2020-06-21 16:02:19</td>\n      <td>22</td>\n      <td>54</td>\n      <td>2</td>\n      <td>1052</td>\n      <td>26.8</td>\n      <td>...</td>\n      <td>Utrecht</td>\n      <td>10294</td>\n      <td>45255</td>\n      <td>22060</td>\n      <td>23195</td>\n      <td>24655</td>\n      <td>453</td>\n      <td>440</td>\n      <td>14</td>\n      <td>POINT (134646.528 458056.888)</td>\n    </tr>\n  </tbody>\n</table>\n<p>37648 rows × 26 columns</p>\n</div>"
     },
     "metadata": {},
     "execution_count": 10
    }
   ],
   "source": [
    "df = pd.read_csv(\"../data/external/resource_2020_06_15_2020_06_22.csv\")\n",
    "geo_df = gpd.GeoDataFrame(df, geometry=gpd.points_from_xy(df['lon'],df['lat'], crs=\"EPSG:4326\"))\n",
    "geo_df = geo_df.to_crs(\"EPSG:28992\")\n",
    "\n",
    "geo_df = gpd.sjoin(geo_df, utrecht_dist, how=\"inner\", op='within')\n",
    "\n",
    "geo_df"
   ]
  },
  {
   "cell_type": "code",
   "execution_count": 11,
   "metadata": {},
   "outputs": [],
   "source": [
    "geo_df['recording_time'] = pd.to_datetime(df['recording_time'], format=\"%Y-%m-%d %H:%M:%S\")\n",
    "geo_df['date'] = geo_df['recording_time'].dt.date\n",
    "geo_df['hour'] = geo_df['recording_time'].dt.hour"
   ]
  },
  {
   "cell_type": "code",
   "execution_count": 18,
   "metadata": {},
   "outputs": [
    {
     "output_type": "execute_result",
     "data": {
      "text/plain": [
       "                      WK_NAAM        date  hour  pm2_5            datetime\n",
       "0                Wijk 01 West  2020-06-15    13    4.0 2020-06-15 13:00:00\n",
       "1                Wijk 01 West  2020-06-15    15    4.0 2020-06-15 15:00:00\n",
       "2                Wijk 01 West  2020-06-15    16    3.0 2020-06-15 16:00:00\n",
       "3                Wijk 01 West  2020-06-15    17    3.0 2020-06-15 17:00:00\n",
       "4                Wijk 01 West  2020-06-15    18    3.0 2020-06-15 18:00:00\n",
       "..                        ...         ...   ...    ...                 ...\n",
       "631  Wijk 10 Vleuten-De Meern  2020-06-21    17    3.0 2020-06-21 17:00:00\n",
       "632  Wijk 10 Vleuten-De Meern  2020-06-21    18    2.0 2020-06-21 18:00:00\n",
       "633  Wijk 10 Vleuten-De Meern  2020-06-21    19    2.0 2020-06-21 19:00:00\n",
       "634  Wijk 10 Vleuten-De Meern  2020-06-21    20    2.0 2020-06-21 20:00:00\n",
       "635  Wijk 10 Vleuten-De Meern  2020-06-21    21    2.0 2020-06-21 21:00:00\n",
       "\n",
       "[636 rows x 5 columns]"
      ],
      "text/html": "<div>\n<style scoped>\n    .dataframe tbody tr th:only-of-type {\n        vertical-align: middle;\n    }\n\n    .dataframe tbody tr th {\n        vertical-align: top;\n    }\n\n    .dataframe thead th {\n        text-align: right;\n    }\n</style>\n<table border=\"1\" class=\"dataframe\">\n  <thead>\n    <tr style=\"text-align: right;\">\n      <th></th>\n      <th>WK_NAAM</th>\n      <th>date</th>\n      <th>hour</th>\n      <th>pm2_5</th>\n      <th>datetime</th>\n    </tr>\n  </thead>\n  <tbody>\n    <tr>\n      <th>0</th>\n      <td>Wijk 01 West</td>\n      <td>2020-06-15</td>\n      <td>13</td>\n      <td>4.0</td>\n      <td>2020-06-15 13:00:00</td>\n    </tr>\n    <tr>\n      <th>1</th>\n      <td>Wijk 01 West</td>\n      <td>2020-06-15</td>\n      <td>15</td>\n      <td>4.0</td>\n      <td>2020-06-15 15:00:00</td>\n    </tr>\n    <tr>\n      <th>2</th>\n      <td>Wijk 01 West</td>\n      <td>2020-06-15</td>\n      <td>16</td>\n      <td>3.0</td>\n      <td>2020-06-15 16:00:00</td>\n    </tr>\n    <tr>\n      <th>3</th>\n      <td>Wijk 01 West</td>\n      <td>2020-06-15</td>\n      <td>17</td>\n      <td>3.0</td>\n      <td>2020-06-15 17:00:00</td>\n    </tr>\n    <tr>\n      <th>4</th>\n      <td>Wijk 01 West</td>\n      <td>2020-06-15</td>\n      <td>18</td>\n      <td>3.0</td>\n      <td>2020-06-15 18:00:00</td>\n    </tr>\n    <tr>\n      <th>...</th>\n      <td>...</td>\n      <td>...</td>\n      <td>...</td>\n      <td>...</td>\n      <td>...</td>\n    </tr>\n    <tr>\n      <th>631</th>\n      <td>Wijk 10 Vleuten-De Meern</td>\n      <td>2020-06-21</td>\n      <td>17</td>\n      <td>3.0</td>\n      <td>2020-06-21 17:00:00</td>\n    </tr>\n    <tr>\n      <th>632</th>\n      <td>Wijk 10 Vleuten-De Meern</td>\n      <td>2020-06-21</td>\n      <td>18</td>\n      <td>2.0</td>\n      <td>2020-06-21 18:00:00</td>\n    </tr>\n    <tr>\n      <th>633</th>\n      <td>Wijk 10 Vleuten-De Meern</td>\n      <td>2020-06-21</td>\n      <td>19</td>\n      <td>2.0</td>\n      <td>2020-06-21 19:00:00</td>\n    </tr>\n    <tr>\n      <th>634</th>\n      <td>Wijk 10 Vleuten-De Meern</td>\n      <td>2020-06-21</td>\n      <td>20</td>\n      <td>2.0</td>\n      <td>2020-06-21 20:00:00</td>\n    </tr>\n    <tr>\n      <th>635</th>\n      <td>Wijk 10 Vleuten-De Meern</td>\n      <td>2020-06-21</td>\n      <td>21</td>\n      <td>2.0</td>\n      <td>2020-06-21 21:00:00</td>\n    </tr>\n  </tbody>\n</table>\n<p>636 rows × 5 columns</p>\n</div>"
     },
     "metadata": {},
     "execution_count": 18
    }
   ],
   "source": [
    "export = geo_df[[\"WK_NAAM\", \"date\", \"hour\", \"pm2_5\"]].groupby([\"WK_NAAM\", \"date\", \"hour\"]).median().reset_index()\n",
    "export[\"datetime\"] = pd.to_datetime(export.date) + export.hour.astype('timedelta64[h]')\n",
    "export"
   ]
  },
  {
   "cell_type": "code",
   "execution_count": 16,
   "metadata": {},
   "outputs": [
    {
     "output_type": "display_data",
     "data": {
      "application/vnd.plotly.v1+json": {
       "config": {
        "plotlyServerURL": "https://plot.ly"
       },
       "data": [
        {
         "alignmentgroup": "True",
         "hovertemplate": "WK_NAAM=%{x}<br>pm2_5=%{y}<extra></extra>",
         "legendgroup": "",
         "marker": {
          "color": "#636efa"
         },
         "name": "",
         "offsetgroup": "",
         "orientation": "v",
         "showlegend": false,
         "textposition": "auto",
         "type": "bar",
         "x": [
          "Wijk 05 Oost",
          "Wijk 04 Noordoost",
          "Wijk 06 Binnenstad",
          "Wijk 10 Vleuten-De Meern",
          "Wijk 01 West",
          "Wijk 07 Zuid",
          "Wijk 09 Leidsche Rijn",
          "Wijk 08 Zuidwest",
          "Wijk 03 Overvecht",
          "Wijk 02 Noordwest"
         ],
         "xaxis": "x",
         "y": [
          85,
          75,
          73,
          64,
          62,
          62,
          60,
          56,
          52,
          47
         ],
         "yaxis": "y"
        }
       ],
       "layout": {
        "barmode": "relative",
        "legend": {
         "tracegroupgap": 0
        },
        "template": {
         "data": {
          "bar": [
           {
            "error_x": {
             "color": "#2a3f5f"
            },
            "error_y": {
             "color": "#2a3f5f"
            },
            "marker": {
             "line": {
              "color": "#E5ECF6",
              "width": 0.5
             }
            },
            "type": "bar"
           }
          ],
          "barpolar": [
           {
            "marker": {
             "line": {
              "color": "#E5ECF6",
              "width": 0.5
             }
            },
            "type": "barpolar"
           }
          ],
          "carpet": [
           {
            "aaxis": {
             "endlinecolor": "#2a3f5f",
             "gridcolor": "white",
             "linecolor": "white",
             "minorgridcolor": "white",
             "startlinecolor": "#2a3f5f"
            },
            "baxis": {
             "endlinecolor": "#2a3f5f",
             "gridcolor": "white",
             "linecolor": "white",
             "minorgridcolor": "white",
             "startlinecolor": "#2a3f5f"
            },
            "type": "carpet"
           }
          ],
          "choropleth": [
           {
            "colorbar": {
             "outlinewidth": 0,
             "ticks": ""
            },
            "type": "choropleth"
           }
          ],
          "contour": [
           {
            "colorbar": {
             "outlinewidth": 0,
             "ticks": ""
            },
            "colorscale": [
             [
              0,
              "#0d0887"
             ],
             [
              0.1111111111111111,
              "#46039f"
             ],
             [
              0.2222222222222222,
              "#7201a8"
             ],
             [
              0.3333333333333333,
              "#9c179e"
             ],
             [
              0.4444444444444444,
              "#bd3786"
             ],
             [
              0.5555555555555556,
              "#d8576b"
             ],
             [
              0.6666666666666666,
              "#ed7953"
             ],
             [
              0.7777777777777778,
              "#fb9f3a"
             ],
             [
              0.8888888888888888,
              "#fdca26"
             ],
             [
              1,
              "#f0f921"
             ]
            ],
            "type": "contour"
           }
          ],
          "contourcarpet": [
           {
            "colorbar": {
             "outlinewidth": 0,
             "ticks": ""
            },
            "type": "contourcarpet"
           }
          ],
          "heatmap": [
           {
            "colorbar": {
             "outlinewidth": 0,
             "ticks": ""
            },
            "colorscale": [
             [
              0,
              "#0d0887"
             ],
             [
              0.1111111111111111,
              "#46039f"
             ],
             [
              0.2222222222222222,
              "#7201a8"
             ],
             [
              0.3333333333333333,
              "#9c179e"
             ],
             [
              0.4444444444444444,
              "#bd3786"
             ],
             [
              0.5555555555555556,
              "#d8576b"
             ],
             [
              0.6666666666666666,
              "#ed7953"
             ],
             [
              0.7777777777777778,
              "#fb9f3a"
             ],
             [
              0.8888888888888888,
              "#fdca26"
             ],
             [
              1,
              "#f0f921"
             ]
            ],
            "type": "heatmap"
           }
          ],
          "heatmapgl": [
           {
            "colorbar": {
             "outlinewidth": 0,
             "ticks": ""
            },
            "colorscale": [
             [
              0,
              "#0d0887"
             ],
             [
              0.1111111111111111,
              "#46039f"
             ],
             [
              0.2222222222222222,
              "#7201a8"
             ],
             [
              0.3333333333333333,
              "#9c179e"
             ],
             [
              0.4444444444444444,
              "#bd3786"
             ],
             [
              0.5555555555555556,
              "#d8576b"
             ],
             [
              0.6666666666666666,
              "#ed7953"
             ],
             [
              0.7777777777777778,
              "#fb9f3a"
             ],
             [
              0.8888888888888888,
              "#fdca26"
             ],
             [
              1,
              "#f0f921"
             ]
            ],
            "type": "heatmapgl"
           }
          ],
          "histogram": [
           {
            "marker": {
             "colorbar": {
              "outlinewidth": 0,
              "ticks": ""
             }
            },
            "type": "histogram"
           }
          ],
          "histogram2d": [
           {
            "colorbar": {
             "outlinewidth": 0,
             "ticks": ""
            },
            "colorscale": [
             [
              0,
              "#0d0887"
             ],
             [
              0.1111111111111111,
              "#46039f"
             ],
             [
              0.2222222222222222,
              "#7201a8"
             ],
             [
              0.3333333333333333,
              "#9c179e"
             ],
             [
              0.4444444444444444,
              "#bd3786"
             ],
             [
              0.5555555555555556,
              "#d8576b"
             ],
             [
              0.6666666666666666,
              "#ed7953"
             ],
             [
              0.7777777777777778,
              "#fb9f3a"
             ],
             [
              0.8888888888888888,
              "#fdca26"
             ],
             [
              1,
              "#f0f921"
             ]
            ],
            "type": "histogram2d"
           }
          ],
          "histogram2dcontour": [
           {
            "colorbar": {
             "outlinewidth": 0,
             "ticks": ""
            },
            "colorscale": [
             [
              0,
              "#0d0887"
             ],
             [
              0.1111111111111111,
              "#46039f"
             ],
             [
              0.2222222222222222,
              "#7201a8"
             ],
             [
              0.3333333333333333,
              "#9c179e"
             ],
             [
              0.4444444444444444,
              "#bd3786"
             ],
             [
              0.5555555555555556,
              "#d8576b"
             ],
             [
              0.6666666666666666,
              "#ed7953"
             ],
             [
              0.7777777777777778,
              "#fb9f3a"
             ],
             [
              0.8888888888888888,
              "#fdca26"
             ],
             [
              1,
              "#f0f921"
             ]
            ],
            "type": "histogram2dcontour"
           }
          ],
          "mesh3d": [
           {
            "colorbar": {
             "outlinewidth": 0,
             "ticks": ""
            },
            "type": "mesh3d"
           }
          ],
          "parcoords": [
           {
            "line": {
             "colorbar": {
              "outlinewidth": 0,
              "ticks": ""
             }
            },
            "type": "parcoords"
           }
          ],
          "pie": [
           {
            "automargin": true,
            "type": "pie"
           }
          ],
          "scatter": [
           {
            "marker": {
             "colorbar": {
              "outlinewidth": 0,
              "ticks": ""
             }
            },
            "type": "scatter"
           }
          ],
          "scatter3d": [
           {
            "line": {
             "colorbar": {
              "outlinewidth": 0,
              "ticks": ""
             }
            },
            "marker": {
             "colorbar": {
              "outlinewidth": 0,
              "ticks": ""
             }
            },
            "type": "scatter3d"
           }
          ],
          "scattercarpet": [
           {
            "marker": {
             "colorbar": {
              "outlinewidth": 0,
              "ticks": ""
             }
            },
            "type": "scattercarpet"
           }
          ],
          "scattergeo": [
           {
            "marker": {
             "colorbar": {
              "outlinewidth": 0,
              "ticks": ""
             }
            },
            "type": "scattergeo"
           }
          ],
          "scattergl": [
           {
            "marker": {
             "colorbar": {
              "outlinewidth": 0,
              "ticks": ""
             }
            },
            "type": "scattergl"
           }
          ],
          "scattermapbox": [
           {
            "marker": {
             "colorbar": {
              "outlinewidth": 0,
              "ticks": ""
             }
            },
            "type": "scattermapbox"
           }
          ],
          "scatterpolar": [
           {
            "marker": {
             "colorbar": {
              "outlinewidth": 0,
              "ticks": ""
             }
            },
            "type": "scatterpolar"
           }
          ],
          "scatterpolargl": [
           {
            "marker": {
             "colorbar": {
              "outlinewidth": 0,
              "ticks": ""
             }
            },
            "type": "scatterpolargl"
           }
          ],
          "scatterternary": [
           {
            "marker": {
             "colorbar": {
              "outlinewidth": 0,
              "ticks": ""
             }
            },
            "type": "scatterternary"
           }
          ],
          "surface": [
           {
            "colorbar": {
             "outlinewidth": 0,
             "ticks": ""
            },
            "colorscale": [
             [
              0,
              "#0d0887"
             ],
             [
              0.1111111111111111,
              "#46039f"
             ],
             [
              0.2222222222222222,
              "#7201a8"
             ],
             [
              0.3333333333333333,
              "#9c179e"
             ],
             [
              0.4444444444444444,
              "#bd3786"
             ],
             [
              0.5555555555555556,
              "#d8576b"
             ],
             [
              0.6666666666666666,
              "#ed7953"
             ],
             [
              0.7777777777777778,
              "#fb9f3a"
             ],
             [
              0.8888888888888888,
              "#fdca26"
             ],
             [
              1,
              "#f0f921"
             ]
            ],
            "type": "surface"
           }
          ],
          "table": [
           {
            "cells": {
             "fill": {
              "color": "#EBF0F8"
             },
             "line": {
              "color": "white"
             }
            },
            "header": {
             "fill": {
              "color": "#C8D4E3"
             },
             "line": {
              "color": "white"
             }
            },
            "type": "table"
           }
          ]
         },
         "layout": {
          "annotationdefaults": {
           "arrowcolor": "#2a3f5f",
           "arrowhead": 0,
           "arrowwidth": 1
          },
          "autotypenumbers": "strict",
          "coloraxis": {
           "colorbar": {
            "outlinewidth": 0,
            "ticks": ""
           }
          },
          "colorscale": {
           "diverging": [
            [
             0,
             "#8e0152"
            ],
            [
             0.1,
             "#c51b7d"
            ],
            [
             0.2,
             "#de77ae"
            ],
            [
             0.3,
             "#f1b6da"
            ],
            [
             0.4,
             "#fde0ef"
            ],
            [
             0.5,
             "#f7f7f7"
            ],
            [
             0.6,
             "#e6f5d0"
            ],
            [
             0.7,
             "#b8e186"
            ],
            [
             0.8,
             "#7fbc41"
            ],
            [
             0.9,
             "#4d9221"
            ],
            [
             1,
             "#276419"
            ]
           ],
           "sequential": [
            [
             0,
             "#0d0887"
            ],
            [
             0.1111111111111111,
             "#46039f"
            ],
            [
             0.2222222222222222,
             "#7201a8"
            ],
            [
             0.3333333333333333,
             "#9c179e"
            ],
            [
             0.4444444444444444,
             "#bd3786"
            ],
            [
             0.5555555555555556,
             "#d8576b"
            ],
            [
             0.6666666666666666,
             "#ed7953"
            ],
            [
             0.7777777777777778,
             "#fb9f3a"
            ],
            [
             0.8888888888888888,
             "#fdca26"
            ],
            [
             1,
             "#f0f921"
            ]
           ],
           "sequentialminus": [
            [
             0,
             "#0d0887"
            ],
            [
             0.1111111111111111,
             "#46039f"
            ],
            [
             0.2222222222222222,
             "#7201a8"
            ],
            [
             0.3333333333333333,
             "#9c179e"
            ],
            [
             0.4444444444444444,
             "#bd3786"
            ],
            [
             0.5555555555555556,
             "#d8576b"
            ],
            [
             0.6666666666666666,
             "#ed7953"
            ],
            [
             0.7777777777777778,
             "#fb9f3a"
            ],
            [
             0.8888888888888888,
             "#fdca26"
            ],
            [
             1,
             "#f0f921"
            ]
           ]
          },
          "colorway": [
           "#636efa",
           "#EF553B",
           "#00cc96",
           "#ab63fa",
           "#FFA15A",
           "#19d3f3",
           "#FF6692",
           "#B6E880",
           "#FF97FF",
           "#FECB52"
          ],
          "font": {
           "color": "#2a3f5f"
          },
          "geo": {
           "bgcolor": "white",
           "lakecolor": "white",
           "landcolor": "#E5ECF6",
           "showlakes": true,
           "showland": true,
           "subunitcolor": "white"
          },
          "hoverlabel": {
           "align": "left"
          },
          "hovermode": "closest",
          "mapbox": {
           "style": "light"
          },
          "paper_bgcolor": "white",
          "plot_bgcolor": "#E5ECF6",
          "polar": {
           "angularaxis": {
            "gridcolor": "white",
            "linecolor": "white",
            "ticks": ""
           },
           "bgcolor": "#E5ECF6",
           "radialaxis": {
            "gridcolor": "white",
            "linecolor": "white",
            "ticks": ""
           }
          },
          "scene": {
           "xaxis": {
            "backgroundcolor": "#E5ECF6",
            "gridcolor": "white",
            "gridwidth": 2,
            "linecolor": "white",
            "showbackground": true,
            "ticks": "",
            "zerolinecolor": "white"
           },
           "yaxis": {
            "backgroundcolor": "#E5ECF6",
            "gridcolor": "white",
            "gridwidth": 2,
            "linecolor": "white",
            "showbackground": true,
            "ticks": "",
            "zerolinecolor": "white"
           },
           "zaxis": {
            "backgroundcolor": "#E5ECF6",
            "gridcolor": "white",
            "gridwidth": 2,
            "linecolor": "white",
            "showbackground": true,
            "ticks": "",
            "zerolinecolor": "white"
           }
          },
          "shapedefaults": {
           "line": {
            "color": "#2a3f5f"
           }
          },
          "ternary": {
           "aaxis": {
            "gridcolor": "white",
            "linecolor": "white",
            "ticks": ""
           },
           "baxis": {
            "gridcolor": "white",
            "linecolor": "white",
            "ticks": ""
           },
           "bgcolor": "#E5ECF6",
           "caxis": {
            "gridcolor": "white",
            "linecolor": "white",
            "ticks": ""
           }
          },
          "title": {
           "x": 0.05
          },
          "xaxis": {
           "automargin": true,
           "gridcolor": "white",
           "linecolor": "white",
           "ticks": "",
           "title": {
            "standoff": 15
           },
           "zerolinecolor": "white",
           "zerolinewidth": 2
          },
          "yaxis": {
           "automargin": true,
           "gridcolor": "white",
           "linecolor": "white",
           "ticks": "",
           "title": {
            "standoff": 15
           },
           "zerolinecolor": "white",
           "zerolinewidth": 2
          }
         }
        },
        "title": {
         "text": "Total activity recorded per district"
        },
        "xaxis": {
         "anchor": "y",
         "domain": [
          0,
          1
         ],
         "title": {
          "text": "WK_NAAM"
         }
        },
        "yaxis": {
         "anchor": "x",
         "domain": [
          0,
          1
         ],
         "title": {
          "text": "pm2_5"
         }
        }
       }
      }
     },
     "metadata": {}
    }
   ],
   "source": [
    "df = export[[\"WK_NAAM\", \"date\", \"pm2_5\"]].groupby([\"WK_NAAM\"]).count().reset_index().sort_values(by=['pm2_5'], ascending=False)\n",
    "\n",
    "fig = px.bar(df, x=\"WK_NAAM\", y=\"pm2_5\", title=\"Total activity recorded per district\")\n",
    "fig.show()"
   ]
  },
  {
   "cell_type": "code",
   "execution_count": 17,
   "metadata": {},
   "outputs": [
    {
     "output_type": "display_data",
     "data": {
      "application/vnd.plotly.v1+json": {
       "config": {
        "plotlyServerURL": "https://plot.ly"
       },
       "data": [
        {
         "alignmentgroup": "True",
         "hovertemplate": "WK_NAAM=Wijk 01 West<br>date=%{x}<br>pm2_5=%{y}<extra></extra>",
         "legendgroup": "Wijk 01 West",
         "marker": {
          "color": "#636efa"
         },
         "name": "Wijk 01 West",
         "offsetgroup": "Wijk 01 West",
         "orientation": "v",
         "showlegend": true,
         "textposition": "auto",
         "type": "bar",
         "x": [
          "2020-06-15",
          "2020-06-16",
          "2020-06-17",
          "2020-06-18",
          "2020-06-19",
          "2020-06-20",
          "2020-06-21"
         ],
         "xaxis": "x",
         "y": [
          7,
          8,
          11,
          11,
          10,
          6,
          9
         ],
         "yaxis": "y"
        },
        {
         "alignmentgroup": "True",
         "hovertemplate": "WK_NAAM=Wijk 02 Noordwest<br>date=%{x}<br>pm2_5=%{y}<extra></extra>",
         "legendgroup": "Wijk 02 Noordwest",
         "marker": {
          "color": "#EF553B"
         },
         "name": "Wijk 02 Noordwest",
         "offsetgroup": "Wijk 02 Noordwest",
         "orientation": "v",
         "showlegend": true,
         "textposition": "auto",
         "type": "bar",
         "x": [
          "2020-06-15",
          "2020-06-16",
          "2020-06-17",
          "2020-06-18",
          "2020-06-19",
          "2020-06-20",
          "2020-06-21"
         ],
         "xaxis": "x",
         "y": [
          6,
          4,
          10,
          7,
          6,
          6,
          8
         ],
         "yaxis": "y"
        },
        {
         "alignmentgroup": "True",
         "hovertemplate": "WK_NAAM=Wijk 03 Overvecht<br>date=%{x}<br>pm2_5=%{y}<extra></extra>",
         "legendgroup": "Wijk 03 Overvecht",
         "marker": {
          "color": "#00cc96"
         },
         "name": "Wijk 03 Overvecht",
         "offsetgroup": "Wijk 03 Overvecht",
         "orientation": "v",
         "showlegend": true,
         "textposition": "auto",
         "type": "bar",
         "x": [
          "2020-06-15",
          "2020-06-16",
          "2020-06-17",
          "2020-06-18",
          "2020-06-19",
          "2020-06-20",
          "2020-06-21"
         ],
         "xaxis": "x",
         "y": [
          6,
          6,
          13,
          11,
          4,
          6,
          6
         ],
         "yaxis": "y"
        },
        {
         "alignmentgroup": "True",
         "hovertemplate": "WK_NAAM=Wijk 04 Noordoost<br>date=%{x}<br>pm2_5=%{y}<extra></extra>",
         "legendgroup": "Wijk 04 Noordoost",
         "marker": {
          "color": "#ab63fa"
         },
         "name": "Wijk 04 Noordoost",
         "offsetgroup": "Wijk 04 Noordoost",
         "orientation": "v",
         "showlegend": true,
         "textposition": "auto",
         "type": "bar",
         "x": [
          "2020-06-15",
          "2020-06-16",
          "2020-06-17",
          "2020-06-18",
          "2020-06-19",
          "2020-06-20",
          "2020-06-21"
         ],
         "xaxis": "x",
         "y": [
          8,
          9,
          14,
          12,
          10,
          11,
          11
         ],
         "yaxis": "y"
        },
        {
         "alignmentgroup": "True",
         "hovertemplate": "WK_NAAM=Wijk 05 Oost<br>date=%{x}<br>pm2_5=%{y}<extra></extra>",
         "legendgroup": "Wijk 05 Oost",
         "marker": {
          "color": "#FFA15A"
         },
         "name": "Wijk 05 Oost",
         "offsetgroup": "Wijk 05 Oost",
         "orientation": "v",
         "showlegend": true,
         "textposition": "auto",
         "type": "bar",
         "x": [
          "2020-06-15",
          "2020-06-16",
          "2020-06-17",
          "2020-06-18",
          "2020-06-19",
          "2020-06-20",
          "2020-06-21"
         ],
         "xaxis": "x",
         "y": [
          10,
          8,
          16,
          14,
          16,
          9,
          12
         ],
         "yaxis": "y"
        },
        {
         "alignmentgroup": "True",
         "hovertemplate": "WK_NAAM=Wijk 06 Binnenstad<br>date=%{x}<br>pm2_5=%{y}<extra></extra>",
         "legendgroup": "Wijk 06 Binnenstad",
         "marker": {
          "color": "#19d3f3"
         },
         "name": "Wijk 06 Binnenstad",
         "offsetgroup": "Wijk 06 Binnenstad",
         "orientation": "v",
         "showlegend": true,
         "textposition": "auto",
         "type": "bar",
         "x": [
          "2020-06-15",
          "2020-06-16",
          "2020-06-17",
          "2020-06-18",
          "2020-06-19",
          "2020-06-20",
          "2020-06-21"
         ],
         "xaxis": "x",
         "y": [
          10,
          9,
          13,
          14,
          13,
          7,
          7
         ],
         "yaxis": "y"
        },
        {
         "alignmentgroup": "True",
         "hovertemplate": "WK_NAAM=Wijk 07 Zuid<br>date=%{x}<br>pm2_5=%{y}<extra></extra>",
         "legendgroup": "Wijk 07 Zuid",
         "marker": {
          "color": "#FF6692"
         },
         "name": "Wijk 07 Zuid",
         "offsetgroup": "Wijk 07 Zuid",
         "orientation": "v",
         "showlegend": true,
         "textposition": "auto",
         "type": "bar",
         "x": [
          "2020-06-15",
          "2020-06-16",
          "2020-06-17",
          "2020-06-18",
          "2020-06-19",
          "2020-06-20",
          "2020-06-21"
         ],
         "xaxis": "x",
         "y": [
          5,
          7,
          13,
          11,
          9,
          9,
          8
         ],
         "yaxis": "y"
        },
        {
         "alignmentgroup": "True",
         "hovertemplate": "WK_NAAM=Wijk 08 Zuidwest<br>date=%{x}<br>pm2_5=%{y}<extra></extra>",
         "legendgroup": "Wijk 08 Zuidwest",
         "marker": {
          "color": "#B6E880"
         },
         "name": "Wijk 08 Zuidwest",
         "offsetgroup": "Wijk 08 Zuidwest",
         "orientation": "v",
         "showlegend": true,
         "textposition": "auto",
         "type": "bar",
         "x": [
          "2020-06-15",
          "2020-06-16",
          "2020-06-17",
          "2020-06-18",
          "2020-06-19",
          "2020-06-20",
          "2020-06-21"
         ],
         "xaxis": "x",
         "y": [
          6,
          10,
          13,
          9,
          7,
          5,
          6
         ],
         "yaxis": "y"
        },
        {
         "alignmentgroup": "True",
         "hovertemplate": "WK_NAAM=Wijk 09 Leidsche Rijn<br>date=%{x}<br>pm2_5=%{y}<extra></extra>",
         "legendgroup": "Wijk 09 Leidsche Rijn",
         "marker": {
          "color": "#FF97FF"
         },
         "name": "Wijk 09 Leidsche Rijn",
         "offsetgroup": "Wijk 09 Leidsche Rijn",
         "orientation": "v",
         "showlegend": true,
         "textposition": "auto",
         "type": "bar",
         "x": [
          "2020-06-15",
          "2020-06-16",
          "2020-06-17",
          "2020-06-18",
          "2020-06-19",
          "2020-06-20",
          "2020-06-21"
         ],
         "xaxis": "x",
         "y": [
          8,
          6,
          10,
          11,
          12,
          5,
          8
         ],
         "yaxis": "y"
        },
        {
         "alignmentgroup": "True",
         "hovertemplate": "WK_NAAM=Wijk 10 Vleuten-De Meern<br>date=%{x}<br>pm2_5=%{y}<extra></extra>",
         "legendgroup": "Wijk 10 Vleuten-De Meern",
         "marker": {
          "color": "#FECB52"
         },
         "name": "Wijk 10 Vleuten-De Meern",
         "offsetgroup": "Wijk 10 Vleuten-De Meern",
         "orientation": "v",
         "showlegend": true,
         "textposition": "auto",
         "type": "bar",
         "x": [
          "2020-06-15",
          "2020-06-16",
          "2020-06-17",
          "2020-06-18",
          "2020-06-19",
          "2020-06-20",
          "2020-06-21"
         ],
         "xaxis": "x",
         "y": [
          6,
          8,
          13,
          9,
          9,
          7,
          12
         ],
         "yaxis": "y"
        }
       ],
       "layout": {
        "barmode": "relative",
        "legend": {
         "title": {
          "text": "WK_NAAM"
         },
         "tracegroupgap": 0
        },
        "margin": {
         "t": 60
        },
        "template": {
         "data": {
          "bar": [
           {
            "error_x": {
             "color": "#2a3f5f"
            },
            "error_y": {
             "color": "#2a3f5f"
            },
            "marker": {
             "line": {
              "color": "#E5ECF6",
              "width": 0.5
             }
            },
            "type": "bar"
           }
          ],
          "barpolar": [
           {
            "marker": {
             "line": {
              "color": "#E5ECF6",
              "width": 0.5
             }
            },
            "type": "barpolar"
           }
          ],
          "carpet": [
           {
            "aaxis": {
             "endlinecolor": "#2a3f5f",
             "gridcolor": "white",
             "linecolor": "white",
             "minorgridcolor": "white",
             "startlinecolor": "#2a3f5f"
            },
            "baxis": {
             "endlinecolor": "#2a3f5f",
             "gridcolor": "white",
             "linecolor": "white",
             "minorgridcolor": "white",
             "startlinecolor": "#2a3f5f"
            },
            "type": "carpet"
           }
          ],
          "choropleth": [
           {
            "colorbar": {
             "outlinewidth": 0,
             "ticks": ""
            },
            "type": "choropleth"
           }
          ],
          "contour": [
           {
            "colorbar": {
             "outlinewidth": 0,
             "ticks": ""
            },
            "colorscale": [
             [
              0,
              "#0d0887"
             ],
             [
              0.1111111111111111,
              "#46039f"
             ],
             [
              0.2222222222222222,
              "#7201a8"
             ],
             [
              0.3333333333333333,
              "#9c179e"
             ],
             [
              0.4444444444444444,
              "#bd3786"
             ],
             [
              0.5555555555555556,
              "#d8576b"
             ],
             [
              0.6666666666666666,
              "#ed7953"
             ],
             [
              0.7777777777777778,
              "#fb9f3a"
             ],
             [
              0.8888888888888888,
              "#fdca26"
             ],
             [
              1,
              "#f0f921"
             ]
            ],
            "type": "contour"
           }
          ],
          "contourcarpet": [
           {
            "colorbar": {
             "outlinewidth": 0,
             "ticks": ""
            },
            "type": "contourcarpet"
           }
          ],
          "heatmap": [
           {
            "colorbar": {
             "outlinewidth": 0,
             "ticks": ""
            },
            "colorscale": [
             [
              0,
              "#0d0887"
             ],
             [
              0.1111111111111111,
              "#46039f"
             ],
             [
              0.2222222222222222,
              "#7201a8"
             ],
             [
              0.3333333333333333,
              "#9c179e"
             ],
             [
              0.4444444444444444,
              "#bd3786"
             ],
             [
              0.5555555555555556,
              "#d8576b"
             ],
             [
              0.6666666666666666,
              "#ed7953"
             ],
             [
              0.7777777777777778,
              "#fb9f3a"
             ],
             [
              0.8888888888888888,
              "#fdca26"
             ],
             [
              1,
              "#f0f921"
             ]
            ],
            "type": "heatmap"
           }
          ],
          "heatmapgl": [
           {
            "colorbar": {
             "outlinewidth": 0,
             "ticks": ""
            },
            "colorscale": [
             [
              0,
              "#0d0887"
             ],
             [
              0.1111111111111111,
              "#46039f"
             ],
             [
              0.2222222222222222,
              "#7201a8"
             ],
             [
              0.3333333333333333,
              "#9c179e"
             ],
             [
              0.4444444444444444,
              "#bd3786"
             ],
             [
              0.5555555555555556,
              "#d8576b"
             ],
             [
              0.6666666666666666,
              "#ed7953"
             ],
             [
              0.7777777777777778,
              "#fb9f3a"
             ],
             [
              0.8888888888888888,
              "#fdca26"
             ],
             [
              1,
              "#f0f921"
             ]
            ],
            "type": "heatmapgl"
           }
          ],
          "histogram": [
           {
            "marker": {
             "colorbar": {
              "outlinewidth": 0,
              "ticks": ""
             }
            },
            "type": "histogram"
           }
          ],
          "histogram2d": [
           {
            "colorbar": {
             "outlinewidth": 0,
             "ticks": ""
            },
            "colorscale": [
             [
              0,
              "#0d0887"
             ],
             [
              0.1111111111111111,
              "#46039f"
             ],
             [
              0.2222222222222222,
              "#7201a8"
             ],
             [
              0.3333333333333333,
              "#9c179e"
             ],
             [
              0.4444444444444444,
              "#bd3786"
             ],
             [
              0.5555555555555556,
              "#d8576b"
             ],
             [
              0.6666666666666666,
              "#ed7953"
             ],
             [
              0.7777777777777778,
              "#fb9f3a"
             ],
             [
              0.8888888888888888,
              "#fdca26"
             ],
             [
              1,
              "#f0f921"
             ]
            ],
            "type": "histogram2d"
           }
          ],
          "histogram2dcontour": [
           {
            "colorbar": {
             "outlinewidth": 0,
             "ticks": ""
            },
            "colorscale": [
             [
              0,
              "#0d0887"
             ],
             [
              0.1111111111111111,
              "#46039f"
             ],
             [
              0.2222222222222222,
              "#7201a8"
             ],
             [
              0.3333333333333333,
              "#9c179e"
             ],
             [
              0.4444444444444444,
              "#bd3786"
             ],
             [
              0.5555555555555556,
              "#d8576b"
             ],
             [
              0.6666666666666666,
              "#ed7953"
             ],
             [
              0.7777777777777778,
              "#fb9f3a"
             ],
             [
              0.8888888888888888,
              "#fdca26"
             ],
             [
              1,
              "#f0f921"
             ]
            ],
            "type": "histogram2dcontour"
           }
          ],
          "mesh3d": [
           {
            "colorbar": {
             "outlinewidth": 0,
             "ticks": ""
            },
            "type": "mesh3d"
           }
          ],
          "parcoords": [
           {
            "line": {
             "colorbar": {
              "outlinewidth": 0,
              "ticks": ""
             }
            },
            "type": "parcoords"
           }
          ],
          "pie": [
           {
            "automargin": true,
            "type": "pie"
           }
          ],
          "scatter": [
           {
            "marker": {
             "colorbar": {
              "outlinewidth": 0,
              "ticks": ""
             }
            },
            "type": "scatter"
           }
          ],
          "scatter3d": [
           {
            "line": {
             "colorbar": {
              "outlinewidth": 0,
              "ticks": ""
             }
            },
            "marker": {
             "colorbar": {
              "outlinewidth": 0,
              "ticks": ""
             }
            },
            "type": "scatter3d"
           }
          ],
          "scattercarpet": [
           {
            "marker": {
             "colorbar": {
              "outlinewidth": 0,
              "ticks": ""
             }
            },
            "type": "scattercarpet"
           }
          ],
          "scattergeo": [
           {
            "marker": {
             "colorbar": {
              "outlinewidth": 0,
              "ticks": ""
             }
            },
            "type": "scattergeo"
           }
          ],
          "scattergl": [
           {
            "marker": {
             "colorbar": {
              "outlinewidth": 0,
              "ticks": ""
             }
            },
            "type": "scattergl"
           }
          ],
          "scattermapbox": [
           {
            "marker": {
             "colorbar": {
              "outlinewidth": 0,
              "ticks": ""
             }
            },
            "type": "scattermapbox"
           }
          ],
          "scatterpolar": [
           {
            "marker": {
             "colorbar": {
              "outlinewidth": 0,
              "ticks": ""
             }
            },
            "type": "scatterpolar"
           }
          ],
          "scatterpolargl": [
           {
            "marker": {
             "colorbar": {
              "outlinewidth": 0,
              "ticks": ""
             }
            },
            "type": "scatterpolargl"
           }
          ],
          "scatterternary": [
           {
            "marker": {
             "colorbar": {
              "outlinewidth": 0,
              "ticks": ""
             }
            },
            "type": "scatterternary"
           }
          ],
          "surface": [
           {
            "colorbar": {
             "outlinewidth": 0,
             "ticks": ""
            },
            "colorscale": [
             [
              0,
              "#0d0887"
             ],
             [
              0.1111111111111111,
              "#46039f"
             ],
             [
              0.2222222222222222,
              "#7201a8"
             ],
             [
              0.3333333333333333,
              "#9c179e"
             ],
             [
              0.4444444444444444,
              "#bd3786"
             ],
             [
              0.5555555555555556,
              "#d8576b"
             ],
             [
              0.6666666666666666,
              "#ed7953"
             ],
             [
              0.7777777777777778,
              "#fb9f3a"
             ],
             [
              0.8888888888888888,
              "#fdca26"
             ],
             [
              1,
              "#f0f921"
             ]
            ],
            "type": "surface"
           }
          ],
          "table": [
           {
            "cells": {
             "fill": {
              "color": "#EBF0F8"
             },
             "line": {
              "color": "white"
             }
            },
            "header": {
             "fill": {
              "color": "#C8D4E3"
             },
             "line": {
              "color": "white"
             }
            },
            "type": "table"
           }
          ]
         },
         "layout": {
          "annotationdefaults": {
           "arrowcolor": "#2a3f5f",
           "arrowhead": 0,
           "arrowwidth": 1
          },
          "autotypenumbers": "strict",
          "coloraxis": {
           "colorbar": {
            "outlinewidth": 0,
            "ticks": ""
           }
          },
          "colorscale": {
           "diverging": [
            [
             0,
             "#8e0152"
            ],
            [
             0.1,
             "#c51b7d"
            ],
            [
             0.2,
             "#de77ae"
            ],
            [
             0.3,
             "#f1b6da"
            ],
            [
             0.4,
             "#fde0ef"
            ],
            [
             0.5,
             "#f7f7f7"
            ],
            [
             0.6,
             "#e6f5d0"
            ],
            [
             0.7,
             "#b8e186"
            ],
            [
             0.8,
             "#7fbc41"
            ],
            [
             0.9,
             "#4d9221"
            ],
            [
             1,
             "#276419"
            ]
           ],
           "sequential": [
            [
             0,
             "#0d0887"
            ],
            [
             0.1111111111111111,
             "#46039f"
            ],
            [
             0.2222222222222222,
             "#7201a8"
            ],
            [
             0.3333333333333333,
             "#9c179e"
            ],
            [
             0.4444444444444444,
             "#bd3786"
            ],
            [
             0.5555555555555556,
             "#d8576b"
            ],
            [
             0.6666666666666666,
             "#ed7953"
            ],
            [
             0.7777777777777778,
             "#fb9f3a"
            ],
            [
             0.8888888888888888,
             "#fdca26"
            ],
            [
             1,
             "#f0f921"
            ]
           ],
           "sequentialminus": [
            [
             0,
             "#0d0887"
            ],
            [
             0.1111111111111111,
             "#46039f"
            ],
            [
             0.2222222222222222,
             "#7201a8"
            ],
            [
             0.3333333333333333,
             "#9c179e"
            ],
            [
             0.4444444444444444,
             "#bd3786"
            ],
            [
             0.5555555555555556,
             "#d8576b"
            ],
            [
             0.6666666666666666,
             "#ed7953"
            ],
            [
             0.7777777777777778,
             "#fb9f3a"
            ],
            [
             0.8888888888888888,
             "#fdca26"
            ],
            [
             1,
             "#f0f921"
            ]
           ]
          },
          "colorway": [
           "#636efa",
           "#EF553B",
           "#00cc96",
           "#ab63fa",
           "#FFA15A",
           "#19d3f3",
           "#FF6692",
           "#B6E880",
           "#FF97FF",
           "#FECB52"
          ],
          "font": {
           "color": "#2a3f5f"
          },
          "geo": {
           "bgcolor": "white",
           "lakecolor": "white",
           "landcolor": "#E5ECF6",
           "showlakes": true,
           "showland": true,
           "subunitcolor": "white"
          },
          "hoverlabel": {
           "align": "left"
          },
          "hovermode": "closest",
          "mapbox": {
           "style": "light"
          },
          "paper_bgcolor": "white",
          "plot_bgcolor": "#E5ECF6",
          "polar": {
           "angularaxis": {
            "gridcolor": "white",
            "linecolor": "white",
            "ticks": ""
           },
           "bgcolor": "#E5ECF6",
           "radialaxis": {
            "gridcolor": "white",
            "linecolor": "white",
            "ticks": ""
           }
          },
          "scene": {
           "xaxis": {
            "backgroundcolor": "#E5ECF6",
            "gridcolor": "white",
            "gridwidth": 2,
            "linecolor": "white",
            "showbackground": true,
            "ticks": "",
            "zerolinecolor": "white"
           },
           "yaxis": {
            "backgroundcolor": "#E5ECF6",
            "gridcolor": "white",
            "gridwidth": 2,
            "linecolor": "white",
            "showbackground": true,
            "ticks": "",
            "zerolinecolor": "white"
           },
           "zaxis": {
            "backgroundcolor": "#E5ECF6",
            "gridcolor": "white",
            "gridwidth": 2,
            "linecolor": "white",
            "showbackground": true,
            "ticks": "",
            "zerolinecolor": "white"
           }
          },
          "shapedefaults": {
           "line": {
            "color": "#2a3f5f"
           }
          },
          "ternary": {
           "aaxis": {
            "gridcolor": "white",
            "linecolor": "white",
            "ticks": ""
           },
           "baxis": {
            "gridcolor": "white",
            "linecolor": "white",
            "ticks": ""
           },
           "bgcolor": "#E5ECF6",
           "caxis": {
            "gridcolor": "white",
            "linecolor": "white",
            "ticks": ""
           }
          },
          "title": {
           "x": 0.05
          },
          "xaxis": {
           "automargin": true,
           "gridcolor": "white",
           "linecolor": "white",
           "ticks": "",
           "title": {
            "standoff": 15
           },
           "zerolinecolor": "white",
           "zerolinewidth": 2
          },
          "yaxis": {
           "automargin": true,
           "gridcolor": "white",
           "linecolor": "white",
           "ticks": "",
           "title": {
            "standoff": 15
           },
           "zerolinecolor": "white",
           "zerolinewidth": 2
          }
         }
        },
        "xaxis": {
         "anchor": "y",
         "domain": [
          0,
          1
         ],
         "title": {
          "text": "date"
         }
        },
        "yaxis": {
         "anchor": "x",
         "domain": [
          0,
          1
         ],
         "title": {
          "text": "pm2_5"
         }
        }
       }
      }
     },
     "metadata": {}
    }
   ],
   "source": [
    "df = export[[\"WK_NAAM\", \"date\", \"pm2_5\"]].groupby([\"WK_NAAM\", \"date\"]).count().reset_index()\n",
    "\n",
    "fig = px.bar(df, x='date', y='pm2_5', color=\"WK_NAAM\")\n",
    "fig.show()"
   ]
  },
  {
   "cell_type": "code",
   "execution_count": 19,
   "metadata": {},
   "outputs": [
    {
     "output_type": "display_data",
     "data": {
      "application/vnd.plotly.v1+json": {
       "config": {
        "plotlyServerURL": "https://plot.ly"
       },
       "data": [
        {
         "alignmentgroup": "True",
         "hovertemplate": "datetime=%{x}<br>pm2_5=%{y}<extra></extra>",
         "legendgroup": "",
         "marker": {
          "color": "#636efa"
         },
         "name": "",
         "offsetgroup": "",
         "orientation": "v",
         "showlegend": false,
         "textposition": "auto",
         "type": "bar",
         "x": [
          "2020-06-15T12:00:00",
          "2020-06-15T13:00:00",
          "2020-06-15T14:00:00",
          "2020-06-15T15:00:00",
          "2020-06-15T16:00:00",
          "2020-06-15T17:00:00",
          "2020-06-15T18:00:00",
          "2020-06-15T19:00:00",
          "2020-06-15T20:00:00",
          "2020-06-15T21:00:00",
          "2020-06-15T22:00:00",
          "2020-06-15T23:00:00",
          "2020-06-16T00:00:00",
          "2020-06-16T07:00:00",
          "2020-06-16T08:00:00",
          "2020-06-16T09:00:00",
          "2020-06-16T10:00:00",
          "2020-06-16T11:00:00",
          "2020-06-16T12:00:00",
          "2020-06-16T13:00:00",
          "2020-06-16T14:00:00",
          "2020-06-16T15:00:00",
          "2020-06-16T16:00:00",
          "2020-06-16T17:00:00",
          "2020-06-16T18:00:00",
          "2020-06-16T19:00:00",
          "2020-06-16T20:00:00",
          "2020-06-17T00:00:00",
          "2020-06-17T06:00:00",
          "2020-06-17T07:00:00",
          "2020-06-17T08:00:00",
          "2020-06-17T09:00:00",
          "2020-06-17T10:00:00",
          "2020-06-17T11:00:00",
          "2020-06-17T12:00:00",
          "2020-06-17T13:00:00",
          "2020-06-17T14:00:00",
          "2020-06-17T15:00:00",
          "2020-06-17T16:00:00",
          "2020-06-17T17:00:00",
          "2020-06-17T18:00:00",
          "2020-06-17T19:00:00",
          "2020-06-17T20:00:00",
          "2020-06-17T21:00:00",
          "2020-06-17T22:00:00",
          "2020-06-18T07:00:00",
          "2020-06-18T08:00:00",
          "2020-06-18T09:00:00",
          "2020-06-18T10:00:00",
          "2020-06-18T11:00:00",
          "2020-06-18T12:00:00",
          "2020-06-18T13:00:00",
          "2020-06-18T14:00:00",
          "2020-06-18T15:00:00",
          "2020-06-18T16:00:00",
          "2020-06-18T17:00:00",
          "2020-06-18T18:00:00",
          "2020-06-18T19:00:00",
          "2020-06-18T20:00:00",
          "2020-06-18T21:00:00",
          "2020-06-18T22:00:00",
          "2020-06-18T23:00:00",
          "2020-06-19T06:00:00",
          "2020-06-19T07:00:00",
          "2020-06-19T08:00:00",
          "2020-06-19T09:00:00",
          "2020-06-19T10:00:00",
          "2020-06-19T11:00:00",
          "2020-06-19T12:00:00",
          "2020-06-19T13:00:00",
          "2020-06-19T14:00:00",
          "2020-06-19T15:00:00",
          "2020-06-19T16:00:00",
          "2020-06-19T17:00:00",
          "2020-06-19T18:00:00",
          "2020-06-19T19:00:00",
          "2020-06-19T20:00:00",
          "2020-06-19T21:00:00",
          "2020-06-19T22:00:00",
          "2020-06-19T23:00:00",
          "2020-06-20T07:00:00",
          "2020-06-20T08:00:00",
          "2020-06-20T09:00:00",
          "2020-06-20T10:00:00",
          "2020-06-20T11:00:00",
          "2020-06-20T12:00:00",
          "2020-06-20T13:00:00",
          "2020-06-20T14:00:00",
          "2020-06-20T15:00:00",
          "2020-06-20T16:00:00",
          "2020-06-20T17:00:00",
          "2020-06-20T18:00:00",
          "2020-06-20T19:00:00",
          "2020-06-20T20:00:00",
          "2020-06-20T21:00:00",
          "2020-06-21T00:00:00",
          "2020-06-21T01:00:00",
          "2020-06-21T08:00:00",
          "2020-06-21T09:00:00",
          "2020-06-21T10:00:00",
          "2020-06-21T11:00:00",
          "2020-06-21T12:00:00",
          "2020-06-21T13:00:00",
          "2020-06-21T14:00:00",
          "2020-06-21T15:00:00",
          "2020-06-21T16:00:00",
          "2020-06-21T17:00:00",
          "2020-06-21T18:00:00",
          "2020-06-21T19:00:00",
          "2020-06-21T20:00:00",
          "2020-06-21T21:00:00"
         ],
         "xaxis": "x",
         "y": [
          2,
          6,
          8,
          7,
          8,
          10,
          9,
          5,
          6,
          5,
          3,
          3,
          1,
          7,
          7,
          5,
          4,
          1,
          5,
          4,
          5,
          8,
          9,
          9,
          3,
          4,
          3,
          1,
          1,
          7,
          10,
          9,
          8,
          6,
          9,
          6,
          7,
          8,
          10,
          10,
          10,
          8,
          6,
          5,
          5,
          9,
          10,
          6,
          5,
          7,
          4,
          5,
          8,
          5,
          10,
          8,
          8,
          8,
          7,
          5,
          3,
          1,
          1,
          5,
          6,
          6,
          7,
          8,
          7,
          7,
          6,
          8,
          8,
          2,
          7,
          7,
          1,
          5,
          4,
          1,
          1,
          5,
          6,
          10,
          6,
          2,
          6,
          5,
          5,
          8,
          4,
          3,
          2,
          6,
          2,
          1,
          4,
          2,
          8,
          8,
          2,
          9,
          7,
          8,
          8,
          6,
          8,
          4,
          3,
          6,
          3
         ],
         "yaxis": "y"
        }
       ],
       "layout": {
        "barmode": "relative",
        "legend": {
         "tracegroupgap": 0
        },
        "template": {
         "data": {
          "bar": [
           {
            "error_x": {
             "color": "#2a3f5f"
            },
            "error_y": {
             "color": "#2a3f5f"
            },
            "marker": {
             "line": {
              "color": "#E5ECF6",
              "width": 0.5
             }
            },
            "type": "bar"
           }
          ],
          "barpolar": [
           {
            "marker": {
             "line": {
              "color": "#E5ECF6",
              "width": 0.5
             }
            },
            "type": "barpolar"
           }
          ],
          "carpet": [
           {
            "aaxis": {
             "endlinecolor": "#2a3f5f",
             "gridcolor": "white",
             "linecolor": "white",
             "minorgridcolor": "white",
             "startlinecolor": "#2a3f5f"
            },
            "baxis": {
             "endlinecolor": "#2a3f5f",
             "gridcolor": "white",
             "linecolor": "white",
             "minorgridcolor": "white",
             "startlinecolor": "#2a3f5f"
            },
            "type": "carpet"
           }
          ],
          "choropleth": [
           {
            "colorbar": {
             "outlinewidth": 0,
             "ticks": ""
            },
            "type": "choropleth"
           }
          ],
          "contour": [
           {
            "colorbar": {
             "outlinewidth": 0,
             "ticks": ""
            },
            "colorscale": [
             [
              0,
              "#0d0887"
             ],
             [
              0.1111111111111111,
              "#46039f"
             ],
             [
              0.2222222222222222,
              "#7201a8"
             ],
             [
              0.3333333333333333,
              "#9c179e"
             ],
             [
              0.4444444444444444,
              "#bd3786"
             ],
             [
              0.5555555555555556,
              "#d8576b"
             ],
             [
              0.6666666666666666,
              "#ed7953"
             ],
             [
              0.7777777777777778,
              "#fb9f3a"
             ],
             [
              0.8888888888888888,
              "#fdca26"
             ],
             [
              1,
              "#f0f921"
             ]
            ],
            "type": "contour"
           }
          ],
          "contourcarpet": [
           {
            "colorbar": {
             "outlinewidth": 0,
             "ticks": ""
            },
            "type": "contourcarpet"
           }
          ],
          "heatmap": [
           {
            "colorbar": {
             "outlinewidth": 0,
             "ticks": ""
            },
            "colorscale": [
             [
              0,
              "#0d0887"
             ],
             [
              0.1111111111111111,
              "#46039f"
             ],
             [
              0.2222222222222222,
              "#7201a8"
             ],
             [
              0.3333333333333333,
              "#9c179e"
             ],
             [
              0.4444444444444444,
              "#bd3786"
             ],
             [
              0.5555555555555556,
              "#d8576b"
             ],
             [
              0.6666666666666666,
              "#ed7953"
             ],
             [
              0.7777777777777778,
              "#fb9f3a"
             ],
             [
              0.8888888888888888,
              "#fdca26"
             ],
             [
              1,
              "#f0f921"
             ]
            ],
            "type": "heatmap"
           }
          ],
          "heatmapgl": [
           {
            "colorbar": {
             "outlinewidth": 0,
             "ticks": ""
            },
            "colorscale": [
             [
              0,
              "#0d0887"
             ],
             [
              0.1111111111111111,
              "#46039f"
             ],
             [
              0.2222222222222222,
              "#7201a8"
             ],
             [
              0.3333333333333333,
              "#9c179e"
             ],
             [
              0.4444444444444444,
              "#bd3786"
             ],
             [
              0.5555555555555556,
              "#d8576b"
             ],
             [
              0.6666666666666666,
              "#ed7953"
             ],
             [
              0.7777777777777778,
              "#fb9f3a"
             ],
             [
              0.8888888888888888,
              "#fdca26"
             ],
             [
              1,
              "#f0f921"
             ]
            ],
            "type": "heatmapgl"
           }
          ],
          "histogram": [
           {
            "marker": {
             "colorbar": {
              "outlinewidth": 0,
              "ticks": ""
             }
            },
            "type": "histogram"
           }
          ],
          "histogram2d": [
           {
            "colorbar": {
             "outlinewidth": 0,
             "ticks": ""
            },
            "colorscale": [
             [
              0,
              "#0d0887"
             ],
             [
              0.1111111111111111,
              "#46039f"
             ],
             [
              0.2222222222222222,
              "#7201a8"
             ],
             [
              0.3333333333333333,
              "#9c179e"
             ],
             [
              0.4444444444444444,
              "#bd3786"
             ],
             [
              0.5555555555555556,
              "#d8576b"
             ],
             [
              0.6666666666666666,
              "#ed7953"
             ],
             [
              0.7777777777777778,
              "#fb9f3a"
             ],
             [
              0.8888888888888888,
              "#fdca26"
             ],
             [
              1,
              "#f0f921"
             ]
            ],
            "type": "histogram2d"
           }
          ],
          "histogram2dcontour": [
           {
            "colorbar": {
             "outlinewidth": 0,
             "ticks": ""
            },
            "colorscale": [
             [
              0,
              "#0d0887"
             ],
             [
              0.1111111111111111,
              "#46039f"
             ],
             [
              0.2222222222222222,
              "#7201a8"
             ],
             [
              0.3333333333333333,
              "#9c179e"
             ],
             [
              0.4444444444444444,
              "#bd3786"
             ],
             [
              0.5555555555555556,
              "#d8576b"
             ],
             [
              0.6666666666666666,
              "#ed7953"
             ],
             [
              0.7777777777777778,
              "#fb9f3a"
             ],
             [
              0.8888888888888888,
              "#fdca26"
             ],
             [
              1,
              "#f0f921"
             ]
            ],
            "type": "histogram2dcontour"
           }
          ],
          "mesh3d": [
           {
            "colorbar": {
             "outlinewidth": 0,
             "ticks": ""
            },
            "type": "mesh3d"
           }
          ],
          "parcoords": [
           {
            "line": {
             "colorbar": {
              "outlinewidth": 0,
              "ticks": ""
             }
            },
            "type": "parcoords"
           }
          ],
          "pie": [
           {
            "automargin": true,
            "type": "pie"
           }
          ],
          "scatter": [
           {
            "marker": {
             "colorbar": {
              "outlinewidth": 0,
              "ticks": ""
             }
            },
            "type": "scatter"
           }
          ],
          "scatter3d": [
           {
            "line": {
             "colorbar": {
              "outlinewidth": 0,
              "ticks": ""
             }
            },
            "marker": {
             "colorbar": {
              "outlinewidth": 0,
              "ticks": ""
             }
            },
            "type": "scatter3d"
           }
          ],
          "scattercarpet": [
           {
            "marker": {
             "colorbar": {
              "outlinewidth": 0,
              "ticks": ""
             }
            },
            "type": "scattercarpet"
           }
          ],
          "scattergeo": [
           {
            "marker": {
             "colorbar": {
              "outlinewidth": 0,
              "ticks": ""
             }
            },
            "type": "scattergeo"
           }
          ],
          "scattergl": [
           {
            "marker": {
             "colorbar": {
              "outlinewidth": 0,
              "ticks": ""
             }
            },
            "type": "scattergl"
           }
          ],
          "scattermapbox": [
           {
            "marker": {
             "colorbar": {
              "outlinewidth": 0,
              "ticks": ""
             }
            },
            "type": "scattermapbox"
           }
          ],
          "scatterpolar": [
           {
            "marker": {
             "colorbar": {
              "outlinewidth": 0,
              "ticks": ""
             }
            },
            "type": "scatterpolar"
           }
          ],
          "scatterpolargl": [
           {
            "marker": {
             "colorbar": {
              "outlinewidth": 0,
              "ticks": ""
             }
            },
            "type": "scatterpolargl"
           }
          ],
          "scatterternary": [
           {
            "marker": {
             "colorbar": {
              "outlinewidth": 0,
              "ticks": ""
             }
            },
            "type": "scatterternary"
           }
          ],
          "surface": [
           {
            "colorbar": {
             "outlinewidth": 0,
             "ticks": ""
            },
            "colorscale": [
             [
              0,
              "#0d0887"
             ],
             [
              0.1111111111111111,
              "#46039f"
             ],
             [
              0.2222222222222222,
              "#7201a8"
             ],
             [
              0.3333333333333333,
              "#9c179e"
             ],
             [
              0.4444444444444444,
              "#bd3786"
             ],
             [
              0.5555555555555556,
              "#d8576b"
             ],
             [
              0.6666666666666666,
              "#ed7953"
             ],
             [
              0.7777777777777778,
              "#fb9f3a"
             ],
             [
              0.8888888888888888,
              "#fdca26"
             ],
             [
              1,
              "#f0f921"
             ]
            ],
            "type": "surface"
           }
          ],
          "table": [
           {
            "cells": {
             "fill": {
              "color": "#EBF0F8"
             },
             "line": {
              "color": "white"
             }
            },
            "header": {
             "fill": {
              "color": "#C8D4E3"
             },
             "line": {
              "color": "white"
             }
            },
            "type": "table"
           }
          ]
         },
         "layout": {
          "annotationdefaults": {
           "arrowcolor": "#2a3f5f",
           "arrowhead": 0,
           "arrowwidth": 1
          },
          "autotypenumbers": "strict",
          "coloraxis": {
           "colorbar": {
            "outlinewidth": 0,
            "ticks": ""
           }
          },
          "colorscale": {
           "diverging": [
            [
             0,
             "#8e0152"
            ],
            [
             0.1,
             "#c51b7d"
            ],
            [
             0.2,
             "#de77ae"
            ],
            [
             0.3,
             "#f1b6da"
            ],
            [
             0.4,
             "#fde0ef"
            ],
            [
             0.5,
             "#f7f7f7"
            ],
            [
             0.6,
             "#e6f5d0"
            ],
            [
             0.7,
             "#b8e186"
            ],
            [
             0.8,
             "#7fbc41"
            ],
            [
             0.9,
             "#4d9221"
            ],
            [
             1,
             "#276419"
            ]
           ],
           "sequential": [
            [
             0,
             "#0d0887"
            ],
            [
             0.1111111111111111,
             "#46039f"
            ],
            [
             0.2222222222222222,
             "#7201a8"
            ],
            [
             0.3333333333333333,
             "#9c179e"
            ],
            [
             0.4444444444444444,
             "#bd3786"
            ],
            [
             0.5555555555555556,
             "#d8576b"
            ],
            [
             0.6666666666666666,
             "#ed7953"
            ],
            [
             0.7777777777777778,
             "#fb9f3a"
            ],
            [
             0.8888888888888888,
             "#fdca26"
            ],
            [
             1,
             "#f0f921"
            ]
           ],
           "sequentialminus": [
            [
             0,
             "#0d0887"
            ],
            [
             0.1111111111111111,
             "#46039f"
            ],
            [
             0.2222222222222222,
             "#7201a8"
            ],
            [
             0.3333333333333333,
             "#9c179e"
            ],
            [
             0.4444444444444444,
             "#bd3786"
            ],
            [
             0.5555555555555556,
             "#d8576b"
            ],
            [
             0.6666666666666666,
             "#ed7953"
            ],
            [
             0.7777777777777778,
             "#fb9f3a"
            ],
            [
             0.8888888888888888,
             "#fdca26"
            ],
            [
             1,
             "#f0f921"
            ]
           ]
          },
          "colorway": [
           "#636efa",
           "#EF553B",
           "#00cc96",
           "#ab63fa",
           "#FFA15A",
           "#19d3f3",
           "#FF6692",
           "#B6E880",
           "#FF97FF",
           "#FECB52"
          ],
          "font": {
           "color": "#2a3f5f"
          },
          "geo": {
           "bgcolor": "white",
           "lakecolor": "white",
           "landcolor": "#E5ECF6",
           "showlakes": true,
           "showland": true,
           "subunitcolor": "white"
          },
          "hoverlabel": {
           "align": "left"
          },
          "hovermode": "closest",
          "mapbox": {
           "style": "light"
          },
          "paper_bgcolor": "white",
          "plot_bgcolor": "#E5ECF6",
          "polar": {
           "angularaxis": {
            "gridcolor": "white",
            "linecolor": "white",
            "ticks": ""
           },
           "bgcolor": "#E5ECF6",
           "radialaxis": {
            "gridcolor": "white",
            "linecolor": "white",
            "ticks": ""
           }
          },
          "scene": {
           "xaxis": {
            "backgroundcolor": "#E5ECF6",
            "gridcolor": "white",
            "gridwidth": 2,
            "linecolor": "white",
            "showbackground": true,
            "ticks": "",
            "zerolinecolor": "white"
           },
           "yaxis": {
            "backgroundcolor": "#E5ECF6",
            "gridcolor": "white",
            "gridwidth": 2,
            "linecolor": "white",
            "showbackground": true,
            "ticks": "",
            "zerolinecolor": "white"
           },
           "zaxis": {
            "backgroundcolor": "#E5ECF6",
            "gridcolor": "white",
            "gridwidth": 2,
            "linecolor": "white",
            "showbackground": true,
            "ticks": "",
            "zerolinecolor": "white"
           }
          },
          "shapedefaults": {
           "line": {
            "color": "#2a3f5f"
           }
          },
          "ternary": {
           "aaxis": {
            "gridcolor": "white",
            "linecolor": "white",
            "ticks": ""
           },
           "baxis": {
            "gridcolor": "white",
            "linecolor": "white",
            "ticks": ""
           },
           "bgcolor": "#E5ECF6",
           "caxis": {
            "gridcolor": "white",
            "linecolor": "white",
            "ticks": ""
           }
          },
          "title": {
           "x": 0.05
          },
          "xaxis": {
           "automargin": true,
           "gridcolor": "white",
           "linecolor": "white",
           "ticks": "",
           "title": {
            "standoff": 15
           },
           "zerolinecolor": "white",
           "zerolinewidth": 2
          },
          "yaxis": {
           "automargin": true,
           "gridcolor": "white",
           "linecolor": "white",
           "ticks": "",
           "title": {
            "standoff": 15
           },
           "zerolinecolor": "white",
           "zerolinewidth": 2
          }
         }
        },
        "title": {
         "text": "Measurements per hour"
        },
        "xaxis": {
         "anchor": "y",
         "domain": [
          0,
          1
         ],
         "title": {
          "text": "datetime"
         }
        },
        "yaxis": {
         "anchor": "x",
         "domain": [
          0,
          1
         ],
         "title": {
          "text": "pm2_5"
         }
        }
       }
      }
     },
     "metadata": {}
    }
   ],
   "source": [
    "fig = px.bar(export.groupby([\"datetime\"]).count().reset_index(), x='datetime', y='pm2_5', title='Measurements per hour', )\n",
    "fig.show()"
   ]
  },
  {
   "cell_type": "code",
   "execution_count": 21,
   "metadata": {},
   "outputs": [],
   "source": [
    "export = export.merge(utrecht_dist[[\"WK_NAAM\", \"geometry\", \"measurement_station\"]], on=\"WK_NAAM\")\n",
    "\n",
    "export['lon'] = export.measurement_station.apply(lambda p: p.x)\n",
    "export['lat'] = export.measurement_station.apply(lambda p: p.y)\n",
    "\n",
    "export.to_csv(\"../data/interim/export_districts_2020_06_15_2020_06_22_hourly.csv\",index=False)"
   ]
  },
  {
   "cell_type": "code",
   "execution_count": 22,
   "metadata": {},
   "outputs": [],
   "source": [
    "export = geo_df[[\"WK_NAAM\", \"date\", \"hour\", \"pm2_5\"]].groupby([\"WK_NAAM\", \"date\"]).median().reset_index()\n",
    "export = export.merge(utrecht_dist[[\"WK_NAAM\", \"geometry\", \"measurement_station\"]], on=\"WK_NAAM\")\n",
    "\n",
    "export['lon'] = export.measurement_station.apply(lambda p: p.x)\n",
    "export['lat'] = export.measurement_station.apply(lambda p: p.y)\n",
    "\n",
    "export.to_csv(\"../data/interim/export_districts_2020_06_15_2020_06_22_daily.csv\",index=False)"
   ]
  },
  {
   "cell_type": "code",
   "execution_count": null,
   "metadata": {},
   "outputs": [],
   "source": []
  }
 ]
}