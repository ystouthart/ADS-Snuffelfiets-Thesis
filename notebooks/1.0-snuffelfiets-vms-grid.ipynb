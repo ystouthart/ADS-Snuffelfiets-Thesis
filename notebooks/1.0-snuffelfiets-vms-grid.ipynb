{
 "metadata": {
  "language_info": {
   "codemirror_mode": {
    "name": "ipython",
    "version": 3
   },
   "file_extension": ".py",
   "mimetype": "text/x-python",
   "name": "python",
   "nbconvert_exporter": "python",
   "pygments_lexer": "ipython3",
   "version": "3.8.8"
  },
  "orig_nbformat": 2,
  "kernelspec": {
   "name": "python388jvsc74a57bd06bfa853000390083a35d112b16e638a8e978943b5cf163568e56c68c8f4a453e",
   "display_name": "Python 3.8.8 64-bit ('thesis': conda)"
  }
 },
 "nbformat": 4,
 "nbformat_minor": 2,
 "cells": [
  {
   "cell_type": "code",
   "execution_count": 6,
   "metadata": {},
   "outputs": [],
   "source": [
    "# Import packages\n",
    "import pandas as pd \n",
    "import numpy as np \n",
    "import geopandas as gpd \n",
    "import rasterio\n",
    "import matplotlib.pyplot as plt\n",
    "\n",
    "from tqdm import tqdm\n",
    "import requests\n",
    "from bs4 import BeautifulSoup\n",
    "import io\n",
    "import json\n",
    "\n",
    "import plotly.express as px\n",
    "from collections import Counter\n",
    "import glob\n"
   ]
  },
  {
   "cell_type": "code",
   "execution_count": 9,
   "metadata": {},
   "outputs": [],
   "source": [
    "# Data dir\n",
    "data_dir = \"C:/Users/Klant/Documents/GitHub/ADS-Snuffelfiets-Thesis/data/interim/vms_grid/total\"\n",
    "fp = os.path.join(data_dir, \"grid_vms500.csv\")\n",
    "\n",
    "vms_grid = pd.read_csv(fp)"
   ]
  },
  {
   "cell_type": "code",
   "execution_count": 14,
   "metadata": {},
   "outputs": [
    {
     "output_type": "execute_result",
     "data": {
      "text/plain": [
       "374"
      ]
     },
     "metadata": {},
     "execution_count": 14
    }
   ],
   "source": [
    "len(vms_grid.loc[vms_grid['count']>0])"
   ]
  },
  {
   "cell_type": "code",
   "execution_count": 15,
   "metadata": {},
   "outputs": [
    {
     "output_type": "execute_result",
     "data": {
      "text/plain": [
       "806"
      ]
     },
     "metadata": {},
     "execution_count": 15
    }
   ],
   "source": [
    "len(vms_grid)"
   ]
  },
  {
   "cell_type": "code",
   "execution_count": 33,
   "metadata": {},
   "outputs": [
    {
     "output_type": "stream",
     "name": "stderr",
     "text": [
      "100%|██████████| 5/5 [00:00<00:00, 94.53it/s]\n"
     ]
    }
   ],
   "source": [
    "path = \"C:/Users/Klant/Documents/GitHub/ADS-Snuffelfiets-Thesis/data/interim/vms_grid/total\" # use your path\n",
    "all_files = glob.glob(path + \"/*.csv\")\n",
    "\n",
    "li = []\n",
    "\n",
    "for filename in tqdm(all_files):\n",
    "    df = pd.read_csv(filename, index_col=None, header=0)\n",
    "    df[\"resolution\"] = filename.split(\"\\\\\")[1].split(\".\")[0]\n",
    "    li.append(df)\n",
    "\n",
    "frame = pd.concat(li, axis=0, ignore_index=True)"
   ]
  },
  {
   "cell_type": "code",
   "execution_count": 22,
   "metadata": {},
   "outputs": [
    {
     "output_type": "execute_result",
     "data": {
      "text/plain": [
       "                x           y  pm2_5  count  unique    resolution\n",
       "0      126934.772  461109.608    NaN      0       0  grid_vms1000\n",
       "1      127934.772  461109.608    1.0      1       1  grid_vms1000\n",
       "2      128934.772  461109.608    3.0      5       3  grid_vms1000\n",
       "3      129934.772  461109.608    NaN      0       0  grid_vms1000\n",
       "4      130934.772  461109.608    NaN      0       0  grid_vms1000\n",
       "...           ...         ...    ...    ...     ...           ...\n",
       "16979  139684.772  448859.608    NaN      0       0   grid_vms500\n",
       "16980  140184.772  448859.608    NaN      0       0   grid_vms500\n",
       "16981  140684.772  448859.608    NaN      0       0   grid_vms500\n",
       "16982  141184.772  448859.608    NaN      0       0   grid_vms500\n",
       "16983  141684.772  448859.608    NaN      0       0   grid_vms500\n",
       "\n",
       "[16984 rows x 6 columns]"
      ],
      "text/html": "<div>\n<style scoped>\n    .dataframe tbody tr th:only-of-type {\n        vertical-align: middle;\n    }\n\n    .dataframe tbody tr th {\n        vertical-align: top;\n    }\n\n    .dataframe thead th {\n        text-align: right;\n    }\n</style>\n<table border=\"1\" class=\"dataframe\">\n  <thead>\n    <tr style=\"text-align: right;\">\n      <th></th>\n      <th>x</th>\n      <th>y</th>\n      <th>pm2_5</th>\n      <th>count</th>\n      <th>unique</th>\n      <th>resolution</th>\n    </tr>\n  </thead>\n  <tbody>\n    <tr>\n      <th>0</th>\n      <td>126934.772</td>\n      <td>461109.608</td>\n      <td>NaN</td>\n      <td>0</td>\n      <td>0</td>\n      <td>grid_vms1000</td>\n    </tr>\n    <tr>\n      <th>1</th>\n      <td>127934.772</td>\n      <td>461109.608</td>\n      <td>1.0</td>\n      <td>1</td>\n      <td>1</td>\n      <td>grid_vms1000</td>\n    </tr>\n    <tr>\n      <th>2</th>\n      <td>128934.772</td>\n      <td>461109.608</td>\n      <td>3.0</td>\n      <td>5</td>\n      <td>3</td>\n      <td>grid_vms1000</td>\n    </tr>\n    <tr>\n      <th>3</th>\n      <td>129934.772</td>\n      <td>461109.608</td>\n      <td>NaN</td>\n      <td>0</td>\n      <td>0</td>\n      <td>grid_vms1000</td>\n    </tr>\n    <tr>\n      <th>4</th>\n      <td>130934.772</td>\n      <td>461109.608</td>\n      <td>NaN</td>\n      <td>0</td>\n      <td>0</td>\n      <td>grid_vms1000</td>\n    </tr>\n    <tr>\n      <th>...</th>\n      <td>...</td>\n      <td>...</td>\n      <td>...</td>\n      <td>...</td>\n      <td>...</td>\n      <td>...</td>\n    </tr>\n    <tr>\n      <th>16979</th>\n      <td>139684.772</td>\n      <td>448859.608</td>\n      <td>NaN</td>\n      <td>0</td>\n      <td>0</td>\n      <td>grid_vms500</td>\n    </tr>\n    <tr>\n      <th>16980</th>\n      <td>140184.772</td>\n      <td>448859.608</td>\n      <td>NaN</td>\n      <td>0</td>\n      <td>0</td>\n      <td>grid_vms500</td>\n    </tr>\n    <tr>\n      <th>16981</th>\n      <td>140684.772</td>\n      <td>448859.608</td>\n      <td>NaN</td>\n      <td>0</td>\n      <td>0</td>\n      <td>grid_vms500</td>\n    </tr>\n    <tr>\n      <th>16982</th>\n      <td>141184.772</td>\n      <td>448859.608</td>\n      <td>NaN</td>\n      <td>0</td>\n      <td>0</td>\n      <td>grid_vms500</td>\n    </tr>\n    <tr>\n      <th>16983</th>\n      <td>141684.772</td>\n      <td>448859.608</td>\n      <td>NaN</td>\n      <td>0</td>\n      <td>0</td>\n      <td>grid_vms500</td>\n    </tr>\n  </tbody>\n</table>\n<p>16984 rows × 6 columns</p>\n</div>"
     },
     "metadata": {},
     "execution_count": 22
    }
   ],
   "source": [
    "frame"
   ]
  },
  {
   "cell_type": "code",
   "execution_count": 20,
   "metadata": {},
   "outputs": [
    {
     "output_type": "execute_result",
     "data": {
      "text/plain": [
       "'grid_vms125'"
      ]
     },
     "metadata": {},
     "execution_count": 20
    }
   ],
   "source": [
    "all_files[1].split(\"\\\\\")[1].split(\".\")[0]"
   ]
  },
  {
   "cell_type": "code",
   "execution_count": 37,
   "metadata": {},
   "outputs": [
    {
     "output_type": "execute_result",
     "data": {
      "text/plain": [
       "                 pm2_5        count     unique      mean        sd\n",
       "resolution                                                        \n",
       "grid_vms1000  5.555556   664.521368  19.008547  6.702961  5.085293\n",
       "grid_vms125   6.158960    23.685427   7.264679  6.765566  4.073543\n",
       "grid_vms1500  5.719298  1364.017544  23.087719  6.810997  5.167074\n",
       "grid_vms250   5.943486    67.173425  10.597066  6.832507  4.417917\n",
       "grid_vms500   5.709893   208.165775  14.834225  6.843627  4.913633"
      ],
      "text/html": "<div>\n<style scoped>\n    .dataframe tbody tr th:only-of-type {\n        vertical-align: middle;\n    }\n\n    .dataframe tbody tr th {\n        vertical-align: top;\n    }\n\n    .dataframe thead th {\n        text-align: right;\n    }\n</style>\n<table border=\"1\" class=\"dataframe\">\n  <thead>\n    <tr style=\"text-align: right;\">\n      <th></th>\n      <th>pm2_5</th>\n      <th>count</th>\n      <th>unique</th>\n      <th>mean</th>\n      <th>sd</th>\n    </tr>\n    <tr>\n      <th>resolution</th>\n      <th></th>\n      <th></th>\n      <th></th>\n      <th></th>\n      <th></th>\n    </tr>\n  </thead>\n  <tbody>\n    <tr>\n      <th>grid_vms1000</th>\n      <td>5.555556</td>\n      <td>664.521368</td>\n      <td>19.008547</td>\n      <td>6.702961</td>\n      <td>5.085293</td>\n    </tr>\n    <tr>\n      <th>grid_vms125</th>\n      <td>6.158960</td>\n      <td>23.685427</td>\n      <td>7.264679</td>\n      <td>6.765566</td>\n      <td>4.073543</td>\n    </tr>\n    <tr>\n      <th>grid_vms1500</th>\n      <td>5.719298</td>\n      <td>1364.017544</td>\n      <td>23.087719</td>\n      <td>6.810997</td>\n      <td>5.167074</td>\n    </tr>\n    <tr>\n      <th>grid_vms250</th>\n      <td>5.943486</td>\n      <td>67.173425</td>\n      <td>10.597066</td>\n      <td>6.832507</td>\n      <td>4.417917</td>\n    </tr>\n    <tr>\n      <th>grid_vms500</th>\n      <td>5.709893</td>\n      <td>208.165775</td>\n      <td>14.834225</td>\n      <td>6.843627</td>\n      <td>4.913633</td>\n    </tr>\n  </tbody>\n</table>\n</div>"
     },
     "metadata": {},
     "execution_count": 37
    }
   ],
   "source": [
    "frame[[\"pm2_5\",\"count\", \"unique\", \"mean\", \"sd\", \"resolution\"]].groupby(\"resolution\").mean()"
   ]
  },
  {
   "cell_type": "code",
   "execution_count": 51,
   "metadata": {},
   "outputs": [
    {
     "output_type": "stream",
     "name": "stderr",
     "text": [
      "100%|██████████| 10/10 [00:00<00:00, 46.35it/s]\n"
     ]
    },
    {
     "output_type": "execute_result",
     "data": {
      "text/plain": [
       "               pm2_5     count    unique      mean        sd\n",
       "resolution                                                  \n",
       "vms125      6.281497  5.045625  2.744329  6.765566  4.073543"
      ],
      "text/html": "<div>\n<style scoped>\n    .dataframe tbody tr th:only-of-type {\n        vertical-align: middle;\n    }\n\n    .dataframe tbody tr th {\n        vertical-align: top;\n    }\n\n    .dataframe thead th {\n        text-align: right;\n    }\n</style>\n<table border=\"1\" class=\"dataframe\">\n  <thead>\n    <tr style=\"text-align: right;\">\n      <th></th>\n      <th>pm2_5</th>\n      <th>count</th>\n      <th>unique</th>\n      <th>mean</th>\n      <th>sd</th>\n    </tr>\n    <tr>\n      <th>resolution</th>\n      <th></th>\n      <th></th>\n      <th></th>\n      <th></th>\n      <th></th>\n    </tr>\n  </thead>\n  <tbody>\n    <tr>\n      <th>vms125</th>\n      <td>6.281497</td>\n      <td>5.045625</td>\n      <td>2.744329</td>\n      <td>6.765566</td>\n      <td>4.073543</td>\n    </tr>\n  </tbody>\n</table>\n</div>"
     },
     "metadata": {},
     "execution_count": 51
    }
   ],
   "source": [
    "path = \"C:/Users/Klant/Documents/GitHub/ADS-Snuffelfiets-Thesis/data/interim/vms_grid/daily/125\" # use your path\n",
    "all_files = glob.glob(path + \"/*.csv\")\n",
    "\n",
    "li = []\n",
    "\n",
    "for filename in tqdm(all_files):\n",
    "    df = pd.read_csv(filename, index_col=None, header=0)\n",
    "    df[\"resolution\"] = filename.split(\"\\\\\")[1].split(\"_\")[1]\n",
    "    li.append(df)\n",
    "\n",
    "frame = pd.concat(li, axis=0, ignore_index=True)\n",
    "frame[[\"pm2_5\",\"count\", \"unique\", \"mean\", \"sd\", \"resolution\"]].groupby(\"resolution\").mean()"
   ]
  },
  {
   "cell_type": "code",
   "execution_count": 52,
   "metadata": {},
   "outputs": [
    {
     "output_type": "stream",
     "name": "stderr",
     "text": [
      "100%|██████████| 10/10 [00:00<00:00, 95.36it/s]\n"
     ]
    },
    {
     "output_type": "execute_result",
     "data": {
      "text/plain": [
       "               pm2_5      count    unique      mean        sd\n",
       "resolution                                                   \n",
       "vms250      6.191105  11.817547  4.048118  6.832507  4.417917"
      ],
      "text/html": "<div>\n<style scoped>\n    .dataframe tbody tr th:only-of-type {\n        vertical-align: middle;\n    }\n\n    .dataframe tbody tr th {\n        vertical-align: top;\n    }\n\n    .dataframe thead th {\n        text-align: right;\n    }\n</style>\n<table border=\"1\" class=\"dataframe\">\n  <thead>\n    <tr style=\"text-align: right;\">\n      <th></th>\n      <th>pm2_5</th>\n      <th>count</th>\n      <th>unique</th>\n      <th>mean</th>\n      <th>sd</th>\n    </tr>\n    <tr>\n      <th>resolution</th>\n      <th></th>\n      <th></th>\n      <th></th>\n      <th></th>\n      <th></th>\n    </tr>\n  </thead>\n  <tbody>\n    <tr>\n      <th>vms250</th>\n      <td>6.191105</td>\n      <td>11.817547</td>\n      <td>4.048118</td>\n      <td>6.832507</td>\n      <td>4.417917</td>\n    </tr>\n  </tbody>\n</table>\n</div>"
     },
     "metadata": {},
     "execution_count": 52
    }
   ],
   "source": [
    "path = \"C:/Users/Klant/Documents/GitHub/ADS-Snuffelfiets-Thesis/data/interim/vms_grid/daily/250\" # use your path\n",
    "all_files = glob.glob(path + \"/*.csv\")\n",
    "\n",
    "li = []\n",
    "\n",
    "for filename in tqdm(all_files):\n",
    "    df = pd.read_csv(filename, index_col=None, header=0)\n",
    "    df[\"resolution\"] = filename.split(\"\\\\\")[1].split(\"_\")[1]\n",
    "    li.append(df)\n",
    "\n",
    "frame = pd.concat(li, axis=0, ignore_index=True)\n",
    "frame[[\"pm2_5\",\"count\", \"unique\", \"mean\", \"sd\", \"resolution\"]].groupby(\"resolution\").mean()"
   ]
  },
  {
   "cell_type": "code",
   "execution_count": 53,
   "metadata": {},
   "outputs": [
    {
     "output_type": "stream",
     "name": "stderr",
     "text": [
      "100%|██████████| 10/10 [00:00<00:00, 172.84it/s]\n"
     ]
    },
    {
     "output_type": "execute_result",
     "data": {
      "text/plain": [
       "               pm2_5      count   unique      mean        sd\n",
       "resolution                                                  \n",
       "vms500      6.138229  31.329577  6.02173  6.843627  4.913633"
      ],
      "text/html": "<div>\n<style scoped>\n    .dataframe tbody tr th:only-of-type {\n        vertical-align: middle;\n    }\n\n    .dataframe tbody tr th {\n        vertical-align: top;\n    }\n\n    .dataframe thead th {\n        text-align: right;\n    }\n</style>\n<table border=\"1\" class=\"dataframe\">\n  <thead>\n    <tr style=\"text-align: right;\">\n      <th></th>\n      <th>pm2_5</th>\n      <th>count</th>\n      <th>unique</th>\n      <th>mean</th>\n      <th>sd</th>\n    </tr>\n    <tr>\n      <th>resolution</th>\n      <th></th>\n      <th></th>\n      <th></th>\n      <th></th>\n      <th></th>\n    </tr>\n  </thead>\n  <tbody>\n    <tr>\n      <th>vms500</th>\n      <td>6.138229</td>\n      <td>31.329577</td>\n      <td>6.02173</td>\n      <td>6.843627</td>\n      <td>4.913633</td>\n    </tr>\n  </tbody>\n</table>\n</div>"
     },
     "metadata": {},
     "execution_count": 53
    }
   ],
   "source": [
    "path = \"C:/Users/Klant/Documents/GitHub/ADS-Snuffelfiets-Thesis/data/interim/vms_grid/daily/500\" # use your path\n",
    "all_files = glob.glob(path + \"/*.csv\")\n",
    "\n",
    "li = []\n",
    "\n",
    "for filename in tqdm(all_files):\n",
    "    df = pd.read_csv(filename, index_col=None, header=0)\n",
    "    df[\"resolution\"] = filename.split(\"\\\\\")[1].split(\"_\")[1]\n",
    "    li.append(df)\n",
    "\n",
    "frame = pd.concat(li, axis=0, ignore_index=True)\n",
    "frame[[\"pm2_5\",\"count\", \"unique\", \"mean\", \"sd\", \"resolution\"]].groupby(\"resolution\").mean()"
   ]
  },
  {
   "cell_type": "code",
   "execution_count": 54,
   "metadata": {},
   "outputs": [
    {
     "output_type": "stream",
     "name": "stderr",
     "text": [
      "100%|██████████| 10/10 [00:00<00:00, 192.66it/s]\n"
     ]
    },
    {
     "output_type": "execute_result",
     "data": {
      "text/plain": [
       "               pm2_5      count   unique      mean        sd\n",
       "resolution                                                  \n",
       "vms1000     5.969643  92.558333  8.59881  6.702961  5.085293"
      ],
      "text/html": "<div>\n<style scoped>\n    .dataframe tbody tr th:only-of-type {\n        vertical-align: middle;\n    }\n\n    .dataframe tbody tr th {\n        vertical-align: top;\n    }\n\n    .dataframe thead th {\n        text-align: right;\n    }\n</style>\n<table border=\"1\" class=\"dataframe\">\n  <thead>\n    <tr style=\"text-align: right;\">\n      <th></th>\n      <th>pm2_5</th>\n      <th>count</th>\n      <th>unique</th>\n      <th>mean</th>\n      <th>sd</th>\n    </tr>\n    <tr>\n      <th>resolution</th>\n      <th></th>\n      <th></th>\n      <th></th>\n      <th></th>\n      <th></th>\n    </tr>\n  </thead>\n  <tbody>\n    <tr>\n      <th>vms1000</th>\n      <td>5.969643</td>\n      <td>92.558333</td>\n      <td>8.59881</td>\n      <td>6.702961</td>\n      <td>5.085293</td>\n    </tr>\n  </tbody>\n</table>\n</div>"
     },
     "metadata": {},
     "execution_count": 54
    }
   ],
   "source": [
    "path = \"C:/Users/Klant/Documents/GitHub/ADS-Snuffelfiets-Thesis/data/interim/vms_grid/daily/1000\" # use your path\n",
    "all_files = glob.glob(path + \"/*.csv\")\n",
    "\n",
    "li = []\n",
    "\n",
    "for filename in tqdm(all_files):\n",
    "    df = pd.read_csv(filename, index_col=None, header=0)\n",
    "    df[\"resolution\"] = filename.split(\"\\\\\")[1].split(\"_\")[1]\n",
    "    li.append(df)\n",
    "\n",
    "frame = pd.concat(li, axis=0, ignore_index=True)\n",
    "frame[[\"pm2_5\",\"count\", \"unique\", \"mean\", \"sd\", \"resolution\"]].groupby(\"resolution\").mean()"
   ]
  },
  {
   "cell_type": "code",
   "execution_count": 55,
   "metadata": {},
   "outputs": [
    {
     "output_type": "stream",
     "name": "stderr",
     "text": [
      "100%|██████████| 10/10 [00:00<00:00, 217.80it/s]\n"
     ]
    },
    {
     "output_type": "execute_result",
     "data": {
      "text/plain": [
       "               pm2_5       count     unique      mean        sd\n",
       "resolution                                                     \n",
       "vms1500     5.866743  177.104784  10.382688  6.810997  5.167074"
      ],
      "text/html": "<div>\n<style scoped>\n    .dataframe tbody tr th:only-of-type {\n        vertical-align: middle;\n    }\n\n    .dataframe tbody tr th {\n        vertical-align: top;\n    }\n\n    .dataframe thead th {\n        text-align: right;\n    }\n</style>\n<table border=\"1\" class=\"dataframe\">\n  <thead>\n    <tr style=\"text-align: right;\">\n      <th></th>\n      <th>pm2_5</th>\n      <th>count</th>\n      <th>unique</th>\n      <th>mean</th>\n      <th>sd</th>\n    </tr>\n    <tr>\n      <th>resolution</th>\n      <th></th>\n      <th></th>\n      <th></th>\n      <th></th>\n      <th></th>\n    </tr>\n  </thead>\n  <tbody>\n    <tr>\n      <th>vms1500</th>\n      <td>5.866743</td>\n      <td>177.104784</td>\n      <td>10.382688</td>\n      <td>6.810997</td>\n      <td>5.167074</td>\n    </tr>\n  </tbody>\n</table>\n</div>"
     },
     "metadata": {},
     "execution_count": 55
    }
   ],
   "source": [
    "path = \"C:/Users/Klant/Documents/GitHub/ADS-Snuffelfiets-Thesis/data/interim/vms_grid/daily/1500\" # use your path\n",
    "all_files = glob.glob(path + \"/*.csv\")\n",
    "\n",
    "li = []\n",
    "\n",
    "for filename in tqdm(all_files):\n",
    "    df = pd.read_csv(filename, index_col=None, header=0)\n",
    "    df[\"resolution\"] = filename.split(\"\\\\\")[1].split(\"_\")[1]\n",
    "    li.append(df)\n",
    "\n",
    "frame = pd.concat(li, axis=0, ignore_index=True)\n",
    "frame[[\"pm2_5\",\"count\", \"unique\", \"mean\", \"sd\", \"resolution\"]].groupby(\"resolution\").mean()"
   ]
  },
  {
   "cell_type": "code",
   "execution_count": null,
   "metadata": {},
   "outputs": [],
   "source": []
  },
  {
   "cell_type": "code",
   "execution_count": null,
   "metadata": {},
   "outputs": [],
   "source": []
  },
  {
   "cell_type": "code",
   "execution_count": 57,
   "metadata": {},
   "outputs": [
    {
     "output_type": "stream",
     "name": "stderr",
     "text": [
      "100%|██████████| 177/177 [00:03<00:00, 45.22it/s]\n"
     ]
    },
    {
     "output_type": "execute_result",
     "data": {
      "text/plain": [
       "               pm2_5     count   unique      mean        sd\n",
       "resolution                                                 \n",
       "vms125      6.858445  1.987136  1.43166  6.765566  4.073543"
      ],
      "text/html": "<div>\n<style scoped>\n    .dataframe tbody tr th:only-of-type {\n        vertical-align: middle;\n    }\n\n    .dataframe tbody tr th {\n        vertical-align: top;\n    }\n\n    .dataframe thead th {\n        text-align: right;\n    }\n</style>\n<table border=\"1\" class=\"dataframe\">\n  <thead>\n    <tr style=\"text-align: right;\">\n      <th></th>\n      <th>pm2_5</th>\n      <th>count</th>\n      <th>unique</th>\n      <th>mean</th>\n      <th>sd</th>\n    </tr>\n    <tr>\n      <th>resolution</th>\n      <th></th>\n      <th></th>\n      <th></th>\n      <th></th>\n      <th></th>\n    </tr>\n  </thead>\n  <tbody>\n    <tr>\n      <th>vms125</th>\n      <td>6.858445</td>\n      <td>1.987136</td>\n      <td>1.43166</td>\n      <td>6.765566</td>\n      <td>4.073543</td>\n    </tr>\n  </tbody>\n</table>\n</div>"
     },
     "metadata": {},
     "execution_count": 57
    }
   ],
   "source": [
    "path = \"C:/Users/Klant/Documents/GitHub/ADS-Snuffelfiets-Thesis/data/interim/vms_grid/hourly/125\" # use your path\n",
    "all_files = glob.glob(path + \"/*.csv\")\n",
    "\n",
    "li = []\n",
    "\n",
    "for filename in tqdm(all_files):\n",
    "    df = pd.read_csv(filename, index_col=None, header=0)\n",
    "    df[\"resolution\"] = filename.split(\"\\\\\")[1].split(\"_\")[1]\n",
    "    li.append(df)\n",
    "\n",
    "frame = pd.concat(li, axis=0, ignore_index=True)\n",
    "frame[[\"pm2_5\",\"count\", \"unique\", \"mean\", \"sd\", \"resolution\"]].groupby(\"resolution\").mean()"
   ]
  },
  {
   "cell_type": "code",
   "execution_count": 58,
   "metadata": {},
   "outputs": [
    {
     "output_type": "stream",
     "name": "stderr",
     "text": [
      "100%|██████████| 177/177 [00:01<00:00, 107.74it/s]\n"
     ]
    },
    {
     "output_type": "execute_result",
     "data": {
      "text/plain": [
       "               pm2_5     count    unique      mean        sd\n",
       "resolution                                                  \n",
       "vms250      6.824393  3.772544  1.921161  6.832507  4.417917"
      ],
      "text/html": "<div>\n<style scoped>\n    .dataframe tbody tr th:only-of-type {\n        vertical-align: middle;\n    }\n\n    .dataframe tbody tr th {\n        vertical-align: top;\n    }\n\n    .dataframe thead th {\n        text-align: right;\n    }\n</style>\n<table border=\"1\" class=\"dataframe\">\n  <thead>\n    <tr style=\"text-align: right;\">\n      <th></th>\n      <th>pm2_5</th>\n      <th>count</th>\n      <th>unique</th>\n      <th>mean</th>\n      <th>sd</th>\n    </tr>\n    <tr>\n      <th>resolution</th>\n      <th></th>\n      <th></th>\n      <th></th>\n      <th></th>\n      <th></th>\n    </tr>\n  </thead>\n  <tbody>\n    <tr>\n      <th>vms250</th>\n      <td>6.824393</td>\n      <td>3.772544</td>\n      <td>1.921161</td>\n      <td>6.832507</td>\n      <td>4.417917</td>\n    </tr>\n  </tbody>\n</table>\n</div>"
     },
     "metadata": {},
     "execution_count": 58
    }
   ],
   "source": [
    "path = \"C:/Users/Klant/Documents/GitHub/ADS-Snuffelfiets-Thesis/data/interim/vms_grid/hourly/250\" # use your path\n",
    "all_files = glob.glob(path + \"/*.csv\")\n",
    "\n",
    "li = []\n",
    "\n",
    "for filename in tqdm(all_files):\n",
    "    df = pd.read_csv(filename, index_col=None, header=0)\n",
    "    df[\"resolution\"] = filename.split(\"\\\\\")[1].split(\"_\")[1]\n",
    "    li.append(df)\n",
    "\n",
    "frame = pd.concat(li, axis=0, ignore_index=True)\n",
    "frame[[\"pm2_5\",\"count\", \"unique\", \"mean\", \"sd\", \"resolution\"]].groupby(\"resolution\").mean()"
   ]
  },
  {
   "cell_type": "code",
   "execution_count": 59,
   "metadata": {},
   "outputs": [
    {
     "output_type": "stream",
     "name": "stderr",
     "text": [
      "100%|██████████| 177/177 [00:00<00:00, 230.59it/s]\n"
     ]
    },
    {
     "output_type": "execute_result",
     "data": {
      "text/plain": [
       "               pm2_5     count    unique      mean        sd\n",
       "resolution                                                  \n",
       "vms500      6.787477  7.653003  2.607982  6.843627  4.913633"
      ],
      "text/html": "<div>\n<style scoped>\n    .dataframe tbody tr th:only-of-type {\n        vertical-align: middle;\n    }\n\n    .dataframe tbody tr th {\n        vertical-align: top;\n    }\n\n    .dataframe thead th {\n        text-align: right;\n    }\n</style>\n<table border=\"1\" class=\"dataframe\">\n  <thead>\n    <tr style=\"text-align: right;\">\n      <th></th>\n      <th>pm2_5</th>\n      <th>count</th>\n      <th>unique</th>\n      <th>mean</th>\n      <th>sd</th>\n    </tr>\n    <tr>\n      <th>resolution</th>\n      <th></th>\n      <th></th>\n      <th></th>\n      <th></th>\n      <th></th>\n    </tr>\n  </thead>\n  <tbody>\n    <tr>\n      <th>vms500</th>\n      <td>6.787477</td>\n      <td>7.653003</td>\n      <td>2.607982</td>\n      <td>6.843627</td>\n      <td>4.913633</td>\n    </tr>\n  </tbody>\n</table>\n</div>"
     },
     "metadata": {},
     "execution_count": 59
    }
   ],
   "source": [
    "path = \"C:/Users/Klant/Documents/GitHub/ADS-Snuffelfiets-Thesis/data/interim/vms_grid/hourly/500\" # use your path\n",
    "all_files = glob.glob(path + \"/*.csv\")\n",
    "\n",
    "li = []\n",
    "\n",
    "for filename in tqdm(all_files):\n",
    "    df = pd.read_csv(filename, index_col=None, header=0)\n",
    "    df[\"resolution\"] = filename.split(\"\\\\\")[1].split(\"_\")[1]\n",
    "    li.append(df)\n",
    "\n",
    "frame = pd.concat(li, axis=0, ignore_index=True)\n",
    "frame[[\"pm2_5\",\"count\", \"unique\", \"mean\", \"sd\", \"resolution\"]].groupby(\"resolution\").mean()"
   ]
  },
  {
   "cell_type": "code",
   "execution_count": 60,
   "metadata": {},
   "outputs": [
    {
     "output_type": "stream",
     "name": "stderr",
     "text": [
      "100%|██████████| 177/177 [00:00<00:00, 223.84it/s]\n"
     ]
    },
    {
     "output_type": "execute_result",
     "data": {
      "text/plain": [
       "               pm2_5      count    unique      mean        sd\n",
       "resolution                                                   \n",
       "vms1000     6.714118  16.556431  3.565162  6.702961  5.085293"
      ],
      "text/html": "<div>\n<style scoped>\n    .dataframe tbody tr th:only-of-type {\n        vertical-align: middle;\n    }\n\n    .dataframe tbody tr th {\n        vertical-align: top;\n    }\n\n    .dataframe thead th {\n        text-align: right;\n    }\n</style>\n<table border=\"1\" class=\"dataframe\">\n  <thead>\n    <tr style=\"text-align: right;\">\n      <th></th>\n      <th>pm2_5</th>\n      <th>count</th>\n      <th>unique</th>\n      <th>mean</th>\n      <th>sd</th>\n    </tr>\n    <tr>\n      <th>resolution</th>\n      <th></th>\n      <th></th>\n      <th></th>\n      <th></th>\n      <th></th>\n    </tr>\n  </thead>\n  <tbody>\n    <tr>\n      <th>vms1000</th>\n      <td>6.714118</td>\n      <td>16.556431</td>\n      <td>3.565162</td>\n      <td>6.702961</td>\n      <td>5.085293</td>\n    </tr>\n  </tbody>\n</table>\n</div>"
     },
     "metadata": {},
     "execution_count": 60
    }
   ],
   "source": [
    "path = \"C:/Users/Klant/Documents/GitHub/ADS-Snuffelfiets-Thesis/data/interim/vms_grid/hourly/1000\" # use your path\n",
    "all_files = glob.glob(path + \"/*.csv\")\n",
    "\n",
    "li = []\n",
    "\n",
    "for filename in tqdm(all_files):\n",
    "    df = pd.read_csv(filename, index_col=None, header=0)\n",
    "    df[\"resolution\"] = filename.split(\"\\\\\")[1].split(\"_\")[1]\n",
    "    li.append(df)\n",
    "\n",
    "frame = pd.concat(li, axis=0, ignore_index=True)\n",
    "frame[[\"pm2_5\",\"count\", \"unique\", \"mean\", \"sd\", \"resolution\"]].groupby(\"resolution\").mean()"
   ]
  },
  {
   "cell_type": "code",
   "execution_count": 61,
   "metadata": {},
   "outputs": [
    {
     "output_type": "stream",
     "name": "stderr",
     "text": [
      "100%|██████████| 177/177 [00:00<00:00, 216.49it/s]\n"
     ]
    },
    {
     "output_type": "execute_result",
     "data": {
      "text/plain": [
       "               pm2_5      count    unique      mean        sd\n",
       "resolution                                                   \n",
       "vms1500     6.691904  26.337737  4.240515  6.810997  5.167074"
      ],
      "text/html": "<div>\n<style scoped>\n    .dataframe tbody tr th:only-of-type {\n        vertical-align: middle;\n    }\n\n    .dataframe tbody tr th {\n        vertical-align: top;\n    }\n\n    .dataframe thead th {\n        text-align: right;\n    }\n</style>\n<table border=\"1\" class=\"dataframe\">\n  <thead>\n    <tr style=\"text-align: right;\">\n      <th></th>\n      <th>pm2_5</th>\n      <th>count</th>\n      <th>unique</th>\n      <th>mean</th>\n      <th>sd</th>\n    </tr>\n    <tr>\n      <th>resolution</th>\n      <th></th>\n      <th></th>\n      <th></th>\n      <th></th>\n      <th></th>\n    </tr>\n  </thead>\n  <tbody>\n    <tr>\n      <th>vms1500</th>\n      <td>6.691904</td>\n      <td>26.337737</td>\n      <td>4.240515</td>\n      <td>6.810997</td>\n      <td>5.167074</td>\n    </tr>\n  </tbody>\n</table>\n</div>"
     },
     "metadata": {},
     "execution_count": 61
    }
   ],
   "source": [
    "path = \"C:/Users/Klant/Documents/GitHub/ADS-Snuffelfiets-Thesis/data/interim/vms_grid/hourly/1500\" # use your path\n",
    "all_files = glob.glob(path + \"/*.csv\")\n",
    "\n",
    "li = []\n",
    "\n",
    "for filename in tqdm(all_files):\n",
    "    df = pd.read_csv(filename, index_col=None, header=0)\n",
    "    df[\"resolution\"] = filename.split(\"\\\\\")[1].split(\"_\")[1]\n",
    "    li.append(df)\n",
    "\n",
    "frame = pd.concat(li, axis=0, ignore_index=True)\n",
    "frame[[\"pm2_5\",\"count\", \"unique\", \"mean\", \"sd\", \"resolution\"]].groupby(\"resolution\").mean()"
   ]
  },
  {
   "cell_type": "code",
   "execution_count": null,
   "metadata": {},
   "outputs": [],
   "source": []
  }
 ]
}