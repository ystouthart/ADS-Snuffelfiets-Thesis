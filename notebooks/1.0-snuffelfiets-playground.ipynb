{
 "metadata": {
  "language_info": {
   "codemirror_mode": {
    "name": "ipython",
    "version": 3
   },
   "file_extension": ".py",
   "mimetype": "text/x-python",
   "name": "python",
   "nbconvert_exporter": "python",
   "pygments_lexer": "ipython3",
   "version": "3.8.8"
  },
  "orig_nbformat": 2,
  "kernelspec": {
   "name": "python388jvsc74a57bd06bfa853000390083a35d112b16e638a8e978943b5cf163568e56c68c8f4a453e",
   "display_name": "Python 3.8.8 64-bit ('thesis': conda)"
  }
 },
 "nbformat": 4,
 "nbformat_minor": 2,
 "cells": [
  {
   "cell_type": "code",
   "execution_count": 1,
   "metadata": {},
   "outputs": [],
   "source": [
    "# Import packages\n",
    "import pandas as pd \n",
    "import numpy as np \n",
    "import geopandas as gpd \n",
    "import matplotlib.pyplot as plt\n",
    "\n",
    "from tqdm import tqdm\n",
    "import requests\n",
    "from bs4 import BeautifulSoup\n",
    "import io\n",
    "import json"
   ]
  },
  {
   "cell_type": "code",
   "execution_count": 10,
   "metadata": {},
   "outputs": [],
   "source": [
    "df = pd.read_csv(\"../data/external/all_snuffelfiets_raw.csv\")"
   ]
  },
  {
   "cell_type": "code",
   "execution_count": 11,
   "metadata": {},
   "outputs": [
    {
     "output_type": "execute_result",
     "data": {
      "text/plain": [
       "                                  sensor  air_quality_observed_id       lon  \\\n",
       "0       cb8220c6f54804f2bcf623190b29e6d2                 30694417  5.260575   \n",
       "1       1ee241830b9c00d1e767b175817acd3e                 30694424  5.012298   \n",
       "2       5f43aac634776a41fe83ee005cd04839                 30694495  5.040284   \n",
       "3       fc38181e2cb2778d47b2519430755669                 30694464  5.005867   \n",
       "4       0073b711d7702ec73c84ab154468293d                 30694489  5.156363   \n",
       "...                                  ...                      ...       ...   \n",
       "511165  74678958154e0d1a078e5a6f50b73b73                 31925640  5.056912   \n",
       "511166  c432f4d9cac0cc68e786d054c1ec771f                 31925609  4.829355   \n",
       "511167  7d320c4527e25b06c3c2cfc68c917019                 31925576  5.237413   \n",
       "511168  74678958154e0d1a078e5a6f50b73b73                 31925642  5.057220   \n",
       "511169  c432f4d9cac0cc68e786d054c1ec771f                 31925610  4.830358   \n",
       "\n",
       "              lat       recording_time  trip_sequence  humidity  pm2_5  \\\n",
       "0       52.164562  2020-04-27 12:00:38              0        37     13   \n",
       "1       51.948456  2020-04-27 12:00:44              0        51     13   \n",
       "2       52.140881  2020-04-27 12:00:48              0        42     15   \n",
       "3       52.168140  2020-04-27 12:00:48              0        56     16   \n",
       "4       52.030231  2020-04-27 12:00:49              0        56     16   \n",
       "...           ...                  ...            ...       ...    ...   \n",
       "511165  52.022751  2020-05-18 11:59:07             16        55      7   \n",
       "511166  52.017056  2020-05-18 11:59:08             19        57      4   \n",
       "511167  52.023979  2020-05-18 11:59:16             39        50      8   \n",
       "511168  52.023201  2020-05-18 11:59:19             16        55      6   \n",
       "511169  52.017010  2020-05-18 11:59:19             19        57      4   \n",
       "\n",
       "        pressure  temperature                                     geometry  \\\n",
       "0           1008         21.6   POINT (146336.093114702 464052.2688131503)   \n",
       "1           1050         23.2  POINT (129225.0303589758 440067.4706495589)   \n",
       "2           1008         20.9   POINT (131251.288819419 461466.6183504097)   \n",
       "3           1018         17.7  POINT (128911.2117550118 464511.3444094701)   \n",
       "4           1059         25.1  POINT (139158.4286186836 449124.3256652508)   \n",
       "...          ...          ...                                          ...   \n",
       "511165      1042         21.5  POINT (132329.8481180518 448318.4055458872)   \n",
       "511166      1049         23.3  POINT (116706.2797367536 447780.2397429558)   \n",
       "511167      1054         24.2  POINT (144719.1213778763 448414.1443792214)   \n",
       "511168      1042         21.5  POINT (132351.1854591865 448368.3903050824)   \n",
       "511169      1049         23.4   POINT (116775.0765880727 447774.618728057)   \n",
       "\n",
       "            distance         delta_time   speed_ms  speed_kmh  index_right  \\\n",
       "0         127.041523    0 days 00:00:12  10.586794  38.112457            4   \n",
       "1       28917.275870  -7 days +20:41:56   0.388068   1.397045            4   \n",
       "2       24585.232633  -7 days +18:11:58   0.375244   1.350878            4   \n",
       "3       66997.665578  -2 days +19:01:47   0.977968   3.520685            4   \n",
       "4        1052.576956  -4 days +19:10:19   0.015251   0.054902            4   \n",
       "...              ...                ...        ...        ...          ...   \n",
       "511165     79.860061    0 days 00:00:12   6.655005  23.958018            4   \n",
       "511166    113.855659    0 days 00:00:11  10.350514  37.261852            4   \n",
       "511167     83.316691    0 days 00:00:11   7.574245  27.267281            4   \n",
       "511168     88.336558    0 days 00:00:12   7.361380  26.500968            4   \n",
       "511169    111.936576    0 days 00:00:11  10.176052  36.633788            4   \n",
       "\n",
       "        CBS_CODE PROV_NAAM  OBJECTID  \n",
       "0            6.0   Utrecht       5.0  \n",
       "1            6.0   Utrecht       5.0  \n",
       "2            6.0   Utrecht       5.0  \n",
       "3            6.0   Utrecht       5.0  \n",
       "4            6.0   Utrecht       5.0  \n",
       "...          ...       ...       ...  \n",
       "511165       6.0   Utrecht       5.0  \n",
       "511166       6.0   Utrecht       5.0  \n",
       "511167       6.0   Utrecht       5.0  \n",
       "511168       6.0   Utrecht       5.0  \n",
       "511169       6.0   Utrecht       5.0  \n",
       "\n",
       "[511170 rows x 19 columns]"
      ],
      "text/html": "<div>\n<style scoped>\n    .dataframe tbody tr th:only-of-type {\n        vertical-align: middle;\n    }\n\n    .dataframe tbody tr th {\n        vertical-align: top;\n    }\n\n    .dataframe thead th {\n        text-align: right;\n    }\n</style>\n<table border=\"1\" class=\"dataframe\">\n  <thead>\n    <tr style=\"text-align: right;\">\n      <th></th>\n      <th>sensor</th>\n      <th>air_quality_observed_id</th>\n      <th>lon</th>\n      <th>lat</th>\n      <th>recording_time</th>\n      <th>trip_sequence</th>\n      <th>humidity</th>\n      <th>pm2_5</th>\n      <th>pressure</th>\n      <th>temperature</th>\n      <th>geometry</th>\n      <th>distance</th>\n      <th>delta_time</th>\n      <th>speed_ms</th>\n      <th>speed_kmh</th>\n      <th>index_right</th>\n      <th>CBS_CODE</th>\n      <th>PROV_NAAM</th>\n      <th>OBJECTID</th>\n    </tr>\n  </thead>\n  <tbody>\n    <tr>\n      <th>0</th>\n      <td>cb8220c6f54804f2bcf623190b29e6d2</td>\n      <td>30694417</td>\n      <td>5.260575</td>\n      <td>52.164562</td>\n      <td>2020-04-27 12:00:38</td>\n      <td>0</td>\n      <td>37</td>\n      <td>13</td>\n      <td>1008</td>\n      <td>21.6</td>\n      <td>POINT (146336.093114702 464052.2688131503)</td>\n      <td>127.041523</td>\n      <td>0 days 00:00:12</td>\n      <td>10.586794</td>\n      <td>38.112457</td>\n      <td>4</td>\n      <td>6.0</td>\n      <td>Utrecht</td>\n      <td>5.0</td>\n    </tr>\n    <tr>\n      <th>1</th>\n      <td>1ee241830b9c00d1e767b175817acd3e</td>\n      <td>30694424</td>\n      <td>5.012298</td>\n      <td>51.948456</td>\n      <td>2020-04-27 12:00:44</td>\n      <td>0</td>\n      <td>51</td>\n      <td>13</td>\n      <td>1050</td>\n      <td>23.2</td>\n      <td>POINT (129225.0303589758 440067.4706495589)</td>\n      <td>28917.275870</td>\n      <td>-7 days +20:41:56</td>\n      <td>0.388068</td>\n      <td>1.397045</td>\n      <td>4</td>\n      <td>6.0</td>\n      <td>Utrecht</td>\n      <td>5.0</td>\n    </tr>\n    <tr>\n      <th>2</th>\n      <td>5f43aac634776a41fe83ee005cd04839</td>\n      <td>30694495</td>\n      <td>5.040284</td>\n      <td>52.140881</td>\n      <td>2020-04-27 12:00:48</td>\n      <td>0</td>\n      <td>42</td>\n      <td>15</td>\n      <td>1008</td>\n      <td>20.9</td>\n      <td>POINT (131251.288819419 461466.6183504097)</td>\n      <td>24585.232633</td>\n      <td>-7 days +18:11:58</td>\n      <td>0.375244</td>\n      <td>1.350878</td>\n      <td>4</td>\n      <td>6.0</td>\n      <td>Utrecht</td>\n      <td>5.0</td>\n    </tr>\n    <tr>\n      <th>3</th>\n      <td>fc38181e2cb2778d47b2519430755669</td>\n      <td>30694464</td>\n      <td>5.005867</td>\n      <td>52.168140</td>\n      <td>2020-04-27 12:00:48</td>\n      <td>0</td>\n      <td>56</td>\n      <td>16</td>\n      <td>1018</td>\n      <td>17.7</td>\n      <td>POINT (128911.2117550118 464511.3444094701)</td>\n      <td>66997.665578</td>\n      <td>-2 days +19:01:47</td>\n      <td>0.977968</td>\n      <td>3.520685</td>\n      <td>4</td>\n      <td>6.0</td>\n      <td>Utrecht</td>\n      <td>5.0</td>\n    </tr>\n    <tr>\n      <th>4</th>\n      <td>0073b711d7702ec73c84ab154468293d</td>\n      <td>30694489</td>\n      <td>5.156363</td>\n      <td>52.030231</td>\n      <td>2020-04-27 12:00:49</td>\n      <td>0</td>\n      <td>56</td>\n      <td>16</td>\n      <td>1059</td>\n      <td>25.1</td>\n      <td>POINT (139158.4286186836 449124.3256652508)</td>\n      <td>1052.576956</td>\n      <td>-4 days +19:10:19</td>\n      <td>0.015251</td>\n      <td>0.054902</td>\n      <td>4</td>\n      <td>6.0</td>\n      <td>Utrecht</td>\n      <td>5.0</td>\n    </tr>\n    <tr>\n      <th>...</th>\n      <td>...</td>\n      <td>...</td>\n      <td>...</td>\n      <td>...</td>\n      <td>...</td>\n      <td>...</td>\n      <td>...</td>\n      <td>...</td>\n      <td>...</td>\n      <td>...</td>\n      <td>...</td>\n      <td>...</td>\n      <td>...</td>\n      <td>...</td>\n      <td>...</td>\n      <td>...</td>\n      <td>...</td>\n      <td>...</td>\n      <td>...</td>\n    </tr>\n    <tr>\n      <th>511165</th>\n      <td>74678958154e0d1a078e5a6f50b73b73</td>\n      <td>31925640</td>\n      <td>5.056912</td>\n      <td>52.022751</td>\n      <td>2020-05-18 11:59:07</td>\n      <td>16</td>\n      <td>55</td>\n      <td>7</td>\n      <td>1042</td>\n      <td>21.5</td>\n      <td>POINT (132329.8481180518 448318.4055458872)</td>\n      <td>79.860061</td>\n      <td>0 days 00:00:12</td>\n      <td>6.655005</td>\n      <td>23.958018</td>\n      <td>4</td>\n      <td>6.0</td>\n      <td>Utrecht</td>\n      <td>5.0</td>\n    </tr>\n    <tr>\n      <th>511166</th>\n      <td>c432f4d9cac0cc68e786d054c1ec771f</td>\n      <td>31925609</td>\n      <td>4.829355</td>\n      <td>52.017056</td>\n      <td>2020-05-18 11:59:08</td>\n      <td>19</td>\n      <td>57</td>\n      <td>4</td>\n      <td>1049</td>\n      <td>23.3</td>\n      <td>POINT (116706.2797367536 447780.2397429558)</td>\n      <td>113.855659</td>\n      <td>0 days 00:00:11</td>\n      <td>10.350514</td>\n      <td>37.261852</td>\n      <td>4</td>\n      <td>6.0</td>\n      <td>Utrecht</td>\n      <td>5.0</td>\n    </tr>\n    <tr>\n      <th>511167</th>\n      <td>7d320c4527e25b06c3c2cfc68c917019</td>\n      <td>31925576</td>\n      <td>5.237413</td>\n      <td>52.023979</td>\n      <td>2020-05-18 11:59:16</td>\n      <td>39</td>\n      <td>50</td>\n      <td>8</td>\n      <td>1054</td>\n      <td>24.2</td>\n      <td>POINT (144719.1213778763 448414.1443792214)</td>\n      <td>83.316691</td>\n      <td>0 days 00:00:11</td>\n      <td>7.574245</td>\n      <td>27.267281</td>\n      <td>4</td>\n      <td>6.0</td>\n      <td>Utrecht</td>\n      <td>5.0</td>\n    </tr>\n    <tr>\n      <th>511168</th>\n      <td>74678958154e0d1a078e5a6f50b73b73</td>\n      <td>31925642</td>\n      <td>5.057220</td>\n      <td>52.023201</td>\n      <td>2020-05-18 11:59:19</td>\n      <td>16</td>\n      <td>55</td>\n      <td>6</td>\n      <td>1042</td>\n      <td>21.5</td>\n      <td>POINT (132351.1854591865 448368.3903050824)</td>\n      <td>88.336558</td>\n      <td>0 days 00:00:12</td>\n      <td>7.361380</td>\n      <td>26.500968</td>\n      <td>4</td>\n      <td>6.0</td>\n      <td>Utrecht</td>\n      <td>5.0</td>\n    </tr>\n    <tr>\n      <th>511169</th>\n      <td>c432f4d9cac0cc68e786d054c1ec771f</td>\n      <td>31925610</td>\n      <td>4.830358</td>\n      <td>52.017010</td>\n      <td>2020-05-18 11:59:19</td>\n      <td>19</td>\n      <td>57</td>\n      <td>4</td>\n      <td>1049</td>\n      <td>23.4</td>\n      <td>POINT (116775.0765880727 447774.618728057)</td>\n      <td>111.936576</td>\n      <td>0 days 00:00:11</td>\n      <td>10.176052</td>\n      <td>36.633788</td>\n      <td>4</td>\n      <td>6.0</td>\n      <td>Utrecht</td>\n      <td>5.0</td>\n    </tr>\n  </tbody>\n</table>\n<p>511170 rows × 19 columns</p>\n</div>"
     },
     "metadata": {},
     "execution_count": 11
    }
   ],
   "source": [
    "df"
   ]
  },
  {
   "cell_type": "code",
   "execution_count": 8,
   "metadata": {},
   "outputs": [],
   "source": [
    "url = 'https://ckan.dataplatform.nl/api/3/action/package_show?id=9cc4de28-6d03-4b59-8c66-085b3e8b3956&include_tracking=true'\n",
    "r = requests.get(url)\n",
    "data = r.json()\n",
    "\n",
    "csv_urls = [x['url'] for x in data['result']['resources']]\n",
    "test_csv_urls = csv_urls[:10]\n"
   ]
  },
  {
   "cell_type": "code",
   "execution_count": 19,
   "metadata": {},
   "outputs": [
    {
     "output_type": "execute_result",
     "data": {
      "text/plain": [
       "'resource_2020_05_11_2020_05_18.csv'"
      ]
     },
     "metadata": {},
     "execution_count": 19
    }
   ],
   "source": [
    "test_csv_urls[0].split('/')[-1]"
   ]
  },
  {
   "cell_type": "code",
   "execution_count": 31,
   "metadata": {},
   "outputs": [
    {
     "output_type": "stream",
     "name": "stderr",
     "text": [
      "100%|██████████| 3/3 [00:36<00:00, 12.24s/it]\n"
     ]
    }
   ],
   "source": [
    "# Open Utrecht Province polygon.\n",
    "provinces = gpd.read_file(\"../data/external/B1_Provinciegrenzen_van_Nederland/B1_Provinciegrenzen_van_NederlandPolygon.shp\")\n",
    "utrecht = provinces[provinces[\"PROV_NAAM\"] == \"Utrecht\"]\n",
    "\n",
    "for csv in tqdm(test_csv_urls): \n",
    "    response = requests.get(csv)\n",
    "    file_object = io.StringIO(response.content.decode('utf-8'))\n",
    "    df = pd.read_csv(file_object, usecols=['sensor', 'air_quality_observed_id', 'lon', 'lat', 'recording_time', 'trip_sequence', 'humidity', 'pm2_5', 'pressure', 'temperature'])\n",
    "    df['recording_time'] = pd.to_datetime(df['recording_time'], format=\"%Y-%m-%d %H:%M:%S\")\n",
    "\n",
    "    # Remove all measurements with pm2.5 <0.5 and >150 ug/m3.\n",
    "    df = df[~((df[\"pm2_5\"]<0.5)&(df[\"pm2_5\"]>150))]\n",
    "\n",
    "    # Remove all measurements with avg. speed >45 km/h\n",
    "    geo_df = gpd.GeoDataFrame(df, geometry=gpd.points_from_xy(df['lon'],df['lat'], crs=\"EPSG:4326\"))\n",
    "    geo_df = geo_df.sort_values(by=['sensor', 'recording_time'])\n",
    "    geo_df = geo_df.to_crs(\"EPSG:3857\") # from WGS84 Geographic to WGS84 Projected\n",
    "\n",
    "    geo_df['distance'] = geo_df.distance(geo_df.shift(1)) # distance between two consecutive measurements\n",
    "    geo_df['delta_time'] = geo_df['recording_time'] - geo_df['recording_time'].shift(1) # time_delta between two consecutive measurements\n",
    "    geo_df['delta_time'] = geo_df['delta_time'].dt.seconds # convert to seconds\n",
    "    geo_df['avg_speed_ms'] = geo_df['distance'] / geo_df['delta_time'] # avg(v)=x/t\n",
    "    #geo_df['speed_kmh'] = round((geo_df['speed_ms'] * 3.6), 3)\n",
    "\n",
    "    geo_df = geo_df[~(geo_df['avg_speed_ms']>12.5)]\n",
    "    #geo_df = geo_df[~(geo_df['speed_kmh']>45)]\n",
    "\n",
    "    # Remove all measurements outside of Utrecht Province.\n",
    "    geo_df = geo_df.to_crs(\"EPSG:28992\")\n",
    "    geo_df = gpd.sjoin(geo_df, utrecht, how=\"inner\", op='within')\n",
    "\n",
    "    # Save as .csv-file\n",
    "    geo_df.drop(labels=[\"geometry\", \"index_right\", \"CBS_CODE\", \"PROV_NAAM\", \"OBJECTID\"], inplace=True, axis=1)\n",
    "    geo_df.reset_index(drop=True, inplace=True)\n",
    "    filename = \"../data/external/\" + csv.split('/')[-1]\n",
    "    geo_df.to_csv(filename, index=False)\n"
   ]
  },
  {
   "cell_type": "code",
   "execution_count": 17,
   "metadata": {},
   "outputs": [
    {
     "output_type": "execute_result",
     "data": {
      "text/plain": [
       "'../data/external/resource_2020_04_27_2020_05_04.csv'"
      ]
     },
     "metadata": {},
     "execution_count": 17
    }
   ],
   "source": [
    "\"../data/external/\" + csv.split('/')[-1]"
   ]
  },
  {
   "cell_type": "code",
   "execution_count": null,
   "metadata": {},
   "outputs": [],
   "source": []
  }
 ]
}