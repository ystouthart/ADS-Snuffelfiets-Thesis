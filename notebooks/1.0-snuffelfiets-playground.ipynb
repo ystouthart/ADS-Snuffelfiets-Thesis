{
 "metadata": {
  "language_info": {
   "codemirror_mode": {
    "name": "ipython",
    "version": 3
   },
   "file_extension": ".py",
   "mimetype": "text/x-python",
   "name": "python",
   "nbconvert_exporter": "python",
   "pygments_lexer": "ipython3",
   "version": "3.8.8"
  },
  "orig_nbformat": 2,
  "kernelspec": {
   "name": "python388jvsc74a57bd06bfa853000390083a35d112b16e638a8e978943b5cf163568e56c68c8f4a453e",
   "display_name": "Python 3.8.8 64-bit ('thesis': conda)"
  }
 },
 "nbformat": 4,
 "nbformat_minor": 2,
 "cells": [
  {
   "cell_type": "code",
   "execution_count": null,
   "metadata": {},
   "outputs": [],
   "source": [
    "# Import packages\n",
    "import pandas as pd \n",
    "import numpy as np \n",
    "import geopandas as gpd \n",
    "import matplotlib.pyplot as plt\n",
    "\n",
    "from tqdm import tqdm\n",
    "import requests\n",
    "from bs4 import BeautifulSoup\n",
    "import io\n",
    "import json"
   ]
  },
  {
   "cell_type": "code",
   "execution_count": null,
   "metadata": {},
   "outputs": [],
   "source": [
    "df = pd.read_csv(\"../data/external/all_snuffelfiets_raw.csv\")"
   ]
  },
  {
   "cell_type": "code",
   "execution_count": null,
   "metadata": {},
   "outputs": [],
   "source": [
    "df"
   ]
  },
  {
   "cell_type": "code",
   "execution_count": null,
   "metadata": {},
   "outputs": [],
   "source": [
    "url = 'https://ckan.dataplatform.nl/api/3/action/package_show?id=9cc4de28-6d03-4b59-8c66-085b3e8b3956&include_tracking=true'\n",
    "r = requests.get(url)\n",
    "data = r.json()\n",
    "\n",
    "csv_urls = [x['url'] for x in data['result']['resources']]\n",
    "test_csv_urls = csv_urls[:10]\n"
   ]
  },
  {
   "cell_type": "code",
   "execution_count": null,
   "metadata": {},
   "outputs": [],
   "source": [
    "test_csv_urls[0].split('/')[-1]"
   ]
  },
  {
   "cell_type": "code",
   "execution_count": null,
   "metadata": {},
   "outputs": [],
   "source": [
    "# Open Utrecht Province polygon.\n",
    "provinces = gpd.read_file(\"../data/external/B1_Provinciegrenzen_van_Nederland/B1_Provinciegrenzen_van_NederlandPolygon.shp\")\n",
    "utrecht = provinces[provinces[\"PROV_NAAM\"] == \"Utrecht\"]\n",
    "\n",
    "for csv in tqdm(test_csv_urls): \n",
    "    response = requests.get(csv)\n",
    "    file_object = io.StringIO(response.content.decode('utf-8'))\n",
    "    df = pd.read_csv(file_object, usecols=['sensor', 'air_quality_observed_id', 'lon', 'lat', 'recording_time', 'trip_sequence', 'humidity', 'pm2_5', 'pressure', 'temperature'])\n",
    "    df['recording_time'] = pd.to_datetime(df['recording_time'], format=\"%Y-%m-%d %H:%M:%S\")\n",
    "\n",
    "    # Remove all measurements with pm2.5 <0.5 and >150 ug/m3.\n",
    "    df = df[~((df[\"pm2_5\"]<0.5)&(df[\"pm2_5\"]>150))]\n",
    "\n",
    "    # Remove all measurements with avg. speed >45 km/h\n",
    "    geo_df = gpd.GeoDataFrame(df, geometry=gpd.points_from_xy(df['lon'],df['lat'], crs=\"EPSG:4326\"))\n",
    "    geo_df = geo_df.sort_values(by=['sensor', 'recording_time'])\n",
    "    geo_df = geo_df.to_crs(\"EPSG:3857\") # from WGS84 Geographic to WGS84 Projected\n",
    "\n",
    "    geo_df['distance'] = geo_df.distance(geo_df.shift(1)) # distance between two consecutive measurements\n",
    "    geo_df['delta_time'] = geo_df['recording_time'] - geo_df['recording_time'].shift(1) # time_delta between two consecutive measurements\n",
    "    geo_df['delta_time'] = geo_df['delta_time'].dt.seconds # convert to seconds\n",
    "    geo_df['avg_speed_ms'] = geo_df['distance'] / geo_df['delta_time'] # avg(v)=x/t\n",
    "    #geo_df['speed_kmh'] = round((geo_df['speed_ms'] * 3.6), 3)\n",
    "\n",
    "    geo_df = geo_df[~(geo_df['avg_speed_ms']>12.5)]\n",
    "    #geo_df = geo_df[~(geo_df['speed_kmh']>45)]\n",
    "\n",
    "    # Remove all measurements outside of Utrecht Province.\n",
    "    geo_df = geo_df.to_crs(\"EPSG:28992\")\n",
    "    geo_df = gpd.sjoin(geo_df, utrecht, how=\"inner\", op='within')\n",
    "\n",
    "    # Save as .csv-file\n",
    "    geo_df.drop(labels=[\"geometry\", \"index_right\", \"CBS_CODE\", \"PROV_NAAM\", \"OBJECTID\"], inplace=True, axis=1)\n",
    "    geo_df.reset_index(drop=True, inplace=True)\n",
    "    filename = \"../data/external/\" + csv.split('/')[-1]\n",
    "    geo_df.to_csv(filename, index=False)\n"
   ]
  },
  {
   "cell_type": "code",
   "execution_count": null,
   "metadata": {},
   "outputs": [],
   "source": [
    "\"../data/external/\" + csv.split('/')[-1]"
   ]
  },
  {
   "source": [
    "## Spatial-temporal kriging"
   ],
   "cell_type": "markdown",
   "metadata": {}
  },
  {
   "cell_type": "code",
   "execution_count": null,
   "metadata": {},
   "outputs": [],
   "source": []
  }
 ]
}