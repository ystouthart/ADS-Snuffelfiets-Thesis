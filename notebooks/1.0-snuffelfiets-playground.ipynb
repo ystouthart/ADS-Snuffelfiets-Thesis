{
 "metadata": {
  "language_info": {
   "codemirror_mode": {
    "name": "ipython",
    "version": 3
   },
   "file_extension": ".py",
   "mimetype": "text/x-python",
   "name": "python",
   "nbconvert_exporter": "python",
   "pygments_lexer": "ipython3",
   "version": "3.8.8"
  },
  "orig_nbformat": 2,
  "kernelspec": {
   "name": "python388jvsc74a57bd06bfa853000390083a35d112b16e638a8e978943b5cf163568e56c68c8f4a453e",
   "display_name": "Python 3.8.8 64-bit ('thesis': conda)"
  }
 },
 "nbformat": 4,
 "nbformat_minor": 2,
 "cells": [
  {
   "cell_type": "code",
   "execution_count": 1,
   "metadata": {},
   "outputs": [],
   "source": [
    "# Import packages\n",
    "import pandas as pd \n",
    "import numpy as np \n",
    "import geopandas as gpd \n",
    "import matplotlib.pyplot as plt\n",
    "\n",
    "from tqdm import tqdm\n",
    "import requests\n",
    "from bs4 import BeautifulSoup\n",
    "import io\n",
    "import json\n",
    "\n",
    "import plotly.express as px\n",
    "from collections import Counter\n",
    "import glob\n"
   ]
  },
  {
   "source": [
    "## Open All CSV's - only do this if you have ~1.5 Gb RAM available, else your PC will close some apps without saving."
   ],
   "cell_type": "markdown",
   "metadata": {}
  },
  {
   "cell_type": "code",
   "execution_count": 13,
   "metadata": {},
   "outputs": [
    {
     "output_type": "stream",
     "name": "stderr",
     "text": [
      "100%|██████████| 101/101 [00:00<00:00, 144.46it/s]\n"
     ]
    }
   ],
   "source": [
    "\n",
    "path = \"../data/external/province/new\" # use your path\n",
    "all_files = glob.glob(path + \"/*.csv\")\n",
    "\n",
    "li = []\n",
    "\n",
    "for filename in tqdm(all_files):\n",
    "    df = pd.read_csv(filename, index_col=None, header=0)\n",
    "    li.append(df)\n",
    "\n",
    "frame = pd.concat(li, axis=0, ignore_index=True)"
   ]
  },
  {
   "cell_type": "code",
   "execution_count": 14,
   "metadata": {},
   "outputs": [],
   "source": [
    "# Changing variables to the correct dType\n",
    "\n",
    "frame[\"humidity\"] = pd.to_numeric(frame[\"humidity\"])\n",
    "frame[\"pm2_5\"] = pd.to_numeric(frame[\"pm2_5\"])\n",
    "frame[\"pressure\"] = pd.to_numeric(frame[\"pressure\"])\n",
    "frame[\"trip_sequence\"] = pd.to_numeric(frame[\"trip_sequence\"])\n",
    "frame['recording_time'] = pd.to_datetime(frame['recording_time'], format=\"%Y-%m-%d %H:%M:%S\")\n",
    "frame[\"date\"] = frame['recording_time'].dt.date\n",
    "frame[\"year\"] = frame['recording_time'].dt.year\n",
    "frame[\"month\"] = frame['recording_time'].dt.month\n"
   ]
  },
  {
   "cell_type": "code",
   "execution_count": 15,
   "metadata": {},
   "outputs": [
    {
     "output_type": "execute_result",
     "data": {
      "text/plain": [
       "                lon           lat  trip_sequence      humidity         pm2_5  \\\n",
       "count  19043.000000  19043.000000   19043.000000  19043.000000  19043.000000   \n",
       "mean       5.112887     52.088768      24.817466     55.233314      7.296644   \n",
       "std        0.178315      0.082545      30.615449     18.782282      7.708994   \n",
       "min        4.863109     51.859978       0.000000     16.000000      1.000000   \n",
       "25%        4.987329     52.020802       4.000000     39.000000      2.000000   \n",
       "50%        5.057683     52.083187      10.000000     56.000000      5.000000   \n",
       "75%        5.207186     52.201355      32.000000     71.000000      9.000000   \n",
       "max        5.584312     52.277798     156.000000     99.000000    146.000000   \n",
       "\n",
       "           pressure   temperature       distance    delta_time  avg_speed_ms  \\\n",
       "count  19043.000000  19043.000000   19009.000000  19009.000000  19004.000000   \n",
       "mean    1016.632043     25.841417    1723.212410    355.185912      4.351279   \n",
       "std       15.428247    164.138501   27969.604731   4101.317880      2.600528   \n",
       "min      957.000000      0.700000       0.000000      0.000000      1.400612   \n",
       "25%     1006.000000     14.900000       4.481281      1.000000      2.227931   \n",
       "50%     1014.000000     21.500000       8.578482      2.000000      3.567520   \n",
       "75%     1026.000000     28.300000      15.878805      4.000000      5.845668   \n",
       "max     1080.000000   6553.300000  903063.666360  86386.000000     12.499906   \n",
       "\n",
       "               year         month  \n",
       "count  19043.000000  19043.000000  \n",
       "mean    2020.142099      7.416636  \n",
       "std        0.349161      3.189433  \n",
       "min     2020.000000      1.000000  \n",
       "25%     2020.000000      6.000000  \n",
       "50%     2020.000000      6.000000  \n",
       "75%     2020.000000     11.000000  \n",
       "max     2021.000000     12.000000  "
      ],
      "text/html": "<div>\n<style scoped>\n    .dataframe tbody tr th:only-of-type {\n        vertical-align: middle;\n    }\n\n    .dataframe tbody tr th {\n        vertical-align: top;\n    }\n\n    .dataframe thead th {\n        text-align: right;\n    }\n</style>\n<table border=\"1\" class=\"dataframe\">\n  <thead>\n    <tr style=\"text-align: right;\">\n      <th></th>\n      <th>lon</th>\n      <th>lat</th>\n      <th>trip_sequence</th>\n      <th>humidity</th>\n      <th>pm2_5</th>\n      <th>pressure</th>\n      <th>temperature</th>\n      <th>distance</th>\n      <th>delta_time</th>\n      <th>avg_speed_ms</th>\n      <th>year</th>\n      <th>month</th>\n    </tr>\n  </thead>\n  <tbody>\n    <tr>\n      <th>count</th>\n      <td>19043.000000</td>\n      <td>19043.000000</td>\n      <td>19043.000000</td>\n      <td>19043.000000</td>\n      <td>19043.000000</td>\n      <td>19043.000000</td>\n      <td>19043.000000</td>\n      <td>19009.000000</td>\n      <td>19009.000000</td>\n      <td>19004.000000</td>\n      <td>19043.000000</td>\n      <td>19043.000000</td>\n    </tr>\n    <tr>\n      <th>mean</th>\n      <td>5.112887</td>\n      <td>52.088768</td>\n      <td>24.817466</td>\n      <td>55.233314</td>\n      <td>7.296644</td>\n      <td>1016.632043</td>\n      <td>25.841417</td>\n      <td>1723.212410</td>\n      <td>355.185912</td>\n      <td>4.351279</td>\n      <td>2020.142099</td>\n      <td>7.416636</td>\n    </tr>\n    <tr>\n      <th>std</th>\n      <td>0.178315</td>\n      <td>0.082545</td>\n      <td>30.615449</td>\n      <td>18.782282</td>\n      <td>7.708994</td>\n      <td>15.428247</td>\n      <td>164.138501</td>\n      <td>27969.604731</td>\n      <td>4101.317880</td>\n      <td>2.600528</td>\n      <td>0.349161</td>\n      <td>3.189433</td>\n    </tr>\n    <tr>\n      <th>min</th>\n      <td>4.863109</td>\n      <td>51.859978</td>\n      <td>0.000000</td>\n      <td>16.000000</td>\n      <td>1.000000</td>\n      <td>957.000000</td>\n      <td>0.700000</td>\n      <td>0.000000</td>\n      <td>0.000000</td>\n      <td>1.400612</td>\n      <td>2020.000000</td>\n      <td>1.000000</td>\n    </tr>\n    <tr>\n      <th>25%</th>\n      <td>4.987329</td>\n      <td>52.020802</td>\n      <td>4.000000</td>\n      <td>39.000000</td>\n      <td>2.000000</td>\n      <td>1006.000000</td>\n      <td>14.900000</td>\n      <td>4.481281</td>\n      <td>1.000000</td>\n      <td>2.227931</td>\n      <td>2020.000000</td>\n      <td>6.000000</td>\n    </tr>\n    <tr>\n      <th>50%</th>\n      <td>5.057683</td>\n      <td>52.083187</td>\n      <td>10.000000</td>\n      <td>56.000000</td>\n      <td>5.000000</td>\n      <td>1014.000000</td>\n      <td>21.500000</td>\n      <td>8.578482</td>\n      <td>2.000000</td>\n      <td>3.567520</td>\n      <td>2020.000000</td>\n      <td>6.000000</td>\n    </tr>\n    <tr>\n      <th>75%</th>\n      <td>5.207186</td>\n      <td>52.201355</td>\n      <td>32.000000</td>\n      <td>71.000000</td>\n      <td>9.000000</td>\n      <td>1026.000000</td>\n      <td>28.300000</td>\n      <td>15.878805</td>\n      <td>4.000000</td>\n      <td>5.845668</td>\n      <td>2020.000000</td>\n      <td>11.000000</td>\n    </tr>\n    <tr>\n      <th>max</th>\n      <td>5.584312</td>\n      <td>52.277798</td>\n      <td>156.000000</td>\n      <td>99.000000</td>\n      <td>146.000000</td>\n      <td>1080.000000</td>\n      <td>6553.300000</td>\n      <td>903063.666360</td>\n      <td>86386.000000</td>\n      <td>12.499906</td>\n      <td>2021.000000</td>\n      <td>12.000000</td>\n    </tr>\n  </tbody>\n</table>\n</div>"
     },
     "metadata": {},
     "execution_count": 15
    }
   ],
   "source": [
    "# Descriptive statistics, takes about 1-2 min.\n",
    "frame.describe()"
   ]
  },
  {
   "cell_type": "code",
   "execution_count": null,
   "metadata": {},
   "outputs": [],
   "source": [
    "frame.info()"
   ]
  },
  {
   "cell_type": "code",
   "execution_count": 26,
   "metadata": {},
   "outputs": [],
   "source": [
    "frame.groupby([\"year\",\"month\"]).count()\n"
   ]
  },
  {
   "cell_type": "code",
   "execution_count": 27,
   "metadata": {},
   "outputs": [
    {
     "output_type": "execute_result",
     "data": {
      "text/plain": [
       "       sensor  air_quality_observed_id     lon     lat  recording_time  \\\n",
       "month                                                                    \n",
       "1      951977                   951977  951977  951977          951977   \n",
       "2      666956                   666956  666956  666956          666956   \n",
       "3      748107                   748107  748107  748107          748107   \n",
       "4      689330                   689330  689330  689330          689330   \n",
       "5      786708                   786708  786708  786708          786708   \n",
       "6      634677                   634677  634677  634677          634677   \n",
       "7      642243                   642243  642243  642243          642243   \n",
       "8      606401                   606401  606401  606401          606401   \n",
       "9      636637                   636637  636637  636637          636637   \n",
       "10     545912                   545912  545912  545912          545912   \n",
       "11     589171                   589171  589171  589171          589171   \n",
       "12     906426                   906426  906426  906426          906426   \n",
       "\n",
       "       trip_sequence  humidity   pm2_5  pressure  temperature  distance  \\\n",
       "month                                                                     \n",
       "1             951977    951977  951977    951977       951977    951972   \n",
       "2             666956    666956  666956    666956       666956    666952   \n",
       "3             748107    748107  748107    748107       748107    748103   \n",
       "4             689330    689330  689330    689330       689330    689325   \n",
       "5             786708    786708  786708    786708       786708    786704   \n",
       "6             634677    634677  634677    634677       634677    634673   \n",
       "7             642243    642243  642243    642243       642243    642238   \n",
       "8             606401    606401  606401    606401       606401    606396   \n",
       "9             636637    636637  636637    636637       636637    636633   \n",
       "10            545912    545912  545912    545912       545912    545908   \n",
       "11            589171    589171  589171    589171       589171    589168   \n",
       "12            906426    906426  906426    906426       906426    906422   \n",
       "\n",
       "       delta_time  avg_speed_ms    date  \n",
       "month                                    \n",
       "1          951972        951972  951977  \n",
       "2          666952        666952  666956  \n",
       "3          748103        748103  748107  \n",
       "4          689325        689325  689330  \n",
       "5          786704        786704  786708  \n",
       "6          634673        634673  634677  \n",
       "7          642238        642238  642243  \n",
       "8          606396        606396  606401  \n",
       "9          636633        636633  636637  \n",
       "10         545908        545908  545912  \n",
       "11         589168        589168  589171  \n",
       "12         906422        906422  906426  "
      ],
      "text/html": "<div>\n<style scoped>\n    .dataframe tbody tr th:only-of-type {\n        vertical-align: middle;\n    }\n\n    .dataframe tbody tr th {\n        vertical-align: top;\n    }\n\n    .dataframe thead th {\n        text-align: right;\n    }\n</style>\n<table border=\"1\" class=\"dataframe\">\n  <thead>\n    <tr style=\"text-align: right;\">\n      <th></th>\n      <th>sensor</th>\n      <th>air_quality_observed_id</th>\n      <th>lon</th>\n      <th>lat</th>\n      <th>recording_time</th>\n      <th>trip_sequence</th>\n      <th>humidity</th>\n      <th>pm2_5</th>\n      <th>pressure</th>\n      <th>temperature</th>\n      <th>distance</th>\n      <th>delta_time</th>\n      <th>avg_speed_ms</th>\n      <th>date</th>\n    </tr>\n    <tr>\n      <th>month</th>\n      <th></th>\n      <th></th>\n      <th></th>\n      <th></th>\n      <th></th>\n      <th></th>\n      <th></th>\n      <th></th>\n      <th></th>\n      <th></th>\n      <th></th>\n      <th></th>\n      <th></th>\n      <th></th>\n    </tr>\n  </thead>\n  <tbody>\n    <tr>\n      <th>1</th>\n      <td>951977</td>\n      <td>951977</td>\n      <td>951977</td>\n      <td>951977</td>\n      <td>951977</td>\n      <td>951977</td>\n      <td>951977</td>\n      <td>951977</td>\n      <td>951977</td>\n      <td>951977</td>\n      <td>951972</td>\n      <td>951972</td>\n      <td>951972</td>\n      <td>951977</td>\n    </tr>\n    <tr>\n      <th>2</th>\n      <td>666956</td>\n      <td>666956</td>\n      <td>666956</td>\n      <td>666956</td>\n      <td>666956</td>\n      <td>666956</td>\n      <td>666956</td>\n      <td>666956</td>\n      <td>666956</td>\n      <td>666956</td>\n      <td>666952</td>\n      <td>666952</td>\n      <td>666952</td>\n      <td>666956</td>\n    </tr>\n    <tr>\n      <th>3</th>\n      <td>748107</td>\n      <td>748107</td>\n      <td>748107</td>\n      <td>748107</td>\n      <td>748107</td>\n      <td>748107</td>\n      <td>748107</td>\n      <td>748107</td>\n      <td>748107</td>\n      <td>748107</td>\n      <td>748103</td>\n      <td>748103</td>\n      <td>748103</td>\n      <td>748107</td>\n    </tr>\n    <tr>\n      <th>4</th>\n      <td>689330</td>\n      <td>689330</td>\n      <td>689330</td>\n      <td>689330</td>\n      <td>689330</td>\n      <td>689330</td>\n      <td>689330</td>\n      <td>689330</td>\n      <td>689330</td>\n      <td>689330</td>\n      <td>689325</td>\n      <td>689325</td>\n      <td>689325</td>\n      <td>689330</td>\n    </tr>\n    <tr>\n      <th>5</th>\n      <td>786708</td>\n      <td>786708</td>\n      <td>786708</td>\n      <td>786708</td>\n      <td>786708</td>\n      <td>786708</td>\n      <td>786708</td>\n      <td>786708</td>\n      <td>786708</td>\n      <td>786708</td>\n      <td>786704</td>\n      <td>786704</td>\n      <td>786704</td>\n      <td>786708</td>\n    </tr>\n    <tr>\n      <th>6</th>\n      <td>634677</td>\n      <td>634677</td>\n      <td>634677</td>\n      <td>634677</td>\n      <td>634677</td>\n      <td>634677</td>\n      <td>634677</td>\n      <td>634677</td>\n      <td>634677</td>\n      <td>634677</td>\n      <td>634673</td>\n      <td>634673</td>\n      <td>634673</td>\n      <td>634677</td>\n    </tr>\n    <tr>\n      <th>7</th>\n      <td>642243</td>\n      <td>642243</td>\n      <td>642243</td>\n      <td>642243</td>\n      <td>642243</td>\n      <td>642243</td>\n      <td>642243</td>\n      <td>642243</td>\n      <td>642243</td>\n      <td>642243</td>\n      <td>642238</td>\n      <td>642238</td>\n      <td>642238</td>\n      <td>642243</td>\n    </tr>\n    <tr>\n      <th>8</th>\n      <td>606401</td>\n      <td>606401</td>\n      <td>606401</td>\n      <td>606401</td>\n      <td>606401</td>\n      <td>606401</td>\n      <td>606401</td>\n      <td>606401</td>\n      <td>606401</td>\n      <td>606401</td>\n      <td>606396</td>\n      <td>606396</td>\n      <td>606396</td>\n      <td>606401</td>\n    </tr>\n    <tr>\n      <th>9</th>\n      <td>636637</td>\n      <td>636637</td>\n      <td>636637</td>\n      <td>636637</td>\n      <td>636637</td>\n      <td>636637</td>\n      <td>636637</td>\n      <td>636637</td>\n      <td>636637</td>\n      <td>636637</td>\n      <td>636633</td>\n      <td>636633</td>\n      <td>636633</td>\n      <td>636637</td>\n    </tr>\n    <tr>\n      <th>10</th>\n      <td>545912</td>\n      <td>545912</td>\n      <td>545912</td>\n      <td>545912</td>\n      <td>545912</td>\n      <td>545912</td>\n      <td>545912</td>\n      <td>545912</td>\n      <td>545912</td>\n      <td>545912</td>\n      <td>545908</td>\n      <td>545908</td>\n      <td>545908</td>\n      <td>545912</td>\n    </tr>\n    <tr>\n      <th>11</th>\n      <td>589171</td>\n      <td>589171</td>\n      <td>589171</td>\n      <td>589171</td>\n      <td>589171</td>\n      <td>589171</td>\n      <td>589171</td>\n      <td>589171</td>\n      <td>589171</td>\n      <td>589171</td>\n      <td>589168</td>\n      <td>589168</td>\n      <td>589168</td>\n      <td>589171</td>\n    </tr>\n    <tr>\n      <th>12</th>\n      <td>906426</td>\n      <td>906426</td>\n      <td>906426</td>\n      <td>906426</td>\n      <td>906426</td>\n      <td>906426</td>\n      <td>906426</td>\n      <td>906426</td>\n      <td>906426</td>\n      <td>906426</td>\n      <td>906422</td>\n      <td>906422</td>\n      <td>906422</td>\n      <td>906426</td>\n    </tr>\n  </tbody>\n</table>\n</div>"
     },
     "metadata": {},
     "execution_count": 27
    }
   ],
   "source": [
    "test2"
   ]
  },
  {
   "cell_type": "code",
   "execution_count": 16,
   "metadata": {},
   "outputs": [
    {
     "output_type": "display_data",
     "data": {
      "application/vnd.plotly.v1+json": {
       "config": {
        "plotlyServerURL": "https://plot.ly"
       },
       "data": [
        {
         "hovertemplate": "index=%{x}<br>activity=%{y}<extra></extra>",
         "legendgroup": "",
         "line": {
          "color": "#636efa",
          "dash": "solid"
         },
         "mode": "lines",
         "name": "",
         "orientation": "v",
         "showlegend": false,
         "type": "scatter",
         "x": [
          "2020-05-28",
          "2020-05-29",
          "2020-06-02",
          "2020-06-03",
          "2020-06-04",
          "2020-06-05",
          "2020-06-06",
          "2020-06-07",
          "2020-06-08",
          "2020-06-09",
          "2020-06-10",
          "2020-06-11",
          "2020-06-12",
          "2020-06-13",
          "2020-06-14",
          "2020-06-15",
          "2020-06-16",
          "2020-06-17",
          "2020-06-18",
          "2020-06-19",
          "2020-06-20",
          "2020-06-21",
          "2020-06-22",
          "2020-06-23",
          "2020-06-24",
          "2020-06-25",
          "2020-06-26",
          "2020-06-27",
          "2020-06-29",
          "2020-06-30",
          "2020-07-01",
          "2020-07-02",
          "2020-07-03",
          "2020-07-04",
          "2020-07-05",
          "2020-07-07",
          "2020-07-08",
          "2020-07-09",
          "2020-07-10",
          "2020-07-11",
          "2020-07-12",
          "2020-07-13",
          "2020-07-15",
          "2020-07-16",
          "2020-07-17",
          "2020-07-18",
          "2020-07-19",
          "2020-07-21",
          "2020-07-22",
          "2020-07-23",
          "2020-07-24",
          "2020-07-25",
          "2020-07-26",
          "2020-07-27",
          "2020-07-28",
          "2020-07-29",
          "2020-07-30",
          "2020-07-31",
          "2020-08-01",
          "2020-08-02",
          "2020-08-04",
          "2020-08-05",
          "2020-08-06",
          "2020-08-07",
          "2020-08-08",
          "2020-08-09",
          "2020-08-10",
          "2020-08-11",
          "2020-08-12",
          "2020-08-13",
          "2020-08-14",
          "2020-08-16",
          "2020-08-18",
          "2020-08-19",
          "2020-08-20",
          "2020-08-21",
          "2020-08-22",
          "2020-08-24",
          "2020-08-25",
          "2020-08-26",
          "2020-08-27",
          "2020-08-28",
          "2020-08-30",
          "2020-08-31",
          "2020-09-01",
          "2020-09-02",
          "2020-09-03",
          "2020-09-04",
          "2020-09-05",
          "2020-09-06",
          "2020-09-07",
          "2020-09-08",
          "2020-09-09",
          "2020-09-10",
          "2020-09-11",
          "2020-09-12",
          "2020-09-13",
          "2020-09-14",
          "2020-09-15",
          "2020-09-16",
          "2020-09-17",
          "2020-09-18",
          "2020-09-19",
          "2020-09-21",
          "2020-09-22",
          "2020-09-23",
          "2020-09-24",
          "2020-09-25",
          "2020-09-26",
          "2020-09-29",
          "2020-09-30",
          "2020-10-02",
          "2020-10-03",
          "2020-10-04",
          "2020-10-07",
          "2020-10-09",
          "2020-10-10",
          "2020-10-12",
          "2020-10-13",
          "2020-10-14",
          "2020-10-15",
          "2020-10-16",
          "2020-10-17",
          "2020-10-18",
          "2020-10-19",
          "2020-10-20",
          "2020-10-21",
          "2020-10-22",
          "2020-10-23",
          "2020-10-24",
          "2020-10-25",
          "2020-10-26",
          "2020-10-27",
          "2020-10-28",
          "2020-10-29",
          "2020-10-30",
          "2020-10-31",
          "2020-11-02",
          "2020-11-03",
          "2020-11-04",
          "2020-11-05",
          "2020-11-06",
          "2020-11-07",
          "2020-11-08",
          "2020-11-09",
          "2020-11-10",
          "2020-11-11",
          "2020-11-12",
          "2020-11-13",
          "2020-11-14",
          "2020-11-17",
          "2020-11-18",
          "2020-11-19",
          "2020-11-20",
          "2020-11-21",
          "2020-11-23",
          "2020-11-24",
          "2020-11-25",
          "2020-11-26",
          "2020-11-27",
          "2020-12-02",
          "2020-12-04",
          "2020-12-05",
          "2020-12-07",
          "2020-12-08",
          "2020-12-09",
          "2020-12-11",
          "2020-12-12",
          "2020-12-13",
          "2020-12-14",
          "2020-12-16",
          "2020-12-17",
          "2020-12-18",
          "2020-12-19",
          "2020-12-20",
          "2020-12-22",
          "2020-12-23",
          "2020-12-24",
          "2020-12-25",
          "2020-12-26",
          "2020-12-28",
          "2020-12-29",
          "2020-12-30",
          "2020-12-31",
          "2021-01-02",
          "2021-01-03",
          "2021-01-04",
          "2021-01-06",
          "2021-01-08",
          "2021-01-09",
          "2021-01-10",
          "2021-01-11",
          "2021-01-12",
          "2021-01-13",
          "2021-01-14",
          "2021-01-15",
          "2021-01-16",
          "2021-01-17",
          "2021-01-19",
          "2021-01-22",
          "2021-01-23",
          "2021-01-26",
          "2021-01-29",
          "2021-01-30",
          "2021-01-31",
          "2021-02-01",
          "2021-02-02",
          "2021-02-04",
          "2021-02-06",
          "2021-02-07",
          "2021-02-09",
          "2021-02-11",
          "2021-02-15",
          "2021-02-17",
          "2021-02-20",
          "2021-02-21",
          "2021-02-22",
          "2021-02-23",
          "2021-02-24",
          "2021-02-25",
          "2021-02-26",
          "2021-02-28",
          "2021-03-02",
          "2021-03-04",
          "2021-03-05",
          "2021-03-06",
          "2021-03-08",
          "2021-03-09",
          "2021-03-10",
          "2021-03-12",
          "2021-03-13",
          "2021-03-14",
          "2021-03-16",
          "2021-03-17",
          "2021-03-18",
          "2021-03-19",
          "2021-03-20",
          "2021-03-22",
          "2021-03-23",
          "2021-03-24",
          "2021-03-25",
          "2021-03-26",
          "2021-03-27",
          "2021-03-28",
          "2021-03-29",
          "2021-03-30",
          "2021-03-31",
          "2021-04-01",
          "2021-04-02",
          "2021-04-03",
          "2021-04-04",
          "2021-04-05",
          "2021-04-06",
          "2021-04-07",
          "2021-04-08",
          "2021-04-09",
          "2021-04-10",
          "2021-04-12",
          "2021-04-13",
          "2021-04-19",
          "2021-04-20",
          "2021-04-21",
          "2021-04-22",
          "2021-04-23",
          "2021-04-24",
          "2021-04-28",
          "2021-04-30",
          "2021-05-01"
         ],
         "xaxis": "x",
         "y": [
          386,
          1110,
          30,
          996,
          68,
          2,
          27,
          5,
          9,
          45,
          132,
          291,
          958,
          299,
          83,
          62,
          46,
          208,
          222,
          43,
          22,
          6,
          535,
          768,
          68,
          183,
          410,
          79,
          343,
          24,
          64,
          287,
          120,
          57,
          67,
          61,
          57,
          46,
          15,
          6,
          1,
          33,
          27,
          24,
          26,
          9,
          60,
          75,
          14,
          37,
          46,
          10,
          7,
          21,
          3,
          56,
          56,
          10,
          32,
          2,
          15,
          32,
          12,
          30,
          18,
          4,
          13,
          44,
          12,
          7,
          7,
          5,
          13,
          46,
          26,
          56,
          25,
          12,
          76,
          42,
          112,
          8,
          6,
          67,
          44,
          145,
          51,
          147,
          26,
          6,
          57,
          6,
          16,
          75,
          15,
          20,
          3,
          23,
          8,
          11,
          43,
          273,
          13,
          50,
          43,
          58,
          2,
          3,
          23,
          15,
          18,
          42,
          9,
          1,
          23,
          2,
          15,
          8,
          20,
          9,
          7,
          26,
          59,
          1,
          40,
          53,
          45,
          15,
          23,
          15,
          29,
          3,
          120,
          3,
          60,
          83,
          45,
          23,
          128,
          43,
          75,
          50,
          28,
          10,
          19,
          70,
          19,
          132,
          22,
          44,
          8,
          37,
          2,
          17,
          14,
          13,
          34,
          54,
          10,
          24,
          39,
          8,
          3,
          38,
          22,
          28,
          14,
          53,
          10,
          5,
          66,
          10,
          94,
          10,
          47,
          17,
          2791,
          534,
          33,
          21,
          31,
          7,
          28,
          125,
          4,
          51,
          1,
          11,
          94,
          44,
          32,
          11,
          88,
          7,
          64,
          135,
          40,
          15,
          2,
          2,
          8,
          64,
          3,
          14,
          14,
          8,
          13,
          22,
          27,
          7,
          12,
          5,
          2,
          242,
          34,
          24,
          4,
          35,
          10,
          33,
          8,
          6,
          14,
          10,
          1,
          11,
          9,
          3,
          6,
          2,
          19,
          4,
          7,
          91,
          12,
          87,
          10,
          3,
          94,
          130,
          51,
          202,
          24,
          13,
          2,
          111,
          44,
          46,
          95,
          10,
          3,
          12,
          49,
          27,
          24,
          14,
          5,
          7,
          7,
          5,
          9,
          107,
          7,
          10,
          2,
          80,
          19,
          12
         ],
         "yaxis": "y"
        }
       ],
       "layout": {
        "legend": {
         "tracegroupgap": 0
        },
        "template": {
         "data": {
          "bar": [
           {
            "error_x": {
             "color": "#2a3f5f"
            },
            "error_y": {
             "color": "#2a3f5f"
            },
            "marker": {
             "line": {
              "color": "#E5ECF6",
              "width": 0.5
             }
            },
            "type": "bar"
           }
          ],
          "barpolar": [
           {
            "marker": {
             "line": {
              "color": "#E5ECF6",
              "width": 0.5
             }
            },
            "type": "barpolar"
           }
          ],
          "carpet": [
           {
            "aaxis": {
             "endlinecolor": "#2a3f5f",
             "gridcolor": "white",
             "linecolor": "white",
             "minorgridcolor": "white",
             "startlinecolor": "#2a3f5f"
            },
            "baxis": {
             "endlinecolor": "#2a3f5f",
             "gridcolor": "white",
             "linecolor": "white",
             "minorgridcolor": "white",
             "startlinecolor": "#2a3f5f"
            },
            "type": "carpet"
           }
          ],
          "choropleth": [
           {
            "colorbar": {
             "outlinewidth": 0,
             "ticks": ""
            },
            "type": "choropleth"
           }
          ],
          "contour": [
           {
            "colorbar": {
             "outlinewidth": 0,
             "ticks": ""
            },
            "colorscale": [
             [
              0,
              "#0d0887"
             ],
             [
              0.1111111111111111,
              "#46039f"
             ],
             [
              0.2222222222222222,
              "#7201a8"
             ],
             [
              0.3333333333333333,
              "#9c179e"
             ],
             [
              0.4444444444444444,
              "#bd3786"
             ],
             [
              0.5555555555555556,
              "#d8576b"
             ],
             [
              0.6666666666666666,
              "#ed7953"
             ],
             [
              0.7777777777777778,
              "#fb9f3a"
             ],
             [
              0.8888888888888888,
              "#fdca26"
             ],
             [
              1,
              "#f0f921"
             ]
            ],
            "type": "contour"
           }
          ],
          "contourcarpet": [
           {
            "colorbar": {
             "outlinewidth": 0,
             "ticks": ""
            },
            "type": "contourcarpet"
           }
          ],
          "heatmap": [
           {
            "colorbar": {
             "outlinewidth": 0,
             "ticks": ""
            },
            "colorscale": [
             [
              0,
              "#0d0887"
             ],
             [
              0.1111111111111111,
              "#46039f"
             ],
             [
              0.2222222222222222,
              "#7201a8"
             ],
             [
              0.3333333333333333,
              "#9c179e"
             ],
             [
              0.4444444444444444,
              "#bd3786"
             ],
             [
              0.5555555555555556,
              "#d8576b"
             ],
             [
              0.6666666666666666,
              "#ed7953"
             ],
             [
              0.7777777777777778,
              "#fb9f3a"
             ],
             [
              0.8888888888888888,
              "#fdca26"
             ],
             [
              1,
              "#f0f921"
             ]
            ],
            "type": "heatmap"
           }
          ],
          "heatmapgl": [
           {
            "colorbar": {
             "outlinewidth": 0,
             "ticks": ""
            },
            "colorscale": [
             [
              0,
              "#0d0887"
             ],
             [
              0.1111111111111111,
              "#46039f"
             ],
             [
              0.2222222222222222,
              "#7201a8"
             ],
             [
              0.3333333333333333,
              "#9c179e"
             ],
             [
              0.4444444444444444,
              "#bd3786"
             ],
             [
              0.5555555555555556,
              "#d8576b"
             ],
             [
              0.6666666666666666,
              "#ed7953"
             ],
             [
              0.7777777777777778,
              "#fb9f3a"
             ],
             [
              0.8888888888888888,
              "#fdca26"
             ],
             [
              1,
              "#f0f921"
             ]
            ],
            "type": "heatmapgl"
           }
          ],
          "histogram": [
           {
            "marker": {
             "colorbar": {
              "outlinewidth": 0,
              "ticks": ""
             }
            },
            "type": "histogram"
           }
          ],
          "histogram2d": [
           {
            "colorbar": {
             "outlinewidth": 0,
             "ticks": ""
            },
            "colorscale": [
             [
              0,
              "#0d0887"
             ],
             [
              0.1111111111111111,
              "#46039f"
             ],
             [
              0.2222222222222222,
              "#7201a8"
             ],
             [
              0.3333333333333333,
              "#9c179e"
             ],
             [
              0.4444444444444444,
              "#bd3786"
             ],
             [
              0.5555555555555556,
              "#d8576b"
             ],
             [
              0.6666666666666666,
              "#ed7953"
             ],
             [
              0.7777777777777778,
              "#fb9f3a"
             ],
             [
              0.8888888888888888,
              "#fdca26"
             ],
             [
              1,
              "#f0f921"
             ]
            ],
            "type": "histogram2d"
           }
          ],
          "histogram2dcontour": [
           {
            "colorbar": {
             "outlinewidth": 0,
             "ticks": ""
            },
            "colorscale": [
             [
              0,
              "#0d0887"
             ],
             [
              0.1111111111111111,
              "#46039f"
             ],
             [
              0.2222222222222222,
              "#7201a8"
             ],
             [
              0.3333333333333333,
              "#9c179e"
             ],
             [
              0.4444444444444444,
              "#bd3786"
             ],
             [
              0.5555555555555556,
              "#d8576b"
             ],
             [
              0.6666666666666666,
              "#ed7953"
             ],
             [
              0.7777777777777778,
              "#fb9f3a"
             ],
             [
              0.8888888888888888,
              "#fdca26"
             ],
             [
              1,
              "#f0f921"
             ]
            ],
            "type": "histogram2dcontour"
           }
          ],
          "mesh3d": [
           {
            "colorbar": {
             "outlinewidth": 0,
             "ticks": ""
            },
            "type": "mesh3d"
           }
          ],
          "parcoords": [
           {
            "line": {
             "colorbar": {
              "outlinewidth": 0,
              "ticks": ""
             }
            },
            "type": "parcoords"
           }
          ],
          "pie": [
           {
            "automargin": true,
            "type": "pie"
           }
          ],
          "scatter": [
           {
            "marker": {
             "colorbar": {
              "outlinewidth": 0,
              "ticks": ""
             }
            },
            "type": "scatter"
           }
          ],
          "scatter3d": [
           {
            "line": {
             "colorbar": {
              "outlinewidth": 0,
              "ticks": ""
             }
            },
            "marker": {
             "colorbar": {
              "outlinewidth": 0,
              "ticks": ""
             }
            },
            "type": "scatter3d"
           }
          ],
          "scattercarpet": [
           {
            "marker": {
             "colorbar": {
              "outlinewidth": 0,
              "ticks": ""
             }
            },
            "type": "scattercarpet"
           }
          ],
          "scattergeo": [
           {
            "marker": {
             "colorbar": {
              "outlinewidth": 0,
              "ticks": ""
             }
            },
            "type": "scattergeo"
           }
          ],
          "scattergl": [
           {
            "marker": {
             "colorbar": {
              "outlinewidth": 0,
              "ticks": ""
             }
            },
            "type": "scattergl"
           }
          ],
          "scattermapbox": [
           {
            "marker": {
             "colorbar": {
              "outlinewidth": 0,
              "ticks": ""
             }
            },
            "type": "scattermapbox"
           }
          ],
          "scatterpolar": [
           {
            "marker": {
             "colorbar": {
              "outlinewidth": 0,
              "ticks": ""
             }
            },
            "type": "scatterpolar"
           }
          ],
          "scatterpolargl": [
           {
            "marker": {
             "colorbar": {
              "outlinewidth": 0,
              "ticks": ""
             }
            },
            "type": "scatterpolargl"
           }
          ],
          "scatterternary": [
           {
            "marker": {
             "colorbar": {
              "outlinewidth": 0,
              "ticks": ""
             }
            },
            "type": "scatterternary"
           }
          ],
          "surface": [
           {
            "colorbar": {
             "outlinewidth": 0,
             "ticks": ""
            },
            "colorscale": [
             [
              0,
              "#0d0887"
             ],
             [
              0.1111111111111111,
              "#46039f"
             ],
             [
              0.2222222222222222,
              "#7201a8"
             ],
             [
              0.3333333333333333,
              "#9c179e"
             ],
             [
              0.4444444444444444,
              "#bd3786"
             ],
             [
              0.5555555555555556,
              "#d8576b"
             ],
             [
              0.6666666666666666,
              "#ed7953"
             ],
             [
              0.7777777777777778,
              "#fb9f3a"
             ],
             [
              0.8888888888888888,
              "#fdca26"
             ],
             [
              1,
              "#f0f921"
             ]
            ],
            "type": "surface"
           }
          ],
          "table": [
           {
            "cells": {
             "fill": {
              "color": "#EBF0F8"
             },
             "line": {
              "color": "white"
             }
            },
            "header": {
             "fill": {
              "color": "#C8D4E3"
             },
             "line": {
              "color": "white"
             }
            },
            "type": "table"
           }
          ]
         },
         "layout": {
          "annotationdefaults": {
           "arrowcolor": "#2a3f5f",
           "arrowhead": 0,
           "arrowwidth": 1
          },
          "autotypenumbers": "strict",
          "coloraxis": {
           "colorbar": {
            "outlinewidth": 0,
            "ticks": ""
           }
          },
          "colorscale": {
           "diverging": [
            [
             0,
             "#8e0152"
            ],
            [
             0.1,
             "#c51b7d"
            ],
            [
             0.2,
             "#de77ae"
            ],
            [
             0.3,
             "#f1b6da"
            ],
            [
             0.4,
             "#fde0ef"
            ],
            [
             0.5,
             "#f7f7f7"
            ],
            [
             0.6,
             "#e6f5d0"
            ],
            [
             0.7,
             "#b8e186"
            ],
            [
             0.8,
             "#7fbc41"
            ],
            [
             0.9,
             "#4d9221"
            ],
            [
             1,
             "#276419"
            ]
           ],
           "sequential": [
            [
             0,
             "#0d0887"
            ],
            [
             0.1111111111111111,
             "#46039f"
            ],
            [
             0.2222222222222222,
             "#7201a8"
            ],
            [
             0.3333333333333333,
             "#9c179e"
            ],
            [
             0.4444444444444444,
             "#bd3786"
            ],
            [
             0.5555555555555556,
             "#d8576b"
            ],
            [
             0.6666666666666666,
             "#ed7953"
            ],
            [
             0.7777777777777778,
             "#fb9f3a"
            ],
            [
             0.8888888888888888,
             "#fdca26"
            ],
            [
             1,
             "#f0f921"
            ]
           ],
           "sequentialminus": [
            [
             0,
             "#0d0887"
            ],
            [
             0.1111111111111111,
             "#46039f"
            ],
            [
             0.2222222222222222,
             "#7201a8"
            ],
            [
             0.3333333333333333,
             "#9c179e"
            ],
            [
             0.4444444444444444,
             "#bd3786"
            ],
            [
             0.5555555555555556,
             "#d8576b"
            ],
            [
             0.6666666666666666,
             "#ed7953"
            ],
            [
             0.7777777777777778,
             "#fb9f3a"
            ],
            [
             0.8888888888888888,
             "#fdca26"
            ],
            [
             1,
             "#f0f921"
            ]
           ]
          },
          "colorway": [
           "#636efa",
           "#EF553B",
           "#00cc96",
           "#ab63fa",
           "#FFA15A",
           "#19d3f3",
           "#FF6692",
           "#B6E880",
           "#FF97FF",
           "#FECB52"
          ],
          "font": {
           "color": "#2a3f5f"
          },
          "geo": {
           "bgcolor": "white",
           "lakecolor": "white",
           "landcolor": "#E5ECF6",
           "showlakes": true,
           "showland": true,
           "subunitcolor": "white"
          },
          "hoverlabel": {
           "align": "left"
          },
          "hovermode": "closest",
          "mapbox": {
           "style": "light"
          },
          "paper_bgcolor": "white",
          "plot_bgcolor": "#E5ECF6",
          "polar": {
           "angularaxis": {
            "gridcolor": "white",
            "linecolor": "white",
            "ticks": ""
           },
           "bgcolor": "#E5ECF6",
           "radialaxis": {
            "gridcolor": "white",
            "linecolor": "white",
            "ticks": ""
           }
          },
          "scene": {
           "xaxis": {
            "backgroundcolor": "#E5ECF6",
            "gridcolor": "white",
            "gridwidth": 2,
            "linecolor": "white",
            "showbackground": true,
            "ticks": "",
            "zerolinecolor": "white"
           },
           "yaxis": {
            "backgroundcolor": "#E5ECF6",
            "gridcolor": "white",
            "gridwidth": 2,
            "linecolor": "white",
            "showbackground": true,
            "ticks": "",
            "zerolinecolor": "white"
           },
           "zaxis": {
            "backgroundcolor": "#E5ECF6",
            "gridcolor": "white",
            "gridwidth": 2,
            "linecolor": "white",
            "showbackground": true,
            "ticks": "",
            "zerolinecolor": "white"
           }
          },
          "shapedefaults": {
           "line": {
            "color": "#2a3f5f"
           }
          },
          "ternary": {
           "aaxis": {
            "gridcolor": "white",
            "linecolor": "white",
            "ticks": ""
           },
           "baxis": {
            "gridcolor": "white",
            "linecolor": "white",
            "ticks": ""
           },
           "bgcolor": "#E5ECF6",
           "caxis": {
            "gridcolor": "white",
            "linecolor": "white",
            "ticks": ""
           }
          },
          "title": {
           "x": 0.05
          },
          "xaxis": {
           "automargin": true,
           "gridcolor": "white",
           "linecolor": "white",
           "ticks": "",
           "title": {
            "standoff": 15
           },
           "zerolinecolor": "white",
           "zerolinewidth": 2
          },
          "yaxis": {
           "automargin": true,
           "gridcolor": "white",
           "linecolor": "white",
           "ticks": "",
           "title": {
            "standoff": 15
           },
           "zerolinecolor": "white",
           "zerolinewidth": 2
          }
         }
        },
        "title": {
         "text": "Snuffelfiets activity per day"
        },
        "xaxis": {
         "anchor": "y",
         "domain": [
          0,
          1
         ],
         "title": {
          "text": "index"
         }
        },
        "yaxis": {
         "anchor": "x",
         "domain": [
          0,
          1
         ],
         "title": {
          "text": "activity"
         }
        }
       }
      }
     },
     "metadata": {}
    }
   ],
   "source": [
    "count = Counter([date for date in frame[\"date\"]])\n",
    "\n",
    "df = pd.DataFrame.from_dict(count, orient='index', columns=[\"activity\"]).reset_index().sort_values(by=['index'])\n",
    "\n",
    "fig = px.line(df, x='index', y='activity', title='Snuffelfiets activity per day')\n",
    "fig.show()"
   ]
  },
  {
   "cell_type": "code",
   "execution_count": 25,
   "metadata": {},
   "outputs": [
    {
     "output_type": "execute_result",
     "data": {
      "text/plain": [
       "109"
      ]
     },
     "metadata": {},
     "execution_count": 25
    }
   ],
   "source": [
    "url = 'https://ckan.dataplatform.nl/api/3/action/package_show?id=3660d2e1-84ee-46bf-a7b6-7e9ac1fcaf3a&include_tracking=true'\n",
    "r = requests.get(url)\n",
    "data = r.json()\n",
    "\n",
    "csv_urls = [x['url'] for x in data['result']['resources']]\n",
    "len((csv_urls))"
   ]
  },
  {
   "cell_type": "code",
   "execution_count": 37,
   "metadata": {},
   "outputs": [
    {
     "output_type": "execute_result",
     "data": {
      "text/plain": [
       "101"
      ]
     },
     "metadata": {},
     "execution_count": 37
    }
   ],
   "source": [
    "files = [x[-25:] for x in csv_urls]\n",
    "len(set(files))"
   ]
  },
  {
   "cell_type": "code",
   "execution_count": 38,
   "metadata": {},
   "outputs": [
    {
     "output_type": "execute_result",
     "data": {
      "text/plain": [
       "103"
      ]
     },
     "metadata": {},
     "execution_count": 38
    }
   ],
   "source": [
    "url = 'https://ckan.dataplatform.nl/api/3/action/package_show?id=9cc4de28-6d03-4b59-8c66-085b3e8b3956&include_tracking=true'\n",
    "r = requests.get(url)\n",
    "data = r.json()\n",
    "\n",
    "csv_urls = [x['url'] for x in data['result']['resources']]\n",
    "len((csv_urls))"
   ]
  },
  {
   "cell_type": "code",
   "execution_count": 39,
   "metadata": {},
   "outputs": [
    {
     "output_type": "execute_result",
     "data": {
      "text/plain": [
       "101"
      ]
     },
     "metadata": {},
     "execution_count": 39
    }
   ],
   "source": [
    "files = [x[-25:] for x in csv_urls]\n",
    "len(set(files))"
   ]
  },
  {
   "cell_type": "code",
   "execution_count": null,
   "metadata": {},
   "outputs": [],
   "source": [
    "mean_pm25_date = frame[[\"date\", \"pm2_5\"]].groupby(\"date\").mean()\n",
    "\n",
    "fig = px.scatter(mean_pm25_date, x=mean_pm25_date.index, y='pm2_5', title='Mean PM2.5 concentration per day (ug/m3)')\n",
    "fig.show()"
   ]
  },
  {
   "cell_type": "code",
   "execution_count": null,
   "metadata": {},
   "outputs": [],
   "source": [
    "frame[\"week\"] = frame[\"recording_time\"].dt.isocalendar().week\n",
    "frame[\"month\"] = frame[\"recording_time\"].dt.month\n",
    "\n",
    "mean_speed_week = frame[[\"week\", \"avg_speed_ms\"]].groupby(\"week\").mean()\n",
    "\n",
    "fig = px.scatter(mean_speed_week, x=mean_speed_week.index, y='avg_speed_ms', title='Mean avg. speed per week (m/s)')\n",
    "fig.show()"
   ]
  },
  {
   "cell_type": "code",
   "execution_count": null,
   "metadata": {},
   "outputs": [],
   "source": [
    "activity = Counter([sensor for sensor in frame[\"sensor\"]])\n",
    "\n",
    "df = pd.DataFrame.from_dict(activity, orient='index', columns=[\"activity\"]).reset_index().sort_values(by=['activity'], ascending=False)\n",
    "df.replace(to_replace=df['index'].unique(), value=range(0,len(activity)), inplace=True) # change sensor name to rank\n",
    "\n",
    "\n",
    "fig = px.bar(df, x='index', y='activity', title='Most active users/sensors')\n",
    "fig.show()"
   ]
  },
  {
   "cell_type": "code",
   "execution_count": null,
   "metadata": {},
   "outputs": [],
   "source": [
    "df = frame[[\"date\", \"sensor\", \"pm2_5\"]].groupby(['date', 'sensor']).count()\n",
    "df.reset_index(inplace=True)\n",
    "df.replace(to_replace=df['sensor'].unique(), value=range(0,len(df['sensor'].unique())), inplace=True) # change sensor names to a number.\n",
    "\n",
    "fig = px.line(df, x='date', y='pm2_5', title='Daily activity per sensor', color='sensor')\n",
    "fig.show()"
   ]
  },
  {
   "cell_type": "code",
   "execution_count": null,
   "metadata": {},
   "outputs": [],
   "source": [
    "import seaborn as sns \n",
    "\n",
    "frame[\"humidity\"] = pd.to_numeric(frame[\"humidity\"])\n",
    "frame[\"pm2_5\"] = pd.to_numeric(frame[\"pm2_5\"])\n",
    "frame[\"pressure\"] = pd.to_numeric(frame[\"pressure\"])\n",
    "\n",
    "correlation = frame[[\"lon\", \"lat\", \"humidity\", \"pm2_5\", \"pressure\", \"temperature\", \"distance\", \"avg_speed_ms\"]].corr()\n",
    "sns.heatmap(correlation, cmap=\"GnBu\", annot=True)"
   ]
  },
  {
   "cell_type": "code",
   "execution_count": null,
   "metadata": {},
   "outputs": [],
   "source": [
    "df = frame[['sensor', 'pm2_5', 'date']].groupby([\"sensor\", \"date\"]).mean()\n",
    "df.reset_index(inplace=True)\n",
    "df.replace(to_replace=df['sensor'].unique(), value=range(0,len(df['sensor'].unique())), inplace=True) # change sensor names to a number.\n",
    "df.head()"
   ]
  },
  {
   "source": [
    "fig = px.line(df, x='date', y='pm2_5', title='PM2.5 daily averages per sensor', color='sensor')\n",
    "fig.show()"
   ],
   "cell_type": "code",
   "metadata": {},
   "execution_count": null,
   "outputs": []
  },
  {
   "cell_type": "code",
   "execution_count": null,
   "metadata": {},
   "outputs": [],
   "source": [
    "df[df[\"pm2_5\"] > 100].sensor.unique()"
   ]
  },
  {
   "cell_type": "code",
   "execution_count": null,
   "metadata": {},
   "outputs": [],
   "source": [
    "len(df[df[\"pm2_5\"] > 100].sensor.unique())/len(df.sensor.unique())"
   ]
  },
  {
   "cell_type": "code",
   "execution_count": null,
   "metadata": {},
   "outputs": [],
   "source": [
    "#fig = px.histogram(df, x='pm2_5', title='PM2.5 daily averages per sensor', color='sensor')\n",
    "#fig.show()"
   ]
  },
  {
   "source": [
    "### Possible steps:\n",
    "- Exclude all sensors with <X observations/days\n",
    "- Exclude all sensors that are an outlier in terms of total average PM2.5\n",
    "- Exclude all sensors that are an outlier in terms of weekly average PM2.5"
   ],
   "cell_type": "markdown",
   "metadata": {}
  },
  {
   "cell_type": "code",
   "execution_count": null,
   "metadata": {},
   "outputs": [],
   "source": [
    "df = frame[['sensor', 'pm2_5']].groupby([\"sensor\"]).mean()\n",
    "df.reset_index(inplace=True)\n",
    "\n",
    "px.box(df, y=\"pm2_5\")"
   ]
  },
  {
   "cell_type": "code",
   "execution_count": null,
   "metadata": {},
   "outputs": [],
   "source": [
    "df[df[\"pm2_5\"] > 14].sensor.unique()"
   ]
  },
  {
   "cell_type": "code",
   "execution_count": null,
   "metadata": {},
   "outputs": [],
   "source": [
    "df[df[\"pm2_5\"] > 14]"
   ]
  },
  {
   "cell_type": "code",
   "execution_count": null,
   "metadata": {},
   "outputs": [],
   "source": [
    "len(frame[frame[\"sensor\"]==\"bd6b87eceb4104d42d9366942c41d82d\"])"
   ]
  },
  {
   "cell_type": "code",
   "execution_count": null,
   "metadata": {},
   "outputs": [],
   "source": [
    "csv_file = \"C:/Users/Klant/Documents/GitHub/ADS-Snuffelfiets-Thesis/data/external/resource_2021_03_29_2021_04_05.csv\"\n",
    "\n",
    "df = pd.read_csv(csv_file)\n",
    "df.head()"
   ]
  },
  {
   "cell_type": "code",
   "execution_count": null,
   "metadata": {},
   "outputs": [],
   "source": [
    "df[\"date\"] = pd.to_datetime(df['recording_time'], format=\"%Y-%m-%d %H:%M:%S\").dt.date\n",
    "df['pm2_5_log'] = np.log(df[\"pm2_5\"])\n",
    "\n",
    "\n",
    "means = df.groupby([\"sensor\", 'date']).mean()\n",
    "means.reset_index(inplace=True)\n",
    "\n",
    "\n",
    "fig = px.histogram(means, x='pm2_5_log', title='PM2.5-log daily averages per sensor', color='sensor')\n",
    "fig.show()"
   ]
  },
  {
   "source": [],
   "cell_type": "markdown",
   "metadata": {}
  },
  {
   "source": [
    "## Rasterizing Point Data - work in progress!\n",
    "Source: https://corteva.github.io/geocube/stable/examples/rasterize_point_data.html"
   ],
   "cell_type": "markdown",
   "metadata": {}
  },
  {
   "cell_type": "code",
   "execution_count": null,
   "metadata": {},
   "outputs": [],
   "source": [
    "import json\n",
    "from functools import partial\n",
    "\n",
    "import geopandas as gpd\n",
    "from shapely.geometry import box, mapping\n",
    "\n",
    "from geocube.api.core import make_geocube\n",
    "from geocube.rasterize import rasterize_points_griddata, rasterize_points_radial"
   ]
  },
  {
   "cell_type": "code",
   "execution_count": null,
   "metadata": {},
   "outputs": [],
   "source": [
    "df = pd.read_csv(\"../data/external/resource_2021_03_29_2021_04_05.csv\")\n",
    "gdf = gpd.GeoDataFrame(df, geometry=gpd.points_from_xy(df['lon'],df['lat'], crs=\"EPSG:4326\"))\n",
    "\n",
    "gdf = gdf.to_crs(\"EPSG:28992\")"
   ]
  },
  {
   "cell_type": "code",
   "execution_count": null,
   "metadata": {},
   "outputs": [],
   "source": [
    "gdf.total_bounds\n",
    "\n",
    "#"
   ]
  },
  {
   "cell_type": "code",
   "execution_count": null,
   "metadata": {},
   "outputs": [],
   "source": [
    "provinces = gpd.read_file(\"../data/external/B1_Provinciegrenzen_van_Nederland/B1_Provinciegrenzen_van_NederlandPolygon.shp\")\n",
    "utrecht = provinces[provinces[\"PROV_NAAM\"] == \"Utrecht\"]\n",
    "\n",
    "gdf2 = gpd.sjoin(gdf, utrecht, how=\"inner\", op='within')\n",
    "\n",
    "len(gdf2)"
   ]
  },
  {
   "cell_type": "code",
   "execution_count": null,
   "metadata": {},
   "outputs": [],
   "source": [
    "len(gdf)"
   ]
  },
  {
   "cell_type": "code",
   "execution_count": null,
   "metadata": {},
   "outputs": [],
   "source": [
    "gdf.total_bounds"
   ]
  },
  {
   "cell_type": "code",
   "execution_count": null,
   "metadata": {},
   "outputs": [],
   "source": [
    "gdf.head()"
   ]
  },
  {
   "cell_type": "code",
   "execution_count": null,
   "metadata": {},
   "outputs": [],
   "source": [
    "gdf = gdf[:1000]"
   ]
  },
  {
   "cell_type": "code",
   "execution_count": null,
   "metadata": {},
   "outputs": [],
   "source": [
    "geo_grid = make_geocube(\n",
    "    vector_data=gdf,\n",
    "    measurements=['pm2_5'],\n",
    "    resolution=(-25, 25),\n",
    "    rasterize_function=rasterize_points_griddata,\n",
    ")\n",
    "\n",
    "geo_grid"
   ]
  },
  {
   "cell_type": "code",
   "execution_count": null,
   "metadata": {},
   "outputs": [],
   "source": [
    "# mask nodata and plot\n",
    "geo_grid.pm2_5.where(geo_grid.pm2_5!=geo_grid.pm2_5.rio.nodata).plot()"
   ]
  },
  {
   "cell_type": "code",
   "execution_count": null,
   "metadata": {},
   "outputs": [],
   "source": [
    "geo_grid.pm2_5.plot()"
   ]
  },
  {
   "cell_type": "code",
   "execution_count": null,
   "metadata": {},
   "outputs": [],
   "source": []
  },
  {
   "source": [
    "## Opening all city .csv's "
   ],
   "cell_type": "markdown",
   "metadata": {}
  },
  {
   "cell_type": "code",
   "execution_count": 8,
   "metadata": {},
   "outputs": [
    {
     "output_type": "stream",
     "name": "stderr",
     "text": [
      "100%|██████████| 101/101 [00:01<00:00, 58.91it/s]\n"
     ]
    }
   ],
   "source": [
    "\n",
    "path = \"../data/external/city/new\" # use your path\n",
    "all_files = glob.glob(path + \"/*.csv\")\n",
    "\n",
    "li = []\n",
    "\n",
    "for filename in tqdm(all_files):\n",
    "    df = pd.read_csv(filename, index_col=None, header=0)\n",
    "    li.append(df)\n",
    "\n",
    "frame = pd.concat(li, axis=0, ignore_index=True)"
   ]
  },
  {
   "cell_type": "code",
   "execution_count": 9,
   "metadata": {},
   "outputs": [
    {
     "output_type": "stream",
     "name": "stderr",
     "text": [
      "<ipython-input-9-5cb5ea3259cc>:11: FutureWarning: Series.dt.weekofyear and Series.dt.week have been deprecated.  Please use Series.dt.isocalendar().week instead.\n  frame[\"week\"] = frame['recording_time'].dt.week\n"
     ]
    }
   ],
   "source": [
    "# Changing variables to the correct dType\n",
    "\n",
    "frame[\"humidity\"] = pd.to_numeric(frame[\"humidity\"])\n",
    "frame[\"pm2_5\"] = pd.to_numeric(frame[\"pm2_5\"])\n",
    "frame[\"pressure\"] = pd.to_numeric(frame[\"pressure\"])\n",
    "frame[\"trip_sequence\"] = pd.to_numeric(frame[\"trip_sequence\"])\n",
    "frame['recording_time'] = pd.to_datetime(frame['recording_time'], format=\"%Y-%m-%d %H:%M:%S\")\n",
    "frame[\"date\"] = frame['recording_time'].dt.date\n",
    "frame[\"year\"] = frame['recording_time'].dt.year\n",
    "frame[\"month\"] = frame['recording_time'].dt.month\n",
    "frame[\"week\"] = frame['recording_time'].dt.week\n",
    "frame[\"day_of_week\"] = frame['recording_time'].dt.dayofweek\n"
   ]
  },
  {
   "cell_type": "code",
   "execution_count": 10,
   "metadata": {},
   "outputs": [
    {
     "output_type": "display_data",
     "data": {
      "application/vnd.plotly.v1+json": {
       "config": {
        "plotlyServerURL": "https://plot.ly"
       },
       "data": [
        {
         "hovertemplate": "index=%{x}<br>activity=%{y}<extra></extra>",
         "legendgroup": "",
         "line": {
          "color": "#636efa",
          "dash": "solid"
         },
         "mode": "lines",
         "name": "",
         "orientation": "v",
         "showlegend": false,
         "type": "scatter",
         "x": [
          "2020-05-29",
          "2020-06-03",
          "2020-06-04",
          "2020-06-08",
          "2020-06-09",
          "2020-06-10",
          "2020-06-11",
          "2020-06-12",
          "2020-06-13",
          "2020-06-14",
          "2020-06-15",
          "2020-06-16",
          "2020-06-17",
          "2020-06-19",
          "2020-06-20",
          "2020-06-22",
          "2020-06-23",
          "2020-06-24",
          "2020-06-25",
          "2020-06-26",
          "2020-06-29",
          "2020-07-01",
          "2020-07-02",
          "2020-07-03",
          "2020-07-04",
          "2020-07-07",
          "2020-07-08",
          "2020-07-09",
          "2020-07-10",
          "2020-07-15",
          "2020-07-16",
          "2020-07-17",
          "2020-07-18",
          "2020-07-21",
          "2020-07-23",
          "2020-07-24",
          "2020-07-25",
          "2020-07-26",
          "2020-07-27",
          "2020-07-29",
          "2020-08-01",
          "2020-08-04",
          "2020-08-07",
          "2020-08-08",
          "2020-08-10",
          "2020-08-12",
          "2020-08-14",
          "2020-08-16",
          "2020-08-18",
          "2020-08-19",
          "2020-08-21",
          "2020-08-24",
          "2020-08-25",
          "2020-08-26",
          "2020-08-27",
          "2020-08-31",
          "2020-09-01",
          "2020-09-07",
          "2020-09-14",
          "2020-09-16",
          "2020-09-17",
          "2020-09-18",
          "2020-09-19",
          "2020-09-25",
          "2020-09-26",
          "2020-09-30",
          "2020-10-02",
          "2020-10-04",
          "2020-10-07",
          "2020-10-10",
          "2020-10-16",
          "2020-10-19",
          "2020-10-26",
          "2020-10-27",
          "2020-10-28",
          "2020-10-29",
          "2020-10-30",
          "2020-11-02",
          "2020-11-03",
          "2020-11-04",
          "2020-11-06",
          "2020-11-09",
          "2020-11-14",
          "2020-11-17",
          "2020-11-18",
          "2020-11-20",
          "2020-11-21",
          "2020-11-24",
          "2020-11-27",
          "2020-12-02",
          "2020-12-04",
          "2020-12-12",
          "2020-12-17",
          "2020-12-18",
          "2020-12-19",
          "2020-12-23",
          "2020-12-24",
          "2020-12-25",
          "2020-12-28",
          "2020-12-29",
          "2021-01-02",
          "2021-01-08",
          "2021-01-09",
          "2021-01-12",
          "2021-01-13",
          "2021-01-14",
          "2021-01-15",
          "2021-01-17",
          "2021-01-22",
          "2021-01-26",
          "2021-01-30",
          "2021-02-02",
          "2021-02-17",
          "2021-02-22",
          "2021-02-28",
          "2021-03-10",
          "2021-03-14",
          "2021-03-17",
          "2021-03-19",
          "2021-03-25",
          "2021-03-26",
          "2021-03-27",
          "2021-03-28",
          "2021-03-30",
          "2021-03-31",
          "2021-04-01",
          "2021-04-02",
          "2021-04-04",
          "2021-04-05",
          "2021-04-06",
          "2021-04-09",
          "2021-04-19",
          "2021-04-21",
          "2021-04-22",
          "2021-04-23",
          "2021-04-28",
          "2021-05-01"
         ],
         "xaxis": "x",
         "y": [
          4,
          38,
          3,
          1,
          24,
          22,
          35,
          264,
          37,
          1,
          4,
          23,
          24,
          7,
          13,
          35,
          22,
          9,
          116,
          161,
          9,
          15,
          8,
          14,
          30,
          48,
          50,
          1,
          1,
          1,
          3,
          5,
          3,
          36,
          3,
          2,
          6,
          7,
          4,
          12,
          29,
          2,
          2,
          4,
          10,
          11,
          2,
          4,
          7,
          6,
          34,
          5,
          72,
          13,
          19,
          12,
          6,
          20,
          12,
          5,
          11,
          29,
          4,
          3,
          6,
          1,
          4,
          1,
          18,
          9,
          13,
          6,
          3,
          14,
          2,
          20,
          8,
          6,
          32,
          1,
          1,
          3,
          8,
          8,
          4,
          2,
          14,
          1,
          1,
          5,
          3,
          9,
          10,
          14,
          4,
          119,
          5,
          4,
          8,
          6,
          1,
          2,
          5,
          5,
          1,
          1,
          2,
          2,
          1,
          11,
          5,
          13,
          20,
          4,
          2,
          1,
          4,
          4,
          32,
          19,
          33,
          14,
          2,
          4,
          6,
          30,
          2,
          3,
          1,
          16,
          2,
          5,
          16,
          7,
          4,
          65,
          8
         ],
         "yaxis": "y"
        }
       ],
       "layout": {
        "legend": {
         "tracegroupgap": 0
        },
        "template": {
         "data": {
          "bar": [
           {
            "error_x": {
             "color": "#2a3f5f"
            },
            "error_y": {
             "color": "#2a3f5f"
            },
            "marker": {
             "line": {
              "color": "#E5ECF6",
              "width": 0.5
             }
            },
            "type": "bar"
           }
          ],
          "barpolar": [
           {
            "marker": {
             "line": {
              "color": "#E5ECF6",
              "width": 0.5
             }
            },
            "type": "barpolar"
           }
          ],
          "carpet": [
           {
            "aaxis": {
             "endlinecolor": "#2a3f5f",
             "gridcolor": "white",
             "linecolor": "white",
             "minorgridcolor": "white",
             "startlinecolor": "#2a3f5f"
            },
            "baxis": {
             "endlinecolor": "#2a3f5f",
             "gridcolor": "white",
             "linecolor": "white",
             "minorgridcolor": "white",
             "startlinecolor": "#2a3f5f"
            },
            "type": "carpet"
           }
          ],
          "choropleth": [
           {
            "colorbar": {
             "outlinewidth": 0,
             "ticks": ""
            },
            "type": "choropleth"
           }
          ],
          "contour": [
           {
            "colorbar": {
             "outlinewidth": 0,
             "ticks": ""
            },
            "colorscale": [
             [
              0,
              "#0d0887"
             ],
             [
              0.1111111111111111,
              "#46039f"
             ],
             [
              0.2222222222222222,
              "#7201a8"
             ],
             [
              0.3333333333333333,
              "#9c179e"
             ],
             [
              0.4444444444444444,
              "#bd3786"
             ],
             [
              0.5555555555555556,
              "#d8576b"
             ],
             [
              0.6666666666666666,
              "#ed7953"
             ],
             [
              0.7777777777777778,
              "#fb9f3a"
             ],
             [
              0.8888888888888888,
              "#fdca26"
             ],
             [
              1,
              "#f0f921"
             ]
            ],
            "type": "contour"
           }
          ],
          "contourcarpet": [
           {
            "colorbar": {
             "outlinewidth": 0,
             "ticks": ""
            },
            "type": "contourcarpet"
           }
          ],
          "heatmap": [
           {
            "colorbar": {
             "outlinewidth": 0,
             "ticks": ""
            },
            "colorscale": [
             [
              0,
              "#0d0887"
             ],
             [
              0.1111111111111111,
              "#46039f"
             ],
             [
              0.2222222222222222,
              "#7201a8"
             ],
             [
              0.3333333333333333,
              "#9c179e"
             ],
             [
              0.4444444444444444,
              "#bd3786"
             ],
             [
              0.5555555555555556,
              "#d8576b"
             ],
             [
              0.6666666666666666,
              "#ed7953"
             ],
             [
              0.7777777777777778,
              "#fb9f3a"
             ],
             [
              0.8888888888888888,
              "#fdca26"
             ],
             [
              1,
              "#f0f921"
             ]
            ],
            "type": "heatmap"
           }
          ],
          "heatmapgl": [
           {
            "colorbar": {
             "outlinewidth": 0,
             "ticks": ""
            },
            "colorscale": [
             [
              0,
              "#0d0887"
             ],
             [
              0.1111111111111111,
              "#46039f"
             ],
             [
              0.2222222222222222,
              "#7201a8"
             ],
             [
              0.3333333333333333,
              "#9c179e"
             ],
             [
              0.4444444444444444,
              "#bd3786"
             ],
             [
              0.5555555555555556,
              "#d8576b"
             ],
             [
              0.6666666666666666,
              "#ed7953"
             ],
             [
              0.7777777777777778,
              "#fb9f3a"
             ],
             [
              0.8888888888888888,
              "#fdca26"
             ],
             [
              1,
              "#f0f921"
             ]
            ],
            "type": "heatmapgl"
           }
          ],
          "histogram": [
           {
            "marker": {
             "colorbar": {
              "outlinewidth": 0,
              "ticks": ""
             }
            },
            "type": "histogram"
           }
          ],
          "histogram2d": [
           {
            "colorbar": {
             "outlinewidth": 0,
             "ticks": ""
            },
            "colorscale": [
             [
              0,
              "#0d0887"
             ],
             [
              0.1111111111111111,
              "#46039f"
             ],
             [
              0.2222222222222222,
              "#7201a8"
             ],
             [
              0.3333333333333333,
              "#9c179e"
             ],
             [
              0.4444444444444444,
              "#bd3786"
             ],
             [
              0.5555555555555556,
              "#d8576b"
             ],
             [
              0.6666666666666666,
              "#ed7953"
             ],
             [
              0.7777777777777778,
              "#fb9f3a"
             ],
             [
              0.8888888888888888,
              "#fdca26"
             ],
             [
              1,
              "#f0f921"
             ]
            ],
            "type": "histogram2d"
           }
          ],
          "histogram2dcontour": [
           {
            "colorbar": {
             "outlinewidth": 0,
             "ticks": ""
            },
            "colorscale": [
             [
              0,
              "#0d0887"
             ],
             [
              0.1111111111111111,
              "#46039f"
             ],
             [
              0.2222222222222222,
              "#7201a8"
             ],
             [
              0.3333333333333333,
              "#9c179e"
             ],
             [
              0.4444444444444444,
              "#bd3786"
             ],
             [
              0.5555555555555556,
              "#d8576b"
             ],
             [
              0.6666666666666666,
              "#ed7953"
             ],
             [
              0.7777777777777778,
              "#fb9f3a"
             ],
             [
              0.8888888888888888,
              "#fdca26"
             ],
             [
              1,
              "#f0f921"
             ]
            ],
            "type": "histogram2dcontour"
           }
          ],
          "mesh3d": [
           {
            "colorbar": {
             "outlinewidth": 0,
             "ticks": ""
            },
            "type": "mesh3d"
           }
          ],
          "parcoords": [
           {
            "line": {
             "colorbar": {
              "outlinewidth": 0,
              "ticks": ""
             }
            },
            "type": "parcoords"
           }
          ],
          "pie": [
           {
            "automargin": true,
            "type": "pie"
           }
          ],
          "scatter": [
           {
            "marker": {
             "colorbar": {
              "outlinewidth": 0,
              "ticks": ""
             }
            },
            "type": "scatter"
           }
          ],
          "scatter3d": [
           {
            "line": {
             "colorbar": {
              "outlinewidth": 0,
              "ticks": ""
             }
            },
            "marker": {
             "colorbar": {
              "outlinewidth": 0,
              "ticks": ""
             }
            },
            "type": "scatter3d"
           }
          ],
          "scattercarpet": [
           {
            "marker": {
             "colorbar": {
              "outlinewidth": 0,
              "ticks": ""
             }
            },
            "type": "scattercarpet"
           }
          ],
          "scattergeo": [
           {
            "marker": {
             "colorbar": {
              "outlinewidth": 0,
              "ticks": ""
             }
            },
            "type": "scattergeo"
           }
          ],
          "scattergl": [
           {
            "marker": {
             "colorbar": {
              "outlinewidth": 0,
              "ticks": ""
             }
            },
            "type": "scattergl"
           }
          ],
          "scattermapbox": [
           {
            "marker": {
             "colorbar": {
              "outlinewidth": 0,
              "ticks": ""
             }
            },
            "type": "scattermapbox"
           }
          ],
          "scatterpolar": [
           {
            "marker": {
             "colorbar": {
              "outlinewidth": 0,
              "ticks": ""
             }
            },
            "type": "scatterpolar"
           }
          ],
          "scatterpolargl": [
           {
            "marker": {
             "colorbar": {
              "outlinewidth": 0,
              "ticks": ""
             }
            },
            "type": "scatterpolargl"
           }
          ],
          "scatterternary": [
           {
            "marker": {
             "colorbar": {
              "outlinewidth": 0,
              "ticks": ""
             }
            },
            "type": "scatterternary"
           }
          ],
          "surface": [
           {
            "colorbar": {
             "outlinewidth": 0,
             "ticks": ""
            },
            "colorscale": [
             [
              0,
              "#0d0887"
             ],
             [
              0.1111111111111111,
              "#46039f"
             ],
             [
              0.2222222222222222,
              "#7201a8"
             ],
             [
              0.3333333333333333,
              "#9c179e"
             ],
             [
              0.4444444444444444,
              "#bd3786"
             ],
             [
              0.5555555555555556,
              "#d8576b"
             ],
             [
              0.6666666666666666,
              "#ed7953"
             ],
             [
              0.7777777777777778,
              "#fb9f3a"
             ],
             [
              0.8888888888888888,
              "#fdca26"
             ],
             [
              1,
              "#f0f921"
             ]
            ],
            "type": "surface"
           }
          ],
          "table": [
           {
            "cells": {
             "fill": {
              "color": "#EBF0F8"
             },
             "line": {
              "color": "white"
             }
            },
            "header": {
             "fill": {
              "color": "#C8D4E3"
             },
             "line": {
              "color": "white"
             }
            },
            "type": "table"
           }
          ]
         },
         "layout": {
          "annotationdefaults": {
           "arrowcolor": "#2a3f5f",
           "arrowhead": 0,
           "arrowwidth": 1
          },
          "autotypenumbers": "strict",
          "coloraxis": {
           "colorbar": {
            "outlinewidth": 0,
            "ticks": ""
           }
          },
          "colorscale": {
           "diverging": [
            [
             0,
             "#8e0152"
            ],
            [
             0.1,
             "#c51b7d"
            ],
            [
             0.2,
             "#de77ae"
            ],
            [
             0.3,
             "#f1b6da"
            ],
            [
             0.4,
             "#fde0ef"
            ],
            [
             0.5,
             "#f7f7f7"
            ],
            [
             0.6,
             "#e6f5d0"
            ],
            [
             0.7,
             "#b8e186"
            ],
            [
             0.8,
             "#7fbc41"
            ],
            [
             0.9,
             "#4d9221"
            ],
            [
             1,
             "#276419"
            ]
           ],
           "sequential": [
            [
             0,
             "#0d0887"
            ],
            [
             0.1111111111111111,
             "#46039f"
            ],
            [
             0.2222222222222222,
             "#7201a8"
            ],
            [
             0.3333333333333333,
             "#9c179e"
            ],
            [
             0.4444444444444444,
             "#bd3786"
            ],
            [
             0.5555555555555556,
             "#d8576b"
            ],
            [
             0.6666666666666666,
             "#ed7953"
            ],
            [
             0.7777777777777778,
             "#fb9f3a"
            ],
            [
             0.8888888888888888,
             "#fdca26"
            ],
            [
             1,
             "#f0f921"
            ]
           ],
           "sequentialminus": [
            [
             0,
             "#0d0887"
            ],
            [
             0.1111111111111111,
             "#46039f"
            ],
            [
             0.2222222222222222,
             "#7201a8"
            ],
            [
             0.3333333333333333,
             "#9c179e"
            ],
            [
             0.4444444444444444,
             "#bd3786"
            ],
            [
             0.5555555555555556,
             "#d8576b"
            ],
            [
             0.6666666666666666,
             "#ed7953"
            ],
            [
             0.7777777777777778,
             "#fb9f3a"
            ],
            [
             0.8888888888888888,
             "#fdca26"
            ],
            [
             1,
             "#f0f921"
            ]
           ]
          },
          "colorway": [
           "#636efa",
           "#EF553B",
           "#00cc96",
           "#ab63fa",
           "#FFA15A",
           "#19d3f3",
           "#FF6692",
           "#B6E880",
           "#FF97FF",
           "#FECB52"
          ],
          "font": {
           "color": "#2a3f5f"
          },
          "geo": {
           "bgcolor": "white",
           "lakecolor": "white",
           "landcolor": "#E5ECF6",
           "showlakes": true,
           "showland": true,
           "subunitcolor": "white"
          },
          "hoverlabel": {
           "align": "left"
          },
          "hovermode": "closest",
          "mapbox": {
           "style": "light"
          },
          "paper_bgcolor": "white",
          "plot_bgcolor": "#E5ECF6",
          "polar": {
           "angularaxis": {
            "gridcolor": "white",
            "linecolor": "white",
            "ticks": ""
           },
           "bgcolor": "#E5ECF6",
           "radialaxis": {
            "gridcolor": "white",
            "linecolor": "white",
            "ticks": ""
           }
          },
          "scene": {
           "xaxis": {
            "backgroundcolor": "#E5ECF6",
            "gridcolor": "white",
            "gridwidth": 2,
            "linecolor": "white",
            "showbackground": true,
            "ticks": "",
            "zerolinecolor": "white"
           },
           "yaxis": {
            "backgroundcolor": "#E5ECF6",
            "gridcolor": "white",
            "gridwidth": 2,
            "linecolor": "white",
            "showbackground": true,
            "ticks": "",
            "zerolinecolor": "white"
           },
           "zaxis": {
            "backgroundcolor": "#E5ECF6",
            "gridcolor": "white",
            "gridwidth": 2,
            "linecolor": "white",
            "showbackground": true,
            "ticks": "",
            "zerolinecolor": "white"
           }
          },
          "shapedefaults": {
           "line": {
            "color": "#2a3f5f"
           }
          },
          "ternary": {
           "aaxis": {
            "gridcolor": "white",
            "linecolor": "white",
            "ticks": ""
           },
           "baxis": {
            "gridcolor": "white",
            "linecolor": "white",
            "ticks": ""
           },
           "bgcolor": "#E5ECF6",
           "caxis": {
            "gridcolor": "white",
            "linecolor": "white",
            "ticks": ""
           }
          },
          "title": {
           "x": 0.05
          },
          "xaxis": {
           "automargin": true,
           "gridcolor": "white",
           "linecolor": "white",
           "ticks": "",
           "title": {
            "standoff": 15
           },
           "zerolinecolor": "white",
           "zerolinewidth": 2
          },
          "yaxis": {
           "automargin": true,
           "gridcolor": "white",
           "linecolor": "white",
           "ticks": "",
           "title": {
            "standoff": 15
           },
           "zerolinecolor": "white",
           "zerolinewidth": 2
          }
         }
        },
        "title": {
         "text": "Snuffelfiets activity per day (in Utrecht City)"
        },
        "xaxis": {
         "anchor": "y",
         "domain": [
          0,
          1
         ],
         "title": {
          "text": "index"
         }
        },
        "yaxis": {
         "anchor": "x",
         "domain": [
          0,
          1
         ],
         "title": {
          "text": "activity"
         }
        }
       }
      }
     },
     "metadata": {}
    }
   ],
   "source": [
    "count = Counter([date for date in frame[\"date\"]])\n",
    "\n",
    "df = pd.DataFrame.from_dict(count, orient='index', columns=[\"activity\"]).reset_index().sort_values(by=['index'])\n",
    "\n",
    "fig = px.line(df, x='index', y='activity', title='Snuffelfiets activity per day (in Utrecht City)')\n",
    "fig.show()"
   ]
  },
  {
   "cell_type": "code",
   "execution_count": 5,
   "metadata": {},
   "outputs": [],
   "source": [
    "weeks = frame.groupby([\"year\",\"month\",\"week\"]).count()"
   ]
  },
  {
   "cell_type": "code",
   "execution_count": 6,
   "metadata": {},
   "outputs": [
    {
     "output_type": "execute_result",
     "data": {
      "text/plain": [
       "                 sensor  air_quality_observed_id    lon    lat  \\\n",
       "year month week                                                  \n",
       "2019 12    51     78129                    78129  78129  78129   \n",
       "           49     75192                    75192  75192  75192   \n",
       "2020 1     4      73504                    73504  73504  73504   \n",
       "           2      73175                    73175  73175  73175   \n",
       "2019 11    47     69915                    69915  69915  69915   \n",
       "     12    50     68076                    68076  68076  68076   \n",
       "2020 1     3      63155                    63155  63155  63155   \n",
       "     2     6      61940                    61940  61940  61940   \n",
       "     3     10     61301                    61301  61301  61301   \n",
       "2019 11    48     58757                    58757  58757  58757   \n",
       "           46     57137                    57137  57137  57137   \n",
       "2020 1     5      57099                    57099  57099  57099   \n",
       "     3     11     56835                    56835  56835  56835   \n",
       "2019 11    45     56113                    56113  56113  56113   \n",
       "2020 2     7      53535                    53535  53535  53535   \n",
       "           8      43276                    43276  43276  43276   \n",
       "     5     21     40147                    40147  40147  40147   \n",
       "2019 10    44     39569                    39569  39569  39569   \n",
       "2020 6     26     39467                    39467  39467  39467   \n",
       "           25     37648                    37648  37648  37648   \n",
       "\n",
       "                 recording_time  trip_sequence  humidity  pm2_5  pressure  \\\n",
       "year month week                                                             \n",
       "2019 12    51             78129          78129     78129  78129     78129   \n",
       "           49             75192          75192     75192  75192     75192   \n",
       "2020 1     4              73504          73504     73504  73504     73504   \n",
       "           2              73175          73175     73175  73175     73175   \n",
       "2019 11    47             69915          69915     69915  69915     69915   \n",
       "     12    50             68076          68076     68076  68076     68076   \n",
       "2020 1     3              63155          63155     63155  63155     63155   \n",
       "     2     6              61940          61940     61940  61940     61940   \n",
       "     3     10             61301          61301     61301  61301     61301   \n",
       "2019 11    48             58757          58757     58757  58757     58757   \n",
       "           46             57137          57137     57137  57137     57137   \n",
       "2020 1     5              57099          57099     57099  57099     57099   \n",
       "     3     11             56835          56835     56835  56835     56835   \n",
       "2019 11    45             56113          56113     56113  56113     56113   \n",
       "2020 2     7              53535          53535     53535  53535     53535   \n",
       "           8              43276          43276     43276  43276     43276   \n",
       "     5     21             40147          40147     40147  40147     40147   \n",
       "2019 10    44             39569          39569     39569  39569     39569   \n",
       "2020 6     26             39467          39467     39467  39467     39467   \n",
       "           25             37648          37648     37648  37648     37648   \n",
       "\n",
       "                 temperature  distance  delta_time  avg_speed_ms  index_right  \\\n",
       "year month week                                                                 \n",
       "2019 12    51          78129     78129       78129         78129        78129   \n",
       "           49          75192     75192       75192         75192        75192   \n",
       "2020 1     4           73504     73504       73504         73504        73504   \n",
       "           2           73175     73175       73175         73175        73175   \n",
       "2019 11    47          69915     69915       69915         69915        69915   \n",
       "     12    50          68076     68076       68076         68076        68076   \n",
       "2020 1     3           63155     63155       63155         63155        63155   \n",
       "     2     6           61940     61939       61939         61939        61940   \n",
       "     3     10          61301     61300       61300         61300        61301   \n",
       "2019 11    48          58757     58757       58757         58757        58757   \n",
       "           46          57137     57137       57137         57137        57137   \n",
       "2020 1     5           57099     57099       57099         57099        57099   \n",
       "     3     11          56835     56834       56834         56834        56835   \n",
       "2019 11    45          56113     56112       56112         56112        56113   \n",
       "2020 2     7           53535     53534       53534         53534        53535   \n",
       "           8           43276     43275       43275         43275        43276   \n",
       "     5     21          40147     40147       40147         40147        40147   \n",
       "2019 10    44          39569     39568       39568         39568        39569   \n",
       "2020 6     26          39467     39467       39467         39467        39467   \n",
       "           25          37648     37648       37648         37648        37648   \n",
       "\n",
       "                  date  \n",
       "year month week         \n",
       "2019 12    51    78129  \n",
       "           49    75192  \n",
       "2020 1     4     73504  \n",
       "           2     73175  \n",
       "2019 11    47    69915  \n",
       "     12    50    68076  \n",
       "2020 1     3     63155  \n",
       "     2     6     61940  \n",
       "     3     10    61301  \n",
       "2019 11    48    58757  \n",
       "           46    57137  \n",
       "2020 1     5     57099  \n",
       "     3     11    56835  \n",
       "2019 11    45    56113  \n",
       "2020 2     7     53535  \n",
       "           8     43276  \n",
       "     5     21    40147  \n",
       "2019 10    44    39569  \n",
       "2020 6     26    39467  \n",
       "           25    37648  "
      ],
      "text/html": "<div>\n<style scoped>\n    .dataframe tbody tr th:only-of-type {\n        vertical-align: middle;\n    }\n\n    .dataframe tbody tr th {\n        vertical-align: top;\n    }\n\n    .dataframe thead th {\n        text-align: right;\n    }\n</style>\n<table border=\"1\" class=\"dataframe\">\n  <thead>\n    <tr style=\"text-align: right;\">\n      <th></th>\n      <th></th>\n      <th></th>\n      <th>sensor</th>\n      <th>air_quality_observed_id</th>\n      <th>lon</th>\n      <th>lat</th>\n      <th>recording_time</th>\n      <th>trip_sequence</th>\n      <th>humidity</th>\n      <th>pm2_5</th>\n      <th>pressure</th>\n      <th>temperature</th>\n      <th>distance</th>\n      <th>delta_time</th>\n      <th>avg_speed_ms</th>\n      <th>index_right</th>\n      <th>date</th>\n    </tr>\n    <tr>\n      <th>year</th>\n      <th>month</th>\n      <th>week</th>\n      <th></th>\n      <th></th>\n      <th></th>\n      <th></th>\n      <th></th>\n      <th></th>\n      <th></th>\n      <th></th>\n      <th></th>\n      <th></th>\n      <th></th>\n      <th></th>\n      <th></th>\n      <th></th>\n      <th></th>\n    </tr>\n  </thead>\n  <tbody>\n    <tr>\n      <th rowspan=\"2\" valign=\"top\">2019</th>\n      <th rowspan=\"2\" valign=\"top\">12</th>\n      <th>51</th>\n      <td>78129</td>\n      <td>78129</td>\n      <td>78129</td>\n      <td>78129</td>\n      <td>78129</td>\n      <td>78129</td>\n      <td>78129</td>\n      <td>78129</td>\n      <td>78129</td>\n      <td>78129</td>\n      <td>78129</td>\n      <td>78129</td>\n      <td>78129</td>\n      <td>78129</td>\n      <td>78129</td>\n    </tr>\n    <tr>\n      <th>49</th>\n      <td>75192</td>\n      <td>75192</td>\n      <td>75192</td>\n      <td>75192</td>\n      <td>75192</td>\n      <td>75192</td>\n      <td>75192</td>\n      <td>75192</td>\n      <td>75192</td>\n      <td>75192</td>\n      <td>75192</td>\n      <td>75192</td>\n      <td>75192</td>\n      <td>75192</td>\n      <td>75192</td>\n    </tr>\n    <tr>\n      <th rowspan=\"2\" valign=\"top\">2020</th>\n      <th rowspan=\"2\" valign=\"top\">1</th>\n      <th>4</th>\n      <td>73504</td>\n      <td>73504</td>\n      <td>73504</td>\n      <td>73504</td>\n      <td>73504</td>\n      <td>73504</td>\n      <td>73504</td>\n      <td>73504</td>\n      <td>73504</td>\n      <td>73504</td>\n      <td>73504</td>\n      <td>73504</td>\n      <td>73504</td>\n      <td>73504</td>\n      <td>73504</td>\n    </tr>\n    <tr>\n      <th>2</th>\n      <td>73175</td>\n      <td>73175</td>\n      <td>73175</td>\n      <td>73175</td>\n      <td>73175</td>\n      <td>73175</td>\n      <td>73175</td>\n      <td>73175</td>\n      <td>73175</td>\n      <td>73175</td>\n      <td>73175</td>\n      <td>73175</td>\n      <td>73175</td>\n      <td>73175</td>\n      <td>73175</td>\n    </tr>\n    <tr>\n      <th rowspan=\"2\" valign=\"top\">2019</th>\n      <th>11</th>\n      <th>47</th>\n      <td>69915</td>\n      <td>69915</td>\n      <td>69915</td>\n      <td>69915</td>\n      <td>69915</td>\n      <td>69915</td>\n      <td>69915</td>\n      <td>69915</td>\n      <td>69915</td>\n      <td>69915</td>\n      <td>69915</td>\n      <td>69915</td>\n      <td>69915</td>\n      <td>69915</td>\n      <td>69915</td>\n    </tr>\n    <tr>\n      <th>12</th>\n      <th>50</th>\n      <td>68076</td>\n      <td>68076</td>\n      <td>68076</td>\n      <td>68076</td>\n      <td>68076</td>\n      <td>68076</td>\n      <td>68076</td>\n      <td>68076</td>\n      <td>68076</td>\n      <td>68076</td>\n      <td>68076</td>\n      <td>68076</td>\n      <td>68076</td>\n      <td>68076</td>\n      <td>68076</td>\n    </tr>\n    <tr>\n      <th rowspan=\"3\" valign=\"top\">2020</th>\n      <th>1</th>\n      <th>3</th>\n      <td>63155</td>\n      <td>63155</td>\n      <td>63155</td>\n      <td>63155</td>\n      <td>63155</td>\n      <td>63155</td>\n      <td>63155</td>\n      <td>63155</td>\n      <td>63155</td>\n      <td>63155</td>\n      <td>63155</td>\n      <td>63155</td>\n      <td>63155</td>\n      <td>63155</td>\n      <td>63155</td>\n    </tr>\n    <tr>\n      <th>2</th>\n      <th>6</th>\n      <td>61940</td>\n      <td>61940</td>\n      <td>61940</td>\n      <td>61940</td>\n      <td>61940</td>\n      <td>61940</td>\n      <td>61940</td>\n      <td>61940</td>\n      <td>61940</td>\n      <td>61940</td>\n      <td>61939</td>\n      <td>61939</td>\n      <td>61939</td>\n      <td>61940</td>\n      <td>61940</td>\n    </tr>\n    <tr>\n      <th>3</th>\n      <th>10</th>\n      <td>61301</td>\n      <td>61301</td>\n      <td>61301</td>\n      <td>61301</td>\n      <td>61301</td>\n      <td>61301</td>\n      <td>61301</td>\n      <td>61301</td>\n      <td>61301</td>\n      <td>61301</td>\n      <td>61300</td>\n      <td>61300</td>\n      <td>61300</td>\n      <td>61301</td>\n      <td>61301</td>\n    </tr>\n    <tr>\n      <th rowspan=\"2\" valign=\"top\">2019</th>\n      <th rowspan=\"2\" valign=\"top\">11</th>\n      <th>48</th>\n      <td>58757</td>\n      <td>58757</td>\n      <td>58757</td>\n      <td>58757</td>\n      <td>58757</td>\n      <td>58757</td>\n      <td>58757</td>\n      <td>58757</td>\n      <td>58757</td>\n      <td>58757</td>\n      <td>58757</td>\n      <td>58757</td>\n      <td>58757</td>\n      <td>58757</td>\n      <td>58757</td>\n    </tr>\n    <tr>\n      <th>46</th>\n      <td>57137</td>\n      <td>57137</td>\n      <td>57137</td>\n      <td>57137</td>\n      <td>57137</td>\n      <td>57137</td>\n      <td>57137</td>\n      <td>57137</td>\n      <td>57137</td>\n      <td>57137</td>\n      <td>57137</td>\n      <td>57137</td>\n      <td>57137</td>\n      <td>57137</td>\n      <td>57137</td>\n    </tr>\n    <tr>\n      <th rowspan=\"2\" valign=\"top\">2020</th>\n      <th>1</th>\n      <th>5</th>\n      <td>57099</td>\n      <td>57099</td>\n      <td>57099</td>\n      <td>57099</td>\n      <td>57099</td>\n      <td>57099</td>\n      <td>57099</td>\n      <td>57099</td>\n      <td>57099</td>\n      <td>57099</td>\n      <td>57099</td>\n      <td>57099</td>\n      <td>57099</td>\n      <td>57099</td>\n      <td>57099</td>\n    </tr>\n    <tr>\n      <th>3</th>\n      <th>11</th>\n      <td>56835</td>\n      <td>56835</td>\n      <td>56835</td>\n      <td>56835</td>\n      <td>56835</td>\n      <td>56835</td>\n      <td>56835</td>\n      <td>56835</td>\n      <td>56835</td>\n      <td>56835</td>\n      <td>56834</td>\n      <td>56834</td>\n      <td>56834</td>\n      <td>56835</td>\n      <td>56835</td>\n    </tr>\n    <tr>\n      <th>2019</th>\n      <th>11</th>\n      <th>45</th>\n      <td>56113</td>\n      <td>56113</td>\n      <td>56113</td>\n      <td>56113</td>\n      <td>56113</td>\n      <td>56113</td>\n      <td>56113</td>\n      <td>56113</td>\n      <td>56113</td>\n      <td>56113</td>\n      <td>56112</td>\n      <td>56112</td>\n      <td>56112</td>\n      <td>56113</td>\n      <td>56113</td>\n    </tr>\n    <tr>\n      <th rowspan=\"3\" valign=\"top\">2020</th>\n      <th rowspan=\"2\" valign=\"top\">2</th>\n      <th>7</th>\n      <td>53535</td>\n      <td>53535</td>\n      <td>53535</td>\n      <td>53535</td>\n      <td>53535</td>\n      <td>53535</td>\n      <td>53535</td>\n      <td>53535</td>\n      <td>53535</td>\n      <td>53535</td>\n      <td>53534</td>\n      <td>53534</td>\n      <td>53534</td>\n      <td>53535</td>\n      <td>53535</td>\n    </tr>\n    <tr>\n      <th>8</th>\n      <td>43276</td>\n      <td>43276</td>\n      <td>43276</td>\n      <td>43276</td>\n      <td>43276</td>\n      <td>43276</td>\n      <td>43276</td>\n      <td>43276</td>\n      <td>43276</td>\n      <td>43276</td>\n      <td>43275</td>\n      <td>43275</td>\n      <td>43275</td>\n      <td>43276</td>\n      <td>43276</td>\n    </tr>\n    <tr>\n      <th>5</th>\n      <th>21</th>\n      <td>40147</td>\n      <td>40147</td>\n      <td>40147</td>\n      <td>40147</td>\n      <td>40147</td>\n      <td>40147</td>\n      <td>40147</td>\n      <td>40147</td>\n      <td>40147</td>\n      <td>40147</td>\n      <td>40147</td>\n      <td>40147</td>\n      <td>40147</td>\n      <td>40147</td>\n      <td>40147</td>\n    </tr>\n    <tr>\n      <th>2019</th>\n      <th>10</th>\n      <th>44</th>\n      <td>39569</td>\n      <td>39569</td>\n      <td>39569</td>\n      <td>39569</td>\n      <td>39569</td>\n      <td>39569</td>\n      <td>39569</td>\n      <td>39569</td>\n      <td>39569</td>\n      <td>39569</td>\n      <td>39568</td>\n      <td>39568</td>\n      <td>39568</td>\n      <td>39569</td>\n      <td>39569</td>\n    </tr>\n    <tr>\n      <th rowspan=\"2\" valign=\"top\">2020</th>\n      <th rowspan=\"2\" valign=\"top\">6</th>\n      <th>26</th>\n      <td>39467</td>\n      <td>39467</td>\n      <td>39467</td>\n      <td>39467</td>\n      <td>39467</td>\n      <td>39467</td>\n      <td>39467</td>\n      <td>39467</td>\n      <td>39467</td>\n      <td>39467</td>\n      <td>39467</td>\n      <td>39467</td>\n      <td>39467</td>\n      <td>39467</td>\n      <td>39467</td>\n    </tr>\n    <tr>\n      <th>25</th>\n      <td>37648</td>\n      <td>37648</td>\n      <td>37648</td>\n      <td>37648</td>\n      <td>37648</td>\n      <td>37648</td>\n      <td>37648</td>\n      <td>37648</td>\n      <td>37648</td>\n      <td>37648</td>\n      <td>37648</td>\n      <td>37648</td>\n      <td>37648</td>\n      <td>37648</td>\n      <td>37648</td>\n    </tr>\n  </tbody>\n</table>\n</div>"
     },
     "metadata": {},
     "execution_count": 6
    }
   ],
   "source": [
    "weeks.sort_values(by=\"pm2_5\", ascending=False).head(20)"
   ]
  },
  {
   "cell_type": "code",
   "execution_count": 7,
   "metadata": {},
   "outputs": [
    {
     "output_type": "execute_result",
     "data": {
      "text/plain": [
       "                        BU_NAAM  GM_NAAM  BEV_DICHTH  AANT_INW  AANT_MAN  \\\n",
       "3777     Welgelegen, Den Hommel  Utrecht        4078      1465       705   \n",
       "3778                  Oog in Al  Utrecht        9859      4345      2165   \n",
       "3779            Halve Maan-Zuid  Utrecht        8148      1575       830   \n",
       "3780           Halve Maan-Noord  Utrecht        9336      1735       830   \n",
       "3781                Lombok-Oost  Utrecht       17630      2285      1110   \n",
       "...                         ...      ...         ...       ...       ...   \n",
       "3883                 Veldhuizen  Utrecht        5631      9330      4635   \n",
       "3884             De Meern-Noord  Utrecht        3925      5735      2875   \n",
       "3885              De Meern-Zuid  Utrecht        1671      6425      3160   \n",
       "3886  Bedrijvengebied Oudenrijn  Utrecht         170       265       125   \n",
       "3887                 Rijnenburg  Utrecht          24       245       135   \n",
       "\n",
       "      AANT_VROUW  AANTAL_HH  OPP_TOT  OPP_LAND  OPP_WATER  \\\n",
       "3777         760        885       39        36          3   \n",
       "3778        2175       1535       47        44          3   \n",
       "3779         745        555       23        19          4   \n",
       "3780         900        870       25        19          6   \n",
       "3781        1175       1470       13        13          0   \n",
       "...          ...        ...      ...       ...        ...   \n",
       "3883        4690       3460      189       166         23   \n",
       "3884        2860       2080      148       146          2   \n",
       "3885        3260       2715      389       385          5   \n",
       "3886         140        115      163       158          5   \n",
       "3887         110        110     1078      1030         48   \n",
       "\n",
       "                                               geometry  \n",
       "3777  POLYGON ((135006.339 455419.888, 135197.876 45...  \n",
       "3778  POLYGON ((134605.713 455754.201, 134652.927 45...  \n",
       "3779  POLYGON ((134072.101 455635.056, 134074.419 45...  \n",
       "3780  POLYGON ((133770.466 456647.956, 133786.743 45...  \n",
       "3781  POLYGON ((135822.953 456037.558, 135715.534 45...  \n",
       "...                                                 ...  \n",
       "3883  POLYGON ((129692.900 455386.278, 129786.270 45...  \n",
       "3884  POLYGON ((130301.248 456100.621, 130314.591 45...  \n",
       "3885  POLYGON ((130607.044 455121.579, 130987.916 45...  \n",
       "3886  POLYGON ((132114.247 455104.252, 132112.341 45...  \n",
       "3887  POLYGON ((133474.440 454019.594, 133541.053 45...  \n",
       "\n",
       "[111 rows x 11 columns]"
      ],
      "text/html": "<div>\n<style scoped>\n    .dataframe tbody tr th:only-of-type {\n        vertical-align: middle;\n    }\n\n    .dataframe tbody tr th {\n        vertical-align: top;\n    }\n\n    .dataframe thead th {\n        text-align: right;\n    }\n</style>\n<table border=\"1\" class=\"dataframe\">\n  <thead>\n    <tr style=\"text-align: right;\">\n      <th></th>\n      <th>BU_NAAM</th>\n      <th>GM_NAAM</th>\n      <th>BEV_DICHTH</th>\n      <th>AANT_INW</th>\n      <th>AANT_MAN</th>\n      <th>AANT_VROUW</th>\n      <th>AANTAL_HH</th>\n      <th>OPP_TOT</th>\n      <th>OPP_LAND</th>\n      <th>OPP_WATER</th>\n      <th>geometry</th>\n    </tr>\n  </thead>\n  <tbody>\n    <tr>\n      <th>3777</th>\n      <td>Welgelegen, Den Hommel</td>\n      <td>Utrecht</td>\n      <td>4078</td>\n      <td>1465</td>\n      <td>705</td>\n      <td>760</td>\n      <td>885</td>\n      <td>39</td>\n      <td>36</td>\n      <td>3</td>\n      <td>POLYGON ((135006.339 455419.888, 135197.876 45...</td>\n    </tr>\n    <tr>\n      <th>3778</th>\n      <td>Oog in Al</td>\n      <td>Utrecht</td>\n      <td>9859</td>\n      <td>4345</td>\n      <td>2165</td>\n      <td>2175</td>\n      <td>1535</td>\n      <td>47</td>\n      <td>44</td>\n      <td>3</td>\n      <td>POLYGON ((134605.713 455754.201, 134652.927 45...</td>\n    </tr>\n    <tr>\n      <th>3779</th>\n      <td>Halve Maan-Zuid</td>\n      <td>Utrecht</td>\n      <td>8148</td>\n      <td>1575</td>\n      <td>830</td>\n      <td>745</td>\n      <td>555</td>\n      <td>23</td>\n      <td>19</td>\n      <td>4</td>\n      <td>POLYGON ((134072.101 455635.056, 134074.419 45...</td>\n    </tr>\n    <tr>\n      <th>3780</th>\n      <td>Halve Maan-Noord</td>\n      <td>Utrecht</td>\n      <td>9336</td>\n      <td>1735</td>\n      <td>830</td>\n      <td>900</td>\n      <td>870</td>\n      <td>25</td>\n      <td>19</td>\n      <td>6</td>\n      <td>POLYGON ((133770.466 456647.956, 133786.743 45...</td>\n    </tr>\n    <tr>\n      <th>3781</th>\n      <td>Lombok-Oost</td>\n      <td>Utrecht</td>\n      <td>17630</td>\n      <td>2285</td>\n      <td>1110</td>\n      <td>1175</td>\n      <td>1470</td>\n      <td>13</td>\n      <td>13</td>\n      <td>0</td>\n      <td>POLYGON ((135822.953 456037.558, 135715.534 45...</td>\n    </tr>\n    <tr>\n      <th>...</th>\n      <td>...</td>\n      <td>...</td>\n      <td>...</td>\n      <td>...</td>\n      <td>...</td>\n      <td>...</td>\n      <td>...</td>\n      <td>...</td>\n      <td>...</td>\n      <td>...</td>\n      <td>...</td>\n    </tr>\n    <tr>\n      <th>3883</th>\n      <td>Veldhuizen</td>\n      <td>Utrecht</td>\n      <td>5631</td>\n      <td>9330</td>\n      <td>4635</td>\n      <td>4690</td>\n      <td>3460</td>\n      <td>189</td>\n      <td>166</td>\n      <td>23</td>\n      <td>POLYGON ((129692.900 455386.278, 129786.270 45...</td>\n    </tr>\n    <tr>\n      <th>3884</th>\n      <td>De Meern-Noord</td>\n      <td>Utrecht</td>\n      <td>3925</td>\n      <td>5735</td>\n      <td>2875</td>\n      <td>2860</td>\n      <td>2080</td>\n      <td>148</td>\n      <td>146</td>\n      <td>2</td>\n      <td>POLYGON ((130301.248 456100.621, 130314.591 45...</td>\n    </tr>\n    <tr>\n      <th>3885</th>\n      <td>De Meern-Zuid</td>\n      <td>Utrecht</td>\n      <td>1671</td>\n      <td>6425</td>\n      <td>3160</td>\n      <td>3260</td>\n      <td>2715</td>\n      <td>389</td>\n      <td>385</td>\n      <td>5</td>\n      <td>POLYGON ((130607.044 455121.579, 130987.916 45...</td>\n    </tr>\n    <tr>\n      <th>3886</th>\n      <td>Bedrijvengebied Oudenrijn</td>\n      <td>Utrecht</td>\n      <td>170</td>\n      <td>265</td>\n      <td>125</td>\n      <td>140</td>\n      <td>115</td>\n      <td>163</td>\n      <td>158</td>\n      <td>5</td>\n      <td>POLYGON ((132114.247 455104.252, 132112.341 45...</td>\n    </tr>\n    <tr>\n      <th>3887</th>\n      <td>Rijnenburg</td>\n      <td>Utrecht</td>\n      <td>24</td>\n      <td>245</td>\n      <td>135</td>\n      <td>110</td>\n      <td>110</td>\n      <td>1078</td>\n      <td>1030</td>\n      <td>48</td>\n      <td>POLYGON ((133474.440 454019.594, 133541.053 45...</td>\n    </tr>\n  </tbody>\n</table>\n<p>111 rows × 11 columns</p>\n</div>"
     },
     "metadata": {},
     "execution_count": 7
    }
   ],
   "source": [
    "neighborhoods = gpd.read_file(\"../data/external/WijkBuurtkaart_2020_v1/buurt_2020_v1.shp\")\n",
    "utrecht_neigh = neighborhoods[['BU_NAAM','GM_NAAM','BEV_DICHTH','AANT_INW', 'AANT_MAN', 'AANT_VROUW','AANTAL_HH','OPP_TOT', 'OPP_LAND', 'OPP_WATER','geometry']][neighborhoods[\"GM_NAAM\"]==\"Utrecht\"]\n",
    "utrecht_neigh"
   ]
  },
  {
   "cell_type": "code",
   "execution_count": 8,
   "metadata": {},
   "outputs": [],
   "source": [
    "utrecht_neigh[\"measurement_station\"] = utrecht_neigh.representative_point()"
   ]
  },
  {
   "cell_type": "code",
   "execution_count": 23,
   "metadata": {},
   "outputs": [
    {
     "output_type": "execute_result",
     "data": {
      "text/plain": [
       "                                   sensor air_quality_observed_id       lon  \\\n",
       "0        09a2bc7fefc3539bef267826fe1e6926                11571976  5.123448   \n",
       "1        09a2bc7fefc3539bef267826fe1e6926                11571978  5.124464   \n",
       "2        09a2bc7fefc3539bef267826fe1e6926                11571979  5.124338   \n",
       "3        09a2bc7fefc3539bef267826fe1e6926                11571981  5.124736   \n",
       "4        09a2bc7fefc3539bef267826fe1e6926                11572004  5.125147   \n",
       "...                                   ...                     ...       ...   \n",
       "2837482  cd6d213f6c78309cea4e0314896f7790                66818491  5.071970   \n",
       "2837483  cd6d213f6c78309cea4e0314896f7790                66818493  5.071960   \n",
       "2837484  cd6d213f6c78309cea4e0314896f7790                66818494  5.071953   \n",
       "2837485  cd6d213f6c78309cea4e0314896f7790                66818616  5.071949   \n",
       "2837486  cd6d213f6c78309cea4e0314896f7790                66818617  5.071879   \n",
       "\n",
       "               lat      recording_time  trip_sequence  humidity  pm2_5  \\\n",
       "0        52.105698 2019-05-27 13:01:24              5        35      2   \n",
       "1        52.105083 2019-05-27 13:01:46              5        35      2   \n",
       "2        52.105125 2019-05-27 13:02:08              5        35      2   \n",
       "3        52.104935 2019-05-27 13:02:41              5        34      3   \n",
       "4        52.104782 2019-05-27 13:04:09              5        34      2   \n",
       "...            ...                 ...            ...       ...    ...   \n",
       "2837482  52.075016 2021-04-30 14:02:22              6        63     14   \n",
       "2837483  52.075016 2021-04-30 14:02:33              6        63     15   \n",
       "2837484  52.075012 2021-04-30 14:02:44              6        63     16   \n",
       "2837485  52.075020 2021-04-30 14:02:56              6        63     17   \n",
       "2837486  52.075047 2021-04-30 14:03:07              6        63     19   \n",
       "\n",
       "         pressure  temperature  ...  GM_NAAM  BEV_DICHTH  AANT_INW AANT_MAN  \\\n",
       "0            1009         23.8  ...  Utrecht        9502      6945     3310   \n",
       "1            1009         23.9  ...  Utrecht        9502      6945     3310   \n",
       "2            1009         23.9  ...  Utrecht        9502      6945     3310   \n",
       "3            1009         23.9  ...  Utrecht        9502      6945     3310   \n",
       "4            1009         23.9  ...  Utrecht        9502      6945     3310   \n",
       "...           ...          ...  ...      ...         ...       ...      ...   \n",
       "2837482      1013         13.4  ...  Utrecht   -99999999         0        0   \n",
       "2837483      1013         13.4  ...  Utrecht   -99999999         0        0   \n",
       "2837484      1013         13.4  ...  Utrecht   -99999999         0        0   \n",
       "2837485      1013         13.4  ...  Utrecht   -99999999         0        0   \n",
       "2837486      1013         13.4  ...  Utrecht   -99999999         0        0   \n",
       "\n",
       "         AANT_VROUW  AANTAL_HH  OPP_TOT OPP_LAND  OPP_WATER  \\\n",
       "0              3630       3460       73       73          0   \n",
       "1              3630       3460       73       73          0   \n",
       "2              3630       3460       73       73          0   \n",
       "3              3630       3460       73       73          0   \n",
       "4              3630       3460       73       73          0   \n",
       "...             ...        ...      ...      ...        ...   \n",
       "2837482           0          0       67       66          1   \n",
       "2837483           0          0       67       66          1   \n",
       "2837484           0          0       67       66          1   \n",
       "2837485           0          0       67       66          1   \n",
       "2837486           0          0       67       66          1   \n",
       "\n",
       "                   measurement_station  \n",
       "0        POINT (137067.024 457765.391)  \n",
       "1        POINT (137067.024 457765.391)  \n",
       "2        POINT (137067.024 457765.391)  \n",
       "3        POINT (137067.024 457765.391)  \n",
       "4        POINT (137067.024 457765.391)  \n",
       "...                                ...  \n",
       "2837482  POINT (132832.224 453952.313)  \n",
       "2837483  POINT (132832.224 453952.313)  \n",
       "2837484  POINT (132832.224 453952.313)  \n",
       "2837485  POINT (132832.224 453952.313)  \n",
       "2837486  POINT (132832.224 453952.313)  \n",
       "\n",
       "[2838176 rows x 31 columns]"
      ],
      "text/html": "<div>\n<style scoped>\n    .dataframe tbody tr th:only-of-type {\n        vertical-align: middle;\n    }\n\n    .dataframe tbody tr th {\n        vertical-align: top;\n    }\n\n    .dataframe thead th {\n        text-align: right;\n    }\n</style>\n<table border=\"1\" class=\"dataframe\">\n  <thead>\n    <tr style=\"text-align: right;\">\n      <th></th>\n      <th>sensor</th>\n      <th>air_quality_observed_id</th>\n      <th>lon</th>\n      <th>lat</th>\n      <th>recording_time</th>\n      <th>trip_sequence</th>\n      <th>humidity</th>\n      <th>pm2_5</th>\n      <th>pressure</th>\n      <th>temperature</th>\n      <th>...</th>\n      <th>GM_NAAM</th>\n      <th>BEV_DICHTH</th>\n      <th>AANT_INW</th>\n      <th>AANT_MAN</th>\n      <th>AANT_VROUW</th>\n      <th>AANTAL_HH</th>\n      <th>OPP_TOT</th>\n      <th>OPP_LAND</th>\n      <th>OPP_WATER</th>\n      <th>measurement_station</th>\n    </tr>\n  </thead>\n  <tbody>\n    <tr>\n      <th>0</th>\n      <td>09a2bc7fefc3539bef267826fe1e6926</td>\n      <td>11571976</td>\n      <td>5.123448</td>\n      <td>52.105698</td>\n      <td>2019-05-27 13:01:24</td>\n      <td>5</td>\n      <td>35</td>\n      <td>2</td>\n      <td>1009</td>\n      <td>23.8</td>\n      <td>...</td>\n      <td>Utrecht</td>\n      <td>9502</td>\n      <td>6945</td>\n      <td>3310</td>\n      <td>3630</td>\n      <td>3460</td>\n      <td>73</td>\n      <td>73</td>\n      <td>0</td>\n      <td>POINT (137067.024 457765.391)</td>\n    </tr>\n    <tr>\n      <th>1</th>\n      <td>09a2bc7fefc3539bef267826fe1e6926</td>\n      <td>11571978</td>\n      <td>5.124464</td>\n      <td>52.105083</td>\n      <td>2019-05-27 13:01:46</td>\n      <td>5</td>\n      <td>35</td>\n      <td>2</td>\n      <td>1009</td>\n      <td>23.9</td>\n      <td>...</td>\n      <td>Utrecht</td>\n      <td>9502</td>\n      <td>6945</td>\n      <td>3310</td>\n      <td>3630</td>\n      <td>3460</td>\n      <td>73</td>\n      <td>73</td>\n      <td>0</td>\n      <td>POINT (137067.024 457765.391)</td>\n    </tr>\n    <tr>\n      <th>2</th>\n      <td>09a2bc7fefc3539bef267826fe1e6926</td>\n      <td>11571979</td>\n      <td>5.124338</td>\n      <td>52.105125</td>\n      <td>2019-05-27 13:02:08</td>\n      <td>5</td>\n      <td>35</td>\n      <td>2</td>\n      <td>1009</td>\n      <td>23.9</td>\n      <td>...</td>\n      <td>Utrecht</td>\n      <td>9502</td>\n      <td>6945</td>\n      <td>3310</td>\n      <td>3630</td>\n      <td>3460</td>\n      <td>73</td>\n      <td>73</td>\n      <td>0</td>\n      <td>POINT (137067.024 457765.391)</td>\n    </tr>\n    <tr>\n      <th>3</th>\n      <td>09a2bc7fefc3539bef267826fe1e6926</td>\n      <td>11571981</td>\n      <td>5.124736</td>\n      <td>52.104935</td>\n      <td>2019-05-27 13:02:41</td>\n      <td>5</td>\n      <td>34</td>\n      <td>3</td>\n      <td>1009</td>\n      <td>23.9</td>\n      <td>...</td>\n      <td>Utrecht</td>\n      <td>9502</td>\n      <td>6945</td>\n      <td>3310</td>\n      <td>3630</td>\n      <td>3460</td>\n      <td>73</td>\n      <td>73</td>\n      <td>0</td>\n      <td>POINT (137067.024 457765.391)</td>\n    </tr>\n    <tr>\n      <th>4</th>\n      <td>09a2bc7fefc3539bef267826fe1e6926</td>\n      <td>11572004</td>\n      <td>5.125147</td>\n      <td>52.104782</td>\n      <td>2019-05-27 13:04:09</td>\n      <td>5</td>\n      <td>34</td>\n      <td>2</td>\n      <td>1009</td>\n      <td>23.9</td>\n      <td>...</td>\n      <td>Utrecht</td>\n      <td>9502</td>\n      <td>6945</td>\n      <td>3310</td>\n      <td>3630</td>\n      <td>3460</td>\n      <td>73</td>\n      <td>73</td>\n      <td>0</td>\n      <td>POINT (137067.024 457765.391)</td>\n    </tr>\n    <tr>\n      <th>...</th>\n      <td>...</td>\n      <td>...</td>\n      <td>...</td>\n      <td>...</td>\n      <td>...</td>\n      <td>...</td>\n      <td>...</td>\n      <td>...</td>\n      <td>...</td>\n      <td>...</td>\n      <td>...</td>\n      <td>...</td>\n      <td>...</td>\n      <td>...</td>\n      <td>...</td>\n      <td>...</td>\n      <td>...</td>\n      <td>...</td>\n      <td>...</td>\n      <td>...</td>\n      <td>...</td>\n    </tr>\n    <tr>\n      <th>2837482</th>\n      <td>cd6d213f6c78309cea4e0314896f7790</td>\n      <td>66818491</td>\n      <td>5.071970</td>\n      <td>52.075016</td>\n      <td>2021-04-30 14:02:22</td>\n      <td>6</td>\n      <td>63</td>\n      <td>14</td>\n      <td>1013</td>\n      <td>13.4</td>\n      <td>...</td>\n      <td>Utrecht</td>\n      <td>-99999999</td>\n      <td>0</td>\n      <td>0</td>\n      <td>0</td>\n      <td>0</td>\n      <td>67</td>\n      <td>66</td>\n      <td>1</td>\n      <td>POINT (132832.224 453952.313)</td>\n    </tr>\n    <tr>\n      <th>2837483</th>\n      <td>cd6d213f6c78309cea4e0314896f7790</td>\n      <td>66818493</td>\n      <td>5.071960</td>\n      <td>52.075016</td>\n      <td>2021-04-30 14:02:33</td>\n      <td>6</td>\n      <td>63</td>\n      <td>15</td>\n      <td>1013</td>\n      <td>13.4</td>\n      <td>...</td>\n      <td>Utrecht</td>\n      <td>-99999999</td>\n      <td>0</td>\n      <td>0</td>\n      <td>0</td>\n      <td>0</td>\n      <td>67</td>\n      <td>66</td>\n      <td>1</td>\n      <td>POINT (132832.224 453952.313)</td>\n    </tr>\n    <tr>\n      <th>2837484</th>\n      <td>cd6d213f6c78309cea4e0314896f7790</td>\n      <td>66818494</td>\n      <td>5.071953</td>\n      <td>52.075012</td>\n      <td>2021-04-30 14:02:44</td>\n      <td>6</td>\n      <td>63</td>\n      <td>16</td>\n      <td>1013</td>\n      <td>13.4</td>\n      <td>...</td>\n      <td>Utrecht</td>\n      <td>-99999999</td>\n      <td>0</td>\n      <td>0</td>\n      <td>0</td>\n      <td>0</td>\n      <td>67</td>\n      <td>66</td>\n      <td>1</td>\n      <td>POINT (132832.224 453952.313)</td>\n    </tr>\n    <tr>\n      <th>2837485</th>\n      <td>cd6d213f6c78309cea4e0314896f7790</td>\n      <td>66818616</td>\n      <td>5.071949</td>\n      <td>52.075020</td>\n      <td>2021-04-30 14:02:56</td>\n      <td>6</td>\n      <td>63</td>\n      <td>17</td>\n      <td>1013</td>\n      <td>13.4</td>\n      <td>...</td>\n      <td>Utrecht</td>\n      <td>-99999999</td>\n      <td>0</td>\n      <td>0</td>\n      <td>0</td>\n      <td>0</td>\n      <td>67</td>\n      <td>66</td>\n      <td>1</td>\n      <td>POINT (132832.224 453952.313)</td>\n    </tr>\n    <tr>\n      <th>2837486</th>\n      <td>cd6d213f6c78309cea4e0314896f7790</td>\n      <td>66818617</td>\n      <td>5.071879</td>\n      <td>52.075047</td>\n      <td>2021-04-30 14:03:07</td>\n      <td>6</td>\n      <td>63</td>\n      <td>19</td>\n      <td>1013</td>\n      <td>13.4</td>\n      <td>...</td>\n      <td>Utrecht</td>\n      <td>-99999999</td>\n      <td>0</td>\n      <td>0</td>\n      <td>0</td>\n      <td>0</td>\n      <td>67</td>\n      <td>66</td>\n      <td>1</td>\n      <td>POINT (132832.224 453952.313)</td>\n    </tr>\n  </tbody>\n</table>\n<p>2838176 rows × 31 columns</p>\n</div>"
     },
     "metadata": {},
     "execution_count": 23
    }
   ],
   "source": [
    "geo_df = gpd.GeoDataFrame(frame, geometry=gpd.points_from_xy(frame['lon'],frame['lat'], crs=\"EPSG:4326\"))\n",
    "geo_df = geo_df.to_crs(\"EPSG:28992\")\n",
    "geo_df = geo_df.drop(['index_right'], axis=1)\n",
    "geo_df = gpd.sjoin(geo_df, utrecht_neigh, how=\"inner\", op='within')\n",
    "\n",
    "geo_df"
   ]
  },
  {
   "cell_type": "code",
   "execution_count": 25,
   "metadata": {},
   "outputs": [],
   "source": [
    "weeks_neigh = geo_df.groupby([\"year\",\"month\",\"week\",\"day_of_week\",\"BU_NAAM\"]).count()"
   ]
  },
  {
   "cell_type": "code",
   "execution_count": 27,
   "metadata": {},
   "outputs": [],
   "source": [
    "test = weeks_neigh.sort_values(by=\"pm2_5\", ascending=False).head(50).reset_index()"
   ]
  },
  {
   "cell_type": "code",
   "execution_count": 29,
   "metadata": {},
   "outputs": [
    {
     "output_type": "execute_result",
     "data": {
      "text/plain": [
       "                             BU_NAAM  sensor  air_quality_observed_id  lon  \\\n",
       "year month week day_of_week                                                  \n",
       "2019 12    51   3                  4       4                        4    4   \n",
       "2020 1     2    1                  3       3                        3    3   \n",
       "2019 12    50   3                  2       2                        2    2   \n",
       "2020 1     4    3                  2       2                        2    2   \n",
       "                1                  2       2                        2    2   \n",
       "           3    3                  2       2                        2    2   \n",
       "           2    0                  2       2                        2    2   \n",
       "     12    49   6                  2       2                        2    2   \n",
       "2019 11    47   3                  2       2                        2    2   \n",
       "           48   0                  1       1                        1    1   \n",
       "     6     24   3                  1       1                        1    1   \n",
       "2020 7     29   3                  1       1                        1    1   \n",
       "           28   2                  1       1                        1    1   \n",
       "     5     21   0                  1       1                        1    1   \n",
       "           20   1                  1       1                        1    1   \n",
       "           19   4                  1       1                        1    1   \n",
       "     3     10   4                  1       1                        1    1   \n",
       "     2     8    3                  1       1                        1    1   \n",
       "           7    5                  1       1                        1    1   \n",
       "                3                  1       1                        1    1   \n",
       "           6    3                  1       1                        1    1   \n",
       "                2                  1       1                        1    1   \n",
       "2019 6     24   1                  1       1                        1    1   \n",
       "     10    41   0                  1       1                        1    1   \n",
       "     11    48   2                  1       1                        1    1   \n",
       "2020 1     3    2                  1       1                        1    1   \n",
       "                0                  1       1                        1    1   \n",
       "           2    2                  1       1                        1    1   \n",
       "2019 6     24   0                  1       1                        1    1   \n",
       "     11    45   3                  1       1                        1    1   \n",
       "           46   4                  1       1                        1    1   \n",
       "     12    51   2                  1       1                        1    1   \n",
       "                1                  1       1                        1    1   \n",
       "                0                  1       1                        1    1   \n",
       "           50   2                  1       1                        1    1   \n",
       "           49   4                  1       1                        1    1   \n",
       "                1                  1       1                        1    1   \n",
       "     5     22   0                  1       1                        1    1   \n",
       "\n",
       "                             lat  recording_time  trip_sequence  humidity  \\\n",
       "year month week day_of_week                                                 \n",
       "2019 12    51   3              4               4              4         4   \n",
       "2020 1     2    1              3               3              3         3   \n",
       "2019 12    50   3              2               2              2         2   \n",
       "2020 1     4    3              2               2              2         2   \n",
       "                1              2               2              2         2   \n",
       "           3    3              2               2              2         2   \n",
       "           2    0              2               2              2         2   \n",
       "     12    49   6              2               2              2         2   \n",
       "2019 11    47   3              2               2              2         2   \n",
       "           48   0              1               1              1         1   \n",
       "     6     24   3              1               1              1         1   \n",
       "2020 7     29   3              1               1              1         1   \n",
       "           28   2              1               1              1         1   \n",
       "     5     21   0              1               1              1         1   \n",
       "           20   1              1               1              1         1   \n",
       "           19   4              1               1              1         1   \n",
       "     3     10   4              1               1              1         1   \n",
       "     2     8    3              1               1              1         1   \n",
       "           7    5              1               1              1         1   \n",
       "                3              1               1              1         1   \n",
       "           6    3              1               1              1         1   \n",
       "                2              1               1              1         1   \n",
       "2019 6     24   1              1               1              1         1   \n",
       "     10    41   0              1               1              1         1   \n",
       "     11    48   2              1               1              1         1   \n",
       "2020 1     3    2              1               1              1         1   \n",
       "                0              1               1              1         1   \n",
       "           2    2              1               1              1         1   \n",
       "2019 6     24   0              1               1              1         1   \n",
       "     11    45   3              1               1              1         1   \n",
       "           46   4              1               1              1         1   \n",
       "     12    51   2              1               1              1         1   \n",
       "                1              1               1              1         1   \n",
       "                0              1               1              1         1   \n",
       "           50   2              1               1              1         1   \n",
       "           49   4              1               1              1         1   \n",
       "                1              1               1              1         1   \n",
       "     5     22   0              1               1              1         1   \n",
       "\n",
       "                             pm2_5  pressure  ...  GM_NAAM  BEV_DICHTH  \\\n",
       "year month week day_of_week                   ...                        \n",
       "2019 12    51   3                4         4  ...        4           4   \n",
       "2020 1     2    1                3         3  ...        3           3   \n",
       "2019 12    50   3                2         2  ...        2           2   \n",
       "2020 1     4    3                2         2  ...        2           2   \n",
       "                1                2         2  ...        2           2   \n",
       "           3    3                2         2  ...        2           2   \n",
       "           2    0                2         2  ...        2           2   \n",
       "     12    49   6                2         2  ...        2           2   \n",
       "2019 11    47   3                2         2  ...        2           2   \n",
       "           48   0                1         1  ...        1           1   \n",
       "     6     24   3                1         1  ...        1           1   \n",
       "2020 7     29   3                1         1  ...        1           1   \n",
       "           28   2                1         1  ...        1           1   \n",
       "     5     21   0                1         1  ...        1           1   \n",
       "           20   1                1         1  ...        1           1   \n",
       "           19   4                1         1  ...        1           1   \n",
       "     3     10   4                1         1  ...        1           1   \n",
       "     2     8    3                1         1  ...        1           1   \n",
       "           7    5                1         1  ...        1           1   \n",
       "                3                1         1  ...        1           1   \n",
       "           6    3                1         1  ...        1           1   \n",
       "                2                1         1  ...        1           1   \n",
       "2019 6     24   1                1         1  ...        1           1   \n",
       "     10    41   0                1         1  ...        1           1   \n",
       "     11    48   2                1         1  ...        1           1   \n",
       "2020 1     3    2                1         1  ...        1           1   \n",
       "                0                1         1  ...        1           1   \n",
       "           2    2                1         1  ...        1           1   \n",
       "2019 6     24   0                1         1  ...        1           1   \n",
       "     11    45   3                1         1  ...        1           1   \n",
       "           46   4                1         1  ...        1           1   \n",
       "     12    51   2                1         1  ...        1           1   \n",
       "                1                1         1  ...        1           1   \n",
       "                0                1         1  ...        1           1   \n",
       "           50   2                1         1  ...        1           1   \n",
       "           49   4                1         1  ...        1           1   \n",
       "                1                1         1  ...        1           1   \n",
       "     5     22   0                1         1  ...        1           1   \n",
       "\n",
       "                             AANT_INW  AANT_MAN  AANT_VROUW  AANTAL_HH  \\\n",
       "year month week day_of_week                                              \n",
       "2019 12    51   3                   4         4           4          4   \n",
       "2020 1     2    1                   3         3           3          3   \n",
       "2019 12    50   3                   2         2           2          2   \n",
       "2020 1     4    3                   2         2           2          2   \n",
       "                1                   2         2           2          2   \n",
       "           3    3                   2         2           2          2   \n",
       "           2    0                   2         2           2          2   \n",
       "     12    49   6                   2         2           2          2   \n",
       "2019 11    47   3                   2         2           2          2   \n",
       "           48   0                   1         1           1          1   \n",
       "     6     24   3                   1         1           1          1   \n",
       "2020 7     29   3                   1         1           1          1   \n",
       "           28   2                   1         1           1          1   \n",
       "     5     21   0                   1         1           1          1   \n",
       "           20   1                   1         1           1          1   \n",
       "           19   4                   1         1           1          1   \n",
       "     3     10   4                   1         1           1          1   \n",
       "     2     8    3                   1         1           1          1   \n",
       "           7    5                   1         1           1          1   \n",
       "                3                   1         1           1          1   \n",
       "           6    3                   1         1           1          1   \n",
       "                2                   1         1           1          1   \n",
       "2019 6     24   1                   1         1           1          1   \n",
       "     10    41   0                   1         1           1          1   \n",
       "     11    48   2                   1         1           1          1   \n",
       "2020 1     3    2                   1         1           1          1   \n",
       "                0                   1         1           1          1   \n",
       "           2    2                   1         1           1          1   \n",
       "2019 6     24   0                   1         1           1          1   \n",
       "     11    45   3                   1         1           1          1   \n",
       "           46   4                   1         1           1          1   \n",
       "     12    51   2                   1         1           1          1   \n",
       "                1                   1         1           1          1   \n",
       "                0                   1         1           1          1   \n",
       "           50   2                   1         1           1          1   \n",
       "           49   4                   1         1           1          1   \n",
       "                1                   1         1           1          1   \n",
       "     5     22   0                   1         1           1          1   \n",
       "\n",
       "                             OPP_TOT  OPP_LAND  OPP_WATER  measurement_station  \n",
       "year month week day_of_week                                                     \n",
       "2019 12    51   3                  4         4          4                    4  \n",
       "2020 1     2    1                  3         3          3                    3  \n",
       "2019 12    50   3                  2         2          2                    2  \n",
       "2020 1     4    3                  2         2          2                    2  \n",
       "                1                  2         2          2                    2  \n",
       "           3    3                  2         2          2                    2  \n",
       "           2    0                  2         2          2                    2  \n",
       "     12    49   6                  2         2          2                    2  \n",
       "2019 11    47   3                  2         2          2                    2  \n",
       "           48   0                  1         1          1                    1  \n",
       "     6     24   3                  1         1          1                    1  \n",
       "2020 7     29   3                  1         1          1                    1  \n",
       "           28   2                  1         1          1                    1  \n",
       "     5     21   0                  1         1          1                    1  \n",
       "           20   1                  1         1          1                    1  \n",
       "           19   4                  1         1          1                    1  \n",
       "     3     10   4                  1         1          1                    1  \n",
       "     2     8    3                  1         1          1                    1  \n",
       "           7    5                  1         1          1                    1  \n",
       "                3                  1         1          1                    1  \n",
       "           6    3                  1         1          1                    1  \n",
       "                2                  1         1          1                    1  \n",
       "2019 6     24   1                  1         1          1                    1  \n",
       "     10    41   0                  1         1          1                    1  \n",
       "     11    48   2                  1         1          1                    1  \n",
       "2020 1     3    2                  1         1          1                    1  \n",
       "                0                  1         1          1                    1  \n",
       "           2    2                  1         1          1                    1  \n",
       "2019 6     24   0                  1         1          1                    1  \n",
       "     11    45   3                  1         1          1                    1  \n",
       "           46   4                  1         1          1                    1  \n",
       "     12    51   2                  1         1          1                    1  \n",
       "                1                  1         1          1                    1  \n",
       "                0                  1         1          1                    1  \n",
       "           50   2                  1         1          1                    1  \n",
       "           49   4                  1         1          1                    1  \n",
       "                1                  1         1          1                    1  \n",
       "     5     22   0                  1         1          1                    1  \n",
       "\n",
       "[38 rows x 27 columns]"
      ],
      "text/html": "<div>\n<style scoped>\n    .dataframe tbody tr th:only-of-type {\n        vertical-align: middle;\n    }\n\n    .dataframe tbody tr th {\n        vertical-align: top;\n    }\n\n    .dataframe thead th {\n        text-align: right;\n    }\n</style>\n<table border=\"1\" class=\"dataframe\">\n  <thead>\n    <tr style=\"text-align: right;\">\n      <th></th>\n      <th></th>\n      <th></th>\n      <th></th>\n      <th>BU_NAAM</th>\n      <th>sensor</th>\n      <th>air_quality_observed_id</th>\n      <th>lon</th>\n      <th>lat</th>\n      <th>recording_time</th>\n      <th>trip_sequence</th>\n      <th>humidity</th>\n      <th>pm2_5</th>\n      <th>pressure</th>\n      <th>...</th>\n      <th>GM_NAAM</th>\n      <th>BEV_DICHTH</th>\n      <th>AANT_INW</th>\n      <th>AANT_MAN</th>\n      <th>AANT_VROUW</th>\n      <th>AANTAL_HH</th>\n      <th>OPP_TOT</th>\n      <th>OPP_LAND</th>\n      <th>OPP_WATER</th>\n      <th>measurement_station</th>\n    </tr>\n    <tr>\n      <th>year</th>\n      <th>month</th>\n      <th>week</th>\n      <th>day_of_week</th>\n      <th></th>\n      <th></th>\n      <th></th>\n      <th></th>\n      <th></th>\n      <th></th>\n      <th></th>\n      <th></th>\n      <th></th>\n      <th></th>\n      <th></th>\n      <th></th>\n      <th></th>\n      <th></th>\n      <th></th>\n      <th></th>\n      <th></th>\n      <th></th>\n      <th></th>\n      <th></th>\n      <th></th>\n    </tr>\n  </thead>\n  <tbody>\n    <tr>\n      <th>2019</th>\n      <th>12</th>\n      <th>51</th>\n      <th>3</th>\n      <td>4</td>\n      <td>4</td>\n      <td>4</td>\n      <td>4</td>\n      <td>4</td>\n      <td>4</td>\n      <td>4</td>\n      <td>4</td>\n      <td>4</td>\n      <td>4</td>\n      <td>...</td>\n      <td>4</td>\n      <td>4</td>\n      <td>4</td>\n      <td>4</td>\n      <td>4</td>\n      <td>4</td>\n      <td>4</td>\n      <td>4</td>\n      <td>4</td>\n      <td>4</td>\n    </tr>\n    <tr>\n      <th>2020</th>\n      <th>1</th>\n      <th>2</th>\n      <th>1</th>\n      <td>3</td>\n      <td>3</td>\n      <td>3</td>\n      <td>3</td>\n      <td>3</td>\n      <td>3</td>\n      <td>3</td>\n      <td>3</td>\n      <td>3</td>\n      <td>3</td>\n      <td>...</td>\n      <td>3</td>\n      <td>3</td>\n      <td>3</td>\n      <td>3</td>\n      <td>3</td>\n      <td>3</td>\n      <td>3</td>\n      <td>3</td>\n      <td>3</td>\n      <td>3</td>\n    </tr>\n    <tr>\n      <th>2019</th>\n      <th>12</th>\n      <th>50</th>\n      <th>3</th>\n      <td>2</td>\n      <td>2</td>\n      <td>2</td>\n      <td>2</td>\n      <td>2</td>\n      <td>2</td>\n      <td>2</td>\n      <td>2</td>\n      <td>2</td>\n      <td>2</td>\n      <td>...</td>\n      <td>2</td>\n      <td>2</td>\n      <td>2</td>\n      <td>2</td>\n      <td>2</td>\n      <td>2</td>\n      <td>2</td>\n      <td>2</td>\n      <td>2</td>\n      <td>2</td>\n    </tr>\n    <tr>\n      <th rowspan=\"5\" valign=\"top\">2020</th>\n      <th rowspan=\"4\" valign=\"top\">1</th>\n      <th rowspan=\"2\" valign=\"top\">4</th>\n      <th>3</th>\n      <td>2</td>\n      <td>2</td>\n      <td>2</td>\n      <td>2</td>\n      <td>2</td>\n      <td>2</td>\n      <td>2</td>\n      <td>2</td>\n      <td>2</td>\n      <td>2</td>\n      <td>...</td>\n      <td>2</td>\n      <td>2</td>\n      <td>2</td>\n      <td>2</td>\n      <td>2</td>\n      <td>2</td>\n      <td>2</td>\n      <td>2</td>\n      <td>2</td>\n      <td>2</td>\n    </tr>\n    <tr>\n      <th>1</th>\n      <td>2</td>\n      <td>2</td>\n      <td>2</td>\n      <td>2</td>\n      <td>2</td>\n      <td>2</td>\n      <td>2</td>\n      <td>2</td>\n      <td>2</td>\n      <td>2</td>\n      <td>...</td>\n      <td>2</td>\n      <td>2</td>\n      <td>2</td>\n      <td>2</td>\n      <td>2</td>\n      <td>2</td>\n      <td>2</td>\n      <td>2</td>\n      <td>2</td>\n      <td>2</td>\n    </tr>\n    <tr>\n      <th>3</th>\n      <th>3</th>\n      <td>2</td>\n      <td>2</td>\n      <td>2</td>\n      <td>2</td>\n      <td>2</td>\n      <td>2</td>\n      <td>2</td>\n      <td>2</td>\n      <td>2</td>\n      <td>2</td>\n      <td>...</td>\n      <td>2</td>\n      <td>2</td>\n      <td>2</td>\n      <td>2</td>\n      <td>2</td>\n      <td>2</td>\n      <td>2</td>\n      <td>2</td>\n      <td>2</td>\n      <td>2</td>\n    </tr>\n    <tr>\n      <th>2</th>\n      <th>0</th>\n      <td>2</td>\n      <td>2</td>\n      <td>2</td>\n      <td>2</td>\n      <td>2</td>\n      <td>2</td>\n      <td>2</td>\n      <td>2</td>\n      <td>2</td>\n      <td>2</td>\n      <td>...</td>\n      <td>2</td>\n      <td>2</td>\n      <td>2</td>\n      <td>2</td>\n      <td>2</td>\n      <td>2</td>\n      <td>2</td>\n      <td>2</td>\n      <td>2</td>\n      <td>2</td>\n    </tr>\n    <tr>\n      <th>12</th>\n      <th>49</th>\n      <th>6</th>\n      <td>2</td>\n      <td>2</td>\n      <td>2</td>\n      <td>2</td>\n      <td>2</td>\n      <td>2</td>\n      <td>2</td>\n      <td>2</td>\n      <td>2</td>\n      <td>2</td>\n      <td>...</td>\n      <td>2</td>\n      <td>2</td>\n      <td>2</td>\n      <td>2</td>\n      <td>2</td>\n      <td>2</td>\n      <td>2</td>\n      <td>2</td>\n      <td>2</td>\n      <td>2</td>\n    </tr>\n    <tr>\n      <th rowspan=\"3\" valign=\"top\">2019</th>\n      <th rowspan=\"2\" valign=\"top\">11</th>\n      <th>47</th>\n      <th>3</th>\n      <td>2</td>\n      <td>2</td>\n      <td>2</td>\n      <td>2</td>\n      <td>2</td>\n      <td>2</td>\n      <td>2</td>\n      <td>2</td>\n      <td>2</td>\n      <td>2</td>\n      <td>...</td>\n      <td>2</td>\n      <td>2</td>\n      <td>2</td>\n      <td>2</td>\n      <td>2</td>\n      <td>2</td>\n      <td>2</td>\n      <td>2</td>\n      <td>2</td>\n      <td>2</td>\n    </tr>\n    <tr>\n      <th>48</th>\n      <th>0</th>\n      <td>1</td>\n      <td>1</td>\n      <td>1</td>\n      <td>1</td>\n      <td>1</td>\n      <td>1</td>\n      <td>1</td>\n      <td>1</td>\n      <td>1</td>\n      <td>1</td>\n      <td>...</td>\n      <td>1</td>\n      <td>1</td>\n      <td>1</td>\n      <td>1</td>\n      <td>1</td>\n      <td>1</td>\n      <td>1</td>\n      <td>1</td>\n      <td>1</td>\n      <td>1</td>\n    </tr>\n    <tr>\n      <th>6</th>\n      <th>24</th>\n      <th>3</th>\n      <td>1</td>\n      <td>1</td>\n      <td>1</td>\n      <td>1</td>\n      <td>1</td>\n      <td>1</td>\n      <td>1</td>\n      <td>1</td>\n      <td>1</td>\n      <td>1</td>\n      <td>...</td>\n      <td>1</td>\n      <td>1</td>\n      <td>1</td>\n      <td>1</td>\n      <td>1</td>\n      <td>1</td>\n      <td>1</td>\n      <td>1</td>\n      <td>1</td>\n      <td>1</td>\n    </tr>\n    <tr>\n      <th rowspan=\"11\" valign=\"top\">2020</th>\n      <th rowspan=\"2\" valign=\"top\">7</th>\n      <th>29</th>\n      <th>3</th>\n      <td>1</td>\n      <td>1</td>\n      <td>1</td>\n      <td>1</td>\n      <td>1</td>\n      <td>1</td>\n      <td>1</td>\n      <td>1</td>\n      <td>1</td>\n      <td>1</td>\n      <td>...</td>\n      <td>1</td>\n      <td>1</td>\n      <td>1</td>\n      <td>1</td>\n      <td>1</td>\n      <td>1</td>\n      <td>1</td>\n      <td>1</td>\n      <td>1</td>\n      <td>1</td>\n    </tr>\n    <tr>\n      <th>28</th>\n      <th>2</th>\n      <td>1</td>\n      <td>1</td>\n      <td>1</td>\n      <td>1</td>\n      <td>1</td>\n      <td>1</td>\n      <td>1</td>\n      <td>1</td>\n      <td>1</td>\n      <td>1</td>\n      <td>...</td>\n      <td>1</td>\n      <td>1</td>\n      <td>1</td>\n      <td>1</td>\n      <td>1</td>\n      <td>1</td>\n      <td>1</td>\n      <td>1</td>\n      <td>1</td>\n      <td>1</td>\n    </tr>\n    <tr>\n      <th rowspan=\"3\" valign=\"top\">5</th>\n      <th>21</th>\n      <th>0</th>\n      <td>1</td>\n      <td>1</td>\n      <td>1</td>\n      <td>1</td>\n      <td>1</td>\n      <td>1</td>\n      <td>1</td>\n      <td>1</td>\n      <td>1</td>\n      <td>1</td>\n      <td>...</td>\n      <td>1</td>\n      <td>1</td>\n      <td>1</td>\n      <td>1</td>\n      <td>1</td>\n      <td>1</td>\n      <td>1</td>\n      <td>1</td>\n      <td>1</td>\n      <td>1</td>\n    </tr>\n    <tr>\n      <th>20</th>\n      <th>1</th>\n      <td>1</td>\n      <td>1</td>\n      <td>1</td>\n      <td>1</td>\n      <td>1</td>\n      <td>1</td>\n      <td>1</td>\n      <td>1</td>\n      <td>1</td>\n      <td>1</td>\n      <td>...</td>\n      <td>1</td>\n      <td>1</td>\n      <td>1</td>\n      <td>1</td>\n      <td>1</td>\n      <td>1</td>\n      <td>1</td>\n      <td>1</td>\n      <td>1</td>\n      <td>1</td>\n    </tr>\n    <tr>\n      <th>19</th>\n      <th>4</th>\n      <td>1</td>\n      <td>1</td>\n      <td>1</td>\n      <td>1</td>\n      <td>1</td>\n      <td>1</td>\n      <td>1</td>\n      <td>1</td>\n      <td>1</td>\n      <td>1</td>\n      <td>...</td>\n      <td>1</td>\n      <td>1</td>\n      <td>1</td>\n      <td>1</td>\n      <td>1</td>\n      <td>1</td>\n      <td>1</td>\n      <td>1</td>\n      <td>1</td>\n      <td>1</td>\n    </tr>\n    <tr>\n      <th>3</th>\n      <th>10</th>\n      <th>4</th>\n      <td>1</td>\n      <td>1</td>\n      <td>1</td>\n      <td>1</td>\n      <td>1</td>\n      <td>1</td>\n      <td>1</td>\n      <td>1</td>\n      <td>1</td>\n      <td>1</td>\n      <td>...</td>\n      <td>1</td>\n      <td>1</td>\n      <td>1</td>\n      <td>1</td>\n      <td>1</td>\n      <td>1</td>\n      <td>1</td>\n      <td>1</td>\n      <td>1</td>\n      <td>1</td>\n    </tr>\n    <tr>\n      <th rowspan=\"5\" valign=\"top\">2</th>\n      <th>8</th>\n      <th>3</th>\n      <td>1</td>\n      <td>1</td>\n      <td>1</td>\n      <td>1</td>\n      <td>1</td>\n      <td>1</td>\n      <td>1</td>\n      <td>1</td>\n      <td>1</td>\n      <td>1</td>\n      <td>...</td>\n      <td>1</td>\n      <td>1</td>\n      <td>1</td>\n      <td>1</td>\n      <td>1</td>\n      <td>1</td>\n      <td>1</td>\n      <td>1</td>\n      <td>1</td>\n      <td>1</td>\n    </tr>\n    <tr>\n      <th rowspan=\"2\" valign=\"top\">7</th>\n      <th>5</th>\n      <td>1</td>\n      <td>1</td>\n      <td>1</td>\n      <td>1</td>\n      <td>1</td>\n      <td>1</td>\n      <td>1</td>\n      <td>1</td>\n      <td>1</td>\n      <td>1</td>\n      <td>...</td>\n      <td>1</td>\n      <td>1</td>\n      <td>1</td>\n      <td>1</td>\n      <td>1</td>\n      <td>1</td>\n      <td>1</td>\n      <td>1</td>\n      <td>1</td>\n      <td>1</td>\n    </tr>\n    <tr>\n      <th>3</th>\n      <td>1</td>\n      <td>1</td>\n      <td>1</td>\n      <td>1</td>\n      <td>1</td>\n      <td>1</td>\n      <td>1</td>\n      <td>1</td>\n      <td>1</td>\n      <td>1</td>\n      <td>...</td>\n      <td>1</td>\n      <td>1</td>\n      <td>1</td>\n      <td>1</td>\n      <td>1</td>\n      <td>1</td>\n      <td>1</td>\n      <td>1</td>\n      <td>1</td>\n      <td>1</td>\n    </tr>\n    <tr>\n      <th rowspan=\"2\" valign=\"top\">6</th>\n      <th>3</th>\n      <td>1</td>\n      <td>1</td>\n      <td>1</td>\n      <td>1</td>\n      <td>1</td>\n      <td>1</td>\n      <td>1</td>\n      <td>1</td>\n      <td>1</td>\n      <td>1</td>\n      <td>...</td>\n      <td>1</td>\n      <td>1</td>\n      <td>1</td>\n      <td>1</td>\n      <td>1</td>\n      <td>1</td>\n      <td>1</td>\n      <td>1</td>\n      <td>1</td>\n      <td>1</td>\n    </tr>\n    <tr>\n      <th>2</th>\n      <td>1</td>\n      <td>1</td>\n      <td>1</td>\n      <td>1</td>\n      <td>1</td>\n      <td>1</td>\n      <td>1</td>\n      <td>1</td>\n      <td>1</td>\n      <td>1</td>\n      <td>...</td>\n      <td>1</td>\n      <td>1</td>\n      <td>1</td>\n      <td>1</td>\n      <td>1</td>\n      <td>1</td>\n      <td>1</td>\n      <td>1</td>\n      <td>1</td>\n      <td>1</td>\n    </tr>\n    <tr>\n      <th rowspan=\"3\" valign=\"top\">2019</th>\n      <th>6</th>\n      <th>24</th>\n      <th>1</th>\n      <td>1</td>\n      <td>1</td>\n      <td>1</td>\n      <td>1</td>\n      <td>1</td>\n      <td>1</td>\n      <td>1</td>\n      <td>1</td>\n      <td>1</td>\n      <td>1</td>\n      <td>...</td>\n      <td>1</td>\n      <td>1</td>\n      <td>1</td>\n      <td>1</td>\n      <td>1</td>\n      <td>1</td>\n      <td>1</td>\n      <td>1</td>\n      <td>1</td>\n      <td>1</td>\n    </tr>\n    <tr>\n      <th>10</th>\n      <th>41</th>\n      <th>0</th>\n      <td>1</td>\n      <td>1</td>\n      <td>1</td>\n      <td>1</td>\n      <td>1</td>\n      <td>1</td>\n      <td>1</td>\n      <td>1</td>\n      <td>1</td>\n      <td>1</td>\n      <td>...</td>\n      <td>1</td>\n      <td>1</td>\n      <td>1</td>\n      <td>1</td>\n      <td>1</td>\n      <td>1</td>\n      <td>1</td>\n      <td>1</td>\n      <td>1</td>\n      <td>1</td>\n    </tr>\n    <tr>\n      <th>11</th>\n      <th>48</th>\n      <th>2</th>\n      <td>1</td>\n      <td>1</td>\n      <td>1</td>\n      <td>1</td>\n      <td>1</td>\n      <td>1</td>\n      <td>1</td>\n      <td>1</td>\n      <td>1</td>\n      <td>1</td>\n      <td>...</td>\n      <td>1</td>\n      <td>1</td>\n      <td>1</td>\n      <td>1</td>\n      <td>1</td>\n      <td>1</td>\n      <td>1</td>\n      <td>1</td>\n      <td>1</td>\n      <td>1</td>\n    </tr>\n    <tr>\n      <th rowspan=\"3\" valign=\"top\">2020</th>\n      <th rowspan=\"3\" valign=\"top\">1</th>\n      <th rowspan=\"2\" valign=\"top\">3</th>\n      <th>2</th>\n      <td>1</td>\n      <td>1</td>\n      <td>1</td>\n      <td>1</td>\n      <td>1</td>\n      <td>1</td>\n      <td>1</td>\n      <td>1</td>\n      <td>1</td>\n      <td>1</td>\n      <td>...</td>\n      <td>1</td>\n      <td>1</td>\n      <td>1</td>\n      <td>1</td>\n      <td>1</td>\n      <td>1</td>\n      <td>1</td>\n      <td>1</td>\n      <td>1</td>\n      <td>1</td>\n    </tr>\n    <tr>\n      <th>0</th>\n      <td>1</td>\n      <td>1</td>\n      <td>1</td>\n      <td>1</td>\n      <td>1</td>\n      <td>1</td>\n      <td>1</td>\n      <td>1</td>\n      <td>1</td>\n      <td>1</td>\n      <td>...</td>\n      <td>1</td>\n      <td>1</td>\n      <td>1</td>\n      <td>1</td>\n      <td>1</td>\n      <td>1</td>\n      <td>1</td>\n      <td>1</td>\n      <td>1</td>\n      <td>1</td>\n    </tr>\n    <tr>\n      <th>2</th>\n      <th>2</th>\n      <td>1</td>\n      <td>1</td>\n      <td>1</td>\n      <td>1</td>\n      <td>1</td>\n      <td>1</td>\n      <td>1</td>\n      <td>1</td>\n      <td>1</td>\n      <td>1</td>\n      <td>...</td>\n      <td>1</td>\n      <td>1</td>\n      <td>1</td>\n      <td>1</td>\n      <td>1</td>\n      <td>1</td>\n      <td>1</td>\n      <td>1</td>\n      <td>1</td>\n      <td>1</td>\n    </tr>\n    <tr>\n      <th rowspan=\"10\" valign=\"top\">2019</th>\n      <th>6</th>\n      <th>24</th>\n      <th>0</th>\n      <td>1</td>\n      <td>1</td>\n      <td>1</td>\n      <td>1</td>\n      <td>1</td>\n      <td>1</td>\n      <td>1</td>\n      <td>1</td>\n      <td>1</td>\n      <td>1</td>\n      <td>...</td>\n      <td>1</td>\n      <td>1</td>\n      <td>1</td>\n      <td>1</td>\n      <td>1</td>\n      <td>1</td>\n      <td>1</td>\n      <td>1</td>\n      <td>1</td>\n      <td>1</td>\n    </tr>\n    <tr>\n      <th rowspan=\"2\" valign=\"top\">11</th>\n      <th>45</th>\n      <th>3</th>\n      <td>1</td>\n      <td>1</td>\n      <td>1</td>\n      <td>1</td>\n      <td>1</td>\n      <td>1</td>\n      <td>1</td>\n      <td>1</td>\n      <td>1</td>\n      <td>1</td>\n      <td>...</td>\n      <td>1</td>\n      <td>1</td>\n      <td>1</td>\n      <td>1</td>\n      <td>1</td>\n      <td>1</td>\n      <td>1</td>\n      <td>1</td>\n      <td>1</td>\n      <td>1</td>\n    </tr>\n    <tr>\n      <th>46</th>\n      <th>4</th>\n      <td>1</td>\n      <td>1</td>\n      <td>1</td>\n      <td>1</td>\n      <td>1</td>\n      <td>1</td>\n      <td>1</td>\n      <td>1</td>\n      <td>1</td>\n      <td>1</td>\n      <td>...</td>\n      <td>1</td>\n      <td>1</td>\n      <td>1</td>\n      <td>1</td>\n      <td>1</td>\n      <td>1</td>\n      <td>1</td>\n      <td>1</td>\n      <td>1</td>\n      <td>1</td>\n    </tr>\n    <tr>\n      <th rowspan=\"6\" valign=\"top\">12</th>\n      <th rowspan=\"3\" valign=\"top\">51</th>\n      <th>2</th>\n      <td>1</td>\n      <td>1</td>\n      <td>1</td>\n      <td>1</td>\n      <td>1</td>\n      <td>1</td>\n      <td>1</td>\n      <td>1</td>\n      <td>1</td>\n      <td>1</td>\n      <td>...</td>\n      <td>1</td>\n      <td>1</td>\n      <td>1</td>\n      <td>1</td>\n      <td>1</td>\n      <td>1</td>\n      <td>1</td>\n      <td>1</td>\n      <td>1</td>\n      <td>1</td>\n    </tr>\n    <tr>\n      <th>1</th>\n      <td>1</td>\n      <td>1</td>\n      <td>1</td>\n      <td>1</td>\n      <td>1</td>\n      <td>1</td>\n      <td>1</td>\n      <td>1</td>\n      <td>1</td>\n      <td>1</td>\n      <td>...</td>\n      <td>1</td>\n      <td>1</td>\n      <td>1</td>\n      <td>1</td>\n      <td>1</td>\n      <td>1</td>\n      <td>1</td>\n      <td>1</td>\n      <td>1</td>\n      <td>1</td>\n    </tr>\n    <tr>\n      <th>0</th>\n      <td>1</td>\n      <td>1</td>\n      <td>1</td>\n      <td>1</td>\n      <td>1</td>\n      <td>1</td>\n      <td>1</td>\n      <td>1</td>\n      <td>1</td>\n      <td>1</td>\n      <td>...</td>\n      <td>1</td>\n      <td>1</td>\n      <td>1</td>\n      <td>1</td>\n      <td>1</td>\n      <td>1</td>\n      <td>1</td>\n      <td>1</td>\n      <td>1</td>\n      <td>1</td>\n    </tr>\n    <tr>\n      <th>50</th>\n      <th>2</th>\n      <td>1</td>\n      <td>1</td>\n      <td>1</td>\n      <td>1</td>\n      <td>1</td>\n      <td>1</td>\n      <td>1</td>\n      <td>1</td>\n      <td>1</td>\n      <td>1</td>\n      <td>...</td>\n      <td>1</td>\n      <td>1</td>\n      <td>1</td>\n      <td>1</td>\n      <td>1</td>\n      <td>1</td>\n      <td>1</td>\n      <td>1</td>\n      <td>1</td>\n      <td>1</td>\n    </tr>\n    <tr>\n      <th rowspan=\"2\" valign=\"top\">49</th>\n      <th>4</th>\n      <td>1</td>\n      <td>1</td>\n      <td>1</td>\n      <td>1</td>\n      <td>1</td>\n      <td>1</td>\n      <td>1</td>\n      <td>1</td>\n      <td>1</td>\n      <td>1</td>\n      <td>...</td>\n      <td>1</td>\n      <td>1</td>\n      <td>1</td>\n      <td>1</td>\n      <td>1</td>\n      <td>1</td>\n      <td>1</td>\n      <td>1</td>\n      <td>1</td>\n      <td>1</td>\n    </tr>\n    <tr>\n      <th>1</th>\n      <td>1</td>\n      <td>1</td>\n      <td>1</td>\n      <td>1</td>\n      <td>1</td>\n      <td>1</td>\n      <td>1</td>\n      <td>1</td>\n      <td>1</td>\n      <td>1</td>\n      <td>...</td>\n      <td>1</td>\n      <td>1</td>\n      <td>1</td>\n      <td>1</td>\n      <td>1</td>\n      <td>1</td>\n      <td>1</td>\n      <td>1</td>\n      <td>1</td>\n      <td>1</td>\n    </tr>\n    <tr>\n      <th>5</th>\n      <th>22</th>\n      <th>0</th>\n      <td>1</td>\n      <td>1</td>\n      <td>1</td>\n      <td>1</td>\n      <td>1</td>\n      <td>1</td>\n      <td>1</td>\n      <td>1</td>\n      <td>1</td>\n      <td>1</td>\n      <td>...</td>\n      <td>1</td>\n      <td>1</td>\n      <td>1</td>\n      <td>1</td>\n      <td>1</td>\n      <td>1</td>\n      <td>1</td>\n      <td>1</td>\n      <td>1</td>\n      <td>1</td>\n    </tr>\n  </tbody>\n</table>\n<p>38 rows × 27 columns</p>\n</div>"
     },
     "metadata": {},
     "execution_count": 29
    }
   ],
   "source": [
    "test.groupby([\"year\",\"month\",\"week\",\"day_of_week\"]).count().sort_values(by=\"pm2_5\", ascending=False).head(50)"
   ]
  },
  {
   "cell_type": "code",
   "execution_count": 63,
   "metadata": {},
   "outputs": [
    {
     "output_type": "execute_result",
     "data": {
      "text/plain": [
       "                         geometry  pm2_5      recording_time\n",
       "1   POINT (136999.471 457459.611)      2 2019-05-27 13:01:46\n",
       "2   POINT (136990.863 457464.315)      2 2019-05-27 13:02:08\n",
       "3   POINT (137018.074 457443.077)      3 2019-05-27 13:02:41\n",
       "4   POINT (137046.171 457425.953)      2 2019-05-27 13:04:09\n",
       "5   POINT (136971.246 457478.850)      2 2019-05-27 13:08:33\n",
       "6   POINT (136998.079 457445.931)      2 2019-05-27 13:08:44\n",
       "7   POINT (136986.278 457471.563)      2 2019-05-27 13:08:55\n",
       "8   POINT (137009.068 457440.105)      2 2019-05-27 13:09:06\n",
       "9   POINT (136982.417 457477.919)      2 2019-05-27 13:09:22\n",
       "10  POINT (136960.881 457494.130)      2 2019-05-27 13:10:30"
      ],
      "text/html": "<div>\n<style scoped>\n    .dataframe tbody tr th:only-of-type {\n        vertical-align: middle;\n    }\n\n    .dataframe tbody tr th {\n        vertical-align: top;\n    }\n\n    .dataframe thead th {\n        text-align: right;\n    }\n</style>\n<table border=\"1\" class=\"dataframe\">\n  <thead>\n    <tr style=\"text-align: right;\">\n      <th></th>\n      <th>geometry</th>\n      <th>pm2_5</th>\n      <th>recording_time</th>\n    </tr>\n  </thead>\n  <tbody>\n    <tr>\n      <th>1</th>\n      <td>POINT (136999.471 457459.611)</td>\n      <td>2</td>\n      <td>2019-05-27 13:01:46</td>\n    </tr>\n    <tr>\n      <th>2</th>\n      <td>POINT (136990.863 457464.315)</td>\n      <td>2</td>\n      <td>2019-05-27 13:02:08</td>\n    </tr>\n    <tr>\n      <th>3</th>\n      <td>POINT (137018.074 457443.077)</td>\n      <td>3</td>\n      <td>2019-05-27 13:02:41</td>\n    </tr>\n    <tr>\n      <th>4</th>\n      <td>POINT (137046.171 457425.953)</td>\n      <td>2</td>\n      <td>2019-05-27 13:04:09</td>\n    </tr>\n    <tr>\n      <th>5</th>\n      <td>POINT (136971.246 457478.850)</td>\n      <td>2</td>\n      <td>2019-05-27 13:08:33</td>\n    </tr>\n    <tr>\n      <th>6</th>\n      <td>POINT (136998.079 457445.931)</td>\n      <td>2</td>\n      <td>2019-05-27 13:08:44</td>\n    </tr>\n    <tr>\n      <th>7</th>\n      <td>POINT (136986.278 457471.563)</td>\n      <td>2</td>\n      <td>2019-05-27 13:08:55</td>\n    </tr>\n    <tr>\n      <th>8</th>\n      <td>POINT (137009.068 457440.105)</td>\n      <td>2</td>\n      <td>2019-05-27 13:09:06</td>\n    </tr>\n    <tr>\n      <th>9</th>\n      <td>POINT (136982.417 457477.919)</td>\n      <td>2</td>\n      <td>2019-05-27 13:09:22</td>\n    </tr>\n    <tr>\n      <th>10</th>\n      <td>POINT (136960.881 457494.130)</td>\n      <td>2</td>\n      <td>2019-05-27 13:10:30</td>\n    </tr>\n  </tbody>\n</table>\n</div>"
     },
     "metadata": {},
     "execution_count": 63
    }
   ],
   "source": [
    "test = frame[[\"geometry\",\"pm2_5\",\"recording_time\"]][1:11]\n",
    "test= gpd.GeoDataFrame(test)\n",
    "test = test.to_crs(\"EPSG:28992\")\n",
    "test"
   ]
  },
  {
   "cell_type": "code",
   "execution_count": 67,
   "metadata": {},
   "outputs": [
    {
     "output_type": "execute_result",
     "data": {
      "text/plain": [
       "                         geometry  pm2_5      recording_time\n",
       "1                            None    NaN                 NaT\n",
       "2   POINT (136999.471 457459.611)    2.0 2019-05-27 13:01:46\n",
       "3   POINT (136990.863 457464.315)    2.0 2019-05-27 13:02:08\n",
       "4   POINT (137018.074 457443.077)    3.0 2019-05-27 13:02:41\n",
       "5   POINT (137046.171 457425.953)    2.0 2019-05-27 13:04:09\n",
       "6   POINT (136971.246 457478.850)    2.0 2019-05-27 13:08:33\n",
       "7   POINT (136998.079 457445.931)    2.0 2019-05-27 13:08:44\n",
       "8   POINT (136986.278 457471.563)    2.0 2019-05-27 13:08:55\n",
       "9   POINT (137009.068 457440.105)    2.0 2019-05-27 13:09:06\n",
       "10  POINT (136982.417 457477.919)    2.0 2019-05-27 13:09:22"
      ],
      "text/html": "<div>\n<style scoped>\n    .dataframe tbody tr th:only-of-type {\n        vertical-align: middle;\n    }\n\n    .dataframe tbody tr th {\n        vertical-align: top;\n    }\n\n    .dataframe thead th {\n        text-align: right;\n    }\n</style>\n<table border=\"1\" class=\"dataframe\">\n  <thead>\n    <tr style=\"text-align: right;\">\n      <th></th>\n      <th>geometry</th>\n      <th>pm2_5</th>\n      <th>recording_time</th>\n    </tr>\n  </thead>\n  <tbody>\n    <tr>\n      <th>1</th>\n      <td>None</td>\n      <td>NaN</td>\n      <td>NaT</td>\n    </tr>\n    <tr>\n      <th>2</th>\n      <td>POINT (136999.471 457459.611)</td>\n      <td>2.0</td>\n      <td>2019-05-27 13:01:46</td>\n    </tr>\n    <tr>\n      <th>3</th>\n      <td>POINT (136990.863 457464.315)</td>\n      <td>2.0</td>\n      <td>2019-05-27 13:02:08</td>\n    </tr>\n    <tr>\n      <th>4</th>\n      <td>POINT (137018.074 457443.077)</td>\n      <td>3.0</td>\n      <td>2019-05-27 13:02:41</td>\n    </tr>\n    <tr>\n      <th>5</th>\n      <td>POINT (137046.171 457425.953)</td>\n      <td>2.0</td>\n      <td>2019-05-27 13:04:09</td>\n    </tr>\n    <tr>\n      <th>6</th>\n      <td>POINT (136971.246 457478.850)</td>\n      <td>2.0</td>\n      <td>2019-05-27 13:08:33</td>\n    </tr>\n    <tr>\n      <th>7</th>\n      <td>POINT (136998.079 457445.931)</td>\n      <td>2.0</td>\n      <td>2019-05-27 13:08:44</td>\n    </tr>\n    <tr>\n      <th>8</th>\n      <td>POINT (136986.278 457471.563)</td>\n      <td>2.0</td>\n      <td>2019-05-27 13:08:55</td>\n    </tr>\n    <tr>\n      <th>9</th>\n      <td>POINT (137009.068 457440.105)</td>\n      <td>2.0</td>\n      <td>2019-05-27 13:09:06</td>\n    </tr>\n    <tr>\n      <th>10</th>\n      <td>POINT (136982.417 457477.919)</td>\n      <td>2.0</td>\n      <td>2019-05-27 13:09:22</td>\n    </tr>\n  </tbody>\n</table>\n</div>"
     },
     "metadata": {},
     "execution_count": 67
    }
   ],
   "source": [
    "sh = test.shift(1)\n",
    "sh"
   ]
  },
  {
   "cell_type": "code",
   "execution_count": 68,
   "metadata": {},
   "outputs": [
    {
     "output_type": "execute_result",
     "data": {
      "text/plain": [
       "1                NaT\n",
       "2    0 days 00:00:22\n",
       "3    0 days 00:00:33\n",
       "4    0 days 00:01:28\n",
       "5    0 days 00:04:24\n",
       "6    0 days 00:00:11\n",
       "7    0 days 00:00:11\n",
       "8    0 days 00:00:11\n",
       "9    0 days 00:00:16\n",
       "10   0 days 00:01:08\n",
       "Name: recording_time, dtype: timedelta64[ns]"
      ]
     },
     "metadata": {},
     "execution_count": 68
    }
   ],
   "source": [
    "test[\"recording_time\"]-sh[\"recording_time\"]"
   ]
  },
  {
   "cell_type": "code",
   "execution_count": 65,
   "metadata": {},
   "outputs": [
    {
     "output_type": "execute_result",
     "data": {
      "text/plain": [
       "1           NaN\n",
       "2      9.809999\n",
       "3     34.518211\n",
       "4     32.903768\n",
       "5     91.716105\n",
       "6     42.469771\n",
       "7     28.218608\n",
       "8     38.845397\n",
       "9     46.261891\n",
       "10    26.955309\n",
       "dtype: float64"
      ]
     },
     "metadata": {},
     "execution_count": 65
    }
   ],
   "source": [
    "test.distance(test.shift(1))"
   ]
  },
  {
   "cell_type": "code",
   "execution_count": 66,
   "metadata": {},
   "outputs": [
    {
     "output_type": "execute_result",
     "data": {
      "text/plain": [
       "1           NaN\n",
       "2      9.809999\n",
       "3     34.518211\n",
       "4     32.903768\n",
       "5     91.716105\n",
       "6     42.469771\n",
       "7     28.218608\n",
       "8     38.845397\n",
       "9     46.261891\n",
       "10    26.955309\n",
       "dtype: float64"
      ]
     },
     "metadata": {},
     "execution_count": 66
    }
   ],
   "source": [
    "test.shift(1).distance(test)"
   ]
  },
  {
   "cell_type": "code",
   "execution_count": 39,
   "metadata": {},
   "outputs": [
    {
     "output_type": "execute_result",
     "data": {
      "text/plain": [
       "0.23881324311040095"
      ]
     },
     "metadata": {},
     "execution_count": 39
    }
   ],
   "source": [
    "(frame[\"avg_speed_ms\"]<1.4).sum()/((frame[\"avg_speed_ms\"]).count())"
   ]
  },
  {
   "cell_type": "code",
   "execution_count": 38,
   "metadata": {},
   "outputs": [
    {
     "output_type": "execute_result",
     "data": {
      "text/plain": [
       "2838155"
      ]
     },
     "metadata": {},
     "execution_count": 38
    }
   ],
   "source": []
  },
  {
   "cell_type": "code",
   "execution_count": null,
   "metadata": {},
   "outputs": [],
   "source": []
  }
 ]
}